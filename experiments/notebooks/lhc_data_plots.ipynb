{
 "cells": [
  {
   "cell_type": "markdown",
   "metadata": {},
   "source": [
    "# Explore LHC dataset"
   ]
  },
  {
   "cell_type": "code",
   "execution_count": null,
   "metadata": {
    "collapsed": true
   },
   "outputs": [],
   "source": [
    "%matplotlib inline\n",
    "\n",
    "import sys\n",
    "import numpy as np\n",
    "import matplotlib\n",
    "from matplotlib import pyplot as plt\n",
    "import corner\n",
    "import logging\n",
    "from sklearn.manifold import TSNE\n",
    "from sklearn.decomposition import PCA\n",
    "\n",
    "logging.basicConfig(\n",
    "    format=\"%(asctime)-5.5s %(name)-30.30s %(levelname)-7.7s %(message)s\",\n",
    "    datefmt=\"%H:%M\",\n",
    "    level=logging.INFO,\n",
    ")\n",
    "\n",
    "sys.path.append(\"../../\")\n",
    "from experiments.datasets import WBFLoader, WBF40DLoader\n"
   ]
  },
  {
   "cell_type": "markdown",
   "metadata": {},
   "source": [
    "## Get data"
   ]
  },
  {
   "cell_type": "code",
   "execution_count": null,
   "metadata": {
    "collapsed": true
   },
   "outputs": [],
   "source": [
    "n = 100000"
   ]
  },
  {
   "cell_type": "code",
   "execution_count": null,
   "metadata": {},
   "outputs": [],
   "source": [
    "sim = WBFLoader()\n",
    "sim40d = WBF40DLoader()"
   ]
  },
  {
   "cell_type": "code",
   "execution_count": null,
   "metadata": {},
   "outputs": [],
   "source": [
    "x, params = sim.load_dataset(train=True, dataset_dir=\"../data/samples/lhc\", numpy=True, limit_samplesize=n)\n",
    "x_ = sim._preprocess(x, inverse=True)\n",
    "x_noise = np.random.normal(size=x.shape)\n",
    "\n",
    "x40d, _ = sim40d.load_dataset(train=True, dataset_dir=\"../data/samples/lhc40d\", numpy=True, limit_samplesize=n)\n",
    "x40d_noise = np.random.normal(size=x40d.shape)\n",
    "\n",
    "x40d_test, _ = sim40d.load_dataset(train=False, dataset_dir=\"../data/samples/lhc40d\", numpy=True, limit_samplesize=n)\n",
    "x40d_model = np.load(\"../data/results/mf_14_lhc40d_sequential_may_samples.npy\")\n"
   ]
  },
  {
   "cell_type": "markdown",
   "metadata": {},
   "source": [
    "## PCA"
   ]
  },
  {
   "cell_type": "code",
   "execution_count": null,
   "metadata": {
    "collapsed": true
   },
   "outputs": [],
   "source": [
    "pca = PCA(n_components=48)\n",
    "pca.fit(x)\n",
    "\n",
    "explained_var = pca.explained_variance_ratio_\n"
   ]
  },
  {
   "cell_type": "code",
   "execution_count": null,
   "metadata": {
    "collapsed": true
   },
   "outputs": [],
   "source": [
    "plt.figure(figsize=(5,5))\n",
    "\n",
    "plt.plot(np.arange(1, 48.5), explained_var, ls=\" \", marker=\"o\", ms=5.)\n",
    "\n",
    "plt.ylim(0.,None)\n",
    "plt.xlabel(\"PCA component\")\n",
    "plt.ylabel(\"Explained variance ratio\")\n",
    "\n",
    "plt.tight_layout()\n",
    "plt.show()\n"
   ]
  },
  {
   "cell_type": "markdown",
   "metadata": {},
   "source": [
    "## t-SNE"
   ]
  },
  {
   "cell_type": "code",
   "execution_count": null,
   "metadata": {
    "collapsed": true
   },
   "outputs": [],
   "source": [
    "x_tsne = TSNE(n_components=2, verbose=1, perplexity=40, n_iter=1000).fit_transform(x)\n",
    "noise_tsne = TSNE(n_components=2, verbose=1, perplexity=40, n_iter=1000).fit_transform(x_noise)\n"
   ]
  },
  {
   "cell_type": "code",
   "execution_count": null,
   "metadata": {
    "collapsed": true
   },
   "outputs": [],
   "source": [
    "x_reshuffled = np.copy(x)\n",
    "idx = np.random.rand(*x_reshuffled.shape).argsort(0)\n",
    "x_reshuffled = x_reshuffled[idx, np.arange(x_reshuffled.shape[1])]\n",
    "\n",
    "x_reshuffled_tsne = TSNE(n_components=2, verbose=1, perplexity=40, n_iter=1000).fit_transform(x_reshuffled)\n"
   ]
  },
  {
   "cell_type": "code",
   "execution_count": null,
   "metadata": {
    "collapsed": true
   },
   "outputs": [],
   "source": [
    "plt.figure(figsize=(12, 4))\n",
    "\n",
    "ax = plt.subplot(1,3,1)\n",
    "plt.scatter(\n",
    "    x_tsne[x[:,16]>0.][:, 0],\n",
    "    x_tsne[x[:,16]>0.][:, 1],\n",
    "    s=12.0,\n",
    "    alpha=0.15,\n",
    "    c=\"C0\"\n",
    ")\n",
    "plt.scatter(\n",
    "    x_tsne[x[:,16]<0.][:, 0],\n",
    "    x_tsne[x[:,16]<0.][:, 1],\n",
    "    s=12.0,\n",
    "    alpha=0.15,\n",
    "    c=\"C1\"\n",
    ")\n",
    "plt.xlabel(\"t-SNE component 0\")\n",
    "plt.ylabel(\"t-SNE component 1\")\n",
    "\n",
    "ax = plt.subplot(1,3,2)\n",
    "plt.scatter(\n",
    "    x_reshuffled_tsne[:, 0],\n",
    "    x_reshuffled_tsne[:, 1],\n",
    "    s=12.0,\n",
    "    alpha=0.15,\n",
    "    c=\"C2\"\n",
    ")\n",
    "plt.xlabel(\"t-SNE component 0\")\n",
    "plt.ylabel(\"t-SNE component 1\")\n",
    "\n",
    "ax = plt.subplot(1,3,3)\n",
    "plt.scatter(\n",
    "    noise_tsne[:, 0],\n",
    "    noise_tsne[:, 1],\n",
    "    s=12.0,\n",
    "    alpha=0.15,\n",
    "    c=\"C4\"\n",
    ")\n",
    "plt.xlabel(\"t-SNE component 0\")\n",
    "plt.ylabel(\"t-SNE component 1\")\n",
    "\n",
    "plt.tight_layout()\n",
    "plt.savefig(\"../figures/lhc_tsne.pdf\")"
   ]
  },
  {
   "cell_type": "code",
   "execution_count": null,
   "metadata": {
    "collapsed": true
   },
   "outputs": [],
   "source": [
    "npanels = 48\n",
    "ncols = 6\n",
    "nrows = (npanels - 1) // ncols + 1\n",
    "\n",
    "plt.figure(figsize=(ncols * 3, nrows * 3))\n",
    "\n",
    "for i in range(npanels):\n",
    "    ax = plt.subplot(nrows,ncols,i+1)\n",
    "    plt.scatter(\n",
    "        x_tsne[x[:,i]>0.][:250, 0],\n",
    "        x_tsne[x[:,i]>0.][:250, 1],\n",
    "        s=12.0,\n",
    "        c=\"C0\"\n",
    "    )\n",
    "    plt.scatter(\n",
    "        x_tsne[x[:,i]<0.][:250, 0],\n",
    "        x_tsne[x[:,i]<0.][:250, 1],\n",
    "        s=12.0,\n",
    "        c=\"C1\"\n",
    "    )\n",
    "    plt.title(\"Feature {}\".format(i))\n",
    "    plt.xlabel(\"t-SNE 0\")\n",
    "    plt.ylabel(\"t-SNE 1\")\n",
    "\n",
    "plt.tight_layout()\n",
    "plt.savefig(\"../figures/lhc_tsne_features.pdf\")"
   ]
  },
  {
   "cell_type": "markdown",
   "metadata": {},
   "source": [
    "## Determine weights for individual closure tests"
   ]
  },
  {
   "cell_type": "code",
   "execution_count": null,
   "metadata": {
    "collapsed": true
   },
   "outputs": [],
   "source": [
    "random_closure_tests = np.mean(sim._closure_tests(x_noise), axis=1)\n",
    "CLOSURE_TEST_WEIGHTS = 1. / random_closure_tests\n",
    "print(\", \".join([str(w) for w in CLOSURE_TEST_WEIGHTS]))"
   ]
  },
  {
   "cell_type": "markdown",
   "metadata": {},
   "source": [
    "## Closure test vs noise"
   ]
  },
  {
   "cell_type": "code",
   "execution_count": null,
   "metadata": {
    "collapsed": true
   },
   "outputs": [],
   "source": [
    "np.mean(sim.distance_from_manifold(x)), np.mean(sim.distance_from_manifold(x_noise))"
   ]
  },
  {
   "cell_type": "code",
   "execution_count": null,
   "metadata": {
    "collapsed": true
   },
   "outputs": [],
   "source": [
    "np.mean(sim40d.distance_from_manifold(x40d)), np.mean(sim40d.distance_from_manifold(x40d_noise))"
   ]
  },
  {
   "cell_type": "code",
   "execution_count": null,
   "metadata": {
    "collapsed": true
   },
   "outputs": [],
   "source": [
    "noises = np.geomspace(1.e-9, 1., 100)\n",
    "\n",
    "closure = []\n",
    "\n",
    "for noise in noises:\n",
    "    closure.append(np.mean(sim.distance_from_manifold(x + noise * np.random.normal(size=x.shape))))"
   ]
  },
  {
   "cell_type": "code",
   "execution_count": null,
   "metadata": {
    "collapsed": true
   },
   "outputs": [],
   "source": [
    "plt.figure(figsize=(5,5))\n",
    "\n",
    "plt.plot(noises, closure)\n",
    "\n",
    "plt.xscale(\"log\")\n",
    "plt.yscale(\"log\")\n",
    "\n",
    "plt.xlabel(\"Noise\")\n",
    "plt.ylabel(\"Mean closure\")\n",
    "\n",
    "plt.tight_layout()\n",
    "plt.savefig(\"../figures/lhc_closure_vs_noise.pdf\")\n"
   ]
  },
  {
   "cell_type": "markdown",
   "metadata": {},
   "source": [
    "## Marginals"
   ]
  },
  {
   "cell_type": "code",
   "execution_count": null,
   "metadata": {},
   "outputs": [],
   "source": [
    "ncols = 8\n",
    "nrows = 5\n",
    "\n",
    "fig = plt.figure(figsize=(2*ncols, 2*nrows))\n",
    "\n",
    "for i in range(40):\n",
    "    ax = plt.subplot(nrows, ncols, i+1)\n",
    "    plt.hist(\n",
    "        x40d[:,i], range=(-5,5), bins=50, density=True,\n",
    "        histtype=\"step\", color=\"C0\", ls=\"-\", lw=1.5, label=\"Train\"\n",
    "    )\n",
    "    plt.hist(\n",
    "        x40d_test[:,i], range=(-5,5), bins=50, density=True,\n",
    "        histtype=\"step\", color=\"C1\", ls=\"-\", lw=1.5, label=\"Test\"\n",
    "    )\n",
    "    plt.hist(\n",
    "        x40d_model[:,i], range=(-5,5), bins=50, density=True,\n",
    "        histtype=\"step\", color=\"C3\", ls=\"-\", lw=1.5, label=\"MFMF\"\n",
    "    )\n",
    "    \n",
    "    if i == 0:\n",
    "        plt.legend()\n",
    "    \n",
    "    ax.get_xaxis().set_ticks([])\n",
    "    ax.get_yaxis().set_ticks([])\n",
    "    \n",
    "plt.tight_layout()\n",
    "plt.savefig(\"../figures/lhc_features_histos.pdf\")\n"
   ]
  },
  {
   "cell_type": "markdown",
   "metadata": {},
   "source": [
    "## Scatter plots of features"
   ]
  },
  {
   "cell_type": "code",
   "execution_count": null,
   "metadata": {},
   "outputs": [],
   "source": [
    "features = list(range(40))\n",
    "n = len(features)\n",
    "m = 200\n",
    "\n",
    "fig = plt.figure(figsize=(1*(n-1), 1*(n-1)))\n",
    "for ip, i in enumerate(features[1:]):\n",
    "    for jp in range(ip):\n",
    "        j = features[jp]\n",
    "        ax = plt.subplot(n-1, n-1, ip*(n-1) + jp + 1)\n",
    "        plt.scatter(x40d[:m,j], x40d[:m,i], s=2., c=\"C0\", rasterized=True)\n",
    "        plt.scatter(x40d_test[:m,j], x40d_test[:m,i], s=2., c=\"C1\", rasterized=True)\n",
    "        plt.scatter(x40d_model[:m,j], x40d_model[:m,i], s=2., c=\"C3\", rasterized=True)\n",
    "        ax.get_xaxis().set_ticks([])\n",
    "        ax.get_yaxis().set_ticks([])\n",
    "        plt.xlim(-2.5,2.5)\n",
    "        plt.ylim(-2.5,2.5)\n",
    "        \n",
    "        if ip == n - 2:\n",
    "            plt.xlabel(str(j))\n",
    "        if jp == 0:\n",
    "            plt.ylabel(str(i))\n",
    "        \n",
    "plt.tight_layout()\n",
    "plt.savefig(\"../figures/lhc_features_scatter.pdf\")\n"
   ]
  },
  {
   "cell_type": "code",
   "execution_count": null,
   "metadata": {
    "collapsed": true
   },
   "outputs": [],
   "source": []
  }
 ],
 "metadata": {
  "kernelspec": {
   "display_name": "Python (ML)",
   "language": "python",
   "name": "ml"
  },
  "language_info": {
   "codemirror_mode": {
    "name": "ipython",
    "version": 3
   },
   "file_extension": ".py",
   "mimetype": "text/x-python",
   "name": "python",
   "nbconvert_exporter": "python",
   "pygments_lexer": "ipython3",
   "version": "3.6.8"
  }
 },
 "nbformat": 4,
 "nbformat_minor": 2
}
