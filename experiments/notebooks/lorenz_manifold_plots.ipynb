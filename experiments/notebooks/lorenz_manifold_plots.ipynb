{
 "cells": [
  {
   "cell_type": "markdown",
   "metadata": {},
   "source": [
    "# Lorenz system: manifold plots"
   ]
  },
  {
   "cell_type": "code",
   "execution_count": 1,
   "metadata": {},
   "outputs": [],
   "source": [
    "%matplotlib osx\n",
    "\n",
    "import sys\n",
    "import numpy as np\n",
    "import matplotlib\n",
    "import torch\n",
    "import logging\n",
    "import pickle\n",
    "from tqdm import tqdm\n",
    "from scipy.spatial import cKDTree\n",
    "\n",
    "from matplotlib import pyplot as plt, cm\n",
    "from matplotlib.collections import PolyCollection\n",
    "from matplotlib.tri import Triangulation\n",
    "from matplotlib.colors import LightSource\n",
    "from mpl_toolkits.mplot3d import Axes3D\n",
    "from mpl_toolkits.mplot3d.art3d import Poly3DCollection\n",
    "\n",
    "sys.path.append(\"../../\")\n",
    "from experiments.datasets import LorenzSimulator\n",
    "from experiments.architectures.vector_transforms import create_vector_transform\n",
    "from manifold_flow.flows import ManifoldFlow\n",
    "import plot_settings as ps\n",
    "\n",
    "logging.basicConfig(\n",
    "    format=\"%(asctime)-5.5s %(name)-30.30s %(levelname)-7.7s %(message)s\",\n",
    "    datefmt=\"%H:%M\",\n",
    "    level=logging.DEBUG,\n",
    ")\n",
    "for key in logging.Logger.manager.loggerDict:\n",
    "    if \"experiments\" not in key and \"manifold_flow\" not in key:\n",
    "        logging.getLogger(key).setLevel(logging.WARNING)"
   ]
  },
  {
   "cell_type": "code",
   "execution_count": 2,
   "metadata": {},
   "outputs": [],
   "source": [
    "# ps.setup()"
   ]
  },
  {
   "cell_type": "markdown",
   "metadata": {},
   "source": [
    "## Options"
   ]
  },
  {
   "cell_type": "code",
   "execution_count": 10,
   "metadata": {},
   "outputs": [],
   "source": [
    "mode = \"sample\""
   ]
  },
  {
   "cell_type": "markdown",
   "metadata": {},
   "source": [
    "## Set up simulator"
   ]
  },
  {
   "cell_type": "code",
   "execution_count": 11,
   "metadata": {},
   "outputs": [],
   "source": [
    "sim = LorenzSimulator(random_trajectories=10)\n"
   ]
  },
  {
   "cell_type": "markdown",
   "metadata": {},
   "source": [
    "## Load flows"
   ]
  },
  {
   "cell_type": "code",
   "execution_count": 12,
   "metadata": {},
   "outputs": [
    {
     "name": "stderr",
     "output_type": "stream",
     "text": [
      "09:41 manifold_flow.transforms.proje DEBUG   Set up projection from vector with dimension 3 to vector with dimension 2\n",
      "09:41 manifold_flow.flows.base       DEBUG   Flow has 0.4 M parameters (0.4 M trainable) with an estimated size of 1.7 MB\n",
      "09:41 manifold_flow.flows.manifold_f DEBUG     Outer transform: 0.2 M parameters\n",
      "09:41 manifold_flow.flows.manifold_f DEBUG     Inner transform: 0.2 M parameters\n"
     ]
    }
   ],
   "source": [
    "def load_model(filename):\n",
    "    outer_transform = create_vector_transform(\n",
    "        3,\n",
    "        5,\n",
    "        #linear_transform_type=\"permutation\",\n",
    "        linear_transform_type=\"lu\",\n",
    "        base_transform_type=\"rq-coupling\",\n",
    "        context_features=None,\n",
    "        dropout_probability=0.,\n",
    "        tail_bound=10., # 3.,\n",
    "        num_bins=5,\n",
    "    )\n",
    "    inner_transform = create_vector_transform(\n",
    "        2,\n",
    "        5,\n",
    "        #linear_transform_type=\"permutation\",\n",
    "        linear_transform_type=\"lu\",\n",
    "        base_transform_type=\"rq-coupling\",\n",
    "        context_features=sim.parameter_dim(),\n",
    "        dropout_probability=0.,\n",
    "        tail_bound=10., # 3.,\n",
    "        num_bins=5,\n",
    "    )\n",
    "\n",
    "    model = ManifoldFlow(\n",
    "        data_dim=3,\n",
    "        latent_dim=2,\n",
    "        outer_transform=outer_transform,\n",
    "        inner_transform=inner_transform,\n",
    "        apply_context_to_outer=False,\n",
    "    )\n",
    "    \n",
    "    model.load_state_dict(\n",
    "        torch.load(\"../data/models/{}.pt\".format(filename), map_location=torch.device(\"cpu\"))\n",
    "    )\n",
    "    _ = model.eval()\n",
    "    \n",
    "    return model\n",
    "\n",
    "\n",
    "mf = load_model(\"mf_2_lorenz_may\")\n",
    "# mf = load_model(\"mf_2_lorenz_april2\")\n"
   ]
  },
  {
   "cell_type": "markdown",
   "metadata": {},
   "source": [
    "## Find points for evaluation: start with latent grid, triangulate, add points randomly where necessary, remove duplicates"
   ]
  },
  {
   "cell_type": "code",
   "execution_count": 13,
   "metadata": {},
   "outputs": [],
   "source": [
    "def make_grid(boundary, res):\n",
    "    grid_each = np.linspace(-boundary, boundary, res)\n",
    "    x, y = np.meshgrid(grid_each, grid_each)\n",
    "    xy = np.vstack((x.flatten(), y.flatten())).T\n",
    "    return xy\n",
    "\n",
    "\n",
    "def decode(zs, batchsize = 10000):\n",
    "    xs = []\n",
    "    n_batches = (len(zs) - 1) // batchsize + 1\n",
    "    for i in range(n_batches):\n",
    "        print(\"Batch {} / {}\".format(i + 1, n_batches))\n",
    "        z_batch = zs[i*batchsize:(i+1)*batchsize]\n",
    "        z_ = torch.tensor(z_batch, dtype=torch.float)\n",
    "        x_ = mf.decode(u=z_)\n",
    "        xs += list(x_.detach().numpy().flatten())\n",
    "\n",
    "    xs = np.array(xs).reshape((-1, 3))\n",
    "    return xs\n",
    "\n",
    "\n",
    "def encode(xs, batchsize = 10000):\n",
    "    zs = []\n",
    "    n_batches = (len(xs) - 1) // batchsize + 1\n",
    "    for i in range(n_batches):\n",
    "        print(\"Batch {} / {}\".format(i + 1, n_batches))\n",
    "        x_batch = xs[i*batchsize:(i+1)*batchsize]\n",
    "        x_ = torch.tensor(x_batch, dtype=torch.float)\n",
    "        z_ = mf.encode(x_)\n",
    "        zs += list(z_.detach().numpy().flatten())\n",
    "\n",
    "    zs = np.array(zs).reshape((-1, 2))\n",
    "    return zs\n",
    "\n",
    "\n",
    "def triangle_circumference(a, b, c):\n",
    "    ab = np.linalg.norm(a - b)\n",
    "    bc = np.linalg.norm(b - c)\n",
    "    ca = np.linalg.norm(c - a)\n",
    "    circ = (ab + bc + ca)\n",
    "    return circ\n",
    "\n",
    "\n",
    "def triangle_area(a, b, c):\n",
    "    ab = np.linalg.norm(a - b)\n",
    "    bc = np.linalg.norm(b - c)\n",
    "    ca = np.linalg.norm(c - a)\n",
    "    s = (ab + bc + ca) / 2.\n",
    "    return (s * (s-ab) * (s-bc) * (s-ca))**0.5\n",
    "    \n",
    "    \n",
    "def uniform_points_in_triangle(a, b, c, n=1):\n",
    "    p = np.random.uniform(size=n)[:,np.newaxis]\n",
    "    q = np.random.uniform(size=n)[:,np.newaxis]\n",
    "    p_ = np.where(p + q > 1., 1. - p, p)\n",
    "    q_ = np.where(p + q > 1., 1. - q, q)\n",
    "    points = a[np.newaxis, :] + (b - a)[np.newaxis, :] * p_ + (c - a)[np.newaxis, :] * q_\n",
    "    \n",
    "    return points\n"
   ]
  },
  {
   "cell_type": "code",
   "execution_count": 19,
   "metadata": {},
   "outputs": [],
   "source": [
    "def iterate(xs, zs, goal_area = 0.01, goal_circ=0.2, insert_max=20, max_distance=0.1, distance_space=\"mix\"):\n",
    "    print(\"Beginning iteration\")\n",
    "    n_in = xs.shape[0]\n",
    "    z_outs = np.copy(zs)\n",
    "    \n",
    "    # Step one: inserting more points where distances are large\n",
    "    print(\"Triangulating...\")\n",
    "    triangulation = Triangulation(zs[:,0], zs[:,1])\n",
    "\n",
    "    print(\"Inserting points in latent space...\")\n",
    "    for t in triangulation.triangles:\n",
    "        area = triangle_area(xs[t[0]], xs[t[1]], xs[t[2]])\n",
    "        circ = triangle_circumference(xs[t[0]], xs[t[1]], xs[t[2]])\n",
    "        try:\n",
    "            n_additional = int(round(np.clip(\n",
    "                0.5 * (area / goal_area + circ / goal_circ),\n",
    "                0., insert_max\n",
    "            ), 0))\n",
    "        except:\n",
    "            n_additional = insert_max // 2  # Seems like a safe choice\n",
    "\n",
    "        if n_additional > 0:\n",
    "            z_additional = uniform_points_in_triangle(\n",
    "                zs[t[0]],\n",
    "                zs[t[1]],\n",
    "                zs[t[2]],\n",
    "                n=n_additional\n",
    "            )\n",
    "            z_outs = np.concatenate((z_outs, z_additional), axis=0)\n",
    "            \n",
    "    print(\"Decoding...\")\n",
    "    x_outs = decode(z_outs)\n",
    "    n_mid = len(x_outs)\n",
    "\n",
    "    # Step two: removing close neighbors in (x,z) space\n",
    "    print(f\"Removing close neighbors in {distance_space} space...\")\n",
    "    if distance_space == \"mix\":\n",
    "        tree = cKDTree(np.concatenate([x_mf, z_mf], axis=1))\n",
    "    elif distance_space == \"x\":\n",
    "        tree = cKDTree(x_mf)\n",
    "    elif distance_space == \"z\":\n",
    "        tree = cKDTree(z_mf)\n",
    "    else:\n",
    "        raise ValueError(distance_space)\n",
    "    neighbors = tree.query_pairs(r=max_distance)\n",
    "    duplicates = [n[1] for n in neighbors]\n",
    "\n",
    "    x_outs = np.array([x for i, x in enumerate(x_outs) if i not in duplicates])\n",
    "    z_outs = np.array([z for i, z in enumerate(z_outs) if i not in duplicates])\n",
    "    n_out = len(x_outs)\n",
    "    \n",
    "    print(f\"Done! {n_in} -> {n_mid} -> {n_out}\")\n",
    "\n",
    "    return x_outs, z_outs"
   ]
  },
  {
   "cell_type": "code",
   "execution_count": 20,
   "metadata": {},
   "outputs": [
    {
     "name": "stderr",
     "output_type": "stream",
     "text": [
      "09:44 experiments.datasets.lorenz    DEBUG   Scaling LHC data to zero mean and unit variance\n"
     ]
    },
    {
     "name": "stdout",
     "output_type": "stream",
     "text": [
      "Batch 1 / 3\n",
      "Batch 2 / 3\n",
      "Batch 3 / 3\n",
      "Beginning iteration\n",
      "Triangulating...\n",
      "Inserting points in latent space...\n",
      "Decoding...\n",
      "Batch 1 / 3\n",
      "Batch 2 / 3\n",
      "Batch 3 / 3\n",
      "Removing close neighbors in combined latent / data space...\n",
      "Done! 25000 -> 25000 -> 1068\n"
     ]
    }
   ],
   "source": [
    "if mode == \"latent\":\n",
    "    z_mf = make_grid(2.9, 100)\n",
    "    x_mf = decode(z_mf)\n",
    "    \n",
    "    for _ in range(2):\n",
    "        x_mf, z_mf = iterate(x_mf, z_mf)\n",
    "        \n",
    "elif mode == \"mix\":\n",
    "    x_mf = sim.sample(1000)\n",
    "    z_mf = encode(x_mf)\n",
    "    \n",
    "    for _ in range(2):\n",
    "        x_mf, z_mf = iterate(x_mf, z_mf)\n",
    "        \n",
    "elif mode == \"sample\":\n",
    "    x_mf = sim.sample(25000)\n",
    "    z_mf = encode(x_mf)\n",
    "    \n",
    "    for _ in range(1):\n",
    "        x_mf, z_mf = iterate(x_mf, z_mf, insert_max=0, distance_space=\"x\")\n"
   ]
  },
  {
   "cell_type": "markdown",
   "metadata": {},
   "source": [
    "## Evaluate log likelihood"
   ]
  },
  {
   "cell_type": "code",
   "execution_count": 22,
   "metadata": {},
   "outputs": [
    {
     "name": "stdout",
     "output_type": "stream",
     "text": [
      "Batch 1 / 2\n",
      "torch.Size([600, 3])\n"
     ]
    },
    {
     "ename": "RuntimeError",
     "evalue": "Expected 3-dimensional tensor, but got 1-dimensional tensor for argument #2 'batch2' (while checking arguments for bmm)",
     "output_type": "error",
     "traceback": [
      "\u001b[0;31m---------------------------------------------------------------------------\u001b[0m",
      "\u001b[0;31mRuntimeError\u001b[0m                              Traceback (most recent call last)",
      "\u001b[0;32m<ipython-input-22-a9ad4bf300d1>\u001b[0m in \u001b[0;36m<module>\u001b[0;34m\u001b[0m\n\u001b[1;32m      9\u001b[0m     \u001b[0mx_batch_\u001b[0m \u001b[0;34m=\u001b[0m \u001b[0mtorch\u001b[0m\u001b[0;34m.\u001b[0m\u001b[0mtensor\u001b[0m\u001b[0;34m(\u001b[0m\u001b[0mx_batch\u001b[0m\u001b[0;34m,\u001b[0m \u001b[0mdtype\u001b[0m\u001b[0;34m=\u001b[0m\u001b[0mtorch\u001b[0m\u001b[0;34m.\u001b[0m\u001b[0mfloat\u001b[0m\u001b[0;34m)\u001b[0m\u001b[0;34m\u001b[0m\u001b[0;34m\u001b[0m\u001b[0m\n\u001b[1;32m     10\u001b[0m     \u001b[0mprint\u001b[0m\u001b[0;34m(\u001b[0m\u001b[0mx_batch_\u001b[0m\u001b[0;34m.\u001b[0m\u001b[0msize\u001b[0m\u001b[0;34m(\u001b[0m\u001b[0;34m)\u001b[0m\u001b[0;34m)\u001b[0m\u001b[0;34m\u001b[0m\u001b[0;34m\u001b[0m\u001b[0m\n\u001b[0;32m---> 11\u001b[0;31m     \u001b[0m_\u001b[0m\u001b[0;34m,\u001b[0m \u001b[0mlogp_\u001b[0m\u001b[0;34m,\u001b[0m \u001b[0m_\u001b[0m \u001b[0;34m=\u001b[0m \u001b[0mmf\u001b[0m\u001b[0;34m(\u001b[0m\u001b[0mx_batch_\u001b[0m\u001b[0;34m,\u001b[0m \u001b[0mmode\u001b[0m\u001b[0;34m=\u001b[0m\u001b[0;34m\"mf\"\u001b[0m\u001b[0;34m)\u001b[0m\u001b[0;34m\u001b[0m\u001b[0;34m\u001b[0m\u001b[0m\n\u001b[0m\u001b[1;32m     12\u001b[0m     \u001b[0mlogps\u001b[0m\u001b[0;34m.\u001b[0m\u001b[0mappend\u001b[0m\u001b[0;34m(\u001b[0m\u001b[0mlogp_\u001b[0m\u001b[0;34m.\u001b[0m\u001b[0mdetach\u001b[0m\u001b[0;34m(\u001b[0m\u001b[0;34m)\u001b[0m\u001b[0;34m.\u001b[0m\u001b[0mnumpy\u001b[0m\u001b[0;34m(\u001b[0m\u001b[0;34m)\u001b[0m\u001b[0;34m.\u001b[0m\u001b[0mflatten\u001b[0m\u001b[0;34m(\u001b[0m\u001b[0;34m)\u001b[0m\u001b[0;34m)\u001b[0m\u001b[0;34m\u001b[0m\u001b[0;34m\u001b[0m\u001b[0m\n\u001b[1;32m     13\u001b[0m \u001b[0;34m\u001b[0m\u001b[0m\n",
      "\u001b[0;32m~/anaconda3/envs/ml/lib/python3.7/site-packages/torch/nn/modules/module.py\u001b[0m in \u001b[0;36m__call__\u001b[0;34m(self, *input, **kwargs)\u001b[0m\n\u001b[1;32m    548\u001b[0m             \u001b[0mresult\u001b[0m \u001b[0;34m=\u001b[0m \u001b[0mself\u001b[0m\u001b[0;34m.\u001b[0m\u001b[0m_slow_forward\u001b[0m\u001b[0;34m(\u001b[0m\u001b[0;34m*\u001b[0m\u001b[0minput\u001b[0m\u001b[0;34m,\u001b[0m \u001b[0;34m**\u001b[0m\u001b[0mkwargs\u001b[0m\u001b[0;34m)\u001b[0m\u001b[0;34m\u001b[0m\u001b[0;34m\u001b[0m\u001b[0m\n\u001b[1;32m    549\u001b[0m         \u001b[0;32melse\u001b[0m\u001b[0;34m:\u001b[0m\u001b[0;34m\u001b[0m\u001b[0;34m\u001b[0m\u001b[0m\n\u001b[0;32m--> 550\u001b[0;31m             \u001b[0mresult\u001b[0m \u001b[0;34m=\u001b[0m \u001b[0mself\u001b[0m\u001b[0;34m.\u001b[0m\u001b[0mforward\u001b[0m\u001b[0;34m(\u001b[0m\u001b[0;34m*\u001b[0m\u001b[0minput\u001b[0m\u001b[0;34m,\u001b[0m \u001b[0;34m**\u001b[0m\u001b[0mkwargs\u001b[0m\u001b[0;34m)\u001b[0m\u001b[0;34m\u001b[0m\u001b[0;34m\u001b[0m\u001b[0m\n\u001b[0m\u001b[1;32m    551\u001b[0m         \u001b[0;32mfor\u001b[0m \u001b[0mhook\u001b[0m \u001b[0;32min\u001b[0m \u001b[0mself\u001b[0m\u001b[0;34m.\u001b[0m\u001b[0m_forward_hooks\u001b[0m\u001b[0;34m.\u001b[0m\u001b[0mvalues\u001b[0m\u001b[0;34m(\u001b[0m\u001b[0;34m)\u001b[0m\u001b[0;34m:\u001b[0m\u001b[0;34m\u001b[0m\u001b[0;34m\u001b[0m\u001b[0m\n\u001b[1;32m    552\u001b[0m             \u001b[0mhook_result\u001b[0m \u001b[0;34m=\u001b[0m \u001b[0mhook\u001b[0m\u001b[0;34m(\u001b[0m\u001b[0mself\u001b[0m\u001b[0;34m,\u001b[0m \u001b[0minput\u001b[0m\u001b[0;34m,\u001b[0m \u001b[0mresult\u001b[0m\u001b[0;34m)\u001b[0m\u001b[0;34m\u001b[0m\u001b[0;34m\u001b[0m\u001b[0m\n",
      "\u001b[0;32m~/work/projects/manifold_flow/manifold-flow/manifold_flow/flows/manifold_flow.py\u001b[0m in \u001b[0;36mforward\u001b[0;34m(self, x, mode, context, return_hidden)\u001b[0m\n\u001b[1;32m     55\u001b[0m \u001b[0;34m\u001b[0m\u001b[0m\n\u001b[1;32m     56\u001b[0m         \u001b[0;31m# Decode\u001b[0m\u001b[0;34m\u001b[0m\u001b[0;34m\u001b[0m\u001b[0;34m\u001b[0m\u001b[0m\n\u001b[0;32m---> 57\u001b[0;31m         \u001b[0mx_reco\u001b[0m\u001b[0;34m,\u001b[0m \u001b[0minv_log_det_inner\u001b[0m\u001b[0;34m,\u001b[0m \u001b[0minv_log_det_outer\u001b[0m\u001b[0;34m,\u001b[0m \u001b[0minv_jacobian_outer\u001b[0m\u001b[0;34m,\u001b[0m \u001b[0mh_manifold_reco\u001b[0m \u001b[0;34m=\u001b[0m \u001b[0mself\u001b[0m\u001b[0;34m.\u001b[0m\u001b[0m_decode\u001b[0m\u001b[0;34m(\u001b[0m\u001b[0mu\u001b[0m\u001b[0;34m,\u001b[0m \u001b[0mmode\u001b[0m\u001b[0;34m=\u001b[0m\u001b[0mmode\u001b[0m\u001b[0;34m,\u001b[0m \u001b[0mcontext\u001b[0m\u001b[0;34m=\u001b[0m\u001b[0mcontext\u001b[0m\u001b[0;34m)\u001b[0m\u001b[0;34m\u001b[0m\u001b[0;34m\u001b[0m\u001b[0m\n\u001b[0m\u001b[1;32m     58\u001b[0m \u001b[0;34m\u001b[0m\u001b[0m\n\u001b[1;32m     59\u001b[0m         \u001b[0;31m# Log prob\u001b[0m\u001b[0;34m\u001b[0m\u001b[0;34m\u001b[0m\u001b[0;34m\u001b[0m\u001b[0m\n",
      "\u001b[0;32m~/work/projects/manifold_flow/manifold-flow/manifold_flow/flows/manifold_flow.py\u001b[0m in \u001b[0;36m_decode\u001b[0;34m(self, u, mode, u_orthogonal, context)\u001b[0m\n\u001b[1;32m    117\u001b[0m             \u001b[0minv_jacobian_outer\u001b[0m \u001b[0;34m=\u001b[0m \u001b[0;32mNone\u001b[0m\u001b[0;34m\u001b[0m\u001b[0;34m\u001b[0m\u001b[0m\n\u001b[1;32m    118\u001b[0m         \u001b[0;32melse\u001b[0m\u001b[0;34m:\u001b[0m\u001b[0;34m\u001b[0m\u001b[0;34m\u001b[0m\u001b[0m\n\u001b[0;32m--> 119\u001b[0;31m             \u001b[0mx\u001b[0m\u001b[0;34m,\u001b[0m \u001b[0minv_jacobian_outer\u001b[0m \u001b[0;34m=\u001b[0m \u001b[0mself\u001b[0m\u001b[0;34m.\u001b[0m\u001b[0mouter_transform\u001b[0m\u001b[0;34m.\u001b[0m\u001b[0minverse\u001b[0m\u001b[0;34m(\u001b[0m\u001b[0mh\u001b[0m\u001b[0;34m,\u001b[0m \u001b[0mfull_jacobian\u001b[0m\u001b[0;34m=\u001b[0m\u001b[0;32mTrue\u001b[0m\u001b[0;34m,\u001b[0m \u001b[0mcontext\u001b[0m\u001b[0;34m=\u001b[0m\u001b[0mcontext\u001b[0m \u001b[0;32mif\u001b[0m \u001b[0mself\u001b[0m\u001b[0;34m.\u001b[0m\u001b[0mapply_context_to_outer\u001b[0m \u001b[0;32melse\u001b[0m \u001b[0;32mNone\u001b[0m\u001b[0;34m)\u001b[0m\u001b[0;34m\u001b[0m\u001b[0;34m\u001b[0m\u001b[0m\n\u001b[0m\u001b[1;32m    120\u001b[0m             \u001b[0minv_log_det_outer\u001b[0m \u001b[0;34m=\u001b[0m \u001b[0;32mNone\u001b[0m\u001b[0;34m\u001b[0m\u001b[0;34m\u001b[0m\u001b[0m\n\u001b[1;32m    121\u001b[0m \u001b[0;34m\u001b[0m\u001b[0m\n",
      "\u001b[0;32m~/work/projects/manifold_flow/manifold-flow/manifold_flow/transforms/base.py\u001b[0m in \u001b[0;36minverse\u001b[0;34m(self, inputs, context, full_jacobian)\u001b[0m\n\u001b[1;32m     82\u001b[0m     \u001b[0;32mdef\u001b[0m \u001b[0minverse\u001b[0m\u001b[0;34m(\u001b[0m\u001b[0mself\u001b[0m\u001b[0;34m,\u001b[0m \u001b[0minputs\u001b[0m\u001b[0;34m,\u001b[0m \u001b[0mcontext\u001b[0m\u001b[0;34m=\u001b[0m\u001b[0;32mNone\u001b[0m\u001b[0;34m,\u001b[0m \u001b[0mfull_jacobian\u001b[0m\u001b[0;34m=\u001b[0m\u001b[0;32mFalse\u001b[0m\u001b[0;34m)\u001b[0m\u001b[0;34m:\u001b[0m\u001b[0;34m\u001b[0m\u001b[0;34m\u001b[0m\u001b[0m\n\u001b[1;32m     83\u001b[0m         \u001b[0mfuncs\u001b[0m \u001b[0;34m=\u001b[0m \u001b[0;34m(\u001b[0m\u001b[0mtransform\u001b[0m\u001b[0;34m.\u001b[0m\u001b[0minverse\u001b[0m \u001b[0;32mfor\u001b[0m \u001b[0mtransform\u001b[0m \u001b[0;32min\u001b[0m \u001b[0mself\u001b[0m\u001b[0;34m.\u001b[0m\u001b[0m_transforms\u001b[0m\u001b[0;34m[\u001b[0m\u001b[0;34m:\u001b[0m\u001b[0;34m:\u001b[0m\u001b[0;34m-\u001b[0m\u001b[0;36m1\u001b[0m\u001b[0;34m]\u001b[0m\u001b[0;34m)\u001b[0m\u001b[0;34m\u001b[0m\u001b[0;34m\u001b[0m\u001b[0m\n\u001b[0;32m---> 84\u001b[0;31m         \u001b[0;32mreturn\u001b[0m \u001b[0mself\u001b[0m\u001b[0;34m.\u001b[0m\u001b[0m_cascade\u001b[0m\u001b[0;34m(\u001b[0m\u001b[0minputs\u001b[0m\u001b[0;34m,\u001b[0m \u001b[0mfuncs\u001b[0m\u001b[0;34m,\u001b[0m \u001b[0mcontext\u001b[0m\u001b[0;34m,\u001b[0m \u001b[0mfull_jacobian\u001b[0m\u001b[0;34m)\u001b[0m\u001b[0;34m\u001b[0m\u001b[0;34m\u001b[0m\u001b[0m\n\u001b[0m\u001b[1;32m     85\u001b[0m \u001b[0;34m\u001b[0m\u001b[0m\n\u001b[1;32m     86\u001b[0m \u001b[0;34m\u001b[0m\u001b[0m\n",
      "\u001b[0;32m~/work/projects/manifold_flow/manifold-flow/manifold_flow/transforms/base.py\u001b[0m in \u001b[0;36m_cascade\u001b[0;34m(inputs, funcs, context, full_jacobian)\u001b[0m\n\u001b[1;32m     54\u001b[0m             \u001b[0;32mfor\u001b[0m \u001b[0mfunc\u001b[0m \u001b[0;32min\u001b[0m \u001b[0mfuncs\u001b[0m\u001b[0;34m:\u001b[0m\u001b[0;34m\u001b[0m\u001b[0;34m\u001b[0m\u001b[0m\n\u001b[1;32m     55\u001b[0m                 \u001b[0minputs\u001b[0m \u001b[0;34m=\u001b[0m \u001b[0moutputs\u001b[0m\u001b[0;34m\u001b[0m\u001b[0;34m\u001b[0m\u001b[0m\n\u001b[0;32m---> 56\u001b[0;31m                 \u001b[0moutputs\u001b[0m\u001b[0;34m,\u001b[0m \u001b[0mjacobian\u001b[0m \u001b[0;34m=\u001b[0m \u001b[0mfunc\u001b[0m\u001b[0;34m(\u001b[0m\u001b[0minputs\u001b[0m\u001b[0;34m,\u001b[0m \u001b[0mcontext\u001b[0m\u001b[0;34m,\u001b[0m \u001b[0mfull_jacobian\u001b[0m\u001b[0;34m=\u001b[0m\u001b[0;32mTrue\u001b[0m\u001b[0;34m)\u001b[0m\u001b[0;34m\u001b[0m\u001b[0;34m\u001b[0m\u001b[0m\n\u001b[0m\u001b[1;32m     57\u001b[0m \u001b[0;34m\u001b[0m\u001b[0m\n\u001b[1;32m     58\u001b[0m                 \u001b[0;31m# # Cross-check for debugging\u001b[0m\u001b[0;34m\u001b[0m\u001b[0;34m\u001b[0m\u001b[0;34m\u001b[0m\u001b[0m\n",
      "\u001b[0;32m~/work/projects/manifold_flow/manifold-flow/manifold_flow/transforms/base.py\u001b[0m in \u001b[0;36minverse\u001b[0;34m(self, inputs, context, full_jacobian)\u001b[0m\n\u001b[1;32m     82\u001b[0m     \u001b[0;32mdef\u001b[0m \u001b[0minverse\u001b[0m\u001b[0;34m(\u001b[0m\u001b[0mself\u001b[0m\u001b[0;34m,\u001b[0m \u001b[0minputs\u001b[0m\u001b[0;34m,\u001b[0m \u001b[0mcontext\u001b[0m\u001b[0;34m=\u001b[0m\u001b[0;32mNone\u001b[0m\u001b[0;34m,\u001b[0m \u001b[0mfull_jacobian\u001b[0m\u001b[0;34m=\u001b[0m\u001b[0;32mFalse\u001b[0m\u001b[0;34m)\u001b[0m\u001b[0;34m:\u001b[0m\u001b[0;34m\u001b[0m\u001b[0;34m\u001b[0m\u001b[0m\n\u001b[1;32m     83\u001b[0m         \u001b[0mfuncs\u001b[0m \u001b[0;34m=\u001b[0m \u001b[0;34m(\u001b[0m\u001b[0mtransform\u001b[0m\u001b[0;34m.\u001b[0m\u001b[0minverse\u001b[0m \u001b[0;32mfor\u001b[0m \u001b[0mtransform\u001b[0m \u001b[0;32min\u001b[0m \u001b[0mself\u001b[0m\u001b[0;34m.\u001b[0m\u001b[0m_transforms\u001b[0m\u001b[0;34m[\u001b[0m\u001b[0;34m:\u001b[0m\u001b[0;34m:\u001b[0m\u001b[0;34m-\u001b[0m\u001b[0;36m1\u001b[0m\u001b[0;34m]\u001b[0m\u001b[0;34m)\u001b[0m\u001b[0;34m\u001b[0m\u001b[0;34m\u001b[0m\u001b[0m\n\u001b[0;32m---> 84\u001b[0;31m         \u001b[0;32mreturn\u001b[0m \u001b[0mself\u001b[0m\u001b[0;34m.\u001b[0m\u001b[0m_cascade\u001b[0m\u001b[0;34m(\u001b[0m\u001b[0minputs\u001b[0m\u001b[0;34m,\u001b[0m \u001b[0mfuncs\u001b[0m\u001b[0;34m,\u001b[0m \u001b[0mcontext\u001b[0m\u001b[0;34m,\u001b[0m \u001b[0mfull_jacobian\u001b[0m\u001b[0;34m)\u001b[0m\u001b[0;34m\u001b[0m\u001b[0;34m\u001b[0m\u001b[0m\n\u001b[0m\u001b[1;32m     85\u001b[0m \u001b[0;34m\u001b[0m\u001b[0m\n\u001b[1;32m     86\u001b[0m \u001b[0;34m\u001b[0m\u001b[0m\n",
      "\u001b[0;32m~/work/projects/manifold_flow/manifold-flow/manifold_flow/transforms/base.py\u001b[0m in \u001b[0;36m_cascade\u001b[0;34m(inputs, funcs, context, full_jacobian)\u001b[0m\n\u001b[1;32m     62\u001b[0m \u001b[0;34m\u001b[0m\u001b[0m\n\u001b[1;32m     63\u001b[0m                 \u001b[0;31m# timer.timer(start=\"Jacobian multiplication\")\u001b[0m\u001b[0;34m\u001b[0m\u001b[0;34m\u001b[0m\u001b[0;34m\u001b[0m\u001b[0m\n\u001b[0;32m---> 64\u001b[0;31m                 \u001b[0mtotal_jacobian\u001b[0m \u001b[0;34m=\u001b[0m \u001b[0mjacobian\u001b[0m \u001b[0;32mif\u001b[0m \u001b[0mtotal_jacobian\u001b[0m \u001b[0;32mis\u001b[0m \u001b[0;32mNone\u001b[0m \u001b[0;32melse\u001b[0m \u001b[0mtorch\u001b[0m\u001b[0;34m.\u001b[0m\u001b[0mbmm\u001b[0m\u001b[0;34m(\u001b[0m\u001b[0mjacobian\u001b[0m\u001b[0;34m,\u001b[0m \u001b[0mtotal_jacobian\u001b[0m\u001b[0;34m)\u001b[0m\u001b[0;34m\u001b[0m\u001b[0;34m\u001b[0m\u001b[0m\n\u001b[0m\u001b[1;32m     65\u001b[0m                 \u001b[0;31m# timer.timer(stop=\"Jacobian multiplication\")\u001b[0m\u001b[0;34m\u001b[0m\u001b[0;34m\u001b[0m\u001b[0;34m\u001b[0m\u001b[0m\n\u001b[1;32m     66\u001b[0m \u001b[0;34m\u001b[0m\u001b[0m\n",
      "\u001b[0;31mRuntimeError\u001b[0m: Expected 3-dimensional tensor, but got 1-dimensional tensor for argument #2 'batch2' (while checking arguments for bmm)"
     ]
    }
   ],
   "source": [
    "batchsize = 600\n",
    "n_batches = (len(z_mf) - 1) // batchsize + 1\n",
    "\n",
    "logps = []\n",
    "\n",
    "for i in range(n_batches):\n",
    "    print(\"Batch {} / {}\".format(i + 1, n_batches))\n",
    "    x_batch = x_mf[i*batchsize:(i+1)*batchsize]\n",
    "    x_batch_ = torch.tensor(x_batch, dtype=torch.float)\n",
    "    print(x_batch_.size())\n",
    "    _, logp_, _ = mf(x_batch_, mode=\"mf\")\n",
    "    logps.append(logp_.detach().numpy().flatten())\n",
    "\n",
    "logp_mf = np.hstack(logps)\n",
    "logp_mf.shape\n"
   ]
  },
  {
   "cell_type": "code",
   "execution_count": 25,
   "metadata": {},
   "outputs": [
    {
     "name": "stderr",
     "output_type": "stream",
     "text": [
      "14:28 experiments.datasets.lorenz    DEBUG   Scaling LHC data to zero mean and unit variance\n"
     ]
    },
    {
     "name": "stdout",
     "output_type": "stream",
     "text": [
      "Batch 1 / 100\n",
      "Batch 2 / 100\n",
      "Batch 3 / 100\n",
      "Batch 4 / 100\n",
      "Batch 5 / 100\n",
      "Batch 6 / 100\n",
      "Batch 7 / 100\n",
      "Batch 8 / 100\n",
      "Batch 9 / 100\n",
      "Batch 10 / 100\n",
      "Batch 11 / 100\n",
      "Batch 12 / 100\n",
      "Batch 13 / 100\n",
      "Batch 14 / 100\n",
      "Batch 15 / 100\n",
      "Batch 16 / 100\n",
      "Batch 17 / 100\n",
      "Batch 18 / 100\n",
      "Batch 19 / 100\n",
      "Batch 20 / 100\n",
      "Batch 21 / 100\n",
      "Batch 22 / 100\n",
      "Batch 23 / 100\n",
      "Batch 24 / 100\n",
      "Batch 25 / 100\n",
      "Batch 26 / 100\n",
      "Batch 27 / 100\n",
      "Batch 28 / 100\n",
      "Batch 29 / 100\n",
      "Batch 30 / 100\n",
      "Batch 31 / 100\n",
      "Batch 32 / 100\n",
      "Batch 33 / 100\n",
      "Batch 34 / 100\n",
      "Batch 35 / 100\n",
      "Batch 36 / 100\n",
      "Batch 37 / 100\n",
      "Batch 38 / 100\n",
      "Batch 39 / 100\n",
      "Batch 40 / 100\n",
      "Batch 41 / 100\n",
      "Batch 42 / 100\n",
      "Batch 43 / 100\n",
      "Batch 44 / 100\n",
      "Batch 45 / 100\n",
      "Batch 46 / 100\n",
      "Batch 47 / 100\n",
      "Batch 48 / 100\n",
      "Batch 49 / 100\n",
      "Batch 50 / 100\n",
      "Batch 51 / 100\n",
      "Batch 52 / 100\n",
      "Batch 53 / 100\n",
      "Batch 54 / 100\n",
      "Batch 55 / 100\n",
      "Batch 56 / 100\n",
      "Batch 57 / 100\n",
      "Batch 58 / 100\n",
      "Batch 59 / 100\n",
      "Batch 60 / 100\n",
      "Batch 61 / 100\n",
      "Batch 62 / 100\n",
      "Batch 63 / 100\n",
      "Batch 64 / 100\n",
      "Batch 65 / 100\n",
      "Batch 66 / 100\n",
      "Batch 67 / 100\n",
      "Batch 68 / 100\n",
      "Batch 69 / 100\n",
      "Batch 70 / 100\n",
      "Batch 71 / 100\n",
      "Batch 72 / 100\n",
      "Batch 73 / 100\n",
      "Batch 74 / 100\n",
      "Batch 75 / 100\n",
      "Batch 76 / 100\n",
      "Batch 77 / 100\n",
      "Batch 78 / 100\n",
      "Batch 79 / 100\n",
      "Batch 80 / 100\n",
      "Batch 81 / 100\n",
      "Batch 82 / 100\n",
      "Batch 83 / 100\n",
      "Batch 84 / 100\n",
      "Batch 85 / 100\n",
      "Batch 86 / 100\n",
      "Batch 87 / 100\n",
      "Batch 88 / 100\n",
      "Batch 89 / 100\n",
      "Batch 90 / 100\n",
      "Batch 91 / 100\n",
      "Batch 92 / 100\n",
      "Batch 93 / 100\n",
      "Batch 94 / 100\n",
      "Batch 95 / 100\n",
      "Batch 96 / 100\n",
      "Batch 97 / 100\n",
      "Batch 98 / 100\n",
      "Batch 99 / 100\n",
      "Batch 100 / 100\n"
     ]
    },
    {
     "data": {
      "text/plain": [
       "((1000000, 3), (1000000, 2))"
      ]
     },
     "execution_count": 25,
     "metadata": {},
     "output_type": "execute_result"
    }
   ],
   "source": [
    "x_traj = sim.trajectory()\n",
    "z_traj = encode(x_traj, batchsize=10000)\n",
    "x_traj.shape, z_traj.shape\n"
   ]
  },
  {
   "cell_type": "markdown",
   "metadata": {},
   "source": [
    "## Save / load results"
   ]
  },
  {
   "cell_type": "code",
   "execution_count": 26,
   "metadata": {},
   "outputs": [],
   "source": [
    "pickle.dump((x_mf, z_mf, logp_mf, x_traj, z_traj), open( \"../data/results/lorenz.pickle\", \"wb\"))\n",
    "\n",
    "# if latent_seeds:\n",
    "#     pickle.dump((x_mf, z_mf, logp_mf, x_traj, z_traj), open( \"../data/results/lorenz2.pickle\", \"wb\"))\n",
    "# else:\n",
    "#     pickle.dump((x_mf, z_mf, logp_mf, x_traj, z_traj), open( \"../data/results/lorenz3.pickle\", \"wb\"))\n"
   ]
  },
  {
   "cell_type": "code",
   "execution_count": 5,
   "metadata": {},
   "outputs": [],
   "source": [
    "# x_mf, z_mf, logp_mf, x_traj, z_traj = pickle.load(open( \"../data/results/lorenz.pickle\", \"rb\"))\n"
   ]
  },
  {
   "cell_type": "markdown",
   "metadata": {},
   "source": [
    "## Scatter plots"
   ]
  },
  {
   "cell_type": "code",
   "execution_count": 6,
   "metadata": {},
   "outputs": [],
   "source": [
    "logp_cutoff = -15.\n",
    "\n",
    "cmin, cmax = -7., -2.\n",
    "x_boundary = 3.\n",
    "\n",
    "def cmap(vals):\n",
    "    return ps.CMAP(np.clip((vals - cmin) / (cmax - cmin), 0., 1.))\n",
    "\n",
    "if logp_cutoff is None:\n",
    "    x_ = x_mf\n",
    "    colors_ = cmap(logp_mf)\n",
    "else:\n",
    "    x_ = x_mf[logp_mf > logp_cutoff]\n",
    "    colors_ = cmap(logp_mf[logp_mf > logp_cutoff])\n"
   ]
  },
  {
   "cell_type": "code",
   "execution_count": 8,
   "metadata": {},
   "outputs": [],
   "source": [
    "# Strongly based on https://discourse.matplotlib.org/t/trisurf-plots-with-independent-color-data/19033/2\n",
    "\n",
    "plt.close(\"all\")\n",
    "fig = plt.figure(figsize=(6,6))\n",
    "ax = fig.gca(projection='3d')\n",
    "    \n",
    "ax.scatter(x_[:, 0], x_[:, 1], x_[:,2], c=colors_, s=2)\n",
    "\n",
    "ax.set_xlim3d(-x_boundary, x_boundary)\n",
    "ax.set_ylim3d(-x_boundary, x_boundary)\n",
    "ax.set_zlim3d(-x_boundary, x_boundary)\n",
    "\n",
    "ax.set_xlabel(\"$x_0$\")\n",
    "ax.set_ylabel(\"$x_1$\")\n",
    "ax.set_zlabel(\"$x_2$\")\n",
    "\n",
    "# ax.set_xticklabels([\"\"]*3)\n",
    "# ax.set_yticklabels([\"\"]*3)\n",
    "# ax.set_zticklabels([\"\"]*3)\n",
    "\n",
    "ax.view_init(elev=20, azim=-70)  # Good view\n",
    "plt.tight_layout()\n",
    "plt.savefig(\"../figures/lorenz_likelihood_3d_scatter_front.png\")\n",
    "\n",
    "ax.view_init(elev=20, azim=80)  # Another good view\n",
    "plt.tight_layout()\n",
    "plt.savefig(\"../figures/lorenz_likelihood_3d_scatter_half.png\")\n",
    "\n",
    "ax.view_init(elev=20, azim=-70+180)  # Back view\n",
    "plt.tight_layout()\n",
    "plt.savefig(\"../figures/lorenz_likelihood_3d_scatter_back.png\")\n",
    "\n",
    "ax.view_init(elev=20, azim=60)  # Great side view\n",
    "plt.tight_layout()\n",
    "plt.savefig(\"../figures/lorenz_likelihood_3d_scatter_side.png\")\n",
    "\n",
    "ax.view_init(elev=90, azim=-70)  # Top-down view of x-y plane\n",
    "plt.tight_layout()\n",
    "plt.savefig(\"../figures/lorenz_likelihood_3d_scatter_top.png\")\n",
    "\n",
    "for azim in [0, 45, 90, 135, 180, 225, 270, 295]:  # Rotate around z axis\n",
    "    ax.view_init(elev=0, azim=azim)\n",
    "    plt.tight_layout()\n",
    "    plt.savefig(f\"../figures/lorenz_likelihood_3d_scatter_{azim}.png\")\n",
    "\n"
   ]
  },
  {
   "cell_type": "markdown",
   "metadata": {},
   "source": [
    "## Triangulation"
   ]
  },
  {
   "cell_type": "code",
   "execution_count": 28,
   "metadata": {},
   "outputs": [
    {
     "data": {
      "text/plain": [
       "((66325,), (66325, 3, 3), (66325, 3, 2), (66325,))"
      ]
     },
     "execution_count": 28,
     "metadata": {},
     "output_type": "execute_result"
    }
   ],
   "source": [
    "x_tri = []\n",
    "logp_tri = []\n",
    "z_tri = []\n",
    "minlogp_tri = []\n",
    "circ_tri = []\n",
    "\n",
    "x_ = x_mf\n",
    "z_ = z_mf\n",
    "logp_ = logp_mf\n",
    "\n",
    "tri = Triangulation(z_[:,0], z_[:,1])\n",
    "\n",
    "for t in tri.triangles:\n",
    "    z_tri.append(\n",
    "        [\n",
    "            [z_[t[0], 0], z_[t[0], 1]],\n",
    "            [z_[t[1], 0], z_[t[1], 1]],\n",
    "            [z_[t[2], 0], z_[t[2], 1]]\n",
    "        ]\n",
    "    )\n",
    "    x_tri.append(\n",
    "        [\n",
    "            [x_[t[0], 0], x_[t[0], 1], x_[t[0], 2]],\n",
    "            [x_[t[1], 0], x_[t[1], 1], x_[t[1], 2]],\n",
    "            [x_[t[2], 0], x_[t[2], 1], x_[t[2], 2]]\n",
    "        ]\n",
    "    )\n",
    "    logp_tri.append((logp_[t[0]] + logp_[t[1]] + logp_[t[2]]) / 3.)\n",
    "    minlogp_tri.append(min(logp_[t[0]], logp_[t[1]], logp_[t[2]]))\n",
    "    circ_tri.append(triangle_circumference(x_[t[0]], x_[t[1]], x_[t[2]]))\n",
    "\n",
    "z_tri = np.array(z_tri)\n",
    "x_tri = np.array(x_tri)\n",
    "logp_tri = np.array(logp_tri)\n",
    "minlogp_tri = np.array(minlogp_tri)\n",
    "circ_tri = np.array(circ_tri)\n",
    "\n",
    "logp_tri.shape, x_tri.shape, z_tri.shape, circ_tri.shape\n"
   ]
  },
  {
   "cell_type": "markdown",
   "metadata": {},
   "source": [
    "## Preprocessing for plotting"
   ]
  },
  {
   "cell_type": "code",
   "execution_count": 41,
   "metadata": {},
   "outputs": [],
   "source": [
    "logp_cutoff = -15.\n",
    "circ_cutoff = 1\n",
    "\n",
    "cmin, cmax = -7., -2.\n",
    "x_boundary = 3.\n",
    "\n",
    "def cmap(vals):\n",
    "    return ps.CMAP(np.clip((vals - cmin) / (cmax - cmin), 0., 1.))\n",
    "\n",
    "if logp_cutoff is None:\n",
    "    x_tri_ = x_tri\n",
    "    colors_tri_ = cmap(logp_tri)\n",
    "    z_tri_ = z_tri\n",
    "    circ_tri_ = circ_tri\n",
    "else:\n",
    "    x_tri_ = x_tri[minlogp_tri > logp_cutoff]\n",
    "    colors_tri_ = cmap(logp_tri[minlogp_tri > logp_cutoff])\n",
    "    z_tri_ = z_tri[minlogp_tri > logp_cutoff]\n",
    "    circ_tri_ = circ_tri[minlogp_tri > logp_cutoff]\n",
    "\n",
    "if circ_cutoff is not None:\n",
    "    x_tri_ = x_tri_[circ_tri_ < circ_cutoff]\n",
    "    colors_tri_ = colors_tri_[circ_tri_ < circ_cutoff]\n",
    "    z_tri_ = z_tri_[circ_tri_ < circ_cutoff]\n"
   ]
  },
  {
   "cell_type": "markdown",
   "metadata": {},
   "source": [
    "## 2D plot"
   ]
  },
  {
   "cell_type": "code",
   "execution_count": 42,
   "metadata": {},
   "outputs": [],
   "source": [
    "fig = plt.figure(figsize=(6,6))\n",
    "ax = plt.gca()\n",
    "\n",
    "coll = PolyCollection(z_tri_, facecolors=colors_tri_, edgecolors=colors_tri_, lw=0.5, rasterized=True)\n",
    "ax.add_collection(coll)\n",
    "\n",
    "# ax.plot(z_traj[:, 0], z_traj[:, 1], c=\"black\", lw=0.5)\n",
    "\n",
    "plt.xlabel(\"$u_1$\")\n",
    "plt.ylabel(\"$u_2$\")\n",
    "\n",
    "plt.xlim(-3, 3)\n",
    "plt.ylim(-3, 3)\n",
    "\n",
    "plt.tight_layout()\n",
    "plt.savefig(\"../figures/lorenz_latent_likelihood.pdf\")\n"
   ]
  },
  {
   "cell_type": "code",
   "execution_count": 43,
   "metadata": {},
   "outputs": [],
   "source": [
    "def xcmap(vals):\n",
    "    return ps.CMAP(np.clip((vals - (-3)) / (3 - (-3)), 0., 1.))\n",
    "\n",
    "plt.close(\"all\")\n",
    "fig = plt.figure(figsize=(12,4))\n",
    "\n",
    "for i in range(3):\n",
    "    ax = plt.subplot(1,3,i+1)\n",
    "    colors = xcmap(np.mean(x_tri_[:,:,i], axis=1))\n",
    "    coll = PolyCollection(z_tri_, facecolors=colors, edgecolors=colors, lw=0.5, rasterized=True)\n",
    "    ax.add_collection(coll)\n",
    "    plt.xlabel(\"$u_1$\")\n",
    "    plt.ylabel(\"$u_2$\")\n",
    "    plt.xlim(-3, 3)\n",
    "    plt.ylim(-3, 3)\n",
    "    plt.title(f\"$x_{i+1}$\", fontsize=11)\n",
    "\n",
    "plt.tight_layout()\n",
    "plt.savefig(\"../figures/lorenz_latent_x.pdf\")\n"
   ]
  },
  {
   "cell_type": "markdown",
   "metadata": {},
   "source": [
    "## 3D plot"
   ]
  },
  {
   "cell_type": "code",
   "execution_count": 45,
   "metadata": {},
   "outputs": [],
   "source": [
    "# Strongly based on https://discourse.matplotlib.org/t/trisurf-plots-with-independent-color-data/19033/2\n",
    "\n",
    "plt.close(\"all\")\n",
    "fig = plt.figure(figsize=(6,6))\n",
    "ax = fig.gca(projection='3d')\n",
    "    \n",
    "coll = Poly3DCollection(x_tri_, facecolors=colors_tri_, edgecolors=colors_tri_, lw=0.5)\n",
    "ax.add_collection(coll)\n",
    "\n",
    "ax.set_xlim3d(-x_boundary, x_boundary)\n",
    "ax.set_ylim3d(-x_boundary, x_boundary)\n",
    "ax.set_zlim3d(-x_boundary, x_boundary)\n",
    "\n",
    "ax.set_xlabel(\"$x_0$\")\n",
    "ax.set_ylabel(\"$x_1$\")\n",
    "ax.set_zlabel(\"$x_2$\")\n",
    "\n",
    "# ax.set_xticklabels([\"\"]*3)\n",
    "# ax.set_yticklabels([\"\"]*3)\n",
    "# ax.set_zticklabels([\"\"]*3)\n",
    "\n",
    "ax.view_init(elev=20, azim=-70)  # Good view\n",
    "plt.tight_layout()\n",
    "plt.savefig(\"../figures/lorenz_likelihood_3d_front.png\")\n",
    "\n",
    "ax.view_init(elev=20, azim=80)  # Another good view\n",
    "plt.tight_layout()\n",
    "plt.savefig(\"../figures/lorenz_likelihood_3d_half.png\")\n",
    "\n",
    "ax.view_init(elev=20, azim=-70+180)  # Back view\n",
    "plt.tight_layout()\n",
    "plt.savefig(\"../figures/lorenz_likelihood_3d_back.png\")\n",
    "\n",
    "ax.view_init(elev=20, azim=60)  # Great side view\n",
    "plt.tight_layout()\n",
    "plt.savefig(\"../figures/lorenz_likelihood_3d_side.png\")\n",
    "\n",
    "ax.view_init(elev=90, azim=-70)  # Top-down view of x-y plane\n",
    "plt.tight_layout()\n",
    "plt.savefig(\"../figures/lorenz_likelihood_3d_top.png\")\n",
    "\n",
    "for azim in [0, 45, 90, 135, 180, 225, 270, 295]:  # Rotate around z axis\n",
    "    ax.view_init(elev=0, azim=azim)\n",
    "    plt.tight_layout()\n",
    "    plt.savefig(f\"../figures/lorenz_likelihood_3d_{azim}.png\")\n"
   ]
  },
  {
   "cell_type": "code",
   "execution_count": null,
   "metadata": {},
   "outputs": [],
   "source": []
  }
 ],
 "metadata": {
  "kernelspec": {
   "display_name": "Python (ML)",
   "language": "python",
   "name": "ml"
  },
  "language_info": {
   "codemirror_mode": {
    "name": "ipython",
    "version": 3
   },
   "file_extension": ".py",
   "mimetype": "text/x-python",
   "name": "python",
   "nbconvert_exporter": "python",
   "pygments_lexer": "ipython3",
   "version": "3.7.3"
  }
 },
 "nbformat": 4,
 "nbformat_minor": 4
}
