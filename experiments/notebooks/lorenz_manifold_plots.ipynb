{
 "cells": [
  {
   "cell_type": "markdown",
   "metadata": {},
   "source": [
    "# Lorenz system: manifold plots"
   ]
  },
  {
   "cell_type": "code",
   "execution_count": 1,
   "metadata": {},
   "outputs": [],
   "source": [
    "%matplotlib inline\n",
    "\n",
    "from tqdm import tqdm\n",
    "import sys\n",
    "import numpy as np\n",
    "import matplotlib\n",
    "import torch\n",
    "import logging\n",
    "from matplotlib import pyplot as plt, cm\n",
    "from matplotlib.collections import PolyCollection\n",
    "from matplotlib.tri import Triangulation\n",
    "from mpl_toolkits.mplot3d.art3d import Poly3DCollection\n",
    "from matplotlib.colors import LightSource\n",
    "from mpl_toolkits.mplot3d import Axes3D\n",
    "from scipy.spatial import cKDTree\n",
    "\n",
    "sys.path.append(\"../../\")\n",
    "from experiments.datasets import LorenzSimulator\n",
    "from experiments.architectures.vector_transforms import create_vector_transform\n",
    "from manifold_flow.flows import ManifoldFlow\n",
    "import plot_settings as ps\n",
    "\n",
    "logging.basicConfig(\n",
    "    format=\"%(asctime)-5.5s %(name)-30.30s %(levelname)-7.7s %(message)s\",\n",
    "    datefmt=\"%H:%M\",\n",
    "    level=logging.DEBUG,\n",
    ")\n",
    "for key in logging.Logger.manager.loggerDict:\n",
    "    if \"experiments\" not in key and \"manifold_flow\" not in key:\n",
    "        logging.getLogger(key).setLevel(logging.WARNING)"
   ]
  },
  {
   "cell_type": "code",
   "execution_count": 2,
   "metadata": {},
   "outputs": [],
   "source": [
    "# ps.setup()"
   ]
  },
  {
   "cell_type": "markdown",
   "metadata": {},
   "source": [
    "## Set up simulator"
   ]
  },
  {
   "cell_type": "code",
   "execution_count": null,
   "metadata": {},
   "outputs": [
    {
     "name": "stderr",
     "output_type": "stream",
     "text": [
      "11:19 experiments.datasets.lorenz    INFO    Solving Lorenz system with parameters sigma = 10.0, beta = 2.6666666666666665, rho = 28.0, initial conditions x0 = [1. 1. 1.], for 10000000 time steps from 0 to 100.0\n"
     ]
    }
   ],
   "source": [
    "sim = LorenzSimulator()\n"
   ]
  },
  {
   "cell_type": "markdown",
   "metadata": {},
   "source": [
    "## Load flows"
   ]
  },
  {
   "cell_type": "code",
   "execution_count": 4,
   "metadata": {},
   "outputs": [],
   "source": [
    "def load_model(filename):\n",
    "    outer_transform = create_vector_transform(\n",
    "        3,\n",
    "        5,\n",
    "        linear_transform_type=\"permutation\",\n",
    "        base_transform_type=\"rq-coupling\",\n",
    "        context_features=None,\n",
    "        dropout_probability=0.,\n",
    "        tail_bound=3.,\n",
    "        num_bins=5,\n",
    "    )\n",
    "    inner_transform = create_vector_transform(\n",
    "        2,\n",
    "        5,\n",
    "        linear_transform_type=\"permutation\",\n",
    "        base_transform_type=\"rq-coupling\",\n",
    "        context_features=sim.parameter_dim(),\n",
    "        dropout_probability=0.,\n",
    "        tail_bound=3.,\n",
    "        num_bins=5,\n",
    "    )\n",
    "\n",
    "    model = ManifoldFlow(\n",
    "        data_dim=3,\n",
    "        latent_dim=2,\n",
    "        outer_transform=outer_transform,\n",
    "        inner_transform=inner_transform,\n",
    "        apply_context_to_outer=False,\n",
    "    )\n",
    "    \n",
    "    model.load_state_dict(\n",
    "        torch.load(\"../data/models/{}.pt\".format(filename), map_location=torch.device(\"cpu\"))\n",
    "    )\n",
    "    _ = model.eval()\n",
    "    \n",
    "    return model"
   ]
  },
  {
   "cell_type": "code",
   "execution_count": 5,
   "metadata": {},
   "outputs": [
    {
     "name": "stderr",
     "output_type": "stream",
     "text": [
      "11:19 manifold_flow.transforms.proje DEBUG   Set up projection from vector with dimension 3 to vector with dimension 2\n",
      "11:19 manifold_flow.flows.base       DEBUG   Flow has 0.4 M parameters (0.4 M trainable) with an estimated size of 1.7 MB\n",
      "11:19 manifold_flow.flows.manifold_f DEBUG     Outer transform: 0.2 M parameters\n",
      "11:19 manifold_flow.flows.manifold_f DEBUG     Inner transform: 0.2 M parameters\n"
     ]
    }
   ],
   "source": [
    "mf = load_model(\"mf_2_lorenz_april\")\n"
   ]
  },
  {
   "cell_type": "markdown",
   "metadata": {},
   "source": [
    "## Find points for evaluation: start with latent grid, triangulate, add points in x space where necessary"
   ]
  },
  {
   "cell_type": "code",
   "execution_count": 32,
   "metadata": {},
   "outputs": [],
   "source": [
    "def make_grid(boundary, res):\n",
    "    grid_each = np.linspace(-boundary, boundary, res)\n",
    "    x, y = np.meshgrid(grid_each, grid_each)\n",
    "    xy = np.vstack((x.flatten(), y.flatten())).T\n",
    "    return xy\n",
    "\n",
    "\n",
    "def decode(zs, batchsize = 1000):\n",
    "    xs = []\n",
    "    n_batches = (len(zs) - 1) // batchsize + 1\n",
    "    for i in range(n_batches):\n",
    "        print(\"z batch {} / {}\".format(i + 1, n_batches))\n",
    "        z_batch = zs[i*batchsize:(i+1)*batchsize]\n",
    "        z_ = torch.tensor(z_batch, dtype=torch.float)\n",
    "        x_ = mf.decode(u=z_)\n",
    "        xs += list(x_.detach().numpy().flatten())\n",
    "\n",
    "    xs = np.array(xs).reshape((-1, 3))\n",
    "    return xs\n",
    "\n",
    "\n",
    "def triangle_area(a, b, c):\n",
    "    ab = np.linalg.norm(a - b)\n",
    "    bc = np.linalg.norm(b - c)\n",
    "    ca = np.linalg.norm(c - a)\n",
    "    s = (ab + bc + ca) / 2.\n",
    "    return (s * (s-ab) * (s-bc) * (s-ca))**0.5\n",
    "    \n",
    "    \n",
    "def uniform_points_in_triangle(a, b, c, n=1):\n",
    "    p = np.random.uniform(size=n)[:,np.newaxis]\n",
    "    q = np.random.uniform(size=n)[:,np.newaxis]\n",
    "    p_ = np.where(p + q > 1., 1. - p, p)\n",
    "    q_ = np.where(p + q > 1., 1. - q, q)\n",
    "    points = a[np.newaxis, :] + (b - a)[np.newaxis, :] * p_ + (c - a)[np.newaxis, :] * q_\n",
    "    \n",
    "    return points\n"
   ]
  },
  {
   "cell_type": "code",
   "execution_count": 33,
   "metadata": {},
   "outputs": [
    {
     "name": "stdout",
     "output_type": "stream",
     "text": [
      "z batch 1 / 10\n",
      "z batch 2 / 10\n",
      "z batch 3 / 10\n",
      "z batch 4 / 10\n",
      "z batch 5 / 10\n",
      "z batch 6 / 10\n",
      "z batch 7 / 10\n",
      "z batch 8 / 10\n",
      "z batch 9 / 10\n",
      "z batch 10 / 10\n"
     ]
    },
    {
     "data": {
      "text/plain": [
       "((10000, 2), (10000, 3))"
      ]
     },
     "execution_count": 33,
     "metadata": {},
     "output_type": "execute_result"
    }
   ],
   "source": [
    "z_seeds = make_grid(3., 100)\n",
    "x_seeds = decode(z_seeds)\n",
    "z_seeds.shape, x_seeds.shape\n"
   ]
  },
  {
   "cell_type": "code",
   "execution_count": 34,
   "metadata": {},
   "outputs": [
    {
     "data": {
      "text/plain": [
       "(23940, 2)"
      ]
     },
     "execution_count": 34,
     "metadata": {},
     "output_type": "execute_result"
    }
   ],
   "source": [
    "goal_area = 0.01\n",
    "n_additional_max = 100\n",
    "triangulation = Triangulation(z_seeds[:,0], z_seeds[:,1])\n",
    "\n",
    "z_mf = np.copy(z_seeds)\n",
    "\n",
    "for t in triangulation.triangles:\n",
    "    area = triangle_area(x_seeds[t[0]], x_seeds[t[1]], x_seeds[t[2]])\n",
    "    n_additional = min(max(int(round(area / goal_area, 0)) - 1, 0), n_additional_max)\n",
    "    \n",
    "    if n_additional > 0:\n",
    "        z_additional = uniform_points_in_triangle(\n",
    "            z_seeds[t[0]],\n",
    "            z_seeds[t[1]],\n",
    "            z_seeds[t[2]],\n",
    "            n=n_additional\n",
    "        )\n",
    "        z_mf = np.concatenate((z_mf, z_additional), axis=0)\n",
    "        \n",
    "z_mf.shape\n"
   ]
  },
  {
   "cell_type": "code",
   "execution_count": 35,
   "metadata": {},
   "outputs": [
    {
     "name": "stdout",
     "output_type": "stream",
     "text": [
      "z batch 1 / 24\n",
      "z batch 2 / 24\n",
      "z batch 3 / 24\n",
      "z batch 4 / 24\n",
      "z batch 5 / 24\n",
      "z batch 6 / 24\n",
      "z batch 7 / 24\n",
      "z batch 8 / 24\n",
      "z batch 9 / 24\n",
      "z batch 10 / 24\n",
      "z batch 11 / 24\n",
      "z batch 12 / 24\n",
      "z batch 13 / 24\n",
      "z batch 14 / 24\n",
      "z batch 15 / 24\n",
      "z batch 16 / 24\n",
      "z batch 17 / 24\n",
      "z batch 18 / 24\n",
      "z batch 19 / 24\n",
      "z batch 20 / 24\n",
      "z batch 21 / 24\n",
      "z batch 22 / 24\n",
      "z batch 23 / 24\n",
      "z batch 24 / 24\n"
     ]
    },
    {
     "data": {
      "text/plain": [
       "((23940, 2), (23940, 3))"
      ]
     },
     "execution_count": 35,
     "metadata": {},
     "output_type": "execute_result"
    }
   ],
   "source": [
    "x_mf = decode(z_mf)\n",
    "z_mf.shape, x_mf.shape\n"
   ]
  },
  {
   "cell_type": "code",
   "execution_count": 36,
   "metadata": {},
   "outputs": [
    {
     "data": {
      "text/plain": [
       "((17727, 3), (17727, 2))"
      ]
     },
     "execution_count": 36,
     "metadata": {},
     "output_type": "execute_result"
    }
   ],
   "source": [
    "max_distance = 0.05\n",
    "\n",
    "tree = cKDTree(x_seeds)\n",
    "neighbors = tree.query_pairs(r=max_distance)\n",
    "duplicates = [n[1] for n in neighbors]\n",
    "\n",
    "x_mf = np.array([x for i, x in enumerate(x_mf) if i not in duplicates])\n",
    "z_mf = np.array([z for i, z in enumerate(z_mf) if i not in duplicates])\n",
    "\n",
    "x_mf.shape, z_mf.shape\n"
   ]
  },
  {
   "cell_type": "markdown",
   "metadata": {},
   "source": [
    "## Evaluate log likelihood"
   ]
  },
  {
   "cell_type": "code",
   "execution_count": null,
   "metadata": {},
   "outputs": [
    {
     "name": "stdout",
     "output_type": "stream",
     "text": [
      "Batch 1 / 25\n",
      "Batch 2 / 25\n",
      "Batch 3 / 25\n",
      "Batch 4 / 25\n",
      "Batch 5 / 25\n",
      "Batch 6 / 25\n",
      "Batch 7 / 25\n",
      "Batch 8 / 25\n",
      "Batch 9 / 25\n",
      "Batch 10 / 25\n",
      "Batch 11 / 25\n"
     ]
    }
   ],
   "source": [
    "batchsize = 400\n",
    "\n",
    "logps = []\n",
    "\n",
    "n_batches = (len(z_seeds) - 1) // batchsize + 1\n",
    "for i in range(n_batches):\n",
    "    print(\"Batch {} / {}\".format(i + 1, n_batches))\n",
    "    x_batch = x_seeds[i*batchsize:(i+1)*batchsize]\n",
    "    x_batch_ = torch.tensor(x_batch, dtype=torch.float)\n",
    "    _, logp_, _ = mf(x_batch_, mode=\"mf\")\n",
    "    logps.append(logp_.detach().numpy().flatten())\n",
    "\n",
    "logp_mf = np.hstack(logps)\n"
   ]
  },
  {
   "cell_type": "code",
   "execution_count": null,
   "metadata": {},
   "outputs": [],
   "source": [
    "x_traj = sim.trajectory()"
   ]
  },
  {
   "cell_type": "markdown",
   "metadata": {},
   "source": [
    "## Triangulation"
   ]
  },
  {
   "cell_type": "code",
   "execution_count": 106,
   "metadata": {},
   "outputs": [
    {
     "data": {
      "text/plain": [
       "((19693,), (19693, 3, 3), (19693, 3, 2))"
      ]
     },
     "execution_count": 106,
     "metadata": {},
     "output_type": "execute_result"
    }
   ],
   "source": [
    "# Strongly based on https://discourse.matplotlib.org/t/trisurf-plots-with-independent-color-data/19033/2\n",
    "\n",
    "min_area = 0.1\n",
    "n_additional_max = 100\n",
    "triangulation = Triangulation(z_seeds[:,0], z_seeds[:,1])\n",
    "\n",
    "z_tri = []\n",
    "\n",
    "for t in triangulation.triangles:\n",
    "    area = triangle_area(x_mf[t[0]], x_mf[t[1]], x_mf[t[2]])\n",
    "    n_additional = min(max(int(round(area / goal_area, 0)) - 1, 0), n_additional_max)\n",
    "    \n",
    "    if n_additional > 0:\n",
    "        x_additional = uniform_points_in_triangle(\n",
    "            x_seeds[t[0]],\n",
    "            x_seeds[t[1]],\n",
    "            x_seeds[t[2]],\n",
    "            n=n_additional\n",
    "        )\n",
    "        x_seeds = np.concatenate((x_seeds, x_additional), axis=0)\n",
    "        \n",
    "x_seeds.shape\n",
    "\n",
    "\n",
    "\n",
    "\n",
    "\n",
    "\n",
    "circ_max = 1000\n",
    "triangulation = Triangulation(z_mf[:,0], z_mf[:,1])\n",
    "\n",
    "x_tri = []\n",
    "logp_tri = []\n",
    "z_tri = []\n",
    "\n",
    "for t in triangulation.triangles:\n",
    "    circ = np.linalg.norm(x_mf[t[0]] - x_mf[t[1]]) + np.linalg.norm(x_mf[t[1]] - x_mf[t[2]]) + np.linalg.norm(x_mf[t[2]] - x_mf[t[0]])\n",
    "    if circ > circ_max:\n",
    "        continue\n",
    "        \n",
    "    z_tri.append(\n",
    "        [\n",
    "            [z_mf[t[0], 0], z_mf[t[0], 1]],\n",
    "            [z_mf[t[1], 0], z_mf[t[1], 1]],\n",
    "            [z_mf[t[2], 0], z_mf[t[2], 1]]\n",
    "        ]\n",
    "    )\n",
    "    x_tri.append(\n",
    "        [\n",
    "            [x_mf[t[0], 0], x_mf[t[0], 1], x_mf[t[0], 2]],\n",
    "            [x_mf[t[1], 0], x_mf[t[1], 1], x_mf[t[1], 2]],\n",
    "            [x_mf[t[2], 0], x_mf[t[2], 1], x_mf[t[2], 2]]\n",
    "        ]\n",
    "    )\n",
    "    logp_tri.append(\n",
    "        (logp_mf[t[0]] + logp_mf[t[1]] + logp_mf[t[2]]) / 3.\n",
    "    )\n",
    "\n",
    "z_tri = np.array(z_tri)\n",
    "x_tri = np.array(x_tri)\n",
    "logp_tri = np.array(logp_tri)\n",
    "\n",
    "logp_tri.shape, x_tri.shape, z_tri.shape\n"
   ]
  },
  {
   "cell_type": "code",
   "execution_count": 110,
   "metadata": {},
   "outputs": [],
   "source": [
    "ccutoff, cmin, cmax = None, -7.5, -2.\n",
    "x_boundary = 4.\n",
    "\n",
    "def cmap(vals):\n",
    "    return ps.CMAP(np.clip((vals - cmin) / (cmax - cmin), 0., 1.))\n",
    "\n",
    "\n",
    "if ccutoff is None:\n",
    "    x_tri_ = x_tri\n",
    "    colors_tri_ = cmap(logp_tri)\n",
    "    z_tri_ = z_tri\n",
    "else:\n",
    "    x_tri_ = x_tri[logp_tri > ccutoff]\n",
    "    colors_tri_ = cmap(logp_tri[logp_tri > ccutoff])\n",
    "    z_tri_ = z_tri[logp_tri > ccutoff]\n"
   ]
  },
  {
   "cell_type": "markdown",
   "metadata": {},
   "source": [
    "## 2D plot"
   ]
  },
  {
   "cell_type": "code",
   "execution_count": 111,
   "metadata": {},
   "outputs": [],
   "source": [
    "fig = plt.figure(figsize=(4,4))\n",
    "ax = plt.gca()\n",
    "\n",
    "coll = PolyCollection(z_tri_, facecolors=colors_tri_, edgecolors='')\n",
    "ax.add_collection(coll)\n",
    "\n",
    "plt.xlabel(\"$u_1$\")\n",
    "plt.ylabel(\"$u_2$\")\n",
    "\n",
    "plt.xlim(-3, 3)\n",
    "plt.ylim(-3, 3)\n",
    "\n",
    "plt.tight_layout()\n",
    "plt.show()\n"
   ]
  },
  {
   "cell_type": "markdown",
   "metadata": {},
   "source": [
    "## 3D plot"
   ]
  },
  {
   "cell_type": "code",
   "execution_count": 112,
   "metadata": {},
   "outputs": [],
   "source": [
    "# rgb = cmap(logp_mf).reshape((res, res, 4))\n",
    "# ls = LightSource(azdeg=90, altdeg=75)\n",
    "# rgb_shaded = ls.shade_rgb(rgb[:,:,:3], elevation=x_grid[:,2].reshape((res, res)), fraction=1.0, vert_exag=0.5, blend_mode=\"soft\")\n"
   ]
  },
  {
   "cell_type": "code",
   "execution_count": 113,
   "metadata": {},
   "outputs": [],
   "source": [
    "fig = plt.figure(figsize=(6,6))\n",
    "ax = fig.gca(projection='3d')\n",
    "    \n",
    "coll = Poly3DCollection(x_tri_, facecolors=colors_tri_, edgecolors='')\n",
    "ax.add_collection(coll)\n",
    "\n",
    "ax.plot(\n",
    "    x_traj[:, 0],\n",
    "    x_traj[:, 1],\n",
    "    x_traj[:, 2],\n",
    "    c=\"black\",\n",
    "    lw=0.5\n",
    ")\n",
    "\n",
    "ax.set_xlim3d(-x_boundary, x_boundary)\n",
    "ax.set_ylim3d(-x_boundary, x_boundary)\n",
    "ax.set_zlim3d(-x_boundary, x_boundary)\n",
    "\n",
    "ax.set_xlabel(\"x\")\n",
    "ax.set_ylabel(\"y\")\n",
    "ax.set_zlabel(\"z\")\n",
    "\n",
    "ax.set_xticklabels([\"\"]*3)\n",
    "ax.set_yticklabels([\"\"]*3)\n",
    "ax.set_zticklabels([\"\"]*3)\n",
    "\n",
    "# ax.view_init(50, 65)\n",
    "\n",
    "plt.show()\n",
    "# plt.savefig(\"../figures/lorenz_manifold.pdf\")\n"
   ]
  },
  {
   "cell_type": "code",
   "execution_count": 115,
   "metadata": {},
   "outputs": [],
   "source": [
    "fig = plt.figure(figsize=(6,6))\n",
    "ax = fig.gca(projection='3d')\n",
    "    \n",
    "ax.scatter(\n",
    "    x_mf[:, 0],\n",
    "    x_mf[:, 1],\n",
    "    x_mf[:, 2],\n",
    "    c=cmap(logp_mf),\n",
    "    s=5.\n",
    ")\n",
    "\n",
    "ax.plot(\n",
    "    x_traj[:, 0],\n",
    "    x_traj[:, 1],\n",
    "    x_traj[:, 2],\n",
    "    c=\"black\",\n",
    "    lw=0.5\n",
    ")\n",
    "\n",
    "ax.set_xlim3d(-x_boundary, x_boundary)\n",
    "ax.set_ylim3d(-x_boundary, x_boundary)\n",
    "ax.set_zlim3d(-x_boundary, x_boundary)\n",
    "\n",
    "ax.set_xlabel(\"x\")\n",
    "ax.set_ylabel(\"y\")\n",
    "ax.set_zlabel(\"z\")\n",
    "\n",
    "ax.set_xticklabels([\"\"]*3)\n",
    "ax.set_yticklabels([\"\"]*3)\n",
    "ax.set_zticklabels([\"\"]*3)\n",
    "\n",
    "# ax.view_init(50, 65)\n",
    "\n",
    "plt.show()\n",
    "# plt.savefig(\"../figures/lorenz_manifold.pdf\")\n",
    "\n"
   ]
  },
  {
   "cell_type": "code",
   "execution_count": null,
   "metadata": {},
   "outputs": [],
   "source": []
  }
 ],
 "metadata": {
  "kernelspec": {
   "display_name": "Python (ML)",
   "language": "python",
   "name": "ml"
  },
  "language_info": {
   "codemirror_mode": {
    "name": "ipython",
    "version": 3
   },
   "file_extension": ".py",
   "mimetype": "text/x-python",
   "name": "python",
   "nbconvert_exporter": "python",
   "pygments_lexer": "ipython3",
   "version": "3.6.8"
  }
 },
 "nbformat": 4,
 "nbformat_minor": 4
}
