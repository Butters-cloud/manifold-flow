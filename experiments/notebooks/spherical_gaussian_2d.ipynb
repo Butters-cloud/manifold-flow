{
 "cells": [
  {
   "cell_type": "markdown",
   "metadata": {},
   "source": [
    "# Spherical Gaussian experiment (2D)"
   ]
  },
  {
   "cell_type": "markdown",
   "metadata": {},
   "source": [
    "## Setup"
   ]
  },
  {
   "cell_type": "code",
   "execution_count": 1,
   "metadata": {},
   "outputs": [],
   "source": [
    "import sys\n",
    "import numpy as np\n",
    "import matplotlib\n",
    "from matplotlib import pyplot as plt\n",
    "import torch\n",
    "from torch.utils.data import TensorDataset\n",
    "import logging\n",
    "\n",
    "\n",
    "sys.path.append(\"../../\")\n",
    "import manifold_flow as mf\n",
    "from manifold_flow import transforms, utils, distributions, training\n",
    "from manifold_flow.flows import Flow, ManifoldFlow\n",
    "from manifold_flow import nn as nn_\n",
    "from experiments.simulators.spherical_simulator import SphericalGaussianSimulator\n",
    "from experiments.utils import vector_transforms\n",
    "\n",
    "%matplotlib inline\n",
    "\n",
    "logging.basicConfig(\n",
    "    format=\"%(asctime)-5.5s %(name)-30.30s %(levelname)-7.7s %(message)s\",\n",
    "    datefmt=\"%H:%M\",\n",
    "    level=logging.DEBUG,\n",
    ")\n",
    "logger = logging.getLogger(__name__)\n",
    "# Output of all other modules (e.g. matplotlib)\n",
    "for key in logging.Logger.manager.loggerDict:\n",
    "    if \"experiments\" not in key and \"manifold_flow\" not in key:\n",
    "        logging.getLogger(key).setLevel(logging.WARNING)\n"
   ]
  },
  {
   "cell_type": "markdown",
   "metadata": {},
   "source": [
    "### Settings"
   ]
  },
  {
   "cell_type": "code",
   "execution_count": 2,
   "metadata": {},
   "outputs": [],
   "source": [
    "epochs = 20\n",
    "n_train = 100000\n",
    "epsilon = 0.01"
   ]
  },
  {
   "cell_type": "markdown",
   "metadata": {},
   "source": [
    "### Data"
   ]
  },
  {
   "cell_type": "code",
   "execution_count": 3,
   "metadata": {},
   "outputs": [],
   "source": [
    "simulator = SphericalGaussianSimulator(latent_dim=1, data_dim=2, epsilon=epsilon)\n",
    "x = simulator.sample(n_train)\n",
    "x_tensor = torch.from_numpy(x)\n",
    "train_dataset = TensorDataset(x_tensor, x_tensor)"
   ]
  },
  {
   "cell_type": "code",
   "execution_count": 4,
   "metadata": {},
   "outputs": [
    {
     "name": "stderr",
     "output_type": "stream",
     "text": [
      "10:28 experiments.simulators.spheric DEBUG   Evaluating true log density for x = [-1.4 -1.4]\n",
      "10:28 experiments.simulators.spheric DEBUG   Latent variables: z_phi = [3.92699082], z_eps = [0.97989899]\n",
      "../../experiments/simulators/spherical_simulator.py:108: RuntimeWarning: divide by zero encountered in log\n",
      "  logp_eps = np.log(norm(loc=0.0, scale=self._epsilon).pdf(z_eps))\n"
     ]
    },
    {
     "data": {
      "image/png": "[encoded data removed]",
      "text/plain": [
       "<Figure size 360x288 with 2 Axes>"
      ]
     },
     "metadata": {
      "needs_background": "light"
     },
     "output_type": "display_data"
    }
   ],
   "source": [
    "res = 200\n",
    "x_range = np.linspace(-1.4,1.4,res)\n",
    "y_range = np.linspace(-1.4,1.4,res)\n",
    "xx, yy = np.meshgrid(x_range, y_range)\n",
    "x_grid = np.concatenate((xx.reshape((-1,1)), yy.reshape((-1,1))), axis=1)\n",
    "logp_grid = simulator.log_density(x_grid, precise=True).reshape((res, res))\n",
    "logp_grid[~np.isfinite(logp_grid)] = -1000000.\n",
    "\n",
    "zmin, zmax = np.max(logp_grid) - 10, np.max(logp_grid)\n",
    "fig = plt.figure(figsize=(5,4))\n",
    "ax = plt.gca()\n",
    "\n",
    "pcm = plt.imshow(\n",
    "    np.clip(logp_grid, zmin, zmax),\n",
    "    extent=(-1.4,1.4,-1.4,1.4),\n",
    "    origin=\"lower\",\n",
    "    cmap=\"viridis\", norm=matplotlib.colors.Normalize(zmin, zmax),\n",
    "    interpolation='nearest'\n",
    ")\n",
    "cb = plt.colorbar(pcm, extend=\"both\")\n",
    "plt.scatter(x[::50,0], x[::50,1], s=2., c=\"black\", alpha=1.)\n",
    "\n",
    "plt.xlabel(\"$x_1$\")\n",
    "plt.ylabel(\"$x_2$\")\n",
    "cb.set_label(\"$\\log \\; p(x)$\")\n",
    "plt.tight_layout()\n",
    "\n",
    "plt.savefig(\"spherical_gaussian_2d_data.pdf\", dpi=500)"
   ]
  },
  {
   "cell_type": "code",
   "execution_count": 5,
   "metadata": {},
   "outputs": [
    {
     "data": {
      "text/plain": [
       "1.0000930850098504"
      ]
     },
     "execution_count": 5,
     "metadata": {},
     "output_type": "execute_result"
    }
   ],
   "source": [
    "pixel_size = (x_range[1] - x_range[0]) * (y_range[1] - y_range[0])\n",
    "\n",
    "np.sum(np.exp(logp_grid) * pixel_size)"
   ]
  },
  {
   "cell_type": "markdown",
   "metadata": {},
   "source": [
    "## Set up models"
   ]
  },
  {
   "cell_type": "markdown",
   "metadata": {},
   "source": [
    "### Manifold flow"
   ]
  },
  {
   "cell_type": "code",
   "execution_count": null,
   "metadata": {},
   "outputs": [
    {
     "name": "stderr",
     "output_type": "stream",
     "text": [
      "10:28 manifold_flow.transforms.proje DEBUG   Set up projection from vector with dimension 2 to vector with dimension 1\n",
      "10:28 manifold_flow.flows.base       DEBUG   Created standard flow with 0.0 M parameters (0.0 M trainable) with an estimated size of 0.0 <B\n",
      "10:28 manifold_flow.training.trainer INFO    Training on CPU with single precision\n",
      "10:28 manifold_flow.training.trainer DEBUG   Initialising training data\n",
      "10:28 manifold_flow.training.trainer DEBUG   Setting up optimizer\n",
      "10:28 manifold_flow.training.trainer DEBUG   Setting up LR scheduler\n",
      "10:28 manifold_flow.training.trainer DEBUG   Using early stopping with infinite patience\n",
      "10:28 manifold_flow.training.trainer DEBUG   Will print training progress every 1 epochs\n",
      "10:28 manifold_flow.training.trainer DEBUG   Beginning main training loop\n",
      "10:28 manifold_flow.training.trainer DEBUG   Training epoch 1 / 10\n",
      "10:28 manifold_flow.training.trainer DEBUG     Learning rate: 0.001\n",
      "10:28 manifold_flow.training.trainer INFO    Epoch   1: train loss  1.14930 (mse:  0.011)\n",
      "10:28 manifold_flow.training.trainer INFO               val. loss   0.30814 (mse:  0.003)\n",
      "10:28 manifold_flow.training.trainer DEBUG   Training epoch 2 / 10\n",
      "10:28 manifold_flow.training.trainer DEBUG     Learning rate: 0.001\n",
      "10:28 manifold_flow.training.trainer INFO    Epoch   2: train loss  0.25180 (mse:  0.003)\n",
      "10:28 manifold_flow.training.trainer INFO               val. loss   0.23679 (mse:  0.002)\n",
      "10:28 manifold_flow.training.trainer DEBUG   Training epoch 3 / 10\n",
      "10:28 manifold_flow.training.trainer DEBUG     Learning rate: 0.0009755282581475768\n",
      "10:28 manifold_flow.training.trainer INFO    Epoch   3: train loss  0.19964 (mse:  0.002)\n",
      "10:28 manifold_flow.training.trainer INFO               val. loss   0.17753 (mse:  0.002)\n",
      "10:28 manifold_flow.training.trainer DEBUG   Training epoch 4 / 10\n",
      "10:28 manifold_flow.training.trainer DEBUG     Learning rate: 0.0009045084971874737\n",
      "10:28 manifold_flow.training.trainer INFO    Epoch   4: train loss  0.16642 (mse:  0.002)\n",
      "10:28 manifold_flow.training.trainer INFO               val. loss   0.21209 (mse:  0.002)\n",
      "10:28 manifold_flow.training.trainer DEBUG   Training epoch 5 / 10\n",
      "10:28 manifold_flow.training.trainer DEBUG     Learning rate: 0.0007938926261462367\n",
      "10:28 manifold_flow.training.trainer INFO    Epoch   5: train loss  0.14732 (mse:  0.001)\n",
      "10:28 manifold_flow.training.trainer INFO               val. loss   0.14374 (mse:  0.001)\n",
      "10:28 manifold_flow.training.trainer DEBUG   Training epoch 6 / 10\n",
      "10:28 manifold_flow.training.trainer DEBUG     Learning rate: 0.0006545084971874737\n",
      "10:28 manifold_flow.training.trainer INFO    Epoch   6: train loss  0.13868 (mse:  0.001)\n",
      "10:28 manifold_flow.training.trainer INFO               val. loss   0.14989 (mse:  0.001)\n",
      "10:28 manifold_flow.training.trainer DEBUG   Training epoch 7 / 10\n",
      "10:28 manifold_flow.training.trainer DEBUG     Learning rate: 0.0005\n",
      "10:28 manifold_flow.training.trainer INFO    Epoch   7: train loss  0.12954 (mse:  0.001)\n",
      "10:28 manifold_flow.training.trainer INFO               val. loss   0.13061 (mse:  0.001)\n",
      "10:28 manifold_flow.training.trainer DEBUG   Training epoch 8 / 10\n",
      "10:28 manifold_flow.training.trainer DEBUG     Learning rate: 0.00034549150281252633\n",
      "10:28 manifold_flow.training.trainer INFO    Epoch   8: train loss  0.12410 (mse:  0.001)\n",
      "10:28 manifold_flow.training.trainer INFO               val. loss   0.13760 (mse:  0.001)\n",
      "10:28 manifold_flow.training.trainer DEBUG   Training epoch 9 / 10\n",
      "10:28 manifold_flow.training.trainer DEBUG     Learning rate: 0.00020610737385376348\n",
      "10:29 manifold_flow.training.trainer INFO    Epoch   9: train loss  0.12025 (mse:  0.001)\n",
      "10:29 manifold_flow.training.trainer INFO               val. loss   0.12797 (mse:  0.001)\n",
      "10:29 manifold_flow.training.trainer DEBUG   Training epoch 10 / 10\n",
      "10:29 manifold_flow.training.trainer DEBUG     Learning rate: 9.549150281252633e-05\n",
      "10:29 manifold_flow.training.trainer INFO    Epoch  10: train loss  0.11613 (mse:  0.001)\n",
      "10:29 manifold_flow.training.trainer INFO               val. loss   0.12739 (mse:  0.001)\n",
      "10:29 manifold_flow.training.trainer INFO    Early stopping did not improve performance\n",
      "10:29 manifold_flow.training.trainer DEBUG   Training finished\n",
      "10:29 manifold_flow.training.trainer DEBUG   Initialising training data\n",
      "10:29 manifold_flow.training.trainer DEBUG   Setting up optimizer\n",
      "10:29 manifold_flow.training.trainer DEBUG   Setting up LR scheduler\n",
      "10:29 manifold_flow.training.trainer DEBUG   Using early stopping with infinite patience\n",
      "10:29 manifold_flow.training.trainer DEBUG   Will print training progress every 1 epochs\n",
      "10:29 manifold_flow.training.trainer DEBUG   Beginning main training loop\n",
      "10:29 manifold_flow.training.trainer DEBUG   Training epoch 1 / 10\n",
      "10:29 manifold_flow.training.trainer DEBUG     Learning rate: 0.001\n"
     ]
    }
   ],
   "source": [
    "outer_transform = vector_transforms.create_transform(\n",
    "    2, 3,\n",
    "    linear_transform_type=\"permutation\",\n",
    "    base_transform_type=\"affine-coupling\",\n",
    "    context_features=None,\n",
    "    hidden_features=20,\n",
    "    num_transform_blocks=1,\n",
    "    resnet_transform=False,\n",
    ")\n",
    "inner_transform=transforms.ConditionalAffineScalarTransform(features=1)\n",
    "\n",
    "mf = ManifoldFlow(\n",
    "    data_dim=2,\n",
    "    latent_dim=1,\n",
    "    inner_transform=inner_transform,\n",
    "    outer_transform=outer_transform\n",
    ")\n",
    "\n",
    "trainer = training.trainer.ManifoldFlowTrainer(mf)\n",
    "trainer.train(\n",
    "    train_dataset,\n",
    "    [training.losses.mse],\n",
    "    loss_weights=[100.],\n",
    "    epochs=epochs // 2,\n",
    "    forward_kwargs={\"mode\":\"projection\"}\n",
    ")\n",
    "trainer.train(\n",
    "    train_dataset,\n",
    "    [training.losses.mse, training.losses.nll],\n",
    "    loss_weights=[0., 1.],\n",
    "    epochs=epochs // 2,\n",
    "    parameters=mf.inner_transform.parameters(),\n",
    "    forward_kwargs={\"mode\":\"mf\"}\n",
    ")"
   ]
  },
  {
   "cell_type": "markdown",
   "metadata": {},
   "source": [
    "### PIE"
   ]
  },
  {
   "cell_type": "code",
   "execution_count": null,
   "metadata": {},
   "outputs": [],
   "source": [
    "outer_transform = vector_transforms.create_transform(\n",
    "    2, 5,\n",
    "    linear_transform_type=\"permutation\",\n",
    "    base_transform_type=\"affine-coupling\",\n",
    "    context_features=None\n",
    ")\n",
    "inner_transform=transforms.ConditionalAffineScalarTransform(features=1)\n",
    "\n",
    "pie = ManifoldFlow(\n",
    "    data_dim=2,\n",
    "    latent_dim=1,\n",
    "    outer_transform=outer_transform,\n",
    "    inner_transform=inner_transform,\n",
    ")\n",
    "\n",
    "trainer = training.trainer.ManifoldFlowTrainer(pie)\n",
    "trainer.train(\n",
    "    train_dataset,\n",
    "    [training.losses.nll],\n",
    "    loss_weights=[1.],\n",
    "    epochs=epochs,\n",
    "    forward_kwargs={\"mode\":\"pie\"}\n",
    ")"
   ]
  },
  {
   "cell_type": "markdown",
   "metadata": {},
   "source": [
    "## Slice of PIE"
   ]
  },
  {
   "cell_type": "code",
   "execution_count": null,
   "metadata": {},
   "outputs": [],
   "source": [
    "outer_transform = vector_transforms.create_transform(\n",
    "    2, 5,\n",
    "    linear_transform_type=\"permutation\",\n",
    "    base_transform_type=\"affine-coupling\",\n",
    "    context_features=None\n",
    ")\n",
    "inner_transform=transforms.ConditionalAffineScalarTransform(features=1)\n",
    "\n",
    "slice_of_pie = ManifoldFlow(\n",
    "    data_dim=2,\n",
    "    latent_dim=1,\n",
    "    outer_transform=outer_transform,\n",
    "    inner_transform=inner_transform,\n",
    ")\n",
    "\n",
    "trainer = training.trainer.ManifoldFlowTrainer(slice_of_pie)\n",
    "trainer.train(\n",
    "    train_dataset,\n",
    "    [training.losses.mse],\n",
    "    loss_weights=[100.],\n",
    "    epochs=epochs // 2,\n",
    "    forward_kwargs={\"mode\": \"projection\"}\n",
    ")\n",
    "trainer.train(\n",
    "    train_dataset,\n",
    "    [training.losses.mse, training.losses.nll],\n",
    "    loss_weights=[0., 1.],\n",
    "    epochs=epochs // 2,\n",
    "    parameters=mf.inner_transform.parameters(),\n",
    "    forward_kwargs={\"mode\": \"slice\"}\n",
    ")"
   ]
  },
  {
   "cell_type": "markdown",
   "metadata": {},
   "source": [
    "### Standard flow"
   ]
  },
  {
   "cell_type": "code",
   "execution_count": null,
   "metadata": {
    "scrolled": true
   },
   "outputs": [],
   "source": [
    "transform = vector_transforms.create_transform(\n",
    "    2, 5,\n",
    "    linear_transform_type=\"permutation\",\n",
    "    base_transform_type=\"affine-coupling\",\n",
    "    context_features=None\n",
    ")\n",
    "sf = Flow(\n",
    "    data_dim=2,\n",
    "    transform=transform\n",
    ")\n",
    "\n",
    "trainer = training.trainer.ManifoldFlowTrainer(sf)\n",
    "trainer.train(\n",
    "    train_dataset,\n",
    "    [training.losses.nll],\n",
    "    loss_weights=[1.],\n",
    "    epochs=epochs,\n",
    ")"
   ]
  },
  {
   "cell_type": "markdown",
   "metadata": {},
   "source": [
    "## Evaluate the generative performance"
   ]
  },
  {
   "cell_type": "markdown",
   "metadata": {},
   "source": [
    "### Sample"
   ]
  },
  {
   "cell_type": "code",
   "execution_count": null,
   "metadata": {},
   "outputs": [],
   "source": [
    "x_gen_sf = sf.sample(n=1000).detach().numpy()\n",
    "x_gen_mf = mf.sample(n=1000).detach().numpy()\n",
    "x_gen_pie = pie.sample(n=1000).detach().numpy()\n",
    "x_gen_pie_full = pie.sample(n=1000, sample_orthogonal=True).detach().numpy()"
   ]
  },
  {
   "cell_type": "markdown",
   "metadata": {},
   "source": [
    "### Distance from manifold, true likelihood of generated samples"
   ]
  },
  {
   "cell_type": "code",
   "execution_count": null,
   "metadata": {},
   "outputs": [],
   "source": [
    "logp_min = -1000\n",
    "\n",
    "logp_gen_sf = simulator.log_density(x_gen_sf)\n",
    "logp_gen_mf = simulator.log_density(x_gen_mf)\n",
    "logp_gen_pie = simulator.log_density(x_gen_pie)\n",
    "logp_gen_pie_full = simulator.log_density(x_gen_pie_full)\n",
    "\n",
    "logp_gen_sf[(~np.isfinite(logp_gen_sf)) + (logp_gen_sf<logp_min)] = logp_min\n",
    "logp_gen_mf[(~np.isfinite(logp_gen_mf)) + (logp_gen_mf<logp_min)] = logp_min\n",
    "logp_gen_pie[(~np.isfinite(logp_gen_pie)) + (logp_gen_pie<logp_min)] = logp_min\n",
    "logp_gen_pie_full[(~np.isfinite(logp_gen_pie_full)) + (logp_gen_pie_full<logp_min)] = logp_min\n",
    "\n",
    "mean_logp_gen_sf = np.mean(logp_gen_sf)\n",
    "mean_logp_gen_mf = np.mean(logp_gen_mf)\n",
    "mean_logp_gen_pie = np.mean(logp_gen_pie)\n",
    "mean_logp_gen_pie_full = np.mean(logp_gen_pie_full)\n",
    "\n",
    "distance_from_manifold_gen_sf = np.mean(np.abs(np.sum(x_gen_sf**2, axis=1)**0.5 - 1))\n",
    "distance_from_manifold_gen_mf = np.mean(np.abs(np.sum(x_gen_mf**2, axis=1)**0.5 - 1))\n",
    "distance_from_manifold_gen_pie = np.mean(np.abs(np.sum(x_gen_pie**2, axis=1)**0.5 - 1))\n",
    "distance_from_manifold_gen_pie_full = np.mean(np.abs(np.sum(x_gen_pie_full**2, axis=1)**0.5 - 1))\n",
    "\n",
    "print(\"Mean true log likelihood of samples generated from flows (higher is better):\")\n",
    "print(\"  Standard flow:      {:>6.1f}\".format(mean_logp_gen_sf))\n",
    "print(\"  PIE:                {:>6.1f}\".format(mean_logp_gen_pie))\n",
    "print(\"  PIE (sampling all): {:>6.1f}\".format(mean_logp_gen_pie_full))\n",
    "print(\"  Manifold flow:      {:>6.1f}\".format(mean_logp_gen_mf))\n",
    "\n",
    "print(\"Mean Euclidean distance between samples generated from flows and true manifold (lower is better):\")\n",
    "print(\"  Standard flow:      {:>6.2f}\".format(distance_from_manifold_gen_sf))\n",
    "print(\"  PIE:                {:>6.2f}\".format(distance_from_manifold_gen_pie))\n",
    "print(\"  PIE (sampling all): {:>6.2f}\".format(distance_from_manifold_gen_pie_full))\n",
    "print(\"  Manifold flow:      {:>6.2f}\".format(distance_from_manifold_gen_mf))\n"
   ]
  },
  {
   "cell_type": "markdown",
   "metadata": {},
   "source": [
    "### Visualize generated samples"
   ]
  },
  {
   "cell_type": "code",
   "execution_count": null,
   "metadata": {},
   "outputs": [],
   "source": [
    "skip = 10\n",
    "res = 250\n",
    "x_range = np.linspace(-1.5,1.5,res)\n",
    "y_range = np.linspace(-1.5,1.5,res)\n",
    "xx, yy = np.meshgrid(x_range, y_range)\n",
    "x_grid = np.concatenate((xx.reshape((-1,1)), yy.reshape((-1,1))), axis=1)\n",
    "logp_grid = simulator.log_density(x_grid).reshape((res, res))\n",
    "logp_grid[~np.isfinite(logp_grid)] = -1000000.\n",
    "zmin, zmax = np.max(logp_grid) - 10., np.max(logp_grid)\n",
    "\n",
    "fig = plt.figure(figsize=(6,5))\n",
    "ax = plt.gca()\n",
    "\n",
    "pcm = plt.imshow(\n",
    "    np.clip(logp_grid, zmin, zmax),\n",
    "    extent=(-1.5,1.5,-1.5,1.5),\n",
    "    origin=\"lower\",\n",
    "    cmap=\"Greys\",\n",
    "    norm=matplotlib.colors.Normalize(zmin, zmax),\n",
    "    interpolation='nearest'\n",
    ")\n",
    "cb = plt.colorbar(pcm, extend=\"both\")\n",
    "\n",
    "plt.scatter(x_gen_sf[::skip,0], x_gen_sf[::skip,1], s=10., c=\"C0\", label=\"Standard flow\")\n",
    "plt.scatter(x_gen_pie[::skip,0], x_gen_pie[::skip,1], s=10., c=\"C1\", label=\"PIE\")\n",
    "plt.scatter(x_gen_pie_full[::skip,0], x_gen_pie_full[::skip,1], s=10., c=\"C2\", label=\"PIE (sampling all)\")\n",
    "plt.scatter(x_gen_mf[::skip,0], x_gen_mf[::skip,1], s=10., c=\"C3\", label=\"Manifold flow\")\n",
    "\n",
    "plt.legend()\n",
    "\n",
    "plt.xlim(-1.5, 1.5)\n",
    "plt.ylim(-1.5, 1.5)\n",
    "plt.xlabel(\"$x_1$\")\n",
    "plt.ylabel(\"$x_2$\")\n",
    "cb.set_label(\"True log density\")\n",
    "\n",
    "plt.tight_layout()\n",
    "plt.savefig(\"spherical_gaussian_2d_generation.pdf\")\n"
   ]
  },
  {
   "cell_type": "markdown",
   "metadata": {},
   "source": [
    "## Visualize learned likelihoods"
   ]
  },
  {
   "cell_type": "markdown",
   "metadata": {},
   "source": [
    "### Log likelihood"
   ]
  },
  {
   "cell_type": "code",
   "execution_count": null,
   "metadata": {},
   "outputs": [],
   "source": [
    "res = 100\n",
    "x_range = np.linspace(-1.5,1.5,res)\n",
    "y_range = np.linspace(-1.5,1.5,res)\n",
    "xx, yy = np.meshgrid(x_range, y_range)\n",
    "x_grid = np.concatenate((xx.reshape((-1,1)), yy.reshape((-1,1))), axis=1)\n",
    "x_grid_tensor = torch.FloatTensor(x_grid)\n",
    "\n",
    "learned_logp_grid_mf = mf.log_prob(x_grid_tensor, mode=\"mf\").detach().numpy().reshape((res, res))\n",
    "learned_logp_grid_mf_slice = mf.log_prob(x_grid_tensor, mode=\"pie\").detach().numpy().reshape((res, res))\n",
    "learned_logp_grid_sf = sf.log_prob(x_grid_tensor).detach().numpy().reshape((res, res))\n",
    "learned_logp_grid_pie = pie.log_prob(x_grid_tensor, mode=\"pie\").detach().numpy().reshape((res, res))\n",
    "learned_logp_grid_slice_of_pie = slice_of_pie.log_prob(x_grid_tensor, mode=\"slice\").detach().numpy().reshape((res, res))\n",
    "\n",
    "logp_grid_truth = simulator.log_density(x_grid).reshape((res, res))\n",
    "logp_grid_truth[~np.isfinite(logp_grid_truth)] = -1000000.\n"
   ]
  },
  {
   "cell_type": "code",
   "execution_count": null,
   "metadata": {},
   "outputs": [],
   "source": [
    "skip = 500\n",
    "\n",
    "fig = plt.figure(figsize=(12,15))\n",
    "\n",
    "for i, (label, logp) in enumerate(zip(\n",
    "    [\"True log density\", \"Standard flow log density\", \"PIE log density\", \"Slice of PIE log density\", \"Manifold flow log density\", \"Manifold flow, log slice density\"],\n",
    "    [logp_grid_truth, learned_logp_grid_sf, learned_logp_grid_pie, learned_logp_grid_slice_of_pie, learned_logp_grid_mf, learned_logp_grid_mf_slice]\n",
    "     )):\n",
    "    ax = plt.subplot(3,2,i+1)\n",
    "\n",
    "    zmin, zmax = np.max(logp_grid_truth) - 7., np.max(logp_grid_truth) + 3.\n",
    "\n",
    "    pcm = plt.imshow(\n",
    "        np.clip(logp, zmin, zmax),\n",
    "        extent=(-1.5, 1.5, -1.5, 1.5),\n",
    "        origin=\"lower\",\n",
    "        cmap=\"viridis\",\n",
    "        norm=matplotlib.colors.Normalize(zmin, zmax),\n",
    "        interpolation='nearest'\n",
    "    )\n",
    "    cb = plt.colorbar(pcm, extend=\"both\")\n",
    "    \n",
    "    # plt.scatter(x[::skip,0], x[::skip,1], s=5., c=\"black\")\n",
    "\n",
    "    plt.xlim(-1.5,1.5)\n",
    "    plt.ylim(-1.5,1.5)\n",
    "    plt.xlabel(\"$x_1$\")\n",
    "    plt.ylabel(\"$x_2$\")\n",
    "    cb.set_label(label)\n",
    "    \n",
    "plt.tight_layout()\n",
    "plt.savefig(\"spherical_gaussian_2d_log_prob.pdf\", dpi=600)\n"
   ]
  },
  {
   "cell_type": "markdown",
   "metadata": {},
   "source": [
    "## More visualizations"
   ]
  },
  {
   "cell_type": "markdown",
   "metadata": {},
   "source": [
    "### Reconstruction"
   ]
  },
  {
   "cell_type": "code",
   "execution_count": null,
   "metadata": {},
   "outputs": [],
   "source": [
    "x_in = SphericalGaussianSimulator(1,2,epsilon=epsilon).sample(100)\n",
    "x_in = torch.FloatTensor(x_in)\n",
    "x_out = mf(x_in)[0]\n",
    "x_in, x_out = x_in.detach().numpy(), x_out.detach().numpy()\n",
    "dx = x_out - x_in"
   ]
  },
  {
   "cell_type": "code",
   "execution_count": null,
   "metadata": {},
   "outputs": [],
   "source": [
    "fig = plt.figure(figsize=(5,5))\n",
    "ax = plt.gca()\n",
    "plt.scatter(x_in[:,0], x_in[:,1], s=15., c=\"C1\")\n",
    "plt.scatter(x_out[:,0], x_out[:,1], s=15., c=\"C0\")\n",
    "plt.quiver(\n",
    "    x_in[:,0], x_in[:,1], dx[:,0], dx[:,1],\n",
    "    angles='xy', scale_units='xy', scale=1., width=2.e-3, alpha=1.\n",
    ")\n",
    "\n",
    "plt.xlim(-1.5,1.5)\n",
    "plt.ylim(-1.5,1.5)\n",
    "plt.xlabel(\"$x_1$\")\n",
    "plt.ylabel(\"$x_2$\")\n",
    "plt.tight_layout()\n",
    "\n",
    "plt.savefig(\"spherical_gaussian_2d_reconstruction.pdf\")\n"
   ]
  },
  {
   "cell_type": "markdown",
   "metadata": {},
   "source": [
    "### Latent variables"
   ]
  },
  {
   "cell_type": "code",
   "execution_count": null,
   "metadata": {},
   "outputs": [],
   "source": [
    "res = 51\n",
    "x_range = np.linspace(-1.5,1.5,res)\n",
    "y_range = np.linspace(-1.5,1.5,res)\n",
    "xx, yy = np.meshgrid(x_range, y_range)\n",
    "x_grid = np.concatenate((xx.reshape((-1,1)), yy.reshape((-1,1))), axis=1)\n",
    "x_grid_tensor = torch.FloatTensor(x_grid)\n",
    "\n",
    "_, _, u = mf(x_grid_tensor)\n",
    "u = u.detach().numpy()\n"
   ]
  },
  {
   "cell_type": "code",
   "execution_count": null,
   "metadata": {},
   "outputs": [],
   "source": [
    "zmin, zmax = np.mean(u) - np.std(u), np.mean(u) + np.std(u)\n",
    "fig = plt.figure(figsize=(5,4))\n",
    "ax = plt.gca()\n",
    "\n",
    "pcm = plt.pcolormesh(\n",
    "    x_range, y_range,\n",
    "    np.clip(np.clip(u, zmin, zmax).reshape(res, res), zmin, zmax),\n",
    "    cmap=\"viridis\", norm=matplotlib.colors.Normalize(zmin, zmax)\n",
    ")\n",
    "cb = plt.colorbar(pcm, extend=\"both\")\n",
    "plt.scatter(x_gen_mf[:,0], x_gen_mf[:,1], s=5., c=\"black\")\n",
    "\n",
    "plt.xlim(-1.5,1.5)\n",
    "plt.ylim(-1.5,1.5)\n",
    "plt.xlabel(\"$x_1$\")\n",
    "plt.ylabel(\"$x_2$\")\n",
    "cb.set_label(\"$\\log \\; \\hat{p}(x)$\")\n",
    "plt.tight_layout()\n",
    "\n",
    "plt.savefig(\"spherical_gaussian_2d_latent.pdf\")"
   ]
  },
  {
   "cell_type": "markdown",
   "metadata": {
    "collapsed": true
   },
   "source": [
    "## Understanding the MF result"
   ]
  },
  {
   "cell_type": "code",
   "execution_count": null,
   "metadata": {},
   "outputs": [],
   "source": [
    "res = 25\n",
    "x_range = np.linspace(-1.5,1.5,res)\n",
    "y_range = np.linspace(-1.5,1.5,res)\n",
    "xx, yy = np.meshgrid(x_range, y_range)\n",
    "x = np.concatenate((xx.reshape((-1,1)), yy.reshape((-1,1))), axis=1)\n",
    "x = torch.FloatTensor(x_grid)\n"
   ]
  },
  {
   "cell_type": "code",
   "execution_count": null,
   "metadata": {},
   "outputs": [],
   "source": [
    "u, h_manifold, h_orthogonal, log_det_inner, _, jacobian_outer = mf._encode(x, \"mf\")\n",
    "_, _, _, _, log_det_outer_full, _ = mf._encode(x, \"pie\")\n",
    "x = mf.decode(u)\n"
   ]
  },
  {
   "cell_type": "code",
   "execution_count": null,
   "metadata": {},
   "outputs": [],
   "source": [
    "jacobian_outer[345]"
   ]
  },
  {
   "cell_type": "code",
   "execution_count": null,
   "metadata": {},
   "outputs": [],
   "source": [
    "# The Jacobian calculated so far is du / dx, need to invert this to get to dx / du\n",
    "jacobian_outer = torch.inverse(jacobian_outer)\n",
    "# Next, have to restrict the u space to the manifold direction\n",
    "jacobian_outer = jacobian_outer[:, :, : self.latent_dim]\n",
    "# And finally calculate log det (J^T J)\n",
    "jtj = torch.bmm(torch.transpose(jacobian_outer, -2, -1), jacobian_outer)\n",
    "log_det_outer = -0.5 * torch.slogdet(jtj)[1]\n",
    "\n",
    "log_prob = self.manifold_latent_distribution._log_prob(u, context=None)\n",
    "log_prob = log_prob + log_det_outer + log_det_inner"
   ]
  },
  {
   "cell_type": "code",
   "execution_count": null,
   "metadata": {},
   "outputs": [],
   "source": [
    "fig = plt.figure(figsize=(12,6))\n",
    "\n",
    "for panel, (label, quantity) in enumerate(zip(\n",
    "    [\"Perp latent\", \"Manifold latent after outer flow\", \"Manifold latent after inner flow\",\n",
    "     \"log det outer (manifold)\", \"log det outer (full)\", \"Base log prob\"],\n",
    "    [h_orthogonal, h_manifold, u, log_det_outer, log_det_outer_full, log_prob_latent]\n",
    ")):\n",
    "    ax = plt.subplot(2,3,panel+1)\n",
    "    \n",
    "    quantity_ = quantity.detach().numpy()\n",
    "    quantity_ = quantity_.flatten() + np.zeros((res**2))\n",
    "    zmin, zmax = np.mean(quantity_) - 1.5 * np.std(quantity_), np.mean(quantity_) + 1.5 * np.std(quantity_)\n",
    "\n",
    "    pcm = plt.pcolormesh(\n",
    "        x_range, y_range,\n",
    "        np.clip(np.clip(quantity_, zmin, zmax).reshape(res, res), zmin, zmax),\n",
    "        cmap=\"viridis\", norm=matplotlib.colors.Normalize(zmin, zmax)\n",
    "    )\n",
    "    cb = plt.colorbar(pcm, extend=\"both\")\n",
    "    plt.scatter(x_gen_mf[::10,0], x_gen_mf[::10,1], s=3., c=\"black\")\n",
    "\n",
    "    plt.xlim(-1.5,1.5)\n",
    "    plt.ylim(-1.5,1.5)\n",
    "    plt.xlabel(\"$x_1$\")\n",
    "    plt.ylabel(\"$x_2$\")\n",
    "    cb.set_label(label)\n",
    "    plt.tight_layout()\n",
    "\n",
    "plt.savefig(\"spherical_gaussian_2d_anatomy.pdf\")"
   ]
  },
  {
   "cell_type": "code",
   "execution_count": null,
   "metadata": {},
   "outputs": [],
   "source": []
  }
 ],
 "metadata": {
  "kernelspec": {
   "display_name": "Python (ML)",
   "language": "python",
   "name": "ml"
  },
  "language_info": {
   "codemirror_mode": {
    "name": "ipython",
    "version": 3
   },
   "file_extension": ".py",
   "mimetype": "text/x-python",
   "name": "python",
   "nbconvert_exporter": "python",
   "pygments_lexer": "ipython3",
   "version": "3.6.8"
  }
 },
 "nbformat": 4,
 "nbformat_minor": 2
}
