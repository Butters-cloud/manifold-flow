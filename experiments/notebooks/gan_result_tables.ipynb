{
 "cells": [
  {
   "cell_type": "markdown",
   "metadata": {},
   "source": [
    "# 2d image manifold results"
   ]
  },
  {
   "cell_type": "markdown",
   "metadata": {},
   "source": [
    "## Setup"
   ]
  },
  {
   "cell_type": "code",
   "execution_count": 1,
   "metadata": {},
   "outputs": [],
   "source": [
    "import sys\n",
    "import numpy as np\n",
    "from itertools import product\n"
   ]
  },
  {
   "cell_type": "markdown",
   "metadata": {},
   "source": [
    "## Load results"
   ]
  },
  {
   "cell_type": "code",
   "execution_count": 2,
   "metadata": {},
   "outputs": [],
   "source": [
    "n_runs = 10"
   ]
  },
  {
   "cell_type": "code",
   "execution_count": 3,
   "metadata": {},
   "outputs": [],
   "source": [
    "algo_filenames = []\n",
    "algo_additionals = []\n",
    "algo_labels = []\n",
    "algo_dividers = []\n",
    "\n",
    "def add_algo(filename, add, label):\n",
    "    algo_filenames.append(filename)\n",
    "    algo_additionals.append(add)\n",
    "    algo_labels.append(label)\n",
    "    \n",
    "    \n",
    "def add_divider():\n",
    "    algo_dividers.append(len(algo_filenames))\n",
    "\n",
    "add_algo(\"flow\", \"april\", r\"\\af{}\")\n",
    "add_algo(\"pie\", \"april\", r\"\\pie{}\")\n",
    "add_algo(\"mf\", \"april\", r\"\\mfmfmd{}\")\n",
    "add_algo(\"emf\", \"april\", r\"\\mfmfemd{}\")\n",
    "\n",
    "n_algos = len(algo_filenames)\n"
   ]
  },
  {
   "cell_type": "code",
   "execution_count": 4,
   "metadata": {},
   "outputs": [
    {
     "data": {
      "text/plain": [
       "(4, 10)"
      ]
     },
     "execution_count": 4,
     "metadata": {},
     "output_type": "execute_result"
    }
   ],
   "source": [
    "def load(name, shape, numpyfy=True, chains=1, result_dir=\"../data/results\"):\n",
    "    all_results = []\n",
    "    \n",
    "    for algo_filename, algo_add in zip(algo_filenames, algo_additionals):\n",
    "        algo_results = []\n",
    "            \n",
    "        for run in range(n_runs):\n",
    "            run_str = \"\" if run == 0 else \"_run{}\".format(run)\n",
    "\n",
    "            try:\n",
    "                this_result = np.load(\n",
    "                    \"{}/{}_2_gan2d_{}{}_{}.npy\".format(result_dir, algo_filename, algo_add, run_str, name)\n",
    "                )\n",
    "                if (not numpyfy) or (shape is None) or np.product(this_result.shape) == np.product(shape):\n",
    "                    algo_results.append(this_result.reshape(shape))\n",
    "                else:\n",
    "                    algo_results.append(np.nan*np.ones(shape))\n",
    "\n",
    "            except FileNotFoundError as e:\n",
    "                # print(e)\n",
    "                if shape is None:\n",
    "                    algo_results.append(None)\n",
    "                else:\n",
    "                    algo_results.append(np.nan*np.ones(shape))\n",
    "            \n",
    "        all_results.append(algo_results)\n",
    "    \n",
    "    if numpyfy:\n",
    "        all_results = np.array(all_results, dtype=np.float)\n",
    "        all_results = all_results.reshape([all_results.shape[0], n_runs] + list(shape))\n",
    "        \n",
    "    return all_results\n",
    "\n",
    "\n",
    "model_test_reco_xs = load(\"model_x_reco_test\", (100, 3, 64, 64))\n",
    "model_test_reco_errors = load(\"model_reco_error_test\", (100,))\n",
    "model_gen_fids = load(\"samples_fid\", (1,)).squeeze()\n",
    "model_gen_fids.shape\n"
   ]
  },
  {
   "cell_type": "code",
   "execution_count": 5,
   "metadata": {},
   "outputs": [
    {
     "data": {
      "text/plain": [
       "(4, 10)"
      ]
     },
     "execution_count": 5,
     "metadata": {},
     "output_type": "execute_result"
    }
   ],
   "source": [
    "max_reco_error = 10000.\n",
    "model_mean_reco_errors = np.mean(np.clip(model_test_reco_errors, 0., max_reco_error), axis=2)\n",
    "model_mean_reco_errors.shape\n"
   ]
  },
  {
   "cell_type": "markdown",
   "metadata": {},
   "source": [
    "## Outlier removal"
   ]
  },
  {
   "cell_type": "code",
   "execution_count": 6,
   "metadata": {},
   "outputs": [],
   "source": [
    "def mean_err_without_outliers(data, remove=1):\n",
    "    shape = list(data.shape)[:-1]\n",
    "    data.reshape((-1, data.shape[-1]))\n",
    "    \n",
    "    means, errors = [], []\n",
    "    \n",
    "    for data_ in data:\n",
    "        data_ = data_[np.isfinite(data_)]\n",
    "        if not len(data_) > 0:\n",
    "            means.append(np.nan)\n",
    "            errors.append(np.nan)\n",
    "            continue\n",
    "            \n",
    "        if len(data_) > 2*remove + 1:\n",
    "            for _ in range(remove):\n",
    "                data_ = np.delete(data_, np.argmin(data_))\n",
    "                data_ = np.delete(data_, np.argmax(data_))\n",
    "\n",
    "        means.append(np.mean(data_))\n",
    "        errors.append(np.std(data_) / len(data_)**0.5)\n",
    "        \n",
    "    return np.array(means).reshape(shape), np.array(errors).reshape(shape)\n",
    "    \n",
    "    \n",
    "model_fid_mean, model_fid_std = mean_err_without_outliers(model_gen_fids)\n",
    "model_reco_error_mean, model_reco_error_std = mean_err_without_outliers(model_mean_reco_errors)\n"
   ]
  },
  {
   "cell_type": "markdown",
   "metadata": {},
   "source": [
    "## Best metrics"
   ]
  },
  {
   "cell_type": "code",
   "execution_count": 7,
   "metadata": {},
   "outputs": [
    {
     "name": "stdout",
     "output_type": "stream",
     "text": [
      "\\mfmfemd{}\n",
      "\\mfmfemd{}\n"
     ]
    }
   ],
   "source": [
    "best_fid = -1\n",
    "best_reco = -1\n",
    "\n",
    "best_fid = np.nanargmin(model_fid_mean)\n",
    "print(algo_labels[best_fid])\n",
    "\n",
    "best_reco = np.nanargmin(np.where(model_reco_error_mean > 1., model_reco_error_mean, np.nan))\n",
    "print(algo_labels[best_reco])\n"
   ]
  },
  {
   "cell_type": "markdown",
   "metadata": {},
   "source": [
    "## Print result table"
   ]
  },
  {
   "cell_type": "code",
   "execution_count": 8,
   "metadata": {},
   "outputs": [],
   "source": [
    "def print_results(\n",
    "    l_label=max([len(l) for l in algo_labels]), l_mean=5, l_err=4, latex=False, after_decs=(1,0), labels=[\"FID\", \"Reco error\"]\n",
    "):\n",
    "    # Number of digits\n",
    "    l_result = l_mean + 2 + l_err\n",
    "    l_total = l_label + 1 + 2 * (3 + l_result)\n",
    "        \n",
    "    # Divider\n",
    "    empty_result = \"\" if latex else \" \"*(l_result + 1)\n",
    "    col_divider = \"&\" if latex else \"|\"\n",
    "    line_end = r\"\\\\\" if latex else \"\"\n",
    "    block_divider = r\"\\midrule\" if latex else \"-\"*l_total\n",
    "    \n",
    "    # Number formatting\n",
    "    def _f(val, err, after_dec, best=False):\n",
    "        if not np.any(np.isfinite(val)):\n",
    "            return empty_result\n",
    "        \n",
    "        result = \"{:>{}.{}f}\".format(val, l_mean, after_dec)\n",
    "        if latex and best:\n",
    "            result = r\"\\textbf{\" + result + \"}\"\n",
    "            \n",
    "        err_str = \"({:>{}.{}f})\".format(err, l_err, after_dec)\n",
    "        if latex:\n",
    "            result += r\"\\,\\textcolor{darkgray}{\" + err_str + \"}\"\n",
    "        else:\n",
    "            result += err_str\n",
    "            \n",
    "        result += \"*\" if not latex and best else \" \"\n",
    "        \n",
    "        if latex:\n",
    "            result = result.replace(\"-\", \"$-{}$\")\n",
    "            result = result.replace(\"darkgray\", \"dark-gray\")\n",
    "        return result\n",
    "    \n",
    "    \n",
    "    # Header\n",
    "    print(f\"{'':<{l_label}.{l_label}s} {col_divider} {labels[0]:>{l_result}.{l_result}s} {col_divider} {labels[1]:>{l_result}.{l_result}s} {line_end}\")\n",
    "    print(block_divider)\n",
    "\n",
    "    # Iterate over methods\n",
    "    for i, (label, fid, fid_err, reco, reco_err) in enumerate(zip(\n",
    "        algo_labels, model_fid_mean, model_fid_std, model_reco_error_mean, model_reco_error_std\n",
    "    )):\n",
    "        # Divider\n",
    "        if i in algo_dividers:\n",
    "            print(block_divider)\n",
    "            \n",
    "        # Print results\n",
    "        print(\n",
    "            f\"{label:<{l_label}.{l_label}s} {col_divider} \"\n",
    "            + f\"{_f(fid, fid_err, after_decs[0], i==best_fid):s}{col_divider} \"\n",
    "            + f\"{_f(reco, reco_err, after_decs[1], i==best_reco):s} {line_end}\"\n",
    "        )\n"
   ]
  },
  {
   "cell_type": "code",
   "execution_count": 9,
   "metadata": {},
   "outputs": [
    {
     "name": "stdout",
     "output_type": "stream",
     "text": [
      "           |         FID |  Reco error \n",
      "---------------------------------------\n",
      "\\af{}      |  55.8( 1.0) |     0(   0)  \n",
      "\\pie{}     | 143.3( 3.9) |  5631(  33)  \n",
      "\\mfmfmd{}  |  44.4( 0.0) |   346(   5)  \n",
      "\\mfmfemd{} |  43.4( 0.2)*|   304(   4)* \n"
     ]
    }
   ],
   "source": [
    "print_results()"
   ]
  },
  {
   "cell_type": "code",
   "execution_count": 10,
   "metadata": {},
   "outputs": [
    {
     "name": "stdout",
     "output_type": "stream",
     "text": [
      "           &         FID &  Reco error \\\\\n",
      "\\midrule\n",
      "\\af{}      &  55.8\\,\\textcolor{dark-gray}{( 1.0)} &     0\\,\\textcolor{dark-gray}{(   0)}  \\\\\n",
      "\\pie{}     & 143.3\\,\\textcolor{dark-gray}{( 3.9)} &  5631\\,\\textcolor{dark-gray}{(  33)}  \\\\\n",
      "\\mfmfmd{}  &  44.4\\,\\textcolor{dark-gray}{( 0.0)} &   346\\,\\textcolor{dark-gray}{(   5)}  \\\\\n",
      "\\mfmfemd{} & \\textbf{ 43.4}\\,\\textcolor{dark-gray}{( 0.2)} & \\textbf{  304}\\,\\textcolor{dark-gray}{(   4)}  \\\\\n"
     ]
    }
   ],
   "source": [
    "print_results(latex=True)"
   ]
  },
  {
   "cell_type": "code",
   "execution_count": 11,
   "metadata": {},
   "outputs": [
    {
     "data": {
      "text/plain": [
       "array([[ 58.20174533,  54.84207584,  54.31252978,  68.97241479,\n",
       "         50.90466642,          nan,          nan,          nan,\n",
       "                 nan,          nan],\n",
       "       [152.73049773, 136.81524045, 140.40260621, 165.56874879,\n",
       "        133.06243176,          nan,          nan,          nan,\n",
       "                 nan,          nan],\n",
       "       [ 44.33512519,  44.82221643,  43.70995254,  44.43353831,\n",
       "         44.3712352 ,          nan,          nan,          nan,\n",
       "                 nan,          nan],\n",
       "       [ 43.45379455,  43.74331072,  42.8844404 ,          nan,\n",
       "                 nan,          nan,          nan,          nan,\n",
       "                 nan,          nan]])"
      ]
     },
     "execution_count": 11,
     "metadata": {},
     "output_type": "execute_result"
    }
   ],
   "source": [
    "model_gen_fids"
   ]
  },
  {
   "cell_type": "code",
   "execution_count": null,
   "metadata": {},
   "outputs": [],
   "source": []
  }
 ],
 "metadata": {
  "kernelspec": {
   "display_name": "Python (ML)",
   "language": "python",
   "name": "ml"
  },
  "language_info": {
   "codemirror_mode": {
    "name": "ipython",
    "version": 3
   },
   "file_extension": ".py",
   "mimetype": "text/x-python",
   "name": "python",
   "nbconvert_exporter": "python",
   "pygments_lexer": "ipython3",
   "version": "3.7.3"
  }
 },
 "nbformat": 4,
 "nbformat_minor": 4
}
