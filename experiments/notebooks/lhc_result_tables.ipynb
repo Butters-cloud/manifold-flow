{
 "cells": [
  {
   "cell_type": "markdown",
   "metadata": {},
   "source": [
    "# Particle physics results"
   ]
  },
  {
   "cell_type": "markdown",
   "metadata": {},
   "source": [
    "## Setup"
   ]
  },
  {
   "cell_type": "code",
   "execution_count": 1,
   "metadata": {},
   "outputs": [],
   "source": [
    "import sys\n",
    "import numpy as np\n",
    "from sklearn.metrics import roc_auc_score\n",
    "from sklearn.neighbors import KernelDensity\n",
    "from itertools import product\n"
   ]
  },
  {
   "cell_type": "markdown",
   "metadata": {},
   "source": [
    "## Load results"
   ]
  },
  {
   "cell_type": "code",
   "execution_count": 2,
   "metadata": {},
   "outputs": [],
   "source": [
    "n_runs = 10\n",
    "n_chains = 4\n",
    "n_trueparams = 3"
   ]
  },
  {
   "cell_type": "code",
   "execution_count": 3,
   "metadata": {},
   "outputs": [],
   "source": [
    "algo_filenames = []\n",
    "algo_additionals = []\n",
    "algo_labels = []\n",
    "algo_dividers = []\n",
    "algo_dims = []\n",
    "\n",
    "def add_algo(filename, add, label, dim=\"\"):\n",
    "    algo_filenames.append(filename)\n",
    "    algo_additionals.append(add)\n",
    "    algo_labels.append(label)\n",
    "    algo_dims.append(dim)\n",
    "    \n",
    "    \n",
    "def add_divider():\n",
    "    algo_dividers.append(len(algo_filenames))\n",
    "\n",
    "add_algo(\"flow\", \"_may\", r\"\\af{}\", \"40d\")\n",
    "add_algo(\"pie\", \"_conditionalmanifold_may\", r\"\\pie{} (original)\", \"40d\")\n",
    "add_algo(\"pie\", \"_may\", r\"\\pie{} (unconditional manifold)\", \"40d\")\n",
    "add_algo(\"mf\", \"_sequential_may\", r\"\\mfmfmd{sequential }\", \"40d\")\n",
    "add_algo(\"mf\", \"_alternate_may\", r\"\\mfmfmd{alternating }\", \"40d\")\n",
    "add_algo(\"emf\", \"_sequential_may\", r\"\\mfmfemd{sequential }\", \"40d\")\n",
    "add_algo(\"emf\", \"_alternate_may\", r\"\\mfmfemd{alternating }\", \"40d\")\n",
    "\n",
    "add_divider()\n",
    "\n",
    "add_algo(\"flow\", \"_scandal_may\", r\"\\afscandal{}\", \"40d\")\n",
    "add_algo(\"pie\", \"_conditionalmanifold_scandal_may\", r\"\\piescandal{, original}\", \"40d\")\n",
    "add_algo(\"pie\", \"_scandal_may\", r\"\\piescandal{, unconditional man.}\", \"40d\")\n",
    "add_algo(\"mf\", \"_sequential_scandal_may\", r\"\\mfmfscandal{sequential }\", \"40d\")\n",
    "add_algo(\"mf\", \"_alternate_scandal_may\", r\"\\mfmfscandal{alternating }\", \"40d\")\n",
    "add_algo(\"emf\", \"_sequential_scandal_may\", r\"\\mfmfescandal{sequential }\", \"40d\")\n",
    "add_algo(\"emf\", \"_alternate_scandal_may\", r\"\\mfmfescandal{alternating }\", \"40d\")\n",
    "\n",
    "add_divider()\n",
    "\n",
    "add_algo(\"flow\", \"_may\", \"2D summaries (AF)\", \"2d\")\n",
    "add_algo(\"flow\", \"_scandal_may\", \"2D summaries (SCANDAL)\", \"2d\")\n",
    "add_algo(\"alices\", \"_may\", \"ALICES\")\n",
    "\n",
    "n_algos = len(algo_filenames)\n"
   ]
  },
  {
   "cell_type": "code",
   "execution_count": 4,
   "metadata": {},
   "outputs": [],
   "source": [
    "def load(name, shape, numpyfy=True, chains=1, result_dir=\"../data/results\"):\n",
    "    all_results = []\n",
    "    \n",
    "    for algo_filename, algo_add, algo_dim in zip(algo_filenames, algo_additionals, algo_dims):\n",
    "        algo_results = []\n",
    "            \n",
    "        for run in range(n_runs):\n",
    "            run_str = \"\" if run == 0 else \"_run{}\".format(run)\n",
    "            \n",
    "            for trueparam in range(n_trueparams):\n",
    "                trueparam_str = \"\" if trueparam == 0 else \"_trueparam{}\".format(trueparam)\n",
    "\n",
    "                try:\n",
    "                    this_result = np.load(\n",
    "                        \"{}/{}_{}_lhc{}{}{}_{}{}.npy\".format(\n",
    "                            result_dir, algo_filename, \"2\" if algo_dim == \"2d\" else \"14\",\n",
    "                            algo_dim, algo_add, run_str, name, trueparam_str\n",
    "                        )\n",
    "                    )\n",
    "                    if (not numpyfy) or (shape is None) or np.product(this_result.shape) == np.product(shape):\n",
    "                        algo_results.append(this_result.reshape(shape))\n",
    "                    else:\n",
    "                        algo_results.append(np.nan*np.ones(shape))\n",
    "\n",
    "                except FileNotFoundError as e:\n",
    "                    # print(e)\n",
    "                    if shape is None:\n",
    "                        algo_results.append(None)\n",
    "                    else:\n",
    "                        algo_results.append(np.nan*np.ones(shape))\n",
    "            \n",
    "        all_results.append(algo_results)\n",
    "    \n",
    "    if numpyfy:\n",
    "        all_results = np.array(all_results, dtype=np.float)\n",
    "        all_results = all_results.reshape([all_results.shape[0], n_runs, n_trueparams] + list(shape))\n",
    "        \n",
    "    return all_results\n",
    "\n",
    "\n",
    "model_gen_x = load(\"samples\", None, numpyfy=False)\n",
    "model_gen_closure = load(\"samples_manifold_distance\", (10000,))\n",
    "model_test_reco_error = load(\"model_reco_error_test\", (1000,))\n",
    "\n"
   ]
  },
  {
   "cell_type": "code",
   "execution_count": 5,
   "metadata": {},
   "outputs": [
    {
     "data": {
      "text/plain": [
       "(17, 10, 3, 4, 750, 2)"
      ]
     },
     "execution_count": 5,
     "metadata": {},
     "output_type": "execute_result"
    }
   ],
   "source": [
    "def load_mcmc(name, shape, numpyfy=True, result_dir=\"../data/results\"):\n",
    "    all_results = []\n",
    "    \n",
    "    for algo_filename, algo_add, algo_dim in zip(algo_filenames, algo_additionals, algo_dims):\n",
    "        algo_results = []\n",
    "            \n",
    "        for run in range(n_runs):\n",
    "            run_str = \"\" if run == 0 else \"_run{}\".format(run)\n",
    "            \n",
    "            for trueparam in range(n_trueparams):\n",
    "                trueparam_str = \"\" if trueparam == 0 else \"_trueparam{}\".format(trueparam)\n",
    "            \n",
    "                for chain in range(n_chains):\n",
    "                    chain_str = \"\" if chain == 0 else \"_chain{}\".format(chain)\n",
    "\n",
    "                    try:\n",
    "                        this_result = np.load(\n",
    "                            \"{}/{}_{}_lhc{}{}{}_{}{}{}.npy\".format(\n",
    "                                result_dir, algo_filename, \"2\" if algo_dim == \"2d\" else \"14\",\n",
    "                                algo_dim, algo_add, run_str, name, trueparam_str, chain_str\n",
    "                            )\n",
    "                        )\n",
    "                        if (not numpyfy) or (shape is None) or np.product(this_result.shape) == np.product(shape):\n",
    "                            algo_results.append(this_result.reshape(shape))\n",
    "                        else:\n",
    "                            algo_results.append(np.nan*np.ones(shape))\n",
    "\n",
    "                    except FileNotFoundError as e:\n",
    "                        # print(e)\n",
    "                        if shape is None:\n",
    "                            algo_results.append(None)\n",
    "                        else:\n",
    "                            algo_results.append(np.nan*np.ones(shape))\n",
    "            \n",
    "        all_results.append(algo_results)\n",
    "    \n",
    "    all_results = np.array(all_results, dtype=np.float)\n",
    "    all_results = all_results.reshape([all_results.shape[0], n_runs, n_trueparams, n_chains] + list(shape))\n",
    "        \n",
    "    return all_results\n",
    "\n",
    "\n",
    "model_posterior_samples = load_mcmc(\"posterior_samples\", (750, 2,))\n",
    "model_posterior_samples.shape  # (algo, run, true param id, chain, sample, theta component)\n"
   ]
  },
  {
   "cell_type": "markdown",
   "metadata": {},
   "source": [
    "## Calculate metrics"
   ]
  },
  {
   "cell_type": "code",
   "execution_count": 6,
   "metadata": {},
   "outputs": [
    {
     "data": {
      "text/plain": [
       "(17, 10)"
      ]
     },
     "execution_count": 6,
     "metadata": {},
     "output_type": "execute_result"
    }
   ],
   "source": [
    "model_gen_mean_closure = np.mean(model_gen_closure, axis=(2,3))\n",
    "model_gen_mean_closure.shape\n"
   ]
  },
  {
   "cell_type": "code",
   "execution_count": 35,
   "metadata": {},
   "outputs": [
    {
     "data": {
      "text/plain": [
       "(17, 10)"
      ]
     },
     "execution_count": 35,
     "metadata": {},
     "output_type": "execute_result"
    }
   ],
   "source": [
    "max_reco_error = 10.\n",
    "model_mean_reco_error = np.mean(np.clip(model_test_reco_error, 0., max_reco_error), axis=(2,3))\n",
    "model_mean_reco_error.shape\n"
   ]
  },
  {
   "cell_type": "code",
   "execution_count": 36,
   "metadata": {},
   "outputs": [
    {
     "data": {
      "text/plain": [
       "(17, 10)"
      ]
     },
     "execution_count": 36,
     "metadata": {},
     "output_type": "execute_result"
    }
   ],
   "source": [
    "bandwidth = 0.1\n",
    "true_param_points = np.array([[0.,0.], [0.5, 0.], [-1., -1.]])\n",
    "\n",
    "model_true_log_posteriors = []\n",
    "\n",
    "for algo, run, trueparam in product(range(n_algos), range(n_runs), range(n_trueparams)):\n",
    "    mcmcs = model_posterior_samples[algo, run, trueparam].reshape((-1, 2))\n",
    "    mcmcs = mcmcs[np.all(np.isfinite(mcmcs), axis=-1)]\n",
    "    \n",
    "    if len(mcmcs) == 0:\n",
    "        model_true_log_posteriors.append(np.nan)\n",
    "        continue\n",
    "        \n",
    "    kde = KernelDensity(kernel=\"gaussian\", bandwidth=bandwidth)\n",
    "    kde.fit(mcmcs)\n",
    "    model_true_log_posteriors.append(kde.score(true_param_points[trueparam].reshape((1, 2))))\n",
    "\n",
    "model_true_log_posteriors = np.mean(np.array(model_true_log_posteriors).reshape((n_algos, n_runs, n_trueparams)), axis=-1)\n",
    "model_true_log_posteriors.shape\n"
   ]
  },
  {
   "cell_type": "markdown",
   "metadata": {},
   "source": [
    "## Outlier removal"
   ]
  },
  {
   "cell_type": "code",
   "execution_count": 37,
   "metadata": {},
   "outputs": [],
   "source": [
    "def mean_err_without_outliers(data, remove=1):\n",
    "    shape = list(data.shape)[:-1]\n",
    "    data.reshape((-1, data.shape[-1]))\n",
    "    \n",
    "    means, errors = [], []\n",
    "    \n",
    "    for data_ in data:\n",
    "        data_ = data_[np.isfinite(data_)]\n",
    "        if not len(data_) > 0:\n",
    "            means.append(np.nan)\n",
    "            errors.append(np.nan)\n",
    "            continue\n",
    "            \n",
    "        if len(data_) > 2*remove + 1:\n",
    "            for _ in range(remove):\n",
    "                data_ = np.delete(data_, np.argmin(data_))\n",
    "                data_ = np.delete(data_, np.argmax(data_))\n",
    "\n",
    "        means.append(np.mean(data_))\n",
    "        errors.append(np.std(data_) / len(data_)**0.5)\n",
    "        \n",
    "    return np.array(means).reshape(shape), np.array(errors).reshape(shape)\n",
    "    \n",
    "    \n",
    "model_true_log_posteriors_mean, model_true_log_posteriors_std = mean_err_without_outliers(model_true_log_posteriors)\n",
    "model_gen_mean_closure_mean, model_gen_mean_closure_std = mean_err_without_outliers(model_gen_mean_closure)\n",
    "model_mean_reco_error_mean, model_mean_reco_error_std = mean_err_without_outliers(model_mean_reco_error)\n"
   ]
  },
  {
   "cell_type": "markdown",
   "metadata": {},
   "source": [
    "## Best metrics"
   ]
  },
  {
   "cell_type": "code",
   "execution_count": 38,
   "metadata": {},
   "outputs": [
    {
     "name": "stdout",
     "output_type": "stream",
     "text": [
      "\\af{}\n",
      "\\mfmfmd{sequential }\n",
      "\\mfmfescandal{alternating }\n"
     ]
    },
    {
     "name": "stderr",
     "output_type": "stream",
     "text": [
      "/Users/johannbrehmer/anaconda3/envs/ml/lib/python3.6/site-packages/ipykernel_launcher.py:6: RuntimeWarning: invalid value encountered in greater\n",
      "  \n"
     ]
    }
   ],
   "source": [
    "best_closure, best_posterior = -1, -1\n",
    "\n",
    "best_closure = np.nanargmin(model_gen_mean_closure_mean)\n",
    "print(algo_labels[best_closure])\n",
    "\n",
    "best_reco = np.nanargmin(np.where(model_mean_reco_error_mean > 1.e-3, model_mean_reco_error_mean, np.nan))\n",
    "print(algo_labels[best_reco])\n",
    "    \n",
    "best_posterior = np.nanargmax(model_true_log_posteriors_mean)\n",
    "print(algo_labels[best_posterior])\n"
   ]
  },
  {
   "cell_type": "markdown",
   "metadata": {},
   "source": [
    "## Print result table"
   ]
  },
  {
   "cell_type": "code",
   "execution_count": 39,
   "metadata": {},
   "outputs": [],
   "source": [
    "def print_results(\n",
    "    l_label=max([len(l) for l in algo_labels]), l_mean=6, l_err=5, latex=False, after_decs=(3,3,2)\n",
    "):\n",
    "    # Number of digits\n",
    "    l_result = l_mean + 2 + l_err\n",
    "    l_total = l_label + 1 + 3 * (3 + l_result)\n",
    "        \n",
    "    # Divider\n",
    "    empty_result = \"\" if latex else \" \"*(l_result + 1)\n",
    "    col_divider = \"&\" if latex else \"|\"\n",
    "    line_end = r\"\\\\\" if latex else \"\"\n",
    "    block_divider = r\"\\midrule\" if latex else \"-\"*l_total\n",
    "    \n",
    "    # Number formatting\n",
    "    def _f(val, err, after_dec, best=False):\n",
    "        if not np.any(np.isfinite(val)):\n",
    "            return empty_result\n",
    "        \n",
    "        result = \"{:>{}.{}f}\".format(val, l_mean, after_dec)\n",
    "        if latex and best:\n",
    "            result = r\"\\textbf{\" + result + \"}\"\n",
    "            \n",
    "        err_str = \"({:>{}.{}f})\".format(err, l_err, after_dec)\n",
    "        if latex:\n",
    "            result += r\"\\,\\textcolor{darkgray}{\" + err_str + \"}\"\n",
    "        else:\n",
    "            result += err_str\n",
    "            \n",
    "        result += \"*\" if not latex and best else \" \"\n",
    "        \n",
    "        if latex:\n",
    "            result = result.replace(\"-\", \"$-{}$\")\n",
    "            result = result.replace(\"darkgray\", \"dark-gray\")\n",
    "        return result\n",
    "    \n",
    "    \n",
    "    # Header\n",
    "    print(\n",
    "        \"{2:<{0}.{0}s} {5} {3:>{1}.{1}s} {5} {7:>{1}.{1}s} {5} {4:>{1}.{1}s} {6}\".format(\n",
    "            l_label, l_result, \"\", \"Closure\", \"log p\", col_divider, line_end, \"Reco error\"\n",
    "        )\n",
    "    )\n",
    "    print(block_divider)\n",
    "\n",
    "    # Iterate over methods\n",
    "    for i, (label, closure, closure_err, posterior, posterior_err, reco, reco_err) in enumerate(zip(\n",
    "        algo_labels,\n",
    "        model_gen_mean_closure_mean,\n",
    "        model_gen_mean_closure_std,\n",
    "        model_true_log_posteriors_mean,\n",
    "        model_true_log_posteriors_std,\n",
    "        model_mean_reco_error_mean,\n",
    "        model_mean_reco_error_std,\n",
    "    )):\n",
    "        # Divider\n",
    "        if i in algo_dividers:\n",
    "            print(block_divider)\n",
    "            \n",
    "        # Print results\n",
    "        print(\n",
    "            \"{1:<{0}.{0}s} {4} {2}{4} {6}{4} {3} {5}\".format(\n",
    "                l_label, label,\n",
    "                _f(closure, closure_err, after_decs[0], i==best_closure),\n",
    "                _f(posterior, posterior_err, after_decs[2], i==best_posterior),\n",
    "                col_divider, line_end,\n",
    "                _f(reco, reco_err, after_decs[1], i==best_reco),\n",
    "            )\n",
    "        )\n"
   ]
  },
  {
   "cell_type": "code",
   "execution_count": 40,
   "metadata": {},
   "outputs": [
    {
     "name": "stdout",
     "output_type": "stream",
     "text": [
      "                                  |       Closure |    Reco error |         log p \n",
      "----------------------------------------------------------------------------------\n",
      "\\af{}                             |  0.014(0.002)*|  0.000(0.000) | -10.55( 3.42)  \n",
      "\\pie{} (original)                 |               |               |                \n",
      "\\pie{} (unconditional manifold)   |  0.036(0.006) |  4.553(0.238) |  -1.78( 0.14)  \n",
      "\\mfmfmd{sequential }              |  0.047(0.011) |  0.322(0.137)*|  -1.80( 0.09)  \n",
      "\\mfmfmd{alternating }             |  0.155(0.014) |  0.627(0.126) |  -2.30( 0.06)  \n",
      "\\mfmfemd{sequential }             |  0.056(0.010) |               |  -2.57( 0.42)  \n",
      "\\mfmfemd{alternating }            |  0.056(0.011) |               |  -2.42( 0.31)  \n",
      "----------------------------------------------------------------------------------\n",
      "\\afscandal{}                      |  0.062(0.004) |  0.000(0.000) |   0.04( 0.11)  \n",
      "\\piescandal{, original}           |               |               |                \n",
      "\\piescandal{, unconditional man.} |  0.141(0.011) |  3.534(0.251) |   0.07( 0.15)  \n",
      "\\mfmfscandal{sequential }         |  0.145(0.004) |  0.462(0.133) |   0.00( 0.15)  \n",
      "\\mfmfscandal{alternating }        |  0.365(0.068) |  0.880(0.111) |   0.15( 0.09)  \n",
      "\\mfmfescandal{sequential }        |  0.177(0.019) |  0.375(0.140) |   0.12( 0.10)  \n",
      "\\mfmfescandal{alternating }       |  0.205(0.015) |  0.691(0.015) |   0.21( 0.02)* \n",
      "----------------------------------------------------------------------------------\n",
      "2D summaries (AF)                 |               |  0.000(0.000) |  -0.46( 0.08)  \n",
      "2D summaries (SCANDAL)            |               |  0.000(0.000) |  -0.51( 0.07)  \n",
      "ALICES                            |               |               |   0.18( 0.06)  \n"
     ]
    }
   ],
   "source": [
    "print_results()"
   ]
  },
  {
   "cell_type": "code",
   "execution_count": 41,
   "metadata": {},
   "outputs": [
    {
     "name": "stdout",
     "output_type": "stream",
     "text": [
      "                                  &       Closure &    Reco error &         log p \\\\\n",
      "\\midrule\n",
      "\\af{}                             & \\textbf{ 0.014}\\,\\textcolor{dark-gray}{(0.002)} &  0.000\\,\\textcolor{dark-gray}{(0.000)} & $-{}$10.55\\,\\textcolor{dark-gray}{( 3.42)}  \\\\\n",
      "\\pie{} (original)                 & & &  \\\\\n",
      "\\pie{} (unconditional manifold)   &  0.036\\,\\textcolor{dark-gray}{(0.006)} &  4.553\\,\\textcolor{dark-gray}{(0.238)} &  $-{}$1.78\\,\\textcolor{dark-gray}{( 0.14)}  \\\\\n",
      "\\mfmfmd{sequential }              &  0.047\\,\\textcolor{dark-gray}{(0.011)} & \\textbf{ 0.322}\\,\\textcolor{dark-gray}{(0.137)} &  $-{}$1.80\\,\\textcolor{dark-gray}{( 0.09)}  \\\\\n",
      "\\mfmfmd{alternating }             &  0.155\\,\\textcolor{dark-gray}{(0.014)} &  0.627\\,\\textcolor{dark-gray}{(0.126)} &  $-{}$2.30\\,\\textcolor{dark-gray}{( 0.06)}  \\\\\n",
      "\\mfmfemd{sequential }             &  0.056\\,\\textcolor{dark-gray}{(0.010)} & &  $-{}$2.57\\,\\textcolor{dark-gray}{( 0.42)}  \\\\\n",
      "\\mfmfemd{alternating }            &  0.056\\,\\textcolor{dark-gray}{(0.011)} & &  $-{}$2.42\\,\\textcolor{dark-gray}{( 0.31)}  \\\\\n",
      "\\midrule\n",
      "\\afscandal{}                      &  0.062\\,\\textcolor{dark-gray}{(0.004)} &  0.000\\,\\textcolor{dark-gray}{(0.000)} &   0.04\\,\\textcolor{dark-gray}{( 0.11)}  \\\\\n",
      "\\piescandal{, original}           & & &  \\\\\n",
      "\\piescandal{, unconditional man.} &  0.141\\,\\textcolor{dark-gray}{(0.011)} &  3.534\\,\\textcolor{dark-gray}{(0.251)} &   0.07\\,\\textcolor{dark-gray}{( 0.15)}  \\\\\n",
      "\\mfmfscandal{sequential }         &  0.145\\,\\textcolor{dark-gray}{(0.004)} &  0.462\\,\\textcolor{dark-gray}{(0.133)} &   0.00\\,\\textcolor{dark-gray}{( 0.15)}  \\\\\n",
      "\\mfmfscandal{alternating }        &  0.365\\,\\textcolor{dark-gray}{(0.068)} &  0.880\\,\\textcolor{dark-gray}{(0.111)} &   0.15\\,\\textcolor{dark-gray}{( 0.09)}  \\\\\n",
      "\\mfmfescandal{sequential }        &  0.177\\,\\textcolor{dark-gray}{(0.019)} &  0.375\\,\\textcolor{dark-gray}{(0.140)} &   0.12\\,\\textcolor{dark-gray}{( 0.10)}  \\\\\n",
      "\\mfmfescandal{alternating }       &  0.205\\,\\textcolor{dark-gray}{(0.015)} &  0.691\\,\\textcolor{dark-gray}{(0.015)} & \\textbf{  0.21}\\,\\textcolor{dark-gray}{( 0.02)}  \\\\\n",
      "\\midrule\n",
      "2D summaries (AF)                 & &  0.000\\,\\textcolor{dark-gray}{(0.000)} &  $-{}$0.46\\,\\textcolor{dark-gray}{( 0.08)}  \\\\\n",
      "2D summaries (SCANDAL)            & &  0.000\\,\\textcolor{dark-gray}{(0.000)} &  $-{}$0.51\\,\\textcolor{dark-gray}{( 0.07)}  \\\\\n",
      "ALICES                            & & &   0.18\\,\\textcolor{dark-gray}{( 0.06)}  \\\\\n"
     ]
    }
   ],
   "source": [
    "print_results(latex=True)"
   ]
  },
  {
   "cell_type": "markdown",
   "metadata": {},
   "source": [
    "## Individual run results"
   ]
  },
  {
   "cell_type": "code",
   "execution_count": 43,
   "metadata": {},
   "outputs": [
    {
     "name": "stdout",
     "output_type": "stream",
     "text": [
      "                                  |                                                                           Closure \n",
      "----------------------------------------------------------------------------------------------------------------------\n",
      "\\af{}                             |  [  0.01,   0.02,   0.01,   0.01,   0.02,   0.02,   0.01,   0.02,   0.01,   0.01]* \n",
      "\\pie{} (original)                 |                                                                                    \n",
      "\\pie{} (unconditional manifold)   |  [  0.05,   0.02,   0.04,   0.02,   0.06,   0.01,   0.02,   0.06,   0.10,   0.02]  \n",
      "\\mfmfmd{sequential }              |  [  0.07,   0.01,   0.02,   0.03,   0.02,   0.21,   0.09,   0.09,   0.02,   0.03]  \n",
      "\\mfmfmd{alternating }             |  [  0.17,   0.09,   0.13,   0.23,   0.12,   0.04,   0.23,   0.16,   0.15,   0.19]  \n",
      "\\mfmfemd{sequential }             |  [  0.08,   0.13,   0.05,   0.07,   0.03,   0.10,   0.02,   0.07,   0.01,   0.02]  \n",
      "\\mfmfemd{alternating }            |  [  0.06,   0.01,   0.04,   0.03,   0.10,   0.02,   0.10,   0.07,   0.11,   0.03]  \n",
      "----------------------------------------------------------------------------------------------------------------------\n",
      "\\afscandal{}                      |  [  0.07,   0.07,   0.09,   0.06,   0.05,   0.06,   0.05,       ,       ,       ]  \n",
      "\\piescandal{, original}           |                                                                                    \n",
      "\\piescandal{, unconditional man.} |  [  0.15,   0.17,   0.26,   0.10,   0.11,   0.08,   0.16,   0.16,       ,       ]  \n",
      "\\mfmfscandal{sequential }         |  [  0.15,   0.13,   0.17,   0.15,   0.14,   0.15,   0.12,       ,       ,       ]  \n",
      "\\mfmfscandal{alternating }        |  [      ,       ,       ,       ,       ,   0.53,   0.29,   0.28,       ,       ]  \n",
      "\\mfmfescandal{sequential }        |  [  0.16,   0.21,   0.22,       ,   0.12,       ,   0.24,   0.11,       ,       ]  \n",
      "\\mfmfescandal{alternating }       |  [      ,   0.18,       ,   0.23,       ,   0.32,   0.11,       ,       ,       ]  \n",
      "----------------------------------------------------------------------------------------------------------------------\n",
      "2D summaries (AF)                 |                                                                                    \n",
      "2D summaries (SCANDAL)            |                                                                                    \n",
      "ALICES                            |                                                                                    \n",
      "\n",
      "\n",
      "\n",
      "                                  |                                                                        Reco error \n",
      "----------------------------------------------------------------------------------------------------------------------\n",
      "\\af{}                             |  [  0.00,   0.00,   0.00,   0.00,   0.00,   0.00,   0.00,   0.00,   0.00,   0.00]  \n",
      "\\pie{} (original)                 |                                                                                    \n",
      "\\pie{} (unconditional manifold)   |  [  3.61,   3.56,   4.89,   4.93,   5.64,   4.63,   3.38,   5.75,   5.22,   4.32]  \n",
      "\\mfmfmd{sequential }              |  [  0.99,   0.03,   0.13,   0.19,   0.08,   1.80,   0.99,   0.05,   0.06,   0.09]* \n",
      "\\mfmfmd{alternating }             |  [  0.76,   0.07,   0.83,   1.21,   0.09,   0.05,   1.55,   0.67,   0.70,   0.70]  \n",
      "\\mfmfemd{sequential }             |                                                                                    \n",
      "\\mfmfemd{alternating }            |                                                                                    \n",
      "----------------------------------------------------------------------------------------------------------------------\n",
      "\\afscandal{}                      |  [  0.00,   0.00,   0.00,   0.00,   0.00,   0.00,   0.00,       ,       ,       ]  \n",
      "\\piescandal{, original}           |                                                                                    \n",
      "\\piescandal{, unconditional man.} |  [  3.83,   3.44,   4.12,   0.80,   3.91,   2.24,   6.76,   3.82,       ,       ]  \n",
      "\\mfmfscandal{sequential }         |  [  0.73,   0.75,   0.08,   0.98,   0.62,   0.13,   0.08,       ,       ,       ]  \n",
      "\\mfmfscandal{alternating }        |  [      ,       ,       ,       ,       ,   1.13,   0.67,   0.85,       ,       ]  \n",
      "\\mfmfescandal{sequential }        |  [  0.09,   0.99,   0.61,       ,   0.05,       ,   0.70,   0.10,       ,       ]  \n",
      "\\mfmfescandal{alternating }       |  [      ,   0.67,       ,   0.09,       ,   0.71,   0.93,       ,       ,       ]  \n",
      "----------------------------------------------------------------------------------------------------------------------\n",
      "2D summaries (AF)                 |  [  0.00,   0.00,   0.00,   0.00,   0.00,   0.00,   0.00,   0.00,   0.00,   0.00]  \n",
      "2D summaries (SCANDAL)            |  [  0.00,   0.00,   0.00,   0.00,   0.00,   0.00,   0.00,       ,       ,       ]  \n",
      "ALICES                            |                                                                                    \n",
      "\n",
      "\n",
      "\n",
      "                                  |                                                                     Log posterior \n",
      "----------------------------------------------------------------------------------------------------------------------\n",
      "\\af{}                             |  [-12.29,  -5.25, -15.74,  -2.71,  -2.30, -10.90,  -2.44,  -2.24, -32.78, -54.42]  \n",
      "\\pie{} (original)                 |                                                                                    \n",
      "\\pie{} (unconditional manifold)   |  [ -1.81,  -4.16,  -1.88,  -1.75,  -0.79,  -1.67,  -0.98,  -1.51,  -2.37,  -2.28]  \n",
      "\\mfmfmd{sequential }              |  [ -1.29,  -1.68,  -1.99,  -2.42,  -1.66,  -2.14,  -1.10,  -1.85,  -1.88,  -1.96]  \n",
      "\\mfmfmd{alternating }             |  [ -2.31,  -2.52,  -2.01,  -2.20,  -2.07,  -2.33,  -2.45,  -2.03,  -2.69,  -2.51]  \n",
      "\\mfmfemd{sequential }             |  [ -2.29,  -2.51,  -2.50,  -2.25,  -6.60,  -5.49,  -0.88,  -2.02,  -1.16,  -2.36]  \n",
      "\\mfmfemd{alternating }            |  [ -1.71,  -1.92,  -1.98,  -5.59,  -1.95,  -3.15,  -1.97,  -4.50,  -1.90,  -2.01]  \n",
      "----------------------------------------------------------------------------------------------------------------------\n",
      "\\afscandal{}                      |  [  0.09,  -0.32,   0.39,  -0.09,   0.50,  -0.41,   0.15,       ,       ,       ]  \n",
      "\\piescandal{, original}           |                                                                                    \n",
      "\\piescandal{, unconditional man.} |  [  0.49,   0.16,  -1.72,   0.33,   0.53,  -0.65,   0.05,   0.05,       ,       ]  \n",
      "\\mfmfscandal{sequential }         |  [  0.09,   0.53,   0.07,  -0.48,  -0.51,   0.51,  -0.16,       ,       ,       ]  \n",
      "\\mfmfscandal{alternating }        |  [      ,       ,       ,       ,       ,   0.11,  -0.01,   0.37,       ,       ]  \n",
      "\\mfmfescandal{sequential }        |  [  0.68,  -0.25,   0.30,       ,   0.30,       ,  -0.20,   0.09,       ,       ]  \n",
      "\\mfmfescandal{alternating }       |  [      ,  -0.04,       ,   0.18,       ,   0.25,   0.23,       ,       ,       ]* \n",
      "----------------------------------------------------------------------------------------------------------------------\n",
      "2D summaries (AF)                 |  [ -0.71,  -0.50,  -0.03,  -0.43,   0.29,  -0.66,  -0.35,  -0.75,  -0.69,  -0.35]  \n",
      "2D summaries (SCANDAL)            |  [ -0.28,  -0.82,  -0.68,  -0.36,  -0.21,  -0.61,  -0.62,       ,       ,       ]  \n",
      "ALICES                            |  [  0.57,  -0.01,   0.03,   0.37,   0.30,   0.52,   0.03,   0.08,   0.13,  -0.01]  \n"
     ]
    },
    {
     "name": "stderr",
     "output_type": "stream",
     "text": [
      "/Users/johannbrehmer/anaconda3/envs/ml/lib/python3.6/site-packages/ipykernel_launcher.py:20: RuntimeWarning: Mean of empty slice\n",
      "/Users/johannbrehmer/anaconda3/envs/ml/lib/python3.6/site-packages/ipykernel_launcher.py:21: RuntimeWarning: Mean of empty slice\n",
      "/Users/johannbrehmer/anaconda3/envs/ml/lib/python3.6/site-packages/ipykernel_launcher.py:18: RuntimeWarning: Mean of empty slice\n"
     ]
    }
   ],
   "source": [
    "l_label=max([len(l) for l in algo_labels])\n",
    "l_mean=6\n",
    "after_decs=2\n",
    "\n",
    "# How to format the numbers\n",
    "l_result = 3 + n_runs*l_mean + (n_runs - 1)*2\n",
    "l_total = l_label + 4 + l_result\n",
    "\n",
    "# Divider\n",
    "empty_result = \" \"*(l_result + 1)\n",
    "col_divider = \"|\"\n",
    "line_end = \"\"\n",
    "block_divider = \"-\"*l_total\n",
    "    \n",
    "def _f(val, after_dec, best=False):\n",
    "    if not np.any(np.isfinite(val)):\n",
    "        return empty_result\n",
    "    result = \" [{:>{}.{}f}, \".format(np.nanmean(val[0]), l_mean, after_dec)\n",
    "    for i in range(1, n_runs - 1):\n",
    "        result += \"{:>{}.{}f}, \".format(np.nanmean(val[i]), l_mean, after_dec)\n",
    "    result += \"{:>{}.{}f}]\".format(np.nanmean(val[-1]), l_mean, after_dec)\n",
    "    result = result.replace(\"nan\", \"   \")\n",
    "    result += \"*\" if best else \" \"\n",
    "    return result\n",
    "\n",
    "\n",
    "\n",
    "# Print closure results\n",
    "print(\n",
    "    \"{2:<{0}.{0}s} {4} {3:>{1}.{1}s} {5}\".format(\n",
    "        l_label, l_result, \"\", \"Closure\", col_divider, line_end\n",
    "    )\n",
    ")\n",
    "print(block_divider)\n",
    "\n",
    "for i, (label, closure) in enumerate(zip(algo_labels, model_gen_mean_closure)):\n",
    "    # Divider\n",
    "    if i in algo_dividers:\n",
    "        print(block_divider)\n",
    "            \n",
    "    # Print results\n",
    "    print(\"{1:<{0}.{0}s} {3} {2} {4}\".format(\n",
    "        l_label, label, _f(closure, after_decs, i==best_closure), col_divider, line_end\n",
    "    ))\n",
    "\n",
    "print(\"\")\n",
    "print(\"\")\n",
    "print(\"\")\n",
    "    \n",
    "# Print reco error results\n",
    "print(\n",
    "    \"{2:<{0}.{0}s} {4} {3:>{1}.{1}s} {5}\".format(\n",
    "        l_label, l_result, \"\", \"Reco error\", col_divider, line_end\n",
    "    )\n",
    ")\n",
    "print(block_divider)\n",
    "\n",
    "for i, (label, reco) in enumerate(zip(algo_labels, model_test_reco_error)):\n",
    "    # Divider\n",
    "    if i in algo_dividers:\n",
    "        print(block_divider)\n",
    "            \n",
    "    # Print results\n",
    "    print(\"{1:<{0}.{0}s} {3} {2} {4}\".format(\n",
    "        l_label, label, _f(reco, after_decs, i==best_reco), col_divider, line_end\n",
    "    ))\n",
    "\n",
    "print(\"\")\n",
    "print(\"\")\n",
    "print(\"\")\n",
    "    \n",
    "# Print posterior results\n",
    "print(\n",
    "    \"{2:<{0}.{0}s} {4} {3:>{1}.{1}s} {5}\".format(\n",
    "        l_label, l_result, \"\", \"Log posterior\", col_divider, line_end\n",
    "    )\n",
    ")\n",
    "print(block_divider)\n",
    "\n",
    "for i, (label, posterior) in enumerate(zip(algo_labels, model_true_log_posteriors)):\n",
    "    # Divider\n",
    "    if i in algo_dividers:\n",
    "        print(block_divider)\n",
    "            \n",
    "    # Print results\n",
    "    print(\"{1:<{0}.{0}s} {3} {2} {4}\".format(\n",
    "        l_label, label, _f(posterior, after_decs, i==best_posterior), col_divider, line_end\n",
    "    ))\n"
   ]
  },
  {
   "cell_type": "markdown",
   "metadata": {},
   "source": [
    "## Comparison to reco error: what if everything was just bleak randomness?"
   ]
  },
  {
   "cell_type": "code",
   "execution_count": 45,
   "metadata": {},
   "outputs": [
    {
     "data": {
      "text/plain": [
       "9.7077451057869"
      ]
     },
     "execution_count": 45,
     "metadata": {},
     "output_type": "execute_result"
    }
   ],
   "source": [
    "x = np.random.normal(size=(1000, 48))\n",
    "y = np.random.normal(size=(1000, 48))\n",
    "\n",
    "np.mean(np.sum((x - y) ** 2, axis=1) ** 0.5)"
   ]
  },
  {
   "cell_type": "code",
   "execution_count": null,
   "metadata": {},
   "outputs": [],
   "source": []
  }
 ],
 "metadata": {
  "kernelspec": {
   "display_name": "Python (ML)",
   "language": "python",
   "name": "ml"
  },
  "language_info": {
   "codemirror_mode": {
    "name": "ipython",
    "version": 3
   },
   "file_extension": ".py",
   "mimetype": "text/x-python",
   "name": "python",
   "nbconvert_exporter": "python",
   "pygments_lexer": "ipython3",
   "version": "3.7.3"
  }
 },
 "nbformat": 4,
 "nbformat_minor": 4
}
