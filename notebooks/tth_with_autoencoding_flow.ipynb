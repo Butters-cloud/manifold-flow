{
 "cells": [
  {
   "cell_type": "markdown",
   "metadata": {},
   "source": [
    "# Semi-invertible autoencoder"
   ]
  },
  {
   "cell_type": "code",
   "execution_count": 1,
   "metadata": {
    "collapsed": true
   },
   "outputs": [],
   "source": [
    "import numpy as np\n",
    "import logging\n",
    "import sys\n",
    "from matplotlib import pyplot as plt\n",
    "import torch\n",
    "\n",
    "%matplotlib inline\n",
    "sys.path.append(\"../\")\n",
    "\n",
    "\n",
    "from aef.models.autoencoding_flow import TwoStepAutoencodingFlow\n",
    "from aef.trainer import AutoencodingFlowTrainer, NumpyDataset\n",
    "from aef.losses import nll, mse\n",
    "\n",
    "logging.basicConfig(\n",
    "    format=\"%(asctime)-5.5s %(name)-20.20s %(levelname)-7.7s %(message)s\",\n",
    "    datefmt=\"%H:%M\",\n",
    "    level=logging.INFO,\n",
    ")\n"
   ]
  },
  {
   "cell_type": "markdown",
   "metadata": {},
   "source": [
    "## Data"
   ]
  },
  {
   "cell_type": "code",
   "execution_count": 3,
   "metadata": {},
   "outputs": [],
   "source": [
    "x = np.load(\"../data/tth/x_train.npy\")\n",
    "x_means = np.mean(x, axis=0)\n",
    "x_stds = np.std(x, axis=0)\n",
    "x = (x - x_means[np.newaxis,:]) / x_stds[np.newaxis,:]\n",
    "y = np.ones(x.shape[0])\n",
    "\n",
    "tth_data = NumpyDataset(x, y)\n"
   ]
  },
  {
   "cell_type": "code",
   "execution_count": 4,
   "metadata": {},
   "outputs": [
    {
     "name": "stdout",
     "output_type": "stream",
     "text": [
      "(1000000, 48) [ 2.71121316e-05  2.21955761e-05 -2.06415079e-05  5.99880950e-05\n",
      "  3.58828365e-05  2.92703389e-05 -2.56204794e-06 -2.69238922e-06\n",
      " -2.25854528e-05  1.57471004e-05  1.90822193e-05 -8.24490144e-06\n",
      " -1.19448589e-06 -3.90379773e-06 -9.44798273e-07 -1.75509683e-06\n",
      " -4.38888082e-06 -1.60391392e-06  1.09348264e-04  6.28851849e-05\n",
      "  7.23982739e-05  5.32308986e-05  6.58810459e-05  9.76492156e-05\n",
      "  5.11364924e-08  1.30453106e-08 -5.40003198e-09  7.93480837e-09\n",
      "  4.53948967e-09 -2.53895518e-08 -2.50021894e-05 -1.36102271e-05\n",
      "  3.20206273e-05 -4.16706207e-08  5.87673483e-08 -1.34949687e-05\n",
      " -2.23240058e-05  2.96114084e-08 -7.19317228e-08 -1.31591298e-02\n",
      " -2.75077327e-05  1.56093520e-08  3.62920751e-08  8.02898370e-09\n",
      "  7.22730142e-09  6.01409695e-08 -1.94656842e-08 -2.85034183e-08] [1.0000378  1.0000255  1.0000088  1.0000036  1.0000488  1.0000529\n",
      " 1.000028   1.0000645  1.0000403  1.0000135  1.000053   1.0000312\n",
      " 1.0014762  1.0023024  0.99985677 1.0018277  1.0017785  1.0054659\n",
      " 1.0000044  1.000059   1.0000017  1.000037   1.0000384  1.0000033\n",
      " 1.0000365  1.00003    1.0000352  1.0000385  1.0000312  1.0000275\n",
      " 1.0000286  1.0000483  1.0000292  1.0000482  1.0000298  1.0000412\n",
      " 1.0000356  1.0000294  1.0000234  0.9999503  1.0000025  1.0000261\n",
      " 1.0000132  0.99999374 1.0000373  1.0000104  1.0000126  1.0000056 ] True\n"
     ]
    }
   ],
   "source": [
    "print(x.shape, np.mean(x, axis=0), np.std(x, axis=0), np.all(np.isfinite(x)))"
   ]
  },
  {
   "cell_type": "markdown",
   "metadata": {},
   "source": [
    "## Train autoencoder"
   ]
  },
  {
   "cell_type": "code",
   "execution_count": 5,
   "metadata": {},
   "outputs": [
    {
     "name": "stderr",
     "output_type": "stream",
     "text": [
      "12:21 aef.models.autoencod INFO    Created autoencoding flow with 3546562 trainable parameters\n"
     ]
    }
   ],
   "source": [
    "ae = TwoStepAutoencodingFlow(data_dim=48, latent_dim=10, steps_inner=5, steps_outer=5)"
   ]
  },
  {
   "cell_type": "code",
   "execution_count": null,
   "metadata": {},
   "outputs": [],
   "source": [
    "trainer = AutoencodingFlowTrainer(ae)\n",
    "trainer.train(\n",
    "    dataset=tth_data,\n",
    "    loss_functions=[mse],\n",
    "    loss_labels=[\"MSE\"],\n",
    "    loss_weights=[1.],\n",
    "    batch_size=256,\n",
    "    epochs=5,\n",
    "    verbose=\"all\",\n",
    "    initial_lr=1.e-3,\n",
    "    final_lr=1.e-4,\n",
    ")"
   ]
  },
  {
   "cell_type": "code",
   "execution_count": null,
   "metadata": {
    "collapsed": true
   },
   "outputs": [],
   "source": [
    "trainer = AutoencodingFlowTrainer(ae)\n",
    "trainer.train(\n",
    "    dataset=tth_data,\n",
    "    loss_functions=[mse, nll],\n",
    "    loss_labels=[\"MSE\", \"NLL\"],\n",
    "    loss_weights=[1., 0.01],\n",
    "    batch_size=256,\n",
    "    epochs=5,\n",
    "    verbose=\"all\",\n",
    "    initial_lr=1.e-3,\n",
    "    final_lr=1.e-4,\n",
    "    parameters=ae.outer_transform.parameters()\n",
    ")"
   ]
  },
  {
   "cell_type": "markdown",
   "metadata": {},
   "source": [
    "## Visualize latent space"
   ]
  },
  {
   "cell_type": "code",
   "execution_count": null,
   "metadata": {
    "collapsed": true
   },
   "outputs": [],
   "source": [
    "n = 1000\n",
    "\n",
    "x = torch.cat([mnist[i][0].unsqueeze(0) for i in range(n)], dim=0)\n",
    "y = np.asarray([mnist[i][1] for i in range(n)])\n",
    "\n",
    "x = x.view(x.size(0), -1)\n",
    "x.to(self.device, self.dtype)\n",
    "x_out, _, u = self.model(x)\n",
    "\n",
    "x = x.detach().numpy().reshape(-1, 28, 28)\n",
    "x_out = x_out.detach().numpy().reshape(-1, 28, 28)\n",
    "u = u.detach().numpy().reshape(x_out.shape[0], -1)\n",
    "tsne = TSNE(n_components=2, verbose=0, perplexity=40, n_iter=300).fit_transform(u)"
   ]
  },
  {
   "cell_type": "code",
   "execution_count": null,
   "metadata": {
    "collapsed": true
   },
   "outputs": [],
   "source": [
    "fig = plt.figure(figsize=(10,5))\n",
    "\n",
    "ax = plt.subplot(1,2,1)\n",
    "for i in range(10):\n",
    "    plt.scatter(u[y==i][:,0], u[y==i][:,1], c=\"C{}\".format(i), s=20., label=\"{}\".format(i+1))\n",
    "plt.legend()\n",
    "plt.xlabel(r\"$u_0$\")\n",
    "plt.ylabel(r\"$u_1$\")\n",
    "    \n",
    "ax = plt.subplot(1,2,2)\n",
    "for i in range(10):\n",
    "    plt.scatter(tsne[y==i][:,0], tsne[y==i][:,1], c=\"C{}\".format(i), s=20., label=\"{}\".format(i+1))\n",
    "plt.legend()\n",
    "plt.xlabel(r\"$t-SNE component 0$\")\n",
    "plt.ylabel(r\"$t-SNE component 1$\")\n",
    "\n",
    "plt.tight_layout()\n",
    "plt.savefig(\"../figures/mnist_latent.pdf\")\n"
   ]
  },
  {
   "cell_type": "markdown",
   "metadata": {
    "collapsed": true
   },
   "source": [
    "## Visualize reconstruction"
   ]
  },
  {
   "cell_type": "code",
   "execution_count": null,
   "metadata": {
    "collapsed": true
   },
   "outputs": [],
   "source": [
    "x = torch.cat([mnist[i][0].unsqueeze(0) for i in range(1000)], dim=0)\n",
    "y = np.asarray([mnist[i][1] for i in range(1000)])"
   ]
  },
  {
   "cell_type": "code",
   "execution_count": null,
   "metadata": {
    "collapsed": true
   },
   "outputs": [],
   "source": [
    "h = ae.encoder(x)\n",
    "x_out = ae.decoder(h)\n",
    "h = h.detach().numpy()\n",
    "x_out = x_out.detach().numpy()"
   ]
  },
  {
   "cell_type": "code",
   "execution_count": null,
   "metadata": {
    "collapsed": true
   },
   "outputs": [],
   "source": [
    "fig = plt.figure(figsize=(12,12))\n",
    "\n",
    "for i in range(18):\n",
    "    ax = plt.subplot(6, 6, 2*i + 1)\n",
    "    plt.imshow(x[i].reshape((28,28)))\n",
    "    ax.get_xaxis().set_visible(False)\n",
    "    ax.get_yaxis().set_visible(False)\n",
    "    ax = plt.subplot(6, 6, 2*i + 2)\n",
    "    plt.imshow(x_out[i].reshape((28,28)))\n",
    "    ax.get_xaxis().set_visible(False)\n",
    "    ax.get_yaxis().set_visible(False)\n",
    "        \n",
    "plt.tight_layout()\n",
    "plt.savefig(\"../figures/reconstruction.pdf\")\n"
   ]
  },
  {
   "cell_type": "code",
   "execution_count": null,
   "metadata": {
    "collapsed": true
   },
   "outputs": [],
   "source": []
  }
 ],
 "metadata": {
  "kernelspec": {
   "display_name": "Python (ML)",
   "language": "python",
   "name": "ml"
  },
  "language_info": {
   "codemirror_mode": {
    "name": "ipython",
    "version": 3
   },
   "file_extension": ".py",
   "mimetype": "text/x-python",
   "name": "python",
   "nbconvert_exporter": "python",
   "pygments_lexer": "ipython3",
   "version": "3.6.8"
  }
 },
 "nbformat": 4,
 "nbformat_minor": 2
}
