{
 "cells": [
  {
   "cell_type": "markdown",
   "metadata": {},
   "source": [
    "# Part 3: ALICES baseline analysis"
   ]
  },
  {
   "cell_type": "markdown",
   "metadata": {},
   "source": [
    "## Preparations"
   ]
  },
  {
   "cell_type": "code",
   "execution_count": 1,
   "metadata": {},
   "outputs": [
    {
     "name": "stderr",
     "output_type": "stream",
     "text": [
      "10:09 madminer             INFO    \n",
      "10:09 madminer             INFO    ------------------------------------------------------------------------\n",
      "10:09 madminer             INFO    |                                                                      |\n",
      "10:09 madminer             INFO    |  MadMiner v0.7.1                                                     |\n",
      "10:09 madminer             INFO    |                                                                      |\n",
      "10:09 madminer             INFO    |         Johann Brehmer, Felix Kling, Irina Espejo, and Kyle Cranmer  |\n",
      "10:09 madminer             INFO    |                                                                      |\n",
      "10:09 madminer             INFO    ------------------------------------------------------------------------\n",
      "10:09 madminer             INFO    \n",
      "10:09 experiments.training WARNING geomloss not found, let's hope that you started a training method that doesn't need it!\n"
     ]
    }
   ],
   "source": [
    "%matplotlib inline\n",
    "\n",
    "import logging\n",
    "import numpy as np\n",
    "import matplotlib\n",
    "from matplotlib import pyplot as plt\n",
    "import sys\n",
    "from scipy.stats import norm\n",
    "\n",
    "logging.basicConfig(\n",
    "    format='%(asctime)-5.5s %(name)-20.20s %(levelname)-7.7s %(message)s',\n",
    "    datefmt='%H:%M',\n",
    "    level=logging.INFO\n",
    ")\n",
    "\n",
    "sys.path.append(\"/Users/johannbrehmer/work/projects/madminer/madminer\")\n",
    "from madminer.sampling import SampleAugmenter\n",
    "from madminer import sampling\n",
    "from madminer.ml import ParameterizedRatioEstimator\n",
    "\n",
    "sys.path.append(\"/Users/johannbrehmer/work/projects/manifold_flow/manifold-flow\")\n",
    "from experiments.evaluation import mcmc\n",
    "\n",
    "for key in logging.Logger.manager.loggerDict:\n",
    "    if \"madminer\" not in key:\n",
    "        logging.getLogger(key).setLevel(logging.WARNING)\n",
    "        \n"
   ]
  },
  {
   "cell_type": "markdown",
   "metadata": {},
   "source": [
    "## Generate training data"
   ]
  },
  {
   "cell_type": "code",
   "execution_count": 2,
   "metadata": {},
   "outputs": [
    {
     "name": "stderr",
     "output_type": "stream",
     "text": [
      "10:09 madminer.analysis.da INFO    Loading data from data/delphes_data.h5\n",
      "10:09 madminer.analysis.da INFO    Found 2 parameters\n",
      "10:09 madminer.analysis.da INFO    Did not find nuisance parameters\n",
      "10:09 madminer.analysis.da INFO    Found 6 benchmarks, of which 6 physical\n",
      "10:09 madminer.analysis.da INFO    Found 48 observables\n",
      "10:09 madminer.analysis.da INFO    Found 630610 events\n",
      "10:09 madminer.analysis.da INFO      105696 signal events sampled from benchmark morphing_basis_vector_0\n",
      "10:09 madminer.analysis.da INFO      101737 signal events sampled from benchmark morphing_basis_vector_1\n",
      "10:09 madminer.analysis.da INFO      106743 signal events sampled from benchmark morphing_basis_vector_2\n",
      "10:09 madminer.analysis.da INFO      102700 signal events sampled from benchmark morphing_basis_vector_3\n",
      "10:09 madminer.analysis.da INFO      104279 signal events sampled from benchmark morphing_basis_vector_4\n",
      "10:09 madminer.analysis.da INFO      109455 signal events sampled from benchmark morphing_basis_vector_5\n",
      "10:09 madminer.analysis.da INFO    Found morphing setup with 6 components\n",
      "10:09 madminer.analysis.da INFO    Did not find nuisance morphing setup\n"
     ]
    }
   ],
   "source": [
    "sampler = SampleAugmenter('data/delphes_data.h5')"
   ]
  },
  {
   "cell_type": "code",
   "execution_count": 3,
   "metadata": {},
   "outputs": [
    {
     "name": "stderr",
     "output_type": "stream",
     "text": [
      "18:30 madminer.sampling    INFO    Extracting training sample for ratio-based methods. Numerator hypothesis: 1000 random morphing points, drawn from the following priors:\n",
      "  theta_0 ~ Gaussian with mean 0.0 and std 1.0\n",
      "  theta_1 ~ Gaussian with mean 0.0 and std 1.0, denominator hypothesis: [0. 0.]\n",
      "18:30 madminer.sampling    INFO    Starting sampling serially\n",
      "18:30 madminer.sampling    INFO    Sampling from parameter point 50 / 1000\n",
      "18:30 madminer.sampling    WARNING Large statistical uncertainty on the total cross section when sampling from theta = [ 0.39923188 -0.23322676]: (0.003817 +/- 0.000416) pb (10.895047869081584 %). Skipping these warnings in the future...\n",
      "18:31 madminer.sampling    INFO    Sampling from parameter point 100 / 1000\n",
      "18:31 madminer.sampling    INFO    Sampling from parameter point 150 / 1000\n",
      "18:31 madminer.sampling    INFO    Sampling from parameter point 200 / 1000\n",
      "18:31 madminer.sampling    INFO    Sampling from parameter point 250 / 1000\n",
      "18:32 madminer.sampling    INFO    Sampling from parameter point 300 / 1000\n",
      "18:32 madminer.sampling    INFO    Sampling from parameter point 350 / 1000\n",
      "18:32 madminer.sampling    INFO    Sampling from parameter point 400 / 1000\n",
      "18:33 madminer.sampling    INFO    Sampling from parameter point 450 / 1000\n",
      "18:33 madminer.sampling    INFO    Sampling from parameter point 500 / 1000\n",
      "18:33 madminer.sampling    INFO    Sampling from parameter point 550 / 1000\n",
      "18:34 madminer.sampling    INFO    Sampling from parameter point 600 / 1000\n",
      "18:34 madminer.sampling    INFO    Sampling from parameter point 650 / 1000\n",
      "18:34 madminer.sampling    INFO    Sampling from parameter point 700 / 1000\n",
      "18:34 madminer.sampling    INFO    Sampling from parameter point 750 / 1000\n",
      "18:35 madminer.sampling    INFO    Sampling from parameter point 800 / 1000\n",
      "18:35 madminer.sampling    INFO    Sampling from parameter point 850 / 1000\n",
      "18:35 madminer.sampling    INFO    Sampling from parameter point 900 / 1000\n",
      "18:36 madminer.sampling    INFO    Sampling from parameter point 950 / 1000\n",
      "18:36 madminer.sampling    INFO    Sampling from parameter point 1000 / 1000\n",
      "18:36 madminer.sampling    INFO    Effective number of samples: mean 2817.20319264962, with individual thetas ranging from 60.07986260612225 to 45951.058941007665\n",
      "18:36 madminer.sampling    INFO    Starting sampling serially\n",
      "18:36 madminer.sampling    INFO    Sampling from parameter point 50 / 1000\n",
      "18:36 madminer.sampling    INFO    Sampling from parameter point 100 / 1000\n",
      "18:37 madminer.sampling    INFO    Sampling from parameter point 150 / 1000\n",
      "18:37 madminer.sampling    INFO    Sampling from parameter point 200 / 1000\n",
      "18:37 madminer.sampling    INFO    Sampling from parameter point 250 / 1000\n",
      "18:37 madminer.sampling    INFO    Sampling from parameter point 300 / 1000\n",
      "18:38 madminer.sampling    INFO    Sampling from parameter point 350 / 1000\n",
      "18:38 madminer.sampling    INFO    Sampling from parameter point 400 / 1000\n",
      "18:38 madminer.sampling    INFO    Sampling from parameter point 450 / 1000\n",
      "18:39 madminer.sampling    INFO    Sampling from parameter point 500 / 1000\n",
      "18:39 madminer.sampling    INFO    Sampling from parameter point 550 / 1000\n",
      "18:39 madminer.sampling    INFO    Sampling from parameter point 600 / 1000\n",
      "18:39 madminer.sampling    INFO    Sampling from parameter point 650 / 1000\n",
      "18:40 madminer.sampling    INFO    Sampling from parameter point 700 / 1000\n",
      "18:40 madminer.sampling    INFO    Sampling from parameter point 750 / 1000\n",
      "18:40 madminer.sampling    INFO    Sampling from parameter point 800 / 1000\n",
      "18:41 madminer.sampling    INFO    Sampling from parameter point 850 / 1000\n",
      "18:41 madminer.sampling    INFO    Sampling from parameter point 900 / 1000\n",
      "18:41 madminer.sampling    INFO    Sampling from parameter point 950 / 1000\n",
      "18:41 madminer.sampling    INFO    Sampling from parameter point 1000 / 1000\n",
      "18:41 madminer.sampling    INFO    Effective number of samples: mean 1132.2763157176298, with individual thetas ranging from 1132.27631571763 to 1132.27631571763\n"
     ]
    }
   ],
   "source": [
    "x, theta0, theta1, y, r_xz, t_xz, n_effective = sampler.sample_train_ratio(\n",
    "    theta0=sampling.random_morphing_points(1000, [('gaussian', 0., 1.0), ('gaussian', 0., 1.0)]),\n",
    "    theta1=sampling.morphing_point([0.,0.]),\n",
    "    n_samples=1000000,\n",
    "    folder='./data/samples',\n",
    "    filename='train_ratio',\n",
    "    sample_only_from_closest_benchmark=True,\n",
    "    return_individual_n_effective=True,\n",
    ")"
   ]
  },
  {
   "cell_type": "markdown",
   "metadata": {},
   "source": [
    "## Train likelihood ratio estimators with ALICES method"
   ]
  },
  {
   "cell_type": "code",
   "execution_count": null,
   "metadata": {
    "scrolled": false
   },
   "outputs": [
    {
     "name": "stderr",
     "output_type": "stream",
     "text": [
      "10:11 root                 INFO    Let's go run 6!\n",
      "10:43 root                 INFO    Let's go run 7!\n",
      "11:17 root                 INFO    Let's go run 8!\n",
      "11:51 root                 INFO    Let's go run 9!\n"
     ]
    }
   ],
   "source": [
    "for i in range(5,10):\n",
    "    logging.info(\"Let's go run %s!\", i + 1)\n",
    "    \n",
    "    estimator = ParameterizedRatioEstimator(\n",
    "        n_hidden=(100, 100, 100,),\n",
    "        activation=\"tanh\"\n",
    "    )\n",
    "    estimator.train(\n",
    "        method='alices',\n",
    "        theta='data/samples/theta0_train_ratio.npy',\n",
    "        x='data/samples/x_train_ratio.npy',\n",
    "        y='data/samples/y_train_ratio.npy',\n",
    "        r_xz='data/samples/r_xz_train_ratio.npy',\n",
    "        t_xz='data/samples/t_xz_train_ratio.npy',\n",
    "        alpha=1.,\n",
    "        n_epochs=50,\n",
    "    )\n",
    "    estimator.save('models/alices{}'.format(\"\" if i == 0 else \"_run{}\".format(i)))\n",
    "    "
   ]
  },
  {
   "cell_type": "markdown",
   "metadata": {},
   "source": [
    "## Evaluate likelihood ratio on grid"
   ]
  },
  {
   "cell_type": "code",
   "execution_count": 12,
   "metadata": {
    "collapsed": true
   },
   "outputs": [],
   "source": [
    "theta_each = np.linspace(-1,1,11)\n",
    "theta0, theta1 = np.meshgrid(theta_each, theta_each)\n",
    "theta_grid = np.vstack((theta0.flatten(), theta1.flatten())).T\n",
    "np.save('data/samples/theta_grid.npy', theta_grid)\n"
   ]
  },
  {
   "cell_type": "code",
   "execution_count": 13,
   "metadata": {},
   "outputs": [
    {
     "name": "stderr",
     "output_type": "stream",
     "text": [
      "20:02 madminer.ml          INFO    Loading model from models/alices\n",
      "20:02 madminer.ml          INFO    Loading evaluation data\n",
      "20:02 madminer.utils.vario INFO      Loading data/samples/x_test.npy into RAM\n",
      "20:02 madminer.utils.vario INFO      Loading data/samples/theta_grid.npy into RAM\n",
      "20:02 madminer.ml          INFO    Starting ratio evaluation for 1210000 x-theta combinations\n",
      "20:02 madminer.ml          INFO    Evaluation done\n"
     ]
    }
   ],
   "source": [
    "estimator.load('models/alices')\n",
    "\n",
    "log_r_hat, _ = estimator.evaluate_log_likelihood_ratio(\n",
    "    theta='data/samples/theta_grid.npy',\n",
    "    x='data/samples/x_test.npy',\n",
    "    evaluate_score=False\n",
    ")"
   ]
  },
  {
   "cell_type": "code",
   "execution_count": 15,
   "metadata": {},
   "outputs": [
    {
     "data": {
      "image/png": "[encoded data removed]",
      "text/plain": [
       "<Figure size 432x360 with 2 Axes>"
      ]
     },
     "metadata": {
      "needs_background": "light"
     },
     "output_type": "display_data"
    }
   ],
   "source": [
    "bin_size = theta_each[1] - theta_each[0]\n",
    "edges = np.linspace(theta_each[0] - bin_size/2, theta_each[-1] + bin_size/2, len(theta_each)+1)\n",
    "\n",
    "fig = plt.figure(figsize=(6,5))\n",
    "ax = plt.gca()\n",
    "\n",
    "expected_llr = np.mean(log_r_hat,axis=1)\n",
    "best_fit = theta_grid[np.argmin(-2.*expected_llr)]\n",
    "\n",
    "cmin, cmax = np.min(-2*expected_llr), np.max(-2*expected_llr)\n",
    "    \n",
    "pcm = ax.pcolormesh(edges, edges, -2. * expected_llr.reshape((11,11)),\n",
    "                    norm=matplotlib.colors.Normalize(vmin=cmin, vmax=cmax),\n",
    "                    cmap='viridis_r')\n",
    "cbar = fig.colorbar(pcm, ax=ax, extend='both')\n",
    "\n",
    "plt.scatter(best_fit[0], best_fit[1], s=80., color='black', marker='*')\n",
    "\n",
    "plt.xlabel(r'$\\theta_0$')\n",
    "plt.ylabel(r'$\\theta_1$')\n",
    "cbar.set_label(r'$\\mathbb{E}_x [ -2\\, \\log \\,\\hat{r}(x | \\theta, \\theta_{SM}) ]$')\n",
    "\n",
    "plt.tight_layout()\n",
    "plt.show()\n"
   ]
  },
  {
   "cell_type": "markdown",
   "metadata": {},
   "source": [
    "## Run MCMC"
   ]
  },
  {
   "cell_type": "code",
   "execution_count": null,
   "metadata": {},
   "outputs": [],
   "source": [
    "for key in logging.Logger.manager.loggerDict:\n",
    "    if \"madminer\" in key:\n",
    "        logging.getLogger(key).setLevel(logging.WARNING)\n",
    "    if \"mcmc\" in key:\n",
    "        logging.getLogger(key).setLevel(logging.INFO)"
   ]
  },
  {
   "cell_type": "code",
   "execution_count": null,
   "metadata": {},
   "outputs": [],
   "source": [
    "def run_mcmc(run=0, trueparam=0, chain=0, observedsamples=50, mcmcsamples=750, mcmcstep=0.15, burnin=100, thin=1):\n",
    "    run_str = \"\" if run == 0 else \"_run{}\".format(run)\n",
    "    trueparam_str = \"\" if trueparam == 0 else \"_trueparam{}\".format(trueparam)\n",
    "    chain_str = \"\" if chain == 0 else \"_chain{}\".format(chain)\n",
    "    \n",
    "    # Model\n",
    "    estimator = ParameterizedRatioEstimator(\n",
    "        n_hidden=(100, 100, 100),\n",
    "        activation=\"tanh\"\n",
    "    )\n",
    "    estimator.load('models/alices{}'.format(run_str))\n",
    "\n",
    "    # Data\n",
    "    theta_true = np.load(\"data/samples/theta_test{}.npy\".format(\"\" if trueparam == 0 else trueparam))[0]\n",
    "    x_obs = np.load(\"data/samples/x_test{}.npy\".format(\"\" if trueparam == 0 else trueparam))[:observedsamples]\n",
    "\n",
    "    # MCMC based on neural likelihood estimator\n",
    "    def log_posterior(params):\n",
    "        params_ = np.broadcast_to(params.reshape((-1, params.shape[-1])), (x_obs.shape[0], params.shape[-1]))\n",
    "\n",
    "        # Likelihood ratio\n",
    "        log_likelihood_ratios = estimator.evaluate_log_likelihood_ratio(\n",
    "            theta=params_,\n",
    "            x=x_obs,\n",
    "            evaluate_score=False,\n",
    "            test_all_combinations=False\n",
    "        )[0]\n",
    "        log_prob = np.sum(log_likelihood_ratios)\n",
    "\n",
    "        # Prior\n",
    "        log_prob += np.sum(norm(loc=0.0, scale=1.0).logpdf(x=params))\n",
    "        return float(log_prob)\n",
    "\n",
    "    sampler = mcmc.GaussianMetropolis(theta_true, log_posterior, step=mcmcstep, thin=thin)\n",
    "\n",
    "    if burnin > 0:\n",
    "        logging.info(\"Starting burn in\")\n",
    "        sampler.gen(burnin)\n",
    "    logging.info(\"Burn in done, starting main chain\")\n",
    "    posterior_samples = sampler.gen(mcmcsamples)\n",
    "    logging.info(\"MCMC done\")\n",
    "    \n",
    "    np.save(\n",
    "        \"../../data/results/alices_14_lhc_may{}_posterior_samples{}{}.npy\".format(run_str, trueparam_str, chain_str),\n",
    "        posterior_samples\n",
    "    )\n",
    "\n",
    "    return posterior_samples"
   ]
  },
  {
   "cell_type": "code",
   "execution_count": null,
   "metadata": {},
   "outputs": [],
   "source": [
    "posterior_samples = []\n",
    "\n",
    "for run in range(5,10):\n",
    "    for trueparam in range(3):\n",
    "        for chain in range(4):\n",
    "            run_mcmc(run, trueparam, chain)\n"
   ]
  },
  {
   "cell_type": "code",
   "execution_count": null,
   "metadata": {
    "collapsed": true
   },
   "outputs": [],
   "source": []
  }
 ],
 "metadata": {
  "kernelspec": {
   "display_name": "Python (madminer)",
   "language": "python",
   "name": "madminer"
  },
  "language_info": {
   "codemirror_mode": {
    "name": "ipython",
    "version": 3
   },
   "file_extension": ".py",
   "mimetype": "text/x-python",
   "name": "python",
   "nbconvert_exporter": "python",
   "pygments_lexer": "ipython3",
   "version": "3.6.8"
  }
 },
 "nbformat": 4,
 "nbformat_minor": 2
}
