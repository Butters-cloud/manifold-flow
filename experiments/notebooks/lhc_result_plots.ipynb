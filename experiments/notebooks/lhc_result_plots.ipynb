{
 "cells": [
  {
   "cell_type": "markdown",
   "metadata": {},
   "source": [
    "# Particle physics results"
   ]
  },
  {
   "cell_type": "markdown",
   "metadata": {},
   "source": [
    "## Setup"
   ]
  },
  {
   "cell_type": "code",
   "execution_count": 26,
   "metadata": {},
   "outputs": [],
   "source": [
    "%matplotlib inline\n",
    "\n",
    "import sys\n",
    "import numpy as np\n",
    "import matplotlib\n",
    "from matplotlib import pyplot as plt\n",
    "import corner\n",
    "from mpl_toolkits.mplot3d import Axes3D\n",
    "from sklearn.metrics import roc_auc_score\n",
    "\n",
    "sys.path.append(\"../../\")\n",
    "from experiments.simulators.collider import WBFLoader\n"
   ]
  },
  {
   "cell_type": "markdown",
   "metadata": {},
   "source": [
    "## Helper functions"
   ]
  },
  {
   "cell_type": "code",
   "execution_count": 27,
   "metadata": {},
   "outputs": [],
   "source": [
    "def histo_w_err(\n",
    "    xvals, xmin, xmax, nbins,\n",
    "    ls=\"-\", m=\" \", ms=6., c=\"black\",\n",
    "    label=None, alpha=0.1,\n",
    "    subtract_min=False, plot_individual=False,\n",
    "    **kwargs\n",
    "):\n",
    "    # Calculate histograms\n",
    "    histos = []\n",
    "    for x in xvals:\n",
    "        histo, bin_edges = np.histogram(x, bins=nbins, range=(xmin, xmax), density=True)\n",
    "        histos.append(histo)\n",
    "    histos = np.array(histos)\n",
    "\n",
    "    # Mean and error band\n",
    "    y_mean, y_err = np.nanmean(histos, axis=0), np.nanstd(histos, axis=0)\n",
    "    \n",
    "    x_ = np.repeat(bin_edges, 2)[1:-1]\n",
    "    y_ = np.repeat(y_mean, 2)\n",
    "    y_err_ = np.repeat(y_err, 2)\n",
    "    yis_ = [np.repeat(y, 2) for y in histos]\n",
    "    \n",
    "    # Plot\n",
    "    plt.fill_between(x_, y_ - y_err_, y_ + y_err_, color=c, alpha=alpha)\n",
    "    plt.plot(x_, y_, label=label, ls=ls, marker=m, ms=ms, c=c, lw=1.5, **kwargs)\n",
    "    \n",
    "    if plot_individual:\n",
    "        for yi_ in yis_:\n",
    "            plt.plot(x_, yi_, ls=ls, lw=0.5, c=c)\n",
    "    "
   ]
  },
  {
   "cell_type": "markdown",
   "metadata": {},
   "source": [
    "## Load results"
   ]
  },
  {
   "cell_type": "code",
   "execution_count": 28,
   "metadata": {},
   "outputs": [],
   "source": [
    "n_runs = 5\n",
    "n_chains = 4\n",
    "n_trueparams = 3\n",
    "remove_all_results_with_nans = False"
   ]
  },
  {
   "cell_type": "code",
   "execution_count": 29,
   "metadata": {},
   "outputs": [],
   "source": [
    "algo_filenames = []\n",
    "algo_additionals = []\n",
    "algo_labels = []\n",
    "algo_colors = []\n",
    "algo_markers = []\n",
    "algo_linestyles = []\n",
    "algo_2ds = []\n",
    "\n",
    "def add_algo(filename, add, label, c, m, ls, lhc2d=False):\n",
    "    algo_filenames.append(filename)\n",
    "    algo_additionals.append(add)\n",
    "    algo_labels.append(label)\n",
    "    algo_colors.append(c)\n",
    "    algo_markers.append(m)\n",
    "    algo_linestyles.append(ls)\n",
    "    algo_2ds.append(lhc2d)\n",
    "    \n",
    "add_algo(\"flow\", \"_april\", \"AF (2D summaries)\", \"C0\", \"s\", \"--\", True)\n",
    "add_algo(\"flow\", \"_april\", \"AF\", \"C0\", \"s\", \"-\")\n",
    "# add_algo(\"pie\", \"_march\", \"PIE\", \"C4\", \"s\", \"--\") \n",
    "# add_algo(\"mf\", \"_alternate_march\", \"FLM--A\", \"C3\", \"s\", \"-\")\n",
    "# add_algo(\"gamf\", \"_march\", \"FLM-OT\", \"C1\", \"s\", \"--\") \n",
    "# add_algo(\"gamf\", \"_alternate_march\", \"FLM--OTA\", \"C1\", \"s\", \"-\") \n",
    "# add_algo(\"emf\", \"_alternate_march\", \"FLME--A\", \"C2\", \"s\", \"-\")\n"
   ]
  },
  {
   "cell_type": "code",
   "execution_count": 30,
   "metadata": {},
   "outputs": [
    {
     "name": "stdout",
     "output_type": "stream",
     "text": [
      "[Errno 2] No such file or directory: '../data/results/flow_2_lhc2d_april_run1_samples.npy'\n",
      "[Errno 2] No such file or directory: '../data/results/flow_2_lhc2d_april_run2_samples.npy'\n",
      "[Errno 2] No such file or directory: '../data/results/flow_2_lhc2d_april_run3_samples.npy'\n",
      "[Errno 2] No such file or directory: '../data/results/flow_2_lhc2d_april_run4_samples.npy'\n",
      "[Errno 2] No such file or directory: '../data/results/flow_14_lhc_april_run1_samples.npy'\n",
      "[Errno 2] No such file or directory: '../data/results/flow_14_lhc_april_run2_samples.npy'\n",
      "[Errno 2] No such file or directory: '../data/results/flow_14_lhc_april_run3_samples.npy'\n",
      "[Errno 2] No such file or directory: '../data/results/flow_14_lhc_april_run4_samples.npy'\n",
      "[Errno 2] No such file or directory: '../data/results/flow_2_lhc2d_april_samples_manifold_distance.npy'\n",
      "[Errno 2] No such file or directory: '../data/results/flow_2_lhc2d_april_run1_samples_manifold_distance.npy'\n",
      "[Errno 2] No such file or directory: '../data/results/flow_2_lhc2d_april_run2_samples_manifold_distance.npy'\n",
      "[Errno 2] No such file or directory: '../data/results/flow_2_lhc2d_april_run3_samples_manifold_distance.npy'\n",
      "[Errno 2] No such file or directory: '../data/results/flow_2_lhc2d_april_run4_samples_manifold_distance.npy'\n",
      "[Errno 2] No such file or directory: '../data/results/flow_14_lhc_april_run1_samples_manifold_distance.npy'\n",
      "[Errno 2] No such file or directory: '../data/results/flow_14_lhc_april_run2_samples_manifold_distance.npy'\n",
      "[Errno 2] No such file or directory: '../data/results/flow_14_lhc_april_run3_samples_manifold_distance.npy'\n",
      "[Errno 2] No such file or directory: '../data/results/flow_14_lhc_april_run4_samples_manifold_distance.npy'\n",
      "[Errno 2] No such file or directory: '../data/results/flow_2_lhc2d_april_run1_posterior_samples.npy'\n",
      "[Errno 2] No such file or directory: '../data/results/flow_2_lhc2d_april_run1_posterior_samples_chain1.npy'\n",
      "[Errno 2] No such file or directory: '../data/results/flow_2_lhc2d_april_run1_posterior_samples_chain2.npy'\n",
      "[Errno 2] No such file or directory: '../data/results/flow_2_lhc2d_april_run1_posterior_samples_chain3.npy'\n",
      "[Errno 2] No such file or directory: '../data/results/flow_2_lhc2d_april_run2_posterior_samples.npy'\n",
      "[Errno 2] No such file or directory: '../data/results/flow_2_lhc2d_april_run2_posterior_samples_chain1.npy'\n",
      "[Errno 2] No such file or directory: '../data/results/flow_2_lhc2d_april_run2_posterior_samples_chain2.npy'\n",
      "[Errno 2] No such file or directory: '../data/results/flow_2_lhc2d_april_run2_posterior_samples_chain3.npy'\n",
      "[Errno 2] No such file or directory: '../data/results/flow_2_lhc2d_april_run3_posterior_samples.npy'\n",
      "[Errno 2] No such file or directory: '../data/results/flow_2_lhc2d_april_run3_posterior_samples_chain1.npy'\n",
      "[Errno 2] No such file or directory: '../data/results/flow_2_lhc2d_april_run3_posterior_samples_chain2.npy'\n",
      "[Errno 2] No such file or directory: '../data/results/flow_2_lhc2d_april_run3_posterior_samples_chain3.npy'\n",
      "[Errno 2] No such file or directory: '../data/results/flow_2_lhc2d_april_run4_posterior_samples.npy'\n",
      "[Errno 2] No such file or directory: '../data/results/flow_2_lhc2d_april_run4_posterior_samples_chain1.npy'\n",
      "[Errno 2] No such file or directory: '../data/results/flow_2_lhc2d_april_run4_posterior_samples_chain2.npy'\n",
      "[Errno 2] No such file or directory: '../data/results/flow_2_lhc2d_april_run4_posterior_samples_chain3.npy'\n",
      "[Errno 2] No such file or directory: '../data/results/flow_14_lhc_april_run1_posterior_samples.npy'\n",
      "[Errno 2] No such file or directory: '../data/results/flow_14_lhc_april_run1_posterior_samples_chain1.npy'\n",
      "[Errno 2] No such file or directory: '../data/results/flow_14_lhc_april_run1_posterior_samples_chain2.npy'\n",
      "[Errno 2] No such file or directory: '../data/results/flow_14_lhc_april_run1_posterior_samples_chain3.npy'\n",
      "[Errno 2] No such file or directory: '../data/results/flow_14_lhc_april_run2_posterior_samples.npy'\n",
      "[Errno 2] No such file or directory: '../data/results/flow_14_lhc_april_run2_posterior_samples_chain1.npy'\n",
      "[Errno 2] No such file or directory: '../data/results/flow_14_lhc_april_run2_posterior_samples_chain2.npy'\n",
      "[Errno 2] No such file or directory: '../data/results/flow_14_lhc_april_run2_posterior_samples_chain3.npy'\n",
      "[Errno 2] No such file or directory: '../data/results/flow_14_lhc_april_run3_posterior_samples.npy'\n",
      "[Errno 2] No such file or directory: '../data/results/flow_14_lhc_april_run3_posterior_samples_chain1.npy'\n",
      "[Errno 2] No such file or directory: '../data/results/flow_14_lhc_april_run3_posterior_samples_chain2.npy'\n",
      "[Errno 2] No such file or directory: '../data/results/flow_14_lhc_april_run3_posterior_samples_chain3.npy'\n",
      "[Errno 2] No such file or directory: '../data/results/flow_14_lhc_april_run4_posterior_samples.npy'\n",
      "[Errno 2] No such file or directory: '../data/results/flow_14_lhc_april_run4_posterior_samples_chain1.npy'\n",
      "[Errno 2] No such file or directory: '../data/results/flow_14_lhc_april_run4_posterior_samples_chain2.npy'\n",
      "[Errno 2] No such file or directory: '../data/results/flow_14_lhc_april_run4_posterior_samples_chain3.npy'\n"
     ]
    }
   ],
   "source": [
    "def load(name, shape, numpyfy=True, chains=1, result_dir=\"../data/results\"):\n",
    "    all_results = []\n",
    "    \n",
    "    for algo_filename, algo_add, algo_2d in zip(algo_filenames, algo_additionals, algo_2ds):\n",
    "        algo_results = []\n",
    "            \n",
    "        for run in range(n_runs):\n",
    "            run_str = \"\" if run == 0 else \"_run{}\".format(run)\n",
    "            \n",
    "            for chain in range(chains):\n",
    "                chain_str = \"\" if chain == 0 else \"_chain{}\".format(chain)\n",
    "                \n",
    "                try:\n",
    "                    this_result = np.load(\n",
    "                        \"{}/{}_{}_lhc{}{}{}_{}{}.npy\".format(\n",
    "                            result_dir, algo_filename, \"2\" if algo_2d else \"14\",\n",
    "                            \"2d\" if algo_2d else \"\", algo_add, run_str, name, chain_str\n",
    "                        )\n",
    "                    )\n",
    "                    if (not numpyfy) or (shape is None) or np.product(this_result.shape) == np.product(shape):\n",
    "                        algo_results.append(this_result.reshape(shape))\n",
    "                    else:\n",
    "                        algo_results.append(np.nan*np.ones(shape))\n",
    "\n",
    "                except FileNotFoundError as e:\n",
    "                    print(e)\n",
    "                    if shape is None:\n",
    "                        algo_results.append(None)\n",
    "                    else:\n",
    "                        algo_results.append(np.nan*np.ones(shape))\n",
    "            \n",
    "        all_results.append(algo_results)\n",
    "    \n",
    "    if numpyfy:\n",
    "        all_results = np.array(all_results, dtype=np.float)\n",
    "        \n",
    "        if chains > 1:\n",
    "            all_results = all_results.reshape([all_results.shape[0], n_runs, n_chains] + list(shape))\n",
    "        \n",
    "    return all_results\n",
    "\n",
    "\n",
    "model_gen_x = load(\"samples\", None, numpyfy=False)\n",
    "model_gen_closure = load(\"samples_manifold_distance\", (10000,))\n",
    "model_posterior_samples = load(\"posterior_samples\", (500, 2,), chains=n_chains)\n"
   ]
  },
  {
   "cell_type": "code",
   "execution_count": 31,
   "metadata": {},
   "outputs": [
    {
     "data": {
      "text/plain": [
       "array([[[-0.04292377, -0.00328787],\n",
       "        [-0.04292377, -0.00328787],\n",
       "        [-0.04292377, -0.00328787],\n",
       "        ...,\n",
       "        [ 0.06423699,  0.11158238],\n",
       "        [ 0.06423699,  0.11158238],\n",
       "        [ 0.06423699,  0.11158238]],\n",
       "\n",
       "       [[ 0.01322685, -0.04839357],\n",
       "        [-0.04181922, -0.03434978],\n",
       "        [-0.04181922, -0.03434978],\n",
       "        ...,\n",
       "        [-0.03917305,  0.04097917],\n",
       "        [-0.03917305,  0.04097917],\n",
       "        [-0.03917305,  0.04097917]],\n",
       "\n",
       "       [[ 0.01382166, -0.03289502],\n",
       "        [ 0.01039081, -0.01241599],\n",
       "        [ 0.01039081, -0.01241599],\n",
       "        ...,\n",
       "        [ 0.01709347,  0.05340207],\n",
       "        [ 0.01709347,  0.05340207],\n",
       "        [-0.01457238, -0.01093576]],\n",
       "\n",
       "       [[ 0.06273756, -0.01251168],\n",
       "        [ 0.06273756, -0.01251168],\n",
       "        [ 0.06273756, -0.01251168],\n",
       "        ...,\n",
       "        [ 0.03964039,  0.09360889],\n",
       "        [ 0.04721533,  0.01504092],\n",
       "        [ 0.04721533,  0.01504092]]])"
      ]
     },
     "execution_count": 31,
     "metadata": {},
     "output_type": "execute_result"
    }
   ],
   "source": [
    "model_posterior_samples[0][0]"
   ]
  },
  {
   "cell_type": "code",
   "execution_count": 32,
   "metadata": {},
   "outputs": [],
   "source": [
    "sim = WBFLoader()\n",
    "\n",
    "test_x, _ = sim.load_dataset(train=False, dataset_dir=\"../data/samples/lhc\", numpy=True)\n",
    "\n",
    "test_closure = sim.distance_from_manifold(test_x)"
   ]
  },
  {
   "cell_type": "code",
   "execution_count": 33,
   "metadata": {},
   "outputs": [],
   "source": [
    "def remove_nans(*results):\n",
    "    passes = all([np.all(np.isfinite(result)) for result in results])\n",
    "    \n",
    "    if passes:\n",
    "        return results\n",
    "    else:\n",
    "        return [np.nan * np.ones_like(result) for result in results]\n",
    "\n",
    "\n",
    "def remove_nans_from_lists(*raws):\n",
    "    # raws[quantity][algo]\n",
    "    n_quantities = len(raws)\n",
    "    n_algos = len(raws[0])\n",
    "    \n",
    "    for raw in raws:\n",
    "        assert len(raw) == n_algos\n",
    "    \n",
    "    cleans = [[[] for _ in range(n_algos)] for _ in range(n_quantities)]\n",
    "    \n",
    "    for i in range(n_algos):\n",
    "        for k in range(n_runs):\n",
    "            clean = remove_nans(*[raw[i][k] for raw in raws])\n",
    "            for j in range(n_quantities):\n",
    "                cleans[j][i].append(clean[j])\n",
    "            \n",
    "    cleans = [np.array(clean) for clean in cleans]\n",
    "    \n",
    "    # cleans[quantity][algo]\n",
    "    return cleans\n",
    "   \n",
    "if remove_all_results_with_nans:\n",
    "    raw = [model_gen_closure, model_posterior_samples]\n",
    "    clean = remove_nans_from_lists(*raw)\n",
    "    model_gen_closure, model_posterior_samples = clean\n"
   ]
  },
  {
   "cell_type": "markdown",
   "metadata": {},
   "source": [
    "## Calculate metrics"
   ]
  },
  {
   "cell_type": "code",
   "execution_count": 34,
   "metadata": {},
   "outputs": [],
   "source": [
    "n_observed = 100\n",
    "min_logp = -100.\n",
    "max_closure = 1.e9\n",
    "\n",
    "test_mean_closure = np.mean(np.clip(test_closure, None, max_closure), axis=-1)\n",
    "model_gen_mean_closure = np.mean(np.clip(model_gen_closure, None, max_closure), axis=2)\n"
   ]
  },
  {
   "cell_type": "markdown",
   "metadata": {},
   "source": [
    "## Generative mode: closure test"
   ]
  },
  {
   "cell_type": "code",
   "execution_count": 35,
   "metadata": {},
   "outputs": [
    {
     "name": "stderr",
     "output_type": "stream",
     "text": [
      "/Users/johannbrehmer/anaconda3/envs/ml/lib/python3.6/site-packages/numpy/lib/histograms.py:824: RuntimeWarning: invalid value encountered in greater_equal\n",
      "  keep = (tmp_a >= first_edge)\n",
      "/Users/johannbrehmer/anaconda3/envs/ml/lib/python3.6/site-packages/numpy/lib/histograms.py:825: RuntimeWarning: invalid value encountered in less_equal\n",
      "  keep &= (tmp_a <= last_edge)\n",
      "/Users/johannbrehmer/anaconda3/envs/ml/lib/python3.6/site-packages/numpy/lib/histograms.py:893: RuntimeWarning: invalid value encountered in true_divide\n",
      "  return n/db/n.sum(), bin_edges\n",
      "/Users/johannbrehmer/anaconda3/envs/ml/lib/python3.6/site-packages/ipykernel_launcher.py:16: RuntimeWarning: Mean of empty slice\n",
      "  app.launch_new_instance()\n",
      "/Users/johannbrehmer/anaconda3/envs/ml/lib/python3.6/site-packages/numpy/lib/nanfunctions.py:1628: RuntimeWarning: Degrees of freedom <= 0 for slice.\n",
      "  keepdims=keepdims)\n",
      "/Users/johannbrehmer/anaconda3/envs/ml/lib/python3.6/site-packages/numpy/lib/histograms.py:824: RuntimeWarning: invalid value encountered in greater_equal\n",
      "  keep = (tmp_a >= first_edge)\n",
      "/Users/johannbrehmer/anaconda3/envs/ml/lib/python3.6/site-packages/numpy/lib/histograms.py:825: RuntimeWarning: invalid value encountered in less_equal\n",
      "  keep &= (tmp_a <= last_edge)\n",
      "/Users/johannbrehmer/anaconda3/envs/ml/lib/python3.6/site-packages/numpy/lib/histograms.py:893: RuntimeWarning: invalid value encountered in true_divide\n",
      "  return n/db/n.sum(), bin_edges\n"
     ]
    },
    {
     "data": {
      "image/png": "[encoded data removed]",
      "text/plain": [
       "<Figure size 288x288 with 1 Axes>"
      ]
     },
     "metadata": {
      "needs_background": "light"
     },
     "output_type": "display_data"
    }
   ],
   "source": [
    "xmin, xmax = 0.,0.35\n",
    "bins = 50\n",
    "\n",
    "fig = plt.figure(figsize=(4, 4))\n",
    "ax = plt.gca()\n",
    "    \n",
    "histo_w_err(\n",
    "    test_closure,\n",
    "    xmin, xmax, bins,\n",
    "    label=\"Simulator\",\n",
    "    c=\"black\",\n",
    ")\n",
    "\n",
    "for closure, algo_label, c, m, ls in zip(model_gen_closure, algo_labels, algo_colors, algo_markers, algo_linestyles):\n",
    "    histo_w_err(\n",
    "        closure,\n",
    "        xmin, xmax, bins,\n",
    "        label=algo_label,\n",
    "        c=c,\n",
    "        ls=ls,\n",
    "    )\n",
    "\n",
    "plt.legend()\n",
    "\n",
    "plt.xlabel(r\"Sample closure\")\n",
    "plt.ylabel(r\"Histogram\")\n",
    "plt.xlim(xmin, xmax)\n",
    "plt.ylim(0., 40.)\n",
    "#plt.yscale(\"log\")\n",
    "#plt.ylim(1.e-2, 2.e2)\n",
    "    \n",
    "plt.tight_layout()\n",
    "plt.savefig(\"../figures/lhc_generated_samples_closure.pdf\")\n"
   ]
  },
  {
   "cell_type": "markdown",
   "metadata": {},
   "source": [
    "## Posterior plots"
   ]
  },
  {
   "cell_type": "code",
   "execution_count": 36,
   "metadata": {},
   "outputs": [
    {
     "data": {
      "text/plain": [
       "(2, 5, 4, 500, 2)"
      ]
     },
     "execution_count": 36,
     "metadata": {},
     "output_type": "execute_result"
    }
   ],
   "source": [
    "model_posterior_samples.shape"
   ]
  },
  {
   "cell_type": "code",
   "execution_count": 39,
   "metadata": {},
   "outputs": [
    {
     "data": {
      "image/png": "[encoded data removed]",
      "text/plain": [
       "<Figure size 576x288 with 2 Axes>"
      ]
     },
     "metadata": {
      "needs_background": "light"
     },
     "output_type": "display_data"
    }
   ],
   "source": [
    "skip = 10\n",
    "\n",
    "ncols = n_observed\n",
    "nrows = len(algo_labels)\n",
    "\n",
    "fig = plt.figure(figsize=(ncols*4., nrows*4.))\n",
    "\n",
    "for i, (label, posteriors) in enumerate(zip(algo_labels, model_posterior_samples)):\n",
    "    \n",
    "    for j in range(n_observed):\n",
    "        ax = plt.subplot(nrows, ncols, i*ncols + j + 1)\n",
    "\n",
    "        for posterior, c in zip(posteriors, [\"C0\", \"C1\", \"C2\", \"C3\"]):\n",
    "            plt.scatter(posterior[:,::skip, 0], posterior[:,::skip, 1], c=c, s=5.)\n",
    "        plt.scatter([0.], [0.], marker=\"*\", s=50, color=\"black\")\n",
    "\n",
    "        plt.xlim(-2.5,2.5)\n",
    "        plt.ylim(-2.5,2.5)\n",
    "\n",
    "        plt.title(label, fontsize=11)\n",
    "        plt.xlabel(r\"$\\theta_0$\")\n",
    "        plt.ylabel(r\"$\\theta_1$\")\n",
    "\n",
    "plt.tight_layout()\n",
    "plt.savefig(\"../figures/lhc_posterior_scatter.pdf\")\n"
   ]
  },
  {
   "cell_type": "code",
   "execution_count": 26,
   "metadata": {},
   "outputs": [
    {
     "name": "stderr",
     "output_type": "stream",
     "text": [
      "/Users/johannbrehmer/anaconda3/envs/ml/lib/python3.6/site-packages/numpy/lib/histograms.py:824: RuntimeWarning: invalid value encountered in greater_equal\n",
      "  keep = (tmp_a >= first_edge)\n",
      "/Users/johannbrehmer/anaconda3/envs/ml/lib/python3.6/site-packages/numpy/lib/histograms.py:825: RuntimeWarning: invalid value encountered in less_equal\n",
      "  keep &= (tmp_a <= last_edge)\n",
      "/Users/johannbrehmer/anaconda3/envs/ml/lib/python3.6/site-packages/numpy/lib/histograms.py:893: RuntimeWarning: invalid value encountered in true_divide\n",
      "  return n/db/n.sum(), bin_edges\n",
      "/Users/johannbrehmer/anaconda3/envs/ml/lib/python3.6/site-packages/numpy/lib/histograms.py:824: RuntimeWarning: invalid value encountered in greater_equal\n",
      "  keep = (tmp_a >= first_edge)\n",
      "/Users/johannbrehmer/anaconda3/envs/ml/lib/python3.6/site-packages/numpy/lib/histograms.py:825: RuntimeWarning: invalid value encountered in less_equal\n",
      "  keep &= (tmp_a <= last_edge)\n",
      "/Users/johannbrehmer/anaconda3/envs/ml/lib/python3.6/site-packages/numpy/lib/histograms.py:893: RuntimeWarning: invalid value encountered in true_divide\n",
      "  return n/db/n.sum(), bin_edges\n",
      "/Users/johannbrehmer/anaconda3/envs/ml/lib/python3.6/site-packages/numpy/lib/histograms.py:824: RuntimeWarning: invalid value encountered in greater_equal\n",
      "  keep = (tmp_a >= first_edge)\n",
      "/Users/johannbrehmer/anaconda3/envs/ml/lib/python3.6/site-packages/numpy/lib/histograms.py:825: RuntimeWarning: invalid value encountered in less_equal\n",
      "  keep &= (tmp_a <= last_edge)\n",
      "/Users/johannbrehmer/anaconda3/envs/ml/lib/python3.6/site-packages/numpy/lib/histograms.py:893: RuntimeWarning: invalid value encountered in true_divide\n",
      "  return n/db/n.sum(), bin_edges\n",
      "/Users/johannbrehmer/anaconda3/envs/ml/lib/python3.6/site-packages/numpy/lib/histograms.py:824: RuntimeWarning: invalid value encountered in greater_equal\n",
      "  keep = (tmp_a >= first_edge)\n",
      "/Users/johannbrehmer/anaconda3/envs/ml/lib/python3.6/site-packages/numpy/lib/histograms.py:825: RuntimeWarning: invalid value encountered in less_equal\n",
      "  keep &= (tmp_a <= last_edge)\n",
      "/Users/johannbrehmer/anaconda3/envs/ml/lib/python3.6/site-packages/numpy/lib/histograms.py:893: RuntimeWarning: invalid value encountered in true_divide\n",
      "  return n/db/n.sum(), bin_edges\n"
     ]
    },
    {
     "data": {
      "image/png": "[encoded data removed]",
      "text/plain": [
       "<Figure size 288x288 with 1 Axes>"
      ]
     },
     "metadata": {
      "needs_background": "light"
     },
     "output_type": "display_data"
    }
   ],
   "source": [
    "dmin, dmax = 0., 1.5\n",
    "\n",
    "fig = plt.figure(figsize=(4.,4.))\n",
    "\n",
    "for i, (label, samples, c, ls) in enumerate(zip(algo_labels, model_posterior_samples, algo_colors, algo_linestyles)):\n",
    "    posterior_diffs = np.mean(samples**2, axis=-1)**0.5\n",
    "    \n",
    "    histo_w_err(posterior_diffs, dmin, dmax, 50, c=c, ls=ls, alpha=0.15, label=label)\n",
    "    plt.legend()\n",
    "    \n",
    "    plt.xlim(dmin, dmax)\n",
    "    plt.ylim(0., None)\n",
    "\n",
    "    plt.xlabel(r\"$\\mathbb{E}_{\\theta \\sim p(\\theta | x)} [ || \\theta - \\theta_\\mathrm{true} || ]$\")\n",
    "    plt.ylabel(\"Histogram\")\n",
    "\n",
    "plt.tight_layout()\n",
    "plt.savefig(\"../figures/lhc_posterior_distance.pdf\")\n"
   ]
  },
  {
   "cell_type": "code",
   "execution_count": null,
   "metadata": {},
   "outputs": [],
   "source": []
  }
 ],
 "metadata": {
  "kernelspec": {
   "display_name": "Python (ML)",
   "language": "python",
   "name": "ml"
  },
  "language_info": {
   "codemirror_mode": {
    "name": "ipython",
    "version": 3
   },
   "file_extension": ".py",
   "mimetype": "text/x-python",
   "name": "python",
   "nbconvert_exporter": "python",
   "pygments_lexer": "ipython3",
   "version": "3.6.8"
  }
 },
 "nbformat": 4,
 "nbformat_minor": 2
}
