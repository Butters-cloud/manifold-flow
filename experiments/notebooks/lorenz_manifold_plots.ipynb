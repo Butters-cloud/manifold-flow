{
 "cells": [
  {
   "cell_type": "markdown",
   "metadata": {},
   "source": [
    "# Lorenz system: manifold plots"
   ]
  },
  {
   "cell_type": "code",
   "execution_count": 1,
   "metadata": {},
   "outputs": [],
   "source": [
    "%matplotlib osx\n",
    "\n",
    "import sys\n",
    "import numpy as np\n",
    "import matplotlib\n",
    "import torch\n",
    "import logging\n",
    "import pickle\n",
    "from tqdm import tqdm\n",
    "from scipy.spatial import cKDTree\n",
    "\n",
    "from matplotlib import pyplot as plt, cm\n",
    "from matplotlib.collections import PolyCollection\n",
    "from matplotlib.tri import Triangulation\n",
    "from matplotlib.colors import LightSource\n",
    "from mpl_toolkits.mplot3d import Axes3D\n",
    "from mpl_toolkits.mplot3d.art3d import Poly3DCollection\n",
    "\n",
    "sys.path.append(\"../../\")\n",
    "from experiments.datasets import LorenzSimulator\n",
    "from experiments.architectures.vector_transforms import create_vector_transform\n",
    "from manifold_flow.flows import ManifoldFlow\n",
    "import plot_settings as ps\n",
    "\n",
    "logging.basicConfig(\n",
    "    format=\"%(asctime)-5.5s %(name)-30.30s %(levelname)-7.7s %(message)s\",\n",
    "    datefmt=\"%H:%M\",\n",
    "    level=logging.DEBUG,\n",
    ")\n",
    "for key in logging.Logger.manager.loggerDict:\n",
    "    if \"experiments\" not in key and \"manifold_flow\" not in key:\n",
    "        logging.getLogger(key).setLevel(logging.WARNING)"
   ]
  },
  {
   "cell_type": "code",
   "execution_count": 2,
   "metadata": {},
   "outputs": [],
   "source": [
    "# ps.setup()"
   ]
  },
  {
   "cell_type": "markdown",
   "metadata": {},
   "source": [
    "## Options"
   ]
  },
  {
   "cell_type": "code",
   "execution_count": 3,
   "metadata": {},
   "outputs": [],
   "source": [
    "latent_seeds = False"
   ]
  },
  {
   "cell_type": "markdown",
   "metadata": {},
   "source": [
    "## Set up simulator"
   ]
  },
  {
   "cell_type": "code",
   "execution_count": 16,
   "metadata": {},
   "outputs": [],
   "source": [
    "sim = LorenzSimulator(random_trajectories=10)\n"
   ]
  },
  {
   "cell_type": "markdown",
   "metadata": {},
   "source": [
    "## Load flows"
   ]
  },
  {
   "cell_type": "code",
   "execution_count": 17,
   "metadata": {},
   "outputs": [],
   "source": [
    "def load_model(filename):\n",
    "    outer_transform = create_vector_transform(\n",
    "        3,\n",
    "        5,\n",
    "        linear_transform_type=\"permutation\",\n",
    "        base_transform_type=\"rq-coupling\",\n",
    "        context_features=None,\n",
    "        dropout_probability=0.,\n",
    "        tail_bound=3.,\n",
    "        num_bins=5,\n",
    "    )\n",
    "    inner_transform = create_vector_transform(\n",
    "        2,\n",
    "        5,\n",
    "        linear_transform_type=\"permutation\",\n",
    "        base_transform_type=\"rq-coupling\",\n",
    "        context_features=sim.parameter_dim(),\n",
    "        dropout_probability=0.,\n",
    "        tail_bound=3.,\n",
    "        num_bins=5,\n",
    "    )\n",
    "\n",
    "    model = ManifoldFlow(\n",
    "        data_dim=3,\n",
    "        latent_dim=2,\n",
    "        outer_transform=outer_transform,\n",
    "        inner_transform=inner_transform,\n",
    "        apply_context_to_outer=False,\n",
    "    )\n",
    "    \n",
    "    model.load_state_dict(\n",
    "        torch.load(\"../data/models/{}.pt\".format(filename), map_location=torch.device(\"cpu\"))\n",
    "    )\n",
    "    _ = model.eval()\n",
    "    \n",
    "    return model"
   ]
  },
  {
   "cell_type": "code",
   "execution_count": 18,
   "metadata": {},
   "outputs": [
    {
     "name": "stderr",
     "output_type": "stream",
     "text": [
      "13:11 manifold_flow.transforms.proje DEBUG   Set up projection from vector with dimension 3 to vector with dimension 2\n",
      "13:11 manifold_flow.flows.base       DEBUG   Flow has 0.4 M parameters (0.4 M trainable) with an estimated size of 1.7 MB\n",
      "13:11 manifold_flow.flows.manifold_f DEBUG     Outer transform: 0.2 M parameters\n",
      "13:11 manifold_flow.flows.manifold_f DEBUG     Inner transform: 0.2 M parameters\n"
     ]
    }
   ],
   "source": [
    "mf = load_model(\"mf_2_lorenz_april2\")\n"
   ]
  },
  {
   "cell_type": "markdown",
   "metadata": {},
   "source": [
    "## Find points for evaluation: start with latent grid, triangulate, add points randomly where necessary, remove duplicates"
   ]
  },
  {
   "cell_type": "code",
   "execution_count": 19,
   "metadata": {},
   "outputs": [],
   "source": [
    "def make_grid(boundary, res):\n",
    "    grid_each = np.linspace(-boundary, boundary, res)\n",
    "    x, y = np.meshgrid(grid_each, grid_each)\n",
    "    xy = np.vstack((x.flatten(), y.flatten())).T\n",
    "    return xy\n",
    "\n",
    "\n",
    "def decode(zs, batchsize = 10000):\n",
    "    xs = []\n",
    "    n_batches = (len(zs) - 1) // batchsize + 1\n",
    "    for i in range(n_batches):\n",
    "        print(\"Batch {} / {}\".format(i + 1, n_batches))\n",
    "        z_batch = zs[i*batchsize:(i+1)*batchsize]\n",
    "        z_ = torch.tensor(z_batch, dtype=torch.float)\n",
    "        x_ = mf.decode(u=z_)\n",
    "        xs += list(x_.detach().numpy().flatten())\n",
    "\n",
    "    xs = np.array(xs).reshape((-1, 3))\n",
    "    return xs\n",
    "\n",
    "\n",
    "def encode(xs, batchsize = 10000):\n",
    "    zs = []\n",
    "    n_batches = (len(xs) - 1) // batchsize + 1\n",
    "    for i in range(n_batches):\n",
    "        print(\"Batch {} / {}\".format(i + 1, n_batches))\n",
    "        x_batch = xs[i*batchsize:(i+1)*batchsize]\n",
    "        x_ = torch.tensor(x_batch, dtype=torch.float)\n",
    "        z_ = mf.encode(x_)\n",
    "        zs += list(z_.detach().numpy().flatten())\n",
    "\n",
    "    zs = np.array(zs).reshape((-1, 2))\n",
    "    return zs\n",
    "\n",
    "\n",
    "def triangle_circumference(a, b, c):\n",
    "    ab = np.linalg.norm(a - b)\n",
    "    bc = np.linalg.norm(b - c)\n",
    "    ca = np.linalg.norm(c - a)\n",
    "    circ = (ab + bc + ca)\n",
    "    return circ\n",
    "\n",
    "\n",
    "def triangle_area(a, b, c):\n",
    "    ab = np.linalg.norm(a - b)\n",
    "    bc = np.linalg.norm(b - c)\n",
    "    ca = np.linalg.norm(c - a)\n",
    "    s = (ab + bc + ca) / 2.\n",
    "    return (s * (s-ab) * (s-bc) * (s-ca))**0.5\n",
    "    \n",
    "    \n",
    "def uniform_points_in_triangle(a, b, c, n=1):\n",
    "    p = np.random.uniform(size=n)[:,np.newaxis]\n",
    "    q = np.random.uniform(size=n)[:,np.newaxis]\n",
    "    p_ = np.where(p + q > 1., 1. - p, p)\n",
    "    q_ = np.where(p + q > 1., 1. - q, q)\n",
    "    points = a[np.newaxis, :] + (b - a)[np.newaxis, :] * p_ + (c - a)[np.newaxis, :] * q_\n",
    "    \n",
    "    return points\n"
   ]
  },
  {
   "cell_type": "code",
   "execution_count": 20,
   "metadata": {},
   "outputs": [],
   "source": [
    "def iterate(xs, zs, goal_area = 0.01, goal_circ=0.2, insert_max=20, max_distance=0.1):\n",
    "    print(\"Beginning iteration\")\n",
    "    n_in = xs.shape[0]\n",
    "    z_outs = np.copy(zs)\n",
    "    \n",
    "    # Step one: inserting more points where distances are large\n",
    "    print(\"Triangulating...\")\n",
    "    triangulation = Triangulation(zs[:,0], zs[:,1])\n",
    "\n",
    "    print(\"Inserting points in latent space...\")\n",
    "    for t in triangulation.triangles:\n",
    "        area = triangle_area(xs[t[0]], xs[t[1]], xs[t[2]])\n",
    "        circ = triangle_circumference(xs[t[0]], xs[t[1]], xs[t[2]])\n",
    "        try:\n",
    "            n_additional = int(round(np.clip(\n",
    "                0.5 * (area / goal_area + circ / goal_circ),\n",
    "                0., insert_max\n",
    "            ), 0))\n",
    "        except:\n",
    "            n_additional = insert_max // 2  # Seems like a safe choice\n",
    "\n",
    "        if n_additional > 0:\n",
    "            z_additional = uniform_points_in_triangle(\n",
    "                zs[t[0]],\n",
    "                zs[t[1]],\n",
    "                zs[t[2]],\n",
    "                n=n_additional\n",
    "            )\n",
    "            z_outs = np.concatenate((z_outs, z_additional), axis=0)\n",
    "            \n",
    "    print(\"Decoding...\")\n",
    "    x_outs = decode(z_outs)\n",
    "    n_mid = len(x_outs)\n",
    "\n",
    "    # Step two: removing close neighbors in (x,z) space\n",
    "    print(\"Removing close neighbors in combined latent / data space...\")\n",
    "    tree = cKDTree(np.concatenate([x_mf, z_mf], axis=1))\n",
    "    neighbors = tree.query_pairs(r=max_distance)\n",
    "    duplicates = [n[1] for n in neighbors]\n",
    "\n",
    "    x_outs = np.array([x for i, x in enumerate(x_outs) if i not in duplicates])\n",
    "    z_outs = np.array([z for i, z in enumerate(z_outs) if i not in duplicates])\n",
    "    n_out = len(x_outs)\n",
    "    \n",
    "    print(f\"Done! {n_in} -> {n_mid} -> {n_out}\")\n",
    "\n",
    "    return x_outs, z_outs"
   ]
  },
  {
   "cell_type": "code",
   "execution_count": 21,
   "metadata": {},
   "outputs": [
    {
     "name": "stderr",
     "output_type": "stream",
     "text": [
      "13:11 experiments.datasets.lorenz    INFO    Solving Lorenz system with sigma = 10.0, beta = 2.6666666666666665, rho = 28.0, initial conditions x0 = [1.19529968 1.06969531 0.88328881], saving 1000000 time steps from 50.0 to 1000.0\n",
      "13:11 experiments.datasets.lorenz    DEBUG   Done\n",
      "13:11 experiments.datasets.lorenz    INFO    Solving Lorenz system with sigma = 10.0, beta = 2.6666666666666665, rho = 28.0, initial conditions x0 = [0.9799591  0.9581592  0.87777382], saving 1000000 time steps from 50.0 to 1000.0\n",
      "13:11 experiments.datasets.lorenz    DEBUG   Done\n",
      "13:11 experiments.datasets.lorenz    INFO    Solving Lorenz system with sigma = 10.0, beta = 2.6666666666666665, rho = 28.0, initial conditions x0 = [1.013473   0.89268983 1.08024746], saving 1000000 time steps from 50.0 to 1000.0\n",
      "13:11 experiments.datasets.lorenz    DEBUG   Done\n",
      "13:11 experiments.datasets.lorenz    INFO    Solving Lorenz system with sigma = 10.0, beta = 2.6666666666666665, rho = 28.0, initial conditions x0 = [1.05454684 1.10017542 1.22707021], saving 1000000 time steps from 50.0 to 1000.0\n",
      "13:12 experiments.datasets.lorenz    DEBUG   Done\n",
      "13:12 experiments.datasets.lorenz    INFO    Solving Lorenz system with sigma = 10.0, beta = 2.6666666666666665, rho = 28.0, initial conditions x0 = [1.15270031 1.00920005 1.03305536], saving 1000000 time steps from 50.0 to 1000.0\n",
      "13:12 experiments.datasets.lorenz    DEBUG   Done\n",
      "13:12 experiments.datasets.lorenz    INFO    Solving Lorenz system with sigma = 10.0, beta = 2.6666666666666665, rho = 28.0, initial conditions x0 = [1.04154644 1.14099561 1.01275453], saving 1000000 time steps from 50.0 to 1000.0\n",
      "13:12 experiments.datasets.lorenz    DEBUG   Done\n",
      "13:12 experiments.datasets.lorenz    INFO    Solving Lorenz system with sigma = 10.0, beta = 2.6666666666666665, rho = 28.0, initial conditions x0 = [1.0369737  1.0937991  0.77029963], saving 1000000 time steps from 50.0 to 1000.0\n",
      "13:12 experiments.datasets.lorenz    DEBUG   Done\n",
      "13:12 experiments.datasets.lorenz    INFO    Solving Lorenz system with sigma = 10.0, beta = 2.6666666666666665, rho = 28.0, initial conditions x0 = [0.93838626 0.83169158 0.84517708], saving 1000000 time steps from 50.0 to 1000.0\n",
      "13:12 experiments.datasets.lorenz    DEBUG   Done\n",
      "13:12 experiments.datasets.lorenz    INFO    Solving Lorenz system with sigma = 10.0, beta = 2.6666666666666665, rho = 28.0, initial conditions x0 = [1.02782895 1.08574326 1.06864968], saving 1000000 time steps from 50.0 to 1000.0\n",
      "13:12 experiments.datasets.lorenz    DEBUG   Done\n",
      "13:12 experiments.datasets.lorenz    INFO    Solving Lorenz system with sigma = 10.0, beta = 2.6666666666666665, rho = 28.0, initial conditions x0 = [0.89250989 1.11073679 1.13917835], saving 1000000 time steps from 50.0 to 1000.0\n",
      "13:12 experiments.datasets.lorenz    DEBUG   Done\n",
      "13:12 experiments.datasets.lorenz    DEBUG   Scaling LHC data to zero mean and unit variance\n"
     ]
    },
    {
     "name": "stdout",
     "output_type": "stream",
     "text": [
      "Batch 1 / 1\n",
      "Beginning iteration\n",
      "Triangulating...\n",
      "Inserting points in latent space...\n",
      "Decoding...\n",
      "Batch 1 / 1\n",
      "Removing close neighbors in combined latent _ data space...\n",
      "Done! 1000 -> 8775 -> 8534\n",
      "Beginning iteration\n",
      "Triangulating...\n",
      "Inserting points in latent space...\n",
      "Decoding...\n",
      "Batch 1 / 4\n",
      "Batch 2 / 4\n",
      "Batch 3 / 4\n",
      "Batch 4 / 4\n",
      "Removing close neighbors in combined latent _ data space...\n",
      "Done! 8534 -> 39245 -> 33171\n"
     ]
    }
   ],
   "source": [
    "if latent_seeds:\n",
    "    z_mf = make_grid(2.9, 100)\n",
    "    x_mf = decode(z_mf)\n",
    "    \n",
    "    for _ in range(2):\n",
    "        x_mf, z_mf = iterate(x_mf, z_mf)\n",
    "        \n",
    "else:\n",
    "    x_mf = sim.sample(1000)\n",
    "    z_mf = encode(x_mf)\n",
    "    \n",
    "    for _ in range(2):\n",
    "        x_mf, z_mf = iterate(x_mf, z_mf)\n"
   ]
  },
  {
   "cell_type": "markdown",
   "metadata": {},
   "source": [
    "## Evaluate log likelihood"
   ]
  },
  {
   "cell_type": "code",
   "execution_count": 22,
   "metadata": {},
   "outputs": [
    {
     "name": "stdout",
     "output_type": "stream",
     "text": [
      "Batch 1 / 56\n",
      "Batch 2 / 56\n",
      "Batch 3 / 56\n",
      "Batch 4 / 56\n",
      "Batch 5 / 56\n",
      "Batch 6 / 56\n",
      "Batch 7 / 56\n",
      "Batch 8 / 56\n",
      "Batch 9 / 56\n",
      "Batch 10 / 56\n",
      "Batch 11 / 56\n",
      "Batch 12 / 56\n",
      "Batch 13 / 56\n",
      "Batch 14 / 56\n",
      "Batch 15 / 56\n",
      "Batch 16 / 56\n",
      "Batch 17 / 56\n",
      "Batch 18 / 56\n",
      "Batch 19 / 56\n",
      "Batch 20 / 56\n",
      "Batch 21 / 56\n",
      "Batch 22 / 56\n",
      "Batch 23 / 56\n",
      "Batch 24 / 56\n",
      "Batch 25 / 56\n",
      "Batch 26 / 56\n",
      "Batch 27 / 56\n",
      "Batch 28 / 56\n",
      "Batch 29 / 56\n",
      "Batch 30 / 56\n",
      "Batch 31 / 56\n",
      "Batch 32 / 56\n",
      "Batch 33 / 56\n",
      "Batch 34 / 56\n",
      "Batch 35 / 56\n",
      "Batch 36 / 56\n",
      "Batch 37 / 56\n",
      "Batch 38 / 56\n",
      "Batch 39 / 56\n",
      "Batch 40 / 56\n",
      "Batch 41 / 56\n",
      "Batch 42 / 56\n",
      "Batch 43 / 56\n",
      "Batch 44 / 56\n",
      "Batch 45 / 56\n",
      "Batch 46 / 56\n",
      "Batch 47 / 56\n",
      "Batch 48 / 56\n",
      "Batch 49 / 56\n",
      "Batch 50 / 56\n",
      "Batch 51 / 56\n",
      "Batch 52 / 56\n",
      "Batch 53 / 56\n",
      "Batch 54 / 56\n",
      "Batch 55 / 56\n",
      "Batch 56 / 56\n"
     ]
    },
    {
     "data": {
      "text/plain": [
       "(33171,)"
      ]
     },
     "execution_count": 22,
     "metadata": {},
     "output_type": "execute_result"
    }
   ],
   "source": [
    "batchsize = 600\n",
    "n_batches = (len(z_mf) - 1) // batchsize + 1\n",
    "\n",
    "logps = []\n",
    "\n",
    "for i in range(n_batches):\n",
    "    print(\"Batch {} / {}\".format(i + 1, n_batches))\n",
    "    x_batch = x_mf[i*batchsize:(i+1)*batchsize]\n",
    "    x_batch_ = torch.tensor(x_batch, dtype=torch.float)\n",
    "    _, logp_, _ = mf(x_batch_, mode=\"mf\")\n",
    "    logps.append(logp_.detach().numpy().flatten())\n",
    "\n",
    "logp_mf = np.hstack(logps)\n",
    "logp_mf.shape\n"
   ]
  },
  {
   "cell_type": "code",
   "execution_count": 25,
   "metadata": {},
   "outputs": [
    {
     "name": "stderr",
     "output_type": "stream",
     "text": [
      "14:28 experiments.datasets.lorenz    DEBUG   Scaling LHC data to zero mean and unit variance\n"
     ]
    },
    {
     "name": "stdout",
     "output_type": "stream",
     "text": [
      "Batch 1 / 100\n",
      "Batch 2 / 100\n",
      "Batch 3 / 100\n",
      "Batch 4 / 100\n",
      "Batch 5 / 100\n",
      "Batch 6 / 100\n",
      "Batch 7 / 100\n",
      "Batch 8 / 100\n",
      "Batch 9 / 100\n",
      "Batch 10 / 100\n",
      "Batch 11 / 100\n",
      "Batch 12 / 100\n",
      "Batch 13 / 100\n",
      "Batch 14 / 100\n",
      "Batch 15 / 100\n",
      "Batch 16 / 100\n",
      "Batch 17 / 100\n",
      "Batch 18 / 100\n",
      "Batch 19 / 100\n",
      "Batch 20 / 100\n",
      "Batch 21 / 100\n",
      "Batch 22 / 100\n",
      "Batch 23 / 100\n",
      "Batch 24 / 100\n",
      "Batch 25 / 100\n",
      "Batch 26 / 100\n",
      "Batch 27 / 100\n",
      "Batch 28 / 100\n",
      "Batch 29 / 100\n",
      "Batch 30 / 100\n",
      "Batch 31 / 100\n",
      "Batch 32 / 100\n",
      "Batch 33 / 100\n",
      "Batch 34 / 100\n",
      "Batch 35 / 100\n",
      "Batch 36 / 100\n",
      "Batch 37 / 100\n",
      "Batch 38 / 100\n",
      "Batch 39 / 100\n",
      "Batch 40 / 100\n",
      "Batch 41 / 100\n",
      "Batch 42 / 100\n",
      "Batch 43 / 100\n",
      "Batch 44 / 100\n",
      "Batch 45 / 100\n",
      "Batch 46 / 100\n",
      "Batch 47 / 100\n",
      "Batch 48 / 100\n",
      "Batch 49 / 100\n",
      "Batch 50 / 100\n",
      "Batch 51 / 100\n",
      "Batch 52 / 100\n",
      "Batch 53 / 100\n",
      "Batch 54 / 100\n",
      "Batch 55 / 100\n",
      "Batch 56 / 100\n",
      "Batch 57 / 100\n",
      "Batch 58 / 100\n",
      "Batch 59 / 100\n",
      "Batch 60 / 100\n",
      "Batch 61 / 100\n",
      "Batch 62 / 100\n",
      "Batch 63 / 100\n",
      "Batch 64 / 100\n",
      "Batch 65 / 100\n",
      "Batch 66 / 100\n",
      "Batch 67 / 100\n",
      "Batch 68 / 100\n",
      "Batch 69 / 100\n",
      "Batch 70 / 100\n",
      "Batch 71 / 100\n",
      "Batch 72 / 100\n",
      "Batch 73 / 100\n",
      "Batch 74 / 100\n",
      "Batch 75 / 100\n",
      "Batch 76 / 100\n",
      "Batch 77 / 100\n",
      "Batch 78 / 100\n",
      "Batch 79 / 100\n",
      "Batch 80 / 100\n",
      "Batch 81 / 100\n",
      "Batch 82 / 100\n",
      "Batch 83 / 100\n",
      "Batch 84 / 100\n",
      "Batch 85 / 100\n",
      "Batch 86 / 100\n",
      "Batch 87 / 100\n",
      "Batch 88 / 100\n",
      "Batch 89 / 100\n",
      "Batch 90 / 100\n",
      "Batch 91 / 100\n",
      "Batch 92 / 100\n",
      "Batch 93 / 100\n",
      "Batch 94 / 100\n",
      "Batch 95 / 100\n",
      "Batch 96 / 100\n",
      "Batch 97 / 100\n",
      "Batch 98 / 100\n",
      "Batch 99 / 100\n",
      "Batch 100 / 100\n"
     ]
    },
    {
     "data": {
      "text/plain": [
       "((1000000, 3), (1000000, 2))"
      ]
     },
     "execution_count": 25,
     "metadata": {},
     "output_type": "execute_result"
    }
   ],
   "source": [
    "x_traj = sim.trajectory()\n",
    "z_traj = encode(x_traj, batchsize=10000)\n",
    "x_traj.shape, z_traj.shape\n"
   ]
  },
  {
   "cell_type": "markdown",
   "metadata": {},
   "source": [
    "## Save / load results"
   ]
  },
  {
   "cell_type": "code",
   "execution_count": 26,
   "metadata": {},
   "outputs": [],
   "source": [
    "if latent_seeds:\n",
    "    pickle.dump((x_mf, z_mf, logp_mf, x_traj, z_traj), open( \"../data/results/lorenz2.pickle\", \"wb\"))\n",
    "else:\n",
    "    pickle.dump((x_mf, z_mf, logp_mf, x_traj, z_traj), open( \"../data/results/lorenz3.pickle\", \"wb\"))\n"
   ]
  },
  {
   "cell_type": "code",
   "execution_count": 5,
   "metadata": {},
   "outputs": [],
   "source": [
    "x_mf, z_mf, logp_mf, x_traj, z_traj = pickle.load(open( \"../data/results/lorenz3.pickle\", \"rb\"))\n"
   ]
  },
  {
   "cell_type": "markdown",
   "metadata": {},
   "source": [
    "## Scatter plots"
   ]
  },
  {
   "cell_type": "code",
   "execution_count": 6,
   "metadata": {},
   "outputs": [],
   "source": [
    "logp_cutoff = -15.\n",
    "\n",
    "cmin, cmax = -7., -2.\n",
    "x_boundary = 3.\n",
    "\n",
    "def cmap(vals):\n",
    "    return ps.CMAP(np.clip((vals - cmin) / (cmax - cmin), 0., 1.))\n",
    "\n",
    "if logp_cutoff is None:\n",
    "    x_ = x_mf\n",
    "    colors_ = cmap(logp_mf)\n",
    "else:\n",
    "    x_ = x_mf[logp_mf > logp_cutoff]\n",
    "    colors_ = cmap(logp_mf[logp_mf > logp_cutoff])\n"
   ]
  },
  {
   "cell_type": "code",
   "execution_count": 8,
   "metadata": {},
   "outputs": [],
   "source": [
    "# Strongly based on https://discourse.matplotlib.org/t/trisurf-plots-with-independent-color-data/19033/2\n",
    "\n",
    "plt.close(\"all\")\n",
    "fig = plt.figure(figsize=(6,6))\n",
    "ax = fig.gca(projection='3d')\n",
    "    \n",
    "ax.scatter(x_[:, 0], x_[:, 1], x_[:,2], c=colors_, s=2)\n",
    "\n",
    "ax.set_xlim3d(-x_boundary, x_boundary)\n",
    "ax.set_ylim3d(-x_boundary, x_boundary)\n",
    "ax.set_zlim3d(-x_boundary, x_boundary)\n",
    "\n",
    "ax.set_xlabel(\"$x_0$\")\n",
    "ax.set_ylabel(\"$x_1$\")\n",
    "ax.set_zlabel(\"$x_2$\")\n",
    "\n",
    "# ax.set_xticklabels([\"\"]*3)\n",
    "# ax.set_yticklabels([\"\"]*3)\n",
    "# ax.set_zticklabels([\"\"]*3)\n",
    "\n",
    "ax.view_init(elev=20, azim=-70)  # Good view\n",
    "plt.tight_layout()\n",
    "plt.savefig(\"../figures/lorenz_likelihood_3d_scatter_front.png\")\n",
    "\n",
    "ax.view_init(elev=20, azim=80)  # Another good view\n",
    "plt.tight_layout()\n",
    "plt.savefig(\"../figures/lorenz_likelihood_3d_scatter_half.png\")\n",
    "\n",
    "ax.view_init(elev=20, azim=-70+180)  # Back view\n",
    "plt.tight_layout()\n",
    "plt.savefig(\"../figures/lorenz_likelihood_3d_scatter_back.png\")\n",
    "\n",
    "ax.view_init(elev=20, azim=60)  # Great side view\n",
    "plt.tight_layout()\n",
    "plt.savefig(\"../figures/lorenz_likelihood_3d_scatter_side.png\")\n",
    "\n",
    "ax.view_init(elev=90, azim=-70)  # Top-down view of x-y plane\n",
    "plt.tight_layout()\n",
    "plt.savefig(\"../figures/lorenz_likelihood_3d_scatter_top.png\")\n",
    "\n",
    "for azim in [0, 45, 90, 135, 180, 225, 270, 295]:  # Rotate around z axis\n",
    "    ax.view_init(elev=0, azim=azim)\n",
    "    plt.tight_layout()\n",
    "    plt.savefig(f\"../figures/lorenz_likelihood_3d_scatter_{azim}.png\")\n",
    "\n"
   ]
  },
  {
   "cell_type": "markdown",
   "metadata": {},
   "source": [
    "## Triangulation"
   ]
  },
  {
   "cell_type": "code",
   "execution_count": 28,
   "metadata": {},
   "outputs": [
    {
     "data": {
      "text/plain": [
       "((66325,), (66325, 3, 3), (66325, 3, 2), (66325,))"
      ]
     },
     "execution_count": 28,
     "metadata": {},
     "output_type": "execute_result"
    }
   ],
   "source": [
    "x_tri = []\n",
    "logp_tri = []\n",
    "z_tri = []\n",
    "minlogp_tri = []\n",
    "circ_tri = []\n",
    "\n",
    "x_ = x_mf\n",
    "z_ = z_mf\n",
    "logp_ = logp_mf\n",
    "\n",
    "tri = Triangulation(z_[:,0], z_[:,1])\n",
    "\n",
    "for t in tri.triangles:\n",
    "    z_tri.append(\n",
    "        [\n",
    "            [z_[t[0], 0], z_[t[0], 1]],\n",
    "            [z_[t[1], 0], z_[t[1], 1]],\n",
    "            [z_[t[2], 0], z_[t[2], 1]]\n",
    "        ]\n",
    "    )\n",
    "    x_tri.append(\n",
    "        [\n",
    "            [x_[t[0], 0], x_[t[0], 1], x_[t[0], 2]],\n",
    "            [x_[t[1], 0], x_[t[1], 1], x_[t[1], 2]],\n",
    "            [x_[t[2], 0], x_[t[2], 1], x_[t[2], 2]]\n",
    "        ]\n",
    "    )\n",
    "    logp_tri.append((logp_[t[0]] + logp_[t[1]] + logp_[t[2]]) / 3.)\n",
    "    minlogp_tri.append(min(logp_[t[0]], logp_[t[1]], logp_[t[2]]))\n",
    "    circ_tri.append(triangle_circumference(x_[t[0]], x_[t[1]], x_[t[2]]))\n",
    "\n",
    "z_tri = np.array(z_tri)\n",
    "x_tri = np.array(x_tri)\n",
    "logp_tri = np.array(logp_tri)\n",
    "minlogp_tri = np.array(minlogp_tri)\n",
    "circ_tri = np.array(circ_tri)\n",
    "\n",
    "logp_tri.shape, x_tri.shape, z_tri.shape, circ_tri.shape\n"
   ]
  },
  {
   "cell_type": "markdown",
   "metadata": {},
   "source": [
    "## Preprocessing for plotting"
   ]
  },
  {
   "cell_type": "code",
   "execution_count": 41,
   "metadata": {},
   "outputs": [],
   "source": [
    "logp_cutoff = -15.\n",
    "circ_cutoff = 1\n",
    "\n",
    "cmin, cmax = -7., -2.\n",
    "x_boundary = 3.\n",
    "\n",
    "def cmap(vals):\n",
    "    return ps.CMAP(np.clip((vals - cmin) / (cmax - cmin), 0., 1.))\n",
    "\n",
    "if logp_cutoff is None:\n",
    "    x_tri_ = x_tri\n",
    "    colors_tri_ = cmap(logp_tri)\n",
    "    z_tri_ = z_tri\n",
    "    circ_tri_ = circ_tri\n",
    "else:\n",
    "    x_tri_ = x_tri[minlogp_tri > logp_cutoff]\n",
    "    colors_tri_ = cmap(logp_tri[minlogp_tri > logp_cutoff])\n",
    "    z_tri_ = z_tri[minlogp_tri > logp_cutoff]\n",
    "    circ_tri_ = circ_tri[minlogp_tri > logp_cutoff]\n",
    "\n",
    "if circ_cutoff is not None:\n",
    "    x_tri_ = x_tri_[circ_tri_ < circ_cutoff]\n",
    "    colors_tri_ = colors_tri_[circ_tri_ < circ_cutoff]\n",
    "    z_tri_ = z_tri_[circ_tri_ < circ_cutoff]\n"
   ]
  },
  {
   "cell_type": "markdown",
   "metadata": {},
   "source": [
    "## 2D plot"
   ]
  },
  {
   "cell_type": "code",
   "execution_count": 42,
   "metadata": {},
   "outputs": [],
   "source": [
    "fig = plt.figure(figsize=(6,6))\n",
    "ax = plt.gca()\n",
    "\n",
    "coll = PolyCollection(z_tri_, facecolors=colors_tri_, edgecolors=colors_tri_, lw=0.5, rasterized=True)\n",
    "ax.add_collection(coll)\n",
    "\n",
    "# ax.plot(z_traj[:, 0], z_traj[:, 1], c=\"black\", lw=0.5)\n",
    "\n",
    "plt.xlabel(\"$u_1$\")\n",
    "plt.ylabel(\"$u_2$\")\n",
    "\n",
    "plt.xlim(-3, 3)\n",
    "plt.ylim(-3, 3)\n",
    "\n",
    "plt.tight_layout()\n",
    "plt.savefig(\"../figures/lorenz_latent_likelihood.pdf\")\n"
   ]
  },
  {
   "cell_type": "code",
   "execution_count": 43,
   "metadata": {},
   "outputs": [],
   "source": [
    "def xcmap(vals):\n",
    "    return ps.CMAP(np.clip((vals - (-3)) / (3 - (-3)), 0., 1.))\n",
    "\n",
    "plt.close(\"all\")\n",
    "fig = plt.figure(figsize=(12,4))\n",
    "\n",
    "for i in range(3):\n",
    "    ax = plt.subplot(1,3,i+1)\n",
    "    colors = xcmap(np.mean(x_tri_[:,:,i], axis=1))\n",
    "    coll = PolyCollection(z_tri_, facecolors=colors, edgecolors=colors, lw=0.5, rasterized=True)\n",
    "    ax.add_collection(coll)\n",
    "    plt.xlabel(\"$u_1$\")\n",
    "    plt.ylabel(\"$u_2$\")\n",
    "    plt.xlim(-3, 3)\n",
    "    plt.ylim(-3, 3)\n",
    "    plt.title(f\"$x_{i+1}$\", fontsize=11)\n",
    "\n",
    "plt.tight_layout()\n",
    "plt.savefig(\"../figures/lorenz_latent_x.pdf\")\n"
   ]
  },
  {
   "cell_type": "markdown",
   "metadata": {},
   "source": [
    "## 3D plot"
   ]
  },
  {
   "cell_type": "code",
   "execution_count": 45,
   "metadata": {},
   "outputs": [],
   "source": [
    "# Strongly based on https://discourse.matplotlib.org/t/trisurf-plots-with-independent-color-data/19033/2\n",
    "\n",
    "plt.close(\"all\")\n",
    "fig = plt.figure(figsize=(6,6))\n",
    "ax = fig.gca(projection='3d')\n",
    "    \n",
    "coll = Poly3DCollection(x_tri_, facecolors=colors_tri_, edgecolors=colors_tri_, lw=0.5)\n",
    "ax.add_collection(coll)\n",
    "\n",
    "ax.set_xlim3d(-x_boundary, x_boundary)\n",
    "ax.set_ylim3d(-x_boundary, x_boundary)\n",
    "ax.set_zlim3d(-x_boundary, x_boundary)\n",
    "\n",
    "ax.set_xlabel(\"$x_0$\")\n",
    "ax.set_ylabel(\"$x_1$\")\n",
    "ax.set_zlabel(\"$x_2$\")\n",
    "\n",
    "# ax.set_xticklabels([\"\"]*3)\n",
    "# ax.set_yticklabels([\"\"]*3)\n",
    "# ax.set_zticklabels([\"\"]*3)\n",
    "\n",
    "ax.view_init(elev=20, azim=-70)  # Good view\n",
    "plt.tight_layout()\n",
    "plt.savefig(\"../figures/lorenz_likelihood_3d_front.png\")\n",
    "\n",
    "ax.view_init(elev=20, azim=80)  # Another good view\n",
    "plt.tight_layout()\n",
    "plt.savefig(\"../figures/lorenz_likelihood_3d_half.png\")\n",
    "\n",
    "ax.view_init(elev=20, azim=-70+180)  # Back view\n",
    "plt.tight_layout()\n",
    "plt.savefig(\"../figures/lorenz_likelihood_3d_back.png\")\n",
    "\n",
    "ax.view_init(elev=20, azim=60)  # Great side view\n",
    "plt.tight_layout()\n",
    "plt.savefig(\"../figures/lorenz_likelihood_3d_side.png\")\n",
    "\n",
    "ax.view_init(elev=90, azim=-70)  # Top-down view of x-y plane\n",
    "plt.tight_layout()\n",
    "plt.savefig(\"../figures/lorenz_likelihood_3d_top.png\")\n",
    "\n",
    "for azim in [0, 45, 90, 135, 180, 225, 270, 295]:  # Rotate around z axis\n",
    "    ax.view_init(elev=0, azim=azim)\n",
    "    plt.tight_layout()\n",
    "    plt.savefig(f\"../figures/lorenz_likelihood_3d_{azim}.png\")\n"
   ]
  },
  {
   "cell_type": "code",
   "execution_count": null,
   "metadata": {},
   "outputs": [],
   "source": []
  }
 ],
 "metadata": {
  "kernelspec": {
   "display_name": "Python (ML)",
   "language": "python",
   "name": "ml"
  },
  "language_info": {
   "codemirror_mode": {
    "name": "ipython",
    "version": 3
   },
   "file_extension": ".py",
   "mimetype": "text/x-python",
   "name": "python",
   "nbconvert_exporter": "python",
   "pygments_lexer": "ipython3",
   "version": "3.7.3"
  }
 },
 "nbformat": 4,
 "nbformat_minor": 4
}
