{
 "cells": [
  {
   "cell_type": "code",
   "execution_count": 1,
   "metadata": {},
   "outputs": [],
   "source": [
    "import numpy as np\n",
    "import logging\n",
    "import sys\n",
    "from matplotlib import pyplot as plt\n",
    "\n",
    "%matplotlib inline\n",
    "sys.path.append(\"../\")\n",
    "\n",
    "import torch\n",
    "from torchvision.datasets import MNIST\n",
    "from torchvision import transforms\n",
    "\n",
    "from aef.models.autoencoder import LinearAutoencoder, ConvolutionalAutoencoder, DenseAutoencoder\n",
    "from aef.trainer import AutoencoderTrainer\n",
    "from aef.losses import nll, mse\n",
    "\n",
    "logging.basicConfig(\n",
    "    format=\"%(asctime)-5.5s %(name)-20.20s %(levelname)-7.7s %(message)s\",\n",
    "    datefmt=\"%H:%M\",\n",
    "    level=logging.INFO,\n",
    ")\n",
    "\n"
   ]
  },
  {
   "cell_type": "markdown",
   "metadata": {},
   "source": [
    "## Data"
   ]
  },
  {
   "cell_type": "code",
   "execution_count": 2,
   "metadata": {},
   "outputs": [],
   "source": [
    "img_transform = transforms.Compose([\n",
    "    transforms.ToTensor(),\n",
    "    transforms.Normalize((0.5,), (0.5,))\n",
    "])\n",
    "mnist = MNIST('./data', download=True, transform=img_transform)"
   ]
  },
  {
   "cell_type": "markdown",
   "metadata": {},
   "source": [
    "## Train autoencoder"
   ]
  },
  {
   "cell_type": "code",
   "execution_count": 3,
   "metadata": {},
   "outputs": [],
   "source": [
    "ae = DenseAutoencoder(latent_dim=2)"
   ]
  },
  {
   "cell_type": "code",
   "execution_count": 4,
   "metadata": {},
   "outputs": [
    {
     "name": "stderr",
     "output_type": "stream",
     "text": [
      "11:05 aef.trainer          INFO    Epoch   1: train loss  0.30131 (MSE:  0.301)\n",
      "11:05 aef.trainer          INFO               val. loss   0.23708 (MSE:  0.237)\n",
      "11:05 aef.trainer          INFO    Epoch   2: train loss  0.22729 (MSE:  0.227)\n",
      "11:05 aef.trainer          INFO               val. loss   0.22144 (MSE:  0.221)\n",
      "11:05 aef.trainer          INFO    Epoch   3: train loss  0.21893 (MSE:  0.219)\n",
      "11:05 aef.trainer          INFO               val. loss   0.21773 (MSE:  0.218)\n",
      "11:06 aef.trainer          INFO    Epoch   4: train loss  0.21648 (MSE:  0.216)\n",
      "11:06 aef.trainer          INFO               val. loss   0.21633 (MSE:  0.216)\n",
      "11:06 aef.trainer          INFO    Epoch   5: train loss  0.21543 (MSE:  0.215)\n",
      "11:06 aef.trainer          INFO               val. loss   0.21552 (MSE:  0.216)\n",
      "11:06 aef.trainer          INFO    Epoch   6: train loss  0.21489 (MSE:  0.215)\n",
      "11:06 aef.trainer          INFO               val. loss   0.21503 (MSE:  0.215)\n",
      "11:07 aef.trainer          INFO    Epoch   7: train loss  0.21460 (MSE:  0.215)\n",
      "11:07 aef.trainer          INFO               val. loss   0.21488 (MSE:  0.215)\n",
      "11:07 aef.trainer          INFO    Epoch   8: train loss  0.21443 (MSE:  0.214)\n",
      "11:07 aef.trainer          INFO               val. loss   0.21483 (MSE:  0.215)\n",
      "11:07 aef.trainer          INFO    Epoch   9: train loss  0.21431 (MSE:  0.214)\n",
      "11:07 aef.trainer          INFO               val. loss   0.21476 (MSE:  0.215)\n",
      "11:08 aef.trainer          INFO    Epoch  10: train loss  0.21424 (MSE:  0.214)\n",
      "11:08 aef.trainer          INFO               val. loss   0.21468 (MSE:  0.215)\n",
      "11:08 aef.trainer          INFO    Early stopping did not improve performance\n"
     ]
    },
    {
     "data": {
      "text/plain": [
       "(array([0.30131253, 0.22728518, 0.21892699, 0.21647622, 0.21542842,\n",
       "        0.21488717, 0.21460149, 0.2144268 , 0.21430679, 0.21423635]),\n",
       " array([0.23708012, 0.22144431, 0.21772506, 0.21632947, 0.21552046,\n",
       "        0.2150287 , 0.21488312, 0.2148284 , 0.21475825, 0.21467779]))"
      ]
     },
     "execution_count": 4,
     "metadata": {},
     "output_type": "execute_result"
    }
   ],
   "source": [
    "trainer = AutoencoderTrainer(ae, output_filename=\"../figures/training/dense/dense_phase1\")\n",
    "trainer.train(\n",
    "    dataset=mnist,\n",
    "    loss_functions=[mse],\n",
    "    loss_labels=[\"MSE\"],\n",
    "    batch_size=256,\n",
    "    epochs=10,\n",
    "    verbose=\"all\",\n",
    "    initial_lr=1.e-3,\n",
    "    final_lr=1.e-5\n",
    ")"
   ]
  },
  {
   "cell_type": "code",
   "execution_count": 5,
   "metadata": {},
   "outputs": [
    {
     "ename": "NameError",
     "evalue": "name 'AutoencoderFlowTrainer' is not defined",
     "output_type": "error",
     "traceback": [
      "\u001b[0;31m---------------------------------------------------------------------------\u001b[0m",
      "\u001b[0;31mNameError\u001b[0m                                 Traceback (most recent call last)",
      "\u001b[0;32m<ipython-input-5-9c379fc75eb9>\u001b[0m in \u001b[0;36m<module>\u001b[0;34m\u001b[0m\n\u001b[0;32m----> 1\u001b[0;31m \u001b[0mtrainer\u001b[0m \u001b[0;34m=\u001b[0m \u001b[0mAutoencoderFlowTrainer\u001b[0m\u001b[0;34m(\u001b[0m\u001b[0mae\u001b[0m\u001b[0;34m,\u001b[0m \u001b[0moutput_filename\u001b[0m\u001b[0;34m=\u001b[0m\u001b[0;34m\"../figures/training/dense/dense_phase2\"\u001b[0m\u001b[0;34m)\u001b[0m\u001b[0;34m\u001b[0m\u001b[0;34m\u001b[0m\u001b[0m\n\u001b[0m\u001b[1;32m      2\u001b[0m trainer.train(\n\u001b[1;32m      3\u001b[0m     \u001b[0mdataset\u001b[0m\u001b[0;34m=\u001b[0m\u001b[0mmnist\u001b[0m\u001b[0;34m,\u001b[0m\u001b[0;34m\u001b[0m\u001b[0;34m\u001b[0m\u001b[0m\n\u001b[1;32m      4\u001b[0m     \u001b[0mloss_functions\u001b[0m\u001b[0;34m=\u001b[0m\u001b[0;34m[\u001b[0m\u001b[0mnll\u001b[0m\u001b[0;34m]\u001b[0m\u001b[0;34m,\u001b[0m\u001b[0;34m\u001b[0m\u001b[0;34m\u001b[0m\u001b[0m\n\u001b[1;32m      5\u001b[0m     \u001b[0mloss_labels\u001b[0m\u001b[0;34m=\u001b[0m\u001b[0;34m[\u001b[0m\u001b[0;34m\"NLL\"\u001b[0m\u001b[0;34m]\u001b[0m\u001b[0;34m,\u001b[0m\u001b[0;34m\u001b[0m\u001b[0;34m\u001b[0m\u001b[0m\n",
      "\u001b[0;31mNameError\u001b[0m: name 'AutoencoderFlowTrainer' is not defined"
     ]
    }
   ],
   "source": [
    "trainer = AutoencoderFlowTrainer(ae, output_filename=\"../figures/training/dense/dense_phase2\")\n",
    "trainer.train(\n",
    "    dataset=mnist,\n",
    "    loss_functions=[nll],\n",
    "    loss_labels=[\"NLL\"],\n",
    "    batch_size=256,\n",
    "    epochs=10,\n",
    "    verbose=\"all\",\n",
    "    initial_lr=1.e-3,\n",
    "    final_lr=1.e-5,\n",
    "    parameters=ae.flow.parameters()\n",
    ")"
   ]
  },
  {
   "cell_type": "markdown",
   "metadata": {},
   "source": [
    "## Visualize latent space"
   ]
  },
  {
   "cell_type": "code",
   "execution_count": null,
   "metadata": {},
   "outputs": [],
   "source": [
    "x = torch.cat([mnist[i][0].unsqueeze(0) for i in range(1000)], dim=0)\n",
    "y = np.asarray([mnist[i][1] for i in range(1000)])"
   ]
  },
  {
   "cell_type": "code",
   "execution_count": null,
   "metadata": {},
   "outputs": [],
   "source": [
    "h, u = ae.latent(x)\n",
    "x_out = ae.decoder(h)\n",
    "h = h.detach().numpy().reshape((-1,2))\n",
    "u = u.detach().numpy().reshape((-1,2))"
   ]
  },
  {
   "cell_type": "code",
   "execution_count": null,
   "metadata": {},
   "outputs": [],
   "source": [
    "fig = plt.figure(figsize=(10,5))\n",
    "\n",
    "ax = plt.subplot(1,2,1)\n",
    "for i in range(10):\n",
    "    plt.scatter(h[y==i][:,0], h[y==i][:,1], c=\"C{}\".format(i), s=20., label=\"{}\".format(i+1))\n",
    "plt.legend()\n",
    "    \n",
    "ax = plt.subplot(1,2,2)\n",
    "for i in range(10):\n",
    "    plt.scatter(u[y==i][:,0], u[y==i][:,1], c=\"C{}\".format(i), s=20., label=\"{}\".format(i+1))\n",
    "plt.legend()\n",
    "\n",
    "plt.tight_layout()\n",
    "plt.show()\n"
   ]
  },
  {
   "cell_type": "markdown",
   "metadata": {
    "collapsed": true
   },
   "source": [
    "## Visualize reconstruction"
   ]
  },
  {
   "cell_type": "code",
   "execution_count": null,
   "metadata": {},
   "outputs": [],
   "source": [
    "x = torch.cat([mnist[i][0].unsqueeze(0) for i in range(1000)], dim=0)\n",
    "y = np.asarray([mnist[i][1] for i in range(1000)])"
   ]
  },
  {
   "cell_type": "code",
   "execution_count": null,
   "metadata": {},
   "outputs": [],
   "source": [
    "h = ae.encoder(x)\n",
    "x_out = ae.decoder(h)\n",
    "h = h.detach().numpy()\n",
    "x_out = x_out.detach().numpy()"
   ]
  },
  {
   "cell_type": "code",
   "execution_count": null,
   "metadata": {},
   "outputs": [],
   "source": [
    "fig = plt.figure(figsize=(12,12))\n",
    "\n",
    "for i in range(18):\n",
    "    ax = plt.subplot(6, 6, 2*i + 1)\n",
    "    plt.imshow(x[i].reshape((28,28)))\n",
    "    ax = plt.subplot(6, 6, 2*i + 2)\n",
    "    plt.imshow(x_out[i].reshape((28,28)))\n",
    "        \n",
    "plt.tight_layout()\n",
    "plt.show()"
   ]
  },
  {
   "cell_type": "code",
   "execution_count": null,
   "metadata": {
    "collapsed": true
   },
   "outputs": [],
   "source": []
  }
 ],
 "metadata": {
  "kernelspec": {
   "display_name": "Python (ML)",
   "language": "python",
   "name": "ml"
  },
  "language_info": {
   "codemirror_mode": {
    "name": "ipython",
    "version": 3
   },
   "file_extension": ".py",
   "mimetype": "text/x-python",
   "name": "python",
   "nbconvert_exporter": "python",
   "pygments_lexer": "ipython3",
   "version": "3.6.8"
  }
 },
 "nbformat": 4,
 "nbformat_minor": 2
}
