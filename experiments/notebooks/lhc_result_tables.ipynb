{
 "cells": [
  {
   "cell_type": "markdown",
   "metadata": {},
   "source": [
    "# Particle physics results"
   ]
  },
  {
   "cell_type": "markdown",
   "metadata": {},
   "source": [
    "## Setup"
   ]
  },
  {
   "cell_type": "code",
   "execution_count": 1,
   "metadata": {},
   "outputs": [],
   "source": [
    "import sys\n",
    "import numpy as np\n",
    "from sklearn.metrics import roc_auc_score\n",
    "from sklearn.neighbors import KernelDensity\n",
    "from itertools import product\n"
   ]
  },
  {
   "cell_type": "markdown",
   "metadata": {},
   "source": [
    "## Load results"
   ]
  },
  {
   "cell_type": "code",
   "execution_count": 2,
   "metadata": {},
   "outputs": [],
   "source": [
    "n_runs = 10\n",
    "n_chains = 4\n",
    "n_trueparams = 3"
   ]
  },
  {
   "cell_type": "code",
   "execution_count": 14,
   "metadata": {},
   "outputs": [],
   "source": [
    "algo_filenames = []\n",
    "algo_additionals = []\n",
    "algo_labels = []\n",
    "algo_dividers = []\n",
    "algo_dims = []\n",
    "\n",
    "def add_algo(filename, add, label, dim=\"\"):\n",
    "    algo_filenames.append(filename)\n",
    "    algo_additionals.append(add)\n",
    "    algo_labels.append(label)\n",
    "    algo_dims.append(dim)\n",
    "    \n",
    "    \n",
    "def add_divider():\n",
    "    algo_dividers.append(len(algo_filenames))\n",
    "\n",
    "add_algo(\"flow\", \"_may\", \"AF\", \"40d\")\n",
    "add_algo(\"pie\", \"_conditionalmanifold_may\", \"PIE (conditional manifold)\", \"40d\")\n",
    "add_algo(\"pie\", \"_may\", \"PIE (unconditional manifold)\", \"40d\")\n",
    "add_algo(\"mf\", \"_sequential_may\", \"MFMF-M/D (sequential)\", \"40d\")\n",
    "add_algo(\"mf\", \"_alternate_may\", \"MFMF-M/D (alternating)\", \"40d\")\n",
    "add_algo(\"emf\", \"_sequential_may\", \"MFMFE-M/D (sequential)\", \"40d\")\n",
    "add_algo(\"emf\", \"_alternate_may\", \"MFMFE-M/D (alternating)\", \"40d\")\n",
    "\n",
    "add_divider()\n",
    "\n",
    "add_algo(\"flow\", \"_scandal_may\", \"AF-SCANDAL\", \"40d\")\n",
    "add_algo(\"pie\", \"_conditionalmanifold_scandal_may\", \"PIE-SCANDAL (conditional manifold)\", \"40d\")\n",
    "add_algo(\"pie\", \"_scandal_may\", \"PIE-SCANDAL (unconditional manifold)\", \"40d\")\n",
    "add_algo(\"mf\", \"_sequential_scandal_may\", \"MFMF-M/SCANDAL (sequential)\", \"40d\")\n",
    "add_algo(\"mf\", \"_alternate_scandal_may\", \"MFMF-M/SCANDAL (alternating)\", \"40d\")\n",
    "add_algo(\"emf\", \"_sequential_scandal_may\", \"MFMFE-M/SCANDAL (sequential)\", \"40d\")\n",
    "add_algo(\"emf\", \"_alternate_scandal_may\", \"MFMFE-M/SCANDAL (alternating)\", \"40d\")\n",
    "\n",
    "add_divider()\n",
    "\n",
    "add_algo(\"flow\", \"_may\", \"2D summaries (AF)\", \"2d\")\n",
    "add_algo(\"flow\", \"_scandal_may\", \"2D summaries (SCANDAL)\", \"2d\")\n",
    "add_algo(\"alices\", \"_may\", \"ALICES\")\n",
    "\n",
    "n_algos = len(algo_filenames)\n"
   ]
  },
  {
   "cell_type": "code",
   "execution_count": 15,
   "metadata": {},
   "outputs": [],
   "source": [
    "def load(name, shape, numpyfy=True, chains=1, result_dir=\"../data/results\"):\n",
    "    all_results = []\n",
    "    \n",
    "    for algo_filename, algo_add, algo_dim in zip(algo_filenames, algo_additionals, algo_dims):\n",
    "        algo_results = []\n",
    "            \n",
    "        for run in range(n_runs):\n",
    "            run_str = \"\" if run == 0 else \"_run{}\".format(run)\n",
    "            \n",
    "            for trueparam in range(n_trueparams):\n",
    "                trueparam_str = \"\" if trueparam == 0 else \"_trueparam{}\".format(trueparam)\n",
    "\n",
    "                try:\n",
    "                    this_result = np.load(\n",
    "                        \"{}/{}_{}_lhc{}{}{}_{}{}.npy\".format(\n",
    "                            result_dir, algo_filename, \"2\" if algo_dim == \"2d\" else \"14\",\n",
    "                            algo_dim, algo_add, run_str, name, trueparam_str\n",
    "                        )\n",
    "                    )\n",
    "                    if (not numpyfy) or (shape is None) or np.product(this_result.shape) == np.product(shape):\n",
    "                        algo_results.append(this_result.reshape(shape))\n",
    "                    else:\n",
    "                        algo_results.append(np.nan*np.ones(shape))\n",
    "\n",
    "                except FileNotFoundError as e:\n",
    "                    # print(e)\n",
    "                    if shape is None:\n",
    "                        algo_results.append(None)\n",
    "                    else:\n",
    "                        algo_results.append(np.nan*np.ones(shape))\n",
    "            \n",
    "        all_results.append(algo_results)\n",
    "    \n",
    "    if numpyfy:\n",
    "        all_results = np.array(all_results, dtype=np.float)\n",
    "        all_results = all_results.reshape([all_results.shape[0], n_runs, n_trueparams] + list(shape))\n",
    "        \n",
    "    return all_results\n",
    "\n",
    "\n",
    "model_gen_x = load(\"samples\", None, numpyfy=False)\n",
    "model_gen_closure = load(\"samples_manifold_distance\", (10000,))\n",
    "\n"
   ]
  },
  {
   "cell_type": "code",
   "execution_count": 16,
   "metadata": {},
   "outputs": [
    {
     "data": {
      "text/plain": [
       "(17, 10, 3, 4, 750, 2)"
      ]
     },
     "execution_count": 16,
     "metadata": {},
     "output_type": "execute_result"
    }
   ],
   "source": [
    "def load_mcmc(name, shape, numpyfy=True, result_dir=\"../data/results\"):\n",
    "    all_results = []\n",
    "    \n",
    "    for algo_filename, algo_add, algo_dim in zip(algo_filenames, algo_additionals, algo_dims):\n",
    "        algo_results = []\n",
    "            \n",
    "        for run in range(n_runs):\n",
    "            run_str = \"\" if run == 0 else \"_run{}\".format(run)\n",
    "            \n",
    "            for trueparam in range(n_trueparams):\n",
    "                trueparam_str = \"\" if trueparam == 0 else \"_trueparam{}\".format(trueparam)\n",
    "            \n",
    "                for chain in range(n_chains):\n",
    "                    chain_str = \"\" if chain == 0 else \"_chain{}\".format(chain)\n",
    "\n",
    "                    try:\n",
    "                        this_result = np.load(\n",
    "                            \"{}/{}_{}_lhc{}{}{}_{}{}{}.npy\".format(\n",
    "                                result_dir, algo_filename, \"2\" if algo_dim == \"2d\" else \"14\",\n",
    "                                algo_dim, algo_add, run_str, name, trueparam_str, chain_str\n",
    "                            )\n",
    "                        )\n",
    "                        if (not numpyfy) or (shape is None) or np.product(this_result.shape) == np.product(shape):\n",
    "                            algo_results.append(this_result.reshape(shape))\n",
    "                        else:\n",
    "                            algo_results.append(np.nan*np.ones(shape))\n",
    "\n",
    "                    except FileNotFoundError as e:\n",
    "                        # print(e)\n",
    "                        if shape is None:\n",
    "                            algo_results.append(None)\n",
    "                        else:\n",
    "                            algo_results.append(np.nan*np.ones(shape))\n",
    "            \n",
    "        all_results.append(algo_results)\n",
    "    \n",
    "    all_results = np.array(all_results, dtype=np.float)\n",
    "    all_results = all_results.reshape([all_results.shape[0], n_runs, n_trueparams, n_chains] + list(shape))\n",
    "        \n",
    "    return all_results\n",
    "\n",
    "\n",
    "model_posterior_samples = load_mcmc(\"posterior_samples\", (750, 2,))\n",
    "model_posterior_samples.shape  # (algo, run, true param id, chain, sample, theta component)\n"
   ]
  },
  {
   "cell_type": "markdown",
   "metadata": {},
   "source": [
    "## Calculate metrics"
   ]
  },
  {
   "cell_type": "code",
   "execution_count": 17,
   "metadata": {},
   "outputs": [
    {
     "data": {
      "text/plain": [
       "(17, 10)"
      ]
     },
     "execution_count": 17,
     "metadata": {},
     "output_type": "execute_result"
    }
   ],
   "source": [
    "min_logp = -100.\n",
    "model_gen_mean_closure = np.mean(model_gen_closure, axis=(2,3))\n",
    "model_gen_mean_closure.shape\n"
   ]
  },
  {
   "cell_type": "code",
   "execution_count": 18,
   "metadata": {},
   "outputs": [
    {
     "data": {
      "text/plain": [
       "(17, 10)"
      ]
     },
     "execution_count": 18,
     "metadata": {},
     "output_type": "execute_result"
    }
   ],
   "source": [
    "bandwidth = 0.1\n",
    "true_param_points = np.array([[0.,0.], [0.5, 0.], [-1., -1.]])\n",
    "\n",
    "model_true_log_posteriors = []\n",
    "\n",
    "for algo, run, trueparam in product(range(n_algos), range(n_runs), range(n_trueparams)):\n",
    "    mcmcs = model_posterior_samples[algo, run, trueparam].reshape((-1, 2))\n",
    "    mcmcs = mcmcs[np.all(np.isfinite(mcmcs), axis=-1)]\n",
    "    \n",
    "    if len(mcmcs) == 0:\n",
    "        model_true_log_posteriors.append(np.nan)\n",
    "        continue\n",
    "        \n",
    "    kde = KernelDensity(kernel=\"gaussian\", bandwidth=bandwidth)\n",
    "    kde.fit(mcmcs)\n",
    "    model_true_log_posteriors.append(kde.score(true_param_points[trueparam].reshape((1, 2))))\n",
    "\n",
    "model_true_log_posteriors = np.mean(np.array(model_true_log_posteriors).reshape((n_algos, n_runs, n_trueparams)), axis=-1)\n",
    "model_true_log_posteriors.shape\n"
   ]
  },
  {
   "cell_type": "markdown",
   "metadata": {},
   "source": [
    "## Outlier removal"
   ]
  },
  {
   "cell_type": "code",
   "execution_count": 19,
   "metadata": {},
   "outputs": [
    {
     "name": "stdout",
     "output_type": "stream",
     "text": [
      "[-14.82486563  -4.52275264 -10.19093009  -2.53592674  -2.33303727\n",
      " -14.76304872  -1.88213227  -2.68034498 -40.25120166 -43.30690621]\n",
      "[]\n",
      "[ -2.24110031 -17.85794527  -1.01861077  -1.46823725  -0.65175892\n",
      "  -5.36812132  -1.58775059  -1.2288322   -2.25506705  -1.64728059]\n",
      "[-2.16202101 -2.37498722 -1.18569417 -3.07452503 -1.30295209 -2.95724486\n",
      " -1.84078884 -3.18184704 -1.77053317 -4.79860184]\n",
      "[-1.9146434  -2.50330305 -1.40244514 -2.30897597 -2.09041243 -2.10304909\n",
      " -2.33426144 -1.6369627  -2.46093558 -1.96940002]\n",
      "[-2.29384509 -2.51023905 -2.50112291 -2.25225944 -6.60091795 -5.48628632\n",
      " -0.87997906 -2.01979283 -1.15689937 -2.35705979]\n",
      "[-1.70915098 -1.92311406 -1.9780074  -5.59040486 -1.94534863 -3.14892095\n",
      " -1.96835788 -4.50457473 -1.89568776 -2.01129295]\n",
      "[-0.00198507 -0.03823265  0.23025201 -0.00114512]\n",
      "[]\n",
      "[ 0.50301821  0.3043977  -0.93118446  0.50915962]\n",
      "[ 0.1295876   0.36147325 -0.14480063 -0.26317358 -0.84098886]\n",
      "[]\n",
      "[ 0.62945544 -0.08982008  0.31441028]\n",
      "[ 0.27421211 -0.10140903]\n",
      "[-0.72383999 -0.14412345  0.09873333 -0.31369002 -0.16578144 -0.36754449\n",
      " -0.7464934  -0.56202197 -0.33507267 -0.61607566]\n",
      "[-0.32005818 -0.16111404 -0.26819934 -0.29824535]\n",
      "[ 0.5679222  -0.01298821  0.0298561   0.3729168   0.30391634  0.5214819\n",
      "  0.02976234  0.08387303  0.133758   -0.0097617 ]\n",
      "[0.00911559 0.02235744 0.0128739  0.00932674 0.01879994 0.01549083\n",
      " 0.0100853  0.02468962 0.0100379  0.01450474]\n",
      "[]\n",
      "[0.0459091  0.01534808 0.04239954 0.02415888 0.05594371 0.00891532\n",
      " 0.01684386 0.06402395 0.10188039 0.02347174]\n",
      "[0.0720615  0.00909631 0.01638407 0.02921889 0.01822981 0.2109303\n",
      " 0.09399365 0.09050128 0.02433755 0.02871664]\n",
      "[0.17063388 0.09213798 0.12678791 0.2319814  0.1249866  0.04351483\n",
      " 0.22914967 0.16255366 0.14829118 0.18996205]\n",
      "[0.08326734 0.12702492 0.04557646 0.07065321 0.03133715 0.10142807\n",
      " 0.02155703 0.07444655 0.01371095 0.01849917]\n",
      "[0.0602976  0.01227903 0.03977581 0.0281893  0.10031122 0.01589356\n",
      " 0.09805794 0.07453815 0.1054522  0.03121967]\n",
      "[0.06975029 0.07352368 0.09048701 0.06295837]\n",
      "[]\n",
      "[0.14884296 0.17058242 0.26038534 0.09981471]\n",
      "[0.15213637 0.12614141 0.16720729 0.15242007 0.14508799]\n",
      "[]\n",
      "[0.16131975 0.2065881  0.21505845]\n",
      "[0.18248422 0.22887711]\n",
      "[]\n",
      "[]\n",
      "[]\n"
     ]
    }
   ],
   "source": [
    "def mean_err_without_outliers(data, remove=1):\n",
    "    shape = list(data.shape)[:-1]\n",
    "    data.reshape((-1, data.shape[-1]))\n",
    "    \n",
    "    means, errors = [], []\n",
    "    \n",
    "    for data_ in data:\n",
    "        data_ = data_[np.isfinite(data_)]\n",
    "        print(data_)\n",
    "        if not len(data_) > 0:\n",
    "            means.append(np.nan)\n",
    "            errors.append(np.nan)\n",
    "            continue\n",
    "            \n",
    "        if len(data_) > 2*remove + 1:\n",
    "            for _ in range(remove):\n",
    "                data_ = np.delete(data_, np.argmin(data_))\n",
    "                data_ = np.delete(data_, np.argmax(data_))\n",
    "\n",
    "        means.append(np.mean(data_))\n",
    "        errors.append(np.std(data_) / len(data_)**0.5)\n",
    "        \n",
    "    return np.array(means).reshape(shape), np.array(errors).reshape(shape)\n",
    "    \n",
    "    \n",
    "model_true_log_posteriors_mean, model_true_log_posteriors_std = mean_err_without_outliers(\n",
    "    model_true_log_posteriors\n",
    ")\n",
    "model_gen_mean_closure_mean, model_gen_mean_closure_std = mean_err_without_outliers(model_gen_mean_closure)\n"
   ]
  },
  {
   "cell_type": "markdown",
   "metadata": {},
   "source": [
    "## Best metrics"
   ]
  },
  {
   "cell_type": "code",
   "execution_count": 20,
   "metadata": {},
   "outputs": [
    {
     "name": "stdout",
     "output_type": "stream",
     "text": [
      "AF\n",
      "PIE-SCANDAL (unconditional manifold)\n"
     ]
    }
   ],
   "source": [
    "best_closure, best_posterior = -1, -1\n",
    "\n",
    "best_closure = np.nanargmin(model_gen_mean_closure_mean)\n",
    "print(algo_labels[best_closure])\n",
    "    \n",
    "best_posterior = np.nanargmax(model_true_log_posteriors_mean)\n",
    "print(algo_labels[best_posterior])\n"
   ]
  },
  {
   "cell_type": "markdown",
   "metadata": {},
   "source": [
    "## Print result table"
   ]
  },
  {
   "cell_type": "code",
   "execution_count": 21,
   "metadata": {},
   "outputs": [],
   "source": [
    "def print_results(\n",
    "    l_label=max([len(l) for l in algo_labels]), l_mean=6, l_err=5, latex=False, after_decs=(3,2)\n",
    "):\n",
    "    # Number of digits\n",
    "    l_result = l_mean + 2 + l_err\n",
    "    l_total = l_label + 1 + 2 * (3 + l_result)\n",
    "        \n",
    "    # Divider\n",
    "    empty_result = \"\" if latex else \" \"*(l_result + 1)\n",
    "    col_divider = \"&\" if latex else \"|\"\n",
    "    line_end = r\"\\\\\" if latex else \"\"\n",
    "    block_divider = r\"\\midrule\" if latex else \"-\"*l_total\n",
    "    \n",
    "    # Number formatting\n",
    "    def _f(val, err, after_dec, best=False):\n",
    "        if not np.any(np.isfinite(val)):\n",
    "            return empty_result\n",
    "        \n",
    "        result = \"{:>{}.{}f}\".format(val, l_mean, after_dec)\n",
    "        if latex and best:\n",
    "            result = r\"\\textbf{\" + result + \"}\"\n",
    "            \n",
    "        err_str = \"({:>{}.{}f})\".format(err, l_err, after_dec)\n",
    "        if latex:\n",
    "            result += r\"\\,\\textcolor{darkgray}{\" + err_str + \"}\"\n",
    "        else:\n",
    "            result += err_str\n",
    "            \n",
    "        result += \"*\" if not latex and best else \" \"\n",
    "        \n",
    "        if latex:\n",
    "            result = result.replace(\"-\", \"$-{}$\")\n",
    "            result = result.replace(\"darkgray\", \"dark-gray\")\n",
    "        return result\n",
    "    \n",
    "    \n",
    "    # Header\n",
    "    print(\n",
    "        \"{2:<{0}.{0}s} {5} {3:>{1}.{1}s} {5} {4:>{1}.{1}s} {6}\".format(\n",
    "            l_label, l_result, \"\", \"Closure\", \"log p\", col_divider, line_end\n",
    "        )\n",
    "    )\n",
    "    print(block_divider)\n",
    "\n",
    "    # Iterate over methods\n",
    "    for i, (label, closure, closure_err, posterior, posterior_err) in enumerate(zip(\n",
    "        algo_labels,\n",
    "        model_gen_mean_closure_mean,\n",
    "        model_gen_mean_closure_std,\n",
    "        model_true_log_posteriors_mean,\n",
    "        model_true_log_posteriors_std\n",
    "    )):\n",
    "        # Divider\n",
    "        if i in algo_dividers:\n",
    "            print(block_divider)\n",
    "            \n",
    "        # Print results\n",
    "        print(\n",
    "            \"{1:<{0}.{0}s} {4} {2}{4} {3} {5}\".format(\n",
    "                l_label, label,\n",
    "                _f(closure, closure_err, after_decs[0], i==best_closure),\n",
    "                _f(posterior, posterior_err, after_decs[1], i==best_posterior),\n",
    "                col_divider, line_end\n",
    "            )\n",
    "        )\n"
   ]
  },
  {
   "cell_type": "code",
   "execution_count": 22,
   "metadata": {},
   "outputs": [
    {
     "name": "stdout",
     "output_type": "stream",
     "text": [
      "                                     |       Closure |         log p \n",
      "---------------------------------------------------------------------\n",
      "AF                                   |  0.014(0.002)*| -11.51( 4.22)  \n",
      "PIE (conditional manifold)           |               |                \n",
      "PIE (unconditional manifold)         |  0.036(0.006) |  -2.10( 0.46)  \n",
      "MFMF-M/D (sequential)                |  0.047(0.011) |  -2.33( 0.23)  \n",
      "MFMF-M/D (alternating)               |  0.156(0.014) |  -2.10( 0.09)  \n",
      "MFMFE-M/D (sequential)               |  0.056(0.010) |  -2.57( 0.42)  \n",
      "MFMFE-M/D (alternating)              |  0.056(0.011) |  -2.42( 0.31)  \n",
      "---------------------------------------------------------------------\n",
      "AF-SCANDAL                           |  0.072(0.001) |  -0.00( 0.00)  \n",
      "PIE-SCANDAL (conditional manifold)   |               |                \n",
      "PIE-SCANDAL (unconditional manifold) |  0.160(0.008) |   0.40( 0.07)* \n",
      "MFMF-M/SCANDAL (sequential)          |  0.150(0.002) |  -0.09( 0.09)  \n",
      "MFMF-M/SCANDAL (alternating)         |               |                \n",
      "MFMFE-M/SCANDAL (sequential)         |  0.194(0.014) |   0.28( 0.17)  \n",
      "MFMFE-M/SCANDAL (alternating)        |  0.206(0.016) |   0.09( 0.13)  \n",
      "---------------------------------------------------------------------\n",
      "2D summaries (AF)                    |               |  -0.40( 0.07)  \n",
      "2D summaries (SCANDAL)               |               |  -0.28( 0.01)  \n",
      "ALICES                               |               |   0.18( 0.06)  \n"
     ]
    }
   ],
   "source": [
    "print_results()"
   ]
  },
  {
   "cell_type": "code",
   "execution_count": 23,
   "metadata": {},
   "outputs": [
    {
     "name": "stdout",
     "output_type": "stream",
     "text": [
      "                                     &       Closure &         log p \\\\\n",
      "\\midrule\n",
      "AF                                   & \\textbf{ 0.014}\\,\\textcolor{dark-gray}{(0.002)} & $-{}$11.51\\,\\textcolor{dark-gray}{( 4.22)}  \\\\\n",
      "PIE (conditional manifold)           & &  \\\\\n",
      "PIE (unconditional manifold)         &  0.036\\,\\textcolor{dark-gray}{(0.006)} &  $-{}$2.10\\,\\textcolor{dark-gray}{( 0.46)}  \\\\\n",
      "MFMF-M/D (sequential)                &  0.047\\,\\textcolor{dark-gray}{(0.011)} &  $-{}$2.33\\,\\textcolor{dark-gray}{( 0.23)}  \\\\\n",
      "MFMF-M/D (alternating)               &  0.156\\,\\textcolor{dark-gray}{(0.014)} &  $-{}$2.10\\,\\textcolor{dark-gray}{( 0.09)}  \\\\\n",
      "MFMFE-M/D (sequential)               &  0.056\\,\\textcolor{dark-gray}{(0.010)} &  $-{}$2.57\\,\\textcolor{dark-gray}{( 0.42)}  \\\\\n",
      "MFMFE-M/D (alternating)              &  0.056\\,\\textcolor{dark-gray}{(0.011)} &  $-{}$2.42\\,\\textcolor{dark-gray}{( 0.31)}  \\\\\n",
      "\\midrule\n",
      "AF-SCANDAL                           &  0.072\\,\\textcolor{dark-gray}{(0.001)} &  $-{}$0.00\\,\\textcolor{dark-gray}{( 0.00)}  \\\\\n",
      "PIE-SCANDAL (conditional manifold)   & &  \\\\\n",
      "PIE-SCANDAL (unconditional manifold) &  0.160\\,\\textcolor{dark-gray}{(0.008)} & \\textbf{  0.40}\\,\\textcolor{dark-gray}{( 0.07)}  \\\\\n",
      "MFMF-M/SCANDAL (sequential)          &  0.150\\,\\textcolor{dark-gray}{(0.002)} &  $-{}$0.09\\,\\textcolor{dark-gray}{( 0.09)}  \\\\\n",
      "MFMF-M/SCANDAL (alternating)         & &  \\\\\n",
      "MFMFE-M/SCANDAL (sequential)         &  0.194\\,\\textcolor{dark-gray}{(0.014)} &   0.28\\,\\textcolor{dark-gray}{( 0.17)}  \\\\\n",
      "MFMFE-M/SCANDAL (alternating)        &  0.206\\,\\textcolor{dark-gray}{(0.016)} &   0.09\\,\\textcolor{dark-gray}{( 0.13)}  \\\\\n",
      "\\midrule\n",
      "2D summaries (AF)                    & &  $-{}$0.40\\,\\textcolor{dark-gray}{( 0.07)}  \\\\\n",
      "2D summaries (SCANDAL)               & &  $-{}$0.28\\,\\textcolor{dark-gray}{( 0.01)}  \\\\\n",
      "ALICES                               & &   0.18\\,\\textcolor{dark-gray}{( 0.06)}  \\\\\n"
     ]
    }
   ],
   "source": [
    "print_results(latex=True)"
   ]
  },
  {
   "cell_type": "markdown",
   "metadata": {},
   "source": [
    "## Individual run results"
   ]
  },
  {
   "cell_type": "code",
   "execution_count": 25,
   "metadata": {},
   "outputs": [
    {
     "name": "stdout",
     "output_type": "stream",
     "text": [
      "                                     |                                                                           Closure \n",
      "-------------------------------------------------------------------------------------------------------------------------\n",
      "AF                                   |  [  0.01,   0.02,   0.01,   0.01,   0.02,   0.02,   0.01,   0.02,   0.01,   0.01]* \n",
      "PIE (conditional manifold)           |                                                                                    \n",
      "PIE (unconditional manifold)         |  [  0.05,   0.02,   0.04,   0.02,   0.06,   0.01,   0.02,   0.06,   0.10,   0.02]  \n",
      "MFMF-M/D (sequential)                |  [  0.07,   0.01,   0.02,   0.03,   0.02,   0.21,   0.09,   0.09,   0.02,   0.03]  \n",
      "MFMF-M/D (alternating)               |  [  0.17,   0.09,   0.13,   0.23,   0.12,   0.04,   0.23,   0.16,   0.15,   0.19]  \n",
      "MFMFE-M/D (sequential)               |  [  0.08,   0.13,   0.05,   0.07,   0.03,   0.10,   0.02,   0.07,   0.01,   0.02]  \n",
      "MFMFE-M/D (alternating)              |  [  0.06,   0.01,   0.04,   0.03,   0.10,   0.02,   0.10,   0.07,   0.11,   0.03]  \n",
      "-------------------------------------------------------------------------------------------------------------------------\n",
      "AF-SCANDAL                           |  [  0.07,   0.07,   0.09,   0.06,       ,       ,       ,       ,       ,       ]  \n",
      "PIE-SCANDAL (conditional manifold)   |                                                                                    \n",
      "PIE-SCANDAL (unconditional manifold) |  [  0.15,   0.17,   0.26,   0.10,       ,       ,       ,       ,       ,       ]  \n",
      "MFMF-M/SCANDAL (sequential)          |  [  0.15,   0.13,   0.17,   0.15,   0.15,       ,       ,       ,       ,       ]  \n",
      "MFMF-M/SCANDAL (alternating)         |                                                                                    \n",
      "MFMFE-M/SCANDAL (sequential)         |  [  0.16,   0.21,   0.22,       ,       ,       ,       ,       ,       ,       ]  \n",
      "MFMFE-M/SCANDAL (alternating)        |  [      ,   0.18,       ,   0.23,       ,       ,       ,       ,       ,       ]  \n",
      "-------------------------------------------------------------------------------------------------------------------------\n",
      "2D summaries (AF)                    |                                                                                    \n",
      "2D summaries (SCANDAL)               |                                                                                    \n",
      "ALICES                               |                                                                                    \n",
      "\n",
      "                                     |                                                                     Log posterior \n",
      "-------------------------------------------------------------------------------------------------------------------------\n",
      "AF                                   |  [-14.82,  -4.52, -10.19,  -2.54,  -2.33, -14.76,  -1.88,  -2.68, -40.25, -43.31]  \n",
      "PIE (conditional manifold)           |                                                                                    \n",
      "PIE (unconditional manifold)         |  [ -2.24, -17.86,  -1.02,  -1.47,  -0.65,  -5.37,  -1.59,  -1.23,  -2.26,  -1.65]  \n",
      "MFMF-M/D (sequential)                |  [ -2.16,  -2.37,  -1.19,  -3.07,  -1.30,  -2.96,  -1.84,  -3.18,  -1.77,  -4.80]  \n",
      "MFMF-M/D (alternating)               |  [ -1.91,  -2.50,  -1.40,  -2.31,  -2.09,  -2.10,  -2.33,  -1.64,  -2.46,  -1.97]  \n",
      "MFMFE-M/D (sequential)               |  [ -2.29,  -2.51,  -2.50,  -2.25,  -6.60,  -5.49,  -0.88,  -2.02,  -1.16,  -2.36]  \n",
      "MFMFE-M/D (alternating)              |  [ -1.71,  -1.92,  -1.98,  -5.59,  -1.95,  -3.15,  -1.97,  -4.50,  -1.90,  -2.01]  \n",
      "-------------------------------------------------------------------------------------------------------------------------\n",
      "AF-SCANDAL                           |  [ -0.00,  -0.04,   0.23,  -0.00,       ,       ,       ,       ,       ,       ]  \n",
      "PIE-SCANDAL (conditional manifold)   |                                                                                    \n",
      "PIE-SCANDAL (unconditional manifold) |  [  0.50,   0.30,  -0.93,   0.51,       ,       ,       ,       ,       ,       ]* \n",
      "MFMF-M/SCANDAL (sequential)          |  [  0.13,   0.36,  -0.14,  -0.26,  -0.84,       ,       ,       ,       ,       ]  \n",
      "MFMF-M/SCANDAL (alternating)         |                                                                                    \n",
      "MFMFE-M/SCANDAL (sequential)         |  [  0.63,  -0.09,   0.31,       ,       ,       ,       ,       ,       ,       ]  \n",
      "MFMFE-M/SCANDAL (alternating)        |  [      ,   0.27,       ,  -0.10,       ,       ,       ,       ,       ,       ]  \n",
      "-------------------------------------------------------------------------------------------------------------------------\n",
      "2D summaries (AF)                    |  [ -0.72,  -0.14,   0.10,  -0.31,  -0.17,  -0.37,  -0.75,  -0.56,  -0.34,  -0.62]  \n",
      "2D summaries (SCANDAL)               |  [ -0.32,  -0.16,  -0.27,  -0.30,       ,       ,       ,       ,       ,       ]  \n",
      "ALICES                               |  [  0.57,  -0.01,   0.03,   0.37,   0.30,   0.52,   0.03,   0.08,   0.13,  -0.01]  \n"
     ]
    },
    {
     "name": "stderr",
     "output_type": "stream",
     "text": [
      "/Users/johannbrehmer/anaconda3/envs/ml/lib/python3.6/site-packages/ipykernel_launcher.py:20: RuntimeWarning: Mean of empty slice\n",
      "/Users/johannbrehmer/anaconda3/envs/ml/lib/python3.6/site-packages/ipykernel_launcher.py:21: RuntimeWarning: Mean of empty slice\n",
      "/Users/johannbrehmer/anaconda3/envs/ml/lib/python3.6/site-packages/ipykernel_launcher.py:18: RuntimeWarning: Mean of empty slice\n"
     ]
    }
   ],
   "source": [
    "l_label=max([len(l) for l in algo_labels])\n",
    "l_mean=6\n",
    "after_decs=2\n",
    "\n",
    "# How to format the numbers\n",
    "l_result = 3 + n_runs*l_mean + (n_runs - 1)*2\n",
    "l_total = l_label + 4 + l_result\n",
    "\n",
    "# Divider\n",
    "empty_result = \" \"*(l_result + 1)\n",
    "col_divider = \"|\"\n",
    "line_end = \"\"\n",
    "block_divider = \"-\"*l_total\n",
    "    \n",
    "def _f(val, after_dec, best=False):\n",
    "    if not np.any(np.isfinite(val)):\n",
    "        return empty_result\n",
    "    result = \" [{:>{}.{}f}, \".format(np.nanmean(val[0]), l_mean, after_dec)\n",
    "    for i in range(1, n_runs - 1):\n",
    "        result += \"{:>{}.{}f}, \".format(np.nanmean(val[i]), l_mean, after_dec)\n",
    "    result += \"{:>{}.{}f}]\".format(np.nanmean(val[-1]), l_mean, after_dec)\n",
    "    result = result.replace(\"nan\", \"   \")\n",
    "    result += \"*\" if best else \" \"\n",
    "    return result\n",
    "\n",
    "# Print closure results\n",
    "print(\n",
    "    \"{2:<{0}.{0}s} {4} {3:>{1}.{1}s} {5}\".format(\n",
    "        l_label, l_result, \"\", \"Closure\", col_divider, line_end\n",
    "    )\n",
    ")\n",
    "print(block_divider)\n",
    "\n",
    "for i, (label, closure) in enumerate(zip(algo_labels, model_gen_mean_closure)):\n",
    "    # Divider\n",
    "    if i in algo_dividers:\n",
    "        print(block_divider)\n",
    "            \n",
    "    # Print results\n",
    "    print(\"{1:<{0}.{0}s} {3} {2} {4}\".format(\n",
    "        l_label, label, _f(closure, after_decs, i==best_closure), col_divider, line_end\n",
    "    ))\n",
    "\n",
    "# Print posterior results\n",
    "print(\"\")\n",
    "print(\n",
    "    \"{2:<{0}.{0}s} {4} {3:>{1}.{1}s} {5}\".format(\n",
    "        l_label, l_result, \"\", \"Log posterior\", col_divider, line_end\n",
    "    )\n",
    ")\n",
    "print(block_divider)\n",
    "\n",
    "for i, (label, posterior) in enumerate(zip(algo_labels, model_true_log_posteriors)):\n",
    "    # Divider\n",
    "    if i in algo_dividers:\n",
    "        print(block_divider)\n",
    "            \n",
    "    # Print results\n",
    "    print(\"{1:<{0}.{0}s} {3} {2} {4}\".format(\n",
    "        l_label, label, _f(posterior, after_decs, i==best_posterior), col_divider, line_end\n",
    "    ))\n"
   ]
  },
  {
   "cell_type": "code",
   "execution_count": null,
   "metadata": {},
   "outputs": [],
   "source": []
  },
  {
   "cell_type": "code",
   "execution_count": null,
   "metadata": {},
   "outputs": [],
   "source": []
  },
  {
   "cell_type": "code",
   "execution_count": null,
   "metadata": {},
   "outputs": [],
   "source": []
  }
 ],
 "metadata": {
  "kernelspec": {
   "display_name": "Python (ML)",
   "language": "python",
   "name": "ml"
  },
  "language_info": {
   "codemirror_mode": {
    "name": "ipython",
    "version": 3
   },
   "file_extension": ".py",
   "mimetype": "text/x-python",
   "name": "python",
   "nbconvert_exporter": "python",
   "pygments_lexer": "ipython3",
   "version": "3.6.8"
  }
 },
 "nbformat": 4,
 "nbformat_minor": 4
}
