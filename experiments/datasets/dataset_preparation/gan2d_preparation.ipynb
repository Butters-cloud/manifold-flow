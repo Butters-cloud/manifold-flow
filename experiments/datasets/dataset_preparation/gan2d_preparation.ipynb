{
 "cells": [
  {
   "cell_type": "markdown",
   "metadata": {},
   "source": [
    "# GAN preprocessing"
   ]
  },
  {
   "cell_type": "code",
   "execution_count": null,
   "metadata": {},
   "outputs": [],
   "source": [
    "%matplotlib inline\n",
    "\n",
    "import numpy as np\n",
    "from matplotlib import pyplot as plt"
   ]
  },
  {
   "cell_type": "markdown",
   "metadata": {},
   "source": [
    "## Transform images to numpy arrays (only need to do this once)"
   ]
  },
  {
   "cell_type": "code",
   "execution_count": null,
   "metadata": {},
   "outputs": [],
   "source": [
    "def load_pngs(filename, range_):\n",
    "    imgs = np.array([plt.imread(f\"../data/samples/gan2d/{filename}.png\".format(i)).astype(np.float) for i in range_])\n",
    "    imgs = np.transpose(imgs, [0,3,1,2])  # Want (batch, c, h, w)\n",
    "    return imgs\n",
    "\n",
    "if transform:\n",
    "    np.save(\"../data/samples/gan2d/grid.npy\", load_pngs(\"grid/grid_64_{:04}\", range(81)))\n",
    "    np.save(\"../data/samples/gan2d/grid_highres.npy\", load_pngs(\"grid/grid_1024_{:04}\", range(81)))\n",
    "    np.save(\"../data/samples/gan2d/train.npy\", load_pngs(\"train_test/subspace_64_{:05}\", range(1, 10001)))\n",
    "    np.save(\"../data/samples/gan2d/train_highres.npy\", load_pngs(\"train_test/subspace_1024_{:05}\", range(1, 101)))\n",
    "    np.save(\"../data/samples/gan2d/test.npy\", load_pngs(\"train_test/subspace_64_{:05}\", range(10001, 11001)))\n"
   ]
  },
  {
   "cell_type": "code",
   "execution_count": null,
   "metadata": {},
   "outputs": [],
   "source": []
  }
 ],
 "metadata": {
  "kernelspec": {
   "display_name": "Python (ML)",
   "language": "python",
   "name": "ml"
  },
  "language_info": {
   "codemirror_mode": {
    "name": "ipython",
    "version": 3
   },
   "file_extension": ".py",
   "mimetype": "text/x-python",
   "name": "python",
   "nbconvert_exporter": "python",
   "pygments_lexer": "ipython3",
   "version": "3.7.3"
  }
 },
 "nbformat": 4,
 "nbformat_minor": 4
}
