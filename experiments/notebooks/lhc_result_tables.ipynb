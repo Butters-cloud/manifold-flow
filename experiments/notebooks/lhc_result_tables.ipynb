{
 "cells": [
  {
   "cell_type": "markdown",
   "metadata": {},
   "source": [
    "# Particle physics results"
   ]
  },
  {
   "cell_type": "markdown",
   "metadata": {},
   "source": [
    "## Setup"
   ]
  },
  {
   "cell_type": "code",
   "execution_count": 1,
   "metadata": {},
   "outputs": [],
   "source": [
    "import sys\n",
    "import numpy as np\n",
    "from sklearn.metrics import roc_auc_score\n",
    "from sklearn.neighbors import KernelDensity\n",
    "from itertools import product\n"
   ]
  },
  {
   "cell_type": "markdown",
   "metadata": {},
   "source": [
    "## Load results"
   ]
  },
  {
   "cell_type": "code",
   "execution_count": 2,
   "metadata": {},
   "outputs": [],
   "source": [
    "n_runs = 10\n",
    "n_chains = 4\n",
    "n_trueparams = 3"
   ]
  },
  {
   "cell_type": "code",
   "execution_count": 3,
   "metadata": {},
   "outputs": [],
   "source": [
    "algo_filenames = []\n",
    "algo_additionals = []\n",
    "algo_labels = []\n",
    "algo_dividers = []\n",
    "algo_dims = []\n",
    "\n",
    "def add_algo(filename, add, label, dim=\"\"):\n",
    "    algo_filenames.append(filename)\n",
    "    algo_additionals.append(add)\n",
    "    algo_labels.append(label)\n",
    "    algo_dims.append(dim)\n",
    "    \n",
    "    \n",
    "def add_divider():\n",
    "    algo_dividers.append(len(algo_filenames))\n",
    "\n",
    "add_algo(\"flow\", \"_june\", r\"\\af{}\", \"40d\")\n",
    "add_algo(\"pie\", \"_conditionalmanifold_june\", r\"\\pie{} (original)\", \"40d\")\n",
    "add_algo(\"pie\", \"_june\", r\"\\pie{} (unconditional manifold)\", \"40d\")\n",
    "add_algo(\"mf\", \"_june\", r\"\\mfmfmd{}\", \"40d\")\n",
    "add_algo(\"emf\", \"_june\", r\"\\mfmfemd{sequential }\", \"40d\")\n",
    "\n",
    "add_divider()\n",
    "\n",
    "add_algo(\"flow\", \"_scandal_june\", r\"\\afscandal{}\", \"40d\")\n",
    "add_algo(\"pie\", \"_conditionalmanifold_scandal_june\", r\"\\piescandal{, original}\", \"40d\")\n",
    "add_algo(\"pie\", \"_scandal_june\", r\"\\piescandal{, unconditional man.}\", \"40d\")\n",
    "add_algo(\"mf\", \"_scandal_june\", r\"\\mfmfscandal{}\", \"40d\")\n",
    "add_algo(\"emf\", \"_scandal_june\", r\"\\mfmfescandal{}\", \"40d\")\n",
    "\n",
    "add_divider()\n",
    "\n",
    "add_algo(\"flow\", \"_may\", r\"OLD \\af{}\", \"40d\")\n",
    "add_algo(\"pie\", \"_conditionalmanifold_may\", r\"OLD \\pie{} (original)\", \"40d\")\n",
    "add_algo(\"pie\", \"_may\", r\"OLD \\pie{} (unconditional manifold)\", \"40d\")\n",
    "add_algo(\"mf\", \"_sequential_may\", r\"OLD \\mfmfmd{sequential }\", \"40d\")\n",
    "add_algo(\"mf\", \"_alternate_may\", r\"OLD \\mfmfmd{alternating }\", \"40d\")\n",
    "add_algo(\"emf\", \"_sequential_may\", r\"OLD \\mfmfemd{sequential }\", \"40d\")\n",
    "add_algo(\"emf\", \"_alternate_may\", r\"OLD \\mfmfemd{alternating }\", \"40d\")\n",
    "\n",
    "add_divider()\n",
    "\n",
    "add_algo(\"flow\", \"_scandal_may\", r\"OLD \\afscandal{}\", \"40d\")\n",
    "add_algo(\"pie\", \"_conditionalmanifold_scandal_may\", r\"OLD \\piescandal{, original}\", \"40d\")\n",
    "add_algo(\"pie\", \"_scandal_may\", r\"OLD \\piescandal{, unconditional man.}\", \"40d\")\n",
    "add_algo(\"mf\", \"_sequential_scandal_may\", r\"OLD \\mfmfscandal{sequential }\", \"40d\")\n",
    "add_algo(\"mf\", \"_alternate_scandal_may\", r\"OLD \\mfmfscandal{alternating }\", \"40d\")\n",
    "add_algo(\"emf\", \"_sequential_scandal_may\", r\"OLD \\mfmfescandal{sequential }\", \"40d\")\n",
    "add_algo(\"emf\", \"_alternate_scandal_may\", r\"OLD \\mfmfescandal{alternating }\", \"40d\")\n",
    "\n",
    "add_divider()\n",
    "\n",
    "add_algo(\"flow\", \"_may\", \"OLD 2D summaries (AF)\", \"2d\")\n",
    "add_algo(\"flow\", \"_scandal_may\", \"OLD 2D summaries (SCANDAL)\", \"2d\")\n",
    "add_algo(\"alices\", \"_may\", \"ALICES\")\n",
    "\n",
    "n_algos = len(algo_filenames)\n"
   ]
  },
  {
   "cell_type": "code",
   "execution_count": 4,
   "metadata": {},
   "outputs": [],
   "source": [
    "def load(name, shape, numpyfy=True, chains=1, result_dir=\"../data/results\"):\n",
    "    all_results = []\n",
    "    \n",
    "    for algo_filename, algo_add, algo_dim in zip(algo_filenames, algo_additionals, algo_dims):\n",
    "        algo_results = []\n",
    "            \n",
    "        for run in range(n_runs):\n",
    "            run_str = \"\" if run == 0 else \"_run{}\".format(run)\n",
    "            \n",
    "            for trueparam in range(n_trueparams):\n",
    "                trueparam_str = \"\" if trueparam == 0 else \"_trueparam{}\".format(trueparam)\n",
    "\n",
    "                try:\n",
    "                    this_result = np.load(\n",
    "                        \"{}/{}_{}_lhc{}{}{}_{}{}.npy\".format(\n",
    "                            result_dir, algo_filename, \"2\" if algo_dim == \"2d\" else \"14\",\n",
    "                            algo_dim, algo_add, run_str, name, trueparam_str\n",
    "                        )\n",
    "                    )\n",
    "                    if (not numpyfy) or (shape is None) or np.product(this_result.shape) == np.product(shape):\n",
    "                        algo_results.append(this_result.reshape(shape))\n",
    "                    else:\n",
    "                        algo_results.append(np.nan*np.ones(shape))\n",
    "\n",
    "                except FileNotFoundError as e:\n",
    "                    # print(e)\n",
    "                    if shape is None:\n",
    "                        algo_results.append(None)\n",
    "                    else:\n",
    "                        algo_results.append(np.nan*np.ones(shape))\n",
    "            \n",
    "        all_results.append(algo_results)\n",
    "    \n",
    "    if numpyfy:\n",
    "        all_results = np.array(all_results, dtype=np.float)\n",
    "        all_results = all_results.reshape([all_results.shape[0], n_runs, n_trueparams] + list(shape))\n",
    "        \n",
    "    return all_results\n",
    "\n",
    "\n",
    "model_gen_x = load(\"samples\", None, numpyfy=False)\n",
    "model_gen_closure = load(\"samples_manifold_distance\", (10000,))\n",
    "model_test_reco_error = load(\"model_reco_error_test\", (1000,))\n",
    "\n"
   ]
  },
  {
   "cell_type": "code",
   "execution_count": 5,
   "metadata": {},
   "outputs": [
    {
     "data": {
      "text/plain": [
       "(27, 10, 3, 4, 750, 2)"
      ]
     },
     "execution_count": 5,
     "metadata": {},
     "output_type": "execute_result"
    }
   ],
   "source": [
    "def load_mcmc(name, shape, numpyfy=True, result_dir=\"../data/results\"):\n",
    "    all_results = []\n",
    "    \n",
    "    for algo_filename, algo_add, algo_dim in zip(algo_filenames, algo_additionals, algo_dims):\n",
    "        algo_results = []\n",
    "            \n",
    "        for run in range(n_runs):\n",
    "            run_str = \"\" if run == 0 else \"_run{}\".format(run)\n",
    "            \n",
    "            for trueparam in range(n_trueparams):\n",
    "                trueparam_str = \"\" if trueparam == 0 else \"_trueparam{}\".format(trueparam)\n",
    "            \n",
    "                for chain in range(n_chains):\n",
    "                    chain_str = \"\" if chain == 0 else \"_chain{}\".format(chain)\n",
    "\n",
    "                    try:\n",
    "                        this_result = np.load(\n",
    "                            \"{}/{}_{}_lhc{}{}{}_{}{}{}.npy\".format(\n",
    "                                result_dir, algo_filename, \"2\" if algo_dim == \"2d\" else \"14\",\n",
    "                                algo_dim, algo_add, run_str, name, trueparam_str, chain_str\n",
    "                            )\n",
    "                        )\n",
    "                        if (not numpyfy) or (shape is None) or np.product(this_result.shape) == np.product(shape):\n",
    "                            algo_results.append(this_result.reshape(shape))\n",
    "                        else:\n",
    "                            algo_results.append(np.nan*np.ones(shape))\n",
    "\n",
    "                    except FileNotFoundError as e:\n",
    "                        # print(e)\n",
    "                        if shape is None:\n",
    "                            algo_results.append(None)\n",
    "                        else:\n",
    "                            algo_results.append(np.nan*np.ones(shape))\n",
    "            \n",
    "        all_results.append(algo_results)\n",
    "    \n",
    "    all_results = np.array(all_results, dtype=np.float)\n",
    "    all_results = all_results.reshape([all_results.shape[0], n_runs, n_trueparams, n_chains] + list(shape))\n",
    "        \n",
    "    return all_results\n",
    "\n",
    "\n",
    "model_posterior_samples = load_mcmc(\"posterior_samples\", (750, 2,))\n",
    "model_posterior_samples.shape  # (algo, run, true param id, chain, sample, theta component)\n"
   ]
  },
  {
   "cell_type": "markdown",
   "metadata": {},
   "source": [
    "## Calculate metrics"
   ]
  },
  {
   "cell_type": "code",
   "execution_count": 6,
   "metadata": {},
   "outputs": [
    {
     "data": {
      "text/plain": [
       "(27, 10)"
      ]
     },
     "execution_count": 6,
     "metadata": {},
     "output_type": "execute_result"
    }
   ],
   "source": [
    "model_gen_mean_closure = np.mean(model_gen_closure, axis=(2,3))\n",
    "model_gen_mean_closure.shape\n"
   ]
  },
  {
   "cell_type": "code",
   "execution_count": 7,
   "metadata": {},
   "outputs": [
    {
     "data": {
      "text/plain": [
       "(27, 10)"
      ]
     },
     "execution_count": 7,
     "metadata": {},
     "output_type": "execute_result"
    }
   ],
   "source": [
    "max_reco_error = 10.\n",
    "model_mean_reco_error = np.mean(np.clip(model_test_reco_error, 0., max_reco_error), axis=(2,3))\n",
    "model_mean_reco_error.shape\n"
   ]
  },
  {
   "cell_type": "code",
   "execution_count": 8,
   "metadata": {},
   "outputs": [
    {
     "data": {
      "text/plain": [
       "(27, 10)"
      ]
     },
     "execution_count": 8,
     "metadata": {},
     "output_type": "execute_result"
    }
   ],
   "source": [
    "bandwidth = 0.15\n",
    "true_param_points = np.array([[0.,0.], [0.5, 0.], [-1., -1.]])\n",
    "\n",
    "model_true_log_posteriors = []\n",
    "\n",
    "for algo, run, trueparam in product(range(n_algos), range(n_runs), range(n_trueparams)):\n",
    "    mcmcs = model_posterior_samples[algo, run, trueparam].reshape((-1, 2))\n",
    "    mcmcs = mcmcs[np.all(np.isfinite(mcmcs), axis=-1)]\n",
    "    \n",
    "    if len(mcmcs) == 0:\n",
    "        model_true_log_posteriors.append(np.nan)\n",
    "        continue\n",
    "        \n",
    "    kde = KernelDensity(kernel=\"gaussian\", bandwidth=bandwidth)\n",
    "    kde.fit(mcmcs)\n",
    "    model_true_log_posteriors.append(kde.score(true_param_points[trueparam].reshape((1, 2))))\n",
    "\n",
    "model_true_log_posteriors = np.mean(np.array(model_true_log_posteriors).reshape((n_algos, n_runs, n_trueparams)), axis=-1)\n",
    "model_true_log_posteriors.shape\n"
   ]
  },
  {
   "cell_type": "markdown",
   "metadata": {},
   "source": [
    "## Outlier removal"
   ]
  },
  {
   "cell_type": "code",
   "execution_count": 9,
   "metadata": {},
   "outputs": [],
   "source": [
    "def mean_err_without_outliers(data, remove=1):\n",
    "    shape = list(data.shape)[:-1]\n",
    "    data.reshape((-1, data.shape[-1]))\n",
    "    \n",
    "    means, errors = [], []\n",
    "    \n",
    "    for data_ in data:\n",
    "        data_ = data_[np.isfinite(data_)]\n",
    "        if not len(data_) > 0:\n",
    "            means.append(np.nan)\n",
    "            errors.append(np.nan)\n",
    "            continue\n",
    "            \n",
    "        if len(data_) > 2*remove + 1:\n",
    "            for _ in range(remove):\n",
    "                data_ = np.delete(data_, np.argmin(data_))\n",
    "                data_ = np.delete(data_, np.argmax(data_))\n",
    "\n",
    "        means.append(np.mean(data_))\n",
    "        errors.append(np.std(data_) / len(data_)**0.5)\n",
    "        \n",
    "    return np.array(means).reshape(shape), np.array(errors).reshape(shape)\n",
    "    \n",
    "    \n",
    "model_true_log_posteriors_mean, model_true_log_posteriors_std = mean_err_without_outliers(model_true_log_posteriors)\n",
    "model_gen_mean_closure_mean, model_gen_mean_closure_std = mean_err_without_outliers(model_gen_mean_closure)\n",
    "model_mean_reco_error_mean, model_mean_reco_error_std = mean_err_without_outliers(model_mean_reco_error)\n"
   ]
  },
  {
   "cell_type": "markdown",
   "metadata": {},
   "source": [
    "## Best metrics"
   ]
  },
  {
   "cell_type": "code",
   "execution_count": 10,
   "metadata": {},
   "outputs": [
    {
     "name": "stdout",
     "output_type": "stream",
     "text": [
      "\\af{}\n",
      "\\mfmfmd{}\n",
      "OLD \\mfmfescandal{alternating }\n"
     ]
    },
    {
     "name": "stderr",
     "output_type": "stream",
     "text": [
      "/Users/johannbrehmer/anaconda3/envs/ml/lib/python3.7/site-packages/ipykernel_launcher.py:6: RuntimeWarning: invalid value encountered in greater\n",
      "  \n"
     ]
    }
   ],
   "source": [
    "best_closure, best_posterior = -1, -1\n",
    "\n",
    "best_closure = np.nanargmin(model_gen_mean_closure_mean)\n",
    "print(algo_labels[best_closure])\n",
    "\n",
    "best_reco = np.nanargmin(np.where(model_mean_reco_error_mean > 1.e-3, model_mean_reco_error_mean, np.nan))\n",
    "print(algo_labels[best_reco])\n",
    "    \n",
    "best_posterior = np.nanargmax(model_true_log_posteriors_mean)\n",
    "print(algo_labels[best_posterior])\n"
   ]
  },
  {
   "cell_type": "markdown",
   "metadata": {},
   "source": [
    "## Print result table"
   ]
  },
  {
   "cell_type": "code",
   "execution_count": 11,
   "metadata": {},
   "outputs": [],
   "source": [
    "def print_results(\n",
    "    l_label=max([len(l) for l in algo_labels]), l_mean=6, l_err=6, latex=False, after_decs=(4,4,3)\n",
    "):\n",
    "    # Number of digits\n",
    "    l_result = l_mean + 2 + l_err\n",
    "    l_total = l_label + 1 + 3 * (3 + l_result)\n",
    "        \n",
    "    # Divider\n",
    "    empty_result = \"\" if latex else \" \"*(l_result + 1)\n",
    "    col_divider = \"&\" if latex else \"|\"\n",
    "    line_end = r\"\\\\\" if latex else \"\"\n",
    "    block_divider = r\"\\midrule\" if latex else \"-\"*l_total\n",
    "    \n",
    "    # Number formatting\n",
    "    def _f(val, err, after_dec, best=False):\n",
    "        if not np.any(np.isfinite(val)):\n",
    "            return empty_result\n",
    "        \n",
    "        result = \"{:>{}.{}f}\".format(val, l_mean, after_dec)\n",
    "        if latex and best:\n",
    "            result = r\"\\textbf{\" + result + \"}\"\n",
    "            \n",
    "        err_str = \"({:>{}.{}f})\".format(err, l_err, after_dec)\n",
    "        if latex:\n",
    "            result += r\"\\,\\textcolor{darkgray}{\" + err_str + \"}\"\n",
    "        else:\n",
    "            result += err_str\n",
    "            \n",
    "        result += \"*\" if not latex and best else \" \"\n",
    "        \n",
    "        if latex:\n",
    "            result = result.replace(\"-\", \"$-{}$\")\n",
    "            result = result.replace(\"darkgray\", \"dark-gray\")\n",
    "        return result\n",
    "    \n",
    "    \n",
    "    # Header\n",
    "    print(\n",
    "        \"{2:<{0}.{0}s} {5} {3:>{1}.{1}s} {5} {7:>{1}.{1}s} {5} {4:>{1}.{1}s} {6}\".format(\n",
    "            l_label, l_result, \"\", \"Closure\", \"log p\", col_divider, line_end, \"Reco error\"\n",
    "        )\n",
    "    )\n",
    "    print(block_divider)\n",
    "\n",
    "    # Iterate over methods\n",
    "    for i, (label, closure, closure_err, posterior, posterior_err, reco, reco_err) in enumerate(zip(\n",
    "        algo_labels,\n",
    "        model_gen_mean_closure_mean,\n",
    "        model_gen_mean_closure_std,\n",
    "        model_true_log_posteriors_mean,\n",
    "        model_true_log_posteriors_std,\n",
    "        model_mean_reco_error_mean,\n",
    "        model_mean_reco_error_std,\n",
    "    )):\n",
    "        # Divider\n",
    "        if i in algo_dividers:\n",
    "            print(block_divider)\n",
    "            \n",
    "        # Print results\n",
    "        print(\n",
    "            \"{1:<{0}.{0}s} {4} {2}{4} {6}{4} {3} {5}\".format(\n",
    "                l_label, label,\n",
    "                _f(closure, closure_err, after_decs[0], i==best_closure),\n",
    "                _f(posterior, posterior_err, after_decs[2], i==best_posterior),\n",
    "                col_divider, line_end,\n",
    "                _f(reco, reco_err, after_decs[1], i==best_reco),\n",
    "            )\n",
    "        )\n"
   ]
  },
  {
   "cell_type": "code",
   "execution_count": 12,
   "metadata": {},
   "outputs": [
    {
     "name": "stdout",
     "output_type": "stream",
     "text": [
      "                                      |        Closure |     Reco error |          log p \n",
      "-----------------------------------------------------------------------------------------\n",
      "\\af{}                                 | 0.0018(0.0000)*| 0.0000(0.0000) | -2.874( 0.878)  \n",
      "\\pie{} (original)                     |                |                |                 \n",
      "\\pie{} (unconditional manifold)       |                |                |                 \n",
      "\\mfmfmd{}                             | 0.0047(0.0003) | 0.0125(0.0004)*| -1.717( 0.031)  \n",
      "\\mfmfemd{sequential }                 | 0.0048(0.0002) | 0.0311(0.0004) | -1.470( 0.150)  \n",
      "-----------------------------------------------------------------------------------------\n",
      "\\afscandal{}                          |                |                |                 \n",
      "\\piescandal{, original}               |                |                |                 \n",
      "\\piescandal{, unconditional man.}     |                |                |                 \n",
      "\\mfmfscandal{}                        |                |                |                 \n",
      "\\mfmfescandal{}                       |                |                |                 \n",
      "-----------------------------------------------------------------------------------------\n",
      "OLD \\af{}                             | 0.0143(0.0016) | 0.0000(0.0000) | -6.274( 1.612)  \n",
      "OLD \\pie{} (original)                 |                |                |                 \n",
      "OLD \\pie{} (unconditional manifold)   | 0.0361(0.0061) | 4.5534(0.2380) | -1.732( 0.129)  \n",
      "OLD \\mfmfmd{sequential }              | 0.0469(0.0110) | 0.3223(0.1370) | -1.784( 0.074)  \n",
      "OLD \\mfmfmd{alternating }             | 0.1552(0.0141) | 0.6275(0.1262) | -2.275( 0.059)  \n",
      "OLD \\mfmfemd{sequential }             | 0.0558(0.0102) |                | -2.381( 0.309)  \n",
      "OLD \\mfmfemd{alternating }            | 0.0560(0.0107) |                | -2.323( 0.242)  \n",
      "-----------------------------------------------------------------------------------------\n",
      "OLD \\afscandal{}                      | 0.0594(0.0041) | 0.0000(0.0000) | -0.125( 0.075)  \n",
      "OLD \\piescandal{, original}           |                |                |                 \n",
      "OLD \\piescandal{, unconditional man.} | 0.1409(0.0105) | 3.5344(0.2512) | -0.104( 0.107)  \n",
      "OLD \\mfmfscandal{sequential }         | 0.1489(0.0050) | 0.5011(0.1164) | -0.237( 0.127)  \n",
      "OLD \\mfmfscandal{alternating }        | 0.3651(0.0684) | 0.8801(0.1108) | -0.091( 0.080)  \n",
      "OLD \\mfmfescandal{sequential }        | 0.1707(0.0159) | 0.3156(0.1240) |  0.008( 0.077)  \n",
      "OLD \\mfmfescandal{alternating }       | 0.2046(0.0155) | 0.6910(0.0147) |  0.021( 0.012)* \n",
      "-----------------------------------------------------------------------------------------\n",
      "OLD 2D summaries (AF)                 |                | 0.0000(0.0000) | -0.581( 0.065)  \n",
      "OLD 2D summaries (SCANDAL)            |                | 0.0000(0.0000) | -0.673( 0.045)  \n",
      "ALICES                                |                |                | -0.019( 0.054)  \n"
     ]
    }
   ],
   "source": [
    "print_results()"
   ]
  },
  {
   "cell_type": "code",
   "execution_count": 13,
   "metadata": {},
   "outputs": [
    {
     "name": "stdout",
     "output_type": "stream",
     "text": [
      "                                      &        Closure &     Reco error &          log p \\\\\n",
      "\\midrule\n",
      "\\af{}                                 & \\textbf{0.0018}\\,\\textcolor{dark-gray}{(0.0000)} & 0.0000\\,\\textcolor{dark-gray}{(0.0000)} & $-{}$2.874\\,\\textcolor{dark-gray}{( 0.878)}  \\\\\n",
      "\\pie{} (original)                     & & &  \\\\\n",
      "\\pie{} (unconditional manifold)       & & &  \\\\\n",
      "\\mfmfmd{}                             & 0.0047\\,\\textcolor{dark-gray}{(0.0003)} & \\textbf{0.0125}\\,\\textcolor{dark-gray}{(0.0004)} & $-{}$1.717\\,\\textcolor{dark-gray}{( 0.031)}  \\\\\n",
      "\\mfmfemd{sequential }                 & 0.0048\\,\\textcolor{dark-gray}{(0.0002)} & 0.0311\\,\\textcolor{dark-gray}{(0.0004)} & $-{}$1.470\\,\\textcolor{dark-gray}{( 0.150)}  \\\\\n",
      "\\midrule\n",
      "\\afscandal{}                          & & &  \\\\\n",
      "\\piescandal{, original}               & & &  \\\\\n",
      "\\piescandal{, unconditional man.}     & & &  \\\\\n",
      "\\mfmfscandal{}                        & & &  \\\\\n",
      "\\mfmfescandal{}                       & & &  \\\\\n",
      "\\midrule\n",
      "OLD \\af{}                             & 0.0143\\,\\textcolor{dark-gray}{(0.0016)} & 0.0000\\,\\textcolor{dark-gray}{(0.0000)} & $-{}$6.274\\,\\textcolor{dark-gray}{( 1.612)}  \\\\\n",
      "OLD \\pie{} (original)                 & & &  \\\\\n",
      "OLD \\pie{} (unconditional manifold)   & 0.0361\\,\\textcolor{dark-gray}{(0.0061)} & 4.5534\\,\\textcolor{dark-gray}{(0.2380)} & $-{}$1.732\\,\\textcolor{dark-gray}{( 0.129)}  \\\\\n",
      "OLD \\mfmfmd{sequential }              & 0.0469\\,\\textcolor{dark-gray}{(0.0110)} & 0.3223\\,\\textcolor{dark-gray}{(0.1370)} & $-{}$1.784\\,\\textcolor{dark-gray}{( 0.074)}  \\\\\n",
      "OLD \\mfmfmd{alternating }             & 0.1552\\,\\textcolor{dark-gray}{(0.0141)} & 0.6275\\,\\textcolor{dark-gray}{(0.1262)} & $-{}$2.275\\,\\textcolor{dark-gray}{( 0.059)}  \\\\\n",
      "OLD \\mfmfemd{sequential }             & 0.0558\\,\\textcolor{dark-gray}{(0.0102)} & & $-{}$2.381\\,\\textcolor{dark-gray}{( 0.309)}  \\\\\n",
      "OLD \\mfmfemd{alternating }            & 0.0560\\,\\textcolor{dark-gray}{(0.0107)} & & $-{}$2.323\\,\\textcolor{dark-gray}{( 0.242)}  \\\\\n",
      "\\midrule\n",
      "OLD \\afscandal{}                      & 0.0594\\,\\textcolor{dark-gray}{(0.0041)} & 0.0000\\,\\textcolor{dark-gray}{(0.0000)} & $-{}$0.125\\,\\textcolor{dark-gray}{( 0.075)}  \\\\\n",
      "OLD \\piescandal{, original}           & & &  \\\\\n",
      "OLD \\piescandal{, unconditional man.} & 0.1409\\,\\textcolor{dark-gray}{(0.0105)} & 3.5344\\,\\textcolor{dark-gray}{(0.2512)} & $-{}$0.104\\,\\textcolor{dark-gray}{( 0.107)}  \\\\\n",
      "OLD \\mfmfscandal{sequential }         & 0.1489\\,\\textcolor{dark-gray}{(0.0050)} & 0.5011\\,\\textcolor{dark-gray}{(0.1164)} & $-{}$0.237\\,\\textcolor{dark-gray}{( 0.127)}  \\\\\n",
      "OLD \\mfmfscandal{alternating }        & 0.3651\\,\\textcolor{dark-gray}{(0.0684)} & 0.8801\\,\\textcolor{dark-gray}{(0.1108)} & $-{}$0.091\\,\\textcolor{dark-gray}{( 0.080)}  \\\\\n",
      "OLD \\mfmfescandal{sequential }        & 0.1707\\,\\textcolor{dark-gray}{(0.0159)} & 0.3156\\,\\textcolor{dark-gray}{(0.1240)} &  0.008\\,\\textcolor{dark-gray}{( 0.077)}  \\\\\n",
      "OLD \\mfmfescandal{alternating }       & 0.2046\\,\\textcolor{dark-gray}{(0.0155)} & 0.6910\\,\\textcolor{dark-gray}{(0.0147)} & \\textbf{ 0.021}\\,\\textcolor{dark-gray}{( 0.012)}  \\\\\n",
      "\\midrule\n",
      "OLD 2D summaries (AF)                 & & 0.0000\\,\\textcolor{dark-gray}{(0.0000)} & $-{}$0.581\\,\\textcolor{dark-gray}{( 0.065)}  \\\\\n",
      "OLD 2D summaries (SCANDAL)            & & 0.0000\\,\\textcolor{dark-gray}{(0.0000)} & $-{}$0.673\\,\\textcolor{dark-gray}{( 0.045)}  \\\\\n",
      "ALICES                                & & & $-{}$0.019\\,\\textcolor{dark-gray}{( 0.054)}  \\\\\n"
     ]
    }
   ],
   "source": [
    "print_results(latex=True)"
   ]
  },
  {
   "cell_type": "markdown",
   "metadata": {},
   "source": [
    "## Individual run results"
   ]
  },
  {
   "cell_type": "code",
   "execution_count": 14,
   "metadata": {},
   "outputs": [
    {
     "name": "stdout",
     "output_type": "stream",
     "text": [
      "                                      |                                                                           Closure \n",
      "--------------------------------------------------------------------------------------------------------------------------\n",
      "\\af{}                                 |  [ 0.002,  0.002,  0.002,  0.002,       ,       ,       ,       ,       ,       ]* \n",
      "\\pie{} (original)                     |                                                                                    \n",
      "\\pie{} (unconditional manifold)       |                                                                                    \n",
      "\\mfmfmd{}                             |  [ 0.003,  0.004,  0.006,  0.005,       ,       ,       ,       ,       ,       ]  \n",
      "\\mfmfemd{sequential }                 |  [ 0.004,       ,  0.005,  0.004,  0.005,  0.004,  0.005,       ,       ,       ]  \n",
      "--------------------------------------------------------------------------------------------------------------------------\n",
      "\\afscandal{}                          |                                                                                    \n",
      "\\piescandal{, original}               |                                                                                    \n",
      "\\piescandal{, unconditional man.}     |                                                                                    \n",
      "\\mfmfscandal{}                        |                                                                                    \n",
      "\\mfmfescandal{}                       |                                                                                    \n",
      "--------------------------------------------------------------------------------------------------------------------------\n",
      "OLD \\af{}                             |  [ 0.009,  0.023,  0.013,  0.009,  0.019,  0.015,  0.010,  0.024,  0.010,  0.014]  \n",
      "OLD \\pie{} (original)                 |                                                                                    \n",
      "OLD \\pie{} (unconditional manifold)   |  [ 0.046,  0.015,  0.043,  0.024,  0.056,  0.009,  0.017,  0.064,  0.102,  0.024]  \n",
      "OLD \\mfmfmd{sequential }              |  [ 0.072,  0.009,  0.016,  0.029,  0.018,  0.211,  0.094,  0.092,  0.024,  0.029]  \n",
      "OLD \\mfmfmd{alternating }             |  [ 0.169,  0.092,  0.127,  0.234,  0.124,  0.043,  0.229,  0.161,  0.148,  0.191]  \n",
      "OLD \\mfmfemd{sequential }             |  [ 0.083,  0.127,  0.046,  0.071,  0.031,  0.101,  0.022,  0.074,  0.014,  0.018]  \n",
      "OLD \\mfmfemd{alternating }            |  [ 0.060,  0.012,  0.040,  0.028,  0.100,  0.016,  0.098,  0.075,  0.105,  0.031]  \n",
      "--------------------------------------------------------------------------------------------------------------------------\n",
      "OLD \\afscandal{}                      |  [ 0.070,  0.073,  0.090,  0.062,  0.050,  0.056,  0.046,  0.038,       ,       ]  \n",
      "OLD \\piescandal{, original}           |                                                                                    \n",
      "OLD \\piescandal{, unconditional man.} |  [ 0.148,  0.170,  0.255,  0.099,  0.113,  0.078,  0.158,  0.157,       ,       ]  \n",
      "OLD \\mfmfscandal{sequential }         |  [ 0.152,  0.126,  0.167,  0.152,  0.145,  0.152,  0.116,       ,  0.282,       ]  \n",
      "OLD \\mfmfscandal{alternating }        |  [      ,       ,       ,       ,       ,  0.533,  0.287,  0.276,       ,       ]  \n",
      "OLD \\mfmfescandal{sequential }        |  [ 0.160,  0.207,  0.216,       ,  0.124,       ,  0.245,  0.111,  0.145,       ]  \n",
      "OLD \\mfmfescandal{alternating }       |  [      ,  0.183,       ,  0.227,       ,  0.316,  0.109,       ,       ,       ]  \n",
      "--------------------------------------------------------------------------------------------------------------------------\n",
      "OLD 2D summaries (AF)                 |                                                                                    \n",
      "OLD 2D summaries (SCANDAL)            |                                                                                    \n",
      "ALICES                                |                                                                                    \n",
      "\n",
      "\n",
      "\n",
      "                                      |                                                                        Reco error \n",
      "--------------------------------------------------------------------------------------------------------------------------\n",
      "\\af{}                                 |  [ 0.000,  0.000,  0.000,  0.000,       ,       ,       ,       ,       ,       ]  \n",
      "\\pie{} (original)                     |                                                                                    \n",
      "\\pie{} (unconditional manifold)       |                                                                                    \n",
      "\\mfmfmd{}                             |  [ 0.010,  0.013,  0.015,  0.012,       ,       ,       ,       ,       ,       ]* \n",
      "\\mfmfemd{sequential }                 |  [ 0.031,       ,  0.036,  0.029,  0.031,  0.032,  0.030,       ,       ,       ]  \n",
      "--------------------------------------------------------------------------------------------------------------------------\n",
      "\\afscandal{}                          |                                                                                    \n",
      "\\piescandal{, original}               |                                                                                    \n",
      "\\piescandal{, unconditional man.}     |                                                                                    \n",
      "\\mfmfscandal{}                        |  [ 0.012,       ,       ,       ,       ,       ,       ,       ,       ,       ]  \n",
      "\\mfmfescandal{}                       |                                                                                    \n",
      "--------------------------------------------------------------------------------------------------------------------------\n",
      "OLD \\af{}                             |  [ 0.000,  0.000,  0.000,  0.000,  0.000,  0.000,  0.000,  0.000,  0.000,  0.000]  \n",
      "OLD \\pie{} (original)                 |                                                                                    \n",
      "OLD \\pie{} (unconditional manifold)   |  [ 3.615,  3.559,  4.887,  4.926,  5.637,  4.626,  3.384,  5.753,  5.224,  4.322]  \n",
      "OLD \\mfmfmd{sequential }              |  [ 0.992,  0.035,  0.127,  0.188,  0.083,  1.796,  0.989,  0.052,  0.064,  0.089]  \n",
      "OLD \\mfmfmd{alternating }             |  [ 0.763,  0.069,  0.830,  1.213,  0.086,  0.051,  1.551,  0.667,  0.701,  0.697]  \n",
      "OLD \\mfmfemd{sequential }             |                                                                                    \n",
      "OLD \\mfmfemd{alternating }            |                                                                                    \n",
      "--------------------------------------------------------------------------------------------------------------------------\n",
      "OLD \\afscandal{}                      |  [ 0.000,  0.000,  0.000,  0.000,  0.000,  0.000,  0.000,  0.000,       ,       ]  \n",
      "OLD \\piescandal{, original}           |                                                                                    \n",
      "OLD \\piescandal{, unconditional man.} |  [ 3.831,  3.440,  4.119,  0.804,  3.910,  2.241,  6.763,  3.817,       ,       ]  \n",
      "OLD \\mfmfscandal{sequential }         |  [ 0.734,  0.751,  0.076,  0.978,  0.622,  0.133,  0.078,       ,  0.696,       ]  \n",
      "OLD \\mfmfscandal{alternating }        |  [      ,       ,       ,       ,       ,  1.132,  0.666,  0.845,       ,       ]  \n",
      "OLD \\mfmfescandal{sequential }        |  [ 0.094,  0.987,  0.610,       ,  0.054,       ,  0.698,  0.099,  0.079,       ]  \n",
      "OLD \\mfmfescandal{alternating }       |  [      ,  0.671,       ,  0.092,       ,  0.712,  0.934,       ,       ,       ]  \n",
      "--------------------------------------------------------------------------------------------------------------------------\n",
      "OLD 2D summaries (AF)                 |  [ 0.000,  0.000,  0.000,  0.000,  0.000,  0.000,  0.000,  0.000,  0.000,  0.000]  \n",
      "OLD 2D summaries (SCANDAL)            |  [ 0.000,  0.000,  0.000,  0.000,  0.000,  0.000,  0.000,  0.000,       ,       ]  \n",
      "ALICES                                |                                                                                    \n",
      "\n",
      "\n",
      "\n",
      "                                      |                                                                     Log posterior \n",
      "--------------------------------------------------------------------------------------------------------------------------\n",
      "\\af{}                                 |  [-0.012, -4.117, -1.632, -4.468,       ,       ,       ,       ,       ,       ]  \n",
      "\\pie{} (original)                     |                                                                                    \n",
      "\\pie{} (unconditional manifold)       |                                                                                    \n",
      "\\mfmfmd{}                             |  [-1.760, -1.674, -0.899, -4.683,       ,       ,       ,       ,       ,       ]  \n",
      "\\mfmfemd{sequential }                 |  [-1.061,  1.956, -1.308, -1.272, -1.733, -9.147, -1.978,       ,       ,       ]  \n",
      "--------------------------------------------------------------------------------------------------------------------------\n",
      "\\afscandal{}                          |                                                                                    \n",
      "\\piescandal{, original}               |                                                                                    \n",
      "\\piescandal{, unconditional man.}     |                                                                                    \n",
      "\\mfmfscandal{}                        |                                                                                    \n",
      "\\mfmfescandal{}                       |                                                                                    \n",
      "--------------------------------------------------------------------------------------------------------------------------\n",
      "OLD \\af{}                             |  [-7.590, -4.013, -9.006, -2.612, -2.061, -6.334, -2.067, -2.114, -16.454, -25.903]  \n",
      "OLD \\pie{} (original)                 |                                                                                    \n",
      "OLD \\pie{} (unconditional manifold)   |  [-1.838, -2.806, -1.769, -1.767, -0.936, -1.638, -1.083, -1.443, -2.459, -1.862]  \n",
      "OLD \\mfmfmd{sequential }              |  [-1.368, -1.686, -1.966, -2.310, -1.679, -2.076, -1.167, -1.696, -1.849, -1.952]  \n",
      "OLD \\mfmfmd{alternating }             |  [-2.421, -2.433, -2.013, -2.160, -1.986, -2.294, -2.364, -2.050, -2.645, -2.468]  \n",
      "OLD \\mfmfemd{sequential }             |  [-2.289, -2.119, -2.481, -2.182, -5.005, -4.460, -0.929, -1.902, -1.183, -2.431]  \n",
      "OLD \\mfmfemd{alternating }            |  [-1.755, -1.931, -1.986, -4.088, -1.945, -2.955, -1.992, -3.911, -1.880, -1.985]  \n",
      "--------------------------------------------------------------------------------------------------------------------------\n",
      "OLD \\afscandal{}                      |  [-0.166, -0.430,  0.116, -0.261,  0.267, -0.450, -0.043,  0.032,       ,       ]  \n",
      "OLD \\piescandal{, original}           |                                                                                    \n",
      "OLD \\piescandal{, unconditional man.} |  [ 0.279, -0.068, -1.548,  0.109,  0.233, -0.601, -0.143, -0.155,       ,       ]  \n",
      "OLD \\mfmfscandal{sequential }         |  [-0.085,  0.288, -0.067, -0.705, -0.668,  0.273, -0.398,       , -0.476,       ]  \n",
      "OLD \\mfmfscandal{alternating }        |  [      ,       ,       ,       ,       , -0.114, -0.249,  0.090,       ,       ]  \n",
      "OLD \\mfmfescandal{sequential }        |  [ 0.409, -0.469,  0.103,       ,  0.106,       , -0.256, -0.126,  0.211,       ]  \n",
      "OLD \\mfmfescandal{alternating }       |  [      , -0.255,       ,  0.004,       ,  0.062,  0.038,       ,       ,       ]* \n",
      "--------------------------------------------------------------------------------------------------------------------------\n",
      "OLD 2D summaries (AF)                 |  [-0.828, -0.574, -0.274, -0.670,  0.050, -0.744, -0.364, -0.764, -0.793, -0.468]  \n",
      "OLD 2D summaries (SCANDAL)            |  [-0.525, -1.030, -0.816, -0.593, -0.442, -0.783, -0.732, -0.590,       ,       ]  \n",
      "ALICES                                |  [ 0.261, -0.164, -0.121,  0.177,  0.061,  0.271, -0.140, -0.106, -0.123, -0.198]  \n"
     ]
    },
    {
     "name": "stderr",
     "output_type": "stream",
     "text": [
      "/Users/johannbrehmer/anaconda3/envs/ml/lib/python3.7/site-packages/ipykernel_launcher.py:20: RuntimeWarning: Mean of empty slice\n",
      "/Users/johannbrehmer/anaconda3/envs/ml/lib/python3.7/site-packages/ipykernel_launcher.py:21: RuntimeWarning: Mean of empty slice\n",
      "/Users/johannbrehmer/anaconda3/envs/ml/lib/python3.7/site-packages/ipykernel_launcher.py:18: RuntimeWarning: Mean of empty slice\n"
     ]
    }
   ],
   "source": [
    "l_label=max([len(l) for l in algo_labels])\n",
    "l_mean=6\n",
    "after_decs=3\n",
    "\n",
    "# How to format the numbers\n",
    "l_result = 3 + n_runs*l_mean + (n_runs - 1)*2\n",
    "l_total = l_label + 4 + l_result\n",
    "\n",
    "# Divider\n",
    "empty_result = \" \"*(l_result + 1)\n",
    "col_divider = \"|\"\n",
    "line_end = \"\"\n",
    "block_divider = \"-\"*l_total\n",
    "    \n",
    "def _f(val, after_dec, best=False):\n",
    "    if not np.any(np.isfinite(val)):\n",
    "        return empty_result\n",
    "    result = \" [{:>{}.{}f}, \".format(np.nanmean(val[0]), l_mean, after_dec)\n",
    "    for i in range(1, n_runs - 1):\n",
    "        result += \"{:>{}.{}f}, \".format(np.nanmean(val[i]), l_mean, after_dec)\n",
    "    result += \"{:>{}.{}f}]\".format(np.nanmean(val[-1]), l_mean, after_dec)\n",
    "    result = result.replace(\"nan\", \"   \")\n",
    "    result += \"*\" if best else \" \"\n",
    "    return result\n",
    "\n",
    "\n",
    "\n",
    "# Print closure results\n",
    "print(\n",
    "    \"{2:<{0}.{0}s} {4} {3:>{1}.{1}s} {5}\".format(\n",
    "        l_label, l_result, \"\", \"Closure\", col_divider, line_end\n",
    "    )\n",
    ")\n",
    "print(block_divider)\n",
    "\n",
    "for i, (label, closure) in enumerate(zip(algo_labels, model_gen_mean_closure)):\n",
    "    # Divider\n",
    "    if i in algo_dividers:\n",
    "        print(block_divider)\n",
    "            \n",
    "    # Print results\n",
    "    print(\"{1:<{0}.{0}s} {3} {2} {4}\".format(\n",
    "        l_label, label, _f(closure, after_decs, i==best_closure), col_divider, line_end\n",
    "    ))\n",
    "\n",
    "print(\"\")\n",
    "print(\"\")\n",
    "print(\"\")\n",
    "    \n",
    "# Print reco error results\n",
    "print(\n",
    "    \"{2:<{0}.{0}s} {4} {3:>{1}.{1}s} {5}\".format(\n",
    "        l_label, l_result, \"\", \"Reco error\", col_divider, line_end\n",
    "    )\n",
    ")\n",
    "print(block_divider)\n",
    "\n",
    "for i, (label, reco) in enumerate(zip(algo_labels, model_test_reco_error)):\n",
    "    # Divider\n",
    "    if i in algo_dividers:\n",
    "        print(block_divider)\n",
    "            \n",
    "    # Print results\n",
    "    print(\"{1:<{0}.{0}s} {3} {2} {4}\".format(\n",
    "        l_label, label, _f(reco, after_decs, i==best_reco), col_divider, line_end\n",
    "    ))\n",
    "\n",
    "print(\"\")\n",
    "print(\"\")\n",
    "print(\"\")\n",
    "    \n",
    "# Print posterior results\n",
    "print(\n",
    "    \"{2:<{0}.{0}s} {4} {3:>{1}.{1}s} {5}\".format(\n",
    "        l_label, l_result, \"\", \"Log posterior\", col_divider, line_end\n",
    "    )\n",
    ")\n",
    "print(block_divider)\n",
    "\n",
    "for i, (label, posterior) in enumerate(zip(algo_labels, model_true_log_posteriors)):\n",
    "    # Divider\n",
    "    if i in algo_dividers:\n",
    "        print(block_divider)\n",
    "            \n",
    "    # Print results\n",
    "    print(\"{1:<{0}.{0}s} {3} {2} {4}\".format(\n",
    "        l_label, label, _f(posterior, after_decs, i==best_posterior), col_divider, line_end\n",
    "    ))\n"
   ]
  },
  {
   "cell_type": "markdown",
   "metadata": {},
   "source": [
    "## Comparison to reco error: what if everything was just bleak randomness?"
   ]
  },
  {
   "cell_type": "code",
   "execution_count": 15,
   "metadata": {},
   "outputs": [
    {
     "data": {
      "text/plain": [
       "9.76166908203537"
      ]
     },
     "execution_count": 15,
     "metadata": {},
     "output_type": "execute_result"
    }
   ],
   "source": [
    "x = np.random.normal(size=(1000, 48))\n",
    "y = np.random.normal(size=(1000, 48))\n",
    "\n",
    "np.mean(np.sum((x - y) ** 2, axis=1) ** 0.5)"
   ]
  },
  {
   "cell_type": "code",
   "execution_count": null,
   "metadata": {},
   "outputs": [],
   "source": []
  }
 ],
 "metadata": {
  "kernelspec": {
   "display_name": "Python (ML)",
   "language": "python",
   "name": "ml"
  },
  "language_info": {
   "codemirror_mode": {
    "name": "ipython",
    "version": 3
   },
   "file_extension": ".py",
   "mimetype": "text/x-python",
   "name": "python",
   "nbconvert_exporter": "python",
   "pygments_lexer": "ipython3",
   "version": "3.7.3"
  }
 },
 "nbformat": 4,
 "nbformat_minor": 4
}
