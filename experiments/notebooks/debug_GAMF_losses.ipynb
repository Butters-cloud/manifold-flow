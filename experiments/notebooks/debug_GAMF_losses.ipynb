{
 "cells": [
  {
   "cell_type": "markdown",
   "metadata": {},
   "source": [
    "# Debugging GED and Sinkhorn training"
   ]
  },
  {
   "cell_type": "code",
   "execution_count": 2,
   "metadata": {},
   "outputs": [],
   "source": [
    "%matplotlib inline\n",
    "import numpy as np\n",
    "import torch\n",
    "from torch.nn import MSELoss\n",
    "from geomloss import SamplesLoss\n",
    "from matplotlib import pyplot as plt\n",
    "import sys\n",
    "\n",
    "sys.path.append(\"../..\")\n",
    "\n",
    "from experiments.utils.models import create_vector_transform\n",
    "from manifold_flow.flows import ManifoldFlow\n",
    "from manifold_flow.training.losses import make_sinkhorn_divergence\n"
   ]
  },
  {
   "cell_type": "markdown",
   "metadata": {},
   "source": [
    "## Load models"
   ]
  },
  {
   "cell_type": "code",
   "execution_count": 3,
   "metadata": {},
   "outputs": [],
   "source": [
    "def make_model(filename):\n",
    "    outer_transform = create_vector_transform(\n",
    "        3,\n",
    "        5,\n",
    "        linear_transform_type=\"permutation\",\n",
    "        base_transform_type=\"rq-coupling\",\n",
    "        context_features=None,\n",
    "        dropout_probability=0.,\n",
    "    )\n",
    "    inner_transform = create_vector_transform(\n",
    "        2,\n",
    "        5,\n",
    "        linear_transform_type=\"permutation\",\n",
    "        base_transform_type=\"rq-coupling\",\n",
    "        context_features=None,\n",
    "        dropout_probability=0.,\n",
    "    )\n",
    "    model = ManifoldFlow(\n",
    "        data_dim=3,\n",
    "        latent_dim=2,\n",
    "        outer_transform=outer_transform,\n",
    "        inner_transform=inner_transform,\n",
    "        apply_context_to_outer=False,\n",
    "        pie_epsilon=0.01,\n",
    "    )\n",
    "    model.load_state_dict(torch.load(filename, map_location=torch.device(\"cpu\")))\n",
    "    \n",
    "    return model"
   ]
  },
  {
   "cell_type": "code",
   "execution_count": 4,
   "metadata": {},
   "outputs": [],
   "source": [
    "mf_sinkhorn = make_model(\"../data/models/gamf_2_spherical_gaussian_2_3_0.010_small_largebs.pt\")\n",
    "mf_ged = make_model(\"../data/models/gamf_2_spherical_gaussian_2_3_0.010_small_ged_largebs.pt\")"
   ]
  },
  {
   "cell_type": "markdown",
   "metadata": {},
   "source": [
    "## Debugging"
   ]
  },
  {
   "cell_type": "code",
   "execution_count": 70,
   "metadata": {},
   "outputs": [],
   "source": [
    "sinkhorn = SamplesLoss(\"sinkhorn\")"
   ]
  },
  {
   "cell_type": "code",
   "execution_count": 123,
   "metadata": {},
   "outputs": [],
   "source": [
    "batchsize = 1000\n",
    "x_true_filename=\"../data/samples/spherical_gaussian/spherical_gaussian_2_3_0.010_x_train.npy\"\n",
    "all_x_true = np.load(x_true_filename)\n",
    "all_indices = np.arange(0, len(all_x_true), dtype=np.int)\n",
    "x_true = torch.tensor(all_x_true[np.random.choice(all_indices, batchsize)], dtype=torch.float)\n",
    "x_true_shuffled = x_true[torch.randperm(x_true.size(0))]\n",
    "\n",
    "x_gen = mf_sinkhorn.sample(n=batchsize)\n",
    "x_gen_shuffled = x_gen[torch.randperm(x_gen.size(0))]"
   ]
  },
  {
   "cell_type": "code",
   "execution_count": 124,
   "metadata": {},
   "outputs": [],
   "source": [
    "x_true_ = x_true[0:1000]\n",
    "x_gen_ = x_gen[0:1000]"
   ]
  },
  {
   "cell_type": "code",
   "execution_count": 128,
   "metadata": {},
   "outputs": [],
   "source": [
    "np.save(\"x0.npy\", x_true_.detach().numpy())\n",
    "np.save(\"x1.npy\", x_gen_.detach().numpy())"
   ]
  },
  {
   "cell_type": "code",
   "execution_count": 125,
   "metadata": {},
   "outputs": [
    {
     "data": {
      "text/plain": [
       "tensor(-0.0224, grad_fn=<SelectBackward>)"
      ]
     },
     "execution_count": 125,
     "metadata": {},
     "output_type": "execute_result"
    }
   ],
   "source": [
    "sinkhorn(x_true_, x_gen_)"
   ]
  },
  {
   "cell_type": "code",
   "execution_count": 126,
   "metadata": {},
   "outputs": [
    {
     "data": {
      "text/plain": [
       "tensor(0.)"
      ]
     },
     "execution_count": 126,
     "metadata": {},
     "output_type": "execute_result"
    }
   ],
   "source": [
    "sinkhorn(x_true_, x_true_)"
   ]
  },
  {
   "cell_type": "code",
   "execution_count": 127,
   "metadata": {},
   "outputs": [
    {
     "data": {
      "text/plain": [
       "tensor(0., grad_fn=<SelectBackward>)"
      ]
     },
     "execution_count": 127,
     "metadata": {},
     "output_type": "execute_result"
    }
   ],
   "source": [
    "sinkhorn(x_gen_, x_gen_)"
   ]
  },
  {
   "cell_type": "code",
   "execution_count": 133,
   "metadata": {},
   "outputs": [
    {
     "data": {
      "text/plain": [
       "'0.2.3'"
      ]
     },
     "execution_count": 133,
     "metadata": {},
     "output_type": "execute_result"
    }
   ],
   "source": [
    "import geomloss\n",
    "geomloss.__version__"
   ]
  },
  {
   "cell_type": "code",
   "execution_count": 7,
   "metadata": {},
   "outputs": [
    {
     "name": "stdout",
     "output_type": "stream",
     "text": [
      "0.038145098835229874\n"
     ]
    }
   ],
   "source": [
    "import numpy as np\n",
    "import torch\n",
    "from geomloss import SamplesLoss\n",
    "\n",
    "x0 = torch.from_numpy(np.load(\"x0.npy\"))\n",
    "x1 = torch.from_numpy(np.load(\"x1.npy\"))\n",
    "\n",
    "sinkhorn = SamplesLoss(\"sinkhorn\", scaling=0.99)\n",
    "\n",
    "print(sinkhorn(x0, x1).item())"
   ]
  },
  {
   "cell_type": "markdown",
   "metadata": {},
   "source": [
    "## Sinkhorn divergence of different batches on the data set"
   ]
  },
  {
   "cell_type": "code",
   "execution_count": 43,
   "metadata": {},
   "outputs": [],
   "source": [
    "def calculate_losses(\n",
    "    model,\n",
    "    batchsize=1000,\n",
    "    blur=0.05,\n",
    "    x_true_filename=\"../data/samples/spherical_gaussian/spherical_gaussian_2_3_0.010_x_train.npy\", \n",
    "    tests=25\n",
    "):\n",
    "    all_x_true = np.load(x_true_filename)\n",
    "    all_indices = np.arange(0, len(all_x_true), dtype=np.int)\n",
    "    sinkhorn = make_sinkhorn_divergence()\n",
    "    ged = make_generalized_energy_distance()\n",
    "    \n",
    "    sinkhorn_losses = []\n",
    "    ged_losses = []\n",
    "    for _ in range(tests):\n",
    "        x_true = torch.tensor(all_x_true[np.random.choice(all_indices, batchsize)], dtype=torch.float)\n",
    "        x_gen = model.sample(n=batchsize)\n",
    "        sinkhorn_losses.append(sinkhorn(x_true, x_gen, None).detach().numpy())\n",
    "        ged_losses.append(ged(x_true, x_gen, None).detach().numpy())\n",
    "        \n",
    "    return np.mean(sinkhorn_losses), np.std(sinkhorn_losses), np.mean(ged_losses), np.std(ged_losses)"
   ]
  },
  {
   "cell_type": "code",
   "execution_count": 44,
   "metadata": {},
   "outputs": [],
   "source": [
    "mfs_s, mfs_s_err, mfs_g, mfs_g_err = calculate_losses(mf_sinkhorn)\n",
    "mfg_s, mfg_s_err, mfg_g, mfg_g_err = calculate_losses(mf_ged)"
   ]
  },
  {
   "cell_type": "code",
   "execution_count": 46,
   "metadata": {},
   "outputs": [
    {
     "name": "stdout",
     "output_type": "stream",
     "text": [
      "Sinkhorn loss: Sinkhorn model -0.029649963602423668 +/- 0.0028731148689985276\n",
      "               GED model      -0.01351374015212059 +/- 0.00489116944372654\n",
      "GED loss:      Sinkhorn model -0.05749441310763359 +/- 0.011745116859674453\n",
      "               GED model      -0.015488267876207829 +/- 0.018498928844928743\n"
     ]
    }
   ],
   "source": [
    "print(\"Sinkhorn loss: Sinkhorn model {} +/- {}\".format(mfs_s, mfs_s_err / 25**0.5))\n",
    "print(\"               GED model      {} +/- {}\".format(mfg_s, mfg_s_err / 25**0.5))\n",
    "print(\"GED loss:      Sinkhorn model {} +/- {}\".format(mfs_g, mfs_g_err / 25**0.5))\n",
    "print(\"               GED model      {} +/- {}\".format(mfg_g, mfg_g_err / 25**0.5))"
   ]
  },
  {
   "cell_type": "code",
   "execution_count": 47,
   "metadata": {},
   "outputs": [],
   "source": [
    "mfs_s_large, mfs_s_large_err, mfs_g_large, mfs_g_large_err = calculate_losses(mf_sinkhorn, 5000, tests=5)\n",
    "mfg_s_large, mfg_s_large_err, mfg_g_large, mfg_g_large_err = calculate_losses(mf_ged, 5000, tests=5)"
   ]
  },
  {
   "cell_type": "code",
   "execution_count": 48,
   "metadata": {},
   "outputs": [
    {
     "name": "stdout",
     "output_type": "stream",
     "text": [
      "Sinkhorn loss: Sinkhorn model -0.05015917867422104 +/- 0.002777075756708633\n",
      "               GED model      -0.05232926458120346 +/- 0.0031953293393659596\n",
      "GED loss:      Sinkhorn model -0.19188883900642395 +/- 0.009126323078291282\n",
      "               GED model      -0.17760400474071503 +/- 0.015089282784708826\n"
     ]
    }
   ],
   "source": [
    "print(\"Sinkhorn loss: Sinkhorn model {} +/- {}\".format(mfs_s_large, mfs_s_large_err / 5**0.5))\n",
    "print(\"               GED model      {} +/- {}\".format(mfg_s_large, mfg_s_large_err / 5**0.5))\n",
    "print(\"GED loss:      Sinkhorn model {} +/- {}\".format(mfs_g_large, mfs_g_large_err / 5**0.5))\n",
    "print(\"               GED model      {} +/- {}\".format(mfg_g_large, mfg_g_large_err / 5**0.5))"
   ]
  },
  {
   "cell_type": "code",
   "execution_count": null,
   "metadata": {},
   "outputs": [],
   "source": []
  }
 ],
 "metadata": {
  "kernelspec": {
   "display_name": "Python (ML)",
   "language": "python",
   "name": "ml"
  },
  "language_info": {
   "codemirror_mode": {
    "name": "ipython",
    "version": 3
   },
   "file_extension": ".py",
   "mimetype": "text/x-python",
   "name": "python",
   "nbconvert_exporter": "python",
   "pygments_lexer": "ipython3",
   "version": "3.6.8"
  }
 },
 "nbformat": 4,
 "nbformat_minor": 2
}
