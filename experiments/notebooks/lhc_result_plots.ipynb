{
 "cells": [
  {
   "cell_type": "markdown",
   "metadata": {},
   "source": [
    "# Particle physics results"
   ]
  },
  {
   "cell_type": "markdown",
   "metadata": {},
   "source": [
    "## Setup"
   ]
  },
  {
   "cell_type": "code",
   "execution_count": 34,
   "metadata": {},
   "outputs": [],
   "source": [
    "%matplotlib inline\n",
    "\n",
    "import sys\n",
    "import numpy as np\n",
    "import matplotlib\n",
    "from matplotlib import pyplot as plt\n",
    "import corner\n",
    "from mpl_toolkits.mplot3d import Axes3D\n",
    "from sklearn.metrics import roc_auc_score\n",
    "\n",
    "sys.path.append(\"../../\")\n",
    "from experiments.simulators.collider import WBFLoader\n"
   ]
  },
  {
   "cell_type": "markdown",
   "metadata": {},
   "source": [
    "## Helper functions"
   ]
  },
  {
   "cell_type": "code",
   "execution_count": 35,
   "metadata": {},
   "outputs": [],
   "source": [
    "def plot_w_err(x, yvals, ls=\"-\", m=\" \", ms=6., c=\"black\", label=None, alpha=0.1, subtract_min=False, **kwargs):\n",
    "    y_mean, y_err = np.nanmean(yvals, axis=1), np.nanstd(yvals, axis=1)\n",
    "    if subtract_min:\n",
    "        y_mean -= np.min(y_mean)\n",
    "        \n",
    "    plt.fill_between(x, y_mean - y_err, y_mean + y_err, color=c, alpha=alpha)\n",
    "    plt.plot(x, y_mean, label=label, ls=ls, marker=m, ms=ms, c=c, **kwargs)"
   ]
  },
  {
   "cell_type": "code",
   "execution_count": 36,
   "metadata": {},
   "outputs": [],
   "source": [
    "def histo_w_err(\n",
    "    xvals, xmin, xmax, nbins,\n",
    "    ls=\"-\", m=\" \", ms=6., c=\"black\",\n",
    "    label=None, alpha=0.1,\n",
    "    subtract_min=False, plot_individual=False,\n",
    "    **kwargs\n",
    "):\n",
    "    # Calculate histograms\n",
    "    histos = []\n",
    "    for x in xvals:\n",
    "        histo, bin_edges = np.histogram(x, bins=nbins, range=(xmin, xmax), density=True)\n",
    "        histos.append(histo)\n",
    "    histos = np.array(histos)\n",
    "\n",
    "    # Mean and error band\n",
    "    y_mean, y_err = np.nanmean(histos, axis=0), np.nanstd(histos, axis=0)\n",
    "    \n",
    "    x_ = np.repeat(bin_edges, 2)[1:-1]\n",
    "    y_ = np.repeat(y_mean, 2)\n",
    "    y_err_ = np.repeat(y_err, 2)\n",
    "    yis_ = [np.repeat(y, 2) for y in histos]\n",
    "    \n",
    "    # Plot\n",
    "    plt.fill_between(x_, y_ - y_err_, y_ + y_err_, color=c, alpha=alpha)\n",
    "    plt.plot(x_, y_, label=label, ls=ls, marker=m, ms=ms, c=c, lw=1.5, **kwargs)\n",
    "    \n",
    "    if plot_individual:\n",
    "        for yi_ in yis_:\n",
    "            plt.plot(x_, yi_, ls=ls, lw=0.5, c=c)\n",
    "    "
   ]
  },
  {
   "cell_type": "markdown",
   "metadata": {},
   "source": [
    "## Load results"
   ]
  },
  {
   "cell_type": "code",
   "execution_count": 37,
   "metadata": {},
   "outputs": [],
   "source": [
    "n_runs = 3"
   ]
  },
  {
   "cell_type": "code",
   "execution_count": 38,
   "metadata": {},
   "outputs": [],
   "source": [
    "algo_filenames = []\n",
    "algo_additionals = []\n",
    "algo_labels = []\n",
    "algo_colors = []\n",
    "algo_markers = []\n",
    "algo_linestyles = []\n",
    "\n",
    "def add_algo(filename, add, label, c, m, ls):\n",
    "    algo_filenames.append(filename)\n",
    "    algo_additionals.append(add)\n",
    "    algo_labels.append(label)\n",
    "    algo_colors.append(c)\n",
    "    algo_markers.append(m)\n",
    "    algo_linestyles.append(ls)\n",
    "    \n",
    "add_algo(\"flow\", \"_march\", \"EF\", \"C0\", \"s\", \"-\")\n",
    "add_algo(\"pie\", \"_march\", \"PIE\", \"C4\", \"s\", \"--\") \n",
    "add_algo(\"mf\", \"_alternate_march\", \"MLF-A\", \"C3\", \"s\", \"-\")\n",
    "add_algo(\"gamf\", \"_march\", \"MLF-OT\", \"C1\", \"s\", \"--\") \n",
    "add_algo(\"gamf\", \"_alternate_march\", \"MLF-OTA\", \"C1\", \"s\", \"-\") \n",
    "add_algo(\"emf\", \"_alternate_march\", \"EMLF-A\", \"C2\", \"s\", \"-\")\n"
   ]
  },
  {
   "cell_type": "code",
   "execution_count": 48,
   "metadata": {},
   "outputs": [
    {
     "name": "stdout",
     "output_type": "stream",
     "text": [
      "[Errno 2] No such file or directory: '../data/results/flow_14_lhc_march_run1_samples.npy'\n",
      "[Errno 2] No such file or directory: '../data/results/flow_14_lhc_march_run2_samples.npy'\n",
      "[Errno 2] No such file or directory: '../data/results/pie_14_lhc_march_samples.npy'\n",
      "[Errno 2] No such file or directory: '../data/results/pie_14_lhc_march_run1_samples.npy'\n",
      "[Errno 2] No such file or directory: '../data/results/pie_14_lhc_march_run2_samples.npy'\n",
      "[Errno 2] No such file or directory: '../data/results/mf_14_lhc_alternate_march_samples.npy'\n",
      "[Errno 2] No such file or directory: '../data/results/mf_14_lhc_alternate_march_run1_samples.npy'\n",
      "[Errno 2] No such file or directory: '../data/results/mf_14_lhc_alternate_march_run2_samples.npy'\n",
      "[Errno 2] No such file or directory: '../data/results/gamf_14_lhc_march_samples.npy'\n",
      "[Errno 2] No such file or directory: '../data/results/gamf_14_lhc_march_run1_samples.npy'\n",
      "[Errno 2] No such file or directory: '../data/results/gamf_14_lhc_march_run2_samples.npy'\n",
      "[Errno 2] No such file or directory: '../data/results/gamf_14_lhc_alternate_march_samples.npy'\n",
      "[Errno 2] No such file or directory: '../data/results/gamf_14_lhc_alternate_march_run1_samples.npy'\n",
      "[Errno 2] No such file or directory: '../data/results/gamf_14_lhc_alternate_march_run2_samples.npy'\n",
      "[Errno 2] No such file or directory: '../data/results/emf_14_lhc_alternate_march_samples.npy'\n",
      "[Errno 2] No such file or directory: '../data/results/emf_14_lhc_alternate_march_run1_samples.npy'\n",
      "[Errno 2] No such file or directory: '../data/results/emf_14_lhc_alternate_march_run2_samples.npy'\n",
      "[Errno 2] No such file or directory: '../data/results/flow_14_lhc_march_run1_samples_manifold_distance.npy'\n",
      "[Errno 2] No such file or directory: '../data/results/flow_14_lhc_march_run2_samples_manifold_distance.npy'\n",
      "[Errno 2] No such file or directory: '../data/results/pie_14_lhc_march_samples_manifold_distance.npy'\n",
      "[Errno 2] No such file or directory: '../data/results/pie_14_lhc_march_run1_samples_manifold_distance.npy'\n",
      "[Errno 2] No such file or directory: '../data/results/pie_14_lhc_march_run2_samples_manifold_distance.npy'\n",
      "[Errno 2] No such file or directory: '../data/results/mf_14_lhc_alternate_march_samples_manifold_distance.npy'\n",
      "[Errno 2] No such file or directory: '../data/results/mf_14_lhc_alternate_march_run1_samples_manifold_distance.npy'\n",
      "[Errno 2] No such file or directory: '../data/results/mf_14_lhc_alternate_march_run2_samples_manifold_distance.npy'\n",
      "[Errno 2] No such file or directory: '../data/results/gamf_14_lhc_march_samples_manifold_distance.npy'\n",
      "[Errno 2] No such file or directory: '../data/results/gamf_14_lhc_march_run1_samples_manifold_distance.npy'\n",
      "[Errno 2] No such file or directory: '../data/results/gamf_14_lhc_march_run2_samples_manifold_distance.npy'\n",
      "[Errno 2] No such file or directory: '../data/results/gamf_14_lhc_alternate_march_samples_manifold_distance.npy'\n",
      "[Errno 2] No such file or directory: '../data/results/gamf_14_lhc_alternate_march_run1_samples_manifold_distance.npy'\n",
      "[Errno 2] No such file or directory: '../data/results/gamf_14_lhc_alternate_march_run2_samples_manifold_distance.npy'\n",
      "[Errno 2] No such file or directory: '../data/results/emf_14_lhc_alternate_march_samples_manifold_distance.npy'\n",
      "[Errno 2] No such file or directory: '../data/results/emf_14_lhc_alternate_march_run1_samples_manifold_distance.npy'\n",
      "[Errno 2] No such file or directory: '../data/results/emf_14_lhc_alternate_march_run2_samples_manifold_distance.npy'\n",
      "[Errno 2] No such file or directory: '../data/results/flow_14_lhc_march_run1_model_log_likelihood_test.npy'\n",
      "[Errno 2] No such file or directory: '../data/results/flow_14_lhc_march_run2_model_log_likelihood_test.npy'\n",
      "[Errno 2] No such file or directory: '../data/results/pie_14_lhc_march_model_log_likelihood_test.npy'\n",
      "[Errno 2] No such file or directory: '../data/results/pie_14_lhc_march_run1_model_log_likelihood_test.npy'\n",
      "[Errno 2] No such file or directory: '../data/results/pie_14_lhc_march_run2_model_log_likelihood_test.npy'\n",
      "[Errno 2] No such file or directory: '../data/results/mf_14_lhc_alternate_march_model_log_likelihood_test.npy'\n",
      "[Errno 2] No such file or directory: '../data/results/mf_14_lhc_alternate_march_run1_model_log_likelihood_test.npy'\n",
      "[Errno 2] No such file or directory: '../data/results/mf_14_lhc_alternate_march_run2_model_log_likelihood_test.npy'\n",
      "[Errno 2] No such file or directory: '../data/results/gamf_14_lhc_march_model_log_likelihood_test.npy'\n",
      "[Errno 2] No such file or directory: '../data/results/gamf_14_lhc_march_run1_model_log_likelihood_test.npy'\n",
      "[Errno 2] No such file or directory: '../data/results/gamf_14_lhc_march_run2_model_log_likelihood_test.npy'\n",
      "[Errno 2] No such file or directory: '../data/results/gamf_14_lhc_alternate_march_model_log_likelihood_test.npy'\n",
      "[Errno 2] No such file or directory: '../data/results/gamf_14_lhc_alternate_march_run1_model_log_likelihood_test.npy'\n",
      "[Errno 2] No such file or directory: '../data/results/gamf_14_lhc_alternate_march_run2_model_log_likelihood_test.npy'\n",
      "[Errno 2] No such file or directory: '../data/results/emf_14_lhc_alternate_march_model_log_likelihood_test.npy'\n",
      "[Errno 2] No such file or directory: '../data/results/emf_14_lhc_alternate_march_run1_model_log_likelihood_test.npy'\n",
      "[Errno 2] No such file or directory: '../data/results/emf_14_lhc_alternate_march_run2_model_log_likelihood_test.npy'\n",
      "[Errno 2] No such file or directory: '../data/results/flow_14_lhc_march_run1_model_reco_error_test.npy'\n",
      "[Errno 2] No such file or directory: '../data/results/flow_14_lhc_march_run2_model_reco_error_test.npy'\n",
      "[Errno 2] No such file or directory: '../data/results/pie_14_lhc_march_model_reco_error_test.npy'\n",
      "[Errno 2] No such file or directory: '../data/results/pie_14_lhc_march_run1_model_reco_error_test.npy'\n",
      "[Errno 2] No such file or directory: '../data/results/pie_14_lhc_march_run2_model_reco_error_test.npy'\n",
      "[Errno 2] No such file or directory: '../data/results/mf_14_lhc_alternate_march_model_reco_error_test.npy'\n",
      "[Errno 2] No such file or directory: '../data/results/mf_14_lhc_alternate_march_run1_model_reco_error_test.npy'\n",
      "[Errno 2] No such file or directory: '../data/results/mf_14_lhc_alternate_march_run2_model_reco_error_test.npy'\n",
      "[Errno 2] No such file or directory: '../data/results/gamf_14_lhc_march_model_reco_error_test.npy'\n",
      "[Errno 2] No such file or directory: '../data/results/gamf_14_lhc_march_run1_model_reco_error_test.npy'\n",
      "[Errno 2] No such file or directory: '../data/results/gamf_14_lhc_march_run2_model_reco_error_test.npy'\n",
      "[Errno 2] No such file or directory: '../data/results/gamf_14_lhc_alternate_march_model_reco_error_test.npy'\n",
      "[Errno 2] No such file or directory: '../data/results/gamf_14_lhc_alternate_march_run1_model_reco_error_test.npy'\n",
      "[Errno 2] No such file or directory: '../data/results/gamf_14_lhc_alternate_march_run2_model_reco_error_test.npy'\n",
      "[Errno 2] No such file or directory: '../data/results/emf_14_lhc_alternate_march_model_reco_error_test.npy'\n",
      "[Errno 2] No such file or directory: '../data/results/emf_14_lhc_alternate_march_run1_model_reco_error_test.npy'\n",
      "[Errno 2] No such file or directory: '../data/results/emf_14_lhc_alternate_march_run2_model_reco_error_test.npy'\n",
      "[Errno 2] No such file or directory: '../data/results/flow_14_lhc_march_run1_model_log_likelihood_ood.npy'\n",
      "[Errno 2] No such file or directory: '../data/results/flow_14_lhc_march_run2_model_log_likelihood_ood.npy'\n",
      "[Errno 2] No such file or directory: '../data/results/pie_14_lhc_march_model_log_likelihood_ood.npy'\n",
      "[Errno 2] No such file or directory: '../data/results/pie_14_lhc_march_run1_model_log_likelihood_ood.npy'\n",
      "[Errno 2] No such file or directory: '../data/results/pie_14_lhc_march_run2_model_log_likelihood_ood.npy'\n",
      "[Errno 2] No such file or directory: '../data/results/mf_14_lhc_alternate_march_model_log_likelihood_ood.npy'\n",
      "[Errno 2] No such file or directory: '../data/results/mf_14_lhc_alternate_march_run1_model_log_likelihood_ood.npy'\n",
      "[Errno 2] No such file or directory: '../data/results/mf_14_lhc_alternate_march_run2_model_log_likelihood_ood.npy'\n",
      "[Errno 2] No such file or directory: '../data/results/gamf_14_lhc_march_model_log_likelihood_ood.npy'\n",
      "[Errno 2] No such file or directory: '../data/results/gamf_14_lhc_march_run1_model_log_likelihood_ood.npy'\n",
      "[Errno 2] No such file or directory: '../data/results/gamf_14_lhc_march_run2_model_log_likelihood_ood.npy'\n",
      "[Errno 2] No such file or directory: '../data/results/gamf_14_lhc_alternate_march_model_log_likelihood_ood.npy'\n",
      "[Errno 2] No such file or directory: '../data/results/gamf_14_lhc_alternate_march_run1_model_log_likelihood_ood.npy'\n",
      "[Errno 2] No such file or directory: '../data/results/gamf_14_lhc_alternate_march_run2_model_log_likelihood_ood.npy'\n",
      "[Errno 2] No such file or directory: '../data/results/emf_14_lhc_alternate_march_model_log_likelihood_ood.npy'\n",
      "[Errno 2] No such file or directory: '../data/results/emf_14_lhc_alternate_march_run1_model_log_likelihood_ood.npy'\n",
      "[Errno 2] No such file or directory: '../data/results/emf_14_lhc_alternate_march_run2_model_log_likelihood_ood.npy'\n",
      "[Errno 2] No such file or directory: '../data/results/flow_14_lhc_march_run1_model_reco_error_ood.npy'\n",
      "[Errno 2] No such file or directory: '../data/results/flow_14_lhc_march_run2_model_reco_error_ood.npy'\n",
      "[Errno 2] No such file or directory: '../data/results/pie_14_lhc_march_model_reco_error_ood.npy'\n",
      "[Errno 2] No such file or directory: '../data/results/pie_14_lhc_march_run1_model_reco_error_ood.npy'\n",
      "[Errno 2] No such file or directory: '../data/results/pie_14_lhc_march_run2_model_reco_error_ood.npy'\n",
      "[Errno 2] No such file or directory: '../data/results/mf_14_lhc_alternate_march_model_reco_error_ood.npy'\n",
      "[Errno 2] No such file or directory: '../data/results/mf_14_lhc_alternate_march_run1_model_reco_error_ood.npy'\n",
      "[Errno 2] No such file or directory: '../data/results/mf_14_lhc_alternate_march_run2_model_reco_error_ood.npy'\n",
      "[Errno 2] No such file or directory: '../data/results/gamf_14_lhc_march_model_reco_error_ood.npy'\n",
      "[Errno 2] No such file or directory: '../data/results/gamf_14_lhc_march_run1_model_reco_error_ood.npy'\n",
      "[Errno 2] No such file or directory: '../data/results/gamf_14_lhc_march_run2_model_reco_error_ood.npy'\n",
      "[Errno 2] No such file or directory: '../data/results/gamf_14_lhc_alternate_march_model_reco_error_ood.npy'\n",
      "[Errno 2] No such file or directory: '../data/results/gamf_14_lhc_alternate_march_run1_model_reco_error_ood.npy'\n",
      "[Errno 2] No such file or directory: '../data/results/gamf_14_lhc_alternate_march_run2_model_reco_error_ood.npy'\n",
      "[Errno 2] No such file or directory: '../data/results/emf_14_lhc_alternate_march_model_reco_error_ood.npy'\n",
      "[Errno 2] No such file or directory: '../data/results/emf_14_lhc_alternate_march_run1_model_reco_error_ood.npy'\n",
      "[Errno 2] No such file or directory: '../data/results/emf_14_lhc_alternate_march_run2_model_reco_error_ood.npy'\n",
      "[Errno 2] No such file or directory: '../data/results/flow_14_lhc_march_run1_posterior_samples.npy'\n",
      "[Errno 2] No such file or directory: '../data/results/flow_14_lhc_march_run2_posterior_samples.npy'\n",
      "[Errno 2] No such file or directory: '../data/results/pie_14_lhc_march_posterior_samples.npy'\n",
      "[Errno 2] No such file or directory: '../data/results/pie_14_lhc_march_run1_posterior_samples.npy'\n",
      "[Errno 2] No such file or directory: '../data/results/pie_14_lhc_march_run2_posterior_samples.npy'\n",
      "[Errno 2] No such file or directory: '../data/results/mf_14_lhc_alternate_march_posterior_samples.npy'\n",
      "[Errno 2] No such file or directory: '../data/results/mf_14_lhc_alternate_march_run1_posterior_samples.npy'\n",
      "[Errno 2] No such file or directory: '../data/results/mf_14_lhc_alternate_march_run2_posterior_samples.npy'\n",
      "[Errno 2] No such file or directory: '../data/results/gamf_14_lhc_march_posterior_samples.npy'\n",
      "[Errno 2] No such file or directory: '../data/results/gamf_14_lhc_march_run1_posterior_samples.npy'\n",
      "[Errno 2] No such file or directory: '../data/results/gamf_14_lhc_march_run2_posterior_samples.npy'\n",
      "[Errno 2] No such file or directory: '../data/results/gamf_14_lhc_alternate_march_posterior_samples.npy'\n",
      "[Errno 2] No such file or directory: '../data/results/gamf_14_lhc_alternate_march_run1_posterior_samples.npy'\n",
      "[Errno 2] No such file or directory: '../data/results/gamf_14_lhc_alternate_march_run2_posterior_samples.npy'\n",
      "[Errno 2] No such file or directory: '../data/results/emf_14_lhc_alternate_march_posterior_samples.npy'\n",
      "[Errno 2] No such file or directory: '../data/results/emf_14_lhc_alternate_march_run1_posterior_samples.npy'\n",
      "[Errno 2] No such file or directory: '../data/results/emf_14_lhc_alternate_march_run2_posterior_samples.npy'\n"
     ]
    }
   ],
   "source": [
    "def load(name, shape, numpyfy=True, result_dir=\"../data/results\"):\n",
    "    all_results = []\n",
    "    \n",
    "    for algo_filename, algo_add in zip(algo_filenames, algo_additionals):\n",
    "        algo_results = []\n",
    "            \n",
    "        for run in range(n_runs):\n",
    "            run_str = \"\" if run == 0 else \"_run{}\".format(run)\n",
    "            try:\n",
    "                this_result = np.load(\n",
    "                    \"{}/{}_14_lhc{}{}_{}.npy\".format(\n",
    "                        result_dir, algo_filename, algo_add, run_str, name\n",
    "                    )\n",
    "                )\n",
    "                if (not numpyfy) or (shape is None) or np.product(this_result.shape) == np.product(shape):\n",
    "                    algo_results.append(this_result.reshape(shape))\n",
    "                else:\n",
    "                    algo_results.append(np.nan*np.ones(shape))\n",
    "                    \n",
    "            except FileNotFoundError as e:\n",
    "                print(e)\n",
    "                if shape is None:\n",
    "                    algo_results.append(None)\n",
    "                else:\n",
    "                    algo_results.append(np.nan*np.ones(shape))\n",
    "            \n",
    "        all_results.append(algo_results)\n",
    "    \n",
    "    if numpyfy:\n",
    "        all_results = np.array(all_results, dtype=np.float)\n",
    "        \n",
    "    return all_results\n",
    "\n",
    "\n",
    "model_gen_x = load(\"samples\", None, numpyfy=False)\n",
    "model_gen_closure = load(\"samples_manifold_distance\", (10000,))\n",
    "model_test_logp = load(\"model_log_likelihood_test\", (101, 1000,))\n",
    "model_test_reco_error = load(\"model_reco_error_test\", (1000,))\n",
    "model_ood_logp = load(\"model_log_likelihood_ood\", (101, 1000,))\n",
    "model_ood_reco_error = load(\"model_reco_error_ood\", (1000,))\n",
    "model_posterior_samples = load(\"posterior_samples\", (5000, 1,))\n"
   ]
  },
  {
   "cell_type": "code",
   "execution_count": 43,
   "metadata": {},
   "outputs": [],
   "source": [
    "sim = WBFLoader()\n",
    "\n",
    "test_x, _ = sim.load_dataset(train=False, dataset_dir=\"../data/samples/lhc\", numpy=True)\n",
    "\n",
    "test_closure = sim.distance_from_manifold(test_x)"
   ]
  },
  {
   "cell_type": "code",
   "execution_count": 44,
   "metadata": {},
   "outputs": [],
   "source": [
    "def remove_nans(*results):\n",
    "    passes = all([np.all(np.isfinite(result)) for result in results])\n",
    "    \n",
    "    if passes:\n",
    "        return results\n",
    "    else:\n",
    "        return [np.nan * np.ones_like(result) for result in results]\n",
    "\n",
    "\n",
    "def remove_nans_from_lists(*raws):\n",
    "    # raws[quantity][algo]\n",
    "    n_quantities = len(raws)\n",
    "    n_algos = len(raws[0])\n",
    "    \n",
    "    for raw in raws:\n",
    "        assert len(raw) == n_algos\n",
    "    \n",
    "    cleans = [[[] for _ in range(n_algos)] for _ in range(n_quantities)]\n",
    "    \n",
    "    for i in range(n_algos):\n",
    "        for k in range(n_runs):\n",
    "            clean = remove_nans(*[raw[i][k] for raw in raws])\n",
    "            for j in range(n_quantities):\n",
    "                cleans[j][i].append(clean[j])\n",
    "            \n",
    "    cleans = [np.array(clean) for clean in cleans]\n",
    "    \n",
    "    # cleans[quantity][algo]\n",
    "    return cleans\n",
    "            \n",
    "raw = [model_gen_closure, model_posterior_samples]\n",
    "clean = remove_nans_from_lists(*raw)\n",
    "model_gen_closure, model_posterior_samples = clean\n"
   ]
  },
  {
   "cell_type": "markdown",
   "metadata": {},
   "source": [
    "## Calculate metrics"
   ]
  },
  {
   "cell_type": "code",
   "execution_count": 45,
   "metadata": {},
   "outputs": [],
   "source": [
    "n_observed = 20\n",
    "min_logp = -100.\n",
    "max_closure = 1.e9\n",
    "\n",
    "test_mean_closure = np.mean(np.clip(test_closure, None, max_closure), axis=-1)\n",
    "\n",
    "model_gen_mean_closure = np.mean(np.clip(model_gen_closure, None, max_closure), axis=2)\n",
    "model_expected_nll = -2. * np.mean(model_test_logp[:,:,:,:], axis=-1)\n",
    "model_observed_nll = -2. * np.sum(model_test_logp[:,:,:,:n_observed], axis=-1)\n",
    "model_posterior_mean_difference = np.mean(model_posterior_samples, axis=1)\n"
   ]
  },
  {
   "cell_type": "markdown",
   "metadata": {},
   "source": [
    "## Generative mode: closure test"
   ]
  },
  {
   "cell_type": "code",
   "execution_count": 46,
   "metadata": {},
   "outputs": [
    {
     "name": "stderr",
     "output_type": "stream",
     "text": [
      "/Users/johannbrehmer/anaconda3/envs/ml/lib/python3.6/site-packages/numpy/lib/histograms.py:893: RuntimeWarning: invalid value encountered in true_divide\n",
      "  return n/db/n.sum(), bin_edges\n",
      "/Users/johannbrehmer/anaconda3/envs/ml/lib/python3.6/site-packages/ipykernel_launcher.py:16: RuntimeWarning: Mean of empty slice\n",
      "  app.launch_new_instance()\n",
      "/Users/johannbrehmer/anaconda3/envs/ml/lib/python3.6/site-packages/numpy/lib/nanfunctions.py:1628: RuntimeWarning: Degrees of freedom <= 0 for slice.\n",
      "  keepdims=keepdims)\n"
     ]
    },
    {
     "data": {
      "image/png": "[encoded data removed]",
      "text/plain": [
       "<Figure size 288x288 with 1 Axes>"
      ]
     },
     "metadata": {
      "needs_background": "light"
     },
     "output_type": "display_data"
    }
   ],
   "source": [
    "xmin, xmax = 0.,0.1\n",
    "bins = 50\n",
    "\n",
    "fig = plt.figure(figsize=(4, 4))\n",
    "ax = plt.gca()\n",
    "    \n",
    "histo_w_err(\n",
    "    test_mean_closure[np.newaxis],\n",
    "    xmin, xmax, bins,\n",
    "    label=\"Simulator\",\n",
    "    c=\"black\",\n",
    ")\n",
    "\n",
    "for algo, (algo_label, c, m, ls) in enumerate(zip(algo_labels, algo_colors, algo_markers, algo_linestyles)):\n",
    "    histo_w_err(\n",
    "        model_gen_mean_closure[algo, :],\n",
    "        xmin, xmax, bins,\n",
    "        label=algo_label,\n",
    "        c=c,\n",
    "        ls=ls,\n",
    "    )\n",
    "\n",
    "plt.legend()\n",
    "\n",
    "plt.xlabel(r\"Closure\")\n",
    "plt.ylabel(r\"Histogram\")\n",
    "plt.xlim(xmin, xmax)\n",
    "plt.yscale(\"log\")\n",
    "plt.ylim(1.e-1, 1.e3)\n",
    "    \n",
    "plt.tight_layout()\n",
    "plt.savefig(\"../figures/generated_samples_distance_distribution_power.pdf\")\n"
   ]
  },
  {
   "cell_type": "markdown",
   "metadata": {},
   "source": [
    "## Likelihood maps"
   ]
  },
  {
   "cell_type": "code",
   "execution_count": 52,
   "metadata": {},
   "outputs": [
    {
     "ename": "NameError",
     "evalue": "name 'model_expected_nll' is not defined",
     "output_type": "error",
     "traceback": [
      "\u001b[0;31m---------------------------------------------------------------------------\u001b[0m",
      "\u001b[0;31mNameError\u001b[0m                                 Traceback (most recent call last)",
      "\u001b[0;32m<ipython-input-52-4a8d98315e19>\u001b[0m in \u001b[0;36m<module>\u001b[0;34m\u001b[0m\n\u001b[1;32m      6\u001b[0m \u001b[0mfig\u001b[0m \u001b[0;34m=\u001b[0m \u001b[0mplt\u001b[0m\u001b[0;34m.\u001b[0m\u001b[0mfigure\u001b[0m\u001b[0;34m(\u001b[0m\u001b[0mfigsize\u001b[0m\u001b[0;34m=\u001b[0m\u001b[0;34m(\u001b[0m\u001b[0mncols\u001b[0m\u001b[0;34m*\u001b[0m\u001b[0;36m4\u001b[0m\u001b[0;34m,\u001b[0m \u001b[0mnrows\u001b[0m\u001b[0;34m*\u001b[0m\u001b[0;36m4\u001b[0m\u001b[0;34m)\u001b[0m\u001b[0;34m)\u001b[0m\u001b[0;34m\u001b[0m\u001b[0;34m\u001b[0m\u001b[0m\n\u001b[1;32m      7\u001b[0m \u001b[0;34m\u001b[0m\u001b[0m\n\u001b[0;32m----> 8\u001b[0;31m \u001b[0;32mfor\u001b[0m \u001b[0mi\u001b[0m\u001b[0;34m,\u001b[0m \u001b[0;34m(\u001b[0m\u001b[0mlabel\u001b[0m\u001b[0;34m,\u001b[0m \u001b[0mnll\u001b[0m\u001b[0;34m)\u001b[0m \u001b[0;32min\u001b[0m \u001b[0menumerate\u001b[0m\u001b[0;34m(\u001b[0m\u001b[0mzip\u001b[0m\u001b[0;34m(\u001b[0m\u001b[0malgo_labels\u001b[0m\u001b[0;34m,\u001b[0m \u001b[0mmodel_expected_nll\u001b[0m\u001b[0;34m)\u001b[0m\u001b[0;34m)\u001b[0m\u001b[0;34m:\u001b[0m\u001b[0;34m\u001b[0m\u001b[0;34m\u001b[0m\u001b[0m\n\u001b[0m\u001b[1;32m      9\u001b[0m     \u001b[0max\u001b[0m \u001b[0;34m=\u001b[0m \u001b[0mplt\u001b[0m\u001b[0;34m.\u001b[0m\u001b[0msubplot\u001b[0m\u001b[0;34m(\u001b[0m\u001b[0mnrows\u001b[0m\u001b[0;34m,\u001b[0m \u001b[0mncols\u001b[0m\u001b[0;34m,\u001b[0m \u001b[0mi\u001b[0m \u001b[0;34m+\u001b[0m \u001b[0;36m1\u001b[0m\u001b[0;34m)\u001b[0m\u001b[0;34m\u001b[0m\u001b[0;34m\u001b[0m\u001b[0m\n\u001b[1;32m     10\u001b[0m \u001b[0;34m\u001b[0m\u001b[0m\n",
      "\u001b[0;31mNameError\u001b[0m: name 'model_expected_nll' is not defined"
     ]
    },
    {
     "data": {
      "text/plain": [
       "<Figure size 864x576 with 0 Axes>"
      ]
     },
     "metadata": {},
     "output_type": "display_data"
    }
   ],
   "source": [
    "cmin, cmax = 0.,10.\n",
    "extent = (-1. - 0.5 * 2. / 11, 1. + 0.5 * 2. / 11, -1. - 0.5 * 2. / 11, 1. + 0.5 * 2. / 11)\n",
    "\n",
    "ncols = 3\n",
    "nrows = (len(algo_labels) - 1) // ncols + 1\n",
    "\n",
    "fig = plt.figure(figsize=(ncols*4, nrows*4))\n",
    "\n",
    "for i, (label, nll) in enumerate(zip(algo_labels, model_expected_nll)):\n",
    "    ax = plt.subplot(nrows, ncols, i + 1)\n",
    "    \n",
    "    logp = np.mean(nll, axis=1)\n",
    "    logp = logp.reshape((11,11)) - np.min(logp)\n",
    "    logp = np.clip(logp, cmin, cmax)\n",
    "                                 \n",
    "    im = plt.imshow(logp.T, extent=extent, vmin=cmin, vmax=cmax, origin=\"lower\", cmap=\"viridis_r\")\n",
    "    cb = plt.colorbar(im, extend=\"both\")\n",
    "    plt.scatter([0.], [0.], marker=\"*\", size=50, color=\"white\")\n",
    "\n",
    "    plt.title(label, fontsize=11)\n",
    "    plt.xlabel(r\"$\\theta_0$\")\n",
    "    plt.ylabel(r\"$\\theta_1$\")\n",
    "    cb.set_label(r\"$-2 \\Delta \\mathbb{E}[\\log p]$\")\n",
    "\n",
    "plt.tight_layout()\n",
    "plt.savefig(\"../figures/likelihood_observed_lhc.pdf\")\n"
   ]
  },
  {
   "cell_type": "code",
   "execution_count": null,
   "metadata": {},
   "outputs": [],
   "source": [
    "cmin, cmax = 0.,10.\n",
    "extent = (-1. - 0.5 * 2. / 11, 1. + 0.5 * 2. / 11, -1. - 0.5 * 2. / 11, 1. + 0.5 * 2. / 11)\n",
    "\n",
    "ncols = 3\n",
    "nrows = (len(algo_labels) - 1) // ncols + 1\n",
    "\n",
    "fig = plt.figure(figsize=(ncols*4, nrows*4))\n",
    "\n",
    "for i, (label, nll) in enumerate(zip(algo_labels, model_observed_nll)):\n",
    "    ax = plt.subplot(nrows, ncols, i + 1)\n",
    "    \n",
    "    logp = np.mean(nll, axis=1)\n",
    "    logp = logp.reshape((11,11)) - np.min(logp)\n",
    "    logp = np.clip(logp, cmin, cmax)\n",
    "                                 \n",
    "    im = plt.imshow(logp.T, extent=extent, vmin=cmin, vmax=cmax, origin=\"lower\", cmap=\"viridis_r\")\n",
    "    cb = plt.colorbar(im, extend=\"both\")\n",
    "    plt.scatter([0.], [0.], marker=\"*\", size=50, color=\"white\")\n",
    "\n",
    "    plt.title(label, fontsize=11)\n",
    "    plt.xlabel(r\"$\\theta_0$\")\n",
    "    plt.ylabel(r\"$\\theta_1$\")\n",
    "    cb.set_label(r\"$-2 \\Delta \\mathbb{E}[\\log p]$\")\n",
    "\n",
    "plt.tight_layout()\n",
    "plt.savefig(\"../figures/likelihood_observed_lhc.pdf\")\n"
   ]
  },
  {
   "cell_type": "markdown",
   "metadata": {},
   "source": [
    "## Posterior plots"
   ]
  },
  {
   "cell_type": "code",
   "execution_count": 23,
   "metadata": {},
   "outputs": [
    {
     "name": "stderr",
     "output_type": "stream",
     "text": [
      "/Users/johannbrehmer/anaconda3/envs/ml/lib/python3.6/site-packages/numpy/lib/histograms.py:824: RuntimeWarning: invalid value encountered in greater_equal\n",
      "  keep = (tmp_a >= first_edge)\n",
      "/Users/johannbrehmer/anaconda3/envs/ml/lib/python3.6/site-packages/numpy/lib/histograms.py:825: RuntimeWarning: invalid value encountered in less_equal\n",
      "  keep &= (tmp_a <= last_edge)\n",
      "/Users/johannbrehmer/anaconda3/envs/ml/lib/python3.6/site-packages/numpy/lib/histograms.py:893: RuntimeWarning: invalid value encountered in true_divide\n",
      "  return n/db/n.sum(), bin_edges\n",
      "/Users/johannbrehmer/anaconda3/envs/ml/lib/python3.6/site-packages/ipykernel_launcher.py:16: RuntimeWarning: Mean of empty slice\n",
      "  app.launch_new_instance()\n",
      "/Users/johannbrehmer/anaconda3/envs/ml/lib/python3.6/site-packages/numpy/lib/nanfunctions.py:1628: RuntimeWarning: Degrees of freedom <= 0 for slice.\n",
      "  keepdims=keepdims)\n"
     ]
    },
    {
     "data": {
      "image/png": "[encoded data removed]",
      "text/plain": [
       "<Figure size 288x288 with 1 Axes>"
      ]
     },
     "metadata": {
      "needs_background": "light"
     },
     "output_type": "display_data"
    }
   ],
   "source": [
    "skip = 20\n",
    "extent = (-1. - 0.5 * 2. / 11, 1. + 0.5 * 2. / 11, -1. - 0.5 * 2. / 11, 1. + 0.5 * 2. / 11)\n",
    "\n",
    "ncols = 3\n",
    "nrows = (len(algo_labels) - 1) // ncols + 1\n",
    "\n",
    "fig = plt.figure(figsize=(ncols*4, nrows*4))\n",
    "\n",
    "for i, (label, posteriors) in enumerate(zip(algo_labels, model_posterior_samples)):\n",
    "    ax = plt.subplot(nrows, ncols, i + 1)\n",
    "    \n",
    "    for posterior, c in zip(posteriors, [\"C0\", \"C1\", \"C2\"]:\n",
    "        plt.scatter(posterior[::skip, 0], posterior[::skip, 1], c=c, size=5.)\n",
    "    plt.scatter([0.], [0.], marker=\"*\", size=50, color=\"black\")\n",
    "\n",
    "    plt.title(label, fontsize=11)\n",
    "    plt.xlabel(r\"$\\theta_0$\")\n",
    "    plt.ylabel(r\"$\\theta_1$\")\n",
    "\n",
    "plt.tight_layout()\n",
    "plt.savefig(\"../figures/posterior_lhc.pdf\")\n"
   ]
  },
  {
   "cell_type": "code",
   "execution_count": null,
   "metadata": {},
   "outputs": [],
   "source": []
  }
 ],
 "metadata": {
  "kernelspec": {
   "display_name": "Python (ML)",
   "language": "python",
   "name": "ml"
  },
  "language_info": {
   "codemirror_mode": {
    "name": "ipython",
    "version": 3
   },
   "file_extension": ".py",
   "mimetype": "text/x-python",
   "name": "python",
   "nbconvert_exporter": "python",
   "pygments_lexer": "ipython3",
   "version": "3.6.8"
  }
 },
 "nbformat": 4,
 "nbformat_minor": 2
}
