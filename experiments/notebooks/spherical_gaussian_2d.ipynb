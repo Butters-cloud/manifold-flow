{
 "cells": [
  {
   "cell_type": "markdown",
   "metadata": {},
   "source": [
    "# Spherical Gaussian experiment (2D)"
   ]
  },
  {
   "cell_type": "markdown",
   "metadata": {},
   "source": [
    "## Setup"
   ]
  },
  {
   "cell_type": "code",
   "execution_count": 1,
   "metadata": {},
   "outputs": [],
   "source": [
    "import sys\n",
    "import numpy as np\n",
    "import matplotlib\n",
    "from matplotlib import pyplot as plt\n",
    "import torch\n",
    "from torch.utils.data import TensorDataset\n",
    "import logging\n",
    "\n",
    "\n",
    "sys.path.append(\"../../\")\n",
    "from manifold_flow import transforms, utils, distributions, training\n",
    "from manifold_flow.flows import Flow, ManifoldFlow\n",
    "from manifold_flow import nn as nn_\n",
    "from experiments.simulators.spherical_simulator import SphericalGaussianSimulator\n",
    "from experiments.utils import vector_transforms\n",
    "\n",
    "%matplotlib inline\n",
    "\n",
    "logging.basicConfig(\n",
    "    format=\"%(asctime)-5.5s %(name)-30.30s %(levelname)-7.7s %(message)s\",\n",
    "    datefmt=\"%H:%M\",\n",
    "    level=logging.DEBUG,\n",
    ")\n",
    "logger = logging.getLogger(__name__)\n",
    "# Output of all other modules (e.g. matplotlib)\n",
    "for key in logging.Logger.manager.loggerDict:\n",
    "    if \"experiments\" not in key and \"manifold_flow\" not in key:\n",
    "        logging.getLogger(key).setLevel(logging.WARNING)\n"
   ]
  },
  {
   "cell_type": "markdown",
   "metadata": {},
   "source": [
    "### Settings"
   ]
  },
  {
   "cell_type": "code",
   "execution_count": 2,
   "metadata": {},
   "outputs": [],
   "source": [
    "epochs = 12\n",
    "n_train = 100000\n",
    "epsilon = 0.01"
   ]
  },
  {
   "cell_type": "markdown",
   "metadata": {},
   "source": [
    "### Data"
   ]
  },
  {
   "cell_type": "code",
   "execution_count": 3,
   "metadata": {},
   "outputs": [],
   "source": [
    "simulator = SphericalGaussianSimulator(latent_dim=1, data_dim=2, epsilon=epsilon)\n",
    "x = simulator.sample(n_train)\n",
    "x_tensor = torch.from_numpy(x)\n",
    "train_dataset = TensorDataset(x_tensor, x_tensor)"
   ]
  },
  {
   "cell_type": "code",
   "execution_count": 4,
   "metadata": {},
   "outputs": [
    {
     "name": "stderr",
     "output_type": "stream",
     "text": [
      "12:50 experiments.simulators.spheric DEBUG   Evaluating true log density for x = [-1.4 -1.4]\n",
      "12:50 experiments.simulators.spheric DEBUG   Latent variables: z_phi = [3.92699082], z_eps = [0.97989899]\n",
      "../../experiments/simulators/spherical_simulator.py:108: RuntimeWarning: divide by zero encountered in log\n",
      "  logp_eps = np.log(norm(loc=0.0, scale=self._epsilon).pdf(z_eps))\n"
     ]
    },
    {
     "data": {
      "image/png": "[encoded data removed]",
      "text/plain": [
       "<Figure size 360x288 with 2 Axes>"
      ]
     },
     "metadata": {
      "needs_background": "light"
     },
     "output_type": "display_data"
    }
   ],
   "source": [
    "res = 200\n",
    "x_range = np.linspace(-1.4,1.4,res)\n",
    "y_range = np.linspace(-1.4,1.4,res)\n",
    "xx, yy = np.meshgrid(x_range, y_range)\n",
    "x_grid = np.concatenate((xx.reshape((-1,1)), yy.reshape((-1,1))), axis=1)\n",
    "logp_grid = simulator.log_density(x_grid, precise=True).reshape((res, res))\n",
    "logp_grid[~np.isfinite(logp_grid)] = -1000000.\n",
    "\n",
    "zmin, zmax = np.max(logp_grid) - 10, np.max(logp_grid)\n",
    "fig = plt.figure(figsize=(5,4))\n",
    "ax = plt.gca()\n",
    "\n",
    "pcm = plt.imshow(\n",
    "    np.clip(logp_grid, zmin, zmax),\n",
    "    extent=(-1.4,1.4,-1.4,1.4),\n",
    "    origin=\"lower\",\n",
    "    cmap=\"viridis\", norm=matplotlib.colors.Normalize(zmin, zmax),\n",
    "    interpolation='nearest'\n",
    ")\n",
    "cb = plt.colorbar(pcm, extend=\"both\")\n",
    "plt.scatter(x[::50,0], x[::50,1], s=2., c=\"black\", alpha=1.)\n",
    "\n",
    "plt.xlabel(\"$x_1$\")\n",
    "plt.ylabel(\"$x_2$\")\n",
    "cb.set_label(\"$\\log \\; p(x)$\")\n",
    "plt.tight_layout()\n",
    "\n",
    "plt.savefig(\"spherical_gaussian_2d_data.pdf\", dpi=500)"
   ]
  },
  {
   "cell_type": "code",
   "execution_count": 5,
   "metadata": {},
   "outputs": [
    {
     "data": {
      "text/plain": [
       "1.0000930850098504"
      ]
     },
     "execution_count": 5,
     "metadata": {},
     "output_type": "execute_result"
    }
   ],
   "source": [
    "pixel_size = (x_range[1] - x_range[0]) * (y_range[1] - y_range[0])\n",
    "\n",
    "np.sum(np.exp(logp_grid) * pixel_size)"
   ]
  },
  {
   "cell_type": "markdown",
   "metadata": {},
   "source": [
    "## Set up models"
   ]
  },
  {
   "cell_type": "markdown",
   "metadata": {},
   "source": [
    "### Manifold flow"
   ]
  },
  {
   "cell_type": "code",
   "execution_count": 6,
   "metadata": {},
   "outputs": [
    {
     "name": "stderr",
     "output_type": "stream",
     "text": [
      "12:50 manifold_flow.transforms.proje DEBUG   Set up projection from vector with dimension 2 to vector with dimension 1\n",
      "12:50 manifold_flow.flows.base       DEBUG   Created standard flow with 0.0 M parameters (0.0 M trainable) with an estimated size of 0.0 <B\n",
      "12:50 manifold_flow.training.trainer INFO    Training on CPU with single precision\n",
      "12:50 manifold_flow.training.trainer DEBUG   Initialising training data\n",
      "12:50 manifold_flow.training.trainer DEBUG   Setting up optimizer\n",
      "12:50 manifold_flow.training.trainer DEBUG   Setting up LR scheduler\n",
      "12:50 manifold_flow.training.trainer DEBUG   Using early stopping with infinite patience\n",
      "12:50 manifold_flow.training.trainer DEBUG   Will print training progress every 1 epochs\n",
      "12:50 manifold_flow.training.trainer DEBUG   Beginning main training loop\n",
      "12:50 manifold_flow.training.trainer DEBUG   Training epoch 1 / 4\n",
      "12:50 manifold_flow.training.trainer DEBUG     Learning rate: 0.001\n",
      "12:50 manifold_flow.training.trainer INFO    Epoch   1: train loss  0.69685 (mse:  0.070)\n",
      "12:50 manifold_flow.training.trainer INFO               val. loss   0.40174 (mse:  0.040)\n",
      "12:50 manifold_flow.training.trainer DEBUG   Training epoch 2 / 4\n",
      "12:50 manifold_flow.training.trainer DEBUG     Learning rate: 0.001\n",
      "12:50 manifold_flow.training.trainer INFO    Epoch   2: train loss  0.40524 (mse:  0.041)\n",
      "12:50 manifold_flow.training.trainer INFO               val. loss   0.39372 (mse:  0.039)\n",
      "12:50 manifold_flow.training.trainer DEBUG   Training epoch 3 / 4\n",
      "12:50 manifold_flow.training.trainer DEBUG     Learning rate: 0.0008535533905932737\n",
      "12:50 manifold_flow.training.trainer INFO    Epoch   3: train loss  0.39566 (mse:  0.040)\n",
      "12:50 manifold_flow.training.trainer INFO               val. loss   0.38788 (mse:  0.039)\n",
      "12:50 manifold_flow.training.trainer DEBUG   Training epoch 4 / 4\n",
      "12:50 manifold_flow.training.trainer DEBUG     Learning rate: 0.0005\n",
      "12:50 manifold_flow.training.trainer INFO    Epoch   4: train loss  0.38916 (mse:  0.039)\n",
      "12:50 manifold_flow.training.trainer INFO               val. loss   0.38115 (mse:  0.038)\n",
      "12:50 manifold_flow.training.trainer INFO    Early stopping did not improve performance\n",
      "12:50 manifold_flow.training.trainer DEBUG   Training finished\n",
      "12:50 manifold_flow.training.trainer DEBUG   Initialising training data\n",
      "12:50 manifold_flow.training.trainer DEBUG   Setting up optimizer\n",
      "12:50 manifold_flow.training.trainer DEBUG   Setting up LR scheduler\n",
      "12:50 manifold_flow.training.trainer DEBUG   Using early stopping with infinite patience\n",
      "12:50 manifold_flow.training.trainer DEBUG   Will print training progress every 1 epochs\n",
      "12:50 manifold_flow.training.trainer DEBUG   Beginning main training loop\n",
      "12:50 manifold_flow.training.trainer DEBUG   Training epoch 1 / 4\n",
      "12:50 manifold_flow.training.trainer DEBUG     Learning rate: 0.001\n",
      "12:54 manifold_flow.training.trainer INFO    Epoch   1: train loss  0.41373 (mse:  0.039, nll:  2.773)\n",
      "12:54 manifold_flow.training.trainer INFO               val. loss   0.40604 (mse:  0.038, nll:  2.641)\n",
      "12:54 manifold_flow.training.trainer DEBUG   Training epoch 2 / 4\n",
      "12:54 manifold_flow.training.trainer DEBUG     Learning rate: 0.001\n",
      "12:58 manifold_flow.training.trainer INFO    Epoch   2: train loss  0.40494 (mse:  0.038, nll:  2.549)\n",
      "12:58 manifold_flow.training.trainer INFO               val. loss   0.40327 (mse:  0.038, nll:  2.464)\n",
      "12:58 manifold_flow.training.trainer DEBUG   Training epoch 3 / 4\n",
      "12:58 manifold_flow.training.trainer DEBUG     Learning rate: 0.0008535533905932737\n",
      "13:02 manifold_flow.training.trainer INFO    Epoch   3: train loss  0.39850 (mse:  0.037, nll:  2.440)\n",
      "13:02 manifold_flow.training.trainer INFO               val. loss   0.39268 (mse:  0.037, nll:  2.402)\n",
      "13:02 manifold_flow.training.trainer DEBUG   Training epoch 4 / 4\n",
      "13:02 manifold_flow.training.trainer DEBUG     Learning rate: 0.0005\n",
      "13:06 manifold_flow.training.trainer INFO    Epoch   4: train loss  0.39318 (mse:  0.037, nll:  2.393)\n",
      "13:06 manifold_flow.training.trainer INFO               val. loss   0.38967 (mse:  0.037, nll:  2.371)\n",
      "13:06 manifold_flow.training.trainer INFO    Early stopping did not improve performance\n",
      "13:06 manifold_flow.training.trainer DEBUG   Training finished\n",
      "13:06 manifold_flow.training.trainer DEBUG   Initialising training data\n",
      "13:06 manifold_flow.training.trainer DEBUG   Setting up optimizer\n",
      "13:06 manifold_flow.training.trainer DEBUG   Setting up LR scheduler\n",
      "13:06 manifold_flow.training.trainer DEBUG   Using early stopping with infinite patience\n",
      "13:06 manifold_flow.training.trainer DEBUG   Will print training progress every 1 epochs\n",
      "13:06 manifold_flow.training.trainer DEBUG   Beginning main training loop\n",
      "13:06 manifold_flow.training.trainer DEBUG   Training epoch 1 / 4\n",
      "13:06 manifold_flow.training.trainer DEBUG     Learning rate: 0.001\n",
      "13:10 manifold_flow.training.trainer INFO    Epoch   1: train loss  2.31613 (mse:  0.037, nll:  2.316)\n",
      "13:10 manifold_flow.training.trainer INFO               val. loss   2.28478 (mse:  0.036, nll:  2.285)\n",
      "13:10 manifold_flow.training.trainer DEBUG   Training epoch 2 / 4\n",
      "13:10 manifold_flow.training.trainer DEBUG     Learning rate: 0.001\n",
      "13:15 manifold_flow.training.trainer INFO    Epoch   2: train loss  2.23779 (mse:  0.037, nll:  2.238)\n",
      "13:15 manifold_flow.training.trainer INFO               val. loss   2.22471 (mse:  0.036, nll:  2.225)\n",
      "13:15 manifold_flow.training.trainer DEBUG   Training epoch 3 / 4\n",
      "13:15 manifold_flow.training.trainer DEBUG     Learning rate: 0.0008535533905932737\n",
      "13:19 manifold_flow.training.trainer INFO    Epoch   3: train loss  2.19163 (mse:  0.037, nll:  2.192)\n",
      "13:19 manifold_flow.training.trainer INFO               val. loss   2.19172 (mse:  0.036, nll:  2.192)\n",
      "13:19 manifold_flow.training.trainer DEBUG   Training epoch 4 / 4\n",
      "13:19 manifold_flow.training.trainer DEBUG     Learning rate: 0.0005\n",
      "13:23 manifold_flow.training.trainer INFO    Epoch   4: train loss  2.16846 (mse:  0.037, nll:  2.168)\n",
      "13:23 manifold_flow.training.trainer INFO               val. loss   2.17772 (mse:  0.036, nll:  2.178)\n",
      "13:23 manifold_flow.training.trainer INFO    Early stopping did not improve performance\n",
      "13:23 manifold_flow.training.trainer DEBUG   Training finished\n"
     ]
    },
    {
     "data": {
      "text/plain": [
       "(array([2.31613124, 2.23778944, 2.19162874, 2.16845725]),\n",
       " array([2.28478424, 2.2247114 , 2.19172427, 2.17771641]))"
      ]
     },
     "execution_count": 6,
     "metadata": {},
     "output_type": "execute_result"
    }
   ],
   "source": [
    "outer_transform = vector_transforms.create_transform(\n",
    "    2, 3,\n",
    "    linear_transform_type=\"permutation\",\n",
    "    base_transform_type=\"affine-coupling\",\n",
    "    context_features=None,\n",
    "    hidden_features=20,\n",
    "    num_transform_blocks=1,\n",
    "    resnet_transform=False,\n",
    ")\n",
    "inner_transform=transforms.ConditionalAffineScalarTransform(features=1)\n",
    "\n",
    "mf = ManifoldFlow(\n",
    "    data_dim=2,\n",
    "    latent_dim=1,\n",
    "    inner_transform=inner_transform,\n",
    "    outer_transform=outer_transform\n",
    ")\n",
    "\n",
    "trainer = training.trainer.ManifoldFlowTrainer(mf)\n",
    "trainer.train(\n",
    "    train_dataset,\n",
    "    [training.losses.mse],\n",
    "    loss_weights=[10.],\n",
    "    epochs=epochs // 3,\n",
    "    forward_kwargs={\"mode\":\"projection\"}\n",
    ")\n",
    "trainer.train(\n",
    "    train_dataset,\n",
    "    [training.losses.mse, training.losses.nll],\n",
    "    loss_weights=[10., 0.01],\n",
    "    epochs=epochs // 3,\n",
    "    forward_kwargs={\"mode\":\"mf\"}\n",
    ")\n",
    "trainer.train(\n",
    "    train_dataset,\n",
    "    [training.losses.mse, training.losses.nll],\n",
    "    loss_weights=[0., 1.],\n",
    "    epochs=epochs // 3,\n",
    "    parameters=mf.inner_transform.parameters(),\n",
    "    forward_kwargs={\"mode\":\"mf\"}\n",
    ")"
   ]
  },
  {
   "cell_type": "markdown",
   "metadata": {},
   "source": [
    "### PIE"
   ]
  },
  {
   "cell_type": "code",
   "execution_count": 7,
   "metadata": {
    "scrolled": true
   },
   "outputs": [
    {
     "name": "stderr",
     "output_type": "stream",
     "text": [
      "13:23 manifold_flow.transforms.proje DEBUG   Set up projection from vector with dimension 2 to vector with dimension 1\n",
      "13:23 manifold_flow.flows.base       DEBUG   Created standard flow with 2.0 M parameters (2.0 M trainable) with an estimated size of 7.9 <B\n",
      "13:23 manifold_flow.training.trainer INFO    Training on CPU with single precision\n",
      "13:23 manifold_flow.training.trainer DEBUG   Initialising training data\n",
      "13:23 manifold_flow.training.trainer DEBUG   Setting up optimizer\n",
      "13:23 manifold_flow.training.trainer DEBUG   Setting up LR scheduler\n",
      "13:23 manifold_flow.training.trainer DEBUG   Using early stopping with infinite patience\n",
      "13:23 manifold_flow.training.trainer DEBUG   Will print training progress every 1 epochs\n",
      "13:23 manifold_flow.training.trainer DEBUG   Beginning main training loop\n",
      "13:23 manifold_flow.training.trainer DEBUG   Training epoch 1 / 12\n",
      "13:23 manifold_flow.training.trainer DEBUG     Learning rate: 0.001\n",
      "13:24 manifold_flow.training.trainer INFO    Epoch   1: train loss 5934.88216 (nll: 5934.882)\n",
      "13:24 manifold_flow.training.trainer INFO               val. loss  16.21244 (nll: 16.212)\n",
      "13:24 manifold_flow.training.trainer DEBUG   Training epoch 2 / 12\n",
      "13:24 manifold_flow.training.trainer DEBUG     Learning rate: 0.001\n",
      "13:25 manifold_flow.training.trainer INFO    Epoch   2: train loss 25.18586 (nll: 25.186)\n",
      "13:25 manifold_flow.training.trainer INFO               val. loss  47.51821 (nll: 47.518)\n",
      "13:25 manifold_flow.training.trainer DEBUG   Training epoch 3 / 12\n",
      "13:25 manifold_flow.training.trainer DEBUG     Learning rate: 0.0009829629131445341\n",
      "13:26 manifold_flow.training.trainer INFO    Epoch   3: train loss 49.92035 (nll: 49.920)\n",
      "13:26 manifold_flow.training.trainer INFO               val. loss   5.98934 (nll:  5.989)\n",
      "13:26 manifold_flow.training.trainer DEBUG   Training epoch 4 / 12\n",
      "13:26 manifold_flow.training.trainer DEBUG     Learning rate: 0.0009330127018922195\n",
      "14:05 manifold_flow.training.trainer INFO    Epoch   4: train loss 63.62024 (nll: 63.620)\n",
      "14:05 manifold_flow.training.trainer INFO               val. loss  110.17488 (nll: 110.175)\n",
      "14:05 manifold_flow.training.trainer DEBUG   Training epoch 5 / 12\n",
      "14:05 manifold_flow.training.trainer DEBUG     Learning rate: 0.0008535533905932737\n",
      "14:06 manifold_flow.training.trainer INFO    Epoch   5: train loss 77.25136 (nll: 77.251)\n",
      "14:06 manifold_flow.training.trainer INFO               val. loss  70.99300 (nll: 70.993)\n",
      "14:06 manifold_flow.training.trainer DEBUG   Training epoch 6 / 12\n",
      "14:06 manifold_flow.training.trainer DEBUG     Learning rate: 0.00075\n",
      "14:08 manifold_flow.training.trainer INFO    Epoch   6: train loss 57.86612 (nll: 57.866)\n",
      "14:08 manifold_flow.training.trainer INFO               val. loss  83.30112 (nll: 83.301)\n",
      "14:08 manifold_flow.training.trainer DEBUG   Training epoch 7 / 12\n",
      "14:08 manifold_flow.training.trainer DEBUG     Learning rate: 0.0006294095225512603\n",
      "14:09 manifold_flow.training.trainer INFO    Epoch   7: train loss 40.12511 (nll: 40.125)\n",
      "14:09 manifold_flow.training.trainer INFO               val. loss  17.74026 (nll: 17.740)\n",
      "14:09 manifold_flow.training.trainer DEBUG   Training epoch 8 / 12\n",
      "14:09 manifold_flow.training.trainer DEBUG     Learning rate: 0.0005\n",
      "14:11 manifold_flow.training.trainer INFO    Epoch   8: train loss 29.34164 (nll: 29.342)\n",
      "14:11 manifold_flow.training.trainer INFO               val. loss  21.77191 (nll: 21.772)\n",
      "14:11 manifold_flow.training.trainer DEBUG   Training epoch 9 / 12\n",
      "14:11 manifold_flow.training.trainer DEBUG     Learning rate: 0.0003705904774487397\n",
      "14:12 manifold_flow.training.trainer INFO    Epoch   9: train loss 13.57379 (nll: 13.574)\n",
      "14:12 manifold_flow.training.trainer INFO               val. loss   9.06427 (nll:  9.064)\n",
      "14:12 manifold_flow.training.trainer DEBUG   Training epoch 10 / 12\n",
      "14:12 manifold_flow.training.trainer DEBUG     Learning rate: 0.0002500000000000001\n",
      "14:13 manifold_flow.training.trainer INFO    Epoch  10: train loss  6.17261 (nll:  6.173)\n",
      "14:13 manifold_flow.training.trainer INFO               val. loss   3.61291 (nll:  3.613)\n",
      "14:13 manifold_flow.training.trainer DEBUG   Training epoch 11 / 12\n",
      "14:13 manifold_flow.training.trainer DEBUG     Learning rate: 0.00014644660940672628\n",
      "14:15 manifold_flow.training.trainer INFO    Epoch  11: train loss  1.80985 (nll:  1.810)\n",
      "14:15 manifold_flow.training.trainer INFO               val. loss   1.98478 (nll:  1.985)\n",
      "14:15 manifold_flow.training.trainer DEBUG   Training epoch 12 / 12\n",
      "14:15 manifold_flow.training.trainer DEBUG     Learning rate: 6.698729810778065e-05\n",
      "14:16 manifold_flow.training.trainer INFO    Epoch  12: train loss -0.19272 (nll: -0.193)\n",
      "14:16 manifold_flow.training.trainer INFO               val. loss  -0.84813 (nll: -0.848)\n",
      "14:16 manifold_flow.training.trainer INFO    Early stopping did not improve performance\n",
      "14:16 manifold_flow.training.trainer DEBUG   Training finished\n"
     ]
    },
    {
     "data": {
      "text/plain": [
       "(array([ 5.93488216e+03,  2.51858625e+01,  4.99203524e+01,  6.36202417e+01,\n",
       "         7.72513592e+01,  5.78661190e+01,  4.01251104e+01,  2.93416373e+01,\n",
       "         1.35737875e+01,  6.17260819e+00,  1.80984950e+00, -1.92719718e-01]),\n",
       " array([ 16.21243673,  47.51820895,   5.98933511, 110.17487866,\n",
       "         70.99299747,  83.30112271,  17.74026494,  21.77191319,\n",
       "          9.06426881,   3.61291135,   1.98477712,  -0.84812755]))"
      ]
     },
     "execution_count": 7,
     "metadata": {},
     "output_type": "execute_result"
    }
   ],
   "source": [
    "outer_transform = vector_transforms.create_transform(\n",
    "    2, 5,\n",
    "    linear_transform_type=\"permutation\",\n",
    "    base_transform_type=\"affine-coupling\",\n",
    "    context_features=None\n",
    ")\n",
    "inner_transform=transforms.ConditionalAffineScalarTransform(features=1)\n",
    "\n",
    "pie = ManifoldFlow(\n",
    "    data_dim=2,\n",
    "    latent_dim=1,\n",
    "    outer_transform=outer_transform,\n",
    "    inner_transform=inner_transform,\n",
    ")\n",
    "\n",
    "trainer = training.trainer.ManifoldFlowTrainer(pie)\n",
    "trainer.train(\n",
    "    train_dataset,\n",
    "    [training.losses.nll],\n",
    "    loss_weights=[1.],\n",
    "    epochs=epochs,\n",
    "    forward_kwargs={\"mode\":\"pie\"}\n",
    ")"
   ]
  },
  {
   "cell_type": "markdown",
   "metadata": {},
   "source": [
    "## Slice of PIE"
   ]
  },
  {
   "cell_type": "code",
   "execution_count": 8,
   "metadata": {},
   "outputs": [
    {
     "name": "stderr",
     "output_type": "stream",
     "text": [
      "14:16 manifold_flow.transforms.proje DEBUG   Set up projection from vector with dimension 2 to vector with dimension 1\n",
      "14:16 manifold_flow.flows.base       DEBUG   Created standard flow with 2.0 M parameters (2.0 M trainable) with an estimated size of 7.9 <B\n",
      "14:16 manifold_flow.training.trainer INFO    Training on CPU with single precision\n",
      "14:16 manifold_flow.training.trainer DEBUG   Initialising training data\n",
      "14:16 manifold_flow.training.trainer DEBUG   Setting up optimizer\n",
      "14:16 manifold_flow.training.trainer DEBUG   Setting up LR scheduler\n",
      "14:16 manifold_flow.training.trainer DEBUG   Using early stopping with infinite patience\n",
      "14:16 manifold_flow.training.trainer DEBUG   Will print training progress every 1 epochs\n",
      "14:16 manifold_flow.training.trainer DEBUG   Beginning main training loop\n",
      "14:16 manifold_flow.training.trainer DEBUG   Training epoch 1 / 4\n",
      "14:16 manifold_flow.training.trainer DEBUG     Learning rate: 0.001\n",
      "14:18 manifold_flow.training.trainer INFO    Epoch   1: train loss  0.10325 (mse:  0.010)\n",
      "14:18 manifold_flow.training.trainer INFO               val. loss   0.02190 (mse:  0.002)\n",
      "14:18 manifold_flow.training.trainer DEBUG   Training epoch 2 / 4\n",
      "14:18 manifold_flow.training.trainer DEBUG     Learning rate: 0.001\n",
      "14:20 manifold_flow.training.trainer INFO    Epoch   2: train loss  0.05019 (mse:  0.005)\n",
      "14:20 manifold_flow.training.trainer INFO               val. loss   0.01275 (mse:  0.001)\n",
      "14:20 manifold_flow.training.trainer DEBUG   Training epoch 3 / 4\n",
      "14:20 manifold_flow.training.trainer DEBUG     Learning rate: 0.0008535533905932737\n",
      "14:21 manifold_flow.training.trainer INFO    Epoch   3: train loss  0.03939 (mse:  0.004)\n",
      "14:21 manifold_flow.training.trainer INFO               val. loss   0.01158 (mse:  0.001)\n",
      "14:21 manifold_flow.training.trainer DEBUG   Training epoch 4 / 4\n",
      "14:21 manifold_flow.training.trainer DEBUG     Learning rate: 0.0005\n",
      "14:23 manifold_flow.training.trainer INFO    Epoch   4: train loss  0.01126 (mse:  0.001)\n",
      "14:23 manifold_flow.training.trainer INFO               val. loss   0.02190 (mse:  0.002)\n",
      "14:23 manifold_flow.training.trainer INFO    Early stopping after epoch 3, with loss  0.01158 compared to final loss  0.02190\n",
      "14:23 manifold_flow.training.trainer DEBUG   Training finished\n",
      "14:23 manifold_flow.training.trainer DEBUG   Initialising training data\n",
      "14:23 manifold_flow.training.trainer DEBUG   Setting up optimizer\n",
      "14:23 manifold_flow.training.trainer DEBUG   Setting up LR scheduler\n",
      "14:23 manifold_flow.training.trainer DEBUG   Using early stopping with infinite patience\n",
      "14:23 manifold_flow.training.trainer DEBUG   Will print training progress every 1 epochs\n",
      "14:23 manifold_flow.training.trainer DEBUG   Beginning main training loop\n",
      "14:23 manifold_flow.training.trainer DEBUG   Training epoch 1 / 4\n",
      "14:23 manifold_flow.training.trainer DEBUG     Learning rate: 0.001\n",
      "14:24 manifold_flow.training.trainer INFO    Epoch   1: train loss  0.00350 (mse:  0.004, nll: -3.934)\n",
      "14:24 manifold_flow.training.trainer INFO               val. loss  -0.02714 (mse:  0.002, nll: -4.333)\n",
      "14:24 manifold_flow.training.trainer DEBUG   Training epoch 2 / 4\n",
      "14:24 manifold_flow.training.trainer DEBUG     Learning rate: 0.001\n",
      "14:26 manifold_flow.training.trainer INFO    Epoch   2: train loss -0.00024 (mse:  0.004, nll: -4.400)\n",
      "14:26 manifold_flow.training.trainer INFO               val. loss  -0.03612 (mse:  0.001, nll: -4.382)\n",
      "14:26 manifold_flow.training.trainer DEBUG   Training epoch 3 / 4\n",
      "14:26 manifold_flow.training.trainer DEBUG     Learning rate: 0.0008535533905932737\n",
      "14:27 manifold_flow.training.trainer INFO    Epoch   3: train loss -0.02148 (mse:  0.002, nll: -4.456)\n",
      "14:27 manifold_flow.training.trainer INFO               val. loss  -0.03088 (mse:  0.002, nll: -4.608)\n",
      "14:27 manifold_flow.training.trainer DEBUG   Training epoch 4 / 4\n",
      "14:27 manifold_flow.training.trainer DEBUG     Learning rate: 0.0005\n",
      "14:29 manifold_flow.training.trainer INFO    Epoch   4: train loss -0.02933 (mse:  0.002, nll: -4.524)\n",
      "14:29 manifold_flow.training.trainer INFO               val. loss  -0.03824 (mse:  0.001, nll: -4.570)\n",
      "14:29 manifold_flow.training.trainer INFO    Early stopping did not improve performance\n",
      "14:29 manifold_flow.training.trainer DEBUG   Training finished\n",
      "14:29 manifold_flow.training.trainer DEBUG   Initialising training data\n",
      "14:29 manifold_flow.training.trainer DEBUG   Setting up optimizer\n",
      "14:29 manifold_flow.training.trainer DEBUG   Setting up LR scheduler\n",
      "14:29 manifold_flow.training.trainer DEBUG   Using early stopping with infinite patience\n",
      "14:29 manifold_flow.training.trainer DEBUG   Will print training progress every 1 epochs\n",
      "14:29 manifold_flow.training.trainer DEBUG   Beginning main training loop\n",
      "14:29 manifold_flow.training.trainer DEBUG   Training epoch 1 / 4\n",
      "14:29 manifold_flow.training.trainer DEBUG     Learning rate: 0.001\n",
      "14:30 manifold_flow.training.trainer INFO    Epoch   1: train loss -4.56846 (mse:  0.001, nll: -4.568)\n",
      "14:30 manifold_flow.training.trainer INFO               val. loss  -4.56843 (mse:  0.001, nll: -4.568)\n",
      "14:30 manifold_flow.training.trainer DEBUG   Training epoch 2 / 4\n",
      "14:30 manifold_flow.training.trainer DEBUG     Learning rate: 0.001\n",
      "14:43 manifold_flow.training.trainer INFO    Epoch   2: train loss -4.56856 (mse:  0.001, nll: -4.569)\n",
      "14:43 manifold_flow.training.trainer INFO               val. loss  -4.56843 (mse:  0.001, nll: -4.568)\n",
      "14:43 manifold_flow.training.trainer DEBUG   Training epoch 3 / 4\n",
      "14:43 manifold_flow.training.trainer DEBUG     Learning rate: 0.0008535533905932737\n",
      "14:45 manifold_flow.training.trainer INFO    Epoch   3: train loss -4.56879 (mse:  0.001, nll: -4.569)\n",
      "14:45 manifold_flow.training.trainer INFO               val. loss  -4.56843 (mse:  0.001, nll: -4.568)\n",
      "14:45 manifold_flow.training.trainer DEBUG   Training epoch 4 / 4\n",
      "14:45 manifold_flow.training.trainer DEBUG     Learning rate: 0.0005\n",
      "14:46 manifold_flow.training.trainer INFO    Epoch   4: train loss -4.56862 (mse:  0.001, nll: -4.569)\n",
      "14:46 manifold_flow.training.trainer INFO               val. loss  -4.56843 (mse:  0.001, nll: -4.568)\n",
      "14:46 manifold_flow.training.trainer INFO    Early stopping after epoch 2, with loss -4.56843 compared to final loss -4.56843\n",
      "14:46 manifold_flow.training.trainer DEBUG   Training finished\n"
     ]
    },
    {
     "data": {
      "text/plain": [
       "(array([-4.56845531, -4.56855519, -4.56878636, -4.56861585]),\n",
       " array([-4.56842957, -4.56842958, -4.56842954, -4.56842957]))"
      ]
     },
     "execution_count": 8,
     "metadata": {},
     "output_type": "execute_result"
    }
   ],
   "source": [
    "outer_transform = vector_transforms.create_transform(\n",
    "    2, 5,\n",
    "    linear_transform_type=\"permutation\",\n",
    "    base_transform_type=\"affine-coupling\",\n",
    "    context_features=None\n",
    ")\n",
    "inner_transform=transforms.ConditionalAffineScalarTransform(features=1)\n",
    "\n",
    "slice_of_pie = ManifoldFlow(\n",
    "    data_dim=2,\n",
    "    latent_dim=1,\n",
    "    outer_transform=outer_transform,\n",
    "    inner_transform=inner_transform,\n",
    ")\n",
    "\n",
    "trainer = training.trainer.ManifoldFlowTrainer(slice_of_pie)\n",
    "trainer.train(\n",
    "    train_dataset,\n",
    "    [training.losses.mse],\n",
    "    loss_weights=[10.],\n",
    "    epochs=epochs // 3,\n",
    "    forward_kwargs={\"mode\": \"projection\"}\n",
    ")\n",
    "trainer.train(\n",
    "    train_dataset,\n",
    "    [training.losses.mse, training.losses.nll],\n",
    "    loss_weights=[10., 0.01],\n",
    "    epochs=epochs // 3,\n",
    "    forward_kwargs={\"mode\": \"slice\"}\n",
    ")\n",
    "trainer.train(\n",
    "    train_dataset,\n",
    "    [training.losses.mse, training.losses.nll],\n",
    "    loss_weights=[0., 1.],\n",
    "    epochs=epochs // 3,\n",
    "    parameters=mf.inner_transform.parameters(),\n",
    "    forward_kwargs={\"mode\": \"slice\"}\n",
    ")"
   ]
  },
  {
   "cell_type": "markdown",
   "metadata": {},
   "source": [
    "### Standard flow"
   ]
  },
  {
   "cell_type": "code",
   "execution_count": null,
   "metadata": {
    "scrolled": true
   },
   "outputs": [
    {
     "name": "stderr",
     "output_type": "stream",
     "text": [
      "14:46 manifold_flow.flows.base       DEBUG   Created standard flow with 2.0 M parameters (2.0 M trainable) with an estimated size of 7.9 <B\n",
      "14:46 manifold_flow.training.trainer INFO    Training on CPU with single precision\n",
      "14:46 manifold_flow.training.trainer DEBUG   Initialising training data\n",
      "14:46 manifold_flow.training.trainer DEBUG   Setting up optimizer\n",
      "14:46 manifold_flow.training.trainer DEBUG   Setting up LR scheduler\n",
      "14:46 manifold_flow.training.trainer DEBUG   Using early stopping with infinite patience\n",
      "14:46 manifold_flow.training.trainer DEBUG   Will print training progress every 1 epochs\n",
      "14:46 manifold_flow.training.trainer DEBUG   Beginning main training loop\n",
      "14:46 manifold_flow.training.trainer DEBUG   Training epoch 1 / 12\n",
      "14:46 manifold_flow.training.trainer DEBUG     Learning rate: 0.001\n",
      "14:47 manifold_flow.training.trainer INFO    Epoch   1: train loss  1.90910 (nll:  1.909)\n",
      "14:47 manifold_flow.training.trainer INFO               val. loss   1.87421 (nll:  1.874)\n",
      "14:47 manifold_flow.training.trainer DEBUG   Training epoch 2 / 12\n",
      "14:47 manifold_flow.training.trainer DEBUG     Learning rate: 0.001\n",
      "14:49 manifold_flow.training.trainer INFO    Epoch   2: train loss  1.88287 (nll:  1.883)\n",
      "14:49 manifold_flow.training.trainer INFO               val. loss   1.86490 (nll:  1.865)\n",
      "14:49 manifold_flow.training.trainer DEBUG   Training epoch 3 / 12\n",
      "14:49 manifold_flow.training.trainer DEBUG     Learning rate: 0.0009829629131445341\n",
      "14:50 manifold_flow.training.trainer INFO    Epoch   3: train loss  1.87316 (nll:  1.873)\n",
      "14:50 manifold_flow.training.trainer INFO               val. loss   1.87583 (nll:  1.876)\n",
      "14:50 manifold_flow.training.trainer DEBUG   Training epoch 4 / 12\n",
      "14:50 manifold_flow.training.trainer DEBUG     Learning rate: 0.0009330127018922195\n",
      "14:52 manifold_flow.training.trainer INFO    Epoch   4: train loss  1.87302 (nll:  1.873)\n",
      "14:52 manifold_flow.training.trainer INFO               val. loss   1.88761 (nll:  1.888)\n",
      "14:52 manifold_flow.training.trainer DEBUG   Training epoch 5 / 12\n",
      "14:52 manifold_flow.training.trainer DEBUG     Learning rate: 0.0008535533905932737\n",
      "14:53 manifold_flow.training.trainer INFO    Epoch   5: train loss  1.86922 (nll:  1.869)\n",
      "14:53 manifold_flow.training.trainer INFO               val. loss   1.87627 (nll:  1.876)\n",
      "14:53 manifold_flow.training.trainer DEBUG   Training epoch 6 / 12\n",
      "14:53 manifold_flow.training.trainer DEBUG     Learning rate: 0.00075\n",
      "14:55 manifold_flow.training.trainer INFO    Epoch   6: train loss  1.86640 (nll:  1.866)\n",
      "14:55 manifold_flow.training.trainer INFO               val. loss   1.85601 (nll:  1.856)\n",
      "14:55 manifold_flow.training.trainer DEBUG   Training epoch 7 / 12\n",
      "14:55 manifold_flow.training.trainer DEBUG     Learning rate: 0.0006294095225512603\n",
      "14:56 manifold_flow.training.trainer INFO    Epoch   7: train loss  1.86116 (nll:  1.861)\n",
      "14:56 manifold_flow.training.trainer INFO               val. loss   1.85796 (nll:  1.858)\n",
      "14:56 manifold_flow.training.trainer DEBUG   Training epoch 8 / 12\n",
      "14:56 manifold_flow.training.trainer DEBUG     Learning rate: 0.0005\n",
      "14:58 manifold_flow.training.trainer INFO    Epoch   8: train loss  1.86055 (nll:  1.861)\n",
      "14:58 manifold_flow.training.trainer INFO               val. loss   1.87289 (nll:  1.873)\n",
      "14:58 manifold_flow.training.trainer DEBUG   Training epoch 9 / 12\n",
      "14:58 manifold_flow.training.trainer DEBUG     Learning rate: 0.0003705904774487397\n",
      "14:59 manifold_flow.training.trainer INFO    Epoch   9: train loss  1.85803 (nll:  1.858)\n",
      "14:59 manifold_flow.training.trainer INFO               val. loss   1.85712 (nll:  1.857)\n",
      "14:59 manifold_flow.training.trainer DEBUG   Training epoch 10 / 12\n",
      "14:59 manifold_flow.training.trainer DEBUG     Learning rate: 0.0002500000000000001\n",
      "15:01 manifold_flow.training.trainer INFO    Epoch  10: train loss  1.85664 (nll:  1.857)\n",
      "15:01 manifold_flow.training.trainer INFO               val. loss   1.85366 (nll:  1.854)\n",
      "15:01 manifold_flow.training.trainer DEBUG   Training epoch 11 / 12\n",
      "15:01 manifold_flow.training.trainer DEBUG     Learning rate: 0.00014644660940672628\n"
     ]
    }
   ],
   "source": [
    "transform = vector_transforms.create_transform(\n",
    "    2, 5,\n",
    "    linear_transform_type=\"permutation\",\n",
    "    base_transform_type=\"affine-coupling\",\n",
    "    context_features=None\n",
    ")\n",
    "sf = Flow(\n",
    "    data_dim=2,\n",
    "    transform=transform\n",
    ")\n",
    "\n",
    "trainer = training.trainer.ManifoldFlowTrainer(sf)\n",
    "trainer.train(\n",
    "    train_dataset,\n",
    "    [training.losses.nll],\n",
    "    loss_weights=[1.],\n",
    "    epochs=epochs,\n",
    ")"
   ]
  },
  {
   "cell_type": "markdown",
   "metadata": {},
   "source": [
    "## Evaluate the generative performance"
   ]
  },
  {
   "cell_type": "markdown",
   "metadata": {},
   "source": [
    "### Sample"
   ]
  },
  {
   "cell_type": "code",
   "execution_count": null,
   "metadata": {},
   "outputs": [],
   "source": [
    "x_gen_sf = sf.sample(n=1000).detach().numpy()\n",
    "x_gen_mf = mf.sample(n=1000).detach().numpy()\n",
    "x_gen_pie = pie.sample(n=1000).detach().numpy()\n",
    "x_gen_pie_full = pie.sample(n=1000, sample_orthogonal=True).detach().numpy()"
   ]
  },
  {
   "cell_type": "markdown",
   "metadata": {},
   "source": [
    "### Distance from manifold, true likelihood of generated samples"
   ]
  },
  {
   "cell_type": "code",
   "execution_count": null,
   "metadata": {},
   "outputs": [],
   "source": [
    "logp_min = -1000\n",
    "\n",
    "logp_gen_sf = simulator.log_density(x_gen_sf)\n",
    "logp_gen_mf = simulator.log_density(x_gen_mf)\n",
    "logp_gen_pie = simulator.log_density(x_gen_pie)\n",
    "logp_gen_pie_full = simulator.log_density(x_gen_pie_full)\n",
    "\n",
    "logp_gen_sf[(~np.isfinite(logp_gen_sf)) + (logp_gen_sf<logp_min)] = logp_min\n",
    "logp_gen_mf[(~np.isfinite(logp_gen_mf)) + (logp_gen_mf<logp_min)] = logp_min\n",
    "logp_gen_pie[(~np.isfinite(logp_gen_pie)) + (logp_gen_pie<logp_min)] = logp_min\n",
    "logp_gen_pie_full[(~np.isfinite(logp_gen_pie_full)) + (logp_gen_pie_full<logp_min)] = logp_min\n",
    "\n",
    "mean_logp_gen_sf = np.mean(logp_gen_sf)\n",
    "mean_logp_gen_mf = np.mean(logp_gen_mf)\n",
    "mean_logp_gen_pie = np.mean(logp_gen_pie)\n",
    "mean_logp_gen_pie_full = np.mean(logp_gen_pie_full)\n",
    "\n",
    "distance_from_manifold_gen_sf = np.mean(np.abs(np.sum(x_gen_sf**2, axis=1)**0.5 - 1))\n",
    "distance_from_manifold_gen_mf = np.mean(np.abs(np.sum(x_gen_mf**2, axis=1)**0.5 - 1))\n",
    "distance_from_manifold_gen_pie = np.mean(np.abs(np.sum(x_gen_pie**2, axis=1)**0.5 - 1))\n",
    "distance_from_manifold_gen_pie_full = np.mean(np.abs(np.sum(x_gen_pie_full**2, axis=1)**0.5 - 1))\n",
    "\n",
    "print(\"Mean true log likelihood of samples generated from flows (higher is better):\")\n",
    "print(\"  Standard flow:      {:>6.1f}\".format(mean_logp_gen_sf))\n",
    "print(\"  PIE:                {:>6.1f}\".format(mean_logp_gen_pie))\n",
    "print(\"  PIE (sampling all): {:>6.1f}\".format(mean_logp_gen_pie_full))\n",
    "print(\"  Manifold flow:      {:>6.1f}\".format(mean_logp_gen_mf))\n",
    "\n",
    "print(\"Mean Euclidean distance between samples generated from flows and true manifold (lower is better):\")\n",
    "print(\"  Standard flow:      {:>6.2f}\".format(distance_from_manifold_gen_sf))\n",
    "print(\"  PIE:                {:>6.2f}\".format(distance_from_manifold_gen_pie))\n",
    "print(\"  PIE (sampling all): {:>6.2f}\".format(distance_from_manifold_gen_pie_full))\n",
    "print(\"  Manifold flow:      {:>6.2f}\".format(distance_from_manifold_gen_mf))\n"
   ]
  },
  {
   "cell_type": "markdown",
   "metadata": {},
   "source": [
    "### Visualize generated samples"
   ]
  },
  {
   "cell_type": "code",
   "execution_count": null,
   "metadata": {},
   "outputs": [],
   "source": [
    "skip = 10\n",
    "res = 250\n",
    "x_range = np.linspace(-1.5,1.5,res)\n",
    "y_range = np.linspace(-1.5,1.5,res)\n",
    "xx, yy = np.meshgrid(x_range, y_range)\n",
    "x_grid = np.concatenate((xx.reshape((-1,1)), yy.reshape((-1,1))), axis=1)\n",
    "logp_grid = simulator.log_density(x_grid).reshape((res, res))\n",
    "logp_grid[~np.isfinite(logp_grid)] = -1000000.\n",
    "zmin, zmax = np.max(logp_grid) - 10., np.max(logp_grid)\n",
    "\n",
    "fig = plt.figure(figsize=(6,5))\n",
    "ax = plt.gca()\n",
    "\n",
    "pcm = plt.imshow(\n",
    "    np.clip(logp_grid, zmin, zmax),\n",
    "    extent=(-1.5,1.5,-1.5,1.5),\n",
    "    origin=\"lower\",\n",
    "    cmap=\"Greys\",\n",
    "    norm=matplotlib.colors.Normalize(zmin, zmax),\n",
    "    interpolation='nearest'\n",
    ")\n",
    "cb = plt.colorbar(pcm, extend=\"both\")\n",
    "\n",
    "plt.scatter(x_gen_sf[::skip,0], x_gen_sf[::skip,1], s=10., c=\"C0\", label=\"Standard flow\")\n",
    "plt.scatter(x_gen_pie[::skip,0], x_gen_pie[::skip,1], s=10., c=\"C1\", label=\"PIE\")\n",
    "plt.scatter(x_gen_pie_full[::skip,0], x_gen_pie_full[::skip,1], s=10., c=\"C2\", label=\"PIE (sampling all)\")\n",
    "plt.scatter(x_gen_mf[::skip,0], x_gen_mf[::skip,1], s=10., c=\"C3\", label=\"Manifold flow\")\n",
    "\n",
    "plt.legend()\n",
    "\n",
    "plt.xlim(-1.5, 1.5)\n",
    "plt.ylim(-1.5, 1.5)\n",
    "plt.xlabel(\"$x_1$\")\n",
    "plt.ylabel(\"$x_2$\")\n",
    "cb.set_label(\"True log density\")\n",
    "\n",
    "plt.tight_layout()\n",
    "plt.savefig(\"spherical_gaussian_2d_generation.pdf\")\n"
   ]
  },
  {
   "cell_type": "markdown",
   "metadata": {},
   "source": [
    "## Visualize learned likelihoods"
   ]
  },
  {
   "cell_type": "markdown",
   "metadata": {},
   "source": [
    "### Calculate log likelihood on grid"
   ]
  },
  {
   "cell_type": "code",
   "execution_count": null,
   "metadata": {},
   "outputs": [],
   "source": [
    "res = 100\n",
    "x_range = np.linspace(-1.5,1.5,res)\n",
    "y_range = np.linspace(-1.5,1.5,res)\n",
    "xx, yy = np.meshgrid(x_range, y_range)\n",
    "x_grid = np.concatenate((xx.reshape((-1,1)), yy.reshape((-1,1))), axis=1)\n",
    "x_grid_tensor = torch.FloatTensor(x_grid)\n",
    "\n",
    "learned_logp_grid_sf = sf.log_prob(x_grid_tensor).detach().numpy().reshape((res, res))\n",
    "learned_logp_grid_pie = pie.log_prob(x_grid_tensor, mode=\"pie\").detach().numpy().reshape((res, res))\n",
    "\n",
    "# learned_logp_grid_mf = mf.log_prob(x_grid_tensor, mode=\"mf\").detach().numpy().reshape((res, res))\n",
    "# learned_logp_grid_slice_of_pie = slice_of_pie.log_prob(x_grid_tensor, mode=\"slice\").detach().numpy().reshape((res, res))\n",
    "\n",
    "logp_grid_truth = simulator.log_density(x_grid).reshape((res, res))\n",
    "logp_grid_truth[~np.isfinite(logp_grid_truth)] = -1000000.\n"
   ]
  },
  {
   "cell_type": "markdown",
   "metadata": {},
   "source": [
    "### Calculate along manifold"
   ]
  },
  {
   "cell_type": "code",
   "execution_count": null,
   "metadata": {},
   "outputs": [],
   "source": [
    "def likelihood_along_manifold(model, mode, zmin=-5., zmax=5., n_samples=100, epsilon=0.05):\n",
    "    # Sample\n",
    "    u = torch.linspace(zmin, zmax, n_samples)\n",
    "    x = model.sample(n=n_samples, u=u).detach().numpy()\n",
    "    \n",
    "    # Interpolate\n",
    "    x_interpol = [x[0]]\n",
    "    for x, x_prev in zip(x[:-1], x[1:]):\n",
    "        distance = np.linalg.norm(x-x_prev)\n",
    "        if distance > epsilon:\n",
    "            n_insert = int(distance / epsilon)\n",
    "            stops = np.linspace(0., 1., n_insert + 2)[1:-1]\n",
    "            for frac in np.linspace(0., 1., n_insert + 2)[1:-1]:\n",
    "                x_interpol.append(x_prev + stop * (x-x_prev))\n",
    "        x_interpol.append(x)\n",
    "    x_interpol.append(x)\n",
    "    x_interpol = np.array(x_interpol)\n",
    "\n",
    "    # Evaluate likelihood\n",
    "    log_probs = model.log_prob(torch.FloatTensor(x_interpol, mode=mode).detach().numpy()\n",
    "\n",
    "    # Return\n",
    "    return x_interpol, log_probs"
   ]
  },
  {
   "cell_type": "code",
   "execution_count": null,
   "metadata": {},
   "outputs": [],
   "source": [
    "x_manifold_mf, learned_logp_manifold_mf = likelihood_along_manifold(mf, \"mf\")\n",
    "x_manifold_slice, learned_logp_manifold_slice = likelihood_along_manifold(mf, \"slice\")\n"
   ]
  },
  {
   "cell_type": "markdown",
   "metadata": {},
   "source": [
    "### Plot likelihoods"
   ]
  },
  {
   "cell_type": "code",
   "execution_count": null,
   "metadata": {},
   "outputs": [],
   "source": [
    "skip = 500\n",
    "\n",
    "fig = plt.figure(figsize=(12,15))\n",
    "\n",
    "for i, (label, logp, x) in enumerate(zip(\n",
    "    [\"True log density\", \"Standard flow log density\", \"PIE log density\",\n",
    "     \"Slice of PIE log density\", \"Manifold flow log density\"],\n",
    "    [logp_grid_truth, learned_logp_grid_sf, learned_logp_grid_pie,\n",
    "     learned_logp_manifold_slice, learned_logp_manifold_mf],\n",
    "    [None, None, None,\n",
    "     x_manifold_slice, x_manifold_mf]\n",
    "     )):\n",
    "    ax = plt.subplot(2,3,i+1)\n",
    "\n",
    "    zmin, zmax = np.max(logp) - 5., np.max(logp)\n",
    "\n",
    "    if x is None:\n",
    "        pcm = plt.imshow(\n",
    "            np.clip(logp, zmin, zmax),\n",
    "            extent=(-1.5, 1.5, -1.5, 1.5),\n",
    "            origin=\"lower\",\n",
    "            cmap=\"viridis\",\n",
    "            norm=matplotlib.colors.Normalize(zmin, zmax),\n",
    "            interpolation='nearest'\n",
    "        )\n",
    "        cb = plt.colorbar(pcm, extend=\"both\")\n",
    "        \n",
    "    else:\n",
    "        pcm = plt.scatter(\n",
    "            x[:,0], x[:,1],\n",
    "            c=np.clip(logp, zmin, zmax),\n",
    "            s=15.,\n",
    "            cmap=\"viridis\",\n",
    "            norm=matplotlib.colors.Normalize(zmin, zmax),\n",
    "        )\n",
    "\n",
    "    plt.xlim(-1.5,1.5)\n",
    "    plt.ylim(-1.5,1.5)\n",
    "    plt.xlabel(\"$x_1$\")\n",
    "    plt.ylabel(\"$x_2$\")\n",
    "    cb.set_label(label)\n",
    "    \n",
    "plt.tight_layout()\n",
    "plt.savefig(\"spherical_gaussian_2d_log_prob.pdf\", dpi=600)\n"
   ]
  },
  {
   "cell_type": "markdown",
   "metadata": {},
   "source": [
    "## Plot reconstruction performance"
   ]
  },
  {
   "cell_type": "code",
   "execution_count": null,
   "metadata": {},
   "outputs": [],
   "source": [
    "x_in = SphericalGaussianSimulator(1,2,epsilon=4*epsilon).sample(100)\n",
    "x_in = torch.FloatTensor(x_in)\n",
    "x_out = mf(x_in)[0]\n",
    "x_in, x_out = x_in.detach().numpy(), x_out.detach().numpy()\n",
    "dx = x_out - x_in"
   ]
  },
  {
   "cell_type": "code",
   "execution_count": null,
   "metadata": {},
   "outputs": [],
   "source": [
    "fig = plt.figure(figsize=(5,5))\n",
    "ax = plt.gca()\n",
    "plt.scatter(x_in[:,0], x_in[:,1], s=15., c=\"C1\")\n",
    "plt.scatter(x_out[:,0], x_out[:,1], s=15., c=\"C0\")\n",
    "plt.quiver(\n",
    "    x_in[:,0], x_in[:,1], dx[:,0], dx[:,1],\n",
    "    angles='xy', scale_units='xy', scale=1., width=2.e-3, alpha=1.\n",
    ")\n",
    "\n",
    "plt.xlim(-1.5,1.5)\n",
    "plt.ylim(-1.5,1.5)\n",
    "plt.xlabel(\"$x_1$\")\n",
    "plt.ylabel(\"$x_2$\")\n",
    "plt.tight_layout()\n",
    "\n",
    "plt.savefig(\"../figures/spherical_gaussian_2d_mf_reco.pdf\")\n"
   ]
  },
  {
   "cell_type": "markdown",
   "metadata": {
    "collapsed": true
   },
   "source": [
    "## Model anatomy"
   ]
  },
  {
   "cell_type": "code",
   "execution_count": null,
   "metadata": {},
   "outputs": [],
   "source": [
    "model = mf"
   ]
  },
  {
   "cell_type": "code",
   "execution_count": null,
   "metadata": {},
   "outputs": [],
   "source": [
    "res = 25\n",
    "x_range = np.linspace(-1.5,1.5,res)\n",
    "y_range = np.linspace(-1.5,1.5,res)\n",
    "xx, yy = np.meshgrid(x_range, y_range)\n",
    "x = np.concatenate((xx.reshape((-1,1)), yy.reshape((-1,1))), axis=1)\n",
    "x = torch.FloatTensor(x)\n",
    "x.requires_grad = True\n"
   ]
  },
  {
   "cell_type": "code",
   "execution_count": null,
   "metadata": {},
   "outputs": [],
   "source": [
    "# Encode\n",
    "u, h_manifold, h_orthogonal, log_det_outer, log_det_inner = model._encode(x)\n",
    "\n",
    "# Decode\n",
    "x_reco, _, _, inv_jacobian_outer = model._decode(u, mode=\"mf\")\n",
    "_, inv_log_det_inner, inv_log_det_outer, _ = model._decode(u, mode=\"slice\")\n",
    "\n",
    "# inv_jacobian_outer is dx / du, but still need to restrict this to the manifold latents\n",
    "inv_jacobian_outer = inv_jacobian_outer[:, :, : model.latent_dim]\n",
    "# And finally calculate log det (J^T J)\n",
    "jtj = torch.bmm(torch.transpose(inv_jacobian_outer, -2, -1), inv_jacobian_outer)\n",
    "mf_log_det_outer = - 0.5 * torch.slogdet(jtj)[1]\n",
    "\n",
    "log_prob_latent = model.manifold_latent_distribution._log_prob(u, context=None)"
   ]
  },
  {
   "cell_type": "code",
   "execution_count": null,
   "metadata": {},
   "outputs": [],
   "source": [
    "fig = plt.figure(figsize=(12,9))\n",
    "\n",
    "for panel, (label, quantity) in enumerate(zip(\n",
    "    [\"Perp latent\", \"Manifold latent after outer flow\", \"Manifold latent after inner flow\",\n",
    "     \"log det outer (MF)\", \"log det inner (MF)\", \"Base log prob\",\n",
    "     \"log det outer (PIE)\", \"log det outer (Slice of PIE)\", \"log det inner (Slice of PIE)\"],\n",
    "    [h_orthogonal, h_manifold, u,\n",
    "     mf_log_det_outer, - log_det_inner, log_prob_latent,\n",
    "     log_det_outer, - inv_log_det_outer, - inv_log_det_inner]\n",
    ")):\n",
    "    ax = plt.subplot(3,3,panel+1)\n",
    "    \n",
    "    quantity_ = quantity.detach().numpy()\n",
    "    quantity_ = quantity_.flatten() + np.zeros((res**2))\n",
    "    zmin, zmax = np.mean(quantity_) - 1.5 * np.std(quantity_), np.mean(quantity_) + 1.5 * np.std(quantity_)\n",
    "\n",
    "    pcm = plt.pcolormesh(\n",
    "        x_range, y_range,\n",
    "        np.clip(np.clip(quantity_, zmin, zmax).reshape(res, res), zmin, zmax),\n",
    "        cmap=\"viridis\", norm=matplotlib.colors.Normalize(zmin, zmax)\n",
    "    )\n",
    "    cb = plt.colorbar(pcm, extend=\"both\")\n",
    "    # plt.scatter(x_gen_mf[::10,0], x_gen_mf[::10,1], s=3., c=\"black\")\n",
    "\n",
    "    plt.xlim(-1.5,1.5)\n",
    "    plt.ylim(-1.5,1.5)\n",
    "    plt.xlabel(\"$x_1$\")\n",
    "    plt.ylabel(\"$x_2$\")\n",
    "    cb.set_label(label)\n",
    "    plt.tight_layout()\n",
    "\n",
    "plt.savefig(\"spherical_gaussian_2d_anatomy.pdf\")"
   ]
  },
  {
   "cell_type": "code",
   "execution_count": null,
   "metadata": {},
   "outputs": [],
   "source": []
  }
 ],
 "metadata": {
  "kernelspec": {
   "display_name": "Python (ML)",
   "language": "python",
   "name": "ml"
  },
  "language_info": {
   "codemirror_mode": {
    "name": "ipython",
    "version": 3
   },
   "file_extension": ".py",
   "mimetype": "text/x-python",
   "name": "python",
   "nbconvert_exporter": "python",
   "pygments_lexer": "ipython3",
   "version": "3.6.8"
  }
 },
 "nbformat": 4,
 "nbformat_minor": 2
}
