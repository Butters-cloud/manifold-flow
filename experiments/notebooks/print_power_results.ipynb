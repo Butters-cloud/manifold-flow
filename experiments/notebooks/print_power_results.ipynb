{
 "cells": [
  {
   "cell_type": "markdown",
   "metadata": {},
   "source": [
    "# Power manifold results"
   ]
  },
  {
   "cell_type": "markdown",
   "metadata": {},
   "source": [
    "## Setup"
   ]
  },
  {
   "cell_type": "code",
   "execution_count": 1,
   "metadata": {},
   "outputs": [],
   "source": [
    "import sys\n",
    "import numpy as np\n",
    "from sklearn.metrics import roc_auc_score\n"
   ]
  },
  {
   "cell_type": "markdown",
   "metadata": {},
   "source": [
    "## Load results"
   ]
  },
  {
   "cell_type": "code",
   "execution_count": 2,
   "metadata": {},
   "outputs": [],
   "source": [
    "show_all = True\n",
    "n_runs = 3"
   ]
  },
  {
   "cell_type": "code",
   "execution_count": 3,
   "metadata": {},
   "outputs": [],
   "source": [
    "algo_filenames = []\n",
    "algo_additionals = []\n",
    "algo_labels = []\n",
    "algo_dividers = []\n",
    "\n",
    "def add_algo(filename, add, label, shortlist=False):\n",
    "    if show_all or shortlist:\n",
    "        algo_filenames.append(filename)\n",
    "        algo_additionals.append(add)\n",
    "        algo_labels.append(label)\n",
    "    \n",
    "    \n",
    "def add_divider():\n",
    "    algo_dividers.append(len(algo_filenames))\n",
    "    \n",
    "\n",
    "add_algo(\"flow\", \"_small\", \"EF\")\n",
    "add_algo(\"flow\", \"_small_long\", \"EF (long)\", True)\n",
    "add_algo(\"flow\", \"_small_shallow_long\", \"EF (shallow, long)\")\n",
    "\n",
    "add_divider()\n",
    "add_algo(\"pie\", \"_small\", \"PIE\") \n",
    "add_algo(\"pie\", \"_small_pieepsilon01\", \"PIE (eps = 0.1)\") \n",
    "add_algo(\"pie\", \"_small_pieepsilon003\", \"PIE (eps = 0.03)\") \n",
    "add_algo(\"pie\", \"_small_pieepsilon0003\", \"PIE (eps = 0.003)\") \n",
    "add_algo(\"pie\", \"_small_pieepsilon0001\", \"PIE (eps = 0.001)\") \n",
    "add_algo(\"pie\", \"_small_pieepsilon00003\", \"PIE (eps = 0.0003)\") \n",
    "add_algo(\"pie\", \"_small_pieepsilon00001\", \"PIE (eps = 0.0001)\") \n",
    "add_algo(\"pie\", \"_small_long\", \"PIE (long)\", True) \n",
    "add_algo(\"pie\", \"_small_shallow_long\", \"PIE (shallow, long)\") \n",
    "\n",
    "add_divider()\n",
    "add_algo(\"mf\", \"_small\", \"MLF-S\")\n",
    "add_algo(\"mf\", \"_small_morenll\", \"MLF-S (large lambda)\")\n",
    "add_algo(\"mf\", \"_small_long\", \"MLF-S (long)\", True)\n",
    "add_algo(\"mf\", \"_small_shallow_long\", \"MLF-S (shallow, long)\")\n",
    "\n",
    "add_divider()\n",
    "add_algo(\"mf\", \"_small_alternate\", \"MLF-A\")\n",
    "add_algo(\"mf\", \"_small_alternate_wdecay\", \"MLF-A (weight decay)\")\n",
    "add_algo(\"mf\", \"_small_alternate_long\", \"MLF-A (long)\", True)\n",
    "add_algo(\"mf\", \"_small_alternate_wdecay_long\", \"MLF-A (long, weight decay)\")\n",
    "add_algo(\"mf\", \"_small_alternate_shallow_long\", \"MLF-A (shallow, long)\")\n",
    "add_algo(\"mf\", \"_small_alternate_wdecay_shallow_long\", \"MLF-A (shallow, long, weight decay)\")\n",
    "\n",
    "add_divider()\n",
    "add_algo(\"gamf\", \"_small_largebs\", \"MLF-OT\")\n",
    "add_algo(\"gamf\", \"_small_wdecay_largebs\", \"MLF-OT (weight decay)\")\n",
    "add_algo(\"gamf\", \"_small_hugebs\", \"MLF-OT (5k bs)\") \n",
    "add_algo(\"gamf\", \"_small_wdecay_hugebs\", \"MLF-OT (5k bs, weight decay)\") \n",
    "add_algo(\"gamf\", \"_small_largebs_long\", \"MLF-OT (long)\", True) \n",
    "add_algo(\"gamf\", \"_small_wdecay_largebs_long\", \"MLF-OT (long, weight decay)\") \n",
    "add_algo(\"gamf\", \"_small_largebs_shallow_long\", \"MLF-OT (shallow, long)\") \n",
    "add_algo(\"gamf\", \"_small_wdecay_largebs_shallow_long\", \"MLF-OT (shallow, long, weight decay)\") \n",
    "\n",
    "add_divider()\n",
    "add_algo(\"gamf\", \"_small_largebs\", \"MLF-OTA\")\n",
    "add_algo(\"gamf\", \"_small_wdecay_largebs\", \"MLF-OTA (weight decay)\")\n",
    "add_algo(\"gamf\", \"_small_largebs_long\", \"MLF-OTA (long)\", True) \n",
    "add_algo(\"gamf\", \"_small_wdecay_largebs_long\", \"MLF-OTA (long, weight decay)\") \n",
    "add_algo(\"gamf\", \"_small_largebs_shallow_long\", \"MLF-OTA (shallow, long)\") \n",
    "add_algo(\"gamf\", \"_small_wdecay_largebs_shallow_long\", \"MLF-OTA (shallow, long, weight decay)\") \n",
    "\n",
    "add_divider()\n",
    "add_algo(\"emf\", \"_small\", \"EMLF-S\")\n",
    "add_algo(\"mef\", \"_small_morenll\", \"EMLF-S (large lambda)\")\n",
    "add_algo(\"emf\", \"_small_long\", \"EMLF-S (long)\", True)\n",
    "add_algo(\"emf\", \"_small_shallow_long\", \"EMLF-S (shallow, long)\")\n",
    "\n",
    "add_divider()\n",
    "add_algo(\"emf\", \"_small_alternate\", \"EMLF-A\")\n",
    "add_algo(\"emf\", \"_small_alternate_wdecay\", \"EMLF-A (weight decay)\")\n",
    "add_algo(\"emf\", \"_small_alternate_long\", \"EMLF-A (long)\", True)\n",
    "add_algo(\"emf\", \"_small_alternate_wdecay_long\", \"EMLF-A (long, weight decay)\")\n",
    "add_algo(\"emf\", \"_small_alternate_shallow_long\", \"EMLF-A (shallow, long)\")\n",
    "add_algo(\"emf\", \"_small_alternate_wdecay_shallow_long\", \"EMLF-A (shallow, long, weight decay)\")\n"
   ]
  },
  {
   "cell_type": "code",
   "execution_count": 4,
   "metadata": {},
   "outputs": [
    {
     "name": "stdout",
     "output_type": "stream",
     "text": [
      "46\n",
      "(46, 3, 10000)\n",
      "(46, 3, 10000)\n",
      "(46, 3, 101, 1000)\n",
      "(46, 3, 1000)\n",
      "(46, 3, 101, 1000)\n",
      "(46, 3, 1000)\n",
      "(1000, 1) (5000, 1)\n",
      "(1000, 1) (5000, 1)\n",
      "(1000, 1) (5000, 1)\n",
      "(46, 3, 5000, 1)\n",
      "(46, 3, 1)\n"
     ]
    }
   ],
   "source": [
    "def load(name, shape, numpyfy=True, result_dir=\"../data/results\"):\n",
    "    all_results = []\n",
    "    \n",
    "    for algo_filename, algo_add in zip(algo_filenames, algo_additionals):\n",
    "        algo_results = []\n",
    "            \n",
    "        for run in range(n_runs):\n",
    "            run_str = \"\" if run == 0 else \"_run{}\".format(run)\n",
    "            try:\n",
    "                this_result = np.load(\n",
    "                    \"{}/{}_2_power{}{}_{}.npy\".format(\n",
    "                        result_dir, algo_filename, algo_add, run_str, name\n",
    "                    )\n",
    "                )\n",
    "                if (not numpyfy) or (shape is None) or np.product(this_result.shape) == np.product(shape):\n",
    "                    algo_results.append(this_result.reshape(shape))\n",
    "                else:\n",
    "                    print(this_result.shape, shape)\n",
    "                    algo_results.append(np.nan*np.ones(shape))\n",
    "                    \n",
    "            except FileNotFoundError as e:\n",
    "                if shape is None:\n",
    "                    algo_results.append(None)\n",
    "                else:\n",
    "                    algo_results.append(np.nan*np.ones(shape))\n",
    "            \n",
    "        all_results.append(algo_results)\n",
    "    \n",
    "    if numpyfy:\n",
    "        try:\n",
    "            all_results = np.array(all_results, dtype=np.float)\n",
    "            print(all_results.shape)\n",
    "        except Exception as e:\n",
    "            print(name)\n",
    "            print(len(all_results))\n",
    "            print([len(res) for res in all_results])\n",
    "            print([[len(r) for r in res] for res in all_results])\n",
    "            raise\n",
    "    else:\n",
    "        print(len(all_results))\n",
    "        \n",
    "    return all_results\n",
    "\n",
    "\n",
    "model_gen_x = load(\"samples\", None, numpyfy=False)\n",
    "model_gen_logp = load(\"samples_likelihood\", (10000,))\n",
    "model_gen_distance = load(\"samples_manifold_distance\", (10000,))\n",
    "model_test_logp = load(\"model_log_likelihood_test\", (101, 1000,))\n",
    "model_test_reco_error = load(\"model_reco_error_test\", (1000,))\n",
    "model_ood_logp = load(\"model_log_likelihood_ood\", (101, 1000,))\n",
    "model_ood_reco_error = load(\"model_reco_error_ood\", (1000,))\n",
    "model_posterior_samples = load(\"posterior_samples\", (5000, 1,))\n",
    "model_mmds = load(\"mmd\", (1,))\n"
   ]
  },
  {
   "cell_type": "code",
   "execution_count": 5,
   "metadata": {},
   "outputs": [
    {
     "data": {
      "text/plain": [
       "(46, 3, 10000)"
      ]
     },
     "execution_count": 5,
     "metadata": {},
     "output_type": "execute_result"
    }
   ],
   "source": [
    "model_gen_logp.shape"
   ]
  },
  {
   "cell_type": "code",
   "execution_count": 6,
   "metadata": {},
   "outputs": [],
   "source": [
    "def remove_nans(*results):\n",
    "    passes = all([np.all(np.isfinite(result)) for result in results])\n",
    "    \n",
    "    if passes:\n",
    "        return results\n",
    "    else:\n",
    "        return [np.nan * np.ones_like(result) for result in results]\n",
    "\n",
    "\n",
    "def remove_nans_from_lists(*raws):\n",
    "    # raws[quantity][algo]\n",
    "    n_quantities = len(raws)\n",
    "    n_algos = len(raws[0])\n",
    "    \n",
    "    for raw in raws:\n",
    "        assert len(raw) == n_algos\n",
    "    \n",
    "    cleans = [[[] for _ in range(n_algos)] for _ in range(n_quantities)]\n",
    "    \n",
    "    for i in range(n_algos):\n",
    "        for k in range(n_runs):\n",
    "            clean = remove_nans(*[raw[i][k] for raw in raws])\n",
    "            for j in range(n_quantities):\n",
    "                cleans[j][i].append(clean[j])\n",
    "            \n",
    "    cleans = [np.array(clean) for clean in cleans]\n",
    "    \n",
    "    # cleans[quantity][algo]\n",
    "    return cleans\n",
    "            \n",
    "raw = [model_gen_logp, model_gen_distance, model_test_logp, model_ood_logp, model_ood_reco_error, model_posterior_samples, model_mmds]\n",
    "clean = remove_nans_from_lists(*raw)\n",
    "model_gen_logp, model_gen_distance, model_test_logp, model_ood_logp, model_ood_reco_error, model_posterior_samples, model_mmds = clean\n",
    "           "
   ]
  },
  {
   "cell_type": "code",
   "execution_count": 7,
   "metadata": {},
   "outputs": [
    {
     "data": {
      "text/plain": [
       "(46, 3, 10000)"
      ]
     },
     "execution_count": 7,
     "metadata": {},
     "output_type": "execute_result"
    }
   ],
   "source": [
    "model_gen_logp.shape"
   ]
  },
  {
   "cell_type": "code",
   "execution_count": 8,
   "metadata": {},
   "outputs": [],
   "source": [
    "def load_truth(name, samples=True):\n",
    "    if samples:\n",
    "        return np.asarray([\n",
    "            np.load(\"../data/samples/power/{}{}.npy\".format(\n",
    "                name, run_str\n",
    "            ))\n",
    "            for run_str in [\"\"] + [\"_run{}\".format(i) for i in range(1, n_runs)]\n",
    "        ])\n",
    "    else:\n",
    "        return np.asarray([\n",
    "            np.load(\"../data/results/truth_power{}_{}.npy\".format(\n",
    "                run_str, name\n",
    "            ))\n",
    "            for run_str in [\"\"] + [\"_run{}\".format(i) for i in range(1, n_runs)]\n",
    "        ])\n",
    "\n",
    "test_x = load_truth(\"x_test\", True)\n",
    "test_distance = np.zeros((test_x.shape[0], 1))\n",
    "test_logp = load_truth(\"true_log_likelihood_test\", False)\n",
    "true_posterior_samples = load_truth(\"posterior_samples\", False)\n",
    "\n",
    "param_grid = np.linspace(-1, 1, 101)\n"
   ]
  },
  {
   "cell_type": "markdown",
   "metadata": {},
   "source": [
    "## Calculate metrics"
   ]
  },
  {
   "cell_type": "code",
   "execution_count": 9,
   "metadata": {},
   "outputs": [],
   "source": [
    "n_observed = 20\n",
    "min_logp = -100.\n",
    "max_distance = 10.\n",
    "\n",
    "model_gen_mean_logp = np.mean(np.clip(model_gen_logp, min_logp, None), axis=2)\n",
    "model_gen_mean_distance = np.mean(np.clip(model_gen_distance, None, max_distance), axis=2)\n",
    "model_observed_nll = -2. * np.sum(model_test_logp[:,:,:,:n_observed], axis=-1)\n",
    "\n",
    "test_mean_logp = np.mean(np.clip(test_logp, min_logp, None), axis=1)\n",
    "test_mean_distance = np.mean(np.clip(test_distance, None, max_distance), axis=1)\n",
    "true_observed_nll = -2. * np.sum(test_logp[:,:,:n_observed], axis=-1)\n"
   ]
  },
  {
   "cell_type": "code",
   "execution_count": 10,
   "metadata": {},
   "outputs": [
    {
     "name": "stderr",
     "output_type": "stream",
     "text": [
      "/Users/johannbrehmer/anaconda3/envs/ml/lib/python3.6/site-packages/ipykernel_launcher.py:30: RuntimeWarning: invalid value encountered in greater\n"
     ]
    }
   ],
   "source": [
    "def calculate_roc_auc(x0, x1):\n",
    "    assert x0.shape == x1.shape\n",
    "    old_shape = x0.shape[:-1]\n",
    "    x0 = x0.reshape(-1, x0.shape[-1])\n",
    "    x1 = x1.reshape(-1, x1.shape[-1])\n",
    "    \n",
    "    aucs = []\n",
    "    for x0_, x1_ in zip(x0, x1):\n",
    "        if not np.all(np.isfinite(np.hstack((x0_, x1_)))):\n",
    "            aucs.append(np.nan)\n",
    "            continue\n",
    "            \n",
    "        auc = roc_auc_score(\n",
    "            np.hstack((np.zeros(x0_.shape[0], dtype=np.int), np.ones(x1_.shape[0], dtype=np.int))),\n",
    "            np.hstack((x0_, x1_)),\n",
    "        )\n",
    "        auc_flipped = roc_auc_score(\n",
    "            np.hstack((np.zeros(x0_.shape[0], dtype=np.int), np.ones(x1_.shape[0], dtype=np.int))),\n",
    "            - np.hstack((x0_, x1_)),\n",
    "        )\n",
    "        aucs.append(max(auc, auc_flipped))\n",
    "        \n",
    "    aucs = np.asarray(aucs)\n",
    "    aucs = aucs.reshape(old_shape)\n",
    "    return aucs\n",
    "\n",
    "\n",
    "model_auc_logp = calculate_roc_auc(model_test_logp[:,:,50,:], model_ood_logp[:,:,50,:])\n",
    "model_auc_err = calculate_roc_auc(model_test_reco_error, model_ood_reco_error)\n",
    "model_auc_use_err = (model_auc_err > model_auc_logp)\n",
    "model_auc = np.maximum(model_auc_err, model_auc_logp)\n"
   ]
  },
  {
   "cell_type": "markdown",
   "metadata": {},
   "source": [
    "## Best metrics"
   ]
  },
  {
   "cell_type": "code",
   "execution_count": 11,
   "metadata": {},
   "outputs": [],
   "source": [
    "best_mmd, best_dist, best_auc = 0, 0, 0"
   ]
  },
  {
   "cell_type": "code",
   "execution_count": 12,
   "metadata": {},
   "outputs": [
    {
     "name": "stdout",
     "output_type": "stream",
     "text": [
      "MLF-S\n",
      "EF (long)\n",
      "EF (long)\n"
     ]
    }
   ],
   "source": [
    "best_mmd = np.nanargmin(np.mean(model_mmds, axis=1))\n",
    "print(algo_labels[best_mmd])\n",
    "\n",
    "best_dist = np.nanargmin(np.mean(model_gen_mean_distance, axis=1))\n",
    "print(algo_labels[best_dist])\n",
    "\n",
    "best_auc = np.nanargmax(np.mean(model_auc, axis=1))\n",
    "print(algo_labels[best_dist])"
   ]
  },
  {
   "cell_type": "markdown",
   "metadata": {},
   "source": [
    "## Print metrics"
   ]
  },
  {
   "cell_type": "code",
   "execution_count": 13,
   "metadata": {},
   "outputs": [],
   "source": [
    "def print_results(\n",
    "    include_err=False, include_n_runs=False, l_label=max([len(l) for l in algo_labels]), l_mean=6, l_err=5\n",
    "):\n",
    "    # How to format the numbers\n",
    "    l_result = l_mean + int(include_err) * (3 + l_err) + int(include_n_runs) * 4\n",
    "    l_total = l_label + 1 + 3 * (3 + l_result)\n",
    "    \n",
    "    def _f(val):\n",
    "        if not np.any(np.isfinite(val)):\n",
    "            return \" \"*l_result\n",
    "        \n",
    "        result = \"{:>{}.{}f}\".format(np.nanmean(val), l_mean, l_mean - 2)\n",
    "        if include_err:\n",
    "            result += \" ({:>{}.{}f})\".format(np.nanstd(val), l_err, l_err - 2)\n",
    "        if include_n_runs:\n",
    "            result += \" [{:1n}]\".format(np.sum(np.isfinite(val)))\n",
    "        return result\n",
    "        \n",
    "    \n",
    "    # Header\n",
    "    print(\n",
    "        \"{2:<{0}.{0}s} | {3:>{1}.{1}s} | {4:>{1}.{1}s} | {5:>{1}.{1}s} \".format(\n",
    "            l_label, l_result, \"\", \"Mean dist\", \"OOD AUC\", \"Post. MMD\"\n",
    "        )\n",
    "    )\n",
    "    print(\"-\"*l_total)\n",
    "\n",
    "    # Iterate over methods\n",
    "    for i, (label, dist, mmd, auc) in enumerate(zip(algo_labels, model_gen_mean_distance, model_mmds, model_auc)):\n",
    "        # Divider\n",
    "        if i in algo_dividers and show_all:\n",
    "            print(\"-\"*l_total)\n",
    "            \n",
    "        # Print results\n",
    "        print(\"{1:<{0}.{0}s} | {2}{5}| {3}{6}| {4}{7}\".format(\n",
    "            l_label, label,\n",
    "            _f(dist), _f(auc),  _f(mmd),\n",
    "            \"*\" if i == best_dist else \" \", \"*\" if i == best_auc else \" \", \"*\" if i == best_mmd else \" \"\n",
    "        ))\n"
   ]
  },
  {
   "cell_type": "code",
   "execution_count": 14,
   "metadata": {},
   "outputs": [
    {
     "name": "stdout",
     "output_type": "stream",
     "text": [
      "                                      |  Mean dist |    OOD AUC |  Post. MMD \n",
      "-----------------------------------------------------------------------------\n",
      "EF                                    | 0.0239 [3] | 0.8857 [3] | 0.1439 [3] \n",
      "EF (long)                             | 0.0075 [3]*| 0.9360 [3]*| 0.1125 [3] \n",
      "EF (shallow, long)                    | 0.0121 [3] | 0.9195 [3] | 0.1303 [3] \n",
      "-----------------------------------------------------------------------------\n",
      "PIE                                   | 0.0371 [3] | 0.8341 [3] | 0.1770 [3] \n",
      "PIE (eps = 0.1)                       | 0.0215 [3] | 0.8657 [3] | 0.1687 [3] \n",
      "PIE (eps = 0.03)                      | 0.0124 [3] | 0.8611 [3] | 0.0662 [3] \n",
      "PIE (eps = 0.003)                     | 0.0166 [3] | 0.8841 [3] | 0.2027 [3] \n",
      "PIE (eps = 0.001)                     | 0.0837 [3] | 0.7794 [3] | 0.2861 [3] \n",
      "PIE (eps = 0.0003)                    | 0.0145 [3] | 0.8647 [3] | 0.1275 [3] \n",
      "PIE (eps = 0.0001)                    | 0.0218 [3] | 0.8916 [3] | 0.3639 [3] \n",
      "PIE (long)                            | 0.0168 [3] | 0.9138 [3] | 0.0950 [3] \n",
      "PIE (shallow, long)                   | 0.0084 [3] | 0.8810 [3] | 0.0692 [3] \n",
      "-----------------------------------------------------------------------------\n",
      "MLF-S                                 | 0.3717 [3] | 0.5999 [3] | 0.0241 [3]*\n",
      "MLF-S (large lambda)                  |            |            |            \n",
      "MLF-S (long)                          | 0.0376 [1] | 0.8717 [1] | 0.0736 [1] \n",
      "MLF-S (shallow, long)                 | 1.2451 [3] | 0.5253 [3] | 0.0621 [3] \n",
      "-----------------------------------------------------------------------------\n",
      "MLF-A                                 | 0.1732 [2] | 0.7065 [2] | 0.0331 [2] \n",
      "MLF-A (weight decay)                  | 0.1370 [3] | 0.7097 [3] | 0.2195 [3] \n",
      "MLF-A (long)                          | 0.2115 [1] | 0.5688 [1] | 0.2688 [1] \n",
      "MLF-A (long, weight decay)            | 0.2562 [2] | 0.6611 [2] | 0.1764 [2] \n",
      "MLF-A (shallow, long)                 | 0.4365 [2] | 0.6779 [2] | 0.0686 [2] \n",
      "MLF-A (shallow, long, weight decay)   | 0.2679 [2] | 0.6136 [2] | 0.2877 [2] \n",
      "-----------------------------------------------------------------------------\n",
      "MLF-OT                                |            |            |            \n",
      "MLF-OT (weight decay)                 |            |            |            \n",
      "MLF-OT (5k bs)                        |            |            |            \n",
      "MLF-OT (5k bs, weight decay)          |            |            |            \n",
      "MLF-OT (long)                         |            |            |            \n",
      "MLF-OT (long, weight decay)           |            |            |            \n",
      "MLF-OT (shallow, long)                |            |            |            \n",
      "MLF-OT (shallow, long, weight decay)  |            |            |            \n",
      "-----------------------------------------------------------------------------\n",
      "MLF-OTA                               |            |            |            \n",
      "MLF-OTA (weight decay)                |            |            |            \n",
      "MLF-OTA (long)                        |            |            |            \n",
      "MLF-OTA (long, weight decay)          |            |            |            \n",
      "MLF-OTA (shallow, long)               |            |            |            \n",
      "MLF-OTA (shallow, long, weight decay) |            |            |            \n",
      "-----------------------------------------------------------------------------\n",
      "EMLF-S                                | 0.0568 [1] | 0.7803 [1] | 0.0069 [1] \n",
      "EMLF-S (large lambda)                 |            |            |            \n",
      "EMLF-S (long)                         | 0.0778 [2] | 0.8423 [2] | 0.0234 [2] \n",
      "EMLF-S (shallow, long)                | 0.0349 [1] | 0.8360 [1] | 0.0338 [1] \n",
      "-----------------------------------------------------------------------------\n",
      "EMLF-A                                | 0.6518 [2] | 0.5544 [2] | 0.1123 [2] \n",
      "EMLF-A (weight decay)                 | 0.4977 [2] | 0.5588 [2] | 0.1587 [2] \n",
      "EMLF-A (long)                         | 0.4657 [1] | 0.5802 [1] | 0.0318 [1] \n",
      "EMLF-A (long, weight decay)           | 0.6881 [2] | 0.6236 [2] | 0.2719 [2] \n",
      "EMLF-A (shallow, long)                | 0.7964 [2] | 0.5675 [2] | 0.1124 [2] \n",
      "EMLF-A (shallow, long, weight decay)  | 0.6586 [3] | 0.6282 [3] | 0.0871 [3] \n"
     ]
    }
   ],
   "source": [
    "print_results(include_n_runs=True)"
   ]
  },
  {
   "cell_type": "code",
   "execution_count": 15,
   "metadata": {},
   "outputs": [
    {
     "name": "stdout",
     "output_type": "stream",
     "text": [
      "                                      |      Mean dist |        OOD AUC |      Post. MMD \n",
      "-----------------------------------------------------------------------------------------\n",
      "EF                                    | 0.0239 (0.020) | 0.8857 (0.031) | 0.1439 (0.154) \n",
      "EF (long)                             | 0.0075 (0.003)*| 0.9360 (0.007)*| 0.1125 (0.058) \n",
      "EF (shallow, long)                    | 0.0121 (0.002) | 0.9195 (0.017) | 0.1303 (0.072) \n",
      "-----------------------------------------------------------------------------------------\n",
      "PIE                                   | 0.0371 (0.022) | 0.8341 (0.027) | 0.1770 (0.144) \n",
      "PIE (eps = 0.1)                       | 0.0215 (0.009) | 0.8657 (0.035) | 0.1687 (0.186) \n",
      "PIE (eps = 0.03)                      | 0.0124 (0.007) | 0.8611 (0.037) | 0.0662 (0.038) \n",
      "PIE (eps = 0.003)                     | 0.0166 (0.009) | 0.8841 (0.037) | 0.2027 (0.114) \n",
      "PIE (eps = 0.001)                     | 0.0837 (0.029) | 0.7794 (0.046) | 0.2861 (0.161) \n",
      "PIE (eps = 0.0003)                    | 0.0145 (0.003) | 0.8647 (0.026) | 0.1275 (0.025) \n",
      "PIE (eps = 0.0001)                    | 0.0218 (0.006) | 0.8916 (0.022) | 0.3639 (0.274) \n",
      "PIE (long)                            | 0.0168 (0.012) | 0.9138 (0.035) | 0.0950 (0.050) \n",
      "PIE (shallow, long)                   | 0.0084 (0.006) | 0.8810 (0.064) | 0.0692 (0.024) \n",
      "-----------------------------------------------------------------------------------------\n",
      "MLF-S                                 | 0.3717 (0.205) | 0.5999 (0.068) | 0.0241 (0.016)*\n",
      "MLF-S (large lambda)                  |                |                |                \n",
      "MLF-S (long)                          | 0.0376 (0.000) | 0.8717 (0.000) | 0.0736 (0.000) \n",
      "MLF-S (shallow, long)                 | 1.2451 (0.691) | 0.5253 (0.018) | 0.0621 (0.039) \n",
      "-----------------------------------------------------------------------------------------\n",
      "MLF-A                                 | 0.1732 (0.045) | 0.7065 (0.065) | 0.0331 (0.027) \n",
      "MLF-A (weight decay)                  | 0.1370 (0.111) | 0.7097 (0.030) | 0.2195 (0.055) \n",
      "MLF-A (long)                          | 0.2115 (0.000) | 0.5688 (0.000) | 0.2688 (0.000) \n",
      "MLF-A (long, weight decay)            | 0.2562 (0.060) | 0.6611 (0.064) | 0.1764 (0.049) \n",
      "MLF-A (shallow, long)                 | 0.4365 (0.404) | 0.6779 (0.154) | 0.0686 (0.013) \n",
      "MLF-A (shallow, long, weight decay)   | 0.2679 (0.100) | 0.6136 (0.002) | 0.2877 (0.185) \n",
      "-----------------------------------------------------------------------------------------\n",
      "MLF-OT                                |                |                |                \n",
      "MLF-OT (weight decay)                 |                |                |                \n",
      "MLF-OT (5k bs)                        |                |                |                \n",
      "MLF-OT (5k bs, weight decay)          |                |                |                \n",
      "MLF-OT (long)                         |                |                |                \n",
      "MLF-OT (long, weight decay)           |                |                |                \n",
      "MLF-OT (shallow, long)                |                |                |                \n",
      "MLF-OT (shallow, long, weight decay)  |                |                |                \n",
      "-----------------------------------------------------------------------------------------\n",
      "MLF-OTA                               |                |                |                \n",
      "MLF-OTA (weight decay)                |                |                |                \n",
      "MLF-OTA (long)                        |                |                |                \n",
      "MLF-OTA (long, weight decay)          |                |                |                \n",
      "MLF-OTA (shallow, long)               |                |                |                \n",
      "MLF-OTA (shallow, long, weight decay) |                |                |                \n",
      "-----------------------------------------------------------------------------------------\n",
      "EMLF-S                                | 0.0568 (0.000) | 0.7803 (0.000) | 0.0069 (0.000) \n",
      "EMLF-S (large lambda)                 |                |                |                \n",
      "EMLF-S (long)                         | 0.0778 (0.039) | 0.8423 (0.020) | 0.0234 (0.018) \n",
      "EMLF-S (shallow, long)                | 0.0349 (0.000) | 0.8360 (0.000) | 0.0338 (0.000) \n",
      "-----------------------------------------------------------------------------------------\n",
      "EMLF-A                                | 0.6518 (0.288) | 0.5544 (0.039) | 0.1123 (0.095) \n",
      "EMLF-A (weight decay)                 | 0.4977 (0.007) | 0.5588 (0.008) | 0.1587 (0.020) \n",
      "EMLF-A (long)                         | 0.4657 (0.000) | 0.5802 (0.000) | 0.0318 (0.000) \n",
      "EMLF-A (long, weight decay)           | 0.6881 (0.497) | 0.6236 (0.077) | 0.2719 (0.247) \n",
      "EMLF-A (shallow, long)                | 0.7964 (0.384) | 0.5675 (0.015) | 0.1124 (0.003) \n",
      "EMLF-A (shallow, long, weight decay)  | 0.6586 (0.418) | 0.6282 (0.071) | 0.0871 (0.046) \n"
     ]
    }
   ],
   "source": [
    "print_results(include_err=True)"
   ]
  },
  {
   "cell_type": "code",
   "execution_count": null,
   "metadata": {},
   "outputs": [],
   "source": []
  }
 ],
 "metadata": {
  "kernelspec": {
   "display_name": "Python (ML)",
   "language": "python",
   "name": "ml"
  },
  "language_info": {
   "codemirror_mode": {
    "name": "ipython",
    "version": 3
   },
   "file_extension": ".py",
   "mimetype": "text/x-python",
   "name": "python",
   "nbconvert_exporter": "python",
   "pygments_lexer": "ipython3",
   "version": "3.6.8"
  }
 },
 "nbformat": 4,
 "nbformat_minor": 2
}
