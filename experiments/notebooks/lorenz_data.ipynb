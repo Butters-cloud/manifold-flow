{
 "cells": [
  {
   "cell_type": "markdown",
   "metadata": {},
   "source": [
    "# Lorenz attractor"
   ]
  },
  {
   "cell_type": "code",
   "execution_count": null,
   "metadata": {},
   "outputs": [],
   "source": [
    "%matplotlib inline\n",
    "\n",
    "import numpy as np\n",
    "from matplotlib import pyplot as plt\n",
    "from mpl_toolkits.mplot3d import Axes3D\n",
    "import sys\n",
    "\n",
    "sys.path.append(\"../../\")\n",
    "from experiments.datasets import LorenzSimulator\n",
    "import plot_settings as ps\n",
    "        "
   ]
  },
  {
   "cell_type": "code",
   "execution_count": null,
   "metadata": {},
   "outputs": [],
   "source": [
    "ps.setup()"
   ]
  },
  {
   "cell_type": "code",
   "execution_count": null,
   "metadata": {},
   "outputs": [],
   "source": [
    "sim1 = LorenzSimulator(random_trajectories=3, warmup=0.)\n",
    "sim2 = LorenzSimulator(random_trajectories=10)"
   ]
  },
  {
   "cell_type": "code",
   "execution_count": null,
   "metadata": {},
   "outputs": [],
   "source": [
    "trajectories = [sim1.trajectory(0), sim1.trajectory(1), sim1.trajectory(2)]"
   ]
  },
  {
   "cell_type": "code",
   "execution_count": null,
   "metadata": {},
   "outputs": [],
   "source": [
    "# x = sim2.sample(1000)\n",
    "x = np.load(\"../data/samples/lorenz/x_train.npy\")[:1000]\n",
    "# x = np.load(\"../data/samples/lorenz/x_test.npy\")[:1000]"
   ]
  },
  {
   "cell_type": "code",
   "execution_count": null,
   "metadata": {},
   "outputs": [],
   "source": [
    "dots = 500\n",
    "length = 40000\n",
    "\n",
    "fig, ax = ps.figure(height=0.33*ps.TEXTWIDTH, cbar=False, make3d=True, large_margin=0.01, small_margin=0.01)\n",
    "\n",
    "ax.set_xlim3d(-2.8, 2.8)\n",
    "ax.set_ylim3d(-2.8, 2.8)\n",
    "ax.set_zlim3d(-2.8, 2.8)\n",
    "ax.set_xticks([-2., 0., 2.])\n",
    "ax.set_yticks([-2., 0., 2.])\n",
    "ax.set_zticks([-2., 0., 2.])\n",
    "ax.set_xticklabels([\"-2\\n\", \"0\\n\", \"2\\n\"], va=\"center\", ha=\"center\", linespacing=2)  # arghgh\n",
    "ax.set_yticklabels([\"-2   \\n\", \"0   \\n\", \"2   \\n\"], ha=\"center\", va=\"center\", linespacing=2)\n",
    "ax.set_zticklabels([\"-2     \", \"0     \", \"2     \"], ha=\"center\")\n",
    "ax.set_xlabel(\"$x_0$\", labelpad=-5.)\n",
    "ax.set_ylabel(\"$x_1$\", labelpad=-5.)\n",
    "ax.set_zlabel(\"$x_2$\", labelpad=-5.)\n",
    "\n",
    "ax.view_init(elev=20, azim=-70)\n",
    "for i, color in enumerate([ps.COLORS[1], ps.COLORS[2], ps.COLORS[3]]):\n",
    "    ax.plot(\n",
    "        trajectories[i][:length, 0], trajectories[i][:length, 1], trajectories[i][:length, 2],\n",
    "        lw=0.5, c=color\n",
    "    )\n",
    "ax.scatter(x[:dots,0], x[:dots,1], x[:dots,2], c=ps.COLOR_NEUTRAL1, s=1., zorder=5, alpha=1.)\n",
    "\n",
    "plt.savefig(\"../figures/lorenz_data.pdf\")\n"
   ]
  },
  {
   "cell_type": "code",
   "execution_count": null,
   "metadata": {},
   "outputs": [],
   "source": []
  }
 ],
 "metadata": {
  "kernelspec": {
   "display_name": "Python (ML)",
   "language": "python",
   "name": "ml"
  },
  "language_info": {
   "codemirror_mode": {
    "name": "ipython",
    "version": 3
   },
   "file_extension": ".py",
   "mimetype": "text/x-python",
   "name": "python",
   "nbconvert_exporter": "python",
   "pygments_lexer": "ipython3",
   "version": "3.7.3"
  }
 },
 "nbformat": 4,
 "nbformat_minor": 4
}
