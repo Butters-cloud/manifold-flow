{
 "cells": [
  {
   "cell_type": "markdown",
   "metadata": {},
   "source": [
    "# Spherical Gaussian experiment: generative results"
   ]
  },
  {
   "cell_type": "markdown",
   "metadata": {},
   "source": [
    "## Setup"
   ]
  },
  {
   "cell_type": "code",
   "execution_count": 1,
   "metadata": {},
   "outputs": [],
   "source": [
    "import sys\n",
    "import numpy as np\n",
    "import torch\n",
    "from torch.utils.data import TensorDataset\n",
    "import logging\n",
    "from sklearn.metrics import roc_auc_score\n",
    "\n",
    "sys.path.append(\"../../\")\n",
    "\n",
    "logging.basicConfig(\n",
    "    format=\"%(asctime)-5.5s %(name)-30.30s %(levelname)-7.7s %(message)s\",\n",
    "    datefmt=\"%H:%M\",\n",
    "    level=logging.DEBUG,\n",
    ")\n",
    "logger = logging.getLogger(__name__)\n",
    "# Output of all other modules (e.g. matplotlib)\n",
    "for key in logging.Logger.manager.loggerDict:\n",
    "    if \"manifold_flow\" not in key:\n",
    "        logging.getLogger(key).setLevel(logging.WARNING)\n"
   ]
  },
  {
   "cell_type": "markdown",
   "metadata": {},
   "source": [
    "## Load results"
   ]
  },
  {
   "cell_type": "code",
   "execution_count": 2,
   "metadata": {},
   "outputs": [],
   "source": [
    "setup_filenames = [\n",
    "    \"2_3_0.010\",\n",
    "    \"2_3_0.001\",\n",
    "    \"2_3_0.100\",\n",
    "]\n",
    "setup_labels = [\n",
    "    \"epsilon = 0.01\",\n",
    "    \"epsilon = 0.001\",\n",
    "    \"epsilon = 0.1\",\n",
    "]"
   ]
  },
  {
   "cell_type": "code",
   "execution_count": 3,
   "metadata": {},
   "outputs": [],
   "source": [
    "algo_filenames = []\n",
    "algo_additionals = []\n",
    "algo_labels = []\n",
    "\n",
    "def add_algo(filename, add, label):\n",
    "    algo_filenames.append(filename)\n",
    "    algo_additionals.append(add)\n",
    "    algo_labels.append(label)\n",
    "    \n",
    "    \n",
    "add_algo(\"flow\", \"_small\", \"Flow\")\n",
    "add_algo(\"flow\", \"_small_long\", \"Flow (long)\")\n",
    "add_algo(\"flow\", \"_small_shallow_long\", \"Flow (shallow, long)\")\n",
    "\n",
    "add_algo(\"pie\", \"_small\", \"PIE\") \n",
    "add_algo(\"pie\", \"_small_epsi\", \"PIE\") \n",
    "add_algo(\"pie\", \"_small\", \"PIE\") \n",
    "add_algo(\"pie\", \"_small\", \"PIE\") \n",
    "add_algo(\"pie\", \"_small\", \"PIE\") \n",
    "add_algo(\"pie\", \"_small_long\", \"PIE (long)\") \n",
    "add_algo(\"pie\", \"_small_shallow_long\", \"PIE (shallow, long)\") \n",
    "\n",
    "add_algo(\"mf\", \"_small\", \"MAD AF\")\n",
    "add_algo(\"mf\", \"_small_noprepost\", \"MAD AF (no pre/post)\")\n",
    "add_algo(\"mf\", \"_small_complex\", \"MAD AF (complex)\") \n",
    "add_algo(\"mf\", \"_small_long\", \"MAD AF (long)\")\n",
    "add_algo(\"mf\", \"_small_shallow_long\", \"MAD AF (shallow, long)\")\n",
    "\n",
    "add_algo(\"emf\", \"_small\", \"MAD AF + Enc.\")\n",
    "\n",
    "add_algo(\"gamf\", \"_small_largebs\", \"OT MAD AF\")\n",
    "add_algo(\"gamf\", \"_small_hugebsbs\", \"OT MAD AF (5k batchsize)\") \n",
    "add_algo(\"gamf\", \"_small_largebs_long\", \"OT MAD AF (long)\") \n",
    "add_algo(\"gamf\", \"_small_largebs_shallow_long\", \"OT MAD AF (shallow, long)\") \n",
    "\n",
    "add_algo(\"pie_specified\", \"_small\", \"Prescr. PIE\") \n",
    "add_algo(\"pie_specified\", \"_small_long\", \"Prescr. PIE (long)\") \n",
    "add_algo(\"pie_specified\", \"_small_shallow_long\", \"Prescr. PIE (shallow, long)\") \n",
    "\n",
    "add_algo(\"mf_specified\", \"_small\", \"Prescr. MAD AF\") \n",
    "add_algo(\"mf_specified\", \"_small_long\", \"Prescr. MAD AF (long)\") \n",
    "add_algo(\"mf_specified\", \"_small_shallow_long\", \"Prescr. MAD AF (shallow, long)\")\n",
    "\n",
    "add_algo(\"gamf_specified\", \"_small_largebs\", \"Prescr. OT MAD AF\")\n",
    "add_algo(\"gamf_specified\", \"_small_hugebs\", \"Prescr. OT MAD AF (5k batchsize)\") \n",
    "add_algo(\"gamf_specified\", \"_small_largebs_long\", \"Prescr. OT MAD AF (long)\") \n",
    "add_algo(\"gamf_specified\", \"_small_largebs_shallow_long\", \"Prescr. OT MAD AF (shallow, long)\") \n"
   ]
  },
  {
   "cell_type": "code",
   "execution_count": 4,
   "metadata": {},
   "outputs": [],
   "source": [
    "def load(name, shape, numpyfy=True, result_dir=\"../data/results\"):\n",
    "    all_results = []\n",
    "    \n",
    "    for algo_filename, algo_add in zip(algo_filenames, algo_additionals):\n",
    "        results = []\n",
    "        \n",
    "        for setup_filename in setup_filenames:\n",
    "            try:\n",
    "                results.append(np.load(\n",
    "                    \"{}/{}_2_spherical_gaussian_{}{}_{}.npy\".format(\n",
    "                        result_dir, algo_filename, setup_filename, algo_add, name\n",
    "                    )\n",
    "                ))\n",
    "            except FileNotFoundError as e:\n",
    "                # print(e)\n",
    "                \n",
    "                if shape is None:\n",
    "                    results.append(None)\n",
    "                else:\n",
    "                    results.append(np.nan*np.ones(shape))\n",
    "            \n",
    "        all_results.append(results)\n",
    "    \n",
    "    return np.asarray(all_results) if numpyfy else all_results\n",
    "\n",
    "x_gen = load(\"samples\", None, numpyfy=False)\n",
    "logp_gen = load(\"samples_likelihood\", (10000,))\n",
    "distance_gen = load(\"samples_manifold_distance\", (10000,))\n",
    "\n",
    "true_test_log_likelihood = load(\"true_log_likelihood_test\", (1000,))\n",
    "model_test_log_likelihood = load(\"model_log_likelihood_test\", (1000,))\n",
    "model_test_reco_error = load(\"model_reco_error_test\", (1000,))\n",
    "\n",
    "model_ood_log_likelihood = load(\"model_log_likelihood_ood\", (1000,))\n",
    "model_ood_reco_error = load(\"model_reco_error_ood\", (1000,))\n"
   ]
  },
  {
   "cell_type": "code",
   "execution_count": 5,
   "metadata": {},
   "outputs": [],
   "source": [
    "x_test = np.asarray([\n",
    "    np.load(\"../data/samples/spherical_gaussian/spherical_gaussian_{}_x_test.npy\".format(setup_filename))\n",
    "    for setup_filename in setup_filenames\n",
    "])\n",
    "\n",
    "true_distances = np.abs(np.sum(x_test**2, axis=-1)**0.5 - 1.)"
   ]
  },
  {
   "cell_type": "markdown",
   "metadata": {},
   "source": [
    "## Calculate metrics"
   ]
  },
  {
   "cell_type": "code",
   "execution_count": 6,
   "metadata": {},
   "outputs": [],
   "source": [
    "min_logp = -100.\n",
    "max_distance = 10.\n",
    "\n",
    "mean_logp_gen = np.mean(np.clip(logp_gen, min_logp, None), axis=2)\n",
    "mean_distance_gen = np.mean(np.clip(distance_gen, None, max_distance), axis=2)\n",
    "\n",
    "mean_logp_truth = np.mean(np.clip(true_test_log_likelihood[0], min_logp, None), axis=1)\n",
    "mean_distance_truth = np.mean(np.clip(true_distances, None, max_distance), axis=1)"
   ]
  },
  {
   "cell_type": "code",
   "execution_count": 7,
   "metadata": {},
   "outputs": [
    {
     "name": "stderr",
     "output_type": "stream",
     "text": [
      "/Users/johannbrehmer/anaconda3/envs/ml/lib/python3.6/site-packages/ipykernel_launcher.py:28: RuntimeWarning: invalid value encountered in greater\n"
     ]
    }
   ],
   "source": [
    "def calculate_roc_auc(x0, x1):\n",
    "    return np.asarray(\n",
    "        [\n",
    "            [\n",
    "                np.nan if not np.all(np.isfinite(np.hstack((this_x0, this_x1)))) else (\n",
    "                    np.maximum(\n",
    "                        roc_auc_score(\n",
    "                            np.hstack((np.zeros(this_x0.shape[0], dtype=np.int),\n",
    "                                       np.ones(this_x1.shape[0], dtype=np.int))),\n",
    "                            np.hstack((this_x0, this_x1)),\n",
    "                        ),\n",
    "                        roc_auc_score(\n",
    "                            np.hstack((np.zeros(this_x0.shape[0], dtype=np.int),\n",
    "                                       np.ones(this_x1.shape[0], dtype=np.int))),\n",
    "                            - np.hstack((this_x0, this_x1)),\n",
    "                        )\n",
    "                    )\n",
    "                )\n",
    "                for this_x0, this_x1 in zip(x0_, x1_)\n",
    "            ]\n",
    "            for x0_, x1_ in zip(x0, x1)\n",
    "        ]\n",
    "    )\n",
    "\n",
    "\n",
    "auc_logp = calculate_roc_auc(model_test_log_likelihood, model_ood_log_likelihood)\n",
    "auc_err = calculate_roc_auc(model_test_reco_error, model_ood_reco_error)\n",
    "auc_use_err = (auc_err > auc_logp)\n",
    "auc_best = np.maximum(auc_err, auc_logp)"
   ]
  },
  {
   "cell_type": "code",
   "execution_count": 11,
   "metadata": {},
   "outputs": [
    {
     "data": {
      "text/plain": [
       "array([[0.5574175, 0.505594 , 0.55517  ],\n",
       "       [0.585682 , 0.5132335, 0.592501 ],\n",
       "       [0.580804 , 0.512139 , 0.605715 ],\n",
       "       [0.508557 , 0.505675 , 0.544704 ],\n",
       "       [0.507639 , 0.515988 , 0.5522   ],\n",
       "       [      nan, 0.50153  , 0.641937 ],\n",
       "       [0.658694 , 0.519913 , 0.572225 ],\n",
       "       [0.506468 , 0.510699 , 0.533218 ],\n",
       "       [0.503311 , 0.500522 , 0.537949 ],\n",
       "       [      nan, 0.512337 , 0.502941 ],\n",
       "       [      nan, 0.51167  , 0.624955 ],\n",
       "       [      nan,       nan,       nan],\n",
       "       [0.5181135, 0.5085515, 0.628834 ],\n",
       "       [      nan,       nan,       nan],\n",
       "       [      nan,       nan,       nan],\n",
       "       [      nan,       nan,       nan],\n",
       "       [0.609537 , 0.50799  , 0.72149  ],\n",
       "       [0.579516 , 0.50277  , 0.729342 ],\n",
       "       [0.534581 , 0.511271 , 0.72703  ],\n",
       "       [0.605665 , 0.508931 , 0.729157 ],\n",
       "       [0.570036 , 0.501008 , 0.73105  ],\n",
       "       [0.577369 , 0.501893 , 0.727522 ],\n",
       "       [0.510646 , 0.513771 , 0.705969 ],\n",
       "       [0.50056  , 0.515079 ,       nan],\n",
       "       [      nan,       nan,       nan],\n",
       "       [      nan,       nan,       nan]])"
      ]
     },
     "execution_count": 11,
     "metadata": {},
     "output_type": "execute_result"
    }
   ],
   "source": [
    "auc_err"
   ]
  },
  {
   "cell_type": "markdown",
   "metadata": {},
   "source": [
    "## Print metrics"
   ]
  },
  {
   "cell_type": "code",
   "execution_count": 8,
   "metadata": {},
   "outputs": [],
   "source": [
    "def print_results(setup):\n",
    "    print(\"{:<36.36s} | {:>8.8s} {:>8.8s} {:>8.8s}\".format(setup_labels[setup], \"Log p\", \"Dist\", \"AUC\"))\n",
    "    print(\"-\"*65)\n",
    "    for label, logp, dist, auc in zip(\n",
    "        [\"Simulator\"] + algo_labels,\n",
    "        [mean_logp_truth] + list(mean_logp_gen),\n",
    "        [mean_distance_truth] + list(mean_distance_gen),\n",
    "        [[0.0, 0.0, 0.0]] + list(auc_best)\n",
    "    ):\n",
    "        if np.isfinite(logp[setup]) or np.isfinite(dist[setup]):\n",
    "            print(\"{:<36.36s} | {:>8.2f} {:>8.3f} {:>8.3f}\".format(label, logp[setup], dist[setup], auc[setup]))\n",
    "        else:\n",
    "            print(\"{:<36.36s} |                           \".format(label))"
   ]
  },
  {
   "cell_type": "code",
   "execution_count": 9,
   "metadata": {},
   "outputs": [],
   "source": [
    "def print_all_results():\n",
    "    print(\n",
    "        \"{:<36.36s} | {:^20.20s} | {:^20.20s} | {:^20.20s}\".format(\n",
    "        \"\", setup_labels[0], setup_labels[1], setup_labels[2]\n",
    "        )\n",
    "    )\n",
    "    print(\n",
    "        \"{:<36.36s} | {:>6.6s} {:>6.6s} {:>6.6s} | {:>6.6s} {:>6.6s} {:>6.6s} | {:>6.6s} {:>6.6s} {:>6.6s}\".format(\n",
    "        \"\", \"Log p\", \"Dist\", \"AUC\", \"Log p\", \"Dist\", \"AUC\", \"Log p\", \"Dist\", \"AUC\"\n",
    "        )\n",
    "    )\n",
    "    print(\"-\"*105)\n",
    "    for label, logp, dist, auc in zip(\n",
    "        [\"Simulator\"] + algo_labels,\n",
    "        [mean_logp_truth] + list(mean_logp_gen),\n",
    "        [mean_distance_truth] + list(mean_distance_gen),\n",
    "        [[0.0, 0.0, 0.0]] + list(auc_best)\n",
    "    ):\n",
    "        def _f(val):\n",
    "            return \"{:>6.2f}\".format(val) if np.isfinite(val) else \"      \"\n",
    "        \n",
    "        print(\n",
    "            \"{:<36.36s} | {} {} {} | {} {} {} | {} {} {}\".format(\n",
    "                label, _f(logp[0]), _f(dist[0]),  _f(auc[0]), _f(logp[1]), _f(dist[1]),  _f(auc[1]), _f(logp[2]), _f(dist[2]),  _f(auc[2]), \n",
    "            )\n",
    "        )\n",
    "        "
   ]
  },
  {
   "cell_type": "code",
   "execution_count": 10,
   "metadata": {},
   "outputs": [
    {
     "name": "stdout",
     "output_type": "stream",
     "text": [
      "                                     |    epsilon = 0.01    |   epsilon = 0.001    |    epsilon = 0.1    \n",
      "                                     |  Log p   Dist    AUC |  Log p   Dist    AUC |  Log p   Dist    AUC\n",
      "---------------------------------------------------------------------------------------------------------\n",
      "Simulator                            |   2.32   0.01   0.00 |   4.68   0.00   0.00 |   0.05   0.08   0.00\n",
      "Flow                                 |   1.31   0.03   0.69 |   2.98   0.03   0.71 |  -0.82   0.10   0.65\n",
      "Flow (long)                          |   0.40   0.04   0.59 | -43.32   0.04   0.51 |  -0.78   0.10   0.64\n",
      "Flow (shallow, long)                 |   0.28   0.03   0.58 | -41.98   0.03   0.53 |  -1.07   0.11   0.64\n",
      "PIE                                  |   1.92   0.02   0.71 |   0.36   0.03   0.67 |  -0.28   0.10   0.65\n",
      "PIE (long)                           |   0.09   0.03   0.54 | -65.76   0.04   0.52 |  -2.32   0.16   0.63\n",
      "PIE (shallow, long)                  |                      | -58.22   0.08   0.52 |   0.11   0.06   0.64\n",
      "MAD AF                               |   1.32   0.03   0.66 | -95.85   0.16   0.52 |  -1.54   0.18   0.57\n",
      "MAD AF (no pre/post)                 | -18.67   0.07   0.53 | -87.28   0.31   0.51 | -10.11   0.37   0.55\n",
      "MAD AF (complex)                     | -71.98   0.28   0.51 | -77.45   0.05   0.50 | -13.83   0.36   0.54\n",
      "MAD AF (long)                        |                      | -84.04   0.06   0.51 |  -0.75   0.05   0.52\n",
      "MAD AF (shallow, long)               |                      | -98.70   0.60   0.51 |  -0.64   0.07   0.62\n",
      "MAD AF + Enc.                        |                      |                      |                     \n",
      "OT MAD AF                            |  -2.45   0.04   0.52 | -70.14   0.04   0.51 |   0.05   0.09   0.63\n",
      "OT MAD AF (5k batchsize)             |                      |                      |                     \n",
      "OT MAD AF (long)                     |                      |                      |                     \n",
      "OT MAD AF (shallow, long)            |                      |                      |                     \n",
      "Prescr. PIE                          |   2.93   0.00   0.63 |   5.20   0.00   0.51 |   0.63   0.00   0.72\n",
      "Prescr. PIE (long)                   |   2.95   0.00   0.63 |   5.21   0.00   0.50 |   0.62   0.00   0.73\n",
      "Prescr. PIE (shallow, long)          |   2.96   0.00   0.63 |   4.16   0.00   0.51 |   0.65   0.00   0.73\n",
      "Prescr. MAD AF                       |   2.97   0.00   0.61 |   5.21   0.00   0.51 |   0.62   0.00   0.73\n",
      "Prescr. MAD AF (long)                |   2.93   0.00   0.57 |   5.23   0.00   0.51 |   0.64   0.00   0.73\n",
      "Prescr. MAD AF (shallow, long)       |   2.96   0.00   0.58 |   5.26   0.00   0.50 |   0.67   0.00   0.73\n",
      "Prescr. OT MAD AF                    |   2.93   0.00   0.51 |   5.28   0.00   0.51 |   0.62   0.00   0.71\n",
      "Prescr. OT MAD AF (5k batchsize)     |   2.94   0.00   0.50 |   5.26   0.00   0.52 |                     \n",
      "Prescr. OT MAD AF (long)             |                      |                      |                     \n",
      "Prescr. OT MAD AF (shallow, long)    |                      |                      |                     \n"
     ]
    }
   ],
   "source": [
    "print_all_results()"
   ]
  },
  {
   "cell_type": "code",
   "execution_count": null,
   "metadata": {},
   "outputs": [],
   "source": []
  }
 ],
 "metadata": {
  "kernelspec": {
   "display_name": "Python (ML)",
   "language": "python",
   "name": "ml"
  },
  "language_info": {
   "codemirror_mode": {
    "name": "ipython",
    "version": 3
   },
   "file_extension": ".py",
   "mimetype": "text/x-python",
   "name": "python",
   "nbconvert_exporter": "python",
   "pygments_lexer": "ipython3",
   "version": "3.6.8"
  }
 },
 "nbformat": 4,
 "nbformat_minor": 2
}
