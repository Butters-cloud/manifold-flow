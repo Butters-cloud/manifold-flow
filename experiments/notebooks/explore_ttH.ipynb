{
 "cells": [
  {
   "cell_type": "markdown",
   "metadata": {},
   "source": [
    "# Explore ttH dataset"
   ]
  },
  {
   "cell_type": "markdown",
   "metadata": {},
   "source": [
    "## Setup"
   ]
  },
  {
   "cell_type": "code",
   "execution_count": 6,
   "metadata": {},
   "outputs": [],
   "source": [
    "import sys\n",
    "import numpy as np\n",
    "import matplotlib\n",
    "from matplotlib import pyplot as plt\n",
    "import torch\n",
    "from torch.utils.data import TensorDataset\n",
    "import logging\n",
    "import corner\n",
    "\n",
    "sys.path.append(\"../../\")\n",
    "# from experiments.simulators.collider import TopHiggsLoader\n",
    "\n",
    "%matplotlib inline\n",
    "\n",
    "logging.basicConfig(\n",
    "    format=\"%(asctime)-5.5s %(name)-30.30s %(levelname)-7.7s %(message)s\",\n",
    "    datefmt=\"%H:%M\",\n",
    "    level=logging.INFO,\n",
    ")\n",
    "logger = logging.getLogger(__name__)\n",
    "# Output of all other modules (e.g. matplotlib)\n",
    "for key in logging.Logger.manager.loggerDict:\n",
    "    if \"experiments\" not in key and \"manifold_flow\" not in key:\n",
    "        logging.getLogger(key).setLevel(logging.WARNING)\n"
   ]
  },
  {
   "cell_type": "markdown",
   "metadata": {},
   "source": [
    "## Analyze data"
   ]
  },
  {
   "cell_type": "code",
   "execution_count": 3,
   "metadata": {},
   "outputs": [],
   "source": [
    "x = np.load(\"../data/tth/x_train.npy\")\n",
    "params = np.load(\"../data/tth/theta_train.npy\")"
   ]
  },
  {
   "cell_type": "code",
   "execution_count": 12,
   "metadata": {},
   "outputs": [
    {
     "data": {
      "text/plain": [
       "array([ 8.91563034e+01,  3.80451012e+01,  1.22160637e+02,  6.28824348e+01,\n",
       "        1.48457108e+02,  5.20157127e+01,  1.66163605e+02,  8.18938675e+01,\n",
       "        2.30738586e+02,  1.35192581e+02,  2.74855743e+02,  1.11023781e+02,\n",
       "        3.07111692e+00,  2.06056309e+00,  2.00628996e+00,  8.91026020e-01,\n",
       "        1.11526406e+00,  2.88845205e+00,  9.74573672e-01,  1.09504437e+00,\n",
       "        9.96066272e-01,  1.07848775e+00,  1.01008689e+00,  1.14933527e+00,\n",
       "        7.20288590e-05,  4.20529163e-03,  6.18653744e-03,  1.71405496e-03,\n",
       "        1.08098506e-03,  1.53915945e-03,  1.03206825e+02,  1.23626488e+02,\n",
       "        8.27635422e+01,  3.63268191e-03, -4.49752389e-03,  1.94783340e+02,\n",
       "        1.07005432e+02,  9.47078131e-03, -6.46084640e-03,  1.24853699e+02,\n",
       "        1.70047745e+02, -2.99490546e-03,  2.43827514e-03,  5.80094242e-03,\n",
       "       -6.84846006e-03,  3.84141505e-03, -6.52486878e-03,  3.75276082e-03],\n",
       "      dtype=float32)"
      ]
     },
     "execution_count": 12,
     "metadata": {},
     "output_type": "execute_result"
    }
   ],
   "source": [
    "np.mean(x, axis=0)"
   ]
  },
  {
   "cell_type": "code",
   "execution_count": 5,
   "metadata": {},
   "outputs": [
    {
     "data": {
      "text/plain": [
       "(1000000, 3)"
      ]
     },
     "execution_count": 5,
     "metadata": {},
     "output_type": "execute_result"
    }
   ],
   "source": [
    "params.shape"
   ]
  },
  {
   "cell_type": "code",
   "execution_count": null,
   "metadata": {},
   "outputs": [],
   "source": [
    "corner.corner(x[::100])"
   ]
  },
  {
   "cell_type": "code",
   "execution_count": null,
   "metadata": {},
   "outputs": [],
   "source": []
  }
 ],
 "metadata": {
  "kernelspec": {
   "display_name": "Python (ML)",
   "language": "python",
   "name": "ml"
  },
  "language_info": {
   "codemirror_mode": {
    "name": "ipython",
    "version": 3
   },
   "file_extension": ".py",
   "mimetype": "text/x-python",
   "name": "python",
   "nbconvert_exporter": "python",
   "pygments_lexer": "ipython3",
   "version": "3.6.8"
  }
 },
 "nbformat": 4,
 "nbformat_minor": 2
}
