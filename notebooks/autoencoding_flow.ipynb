{
 "cells": [
  {
   "cell_type": "code",
   "execution_count": 1,
   "metadata": {
    "collapsed": true
   },
   "outputs": [],
   "source": [
    "import numpy as np\n",
    "import logging\n",
    "import sys\n",
    "from matplotlib import pyplot as plt\n",
    "\n",
    "%matplotlib inline\n",
    "sys.path.append(\"../\")\n",
    "\n",
    "import torch\n",
    "from torchvision.datasets import MNIST\n",
    "from torchvision import transforms\n",
    "\n",
    "from aef.models.autoencoding_flow import TwoStepAutoencodingFlow\n",
    "from aef.trainer import AutoencodingFlowTrainer\n",
    "from aef.losses import nll, mse\n",
    "\n",
    "logging.basicConfig(\n",
    "    format=\"%(asctime)-5.5s %(name)-20.20s %(levelname)-7.7s %(message)s\",\n",
    "    datefmt=\"%H:%M\",\n",
    "    level=logging.INFO,\n",
    ")\n"
   ]
  },
  {
   "cell_type": "markdown",
   "metadata": {},
   "source": [
    "## Data"
   ]
  },
  {
   "cell_type": "code",
   "execution_count": 2,
   "metadata": {
    "collapsed": true
   },
   "outputs": [],
   "source": [
    "img_transform = transforms.Compose([\n",
    "    transforms.ToTensor(),\n",
    "    transforms.Normalize((0.5,), (0.5,))\n",
    "])\n",
    "mnist = MNIST('./data', download=True, transform=img_transform)"
   ]
  },
  {
   "cell_type": "markdown",
   "metadata": {},
   "source": [
    "## Train autoencoder"
   ]
  },
  {
   "cell_type": "code",
   "execution_count": 3,
   "metadata": {
    "collapsed": true
   },
   "outputs": [],
   "source": [
    "ae = TwoStepAutoencodingFlow(data_dim=28*28, latent_dim=16)"
   ]
  },
  {
   "cell_type": "code",
   "execution_count": null,
   "metadata": {},
   "outputs": [],
   "source": [
    "trainer = AutoencodingFlowTrainer(ae, output_filename=\"output/aef_phase1\")\n",
    "trainer.train(\n",
    "    dataset=mnist,\n",
    "    loss_functions=[mse, nll],\n",
    "    loss_labels=[\"MSE\", \"NLL\"],\n",
    "    loss_weights=[1., 1.],\n",
    "    batch_size=256,\n",
    "    epochs=10,\n",
    "    verbose=\"all\",\n",
    "    initial_lr=1.e-3,\n",
    "    final_lr=1.e-5\n",
    ")"
   ]
  },
  {
   "cell_type": "markdown",
   "metadata": {},
   "source": [
    "## Visualize latent space"
   ]
  },
  {
   "cell_type": "code",
   "execution_count": null,
   "metadata": {
    "collapsed": true
   },
   "outputs": [],
   "source": [
    "x = torch.cat([mnist[i][0].unsqueeze(0) for i in range(1000)], dim=0)\n",
    "y = np.asarray([mnist[i][1] for i in range(1000)])"
   ]
  },
  {
   "cell_type": "code",
   "execution_count": null,
   "metadata": {
    "collapsed": true
   },
   "outputs": [],
   "source": [
    "h, u = ae.latent(x)\n",
    "x_out = ae.decoder(h)\n",
    "h = h.detach().numpy().reshape((-1,2))\n",
    "u = u.detach().numpy().reshape((-1,2))"
   ]
  },
  {
   "cell_type": "code",
   "execution_count": null,
   "metadata": {
    "collapsed": true
   },
   "outputs": [],
   "source": [
    "fig = plt.figure(figsize=(10,5))\n",
    "\n",
    "ax = plt.subplot(1,2,1)\n",
    "for i in range(10):\n",
    "    plt.scatter(h[y==i][:,0], h[y==i][:,1], c=\"C{}\".format(i), s=20., label=\"{}\".format(i+1))\n",
    "plt.legend()\n",
    "    \n",
    "ax = plt.subplot(1,2,2)\n",
    "for i in range(10):\n",
    "    plt.scatter(u[y==i][:,0], u[y==i][:,1], c=\"C{}\".format(i), s=20., label=\"{}\".format(i+1))\n",
    "plt.legend()\n",
    "\n",
    "plt.tight_layout()\n",
    "plt.show()\n"
   ]
  },
  {
   "cell_type": "markdown",
   "metadata": {
    "collapsed": true
   },
   "source": [
    "## Visualize reconstruction"
   ]
  },
  {
   "cell_type": "code",
   "execution_count": null,
   "metadata": {
    "collapsed": true
   },
   "outputs": [],
   "source": [
    "x = torch.cat([mnist[i][0].unsqueeze(0) for i in range(1000)], dim=0)\n",
    "y = np.asarray([mnist[i][1] for i in range(1000)])"
   ]
  },
  {
   "cell_type": "code",
   "execution_count": null,
   "metadata": {
    "collapsed": true
   },
   "outputs": [],
   "source": [
    "h = ae.encoder(x)\n",
    "x_out = ae.decoder(h)\n",
    "h = h.detach().numpy()\n",
    "x_out = x_out.detach().numpy()"
   ]
  },
  {
   "cell_type": "code",
   "execution_count": null,
   "metadata": {
    "collapsed": true
   },
   "outputs": [],
   "source": [
    "fig = plt.figure(figsize=(12,12))\n",
    "\n",
    "for i in range(18):\n",
    "    ax = plt.subplot(6, 6, 2*i + 1)\n",
    "    plt.imshow(x[i].reshape((28,28)))\n",
    "    ax = plt.subplot(6, 6, 2*i + 2)\n",
    "    plt.imshow(x_out[i].reshape((28,28)))\n",
    "        \n",
    "plt.tight_layout()\n",
    "plt.show()"
   ]
  },
  {
   "cell_type": "code",
   "execution_count": null,
   "metadata": {
    "collapsed": true
   },
   "outputs": [],
   "source": []
  }
 ],
 "metadata": {
  "kernelspec": {
   "display_name": "Python (ML)",
   "language": "python",
   "name": "ml"
  },
  "language_info": {
   "codemirror_mode": {
    "name": "ipython",
    "version": 3
   },
   "file_extension": ".py",
   "mimetype": "text/x-python",
   "name": "python",
   "nbconvert_exporter": "python",
   "pygments_lexer": "ipython3",
   "version": "3.6.8"
  }
 },
 "nbformat": 4,
 "nbformat_minor": 2
}
