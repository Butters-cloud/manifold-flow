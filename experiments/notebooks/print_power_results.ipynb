{
 "cells": [
  {
   "cell_type": "markdown",
   "metadata": {},
   "source": [
    "# Power manifold results"
   ]
  },
  {
   "cell_type": "markdown",
   "metadata": {},
   "source": [
    "## Setup"
   ]
  },
  {
   "cell_type": "code",
   "execution_count": 1,
   "metadata": {},
   "outputs": [],
   "source": [
    "import sys\n",
    "import numpy as np\n",
    "from sklearn.metrics import roc_auc_score\n"
   ]
  },
  {
   "cell_type": "markdown",
   "metadata": {},
   "source": [
    "## Load results"
   ]
  },
  {
   "cell_type": "code",
   "execution_count": 2,
   "metadata": {},
   "outputs": [],
   "source": [
    "n_runs = 3"
   ]
  },
  {
   "cell_type": "code",
   "execution_count": 3,
   "metadata": {},
   "outputs": [],
   "source": [
    "algo_filenames = []\n",
    "algo_additionals = []\n",
    "algo_labels = []\n",
    "algo_dividers = []\n",
    "\n",
    "def add_algo(filename, add, label):\n",
    "    algo_filenames.append(filename)\n",
    "    algo_additionals.append(add)\n",
    "    algo_labels.append(label)\n",
    "    \n",
    "    \n",
    "def add_divider():\n",
    "    algo_dividers.append(len(algo_filenames))\n",
    "    \n",
    "\n",
    "add_algo(\"flow\", \"_small\", \"EF\")\n",
    "add_algo(\"flow\", \"_small_long\", \"EF (long)\")\n",
    "add_algo(\"flow\", \"_small_shallow_long\", \"EF (shallow, long)\")\n",
    "\n",
    "add_divider()\n",
    "add_algo(\"pie\", \"_small\", \"PIE\") \n",
    "add_algo(\"pie\", \"_small_pieepsilon01\", \"PIE (eps = 0.1)\") \n",
    "add_algo(\"pie\", \"_small_pieepsilon003\", \"PIE (eps = 0.03)\") \n",
    "add_algo(\"pie\", \"_small_pieepsilon0003\", \"PIE (eps = 0.003)\") \n",
    "add_algo(\"pie\", \"_small_pieepsilon0001\", \"PIE (eps = 0.001)\") \n",
    "add_algo(\"pie\", \"_small_pieepsilon00003\", \"PIE (eps = 0.0003)\") \n",
    "add_algo(\"pie\", \"_small_pieepsilon00001\", \"PIE (eps = 0.0001)\") \n",
    "add_algo(\"pie\", \"_small_long\", \"PIE (long)\") \n",
    "add_algo(\"pie\", \"_small_shallow_long\", \"PIE (shallow, long)\") \n",
    "\n",
    "add_divider()\n",
    "add_algo(\"mf\", \"_small\", \"MLF-S\")\n",
    "add_algo(\"mf\", \"_small_morenll\", \"MLF-S (large lambda)\")\n",
    "add_algo(\"mf\", \"_small_long\", \"MLF-S (long)\")\n",
    "add_algo(\"mf\", \"_small_shallow_long\", \"MLF-S (shallow, long)\")\n",
    "\n",
    "add_divider()\n",
    "add_algo(\"mf\", \"_small_alternate\", \"MLF-A\")\n",
    "add_algo(\"mf\", \"_small_alternate_wdecay\", \"MLF-A (wd)\")\n",
    "add_algo(\"mf\", \"_small_alternate_long\", \"MLF-A (long)\")\n",
    "add_algo(\"mf\", \"_small_alternate_wdecay_long\", \"MLF-A (long, wd)\")\n",
    "add_algo(\"mf\", \"_small_alternate_shallow_long\", \"MLF-A (shallow, long)\")\n",
    "add_algo(\"mf\", \"_small_alternate_wdecay_shallow_long\", \"MLF-A (shallow, long, wd)\")\n",
    "\n",
    "add_divider()\n",
    "add_algo(\"gamf\", \"_small_largebs\", \"MLF-OT\")\n",
    "add_algo(\"gamf\", \"_small_wdecay_largebs\", \"MLF-OT (wd)\")\n",
    "add_algo(\"gamf\", \"_small_hugebs\", \"MLF-OT (5k bs)\") \n",
    "add_algo(\"gamf\", \"_small_wdecay_hugebs\", \"MLF-OT (5k bs, wd)\") \n",
    "add_algo(\"gamf\", \"_small_largebs_long\", \"MLF-OT (long)\") \n",
    "add_algo(\"gamf\", \"_small_wdecay_largebs_long\", \"MLF-OT (long, wd)\") \n",
    "add_algo(\"gamf\", \"_small_largebs_shallow_long\", \"MLF-OT (shallow, long)\") \n",
    "add_algo(\"gamf\", \"_small_wdecay_largebs_shallow_long\", \"MLF-OT (shallow, long, wd)\") \n",
    "\n",
    "add_divider()\n",
    "add_algo(\"gamf\", \"_small_largebs\", \"MLF-OTA\")\n",
    "add_algo(\"gamf\", \"_small_wdecay_largebs\", \"MLF-OTA (wd)\")\n",
    "add_algo(\"gamf\", \"_small_hugebs\", \"MLF-OTA (5k bs)\") \n",
    "add_algo(\"gamf\", \"_small_wdecay_hugebs\", \"MLF-OTA (5k bs, wd)\") \n",
    "add_algo(\"gamf\", \"_small_largebs_long\", \"MLF-OTA (long)\") \n",
    "add_algo(\"gamf\", \"_small_wdecay_largebs_long\", \"MLF-OTA (long, wd)\") \n",
    "add_algo(\"gamf\", \"_small_largebs_shallow_long\", \"MLF-OTA (shallow, long)\") \n",
    "add_algo(\"gamf\", \"_small_wdecay_largebs_shallow_long\", \"MLF-OTA (shallow, long, wd)\") \n",
    "\n",
    "add_divider()\n",
    "add_algo(\"emf\", \"_small\", \"EMLF-S\")\n",
    "add_algo(\"mef\", \"_small_morenll\", \"EMLF-S (large lambda)\")\n",
    "add_algo(\"emf\", \"_small_long\", \"EMLF-S (long)\")\n",
    "add_algo(\"emf\", \"_small_shallow_long\", \"EMLF-S (shallow, long)\")\n",
    "\n",
    "add_divider()\n",
    "add_algo(\"emf\", \"_small_alternate\", \"EMLF-A\")\n",
    "add_algo(\"emf\", \"_small_alternate_wdecay\", \"EMLF-A (wd)\")\n",
    "add_algo(\"emf\", \"_small_alternate_long\", \"EMLF-A (long)\")\n",
    "add_algo(\"emf\", \"_small_alternate_wdecay_long\", \"EMLF-A (long, wd)\")\n",
    "add_algo(\"emf\", \"_small_alternate_shallow_long\", \"EMLF-A (shallow, long)\")\n",
    "add_algo(\"emf\", \"_small_alternate_wdecay_shallow_long\", \"EMLF-A (shallow, long, wd)\")\n"
   ]
  },
  {
   "cell_type": "code",
   "execution_count": 4,
   "metadata": {},
   "outputs": [],
   "source": [
    "def load(name, shape, numpyfy=True, result_dir=\"../data/results\"):\n",
    "    all_results = []\n",
    "    \n",
    "    for algo_filename, algo_add in zip(algo_filenames, algo_additionals):\n",
    "        algo_results = []\n",
    "            \n",
    "        for run in range(n_runs):\n",
    "            run_str = \"\" if run == 0 else \"_run{}\".format(run)\n",
    "            try:\n",
    "                algo_results.append(np.load(\n",
    "                    \"{}/{}_2_power{}{}_{}.npy\".format(\n",
    "                        result_dir, algo_filename, algo_add, run_str, name\n",
    "                    )\n",
    "                ))\n",
    "            except FileNotFoundError as e:\n",
    "                # print(e)\n",
    "                if shape is None:\n",
    "                    algo_results.append(None)\n",
    "                else:\n",
    "                    algo_results.append(np.nan*np.ones(shape))\n",
    "            \n",
    "        all_results.append(algo_results)\n",
    "    \n",
    "    if numpyfy:\n",
    "        try:\n",
    "            all_results = np.array(all_results, dtype=np.float)\n",
    "        except Exception as e:\n",
    "            print(name)\n",
    "            print(len(all_results))\n",
    "            print([len(res) for res in all_results])\n",
    "            print([[len(r) for r in res] for res in all_results])\n",
    "            raise\n",
    "        \n",
    "    return all_results\n",
    "\n",
    "\n",
    "model_gen_x = load(\"samples\", None, numpyfy=False)\n",
    "model_gen_logp = load(\"samples_likelihood\", (10000,))\n",
    "model_gen_distance = load(\"samples_manifold_distance\", (10000,))\n",
    "model_test_logp = load(\"model_log_likelihood_test\", (101, 1000,))\n",
    "model_test_reco_error = load(\"model_reco_error_test\", (1000,))\n",
    "model_ood_logp = load(\"model_log_likelihood_ood\", (101, 1000,))\n",
    "model_ood_reco_error = load(\"model_reco_error_ood\", (1000,))\n",
    "model_posterior_samples = load(\"posterior_samples\", (5000, 1), numpyfy=False)\n",
    "model_mmds = load(\"mmd\", (1,))\n"
   ]
  },
  {
   "cell_type": "code",
   "execution_count": 5,
   "metadata": {},
   "outputs": [],
   "source": [
    "def load_truth(name, samples=True):\n",
    "    if samples:\n",
    "        return np.asarray([\n",
    "            np.load(\"../data/samples/power/{}{}.npy\".format(\n",
    "                name, run_str\n",
    "            ))\n",
    "            for run_str in [\"\"] + [\"_run{}\".format(i) for i in range(1, n_runs)]\n",
    "        ])\n",
    "    else:\n",
    "        return np.asarray([\n",
    "            np.load(\"../data/results/truth_power{}_{}.npy\".format(\n",
    "                run_str, name\n",
    "            ))\n",
    "            for run_str in [\"\"] + [\"_run{}\".format(i) for i in range(1, n_runs)]\n",
    "        ])\n",
    "\n",
    "test_x = load_truth(\"x_test\", True)\n",
    "test_distance = np.zeros((test_x.shape[0], 1))\n",
    "test_logp = load_truth(\"true_log_likelihood_test\", False)\n",
    "true_posterior_samples = load_truth(\"posterior_samples\", False)\n",
    "\n",
    "param_grid = np.linspace(-1, 1, 101)\n"
   ]
  },
  {
   "cell_type": "markdown",
   "metadata": {},
   "source": [
    "## Calculate metrics"
   ]
  },
  {
   "cell_type": "code",
   "execution_count": 6,
   "metadata": {},
   "outputs": [],
   "source": [
    "n_observed = 20\n",
    "min_logp = -100.\n",
    "max_distance = 10.\n",
    "\n",
    "model_gen_mean_logp = np.mean(np.clip(model_gen_logp, min_logp, None), axis=2)\n",
    "model_gen_mean_distance = np.mean(np.clip(model_gen_distance, None, max_distance), axis=2)\n",
    "model_observed_nll = -2. * np.sum(model_test_logp[:,:,:,:n_observed], axis=-1)\n",
    "\n",
    "test_mean_logp = np.mean(np.clip(test_logp, min_logp, None), axis=1)\n",
    "test_mean_distance = np.mean(np.clip(test_distance, None, max_distance), axis=1)\n",
    "true_observed_nll = -2. * np.sum(test_logp[:,:,:n_observed], axis=-1)\n"
   ]
  },
  {
   "cell_type": "code",
   "execution_count": 7,
   "metadata": {},
   "outputs": [
    {
     "name": "stderr",
     "output_type": "stream",
     "text": [
      "/Users/johannbrehmer/anaconda3/envs/ml/lib/python3.6/site-packages/ipykernel_launcher.py:30: RuntimeWarning: invalid value encountered in greater\n"
     ]
    }
   ],
   "source": [
    "def calculate_roc_auc(x0, x1):\n",
    "    assert x0.shape == x1.shape\n",
    "    old_shape = x0.shape[:-1]\n",
    "    x0 = x0.reshape(-1, x0.shape[-1])\n",
    "    x1 = x1.reshape(-1, x1.shape[-1])\n",
    "    \n",
    "    aucs = []\n",
    "    for x0_, x1_ in zip(x0, x1):\n",
    "        if not np.all(np.isfinite(np.hstack((x0_, x1_)))):\n",
    "            aucs.append(np.nan)\n",
    "            continue\n",
    "            \n",
    "        auc = roc_auc_score(\n",
    "            np.hstack((np.zeros(x0_.shape[0], dtype=np.int), np.ones(x1_.shape[0], dtype=np.int))),\n",
    "            np.hstack((x0_, x1_)),\n",
    "        )\n",
    "        auc_flipped = roc_auc_score(\n",
    "            np.hstack((np.zeros(x0_.shape[0], dtype=np.int), np.ones(x1_.shape[0], dtype=np.int))),\n",
    "            - np.hstack((x0_, x1_)),\n",
    "        )\n",
    "        aucs.append(max(auc, auc_flipped))\n",
    "        \n",
    "    aucs = np.asarray(aucs)\n",
    "    aucs = aucs.reshape(old_shape)\n",
    "    return aucs\n",
    "\n",
    "\n",
    "model_auc_logp = calculate_roc_auc(model_test_logp[:,:,50,:], model_ood_logp[:,:,50,:])\n",
    "model_auc_err = calculate_roc_auc(model_test_reco_error, model_ood_reco_error)\n",
    "model_auc_use_err = (model_auc_err > model_auc_logp)\n",
    "model_auc = np.maximum(model_auc_err, model_auc_logp)\n"
   ]
  },
  {
   "cell_type": "markdown",
   "metadata": {},
   "source": [
    "## Best metrics"
   ]
  },
  {
   "cell_type": "code",
   "execution_count": 19,
   "metadata": {},
   "outputs": [
    {
     "name": "stdout",
     "output_type": "stream",
     "text": [
      "MLF-A (long)\n",
      "EF (long)\n",
      "EF (long)\n"
     ]
    },
    {
     "name": "stderr",
     "output_type": "stream",
     "text": [
      "/Users/johannbrehmer/anaconda3/envs/ml/lib/python3.6/site-packages/ipykernel_launcher.py:1: RuntimeWarning: Mean of empty slice\n",
      "  \"\"\"Entry point for launching an IPython kernel.\n",
      "/Users/johannbrehmer/anaconda3/envs/ml/lib/python3.6/site-packages/ipykernel_launcher.py:4: RuntimeWarning: Mean of empty slice\n",
      "  after removing the cwd from sys.path.\n",
      "/Users/johannbrehmer/anaconda3/envs/ml/lib/python3.6/site-packages/ipykernel_launcher.py:7: RuntimeWarning: Mean of empty slice\n",
      "  import sys\n"
     ]
    }
   ],
   "source": [
    "best_mmd = np.nanargmin(np.nanmean(model_mmds, axis=1))\n",
    "print(algo_labels[best_mmd])\n",
    "\n",
    "best_dist = np.nanargmin(np.nanmean(model_gen_mean_distance, axis=1))\n",
    "print(algo_labels[best_dist])\n",
    "\n",
    "best_auc = np.nanargmin(np.nanmean(model_auc, axis=1))\n",
    "print(algo_labels[best_dist])"
   ]
  },
  {
   "cell_type": "code",
   "execution_count": null,
   "metadata": {},
   "outputs": [],
   "source": [
    "best_mmd = np.argmin(np.nanmean(model_mmds, axis=1))\n",
    "print(algo_labels[best_mmd])"
   ]
  },
  {
   "cell_type": "markdown",
   "metadata": {},
   "source": [
    "## Print metrics"
   ]
  },
  {
   "cell_type": "code",
   "execution_count": 36,
   "metadata": {},
   "outputs": [],
   "source": [
    "def print_results(\n",
    "    include_err=False, include_n_runs=False, l_label=max([len(l) for l in algo_labels]), l_mean=7, l_err=5\n",
    "):\n",
    "    # How to format the numbers\n",
    "    l_result = l_mean + int(include_err) * (3 + l_err) + int(include_n_runs) * 4\n",
    "    l_total = l_label + 1 + 3 * (3 + l_result)\n",
    "    \n",
    "    def _f(val):\n",
    "        if not np.any(np.isfinite(val)):\n",
    "            return \" \"*l_result\n",
    "        \n",
    "        result = \"{:>{}.{}f}\".format(np.nanmean(val), l_mean, l_mean - 2)\n",
    "        if include_err:\n",
    "            result += \" ({:>{}.{}f})\".format(np.nanstd(val), l_err, l_err - 2)\n",
    "        if include_n_runs:\n",
    "            result += \" [{:1n}]\".format(np.sum(np.isfinite(val)))\n",
    "        return result\n",
    "        \n",
    "    \n",
    "    # Header\n",
    "    print(\n",
    "        \"{2:<{0}.{0}s} | {3:>{1}.{1}s} | {4:>{1}.{1}s} | {5:>{1}.{1}s} \".format(\n",
    "            l_label, l_result, \"\", \"Distance\", \"OOD AUC\", \"Posterior MMD\"\n",
    "        )\n",
    "    )\n",
    "    print(\"-\"*l_total)\n",
    "\n",
    "    # Iterate over methods\n",
    "    for i, (label, dist, mmd, auc) in enumerate(zip(algo_labels, model_gen_mean_distance, model_mmds, model_auc)):\n",
    "        # Divider\n",
    "        if i in algo_dividers:\n",
    "            print(\"-\"*l_total)\n",
    "            \n",
    "        # Print results\n",
    "        print(\"{1:<{0}.{0}s} | {2}{5}| {3}{6}| {4}{7}\".format(\n",
    "            l_label, label,\n",
    "            _f(dist), _f(auc),  _f(mmd),\n",
    "            \"*\" if i == best_dist else \" \", \"*\" if i == best_auc else \" \", \"*\" if i == best_mmd else \" \"\n",
    "        ))\n"
   ]
  },
  {
   "cell_type": "code",
   "execution_count": 37,
   "metadata": {},
   "outputs": [
    {
     "name": "stdout",
     "output_type": "stream",
     "text": [
      "                            | Distanc | OOD AUC | Posteri \n",
      "----------------------------------------------------------\n",
      "EF                          | 0.02480 | 0.89290 | 0.10395 \n",
      "EF (long)                   | 0.00773*| 0.93600 | 0.25326 \n",
      "EF (shallow, long)          | 0.01359 | 0.91945 | 0.12238 \n",
      "----------------------------------------------------------\n",
      "PIE                         | 0.03746 | 0.84231 | 0.13966 \n",
      "PIE (eps = 0.1)             | 0.01971 | 0.87777 | 0.12551 \n",
      "PIE (eps = 0.03)            | 0.01295 | 0.87020 | 0.05324 \n",
      "PIE (eps = 0.003)           | 0.01605 | 0.89039 | 0.11495 \n",
      "PIE (eps = 0.001)           | 0.08156 | 0.79135 | 0.07989 \n",
      "PIE (eps = 0.0003)          | 0.01421 | 0.87598 | 0.09799 \n",
      "PIE (eps = 0.0001)          | 0.01920 | 0.89822 | 0.16706 \n",
      "PIE (long)                  | 0.01677 | 0.91979 | 0.12031 \n",
      "PIE (shallow, long)         | 0.00966 | 0.88591 | 0.09557 \n",
      "----------------------------------------------------------\n",
      "MLF-S                       | 0.37499 | 0.59537 | 0.15346 \n",
      "MLF-S (large lambda)        |         |         |         \n",
      "MLF-S (long)                | 0.22627 | 0.87171 | 0.04887 \n",
      "MLF-S (shallow, long)       | 1.25075 | 0.52526 | 0.28985 \n",
      "----------------------------------------------------------\n",
      "MLF-A                       | 0.12653 | 0.77356 | 0.17312 \n",
      "MLF-A (wd)                  |         |         |         \n",
      "MLF-A (long)                | 0.12560 | 0.74622 | 0.03341*\n",
      "MLF-A (long, wd)            |         |         |         \n",
      "MLF-A (shallow, long)       | 0.43470 | 0.69502 | 0.04795 \n",
      "MLF-A (shallow, long, wd)   |         |         |         \n",
      "----------------------------------------------------------\n",
      "MLF-OT                      |         |         |         \n",
      "MLF-OT (wd)                 |         |         |         \n",
      "MLF-OT (5k bs)              |         |         |         \n",
      "MLF-OT (5k bs, wd)          |         |         |         \n",
      "MLF-OT (long)               |         |         |         \n",
      "MLF-OT (long, wd)           |         |         |         \n",
      "MLF-OT (shallow, long)      | 1.09871 | 0.52255*| 0.19573 \n",
      "MLF-OT (shallow, long, wd)  |         |         |         \n",
      "----------------------------------------------------------\n",
      "MLF-OTA                     |         |         |         \n",
      "MLF-OTA (wd)                |         |         |         \n",
      "MLF-OTA (5k bs)             |         |         |         \n",
      "MLF-OTA (5k bs, wd)         |         |         |         \n",
      "MLF-OTA (long)              |         |         |         \n",
      "MLF-OTA (long, wd)          |         |         |         \n",
      "MLF-OTA (shallow, long)     | 1.09871 | 0.52255 | 0.19573 \n",
      "MLF-OTA (shallow, long, wd) |         |         |         \n",
      "----------------------------------------------------------\n",
      "EMLF-S                      | 0.13250 | 0.72307 | 0.04365 \n",
      "EMLF-S (large lambda)       |         |         |         \n",
      "EMLF-S (long)               | 0.08851 | 0.84755 | 0.06363 \n",
      "EMLF-S (shallow, long)      | 0.22104 | 0.74265 | 0.22091 \n",
      "----------------------------------------------------------\n",
      "EMLF-A                      | 0.51626 | 0.55076 | 0.09535 \n",
      "EMLF-A (wd)                 |         |         |         \n",
      "EMLF-A (long)               | 0.61730 | 0.56598 | 0.18171 \n",
      "EMLF-A (long, wd)           |         |         |         \n",
      "EMLF-A (shallow, long)      | 0.77431 | 0.55822 | 0.06742 \n",
      "EMLF-A (shallow, long, wd)  |         |         |         \n"
     ]
    }
   ],
   "source": [
    "print_results()"
   ]
  },
  {
   "cell_type": "code",
   "execution_count": 38,
   "metadata": {},
   "outputs": [
    {
     "name": "stdout",
     "output_type": "stream",
     "text": [
      "                            |        Distance |         OOD AUC |   Posterior MMD \n",
      "----------------------------------------------------------------------------------\n",
      "EF                          | 0.02480 (0.020) | 0.89290 (0.038) | 0.10395 (0.077) \n",
      "EF (long)                   | 0.00773 (0.003)*| 0.93600 (0.007) | 0.25326 (0.153) \n",
      "EF (shallow, long)          | 0.01359 (0.003) | 0.91945 (0.017) | 0.12238 (0.069) \n",
      "----------------------------------------------------------------------------------\n",
      "PIE                         | 0.03746 (0.022) | 0.84231 (0.018) | 0.13966 (0.164) \n",
      "PIE (eps = 0.1)             | 0.01971 (0.008) | 0.87777 (0.039) | 0.12551 (0.116) \n",
      "PIE (eps = 0.03)            | 0.01295 (0.007) | 0.87020 (0.034) | 0.05324 (0.003) \n",
      "PIE (eps = 0.003)           | 0.01605 (0.007) | 0.89039 (0.043) | 0.11495 (0.055) \n",
      "PIE (eps = 0.001)           | 0.08156 (0.030) | 0.79135 (0.041) | 0.07989 (0.015) \n",
      "PIE (eps = 0.0003)          | 0.01421 (0.003) | 0.87598 (0.032) | 0.09799 (0.077) \n",
      "PIE (eps = 0.0001)          | 0.01920 (0.006) | 0.89822 (0.028) | 0.16706 (0.089) \n",
      "PIE (long)                  | 0.01677 (0.010) | 0.91979 (0.039) | 0.12031 (0.071) \n",
      "PIE (shallow, long)         | 0.00966 (0.007) | 0.88591 (0.068) | 0.09557 (0.042) \n",
      "----------------------------------------------------------------------------------\n",
      "MLF-S                       | 0.37499 (0.204) | 0.59537 (0.073) | 0.15346 (0.137) \n",
      "MLF-S (large lambda)        |                 |                 |                 \n",
      "MLF-S (long)                | 0.22627 (0.189) | 0.87171 (0.000) | 0.04887 (0.043) \n",
      "MLF-S (shallow, long)       | 1.25075 (0.688) | 0.52526 (0.018) | 0.28985 (0.146) \n",
      "----------------------------------------------------------------------------------\n",
      "MLF-A                       | 0.12653 (0.072) | 0.77356 (0.000) | 0.17312 (0.179) \n",
      "MLF-A (wd)                  |                 |                 |                 \n",
      "MLF-A (long)                | 0.12560 (0.089) | 0.74622 (0.130) | 0.03341 (0.019)*\n",
      "MLF-A (long, wd)            |                 |                 |                 \n",
      "MLF-A (shallow, long)       | 0.43470 (0.400) | 0.69502 (0.149) | 0.04795 (0.009) \n",
      "MLF-A (shallow, long, wd)   |                 |                 |                 \n",
      "----------------------------------------------------------------------------------\n",
      "MLF-OT                      |                 |                 |                 \n",
      "MLF-OT (wd)                 |                 |                 |                 \n",
      "MLF-OT (5k bs)              |                 |                 |                 \n",
      "MLF-OT (5k bs, wd)          |                 |                 |                 \n",
      "MLF-OT (long)               |                 |                 |                 \n",
      "MLF-OT (long, wd)           |                 |                 |                 \n",
      "MLF-OT (shallow, long)      | 1.09871 (0.000) | 0.52255 (0.000)*| 0.19573 (0.000) \n",
      "MLF-OT (shallow, long, wd)  |                 |                 |                 \n",
      "----------------------------------------------------------------------------------\n",
      "MLF-OTA                     |                 |                 |                 \n",
      "MLF-OTA (wd)                |                 |                 |                 \n",
      "MLF-OTA (5k bs)             |                 |                 |                 \n",
      "MLF-OTA (5k bs, wd)         |                 |                 |                 \n",
      "MLF-OTA (long)              |                 |                 |                 \n",
      "MLF-OTA (long, wd)          |                 |                 |                 \n",
      "MLF-OTA (shallow, long)     | 1.09871 (0.000) | 0.52255 (0.000) | 0.19573 (0.000) \n",
      "MLF-OTA (shallow, long, wd) |                 |                 |                 \n",
      "----------------------------------------------------------------------------------\n",
      "EMLF-S                      | 0.13250 (0.067) | 0.72307 (0.071) | 0.04365 (0.012) \n",
      "EMLF-S (large lambda)       |                 |                 |                 \n",
      "EMLF-S (long)               | 0.08851 (0.035) | 0.84755 (0.023) | 0.06363 (0.027) \n",
      "EMLF-S (shallow, long)      | 0.22104 (0.214) | 0.74265 (0.104) | 0.22091 (0.201) \n",
      "----------------------------------------------------------------------------------\n",
      "EMLF-A                      | 0.51626 (0.302) | 0.55076 (0.022) | 0.09535 (0.037) \n",
      "EMLF-A (wd)                 |                 |                 |                 \n",
      "EMLF-A (long)               | 0.61730 (0.142) | 0.56598 (0.000) | 0.18171 (0.034) \n",
      "EMLF-A (long, wd)           |                 |                 |                 \n",
      "EMLF-A (shallow, long)      | 0.77431 (0.317) | 0.55822 (0.006) | 0.06742 (0.048) \n",
      "EMLF-A (shallow, long, wd)  |                 |                 |                 \n"
     ]
    }
   ],
   "source": [
    "print_results(include_err=True)"
   ]
  },
  {
   "cell_type": "code",
   "execution_count": null,
   "metadata": {},
   "outputs": [],
   "source": []
  },
  {
   "cell_type": "code",
   "execution_count": null,
   "metadata": {},
   "outputs": [],
   "source": []
  }
 ],
 "metadata": {
  "kernelspec": {
   "display_name": "Python (ML)",
   "language": "python",
   "name": "ml"
  },
  "language_info": {
   "codemirror_mode": {
    "name": "ipython",
    "version": 3
   },
   "file_extension": ".py",
   "mimetype": "text/x-python",
   "name": "python",
   "nbconvert_exporter": "python",
   "pygments_lexer": "ipython3",
   "version": "3.6.8"
  }
 },
 "nbformat": 4,
 "nbformat_minor": 2
}
