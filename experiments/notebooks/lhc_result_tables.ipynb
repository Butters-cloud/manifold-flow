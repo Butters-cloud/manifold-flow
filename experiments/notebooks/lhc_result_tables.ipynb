{
 "cells": [
  {
   "cell_type": "markdown",
   "metadata": {},
   "source": [
    "# Particle physics results"
   ]
  },
  {
   "cell_type": "markdown",
   "metadata": {},
   "source": [
    "## Setup"
   ]
  },
  {
   "cell_type": "code",
   "execution_count": 1,
   "metadata": {},
   "outputs": [],
   "source": [
    "import sys\n",
    "import numpy as np\n",
    "from sklearn.metrics import roc_auc_score\n"
   ]
  },
  {
   "cell_type": "markdown",
   "metadata": {},
   "source": [
    "## Load results"
   ]
  },
  {
   "cell_type": "code",
   "execution_count": 2,
   "metadata": {},
   "outputs": [],
   "source": [
    "show_all = True\n",
    "n_runs = 3"
   ]
  },
  {
   "cell_type": "code",
   "execution_count": 3,
   "metadata": {},
   "outputs": [],
   "source": [
    "algo_filenames = []\n",
    "algo_additionals = []\n",
    "algo_labels = []\n",
    "algo_dividers = []\n",
    "\n",
    "def add_algo(filename, add, label, shortlist=False):\n",
    "    if show_all or shortlist:\n",
    "        algo_filenames.append(filename)\n",
    "        algo_additionals.append(add)\n",
    "        algo_labels.append(label)\n",
    "    \n",
    "    \n",
    "def add_divider():\n",
    "    algo_dividers.append(len(algo_filenames))\n",
    "    \n",
    "\n",
    "add_algo(\"flow\", \"_march\", \"EF\")\n",
    "add_algo(\"pie\", \"_march\", \"PIE\")\n",
    "add_algo(\"mf\", \"_alternate_march\", \"MLF-A\")\n",
    "add_algo(\"gamf\", \"_march\", \"MLF-OT\")\n",
    "add_algo(\"gamf\", \"_alternate_march\", \"MLF-OTA\")\n",
    "add_algo(\"emf\", \"_alternate_march\", \"EMLF-A\")\n"
   ]
  },
  {
   "cell_type": "code",
   "execution_count": 4,
   "metadata": {},
   "outputs": [],
   "source": [
    "def load(name, shape, numpyfy=True, result_dir=\"../data/results\"):\n",
    "    all_results = []\n",
    "    \n",
    "    for algo_filename, algo_add in zip(algo_filenames, algo_additionals):\n",
    "        algo_results = []\n",
    "            \n",
    "        for run in range(n_runs):\n",
    "            run_str = \"\" if run == 0 else \"_run{}\".format(run)\n",
    "            try:\n",
    "                this_result = np.load(\n",
    "                    \"{}/{}_14_lhc{}{}_{}.npy\".format(\n",
    "                        result_dir, algo_filename, algo_add, run_str, name\n",
    "                    )\n",
    "                )\n",
    "                if (not numpyfy) or (shape is None) or np.product(this_result.shape) == np.product(shape):\n",
    "                    algo_results.append(this_result.reshape(shape))\n",
    "                else:\n",
    "                    algo_results.append(np.nan*np.ones(shape))\n",
    "                    \n",
    "            except FileNotFoundError as e:\n",
    "                if shape is None:\n",
    "                    algo_results.append(None)\n",
    "                else:\n",
    "                    algo_results.append(np.nan*np.ones(shape))\n",
    "            \n",
    "        all_results.append(algo_results)\n",
    "    \n",
    "    if numpyfy:\n",
    "        all_results = np.array(all_results, dtype=np.float)\n",
    "        \n",
    "    return all_results\n",
    "\n",
    "\n",
    "model_gen_x = load(\"samples\", None, numpyfy=False)\n",
    "model_gen_closure = load(\"samples_manifold_distance\", (10000,))\n",
    "model_test_logp = load(\"model_log_likelihood_test\", (11*11, 1000,))\n",
    "model_test_reco_error = load(\"model_reco_error_test\", (1000,))\n",
    "model_posterior_samples = load(\"posterior_samples\", (5000, 2,))\n"
   ]
  },
  {
   "cell_type": "code",
   "execution_count": 5,
   "metadata": {},
   "outputs": [],
   "source": [
    "def remove_nans(*results):\n",
    "    passes = all([np.all(np.isfinite(result)) for result in results])\n",
    "    \n",
    "    if passes:\n",
    "        return results\n",
    "    else:\n",
    "        return [np.nan * np.ones_like(result) for result in results]\n",
    "\n",
    "\n",
    "def remove_nans_from_lists(*raws):\n",
    "    # raws[quantity][algo]\n",
    "    n_quantities = len(raws)\n",
    "    n_algos = len(raws[0])\n",
    "    \n",
    "    for raw in raws:\n",
    "        assert len(raw) == n_algos\n",
    "    \n",
    "    cleans = [[[] for _ in range(n_algos)] for _ in range(n_quantities)]\n",
    "    \n",
    "    for i in range(n_algos):\n",
    "        for k in range(n_runs):\n",
    "            clean = remove_nans(*[raw[i][k] for raw in raws])\n",
    "            for j in range(n_quantities):\n",
    "                cleans[j][i].append(clean[j])\n",
    "            \n",
    "    cleans = [np.array(clean) for clean in cleans]\n",
    "    \n",
    "    # cleans[quantity][algo]\n",
    "    return cleans\n",
    "            \n",
    "raw = [model_gen_closure, model_posterior_samples]\n",
    "clean = remove_nans_from_lists(*raw)\n",
    "model_gen_closure, model_posterior_samples = clean\n"
   ]
  },
  {
   "cell_type": "markdown",
   "metadata": {},
   "source": [
    "## Calculate metrics"
   ]
  },
  {
   "cell_type": "code",
   "execution_count": 6,
   "metadata": {},
   "outputs": [],
   "source": [
    "n_observed = 100\n",
    "min_logp = -100.\n",
    "max_closure = 1.e9\n",
    "\n",
    "model_gen_mean_closure = np.mean(np.clip(model_gen_closure, None, max_closure), axis=2)\n",
    "model_posterior_mean_distance = np.mean(np.sum(model_posterior_samples**2, axis=-1)**0.5, axis=2)\n"
   ]
  },
  {
   "cell_type": "markdown",
   "metadata": {},
   "source": [
    "## Best metrics"
   ]
  },
  {
   "cell_type": "code",
   "execution_count": 7,
   "metadata": {},
   "outputs": [
    {
     "name": "stdout",
     "output_type": "stream",
     "text": [
      "EF\n",
      "EF\n"
     ]
    },
    {
     "name": "stderr",
     "output_type": "stream",
     "text": [
      "/Users/johannbrehmer/anaconda3/envs/ml/lib/python3.6/site-packages/ipykernel_launcher.py:1: RuntimeWarning: Mean of empty slice\n",
      "  \"\"\"Entry point for launching an IPython kernel.\n",
      "/Users/johannbrehmer/anaconda3/envs/ml/lib/python3.6/site-packages/ipykernel_launcher.py:4: RuntimeWarning: Mean of empty slice\n",
      "  after removing the cwd from sys.path.\n"
     ]
    }
   ],
   "source": [
    "best_closure = np.nanargmin(np.nanmean(model_gen_mean_closure, axis=1))\n",
    "print(algo_labels[best_closure])\n",
    "\n",
    "best_posterior_distance = np.nanargmin(np.nanmean(model_posterior_mean_distance, axis=1))\n",
    "print(algo_labels[best_posterior_distance])\n"
   ]
  },
  {
   "cell_type": "markdown",
   "metadata": {},
   "source": [
    "## Print metrics"
   ]
  },
  {
   "cell_type": "code",
   "execution_count": 8,
   "metadata": {},
   "outputs": [],
   "source": [
    "def print_results(\n",
    "    include_err=False, include_n_runs=False, include_runs=False,\n",
    "    l_label=max([len(l) for l in algo_labels]), l_mean=5, l_err=3,\n",
    "    median=False, latex=False, after_decs=(0,3)\n",
    "):\n",
    "    # How to format the numbers\n",
    "    l_result = l_mean + int(include_err) * (2 + l_err) + int(include_n_runs) * 4 + int(include_runs) * (3 + 3*l_mean + 2*2)\n",
    "    l_total = l_label + 1 + 2 * (3 + l_result)\n",
    "        \n",
    "    # Divider\n",
    "    empty_result = \"\" if latex else \" \"*(l_result + 1)\n",
    "    col_divider = \"&\" if latex else \"|\"\n",
    "    line_end = r\"\\\\\" if latex else \"\"\n",
    "    block_divider = r\"\\midrule\" if latex else \"-\"*l_total\n",
    "    \n",
    "    def _f(val, after_dec, best=False):\n",
    "        if not np.any(np.isfinite(val)):\n",
    "            return empty_result\n",
    "        \n",
    "        if median:\n",
    "            result = \"{:>{}.{}f}\".format(np.nanmedian(val), l_mean, after_dec)\n",
    "        else:\n",
    "            result = \"{:>{}.{}f}\".format(np.nanmean(val), l_mean, after_dec)\n",
    "            \n",
    "        if latex and best:\n",
    "            result = r\"\\textbf{\" + result + \"}\"\n",
    "            \n",
    "        if include_err:\n",
    "            result += \"({:0>{}d})\".format(int(10**after_dec * np.nanstd(val)), l_err)\n",
    "        if include_n_runs:\n",
    "            result += \" [{:1n}]\".format(np.sum(np.isfinite(val)))\n",
    "        if include_runs:\n",
    "            result += \" [{:>{}.{}f}, \".format(float(val[0]), l_mean, after_dec)\n",
    "            result += \"{:>{}.{}f}, \".format(float(val[1]), l_mean, after_dec)\n",
    "            result += \"{:>{}.{}f}]\".format(float(val[2]), l_mean, after_dec)\n",
    "            \n",
    "        if (not latex) and best:\n",
    "            result += \"*\"\n",
    "        elif (not latex) and (not best):\n",
    "            result += \" \"\n",
    "            \n",
    "        return result\n",
    "    \n",
    "    # Header\n",
    "    print(\n",
    "        \"{2:<{0}.{0}s} {5} {3:>{1}.{1}s} {5} {4:>{1}.{1}s} {5} {6}\".format(\n",
    "            l_label, l_result, \"\", \"Closure\", \"Posterior mean error\", col_divider, line_end\n",
    "        )\n",
    "    )\n",
    "    print(block_divider)\n",
    "\n",
    "    # Iterate over methods\n",
    "    for i, (label, closure, distance) in enumerate(zip(\n",
    "        algo_labels, model_gen_mean_closure, model_posterior_mean_distance\n",
    "    )):\n",
    "        # Divider\n",
    "        if i in algo_dividers and show_all:\n",
    "            print(block_divider)\n",
    "            \n",
    "        # Print results\n",
    "        print(\"{1:<{0}.{0}s} {4} {2}{4} {3}{4} {5}\".format(\n",
    "            l_label, label,\n",
    "            _f(closure, after_decs[0], i==best_closure), _f(distance, after_decs[1], i==best_posterior_distance),\n",
    "            col_divider, line_end\n",
    "        ))\n"
   ]
  },
  {
   "cell_type": "code",
   "execution_count": 9,
   "metadata": {},
   "outputs": [
    {
     "name": "stdout",
     "output_type": "stream",
     "text": [
      "        |                     Closure |        Posterior mean error | \n",
      "--------------------------------------------------------------------\n",
      "EF      |   389 [  485,   320,   363]*| 0.239 [0.238, 0.193, 0.287]*| \n",
      "PIE     |                             |                             | \n",
      "MLF-A   |                             |                             | \n",
      "MLF-OT  |                             |                             | \n",
      "MLF-OTA |                             |                             | \n",
      "EMLF-A  |                             |                             | \n"
     ]
    }
   ],
   "source": [
    "print_results(include_runs=True)"
   ]
  },
  {
   "cell_type": "code",
   "execution_count": 10,
   "metadata": {},
   "outputs": [
    {
     "name": "stdout",
     "output_type": "stream",
     "text": [
      "        |    Closure | Posterior  | \n",
      "----------------------------------\n",
      "EF      |   389(070)*| 0.239(038)*| \n",
      "PIE     |            |            | \n",
      "MLF-A   |            |            | \n",
      "MLF-OT  |            |            | \n",
      "MLF-OTA |            |            | \n",
      "EMLF-A  |            |            | \n"
     ]
    }
   ],
   "source": [
    "print_results(include_err=True)"
   ]
  },
  {
   "cell_type": "code",
   "execution_count": 11,
   "metadata": {},
   "outputs": [
    {
     "name": "stdout",
     "output_type": "stream",
     "text": [
      "        &    Closure & Posterior  & \\\\\n",
      "\\midrule\n",
      "EF      & \\textbf{  389}(070)& \\textbf{0.239}(038)& \\\\\n",
      "PIE     & & & \\\\\n",
      "MLF-A   & & & \\\\\n",
      "MLF-OT  & & & \\\\\n",
      "MLF-OTA & & & \\\\\n",
      "EMLF-A  & & & \\\\\n"
     ]
    }
   ],
   "source": [
    "print_results(include_err=True, latex=True)"
   ]
  },
  {
   "cell_type": "code",
   "execution_count": null,
   "metadata": {},
   "outputs": [],
   "source": []
  }
 ],
 "metadata": {
  "kernelspec": {
   "display_name": "Python (ML)",
   "language": "python",
   "name": "ml"
  },
  "language_info": {
   "codemirror_mode": {
    "name": "ipython",
    "version": 3
   },
   "file_extension": ".py",
   "mimetype": "text/x-python",
   "name": "python",
   "nbconvert_exporter": "python",
   "pygments_lexer": "ipython3",
   "version": "3.6.8"
  }
 },
 "nbformat": 4,
 "nbformat_minor": 2
}
