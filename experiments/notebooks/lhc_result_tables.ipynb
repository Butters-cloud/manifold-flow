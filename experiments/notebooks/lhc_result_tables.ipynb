{
 "cells": [
  {
   "cell_type": "markdown",
   "metadata": {},
   "source": [
    "# Particle physics results"
   ]
  },
  {
   "cell_type": "markdown",
   "metadata": {},
   "source": [
    "## Setup"
   ]
  },
  {
   "cell_type": "code",
   "execution_count": 1,
   "metadata": {},
   "outputs": [],
   "source": [
    "import sys\n",
    "import numpy as np\n",
    "from sklearn.metrics import roc_auc_score\n",
    "from sklearn.neighbors import KernelDensity\n",
    "from itertools import product\n"
   ]
  },
  {
   "cell_type": "markdown",
   "metadata": {},
   "source": [
    "## Load results"
   ]
  },
  {
   "cell_type": "code",
   "execution_count": 2,
   "metadata": {},
   "outputs": [],
   "source": [
    "n_runs = 10\n",
    "n_chains = 4\n",
    "n_trueparams = 3"
   ]
  },
  {
   "cell_type": "code",
   "execution_count": 16,
   "metadata": {},
   "outputs": [],
   "source": [
    "algo_filenames = []\n",
    "algo_additionals = []\n",
    "algo_labels = []\n",
    "algo_dividers = []\n",
    "algo_dims = []\n",
    "\n",
    "def add_algo(filename, add, label, dim=\"\"):\n",
    "    algo_filenames.append(filename)\n",
    "    algo_additionals.append(add)\n",
    "    algo_labels.append(label)\n",
    "    algo_dims.append(dim)\n",
    "    \n",
    "    \n",
    "def add_divider():\n",
    "    algo_dividers.append(len(algo_filenames))\n",
    "\n",
    "add_algo(\"flow\", \"_june\", r\"\\af{}\", \"40d\")\n",
    "add_algo(\"pie\", \"_conditionalmanifold_june\", r\"\\pie{} (original)\", \"40d\")\n",
    "add_algo(\"pie\", \"_june\", r\"\\pie{} (unconditional manifold)\", \"40d\")\n",
    "add_algo(\"mf\", \"_june\", r\"\\mfmfmd{}\", \"40d\")\n",
    "add_algo(\"emf\", \"_june\", r\"\\mfmfemd{}\", \"40d\")\n",
    "\n",
    "add_divider()\n",
    "\n",
    "add_algo(\"flow\", \"_scandal_june\", r\"\\afscandal{}\", \"40d\")\n",
    "add_algo(\"pie\", \"_conditionalmanifold_scandal_june\", r\"\\piescandal{, original}\", \"40d\")\n",
    "add_algo(\"pie\", \"_scandal_june\", r\"\\piescandal{, unconditional man.}\", \"40d\")\n",
    "add_algo(\"mf\", \"_scandal_june\", r\"\\mfmfscandal{}\", \"40d\")\n",
    "add_algo(\"emf\", \"_scandal_june\", r\"\\mfmfescandal{}\", \"40d\")\n",
    "\n",
    "add_divider()\n",
    "\n",
    "add_algo(\"alices\", \"_may\", \"ALICES\")\n",
    "\n",
    "n_algos = len(algo_filenames)\n"
   ]
  },
  {
   "cell_type": "code",
   "execution_count": 17,
   "metadata": {},
   "outputs": [],
   "source": [
    "def load(name, shape, numpyfy=True, chains=1, result_dir=\"../data/results\"):\n",
    "    all_results = []\n",
    "    \n",
    "    for algo_filename, algo_add, algo_dim in zip(algo_filenames, algo_additionals, algo_dims):\n",
    "        algo_results = []\n",
    "            \n",
    "        for run in range(n_runs):\n",
    "            run_str = \"\" if run == 0 else \"_run{}\".format(run)\n",
    "            \n",
    "            for trueparam in range(n_trueparams):\n",
    "                trueparam_str = \"\" if trueparam == 0 else \"_trueparam{}\".format(trueparam)\n",
    "\n",
    "                try:\n",
    "                    this_result = np.load(\n",
    "                        \"{}/{}_{}_lhc{}{}{}_{}{}.npy\".format(\n",
    "                            result_dir, algo_filename, \"2\" if algo_dim == \"2d\" else \"14\",\n",
    "                            algo_dim, algo_add, run_str, name, trueparam_str\n",
    "                        )\n",
    "                    )\n",
    "                    if (not numpyfy) or (shape is None) or np.product(this_result.shape) == np.product(shape):\n",
    "                        algo_results.append(this_result.reshape(shape))\n",
    "                    else:\n",
    "                        algo_results.append(np.nan*np.ones(shape))\n",
    "\n",
    "                except FileNotFoundError as e:\n",
    "                    # print(e)\n",
    "                    if shape is None:\n",
    "                        algo_results.append(None)\n",
    "                    else:\n",
    "                        algo_results.append(np.nan*np.ones(shape))\n",
    "                except ValueError as e:\n",
    "                    print(e)\n",
    "                    if shape is None:\n",
    "                        algo_results.append(None)\n",
    "                    else:\n",
    "                        algo_results.append(np.nan*np.ones(shape))\n",
    "            \n",
    "        all_results.append(algo_results)\n",
    "    \n",
    "    if numpyfy:\n",
    "        all_results = np.array(all_results, dtype=np.float)\n",
    "        all_results = all_results.reshape([all_results.shape[0], n_runs, n_trueparams] + list(shape))\n",
    "        \n",
    "    return all_results\n",
    "\n",
    "\n",
    "model_gen_x = load(\"samples\", None, numpyfy=False)\n",
    "model_gen_closure = load(\"samples_manifold_distance\", (10000,))\n",
    "model_test_reco_error = load(\"model_reco_error_test\", (1000,))\n",
    "\n"
   ]
  },
  {
   "cell_type": "code",
   "execution_count": 18,
   "metadata": {},
   "outputs": [
    {
     "data": {
      "text/plain": [
       "(11, 10, 3, 4, 2500, 2)"
      ]
     },
     "execution_count": 18,
     "metadata": {},
     "output_type": "execute_result"
    }
   ],
   "source": [
    "def load_mcmc(name, shape, numpyfy=True, result_dir=\"../data/results\"):\n",
    "    all_results = []\n",
    "    \n",
    "    for algo_filename, algo_add, algo_dim in zip(algo_filenames, algo_additionals, algo_dims):\n",
    "        algo_results = []\n",
    "            \n",
    "        for run in range(n_runs):\n",
    "            run_str = \"\" if run == 0 else \"_run{}\".format(run)\n",
    "            \n",
    "            for trueparam in range(n_trueparams):\n",
    "                trueparam_str = \"\" if trueparam == 0 else \"_trueparam{}\".format(trueparam)\n",
    "            \n",
    "                for chain in range(n_chains):\n",
    "                    chain_str = \"\" if chain == 0 else \"_chain{}\".format(chain)\n",
    "\n",
    "                    try:\n",
    "                        this_result = np.load(\n",
    "                            \"{}/{}_{}_lhc{}{}{}_{}{}{}.npy\".format(\n",
    "                                result_dir, algo_filename, \"2\" if algo_dim == \"2d\" else \"14\",\n",
    "                                algo_dim, algo_add, run_str, name, trueparam_str, chain_str\n",
    "                            )\n",
    "                        )\n",
    "                        if (not numpyfy) or (shape is None) or np.product(this_result.shape) == np.product(shape):\n",
    "                            algo_results.append(this_result.reshape(shape))\n",
    "                        else:\n",
    "                            algo_results.append(np.nan*np.ones(shape))\n",
    "\n",
    "                    except FileNotFoundError as e:\n",
    "                        # print(e)\n",
    "                        if shape is None:\n",
    "                            algo_results.append(None)\n",
    "                        else:\n",
    "                            algo_results.append(np.nan*np.ones(shape))\n",
    "            \n",
    "        all_results.append(algo_results)\n",
    "    \n",
    "    all_results = np.array(all_results, dtype=np.float)\n",
    "    all_results = all_results.reshape([all_results.shape[0], n_runs, n_trueparams, n_chains] + list(shape))\n",
    "        \n",
    "    return all_results\n",
    "\n",
    "\n",
    "model_posterior_samples = load_mcmc(\"posterior_samples\", (2500, 2,))\n",
    "model_posterior_samples.shape  # (algo, run, true param id, chain, sample, theta component)\n"
   ]
  },
  {
   "cell_type": "markdown",
   "metadata": {},
   "source": [
    "## Calculate metrics"
   ]
  },
  {
   "cell_type": "code",
   "execution_count": 19,
   "metadata": {},
   "outputs": [
    {
     "data": {
      "text/plain": [
       "(11, 10)"
      ]
     },
     "execution_count": 19,
     "metadata": {},
     "output_type": "execute_result"
    }
   ],
   "source": [
    "model_gen_mean_closure = np.mean(model_gen_closure, axis=(2,3))\n",
    "model_gen_mean_closure.shape\n"
   ]
  },
  {
   "cell_type": "code",
   "execution_count": 20,
   "metadata": {},
   "outputs": [
    {
     "data": {
      "text/plain": [
       "(11, 10)"
      ]
     },
     "execution_count": 20,
     "metadata": {},
     "output_type": "execute_result"
    }
   ],
   "source": [
    "max_reco_error = 10.\n",
    "model_mean_reco_error = np.mean(np.clip(model_test_reco_error, 0., max_reco_error), axis=(2,3))\n",
    "model_mean_reco_error.shape\n"
   ]
  },
  {
   "cell_type": "code",
   "execution_count": 21,
   "metadata": {},
   "outputs": [
    {
     "data": {
      "text/plain": [
       "(11, 10)"
      ]
     },
     "execution_count": 21,
     "metadata": {},
     "output_type": "execute_result"
    }
   ],
   "source": [
    "bandwidth = 0.15\n",
    "true_param_points = np.array([[0.,0.], [0.5, 0.], [-1., -1.]])\n",
    "\n",
    "model_true_log_posteriors = []\n",
    "\n",
    "for algo, run, trueparam in product(range(n_algos), range(n_runs), range(n_trueparams)):\n",
    "    mcmcs = model_posterior_samples[algo, run, trueparam].reshape((-1, 2))\n",
    "    mcmcs = mcmcs[np.all(np.isfinite(mcmcs), axis=-1)]\n",
    "    \n",
    "    if len(mcmcs) == 0:\n",
    "        model_true_log_posteriors.append(np.nan)\n",
    "        continue\n",
    "        \n",
    "    kde = KernelDensity(kernel=\"gaussian\", bandwidth=bandwidth)\n",
    "    kde.fit(mcmcs)\n",
    "    model_true_log_posteriors.append(kde.score(true_param_points[trueparam].reshape((1, 2))))\n",
    "\n",
    "model_true_log_posteriors = np.mean(np.array(model_true_log_posteriors).reshape((n_algos, n_runs, n_trueparams)), axis=-1)\n",
    "model_true_log_posteriors.shape\n"
   ]
  },
  {
   "cell_type": "markdown",
   "metadata": {},
   "source": [
    "## Outlier removal"
   ]
  },
  {
   "cell_type": "code",
   "execution_count": 22,
   "metadata": {},
   "outputs": [],
   "source": [
    "def mean_err_without_outliers(data, remove=1):\n",
    "    shape = list(data.shape)[:-1]\n",
    "    data.reshape((-1, data.shape[-1]))\n",
    "    \n",
    "    means, errors = [], []\n",
    "    \n",
    "    for data_ in data:\n",
    "        data_ = data_[np.isfinite(data_)]\n",
    "        if not len(data_) > 0:\n",
    "            means.append(np.nan)\n",
    "            errors.append(np.nan)\n",
    "            continue\n",
    "            \n",
    "        if len(data_) > 2*remove + 1:\n",
    "            for _ in range(remove):\n",
    "                data_ = np.delete(data_, np.argmin(data_))\n",
    "                data_ = np.delete(data_, np.argmax(data_))\n",
    "\n",
    "        means.append(np.mean(data_))\n",
    "        errors.append(np.std(data_) / len(data_)**0.5)\n",
    "        \n",
    "    return np.array(means).reshape(shape), np.array(errors).reshape(shape)\n",
    "    \n",
    "    \n",
    "model_true_log_posteriors_mean, model_true_log_posteriors_std = mean_err_without_outliers(model_true_log_posteriors)\n",
    "model_gen_mean_closure_mean, model_gen_mean_closure_std = mean_err_without_outliers(model_gen_mean_closure)\n",
    "model_mean_reco_error_mean, model_mean_reco_error_std = mean_err_without_outliers(model_mean_reco_error)\n"
   ]
  },
  {
   "cell_type": "markdown",
   "metadata": {},
   "source": [
    "## Best metrics"
   ]
  },
  {
   "cell_type": "code",
   "execution_count": 23,
   "metadata": {},
   "outputs": [
    {
     "name": "stdout",
     "output_type": "stream",
     "text": [
      "\\af{}\n",
      "\\mfmfscandal{}\n",
      "\\mfmfscandal{}\n"
     ]
    },
    {
     "name": "stderr",
     "output_type": "stream",
     "text": [
      "/Users/johannbrehmer/anaconda3/envs/ml/lib/python3.7/site-packages/ipykernel_launcher.py:6: RuntimeWarning: invalid value encountered in greater\n",
      "  \n"
     ]
    }
   ],
   "source": [
    "best_closure, best_posterior = -1, -1\n",
    "\n",
    "best_closure = np.nanargmin(model_gen_mean_closure_mean)\n",
    "print(algo_labels[best_closure])\n",
    "\n",
    "best_reco = np.nanargmin(np.where(model_mean_reco_error_mean > 1.e-3, model_mean_reco_error_mean, np.nan))\n",
    "print(algo_labels[best_reco])\n",
    "    \n",
    "best_posterior = np.nanargmax(model_true_log_posteriors_mean)\n",
    "print(algo_labels[best_posterior])\n"
   ]
  },
  {
   "cell_type": "markdown",
   "metadata": {},
   "source": [
    "## Print result table"
   ]
  },
  {
   "cell_type": "code",
   "execution_count": 24,
   "metadata": {},
   "outputs": [],
   "source": [
    "def print_results(\n",
    "    l_label=max([len(l) for l in algo_labels]), l_mean=6, l_err=6, latex=False, after_decs=(4,4,3)\n",
    "):\n",
    "    # Number of digits\n",
    "    l_result = l_mean + 2 + l_err\n",
    "    l_total = l_label + 1 + 3 * (3 + l_result)\n",
    "        \n",
    "    # Divider\n",
    "    empty_result = \"\" if latex else \" \"*(l_result + 1)\n",
    "    col_divider = \"&\" if latex else \"|\"\n",
    "    line_end = r\"\\\\\" if latex else \"\"\n",
    "    block_divider = r\"\\midrule\" if latex else \"-\"*l_total\n",
    "    \n",
    "    # Number formatting\n",
    "    def _f(val, err, after_dec, best=False):\n",
    "        if not np.any(np.isfinite(val)):\n",
    "            return empty_result\n",
    "        \n",
    "        result = \"{:>{}.{}f}\".format(val, l_mean, after_dec)\n",
    "        if latex and best:\n",
    "            result = r\"\\textbf{\" + result + \"}\"\n",
    "            \n",
    "        err_str = \"({:>{}.{}f})\".format(err, l_err, after_dec)\n",
    "        if latex:\n",
    "            result += r\"\\,\\textcolor{darkgray}{\" + err_str + \"}\"\n",
    "        else:\n",
    "            result += err_str\n",
    "            \n",
    "        result += \"*\" if not latex and best else \" \"\n",
    "        \n",
    "        if latex:\n",
    "            result = result.replace(\"-\", \"$-{}$\")\n",
    "            result = result.replace(\"darkgray\", \"dark-gray\")\n",
    "        return result\n",
    "    \n",
    "    \n",
    "    # Header\n",
    "    print(\n",
    "        \"{2:<{0}.{0}s} {5} {3:>{1}.{1}s} {5} {7:>{1}.{1}s} {5} {4:>{1}.{1}s} {6}\".format(\n",
    "            l_label, l_result, \"\", \"Closure\", \"log p\", col_divider, line_end, \"Reco error\"\n",
    "        )\n",
    "    )\n",
    "    print(block_divider)\n",
    "\n",
    "    # Iterate over methods\n",
    "    for i, (label, closure, closure_err, posterior, posterior_err, reco, reco_err) in enumerate(zip(\n",
    "        algo_labels,\n",
    "        model_gen_mean_closure_mean,\n",
    "        model_gen_mean_closure_std,\n",
    "        model_true_log_posteriors_mean,\n",
    "        model_true_log_posteriors_std,\n",
    "        model_mean_reco_error_mean,\n",
    "        model_mean_reco_error_std,\n",
    "    )):\n",
    "        # Divider\n",
    "        if i in algo_dividers:\n",
    "            print(block_divider)\n",
    "            \n",
    "        # Print results\n",
    "        print(\n",
    "            \"{1:<{0}.{0}s} {4} {2}{4} {6}{4} {3} {5}\".format(\n",
    "                l_label, label,\n",
    "                _f(closure, closure_err, after_decs[0], i==best_closure),\n",
    "                _f(posterior, posterior_err, after_decs[2], i==best_posterior),\n",
    "                col_divider, line_end,\n",
    "                _f(reco, reco_err, after_decs[1], i==best_reco),\n",
    "            )\n",
    "        )\n"
   ]
  },
  {
   "cell_type": "code",
   "execution_count": 25,
   "metadata": {},
   "outputs": [
    {
     "name": "stdout",
     "output_type": "stream",
     "text": [
      "                                  |        Closure |     Reco error |          log p \n",
      "-------------------------------------------------------------------------------------\n",
      "\\af{}                             | 0.0019(0.0000)*| 0.0000(0.0000) | -3.001( 0.510)  \n",
      "\\pie{} (original)                 |                |                |                 \n",
      "\\pie{} (unconditional manifold)   | 0.0019(0.0000) | 1.1480(0.1247) | -1.828( 0.357)  \n",
      "\\mfmfmd{}                         | 0.0045(0.0002) | 0.0118(0.0007) | -1.463( 0.315)  \n",
      "\\mfmfemd{}                        | 0.0045(0.0002) | 0.0288(0.0017) | -1.647( 0.280)  \n",
      "-------------------------------------------------------------------------------------\n",
      "\\afscandal{}                      |                |                |                 \n",
      "\\piescandal{, original}           |                |                |                 \n",
      "\\piescandal{, unconditional man.} |                |                |                 \n",
      "\\mfmfscandal{}                    | 0.0399(0.0060) | 0.0110(0.0006)*|  0.224( 0.110)* \n",
      "\\mfmfescandal{}                   | 0.0287(0.0008) | 0.0317(0.0010) |  0.088( 0.081)  \n",
      "-------------------------------------------------------------------------------------\n",
      "ALICES                            |                |                |  0.045( 0.045)  \n"
     ]
    }
   ],
   "source": [
    "print_results()"
   ]
  },
  {
   "cell_type": "code",
   "execution_count": 26,
   "metadata": {},
   "outputs": [
    {
     "name": "stdout",
     "output_type": "stream",
     "text": [
      "                                  &        Closure &     Reco error &          log p \\\\\n",
      "\\midrule\n",
      "\\af{}                             & \\textbf{0.0019}\\,\\textcolor{dark-gray}{(0.0000)} & 0.0000\\,\\textcolor{dark-gray}{(0.0000)} & $-{}$3.001\\,\\textcolor{dark-gray}{( 0.510)}  \\\\\n",
      "\\pie{} (original)                 & & &  \\\\\n",
      "\\pie{} (unconditional manifold)   & 0.0019\\,\\textcolor{dark-gray}{(0.0000)} & 1.1480\\,\\textcolor{dark-gray}{(0.1247)} & $-{}$1.828\\,\\textcolor{dark-gray}{( 0.357)}  \\\\\n",
      "\\mfmfmd{}                         & 0.0045\\,\\textcolor{dark-gray}{(0.0002)} & 0.0118\\,\\textcolor{dark-gray}{(0.0007)} & $-{}$1.463\\,\\textcolor{dark-gray}{( 0.315)}  \\\\\n",
      "\\mfmfemd{}                        & 0.0045\\,\\textcolor{dark-gray}{(0.0002)} & 0.0288\\,\\textcolor{dark-gray}{(0.0017)} & $-{}$1.647\\,\\textcolor{dark-gray}{( 0.280)}  \\\\\n",
      "\\midrule\n",
      "\\afscandal{}                      & & &  \\\\\n",
      "\\piescandal{, original}           & & &  \\\\\n",
      "\\piescandal{, unconditional man.} & & &  \\\\\n",
      "\\mfmfscandal{}                    & 0.0399\\,\\textcolor{dark-gray}{(0.0060)} & \\textbf{0.0110}\\,\\textcolor{dark-gray}{(0.0006)} & \\textbf{ 0.224}\\,\\textcolor{dark-gray}{( 0.110)}  \\\\\n",
      "\\mfmfescandal{}                   & 0.0287\\,\\textcolor{dark-gray}{(0.0008)} & 0.0317\\,\\textcolor{dark-gray}{(0.0010)} &  0.088\\,\\textcolor{dark-gray}{( 0.081)}  \\\\\n",
      "\\midrule\n",
      "ALICES                            & & &  0.045\\,\\textcolor{dark-gray}{( 0.045)}  \\\\\n"
     ]
    }
   ],
   "source": [
    "print_results(latex=True)"
   ]
  },
  {
   "cell_type": "markdown",
   "metadata": {},
   "source": [
    "## Individual run results"
   ]
  },
  {
   "cell_type": "code",
   "execution_count": 27,
   "metadata": {},
   "outputs": [
    {
     "name": "stdout",
     "output_type": "stream",
     "text": [
      "                                  |                                                                           Closure \n",
      "----------------------------------------------------------------------------------------------------------------------\n",
      "\\af{}                             |  [ 0.002,  0.002,  0.002,  0.002,  0.002,  0.002,  0.002,  0.002,       ,       ]* \n",
      "\\pie{} (original)                 |                                                                                    \n",
      "\\pie{} (unconditional manifold)   |  [      ,       ,       ,       ,       ,       ,  0.002,  0.002,       ,       ]  \n",
      "\\mfmfmd{}                         |  [ 0.003,  0.004,  0.006,  0.005,       ,       ,       ,  0.004,       ,       ]  \n",
      "\\mfmfemd{}                        |  [ 0.004,       ,  0.005,  0.004,  0.005,  0.004,  0.005,  0.003,  0.004,       ]  \n",
      "----------------------------------------------------------------------------------------------------------------------\n",
      "\\afscandal{}                      |                                                                                    \n",
      "\\piescandal{, original}           |                                                                                    \n",
      "\\piescandal{, unconditional man.} |                                                                                    \n",
      "\\mfmfscandal{}                    |  [ 0.054,  0.036,  0.029,       ,       ,       ,       ,       ,       ,       ]  \n",
      "\\mfmfescandal{}                   |  [ 0.029,  0.039,  0.027,  0.023,  0.032,  0.028,  0.027,       ,       ,       ]  \n",
      "----------------------------------------------------------------------------------------------------------------------\n",
      "ALICES                            |                                                                                    \n",
      "\n",
      "\n",
      "\n",
      "                                  |                                                                        Reco error \n",
      "----------------------------------------------------------------------------------------------------------------------\n",
      "\\af{}                             |  [ 0.000,  0.000,  0.000,  0.000,  0.000,  0.000,  0.000,  0.000,       ,       ]  \n",
      "\\pie{} (original)                 |                                                                                    \n",
      "\\pie{} (unconditional manifold)   |  [      ,       ,       ,       ,       ,       ,  1.329,  0.972,       ,       ]  \n",
      "\\mfmfmd{}                         |  [ 0.010,  0.013,  0.015,  0.012,       ,       ,       ,  0.010,       ,       ]  \n",
      "\\mfmfemd{}                        |  [ 0.031,       ,  0.036,  0.029,  0.031,  0.032,  0.030,  0.020,  0.019,       ]  \n",
      "----------------------------------------------------------------------------------------------------------------------\n",
      "\\afscandal{}                      |                                                                                    \n",
      "\\piescandal{, original}           |                                                                                    \n",
      "\\piescandal{, unconditional man.} |                                                                                    \n",
      "\\mfmfscandal{}                    |  [ 0.012,  0.009,  0.012,       ,       ,       ,       ,       ,       ,       ]* \n",
      "\\mfmfescandal{}                   |  [ 0.035,  0.034,  0.039,  0.029,  0.018,  0.030,  0.031,       ,       ,       ]  \n",
      "----------------------------------------------------------------------------------------------------------------------\n",
      "ALICES                            |                                                                                    \n",
      "\n",
      "\n",
      "\n",
      "                                  |                                                                     Log posterior \n",
      "----------------------------------------------------------------------------------------------------------------------\n",
      "\\af{}                             |  [-0.048, -4.743, -1.902, -4.572, -8.270, -2.188, -1.587, -3.012,       ,       ]  \n",
      "\\pie{} (original)                 |                                                                                    \n",
      "\\pie{} (unconditional manifold)   |  [      ,       ,       ,       ,       ,       , -1.323, -2.333,       ,       ]  \n",
      "\\mfmfmd{}                         |  [-1.852, -1.847, -0.691, -17.471,       ,       ,       , -0.453,       ,       ]  \n",
      "\\mfmfemd{}                        |  [-2.769,       , -0.892, -0.906, -1.897, -2.137, -13.449, -1.282,  0.335,       ]  \n",
      "----------------------------------------------------------------------------------------------------------------------\n",
      "\\afscandal{}                      |                                                                                    \n",
      "\\piescandal{, original}           |                                                                                    \n",
      "\\piescandal{, unconditional man.} |                                                                                    \n",
      "\\mfmfscandal{}                    |  [ 0.464,  0.211, -0.002,       ,       ,       ,       ,       ,       ,       ]* \n",
      "\\mfmfescandal{}                   |  [-0.701, -0.026,  0.131, -0.201,  0.286,  0.251,  0.438,       ,       ,       ]  \n",
      "----------------------------------------------------------------------------------------------------------------------\n",
      "ALICES                            |  [ 0.095, -0.192, -0.161,  0.274,  0.121,  0.263, -0.078,  0.145, -0.024,  0.002]  \n"
     ]
    },
    {
     "name": "stderr",
     "output_type": "stream",
     "text": [
      "/Users/johannbrehmer/anaconda3/envs/ml/lib/python3.7/site-packages/ipykernel_launcher.py:20: RuntimeWarning: Mean of empty slice\n",
      "/Users/johannbrehmer/anaconda3/envs/ml/lib/python3.7/site-packages/ipykernel_launcher.py:21: RuntimeWarning: Mean of empty slice\n",
      "/Users/johannbrehmer/anaconda3/envs/ml/lib/python3.7/site-packages/ipykernel_launcher.py:18: RuntimeWarning: Mean of empty slice\n"
     ]
    }
   ],
   "source": [
    "l_label=max([len(l) for l in algo_labels])\n",
    "l_mean=6\n",
    "after_decs=3\n",
    "\n",
    "# How to format the numbers\n",
    "l_result = 3 + n_runs*l_mean + (n_runs - 1)*2\n",
    "l_total = l_label + 4 + l_result\n",
    "\n",
    "# Divider\n",
    "empty_result = \" \"*(l_result + 1)\n",
    "col_divider = \"|\"\n",
    "line_end = \"\"\n",
    "block_divider = \"-\"*l_total\n",
    "    \n",
    "def _f(val, after_dec, best=False):\n",
    "    if not np.any(np.isfinite(val)):\n",
    "        return empty_result\n",
    "    result = \" [{:>{}.{}f}, \".format(np.nanmean(val[0]), l_mean, after_dec)\n",
    "    for i in range(1, n_runs - 1):\n",
    "        result += \"{:>{}.{}f}, \".format(np.nanmean(val[i]), l_mean, after_dec)\n",
    "    result += \"{:>{}.{}f}]\".format(np.nanmean(val[-1]), l_mean, after_dec)\n",
    "    result = result.replace(\"nan\", \"   \")\n",
    "    result += \"*\" if best else \" \"\n",
    "    return result\n",
    "\n",
    "\n",
    "\n",
    "# Print closure results\n",
    "print(\n",
    "    \"{2:<{0}.{0}s} {4} {3:>{1}.{1}s} {5}\".format(\n",
    "        l_label, l_result, \"\", \"Closure\", col_divider, line_end\n",
    "    )\n",
    ")\n",
    "print(block_divider)\n",
    "\n",
    "for i, (label, closure) in enumerate(zip(algo_labels, model_gen_mean_closure)):\n",
    "    # Divider\n",
    "    if i in algo_dividers:\n",
    "        print(block_divider)\n",
    "            \n",
    "    # Print results\n",
    "    print(\"{1:<{0}.{0}s} {3} {2} {4}\".format(\n",
    "        l_label, label, _f(closure, after_decs, i==best_closure), col_divider, line_end\n",
    "    ))\n",
    "\n",
    "print(\"\")\n",
    "print(\"\")\n",
    "print(\"\")\n",
    "    \n",
    "# Print reco error results\n",
    "print(\n",
    "    \"{2:<{0}.{0}s} {4} {3:>{1}.{1}s} {5}\".format(\n",
    "        l_label, l_result, \"\", \"Reco error\", col_divider, line_end\n",
    "    )\n",
    ")\n",
    "print(block_divider)\n",
    "\n",
    "for i, (label, reco) in enumerate(zip(algo_labels, model_test_reco_error)):\n",
    "    # Divider\n",
    "    if i in algo_dividers:\n",
    "        print(block_divider)\n",
    "            \n",
    "    # Print results\n",
    "    print(\"{1:<{0}.{0}s} {3} {2} {4}\".format(\n",
    "        l_label, label, _f(reco, after_decs, i==best_reco), col_divider, line_end\n",
    "    ))\n",
    "\n",
    "print(\"\")\n",
    "print(\"\")\n",
    "print(\"\")\n",
    "    \n",
    "# Print posterior results\n",
    "print(\n",
    "    \"{2:<{0}.{0}s} {4} {3:>{1}.{1}s} {5}\".format(\n",
    "        l_label, l_result, \"\", \"Log posterior\", col_divider, line_end\n",
    "    )\n",
    ")\n",
    "print(block_divider)\n",
    "\n",
    "for i, (label, posterior) in enumerate(zip(algo_labels, model_true_log_posteriors)):\n",
    "    # Divider\n",
    "    if i in algo_dividers:\n",
    "        print(block_divider)\n",
    "            \n",
    "    # Print results\n",
    "    print(\"{1:<{0}.{0}s} {3} {2} {4}\".format(\n",
    "        l_label, label, _f(posterior, after_decs, i==best_posterior), col_divider, line_end\n",
    "    ))\n"
   ]
  },
  {
   "cell_type": "markdown",
   "metadata": {},
   "source": [
    "## Comparison to reco error: what if everything was just bleak randomness?"
   ]
  },
  {
   "cell_type": "code",
   "execution_count": 15,
   "metadata": {},
   "outputs": [
    {
     "data": {
      "text/plain": [
       "9.721320412929636"
      ]
     },
     "execution_count": 15,
     "metadata": {},
     "output_type": "execute_result"
    }
   ],
   "source": [
    "x = np.random.normal(size=(1000, 48))\n",
    "y = np.random.normal(size=(1000, 48))\n",
    "\n",
    "np.mean(np.sum((x - y) ** 2, axis=1) ** 0.5)"
   ]
  },
  {
   "cell_type": "code",
   "execution_count": null,
   "metadata": {},
   "outputs": [],
   "source": []
  }
 ],
 "metadata": {
  "kernelspec": {
   "display_name": "Python (ML)",
   "language": "python",
   "name": "ml"
  },
  "language_info": {
   "codemirror_mode": {
    "name": "ipython",
    "version": 3
   },
   "file_extension": ".py",
   "mimetype": "text/x-python",
   "name": "python",
   "nbconvert_exporter": "python",
   "pygments_lexer": "ipython3",
   "version": "3.7.3"
  }
 },
 "nbformat": 4,
 "nbformat_minor": 4
}
