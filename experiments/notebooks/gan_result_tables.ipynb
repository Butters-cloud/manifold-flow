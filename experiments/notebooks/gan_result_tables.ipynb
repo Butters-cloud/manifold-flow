{
 "cells": [
  {
   "cell_type": "markdown",
   "metadata": {},
   "source": [
    "# 2d image manifold results"
   ]
  },
  {
   "cell_type": "markdown",
   "metadata": {},
   "source": [
    "## Setup"
   ]
  },
  {
   "cell_type": "code",
   "execution_count": 1,
   "metadata": {},
   "outputs": [],
   "source": [
    "import sys\n",
    "import numpy as np\n",
    "from itertools import product\n"
   ]
  },
  {
   "cell_type": "markdown",
   "metadata": {},
   "source": [
    "## Load results"
   ]
  },
  {
   "cell_type": "code",
   "execution_count": 2,
   "metadata": {},
   "outputs": [],
   "source": [
    "n_runs = 10"
   ]
  },
  {
   "cell_type": "code",
   "execution_count": 3,
   "metadata": {},
   "outputs": [],
   "source": [
    "algo_filenames = []\n",
    "algo_additionals = []\n",
    "algo_labels = []\n",
    "algo_dividers = []\n",
    "\n",
    "def add_algo(filename, add, label):\n",
    "    algo_filenames.append(filename)\n",
    "    algo_additionals.append(add)\n",
    "    algo_labels.append(label)\n",
    "    \n",
    "    \n",
    "def add_divider():\n",
    "    algo_dividers.append(len(algo_filenames))\n",
    "\n",
    "add_algo(\"flow\", \"_april\", r\"\\af{}\")\n",
    "add_algo(\"pie\", \"_april\", r\"\\pie{}\")\n",
    "add_algo(\"mf\", \"_april\", r\"\\mfmfmd{}\")\n",
    "add_algo(\"emf\", \"_april\", r\"\\mfmfemd{}\")\n",
    "\n",
    "n_algos = len(algo_filenames)\n"
   ]
  },
  {
   "cell_type": "code",
   "execution_count": 4,
   "metadata": {},
   "outputs": [],
   "source": [
    "def load(name, shape, numpyfy=True, chains=1, result_dir=\"../data/results\"):\n",
    "    all_results = []\n",
    "    \n",
    "    for algo_filename, algo_add, algo_dim in zip(algo_filenames, algo_additionals, algo_dims):\n",
    "        algo_results = []\n",
    "            \n",
    "        for run in range(n_runs):\n",
    "            run_str = \"\" if run == 0 else \"_run{}\".format(run)\n",
    "\n",
    "            try:\n",
    "                this_result = np.load(\n",
    "                    \"{}/{}_{}_gan2d_{}.npy\".format(result_dir, algo_filename, algo_add, run_str)\n",
    "                )\n",
    "                if (not numpyfy) or (shape is None) or np.product(this_result.shape) == np.product(shape):\n",
    "                    algo_results.append(this_result.reshape(shape))\n",
    "                else:\n",
    "                    algo_results.append(np.nan*np.ones(shape))\n",
    "\n",
    "            except FileNotFoundError as e:\n",
    "                # print(e)\n",
    "                if shape is None:\n",
    "                    algo_results.append(None)\n",
    "                else:\n",
    "                    algo_results.append(np.nan*np.ones(shape))\n",
    "            \n",
    "        all_results.append(algo_results)\n",
    "    \n",
    "    if numpyfy:\n",
    "        all_results = np.array(all_results, dtype=np.float)\n",
    "        all_results = all_results.reshape([all_results.shape[0], n_runs, n_trueparams] + list(shape))\n",
    "        \n",
    "    return all_results\n",
    "\n",
    "\n",
    "model_gen_x = load(\"samples\", None, numpyfy=False)\n",
    "model_fids = load(\"fid\", None, numpyfy=False)\n"
   ]
  },
  {
   "cell_type": "markdown",
   "metadata": {},
   "source": [
    "## Outlier removal"
   ]
  },
  {
   "cell_type": "code",
   "execution_count": 37,
   "metadata": {},
   "outputs": [],
   "source": [
    "def mean_err_without_outliers(data, remove=1):\n",
    "    shape = list(data.shape)[:-1]\n",
    "    data.reshape((-1, data.shape[-1]))\n",
    "    \n",
    "    means, errors = [], []\n",
    "    \n",
    "    for data_ in data:\n",
    "        data_ = data_[np.isfinite(data_)]\n",
    "        if not len(data_) > 0:\n",
    "            means.append(np.nan)\n",
    "            errors.append(np.nan)\n",
    "            continue\n",
    "            \n",
    "        if len(data_) > 2*remove + 1:\n",
    "            for _ in range(remove):\n",
    "                data_ = np.delete(data_, np.argmin(data_))\n",
    "                data_ = np.delete(data_, np.argmax(data_))\n",
    "\n",
    "        means.append(np.mean(data_))\n",
    "        errors.append(np.std(data_) / len(data_)**0.5)\n",
    "        \n",
    "    return np.array(means).reshape(shape), np.array(errors).reshape(shape)\n",
    "    \n",
    "    \n",
    "model_fid_mean, modelfid_std = mean_err_without_outliers(model_fids)\n"
   ]
  },
  {
   "cell_type": "markdown",
   "metadata": {},
   "source": [
    "## Best metrics"
   ]
  },
  {
   "cell_type": "code",
   "execution_count": 38,
   "metadata": {},
   "outputs": [
    {
     "name": "stdout",
     "output_type": "stream",
     "text": [
      "\\af{}\n",
      "\\mfmfmd{sequential }\n",
      "\\mfmfescandal{alternating }\n"
     ]
    },
    {
     "name": "stderr",
     "output_type": "stream",
     "text": [
      "/Users/johannbrehmer/anaconda3/envs/ml/lib/python3.6/site-packages/ipykernel_launcher.py:6: RuntimeWarning: invalid value encountered in greater\n",
      "  \n"
     ]
    }
   ],
   "source": [
    "best_fid = np.nanargmin(model_fid_mean)\n",
    "print(algo_labels[best_fid])\n"
   ]
  },
  {
   "cell_type": "markdown",
   "metadata": {},
   "source": [
    "## Print result table"
   ]
  },
  {
   "cell_type": "code",
   "execution_count": 39,
   "metadata": {},
   "outputs": [],
   "source": [
    "def print_results(\n",
    "    l_label=max([len(l) for l in algo_labels]), l_mean=6, l_err=5, latex=False, after_dec=1\n",
    "):\n",
    "    # Number of digits\n",
    "    l_result = l_mean + 2 + l_err\n",
    "    l_total = l_label + 1 + 1 * (3 + l_result)\n",
    "        \n",
    "    # Divider\n",
    "    empty_result = \"\" if latex else \" \"*(l_result + 1)\n",
    "    col_divider = \"&\" if latex else \"|\"\n",
    "    line_end = r\"\\\\\" if latex else \"\"\n",
    "    block_divider = r\"\\midrule\" if latex else \"-\"*l_total\n",
    "    \n",
    "    # Number formatting\n",
    "    def _f(val, err, after_dec, best=False):\n",
    "        if not np.any(np.isfinite(val)):\n",
    "            return empty_result\n",
    "        \n",
    "        result = \"{:>{}.{}f}\".format(val, l_mean, after_dec)\n",
    "        if latex and best:\n",
    "            result = r\"\\textbf{\" + result + \"}\"\n",
    "            \n",
    "        err_str = \"({:>{}.{}f})\".format(err, l_err, after_dec)\n",
    "        if latex:\n",
    "            result += r\"\\,\\textcolor{darkgray}{\" + err_str + \"}\"\n",
    "        else:\n",
    "            result += err_str\n",
    "            \n",
    "        result += \"*\" if not latex and best else \" \"\n",
    "        \n",
    "        if latex:\n",
    "            result = result.replace(\"-\", \"$-{}$\")\n",
    "            result = result.replace(\"darkgray\", \"dark-gray\")\n",
    "        return result\n",
    "    \n",
    "    \n",
    "    # Header\n",
    "    print(f\"{'':<{l_label}.{l_label}s} {col_divider} {\"FID\":>{l_result}.{l_result}s} {line_end}\")\n",
    "    print(block_divider)\n",
    "\n",
    "    # Iterate over methods\n",
    "    for i, (label, fid, fid_err) in enumerate(zip(algo_labels, model_fid_mean, model_fid_err)):\n",
    "        # Divider\n",
    "        if i in algo_dividers:\n",
    "            print(block_divider)\n",
    "            \n",
    "        # Print results\n",
    "        print(f\"{label:<{l_label}.{l_label}s} {col_divider} {_f(fid, fid_err, after_dec, i==best_fid):>{l_result}.{l_result}s} {line_end}\")\n",
    "        "
   ]
  },
  {
   "cell_type": "code",
   "execution_count": 40,
   "metadata": {},
   "outputs": [
    {
     "name": "stdout",
     "output_type": "stream",
     "text": [
      "                                  |       Closure |    Reco error |         log p \n",
      "----------------------------------------------------------------------------------\n",
      "\\af{}                             |  0.014(0.002)*|  0.000(0.000) | -10.55( 3.42)  \n",
      "\\pie{} (original)                 |               |               |                \n",
      "\\pie{} (unconditional manifold)   |  0.036(0.006) |  4.553(0.238) |  -1.78( 0.14)  \n",
      "\\mfmfmd{sequential }              |  0.047(0.011) |  0.322(0.137)*|  -1.80( 0.09)  \n",
      "\\mfmfmd{alternating }             |  0.155(0.014) |  0.627(0.126) |  -2.30( 0.06)  \n",
      "\\mfmfemd{sequential }             |  0.056(0.010) |               |  -2.57( 0.42)  \n",
      "\\mfmfemd{alternating }            |  0.056(0.011) |               |  -2.42( 0.31)  \n",
      "----------------------------------------------------------------------------------\n",
      "\\afscandal{}                      |  0.062(0.004) |  0.000(0.000) |   0.04( 0.11)  \n",
      "\\piescandal{, original}           |               |               |                \n",
      "\\piescandal{, unconditional man.} |  0.141(0.011) |  3.534(0.251) |   0.07( 0.15)  \n",
      "\\mfmfscandal{sequential }         |  0.145(0.004) |  0.462(0.133) |   0.00( 0.15)  \n",
      "\\mfmfscandal{alternating }        |  0.365(0.068) |  0.880(0.111) |   0.15( 0.09)  \n",
      "\\mfmfescandal{sequential }        |  0.177(0.019) |  0.375(0.140) |   0.12( 0.10)  \n",
      "\\mfmfescandal{alternating }       |  0.205(0.015) |  0.691(0.015) |   0.21( 0.02)* \n",
      "----------------------------------------------------------------------------------\n",
      "2D summaries (AF)                 |               |  0.000(0.000) |  -0.46( 0.08)  \n",
      "2D summaries (SCANDAL)            |               |  0.000(0.000) |  -0.51( 0.07)  \n",
      "ALICES                            |               |               |   0.18( 0.06)  \n"
     ]
    }
   ],
   "source": [
    "print_results()"
   ]
  },
  {
   "cell_type": "code",
   "execution_count": 41,
   "metadata": {},
   "outputs": [
    {
     "name": "stdout",
     "output_type": "stream",
     "text": [
      "                                  &       Closure &    Reco error &         log p \\\\\n",
      "\\midrule\n",
      "\\af{}                             & \\textbf{ 0.014}\\,\\textcolor{dark-gray}{(0.002)} &  0.000\\,\\textcolor{dark-gray}{(0.000)} & $-{}$10.55\\,\\textcolor{dark-gray}{( 3.42)}  \\\\\n",
      "\\pie{} (original)                 & & &  \\\\\n",
      "\\pie{} (unconditional manifold)   &  0.036\\,\\textcolor{dark-gray}{(0.006)} &  4.553\\,\\textcolor{dark-gray}{(0.238)} &  $-{}$1.78\\,\\textcolor{dark-gray}{( 0.14)}  \\\\\n",
      "\\mfmfmd{sequential }              &  0.047\\,\\textcolor{dark-gray}{(0.011)} & \\textbf{ 0.322}\\,\\textcolor{dark-gray}{(0.137)} &  $-{}$1.80\\,\\textcolor{dark-gray}{( 0.09)}  \\\\\n",
      "\\mfmfmd{alternating }             &  0.155\\,\\textcolor{dark-gray}{(0.014)} &  0.627\\,\\textcolor{dark-gray}{(0.126)} &  $-{}$2.30\\,\\textcolor{dark-gray}{( 0.06)}  \\\\\n",
      "\\mfmfemd{sequential }             &  0.056\\,\\textcolor{dark-gray}{(0.010)} & &  $-{}$2.57\\,\\textcolor{dark-gray}{( 0.42)}  \\\\\n",
      "\\mfmfemd{alternating }            &  0.056\\,\\textcolor{dark-gray}{(0.011)} & &  $-{}$2.42\\,\\textcolor{dark-gray}{( 0.31)}  \\\\\n",
      "\\midrule\n",
      "\\afscandal{}                      &  0.062\\,\\textcolor{dark-gray}{(0.004)} &  0.000\\,\\textcolor{dark-gray}{(0.000)} &   0.04\\,\\textcolor{dark-gray}{( 0.11)}  \\\\\n",
      "\\piescandal{, original}           & & &  \\\\\n",
      "\\piescandal{, unconditional man.} &  0.141\\,\\textcolor{dark-gray}{(0.011)} &  3.534\\,\\textcolor{dark-gray}{(0.251)} &   0.07\\,\\textcolor{dark-gray}{( 0.15)}  \\\\\n",
      "\\mfmfscandal{sequential }         &  0.145\\,\\textcolor{dark-gray}{(0.004)} &  0.462\\,\\textcolor{dark-gray}{(0.133)} &   0.00\\,\\textcolor{dark-gray}{( 0.15)}  \\\\\n",
      "\\mfmfscandal{alternating }        &  0.365\\,\\textcolor{dark-gray}{(0.068)} &  0.880\\,\\textcolor{dark-gray}{(0.111)} &   0.15\\,\\textcolor{dark-gray}{( 0.09)}  \\\\\n",
      "\\mfmfescandal{sequential }        &  0.177\\,\\textcolor{dark-gray}{(0.019)} &  0.375\\,\\textcolor{dark-gray}{(0.140)} &   0.12\\,\\textcolor{dark-gray}{( 0.10)}  \\\\\n",
      "\\mfmfescandal{alternating }       &  0.205\\,\\textcolor{dark-gray}{(0.015)} &  0.691\\,\\textcolor{dark-gray}{(0.015)} & \\textbf{  0.21}\\,\\textcolor{dark-gray}{( 0.02)}  \\\\\n",
      "\\midrule\n",
      "2D summaries (AF)                 & &  0.000\\,\\textcolor{dark-gray}{(0.000)} &  $-{}$0.46\\,\\textcolor{dark-gray}{( 0.08)}  \\\\\n",
      "2D summaries (SCANDAL)            & &  0.000\\,\\textcolor{dark-gray}{(0.000)} &  $-{}$0.51\\,\\textcolor{dark-gray}{( 0.07)}  \\\\\n",
      "ALICES                            & & &   0.18\\,\\textcolor{dark-gray}{( 0.06)}  \\\\\n"
     ]
    }
   ],
   "source": [
    "print_results(latex=True)"
   ]
  },
  {
   "cell_type": "code",
   "execution_count": null,
   "metadata": {},
   "outputs": [],
   "source": []
  }
 ],
 "metadata": {
  "kernelspec": {
   "display_name": "Python (ML)",
   "language": "python",
   "name": "ml"
  },
  "language_info": {
   "codemirror_mode": {
    "name": "ipython",
    "version": 3
   },
   "file_extension": ".py",
   "mimetype": "text/x-python",
   "name": "python",
   "nbconvert_exporter": "python",
   "pygments_lexer": "ipython3",
   "version": "3.7.3"
  }
 },
 "nbformat": 4,
 "nbformat_minor": 4
}
