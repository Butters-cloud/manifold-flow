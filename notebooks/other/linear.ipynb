{
 "cells": [
  {
   "cell_type": "code",
   "execution_count": 8,
   "metadata": {},
   "outputs": [],
   "source": [
    "import numpy as np\n",
    "import logging\n",
    "import sys\n",
    "from matplotlib import pyplot as plt\n",
    "\n",
    "%matplotlib inline\n",
    "sys.path.append(\"../\")\n",
    "\n",
    "import torch\n",
    "from torchvision.datasets import MNIST\n",
    "from torchvision import transforms\n",
    "\n",
    "from aef.models.autoencoder import LinearAutoencoder, ConvolutionalAutoencoder, DenseAutoencoder\n",
    "from aef.trainer import AutoencoderTrainer\n",
    "from aef.losses import nll, mse\n",
    "\n",
    "logging.basicConfig(\n",
    "    format=\"%(asctime)-5.5s %(name)-20.20s %(levelname)-7.7s %(message)s\",\n",
    "    datefmt=\"%H:%M\",\n",
    "    level=logging.INFO,\n",
    ")\n"
   ]
  },
  {
   "cell_type": "markdown",
   "metadata": {},
   "source": [
    "## Data"
   ]
  },
  {
   "cell_type": "code",
   "execution_count": 9,
   "metadata": {},
   "outputs": [],
   "source": [
    "img_transform = transforms.Compose([\n",
    "    transforms.ToTensor(),\n",
    "    transforms.Normalize((0.5,), (0.5,))\n",
    "])\n",
    "mnist = MNIST('./data', download=True, transform=img_transform)"
   ]
  },
  {
   "cell_type": "markdown",
   "metadata": {},
   "source": [
    "## Train autoencoder"
   ]
  },
  {
   "cell_type": "code",
   "execution_count": 10,
   "metadata": {},
   "outputs": [],
   "source": [
    "ae = LinearAutoencoder(latent_dim=20)"
   ]
  },
  {
   "cell_type": "code",
   "execution_count": 11,
   "metadata": {},
   "outputs": [
    {
     "name": "stderr",
     "output_type": "stream",
     "text": [
      "11:04 aef.trainer          INFO    Epoch   1: train loss  0.38500 (MSE:  0.385)\n",
      "11:04 aef.trainer          INFO               val. loss   0.23895 (MSE:  0.239)\n",
      "11:04 aef.trainer          INFO    Epoch   2: train loss  0.21967 (MSE:  0.220)\n",
      "11:04 aef.trainer          INFO               val. loss   0.20023 (MSE:  0.200)\n",
      "11:04 aef.trainer          INFO    Epoch   3: train loss  0.18936 (MSE:  0.189)\n",
      "11:04 aef.trainer          INFO               val. loss   0.17946 (MSE:  0.179)\n",
      "11:05 aef.trainer          INFO    Epoch   4: train loss  0.17420 (MSE:  0.174)\n",
      "11:05 aef.trainer          INFO               val. loss   0.16925 (MSE:  0.169)\n",
      "11:05 aef.trainer          INFO    Epoch   5: train loss  0.16651 (MSE:  0.167)\n",
      "11:05 aef.trainer          INFO               val. loss   0.16388 (MSE:  0.164)\n",
      "11:05 aef.trainer          INFO    Epoch   6: train loss  0.16231 (MSE:  0.162)\n",
      "11:05 aef.trainer          INFO               val. loss   0.16077 (MSE:  0.161)\n",
      "11:05 aef.trainer          INFO    Epoch   7: train loss  0.15987 (MSE:  0.160)\n",
      "11:05 aef.trainer          INFO               val. loss   0.15896 (MSE:  0.159)\n",
      "11:06 aef.trainer          INFO    Epoch   8: train loss  0.15841 (MSE:  0.158)\n",
      "11:06 aef.trainer          INFO               val. loss   0.15786 (MSE:  0.158)\n",
      "11:06 aef.trainer          INFO    Epoch   9: train loss  0.15752 (MSE:  0.158)\n",
      "11:06 aef.trainer          INFO               val. loss   0.15720 (MSE:  0.157)\n",
      "11:06 aef.trainer          INFO    Epoch  10: train loss  0.15697 (MSE:  0.157)\n",
      "11:06 aef.trainer          INFO               val. loss   0.15680 (MSE:  0.157)\n",
      "11:06 aef.trainer          INFO    Early stopping did not improve performance\n"
     ]
    },
    {
     "data": {
      "text/plain": [
       "(array([0.38499626, 0.21967436, 0.18936219, 0.17420215, 0.16651253,\n",
       "        0.16230597, 0.15986796, 0.15841103, 0.15751665, 0.15697261]),\n",
       " array([0.23894536, 0.20022631, 0.17945785, 0.16924586, 0.16387519,\n",
       "        0.16077428, 0.15896039, 0.15786233, 0.15719795, 0.15680156]))"
      ]
     },
     "execution_count": 11,
     "metadata": {},
     "output_type": "execute_result"
    }
   ],
   "source": [
    "trainer = AutoencoderTrainer(ae, output_filename=\"../figures/training/linear/linear_phase1\")\n",
    "trainer.train(\n",
    "    dataset=mnist,\n",
    "    loss_functions=[mse],\n",
    "    loss_labels=[\"MSE\"],\n",
    "    batch_size=256,\n",
    "    epochs=10,\n",
    "    verbose=\"all\",\n",
    "    initial_lr=1.e-3,\n",
    "    final_lr=1.e-5\n",
    ")"
   ]
  },
  {
   "cell_type": "code",
   "execution_count": 12,
   "metadata": {},
   "outputs": [
    {
     "ename": "NameError",
     "evalue": "name 'AutoencoderFlowTrainer' is not defined",
     "output_type": "error",
     "traceback": [
      "\u001b[0;31m---------------------------------------------------------------------------\u001b[0m",
      "\u001b[0;31mNameError\u001b[0m                                 Traceback (most recent call last)",
      "\u001b[0;32m<ipython-input-12-abbcc122904c>\u001b[0m in \u001b[0;36m<module>\u001b[0;34m\u001b[0m\n\u001b[0;32m----> 1\u001b[0;31m \u001b[0mtrainer\u001b[0m \u001b[0;34m=\u001b[0m \u001b[0mAutoencoderFlowTrainer\u001b[0m\u001b[0;34m(\u001b[0m\u001b[0mae\u001b[0m\u001b[0;34m,\u001b[0m \u001b[0moutput_filename\u001b[0m\u001b[0;34m=\u001b[0m\u001b[0;34m\"../figures/training/linear/linear_phase2\"\u001b[0m\u001b[0;34m)\u001b[0m\u001b[0;34m\u001b[0m\u001b[0;34m\u001b[0m\u001b[0m\n\u001b[0m\u001b[1;32m      2\u001b[0m trainer.train(\n\u001b[1;32m      3\u001b[0m     \u001b[0mdataset\u001b[0m\u001b[0;34m=\u001b[0m\u001b[0mmnist\u001b[0m\u001b[0;34m,\u001b[0m\u001b[0;34m\u001b[0m\u001b[0;34m\u001b[0m\u001b[0m\n\u001b[1;32m      4\u001b[0m     \u001b[0mloss_functions\u001b[0m\u001b[0;34m=\u001b[0m\u001b[0;34m[\u001b[0m\u001b[0mnll\u001b[0m\u001b[0;34m]\u001b[0m\u001b[0;34m,\u001b[0m\u001b[0;34m\u001b[0m\u001b[0;34m\u001b[0m\u001b[0m\n\u001b[1;32m      5\u001b[0m     \u001b[0mloss_labels\u001b[0m\u001b[0;34m=\u001b[0m\u001b[0;34m[\u001b[0m\u001b[0;34m\"NLL\"\u001b[0m\u001b[0;34m]\u001b[0m\u001b[0;34m,\u001b[0m\u001b[0;34m\u001b[0m\u001b[0;34m\u001b[0m\u001b[0m\n",
      "\u001b[0;31mNameError\u001b[0m: name 'AutoencoderFlowTrainer' is not defined"
     ]
    }
   ],
   "source": [
    "trainer = AutoencoderFlowTrainer(ae, output_filename=\"../figures/training/linear/linear_phase2\")\n",
    "trainer.train(\n",
    "    dataset=mnist,\n",
    "    loss_functions=[nll],\n",
    "    loss_labels=[\"NLL\"],\n",
    "    batch_size=256,\n",
    "    epochs=10,\n",
    "    verbose=\"all\",\n",
    "    initial_lr=1.e-3,\n",
    "    final_lr=1.e-5,\n",
    "    parameters=ae.flow.parameters()\n",
    ")"
   ]
  },
  {
   "cell_type": "markdown",
   "metadata": {},
   "source": [
    "## Visualize latent space"
   ]
  },
  {
   "cell_type": "code",
   "execution_count": null,
   "metadata": {},
   "outputs": [],
   "source": [
    "x = torch.cat([mnist[i][0].unsqueeze(0) for i in range(1000)], dim=0)\n",
    "y = np.asarray([mnist[i][1] for i in range(1000)])"
   ]
  },
  {
   "cell_type": "code",
   "execution_count": null,
   "metadata": {},
   "outputs": [],
   "source": [
    "h, u = ae.latent(x)\n",
    "x_out = ae.decoder(h)\n",
    "h = h.detach().numpy().reshape((-1,2))\n",
    "u = u.detach().numpy().reshape((-1,2))"
   ]
  },
  {
   "cell_type": "code",
   "execution_count": null,
   "metadata": {},
   "outputs": [],
   "source": [
    "fig = plt.figure(figsize=(10,5))\n",
    "\n",
    "ax = plt.subplot(1,2,1)\n",
    "for i in range(10):\n",
    "    plt.scatter(h[y==i][:,0], h[y==i][:,1], c=\"C{}\".format(i), s=20., label=\"{}\".format(i+1))\n",
    "plt.legend()\n",
    "    \n",
    "ax = plt.subplot(1,2,2)\n",
    "for i in range(10):\n",
    "    plt.scatter(u[y==i][:,0], u[y==i][:,1], c=\"C{}\".format(i), s=20., label=\"{}\".format(i+1))\n",
    "plt.legend()\n",
    "\n",
    "plt.tight_layout()\n",
    "plt.show()\n"
   ]
  },
  {
   "cell_type": "markdown",
   "metadata": {
    "collapsed": true
   },
   "source": [
    "## Visualize reconstruction"
   ]
  },
  {
   "cell_type": "code",
   "execution_count": null,
   "metadata": {},
   "outputs": [],
   "source": [
    "x = torch.cat([mnist[i][0].unsqueeze(0) for i in range(1000)], dim=0)\n",
    "y = np.asarray([mnist[i][1] for i in range(1000)])"
   ]
  },
  {
   "cell_type": "code",
   "execution_count": null,
   "metadata": {},
   "outputs": [],
   "source": [
    "h = ae.encoder(x)\n",
    "x_out = ae.decoder(h)\n",
    "h = h.detach().numpy()\n",
    "x_out = x_out.detach().numpy()"
   ]
  },
  {
   "cell_type": "code",
   "execution_count": null,
   "metadata": {},
   "outputs": [],
   "source": [
    "fig = plt.figure(figsize=(12,12))\n",
    "\n",
    "for i in range(18):\n",
    "    ax = plt.subplot(6, 6, 2*i + 1)\n",
    "    plt.imshow(x[i].reshape((28,28)))\n",
    "    ax = plt.subplot(6, 6, 2*i + 2)\n",
    "    plt.imshow(x_out[i].reshape((28,28)))\n",
    "        \n",
    "plt.tight_layout()\n",
    "plt.show()"
   ]
  },
  {
   "cell_type": "code",
   "execution_count": null,
   "metadata": {
    "collapsed": true
   },
   "outputs": [],
   "source": []
  }
 ],
 "metadata": {
  "kernelspec": {
   "display_name": "Python (ML)",
   "language": "python",
   "name": "ml"
  },
  "language_info": {
   "codemirror_mode": {
    "name": "ipython",
    "version": 3
   },
   "file_extension": ".py",
   "mimetype": "text/x-python",
   "name": "python",
   "nbconvert_exporter": "python",
   "pygments_lexer": "ipython3",
   "version": "3.6.8"
  }
 },
 "nbformat": 4,
 "nbformat_minor": 2
}
