{
 "cells": [
  {
   "cell_type": "markdown",
   "metadata": {},
   "source": [
    "# Spherical Gaussian experiment (2D)"
   ]
  },
  {
   "cell_type": "markdown",
   "metadata": {},
   "source": [
    "## Setup"
   ]
  },
  {
   "cell_type": "code",
   "execution_count": 1,
   "metadata": {},
   "outputs": [],
   "source": [
    "import sys\n",
    "import numpy as np\n",
    "import matplotlib\n",
    "from matplotlib import pyplot as plt\n",
    "import torch\n",
    "from torch.utils.data import TensorDataset\n",
    "import logging\n",
    "\n",
    "\n",
    "sys.path.append(\"../../\")\n",
    "import manifold_flow as mf\n",
    "from manifold_flow import transforms, utils, distributions, training\n",
    "from manifold_flow.flows import Flow, ManifoldFlow\n",
    "from manifold_flow import nn as nn_\n",
    "from experiments.simulators.spherical_simulator import SphericalGaussianSimulator\n",
    "from experiments.utils import vector_transforms\n",
    "\n",
    "%matplotlib inline\n",
    "\n",
    "logging.basicConfig(\n",
    "    format=\"%(asctime)-5.5s %(name)-30.30s %(levelname)-7.7s %(message)s\",\n",
    "    datefmt=\"%H:%M\",\n",
    "    level=logging.DEBUG,\n",
    ")\n",
    "logger = logging.getLogger(__name__)\n",
    "# Output of all other modules (e.g. matplotlib)\n",
    "for key in logging.Logger.manager.loggerDict:\n",
    "    if \"experiments\" not in key and \"manifold_flow\" not in key:\n",
    "        logging.getLogger(key).setLevel(logging.WARNING)\n"
   ]
  },
  {
   "cell_type": "markdown",
   "metadata": {},
   "source": [
    "### Settings"
   ]
  },
  {
   "cell_type": "code",
   "execution_count": 2,
   "metadata": {},
   "outputs": [],
   "source": [
    "epochs = 20\n",
    "n_train = 100000\n",
    "epsilon = 0.01"
   ]
  },
  {
   "cell_type": "markdown",
   "metadata": {},
   "source": [
    "### Data"
   ]
  },
  {
   "cell_type": "code",
   "execution_count": 3,
   "metadata": {},
   "outputs": [],
   "source": [
    "simulator = SphericalGaussianSimulator(latent_dim=1, data_dim=2, epsilon=epsilon)\n",
    "x = simulator.sample(n_train)\n",
    "x_tensor = torch.from_numpy(x)\n",
    "train_dataset = TensorDataset(x_tensor, x_tensor)"
   ]
  },
  {
   "cell_type": "code",
   "execution_count": 4,
   "metadata": {},
   "outputs": [
    {
     "name": "stderr",
     "output_type": "stream",
     "text": [
      "21:35 experiments.simulators.spheric DEBUG   Evaluating true log density for x = [-1.4 -1.4]\n",
      "21:35 experiments.simulators.spheric DEBUG   Latent variables: z_phi = [3.92699082], z_eps = [0.97989899]\n",
      "../../experiments/simulators/spherical_simulator.py:108: RuntimeWarning: divide by zero encountered in log\n",
      "  logp_eps = np.log(norm(loc=0.0, scale=self._epsilon).pdf(z_eps))\n"
     ]
    },
    {
     "data": {
      "image/png": "[encoded data removed]",
      "text/plain": [
       "<Figure size 360x288 with 2 Axes>"
      ]
     },
     "metadata": {
      "needs_background": "light"
     },
     "output_type": "display_data"
    }
   ],
   "source": [
    "res = 200\n",
    "x_range = np.linspace(-1.4,1.4,res)\n",
    "y_range = np.linspace(-1.4,1.4,res)\n",
    "xx, yy = np.meshgrid(x_range, y_range)\n",
    "x_grid = np.concatenate((xx.reshape((-1,1)), yy.reshape((-1,1))), axis=1)\n",
    "logp_grid = simulator.log_density(x_grid, precise=True).reshape((res, res))\n",
    "logp_grid[~np.isfinite(logp_grid)] = -1000000.\n",
    "\n",
    "zmin, zmax = np.max(logp_grid) - 10, np.max(logp_grid)\n",
    "fig = plt.figure(figsize=(5,4))\n",
    "ax = plt.gca()\n",
    "\n",
    "pcm = plt.imshow(\n",
    "    np.clip(logp_grid, zmin, zmax),\n",
    "    extent=(-1.4,1.4,-1.4,1.4),\n",
    "    origin=\"lower\",\n",
    "    cmap=\"viridis\", norm=matplotlib.colors.Normalize(zmin, zmax),\n",
    "    interpolation='nearest'\n",
    ")\n",
    "cb = plt.colorbar(pcm, extend=\"both\")\n",
    "plt.scatter(x[::50,0], x[::50,1], s=2., c=\"black\", alpha=1.)\n",
    "\n",
    "plt.xlabel(\"$x_1$\")\n",
    "plt.ylabel(\"$x_2$\")\n",
    "cb.set_label(\"$\\log \\; p(x)$\")\n",
    "plt.tight_layout()\n",
    "\n",
    "plt.savefig(\"spherical_gaussian_2d_data.pdf\", dpi=500)"
   ]
  },
  {
   "cell_type": "code",
   "execution_count": 5,
   "metadata": {},
   "outputs": [
    {
     "data": {
      "text/plain": [
       "1.0000930850098504"
      ]
     },
     "execution_count": 5,
     "metadata": {},
     "output_type": "execute_result"
    }
   ],
   "source": [
    "pixel_size = (x_range[1] - x_range[0]) * (y_range[1] - y_range[0])\n",
    "\n",
    "np.sum(np.exp(logp_grid) * pixel_size)"
   ]
  },
  {
   "cell_type": "markdown",
   "metadata": {},
   "source": [
    "## Set up models"
   ]
  },
  {
   "cell_type": "markdown",
   "metadata": {},
   "source": [
    "### Manifold flow"
   ]
  },
  {
   "cell_type": "code",
   "execution_count": 6,
   "metadata": {},
   "outputs": [
    {
     "name": "stderr",
     "output_type": "stream",
     "text": [
      "21:35 manifold_flow.transforms.proje DEBUG   Set up projection from vector with dimension 2 to vector with dimension 1\n",
      "21:35 manifold_flow.flows.base       DEBUG   Created standard flow with 0.0 M parameters (0.0 M trainable) with an estimated size of 0.0 <B\n",
      "21:35 manifold_flow.training.trainer INFO    Training on CPU with single precision\n",
      "21:35 manifold_flow.training.trainer DEBUG   Initialising training data\n",
      "21:35 manifold_flow.training.trainer DEBUG   Setting up optimizer\n",
      "21:35 manifold_flow.training.trainer DEBUG   Setting up LR scheduler\n",
      "21:35 manifold_flow.training.trainer DEBUG   Using early stopping with infinite patience\n",
      "21:35 manifold_flow.training.trainer DEBUG   Will print training progress every 1 epochs\n",
      "21:35 manifold_flow.training.trainer DEBUG   Beginning main training loop\n",
      "21:35 manifold_flow.training.trainer DEBUG   Training epoch 1 / 10\n",
      "21:35 manifold_flow.training.trainer DEBUG     Learning rate: [0.001]\n",
      "21:35 manifold_flow.training.trainer INFO    Epoch   1: train loss  5.14066 (mse:  0.051)\n",
      "21:35 manifold_flow.training.trainer INFO               val. loss   0.44787 (mse:  0.004)\n",
      "21:35 manifold_flow.training.trainer DEBUG   Training epoch 2 / 10\n",
      "21:35 manifold_flow.training.trainer DEBUG     Learning rate: [0.001]\n",
      "21:35 manifold_flow.training.trainer INFO    Epoch   2: train loss  0.28644 (mse:  0.003)\n",
      "21:35 manifold_flow.training.trainer INFO               val. loss   0.31097 (mse:  0.003)\n",
      "21:35 manifold_flow.training.trainer DEBUG   Training epoch 3 / 10\n",
      "21:35 manifold_flow.training.trainer DEBUG     Learning rate: [0.0009755282581475768]\n",
      "21:35 manifold_flow.training.trainer INFO    Epoch   3: train loss  0.20803 (mse:  0.002)\n",
      "21:35 manifold_flow.training.trainer INFO               val. loss   0.24442 (mse:  0.002)\n",
      "21:35 manifold_flow.training.trainer DEBUG   Training epoch 4 / 10\n",
      "21:35 manifold_flow.training.trainer DEBUG     Learning rate: [0.0009045084971874737]\n",
      "21:35 manifold_flow.training.trainer INFO    Epoch   4: train loss  0.16199 (mse:  0.002)\n",
      "21:35 manifold_flow.training.trainer INFO               val. loss   0.18408 (mse:  0.002)\n",
      "21:35 manifold_flow.training.trainer DEBUG   Training epoch 5 / 10\n",
      "21:35 manifold_flow.training.trainer DEBUG     Learning rate: [0.0007938926261462367]\n",
      "21:35 manifold_flow.training.trainer INFO    Epoch   5: train loss  0.12595 (mse:  0.001)\n",
      "21:35 manifold_flow.training.trainer INFO               val. loss   0.16217 (mse:  0.002)\n",
      "21:35 manifold_flow.training.trainer DEBUG   Training epoch 6 / 10\n",
      "21:35 manifold_flow.training.trainer DEBUG     Learning rate: [0.0006545084971874737]\n",
      "21:35 manifold_flow.training.trainer INFO    Epoch   6: train loss  0.11567 (mse:  0.001)\n",
      "21:35 manifold_flow.training.trainer INFO               val. loss   0.28786 (mse:  0.003)\n",
      "21:35 manifold_flow.training.trainer DEBUG   Training epoch 7 / 10\n",
      "21:35 manifold_flow.training.trainer DEBUG     Learning rate: [0.0005]\n",
      "21:36 manifold_flow.training.trainer INFO    Epoch   7: train loss  0.10636 (mse:  0.001)\n",
      "21:36 manifold_flow.training.trainer INFO               val. loss   0.16884 (mse:  0.002)\n",
      "21:36 manifold_flow.training.trainer DEBUG   Training epoch 8 / 10\n",
      "21:36 manifold_flow.training.trainer DEBUG     Learning rate: [0.00034549150281252633]\n",
      "21:36 manifold_flow.training.trainer INFO    Epoch   8: train loss  0.09923 (mse:  0.001)\n",
      "21:36 manifold_flow.training.trainer INFO               val. loss   0.13678 (mse:  0.001)\n",
      "21:36 manifold_flow.training.trainer DEBUG   Training epoch 9 / 10\n",
      "21:36 manifold_flow.training.trainer DEBUG     Learning rate: [0.00020610737385376348]\n",
      "21:36 manifold_flow.training.trainer INFO    Epoch   9: train loss  0.09454 (mse:  0.001)\n",
      "21:36 manifold_flow.training.trainer INFO               val. loss   0.13592 (mse:  0.001)\n",
      "21:36 manifold_flow.training.trainer DEBUG   Training epoch 10 / 10\n",
      "21:36 manifold_flow.training.trainer DEBUG     Learning rate: [9.549150281252633e-05]\n",
      "21:36 manifold_flow.training.trainer INFO    Epoch  10: train loss  0.09178 (mse:  0.001)\n",
      "21:36 manifold_flow.training.trainer INFO               val. loss   0.13454 (mse:  0.001)\n",
      "21:36 manifold_flow.training.trainer INFO    Early stopping did not improve performance\n",
      "21:36 manifold_flow.training.trainer DEBUG   Training finished\n",
      "21:36 manifold_flow.training.trainer DEBUG   Initialising training data\n",
      "21:36 manifold_flow.training.trainer DEBUG   Setting up optimizer\n",
      "21:36 manifold_flow.training.trainer DEBUG   Setting up LR scheduler\n",
      "21:36 manifold_flow.training.trainer DEBUG   Using early stopping with infinite patience\n",
      "21:36 manifold_flow.training.trainer DEBUG   Will print training progress every 1 epochs\n",
      "21:36 manifold_flow.training.trainer DEBUG   Beginning main training loop\n",
      "21:36 manifold_flow.training.trainer DEBUG   Training epoch 1 / 10\n",
      "21:36 manifold_flow.training.trainer DEBUG     Learning rate: [0.001]\n",
      "21:39 manifold_flow.training.trainer INFO    Epoch   1: train loss -1.01890 (mse:  0.001, nll: -1.019)\n",
      "21:39 manifold_flow.training.trainer INFO               val. loss  -1.15960 (mse:  0.001, nll: -1.160)\n",
      "21:39 manifold_flow.training.trainer DEBUG   Training epoch 2 / 10\n",
      "21:39 manifold_flow.training.trainer DEBUG     Learning rate: [0.001]\n",
      "21:42 manifold_flow.training.trainer INFO    Epoch   2: train loss -1.27706 (mse:  0.001, nll: -1.277)\n",
      "21:42 manifold_flow.training.trainer INFO               val. loss  -1.35305 (mse:  0.001, nll: -1.353)\n",
      "21:42 manifold_flow.training.trainer DEBUG   Training epoch 3 / 10\n",
      "21:42 manifold_flow.training.trainer DEBUG     Learning rate: [0.0009755282581475768]\n",
      "21:46 manifold_flow.training.trainer INFO    Epoch   3: train loss -1.43040 (mse:  0.001, nll: -1.430)\n",
      "21:46 manifold_flow.training.trainer INFO               val. loss  -1.47291 (mse:  0.001, nll: -1.473)\n",
      "21:46 manifold_flow.training.trainer DEBUG   Training epoch 4 / 10\n",
      "21:46 manifold_flow.training.trainer DEBUG     Learning rate: [0.0009045084971874737]\n",
      "21:49 manifold_flow.training.trainer INFO    Epoch   4: train loss -1.52635 (mse:  0.001, nll: -1.526)\n",
      "21:49 manifold_flow.training.trainer INFO               val. loss  -1.54816 (mse:  0.001, nll: -1.548)\n",
      "21:49 manifold_flow.training.trainer DEBUG   Training epoch 5 / 10\n",
      "21:49 manifold_flow.training.trainer DEBUG     Learning rate: [0.0007938926261462367]\n",
      "21:52 manifold_flow.training.trainer INFO    Epoch   5: train loss -1.58649 (mse:  0.001, nll: -1.586)\n",
      "21:52 manifold_flow.training.trainer INFO               val. loss  -1.59410 (mse:  0.001, nll: -1.594)\n",
      "21:52 manifold_flow.training.trainer DEBUG   Training epoch 6 / 10\n",
      "21:52 manifold_flow.training.trainer DEBUG     Learning rate: [0.0006545084971874737]\n",
      "21:56 manifold_flow.training.trainer INFO    Epoch   6: train loss -1.62288 (mse:  0.001, nll: -1.623)\n",
      "21:56 manifold_flow.training.trainer INFO               val. loss  -1.62136 (mse:  0.001, nll: -1.621)\n",
      "21:56 manifold_flow.training.trainer DEBUG   Training epoch 7 / 10\n",
      "21:56 manifold_flow.training.trainer DEBUG     Learning rate: [0.0005]\n",
      "21:59 manifold_flow.training.trainer INFO    Epoch   7: train loss -1.64413 (mse:  0.001, nll: -1.644)\n",
      "21:59 manifold_flow.training.trainer INFO               val. loss  -1.63674 (mse:  0.001, nll: -1.637)\n",
      "21:59 manifold_flow.training.trainer DEBUG   Training epoch 8 / 10\n",
      "21:59 manifold_flow.training.trainer DEBUG     Learning rate: [0.00034549150281252633]\n",
      "22:02 manifold_flow.training.trainer INFO    Epoch   8: train loss -1.65604 (mse:  0.001, nll: -1.656)\n",
      "22:02 manifold_flow.training.trainer INFO               val. loss  -1.64516 (mse:  0.001, nll: -1.645)\n",
      "22:02 manifold_flow.training.trainer DEBUG   Training epoch 9 / 10\n",
      "22:02 manifold_flow.training.trainer DEBUG     Learning rate: [0.00020610737385376348]\n",
      "22:05 manifold_flow.training.trainer INFO    Epoch   9: train loss -1.66239 (mse:  0.001, nll: -1.662)\n",
      "22:05 manifold_flow.training.trainer INFO               val. loss  -1.64942 (mse:  0.001, nll: -1.649)\n",
      "22:05 manifold_flow.training.trainer DEBUG   Training epoch 10 / 10\n",
      "22:05 manifold_flow.training.trainer DEBUG     Learning rate: [9.549150281252633e-05]\n",
      "22:09 manifold_flow.training.trainer INFO    Epoch  10: train loss -1.66548 (mse:  0.001, nll: -1.665)\n",
      "22:09 manifold_flow.training.trainer INFO               val. loss  -1.65127 (mse:  0.001, nll: -1.651)\n"
     ]
    },
    {
     "name": "stderr",
     "output_type": "stream",
     "text": [
      "22:09 manifold_flow.training.trainer INFO    Early stopping did not improve performance\n",
      "22:09 manifold_flow.training.trainer DEBUG   Training finished\n"
     ]
    },
    {
     "data": {
      "text/plain": [
       "(array([-1.01889587, -1.27705722, -1.43039809, -1.52634964, -1.58648968,\n",
       "        -1.62288278, -1.64413167, -1.65604351, -1.66239445, -1.66548191]),\n",
       " array([-1.1595998 , -1.35305155, -1.4729071 , -1.54816154, -1.59409639,\n",
       "        -1.6213636 , -1.63674485, -1.6451611 , -1.64942423, -1.65127181]))"
      ]
     },
     "execution_count": 6,
     "metadata": {},
     "output_type": "execute_result"
    }
   ],
   "source": [
    "outer_transform = vector_transforms.create_transform(\n",
    "    2, 3,\n",
    "    linear_transform_type=\"permutation\",\n",
    "    base_transform_type=\"affine-coupling\",\n",
    "    context_features=None,\n",
    "    hidden_features=20,\n",
    "    num_transform_blocks=1,\n",
    "    resnet_transform=False,\n",
    ")\n",
    "inner_transform=transforms.ConditionalAffineScalarTransform(features=1)\n",
    "\n",
    "mf = ManifoldFlow(\n",
    "    data_dim=2,\n",
    "    latent_dim=1,\n",
    "    inner_transform=inner_transform,\n",
    "    outer_transform=outer_transform\n",
    ")\n",
    "\n",
    "trainer = training.trainer.ManifoldFlowTrainer(mf)\n",
    "trainer.train(\n",
    "    train_dataset,\n",
    "    [training.losses.mse],\n",
    "    loss_weights=[100.],\n",
    "    epochs=epochs // 2,\n",
    "    forward_kwargs={\"mode\":\"projection\"}\n",
    ")\n",
    "trainer.train(\n",
    "    train_dataset,\n",
    "    [training.losses.mse, training.losses.nll],\n",
    "    loss_weights=[0., 1.],\n",
    "    epochs=epochs // 2,\n",
    "    parameters=mf.inner_transform.parameters(),\n",
    "    forward_kwargs={\"mode\":\"mf\"}\n",
    ")"
   ]
  },
  {
   "cell_type": "markdown",
   "metadata": {},
   "source": [
    "### PIE"
   ]
  },
  {
   "cell_type": "code",
   "execution_count": 7,
   "metadata": {},
   "outputs": [
    {
     "name": "stderr",
     "output_type": "stream",
     "text": [
      "22:09 manifold_flow.transforms.proje DEBUG   Set up projection from vector with dimension 2 to vector with dimension 1\n",
      "22:09 manifold_flow.flows.base       DEBUG   Created standard flow with 2.0 M parameters (2.0 M trainable) with an estimated size of 7.9 <B\n",
      "22:09 manifold_flow.training.trainer INFO    Training on CPU with single precision\n",
      "22:09 manifold_flow.training.trainer DEBUG   Initialising training data\n",
      "22:09 manifold_flow.training.trainer DEBUG   Setting up optimizer\n",
      "22:09 manifold_flow.training.trainer DEBUG   Setting up LR scheduler\n",
      "22:09 manifold_flow.training.trainer DEBUG   Using early stopping with infinite patience\n",
      "22:09 manifold_flow.training.trainer DEBUG   Will print training progress every 1 epochs\n",
      "22:09 manifold_flow.training.trainer DEBUG   Beginning main training loop\n",
      "22:09 manifold_flow.training.trainer DEBUG   Training epoch 1 / 20\n",
      "22:09 manifold_flow.training.trainer DEBUG     Learning rate: [0.001]\n",
      "22:10 manifold_flow.training.trainer INFO    Epoch   1: train loss 12713.18611 (nll: 12713.186)\n",
      "22:10 manifold_flow.training.trainer INFO               val. loss  1715.42933 (nll: 1715.429)\n",
      "22:10 manifold_flow.training.trainer DEBUG   Training epoch 2 / 20\n",
      "22:10 manifold_flow.training.trainer DEBUG     Learning rate: [0.001]\n",
      "22:11 manifold_flow.training.trainer INFO    Epoch   2: train loss 482.44447 (nll: 482.444)\n",
      "22:11 manifold_flow.training.trainer INFO               val. loss  320.38133 (nll: 320.381)\n",
      "22:11 manifold_flow.training.trainer DEBUG   Training epoch 3 / 20\n",
      "22:11 manifold_flow.training.trainer DEBUG     Learning rate: [0.0009938441702975688]\n",
      "22:12 manifold_flow.training.trainer INFO    Epoch   3: train loss 275.80822 (nll: 275.808)\n",
      "22:12 manifold_flow.training.trainer INFO               val. loss  15.29392 (nll: 15.294)\n",
      "22:12 manifold_flow.training.trainer DEBUG   Training epoch 4 / 20\n",
      "22:12 manifold_flow.training.trainer DEBUG     Learning rate: [0.0009755282581475768]\n",
      "22:13 manifold_flow.training.trainer INFO    Epoch   4: train loss 31.81459 (nll: 31.815)\n",
      "22:13 manifold_flow.training.trainer INFO               val. loss  18.78179 (nll: 18.782)\n",
      "22:13 manifold_flow.training.trainer DEBUG   Training epoch 5 / 20\n",
      "22:13 manifold_flow.training.trainer DEBUG     Learning rate: [0.0009455032620941839]\n",
      "22:14 manifold_flow.training.trainer INFO    Epoch   5: train loss 25.03069 (nll: 25.031)\n",
      "22:14 manifold_flow.training.trainer INFO               val. loss  32.81990 (nll: 32.820)\n",
      "22:14 manifold_flow.training.trainer DEBUG   Training epoch 6 / 20\n",
      "22:14 manifold_flow.training.trainer DEBUG     Learning rate: [0.0009045084971874737]\n",
      "22:15 manifold_flow.training.trainer INFO    Epoch   6: train loss 22.85505 (nll: 22.855)\n",
      "22:15 manifold_flow.training.trainer INFO               val. loss   7.88320 (nll:  7.883)\n",
      "22:15 manifold_flow.training.trainer DEBUG   Training epoch 7 / 20\n",
      "22:15 manifold_flow.training.trainer DEBUG     Learning rate: [0.0008535533905932737]\n",
      "22:17 manifold_flow.training.trainer INFO    Epoch   7: train loss 19.41279 (nll: 19.413)\n",
      "22:17 manifold_flow.training.trainer INFO               val. loss  17.47900 (nll: 17.479)\n",
      "22:17 manifold_flow.training.trainer DEBUG   Training epoch 8 / 20\n",
      "22:17 manifold_flow.training.trainer DEBUG     Learning rate: [0.0007938926261462367]\n",
      "22:18 manifold_flow.training.trainer INFO    Epoch   8: train loss 15.89848 (nll: 15.898)\n",
      "22:18 manifold_flow.training.trainer INFO               val. loss  24.28073 (nll: 24.281)\n",
      "22:18 manifold_flow.training.trainer DEBUG   Training epoch 9 / 20\n",
      "22:18 manifold_flow.training.trainer DEBUG     Learning rate: [0.0007269952498697733]\n",
      "22:19 manifold_flow.training.trainer INFO    Epoch   9: train loss 13.66299 (nll: 13.663)\n",
      "22:19 manifold_flow.training.trainer INFO               val. loss  16.39103 (nll: 16.391)\n",
      "22:19 manifold_flow.training.trainer DEBUG   Training epoch 10 / 20\n",
      "22:19 manifold_flow.training.trainer DEBUG     Learning rate: [0.0006545084971874737]\n",
      "22:20 manifold_flow.training.trainer INFO    Epoch  10: train loss 10.58294 (nll: 10.583)\n",
      "22:20 manifold_flow.training.trainer INFO               val. loss   8.68398 (nll:  8.684)\n",
      "22:20 manifold_flow.training.trainer DEBUG   Training epoch 11 / 20\n",
      "22:20 manifold_flow.training.trainer DEBUG     Learning rate: [0.0005782172325201155]\n",
      "22:21 manifold_flow.training.trainer INFO    Epoch  11: train loss  8.20907 (nll:  8.209)\n",
      "22:21 manifold_flow.training.trainer INFO               val. loss  12.01897 (nll: 12.019)\n",
      "22:21 manifold_flow.training.trainer DEBUG   Training epoch 12 / 20\n",
      "22:21 manifold_flow.training.trainer DEBUG     Learning rate: [0.0005]\n",
      "22:22 manifold_flow.training.trainer INFO    Epoch  12: train loss  6.06801 (nll:  6.068)\n",
      "22:22 manifold_flow.training.trainer INFO               val. loss   1.54411 (nll:  1.544)\n",
      "22:22 manifold_flow.training.trainer DEBUG   Training epoch 13 / 20\n",
      "22:22 manifold_flow.training.trainer DEBUG     Learning rate: [0.0004217827674798847]\n",
      "22:24 manifold_flow.training.trainer INFO    Epoch  13: train loss  4.54541 (nll:  4.545)\n",
      "22:24 manifold_flow.training.trainer INFO               val. loss   7.37956 (nll:  7.380)\n",
      "22:24 manifold_flow.training.trainer DEBUG   Training epoch 14 / 20\n",
      "22:24 manifold_flow.training.trainer DEBUG     Learning rate: [0.00034549150281252633]\n",
      "22:25 manifold_flow.training.trainer INFO    Epoch  14: train loss  3.28558 (nll:  3.286)\n",
      "22:25 manifold_flow.training.trainer INFO               val. loss   1.35170 (nll:  1.352)\n",
      "22:25 manifold_flow.training.trainer DEBUG   Training epoch 15 / 20\n",
      "22:25 manifold_flow.training.trainer DEBUG     Learning rate: [0.00027300475013022663]\n",
      "22:26 manifold_flow.training.trainer INFO    Epoch  15: train loss  2.14466 (nll:  2.145)\n",
      "22:26 manifold_flow.training.trainer INFO               val. loss   2.67388 (nll:  2.674)\n",
      "22:26 manifold_flow.training.trainer DEBUG   Training epoch 16 / 20\n",
      "22:26 manifold_flow.training.trainer DEBUG     Learning rate: [0.00020610737385376348]\n",
      "22:27 manifold_flow.training.trainer INFO    Epoch  16: train loss  1.42414 (nll:  1.424)\n",
      "22:27 manifold_flow.training.trainer INFO               val. loss   1.25002 (nll:  1.250)\n",
      "22:27 manifold_flow.training.trainer DEBUG   Training epoch 17 / 20\n",
      "22:27 manifold_flow.training.trainer DEBUG     Learning rate: [0.00014644660940672628]\n",
      "22:28 manifold_flow.training.trainer INFO    Epoch  17: train loss  0.91757 (nll:  0.918)\n",
      "22:28 manifold_flow.training.trainer INFO               val. loss   0.89207 (nll:  0.892)\n",
      "22:28 manifold_flow.training.trainer DEBUG   Training epoch 18 / 20\n",
      "22:28 manifold_flow.training.trainer DEBUG     Learning rate: [9.549150281252633e-05]\n",
      "22:29 manifold_flow.training.trainer INFO    Epoch  18: train loss  0.87453 (nll:  0.875)\n",
      "22:29 manifold_flow.training.trainer INFO               val. loss   0.99597 (nll:  0.996)\n",
      "22:29 manifold_flow.training.trainer DEBUG   Training epoch 19 / 20\n",
      "22:29 manifold_flow.training.trainer DEBUG     Learning rate: [5.449673790581611e-05]\n",
      "08:05 manifold_flow.training.trainer INFO    Epoch  19: train loss  0.95453 (nll:  0.955)\n",
      "08:05 manifold_flow.training.trainer INFO               val. loss   0.79629 (nll:  0.796)\n",
      "08:05 manifold_flow.training.trainer DEBUG   Training epoch 20 / 20\n",
      "08:05 manifold_flow.training.trainer DEBUG     Learning rate: [2.4471741852423235e-05]\n",
      "08:07 manifold_flow.training.trainer INFO    Epoch  20: train loss  0.45752 (nll:  0.458)\n",
      "08:07 manifold_flow.training.trainer INFO               val. loss   0.51329 (nll:  0.513)\n",
      "08:07 manifold_flow.training.trainer INFO    Early stopping did not improve performance\n",
      "08:07 manifold_flow.training.trainer DEBUG   Training finished\n"
     ]
    },
    {
     "data": {
      "text/plain": [
       "(array([1.27131861e+04, 4.82444472e+02, 2.75808219e+02, 3.18145906e+01,\n",
       "        2.50306850e+01, 2.28550479e+01, 1.94127929e+01, 1.58984839e+01,\n",
       "        1.36629876e+01, 1.05829446e+01, 8.20907074e+00, 6.06801492e+00,\n",
       "        4.54540686e+00, 3.28558373e+00, 2.14466435e+00, 1.42413969e+00,\n",
       "        9.17568075e-01, 8.74533385e-01, 9.54526337e-01, 4.57515240e-01]),\n",
       " array([1.71542933e+03, 3.20381331e+02, 1.52939219e+01, 1.87817877e+01,\n",
       "        3.28198969e+01, 7.88320492e+00, 1.74790016e+01, 2.42807298e+01,\n",
       "        1.63910255e+01, 8.68397510e+00, 1.20189663e+01, 1.54411390e+00,\n",
       "        7.37955642e+00, 1.35169972e+00, 2.67387519e+00, 1.25002303e+00,\n",
       "        8.92068111e-01, 9.95971039e-01, 7.96293428e-01, 5.13291512e-01]))"
      ]
     },
     "execution_count": 7,
     "metadata": {},
     "output_type": "execute_result"
    }
   ],
   "source": [
    "outer_transform = vector_transforms.create_transform(\n",
    "    2, 5,\n",
    "    linear_transform_type=\"permutation\",\n",
    "    base_transform_type=\"affine-coupling\",\n",
    "    context_features=None\n",
    ")\n",
    "inner_transform=transforms.ConditionalAffineScalarTransform(features=1)\n",
    "\n",
    "pie = ManifoldFlow(\n",
    "    data_dim=2,\n",
    "    latent_dim=1,\n",
    "    outer_transform=outer_transform,\n",
    "    inner_transform=inner_transform,\n",
    ")\n",
    "\n",
    "trainer = training.trainer.ManifoldFlowTrainer(pie)\n",
    "trainer.train(\n",
    "    train_dataset,\n",
    "    [training.losses.nll],\n",
    "    loss_weights=[1.],\n",
    "    epochs=epochs,\n",
    "    forward_kwargs={\"mode\":\"pie\"}\n",
    ")"
   ]
  },
  {
   "cell_type": "markdown",
   "metadata": {},
   "source": [
    "## Slice of PIE"
   ]
  },
  {
   "cell_type": "code",
   "execution_count": 8,
   "metadata": {},
   "outputs": [
    {
     "name": "stderr",
     "output_type": "stream",
     "text": [
      "08:07 manifold_flow.transforms.proje DEBUG   Set up projection from vector with dimension 2 to vector with dimension 1\n",
      "08:07 manifold_flow.flows.base       DEBUG   Created standard flow with 2.0 M parameters (2.0 M trainable) with an estimated size of 7.9 <B\n",
      "08:07 manifold_flow.training.trainer INFO    Training on CPU with single precision\n",
      "08:07 manifold_flow.training.trainer DEBUG   Initialising training data\n",
      "08:07 manifold_flow.training.trainer DEBUG   Setting up optimizer\n",
      "08:07 manifold_flow.training.trainer DEBUG   Setting up LR scheduler\n",
      "08:07 manifold_flow.training.trainer DEBUG   Using early stopping with infinite patience\n",
      "08:07 manifold_flow.training.trainer DEBUG   Will print training progress every 1 epochs\n",
      "08:07 manifold_flow.training.trainer DEBUG   Beginning main training loop\n",
      "08:07 manifold_flow.training.trainer DEBUG   Training epoch 1 / 10\n",
      "08:07 manifold_flow.training.trainer DEBUG     Learning rate: [0.001]\n",
      "08:08 manifold_flow.training.trainer INFO    Epoch   1: train loss  0.99553 (mse:  0.010)\n",
      "08:08 manifold_flow.training.trainer INFO               val. loss   0.49383 (mse:  0.005)\n",
      "08:08 manifold_flow.training.trainer DEBUG   Training epoch 2 / 10\n",
      "08:08 manifold_flow.training.trainer DEBUG     Learning rate: [0.001]\n",
      "08:09 manifold_flow.training.trainer INFO    Epoch   2: train loss  0.41591 (mse:  0.004)\n",
      "08:09 manifold_flow.training.trainer INFO               val. loss   0.12525 (mse:  0.001)\n",
      "08:09 manifold_flow.training.trainer DEBUG   Training epoch 3 / 10\n",
      "08:09 manifold_flow.training.trainer DEBUG     Learning rate: [0.0009755282581475768]\n",
      "08:11 manifold_flow.training.trainer INFO    Epoch   3: train loss  0.37946 (mse:  0.004)\n",
      "08:11 manifold_flow.training.trainer INFO               val. loss   0.16160 (mse:  0.002)\n",
      "08:11 manifold_flow.training.trainer DEBUG   Training epoch 4 / 10\n",
      "08:11 manifold_flow.training.trainer DEBUG     Learning rate: [0.0009045084971874737]\n",
      "08:12 manifold_flow.training.trainer INFO    Epoch   4: train loss  0.29389 (mse:  0.003)\n",
      "08:12 manifold_flow.training.trainer INFO               val. loss   0.21401 (mse:  0.002)\n",
      "08:12 manifold_flow.training.trainer DEBUG   Training epoch 5 / 10\n",
      "08:12 manifold_flow.training.trainer DEBUG     Learning rate: [0.0007938926261462367]\n",
      "08:13 manifold_flow.training.trainer INFO    Epoch   5: train loss  0.26811 (mse:  0.003)\n",
      "08:13 manifold_flow.training.trainer INFO               val. loss   0.13579 (mse:  0.001)\n",
      "08:13 manifold_flow.training.trainer DEBUG   Training epoch 6 / 10\n",
      "08:13 manifold_flow.training.trainer DEBUG     Learning rate: [0.0006545084971874737]\n",
      "08:15 manifold_flow.training.trainer INFO    Epoch   6: train loss  0.17890 (mse:  0.002)\n",
      "08:15 manifold_flow.training.trainer INFO               val. loss   0.06813 (mse:  0.001)\n",
      "08:15 manifold_flow.training.trainer DEBUG   Training epoch 7 / 10\n",
      "08:15 manifold_flow.training.trainer DEBUG     Learning rate: [0.0005]\n",
      "08:16 manifold_flow.training.trainer INFO    Epoch   7: train loss  0.18378 (mse:  0.002)\n",
      "08:16 manifold_flow.training.trainer INFO               val. loss   0.21732 (mse:  0.002)\n",
      "08:16 manifold_flow.training.trainer DEBUG   Training epoch 8 / 10\n",
      "08:16 manifold_flow.training.trainer DEBUG     Learning rate: [0.00034549150281252633]\n",
      "08:17 manifold_flow.training.trainer INFO    Epoch   8: train loss  0.10885 (mse:  0.001)\n",
      "08:17 manifold_flow.training.trainer INFO               val. loss   0.03625 (mse:  0.000)\n",
      "08:17 manifold_flow.training.trainer DEBUG   Training epoch 9 / 10\n",
      "08:17 manifold_flow.training.trainer DEBUG     Learning rate: [0.00020610737385376348]\n",
      "08:18 manifold_flow.training.trainer INFO    Epoch   9: train loss  0.07700 (mse:  0.001)\n",
      "08:18 manifold_flow.training.trainer INFO               val. loss   0.18805 (mse:  0.002)\n",
      "08:18 manifold_flow.training.trainer DEBUG   Training epoch 10 / 10\n",
      "08:18 manifold_flow.training.trainer DEBUG     Learning rate: [9.549150281252633e-05]\n",
      "08:20 manifold_flow.training.trainer INFO    Epoch  10: train loss  0.06402 (mse:  0.001)\n",
      "08:20 manifold_flow.training.trainer INFO               val. loss   0.02969 (mse:  0.000)\n",
      "08:20 manifold_flow.training.trainer INFO    Early stopping did not improve performance\n",
      "08:20 manifold_flow.training.trainer DEBUG   Training finished\n",
      "08:20 manifold_flow.training.trainer DEBUG   Initialising training data\n",
      "08:20 manifold_flow.training.trainer DEBUG   Setting up optimizer\n",
      "08:20 manifold_flow.training.trainer DEBUG   Setting up LR scheduler\n",
      "08:20 manifold_flow.training.trainer DEBUG   Using early stopping with infinite patience\n",
      "08:20 manifold_flow.training.trainer DEBUG   Will print training progress every 1 epochs\n",
      "08:20 manifold_flow.training.trainer DEBUG   Beginning main training loop\n",
      "08:20 manifold_flow.training.trainer DEBUG   Training epoch 1 / 10\n",
      "08:20 manifold_flow.training.trainer DEBUG     Learning rate: [0.001]\n",
      "08:21 manifold_flow.training.trainer INFO    Epoch   1: train loss 21.77820 (mse:  0.000, nll: 21.778)\n",
      "08:21 manifold_flow.training.trainer INFO               val. loss  -2.16034 (mse:  0.000, nll: -2.160)\n",
      "08:21 manifold_flow.training.trainer DEBUG   Training epoch 2 / 10\n",
      "08:21 manifold_flow.training.trainer DEBUG     Learning rate: [0.001]\n",
      "08:22 manifold_flow.training.trainer INFO    Epoch   2: train loss 24.37821 (mse:  0.000, nll: 24.378)\n",
      "08:22 manifold_flow.training.trainer INFO               val. loss  -2.16034 (mse:  0.000, nll: -2.160)\n",
      "08:22 manifold_flow.training.trainer DEBUG   Training epoch 3 / 10\n",
      "08:22 manifold_flow.training.trainer DEBUG     Learning rate: [0.0009755282581475768]\n",
      "08:23 manifold_flow.training.trainer INFO    Epoch   3: train loss 24.53435 (mse:  0.000, nll: 24.534)\n",
      "08:23 manifold_flow.training.trainer INFO               val. loss  -2.16034 (mse:  0.000, nll: -2.160)\n",
      "08:23 manifold_flow.training.trainer DEBUG   Training epoch 4 / 10\n",
      "08:23 manifold_flow.training.trainer DEBUG     Learning rate: [0.0009045084971874737]\n",
      "08:25 manifold_flow.training.trainer INFO    Epoch   4: train loss 22.75941 (mse:  0.000, nll: 22.759)\n",
      "08:25 manifold_flow.training.trainer INFO               val. loss  -2.16034 (mse:  0.000, nll: -2.160)\n",
      "08:25 manifold_flow.training.trainer DEBUG   Training epoch 5 / 10\n",
      "08:25 manifold_flow.training.trainer DEBUG     Learning rate: [0.0007938926261462367]\n",
      "08:26 manifold_flow.training.trainer INFO    Epoch   5: train loss 24.39792 (mse:  0.000, nll: 24.398)\n",
      "08:26 manifold_flow.training.trainer INFO               val. loss  -2.16034 (mse:  0.000, nll: -2.160)\n",
      "08:26 manifold_flow.training.trainer DEBUG   Training epoch 6 / 10\n",
      "08:26 manifold_flow.training.trainer DEBUG     Learning rate: [0.0006545084971874737]\n",
      "08:28 manifold_flow.training.trainer INFO    Epoch   6: train loss 21.69103 (mse:  0.000, nll: 21.691)\n",
      "08:28 manifold_flow.training.trainer INFO               val. loss  -2.16034 (mse:  0.000, nll: -2.160)\n",
      "08:28 manifold_flow.training.trainer DEBUG   Training epoch 7 / 10\n",
      "08:28 manifold_flow.training.trainer DEBUG     Learning rate: [0.0005]\n",
      "08:29 manifold_flow.training.trainer INFO    Epoch   7: train loss 22.63266 (mse:  0.000, nll: 22.633)\n",
      "08:29 manifold_flow.training.trainer INFO               val. loss  -2.16034 (mse:  0.000, nll: -2.160)\n",
      "08:29 manifold_flow.training.trainer DEBUG   Training epoch 8 / 10\n",
      "08:29 manifold_flow.training.trainer DEBUG     Learning rate: [0.00034549150281252633]\n",
      "08:31 manifold_flow.training.trainer INFO    Epoch   8: train loss 23.44535 (mse:  0.000, nll: 23.445)\n",
      "08:31 manifold_flow.training.trainer INFO               val. loss  -2.16034 (mse:  0.000, nll: -2.160)\n",
      "08:31 manifold_flow.training.trainer DEBUG   Training epoch 9 / 10\n",
      "08:31 manifold_flow.training.trainer DEBUG     Learning rate: [0.00020610737385376348]\n",
      "08:33 manifold_flow.training.trainer INFO    Epoch   9: train loss 22.97777 (mse:  0.000, nll: 22.978)\n",
      "08:33 manifold_flow.training.trainer INFO               val. loss  -2.16034 (mse:  0.000, nll: -2.160)\n",
      "08:33 manifold_flow.training.trainer DEBUG   Training epoch 10 / 10\n",
      "08:33 manifold_flow.training.trainer DEBUG     Learning rate: [9.549150281252633e-05]\n",
      "08:34 manifold_flow.training.trainer INFO    Epoch  10: train loss 24.11370 (mse:  0.000, nll: 24.114)\n",
      "08:34 manifold_flow.training.trainer INFO               val. loss  -2.16034 (mse:  0.000, nll: -2.160)\n"
     ]
    },
    {
     "name": "stderr",
     "output_type": "stream",
     "text": [
      "08:34 manifold_flow.training.trainer INFO    Early stopping after epoch 2, with loss -2.16034 compared to final loss -2.16034\n",
      "08:34 manifold_flow.training.trainer DEBUG   Training finished\n"
     ]
    },
    {
     "data": {
      "text/plain": [
       "(array([21.77820404, 24.37821187, 24.53435369, 22.75941278, 24.39792132,\n",
       "        21.6910315 , 22.63265838, 23.44534783, 22.97776724, 24.11370334]),\n",
       " array([-2.1603359 , -2.16033592, -2.16033589, -2.16033591, -2.16033589,\n",
       "        -2.16033591, -2.1603359 , -2.1603359 , -2.1603359 , -2.16033589]))"
      ]
     },
     "execution_count": 8,
     "metadata": {},
     "output_type": "execute_result"
    }
   ],
   "source": [
    "outer_transform = vector_transforms.create_transform(\n",
    "    2, 5,\n",
    "    linear_transform_type=\"permutation\",\n",
    "    base_transform_type=\"affine-coupling\",\n",
    "    context_features=None\n",
    ")\n",
    "inner_transform=transforms.ConditionalAffineScalarTransform(features=1)\n",
    "\n",
    "slice_of_pie = ManifoldFlow(\n",
    "    data_dim=2,\n",
    "    latent_dim=1,\n",
    "    outer_transform=outer_transform,\n",
    "    inner_transform=inner_transform,\n",
    ")\n",
    "\n",
    "trainer = training.trainer.ManifoldFlowTrainer(slice_of_pie)\n",
    "trainer.train(\n",
    "    train_dataset,\n",
    "    [training.losses.mse],\n",
    "    loss_weights=[100.],\n",
    "    epochs=epochs // 2,\n",
    "    forward_kwargs={\"mode\": \"projection\"}\n",
    ")\n",
    "trainer.train(\n",
    "    train_dataset,\n",
    "    [training.losses.mse, training.losses.nll],\n",
    "    loss_weights=[0., 1.],\n",
    "    epochs=epochs // 2,\n",
    "    parameters=mf.inner_transform.parameters(),\n",
    "    forward_kwargs={\"mode\": \"slice\"}\n",
    ")"
   ]
  },
  {
   "cell_type": "markdown",
   "metadata": {},
   "source": [
    "### Standard flow"
   ]
  },
  {
   "cell_type": "code",
   "execution_count": 9,
   "metadata": {
    "scrolled": true
   },
   "outputs": [
    {
     "name": "stderr",
     "output_type": "stream",
     "text": [
      "08:34 manifold_flow.flows.base       DEBUG   Created standard flow with 2.0 M parameters (2.0 M trainable) with an estimated size of 7.9 <B\n",
      "08:34 manifold_flow.training.trainer INFO    Training on CPU with single precision\n",
      "08:34 manifold_flow.training.trainer DEBUG   Initialising training data\n",
      "08:34 manifold_flow.training.trainer DEBUG   Setting up optimizer\n",
      "08:34 manifold_flow.training.trainer DEBUG   Setting up LR scheduler\n",
      "08:34 manifold_flow.training.trainer DEBUG   Using early stopping with infinite patience\n",
      "08:34 manifold_flow.training.trainer DEBUG   Will print training progress every 1 epochs\n",
      "08:34 manifold_flow.training.trainer DEBUG   Beginning main training loop\n",
      "08:34 manifold_flow.training.trainer DEBUG   Training epoch 1 / 20\n",
      "08:34 manifold_flow.training.trainer DEBUG     Learning rate: [0.001]\n",
      "08:35 manifold_flow.training.trainer INFO    Epoch   1: train loss  1.88893 (nll:  1.889)\n",
      "08:35 manifold_flow.training.trainer INFO               val. loss   1.85694 (nll:  1.857)\n",
      "08:35 manifold_flow.training.trainer DEBUG   Training epoch 2 / 20\n",
      "08:35 manifold_flow.training.trainer DEBUG     Learning rate: [0.001]\n",
      "08:36 manifold_flow.training.trainer INFO    Epoch   2: train loss  1.86154 (nll:  1.862)\n",
      "08:36 manifold_flow.training.trainer INFO               val. loss   1.85333 (nll:  1.853)\n",
      "08:36 manifold_flow.training.trainer DEBUG   Training epoch 3 / 20\n",
      "08:36 manifold_flow.training.trainer DEBUG     Learning rate: [0.0009938441702975688]\n",
      "08:38 manifold_flow.training.trainer INFO    Epoch   3: train loss  1.85870 (nll:  1.859)\n",
      "08:38 manifold_flow.training.trainer INFO               val. loss   1.85659 (nll:  1.857)\n",
      "08:38 manifold_flow.training.trainer DEBUG   Training epoch 4 / 20\n",
      "08:38 manifold_flow.training.trainer DEBUG     Learning rate: [0.0009755282581475768]\n",
      "08:39 manifold_flow.training.trainer INFO    Epoch   4: train loss  1.85620 (nll:  1.856)\n",
      "08:39 manifold_flow.training.trainer INFO               val. loss   1.85592 (nll:  1.856)\n",
      "08:39 manifold_flow.training.trainer DEBUG   Training epoch 5 / 20\n",
      "08:39 manifold_flow.training.trainer DEBUG     Learning rate: [0.0009455032620941839]\n",
      "08:40 manifold_flow.training.trainer INFO    Epoch   5: train loss  1.85590 (nll:  1.856)\n",
      "08:40 manifold_flow.training.trainer INFO               val. loss   1.85251 (nll:  1.853)\n",
      "08:40 manifold_flow.training.trainer DEBUG   Training epoch 6 / 20\n",
      "08:40 manifold_flow.training.trainer DEBUG     Learning rate: [0.0009045084971874737]\n",
      "08:41 manifold_flow.training.trainer INFO    Epoch   6: train loss  1.85549 (nll:  1.855)\n",
      "08:41 manifold_flow.training.trainer INFO               val. loss   1.84957 (nll:  1.850)\n",
      "08:41 manifold_flow.training.trainer DEBUG   Training epoch 7 / 20\n",
      "08:41 manifold_flow.training.trainer DEBUG     Learning rate: [0.0008535533905932737]\n",
      "08:42 manifold_flow.training.trainer INFO    Epoch   7: train loss  1.85455 (nll:  1.855)\n",
      "08:42 manifold_flow.training.trainer INFO               val. loss   1.84992 (nll:  1.850)\n",
      "08:42 manifold_flow.training.trainer DEBUG   Training epoch 8 / 20\n",
      "08:42 manifold_flow.training.trainer DEBUG     Learning rate: [0.0007938926261462367]\n",
      "08:44 manifold_flow.training.trainer INFO    Epoch   8: train loss  1.85364 (nll:  1.854)\n",
      "08:44 manifold_flow.training.trainer INFO               val. loss   1.86203 (nll:  1.862)\n",
      "08:44 manifold_flow.training.trainer DEBUG   Training epoch 9 / 20\n",
      "08:44 manifold_flow.training.trainer DEBUG     Learning rate: [0.0007269952498697733]\n",
      "08:45 manifold_flow.training.trainer INFO    Epoch   9: train loss  1.85252 (nll:  1.853)\n",
      "08:45 manifold_flow.training.trainer INFO               val. loss   1.85104 (nll:  1.851)\n",
      "08:45 manifold_flow.training.trainer DEBUG   Training epoch 10 / 20\n",
      "08:45 manifold_flow.training.trainer DEBUG     Learning rate: [0.0006545084971874737]\n",
      "08:46 manifold_flow.training.trainer INFO    Epoch  10: train loss  1.85109 (nll:  1.851)\n",
      "08:46 manifold_flow.training.trainer INFO               val. loss   1.85392 (nll:  1.854)\n",
      "08:46 manifold_flow.training.trainer DEBUG   Training epoch 11 / 20\n",
      "08:46 manifold_flow.training.trainer DEBUG     Learning rate: [0.0005782172325201155]\n",
      "08:47 manifold_flow.training.trainer INFO    Epoch  11: train loss  1.85063 (nll:  1.851)\n",
      "08:47 manifold_flow.training.trainer INFO               val. loss   1.84957 (nll:  1.850)\n",
      "08:47 manifold_flow.training.trainer DEBUG   Training epoch 12 / 20\n",
      "08:47 manifold_flow.training.trainer DEBUG     Learning rate: [0.0005]\n",
      "08:48 manifold_flow.training.trainer INFO    Epoch  12: train loss  1.84987 (nll:  1.850)\n",
      "08:48 manifold_flow.training.trainer INFO               val. loss   1.84976 (nll:  1.850)\n",
      "08:48 manifold_flow.training.trainer DEBUG   Training epoch 13 / 20\n",
      "08:48 manifold_flow.training.trainer DEBUG     Learning rate: [0.0004217827674798847]\n",
      "08:49 manifold_flow.training.trainer INFO    Epoch  13: train loss  1.84916 (nll:  1.849)\n",
      "08:49 manifold_flow.training.trainer INFO               val. loss   1.85282 (nll:  1.853)\n",
      "08:49 manifold_flow.training.trainer DEBUG   Training epoch 14 / 20\n",
      "08:49 manifold_flow.training.trainer DEBUG     Learning rate: [0.00034549150281252633]\n",
      "08:51 manifold_flow.training.trainer INFO    Epoch  14: train loss  1.84874 (nll:  1.849)\n",
      "08:51 manifold_flow.training.trainer INFO               val. loss   1.84615 (nll:  1.846)\n",
      "08:51 manifold_flow.training.trainer DEBUG   Training epoch 15 / 20\n",
      "08:51 manifold_flow.training.trainer DEBUG     Learning rate: [0.00027300475013022663]\n",
      "08:53 manifold_flow.training.trainer INFO    Epoch  15: train loss  1.84759 (nll:  1.848)\n",
      "08:53 manifold_flow.training.trainer INFO               val. loss   1.84830 (nll:  1.848)\n",
      "08:53 manifold_flow.training.trainer DEBUG   Training epoch 16 / 20\n",
      "08:53 manifold_flow.training.trainer DEBUG     Learning rate: [0.00020610737385376348]\n",
      "08:56 manifold_flow.training.trainer INFO    Epoch  16: train loss  1.84706 (nll:  1.847)\n",
      "08:56 manifold_flow.training.trainer INFO               val. loss   1.84648 (nll:  1.846)\n",
      "08:56 manifold_flow.training.trainer DEBUG   Training epoch 17 / 20\n",
      "08:56 manifold_flow.training.trainer DEBUG     Learning rate: [0.00014644660940672628]\n",
      "08:58 manifold_flow.training.trainer INFO    Epoch  17: train loss  1.84660 (nll:  1.847)\n",
      "08:58 manifold_flow.training.trainer INFO               val. loss   1.84648 (nll:  1.846)\n",
      "08:58 manifold_flow.training.trainer DEBUG   Training epoch 18 / 20\n",
      "08:58 manifold_flow.training.trainer DEBUG     Learning rate: [9.549150281252633e-05]\n",
      "09:01 manifold_flow.training.trainer INFO    Epoch  18: train loss  1.84607 (nll:  1.846)\n",
      "09:01 manifold_flow.training.trainer INFO               val. loss   1.84551 (nll:  1.846)\n",
      "09:01 manifold_flow.training.trainer DEBUG   Training epoch 19 / 20\n",
      "09:01 manifold_flow.training.trainer DEBUG     Learning rate: [5.449673790581611e-05]\n",
      "09:03 manifold_flow.training.trainer INFO    Epoch  19: train loss  1.84570 (nll:  1.846)\n",
      "09:03 manifold_flow.training.trainer INFO               val. loss   1.84472 (nll:  1.845)\n",
      "09:03 manifold_flow.training.trainer DEBUG   Training epoch 20 / 20\n",
      "09:03 manifold_flow.training.trainer DEBUG     Learning rate: [2.4471741852423235e-05]\n",
      "09:05 manifold_flow.training.trainer INFO    Epoch  20: train loss  1.84516 (nll:  1.845)\n",
      "09:05 manifold_flow.training.trainer INFO               val. loss   1.84443 (nll:  1.844)\n",
      "09:05 manifold_flow.training.trainer INFO    Early stopping did not improve performance\n",
      "09:05 manifold_flow.training.trainer DEBUG   Training finished\n"
     ]
    },
    {
     "data": {
      "text/plain": [
       "(array([1.88892622, 1.86154232, 1.858695  , 1.85620472, 1.85590073,\n",
       "        1.85548532, 1.85454641, 1.8536383 , 1.8525184 , 1.8510922 ,\n",
       "        1.85062575, 1.8498678 , 1.84916255, 1.84873785, 1.84758503,\n",
       "        1.84705608, 1.84659901, 1.8460662 , 1.84570233, 1.84516204]),\n",
       " array([1.85693983, 1.85332834, 1.8565937 , 1.85592076, 1.85251273,\n",
       "        1.84957177, 1.84991922, 1.86203091, 1.85103509, 1.85391724,\n",
       "        1.84956593, 1.84976123, 1.85281637, 1.84614646, 1.84829701,\n",
       "        1.84648443, 1.8464816 , 1.84551445, 1.844716  , 1.84443222]))"
      ]
     },
     "execution_count": 9,
     "metadata": {},
     "output_type": "execute_result"
    }
   ],
   "source": [
    "transform = vector_transforms.create_transform(\n",
    "    2, 5,\n",
    "    linear_transform_type=\"permutation\",\n",
    "    base_transform_type=\"affine-coupling\",\n",
    "    context_features=None\n",
    ")\n",
    "sf = Flow(\n",
    "    data_dim=2,\n",
    "    transform=transform\n",
    ")\n",
    "\n",
    "trainer = training.trainer.ManifoldFlowTrainer(sf)\n",
    "trainer.train(\n",
    "    train_dataset,\n",
    "    [training.losses.nll],\n",
    "    loss_weights=[1.],\n",
    "    epochs=epochs,\n",
    ")"
   ]
  },
  {
   "cell_type": "markdown",
   "metadata": {},
   "source": [
    "## Evaluate the generative performance"
   ]
  },
  {
   "cell_type": "markdown",
   "metadata": {},
   "source": [
    "### Sample"
   ]
  },
  {
   "cell_type": "code",
   "execution_count": 10,
   "metadata": {},
   "outputs": [],
   "source": [
    "x_gen_sf = sf.sample(n=1000).detach().numpy()\n",
    "x_gen_mf = mf.sample(n=1000).detach().numpy()\n",
    "x_gen_pie = pie.sample(n=1000).detach().numpy()\n",
    "x_gen_pie_full = pie.sample(n=1000, sample_orthogonal=True).detach().numpy()"
   ]
  },
  {
   "cell_type": "markdown",
   "metadata": {},
   "source": [
    "### Distance from manifold, true likelihood of generated samples"
   ]
  },
  {
   "cell_type": "code",
   "execution_count": 11,
   "metadata": {},
   "outputs": [
    {
     "name": "stderr",
     "output_type": "stream",
     "text": [
      "09:05 experiments.simulators.spheric DEBUG   Evaluating true log density for x = [-0.3248007 -2.254231 ]\n",
      "09:05 experiments.simulators.spheric DEBUG   Latent variables: z_phi = [4.56928891], z_eps = [1.2775102]\n",
      "../../experiments/simulators/spherical_simulator.py:108: RuntimeWarning: divide by zero encountered in log\n",
      "  logp_eps = np.log(norm(loc=0.0, scale=self._epsilon).pdf(z_eps))\n",
      "09:05 experiments.simulators.spheric DEBUG   Evaluating true log density for x = [0.2504009  0.96709585]\n",
      "09:05 experiments.simulators.spheric DEBUG   Latent variables: z_phi = [1.31743968], z_eps = [-0.00101304]\n",
      "09:05 experiments.simulators.spheric DEBUG   Evaluating true log density for x = [-0.22643667  0.582974  ]\n",
      "09:05 experiments.simulators.spheric DEBUG   Latent variables: z_phi = [1.94127715], z_eps = [-0.37459433]\n",
      "09:05 experiments.simulators.spheric DEBUG   Evaluating true log density for x = [0.08098777 0.9726037 ]\n",
      "09:05 experiments.simulators.spheric DEBUG   Latent variables: z_phi = [1.48771894], z_eps = [-0.02403027]\n"
     ]
    },
    {
     "name": "stdout",
     "output_type": "stream",
     "text": [
      "Mean true log likelihood of samples generated from flows (higher is better):\n",
      "  Standard flow:      -677.5\n",
      "  PIE:                -326.5\n",
      "  PIE (sampling all): -247.8\n",
      "  Manifold flow:       -78.9\n",
      "Mean Euclidean distance between samples generated from flows and true manifold (lower is better):\n",
      "  Standard flow:        1.91\n",
      "  PIE:                  0.24\n",
      "  PIE (sampling all):   0.21\n",
      "  Manifold flow:        9.88\n"
     ]
    }
   ],
   "source": [
    "logp_min = -1000\n",
    "\n",
    "logp_gen_sf = simulator.log_density(x_gen_sf)\n",
    "logp_gen_mf = simulator.log_density(x_gen_mf)\n",
    "logp_gen_pie = simulator.log_density(x_gen_pie)\n",
    "logp_gen_pie_full = simulator.log_density(x_gen_pie_full)\n",
    "\n",
    "logp_gen_sf[(~np.isfinite(logp_gen_sf)) + (logp_gen_sf<logp_min)] = logp_min\n",
    "logp_gen_mf[(~np.isfinite(logp_gen_mf)) + (logp_gen_mf<logp_min)] = logp_min\n",
    "logp_gen_pie[(~np.isfinite(logp_gen_pie)) + (logp_gen_pie<logp_min)] = logp_min\n",
    "logp_gen_pie_full[(~np.isfinite(logp_gen_pie_full)) + (logp_gen_pie_full<logp_min)] = logp_min\n",
    "\n",
    "mean_logp_gen_sf = np.mean(logp_gen_sf)\n",
    "mean_logp_gen_mf = np.mean(logp_gen_mf)\n",
    "mean_logp_gen_pie = np.mean(logp_gen_pie)\n",
    "mean_logp_gen_pie_full = np.mean(logp_gen_pie_full)\n",
    "\n",
    "distance_from_manifold_gen_sf = np.mean(np.abs(np.sum(x_gen_sf**2, axis=1)**0.5 - 1))\n",
    "distance_from_manifold_gen_mf = np.mean(np.abs(np.sum(x_gen_mf**2, axis=1)**0.5 - 1))\n",
    "distance_from_manifold_gen_pie = np.mean(np.abs(np.sum(x_gen_pie**2, axis=1)**0.5 - 1))\n",
    "distance_from_manifold_gen_pie_full = np.mean(np.abs(np.sum(x_gen_pie_full**2, axis=1)**0.5 - 1))\n",
    "\n",
    "print(\"Mean true log likelihood of samples generated from flows (higher is better):\")\n",
    "print(\"  Standard flow:      {:>6.1f}\".format(mean_logp_gen_sf))\n",
    "print(\"  PIE:                {:>6.1f}\".format(mean_logp_gen_pie))\n",
    "print(\"  PIE (sampling all): {:>6.1f}\".format(mean_logp_gen_pie_full))\n",
    "print(\"  Manifold flow:      {:>6.1f}\".format(mean_logp_gen_mf))\n",
    "\n",
    "print(\"Mean Euclidean distance between samples generated from flows and true manifold (lower is better):\")\n",
    "print(\"  Standard flow:      {:>6.2f}\".format(distance_from_manifold_gen_sf))\n",
    "print(\"  PIE:                {:>6.2f}\".format(distance_from_manifold_gen_pie))\n",
    "print(\"  PIE (sampling all): {:>6.2f}\".format(distance_from_manifold_gen_pie_full))\n",
    "print(\"  Manifold flow:      {:>6.2f}\".format(distance_from_manifold_gen_mf))\n"
   ]
  },
  {
   "cell_type": "markdown",
   "metadata": {},
   "source": [
    "### Visualize generated samples"
   ]
  },
  {
   "cell_type": "code",
   "execution_count": 12,
   "metadata": {},
   "outputs": [
    {
     "name": "stderr",
     "output_type": "stream",
     "text": [
      "09:05 experiments.simulators.spheric DEBUG   Evaluating true log density for x = [-1.5 -1.5]\n",
      "09:05 experiments.simulators.spheric DEBUG   Latent variables: z_phi = [3.92699082], z_eps = [1.12132034]\n"
     ]
    },
    {
     "data": {
      "image/png": "[encoded data removed]",
      "text/plain": [
       "<Figure size 432x360 with 2 Axes>"
      ]
     },
     "metadata": {
      "needs_background": "light"
     },
     "output_type": "display_data"
    }
   ],
   "source": [
    "skip = 10\n",
    "res = 250\n",
    "x_range = np.linspace(-1.5,1.5,res)\n",
    "y_range = np.linspace(-1.5,1.5,res)\n",
    "xx, yy = np.meshgrid(x_range, y_range)\n",
    "x_grid = np.concatenate((xx.reshape((-1,1)), yy.reshape((-1,1))), axis=1)\n",
    "logp_grid = simulator.log_density(x_grid).reshape((res, res))\n",
    "logp_grid[~np.isfinite(logp_grid)] = -1000000.\n",
    "zmin, zmax = np.max(logp_grid) - 10., np.max(logp_grid)\n",
    "\n",
    "fig = plt.figure(figsize=(6,5))\n",
    "ax = plt.gca()\n",
    "\n",
    "pcm = plt.imshow(\n",
    "    np.clip(logp_grid, zmin, zmax),\n",
    "    extent=(-1.5,1.5,-1.5,1.5),\n",
    "    origin=\"lower\",\n",
    "    cmap=\"Greys\",\n",
    "    norm=matplotlib.colors.Normalize(zmin, zmax),\n",
    "    interpolation='nearest'\n",
    ")\n",
    "cb = plt.colorbar(pcm, extend=\"both\")\n",
    "\n",
    "plt.scatter(x_gen_sf[::skip,0], x_gen_sf[::skip,1], s=10., c=\"C0\", label=\"Standard flow\")\n",
    "plt.scatter(x_gen_pie[::skip,0], x_gen_pie[::skip,1], s=10., c=\"C1\", label=\"PIE\")\n",
    "plt.scatter(x_gen_pie_full[::skip,0], x_gen_pie_full[::skip,1], s=10., c=\"C2\", label=\"PIE (sampling all)\")\n",
    "plt.scatter(x_gen_mf[::skip,0], x_gen_mf[::skip,1], s=10., c=\"C3\", label=\"Manifold flow\")\n",
    "\n",
    "plt.legend()\n",
    "\n",
    "plt.xlim(-1.5, 1.5)\n",
    "plt.ylim(-1.5, 1.5)\n",
    "plt.xlabel(\"$x_1$\")\n",
    "plt.ylabel(\"$x_2$\")\n",
    "cb.set_label(\"True log density\")\n",
    "\n",
    "plt.tight_layout()\n",
    "plt.savefig(\"spherical_gaussian_2d_generation.pdf\")\n"
   ]
  },
  {
   "cell_type": "markdown",
   "metadata": {},
   "source": [
    "## Visualize learned likelihoods"
   ]
  },
  {
   "cell_type": "markdown",
   "metadata": {},
   "source": [
    "### Log likelihood"
   ]
  },
  {
   "cell_type": "code",
   "execution_count": null,
   "metadata": {},
   "outputs": [],
   "source": [
    "res = 100\n",
    "x_range = np.linspace(-1.5,1.5,res)\n",
    "y_range = np.linspace(-1.5,1.5,res)\n",
    "xx, yy = np.meshgrid(x_range, y_range)\n",
    "x_grid = np.concatenate((xx.reshape((-1,1)), yy.reshape((-1,1))), axis=1)\n",
    "x_grid_tensor = torch.FloatTensor(x_grid)\n",
    "\n",
    "learned_logp_grid_mf = mf.log_prob(x_grid_tensor, mode=\"mf\").detach().numpy().reshape((res, res))\n",
    "learned_logp_grid_mf_slice = mf.log_prob(x_grid_tensor, mode=\"slice\").detach().numpy().reshape((res, res))\n",
    "learned_logp_grid_sf = sf.log_prob(x_grid_tensor).detach().numpy().reshape((res, res))\n",
    "learned_logp_grid_pie = pie.log_prob(x_grid_tensor, mode=\"pie\").detach().numpy().reshape((res, res))\n",
    "learned_logp_grid_slice_of_pie = slice_of_pie.log_prob(x_grid_tensor, mode=\"slice\").detach().numpy().reshape((res, res))\n",
    "\n",
    "logp_grid_truth = simulator.log_density(x_grid).reshape((res, res))\n",
    "logp_grid_truth[~np.isfinite(logp_grid_truth)] = -1000000.\n"
   ]
  },
  {
   "cell_type": "code",
   "execution_count": null,
   "metadata": {},
   "outputs": [],
   "source": [
    "skip = 500\n",
    "\n",
    "fig = plt.figure(figsize=(12,15))\n",
    "\n",
    "for i, (label, logp) in enumerate(zip(\n",
    "    [\"True log density\", \"Standard flow log density\", \"PIE log density\", \"Slice of PIE log density\", \"Manifold flow log density\", \"Manifold flow, log slice density\"],\n",
    "    [logp_grid_truth, learned_logp_grid_sf, learned_logp_grid_pie, learned_logp_grid_slice_of_pie, learned_logp_grid_mf, learned_logp_grid_mf_slice]\n",
    "     )):\n",
    "    ax = plt.subplot(3,2,i+1)\n",
    "\n",
    "    zmin, zmax = np.max(logp_grid_truth) - 7., np.max(logp_grid_truth) + 3.\n",
    "\n",
    "    pcm = plt.imshow(\n",
    "        np.clip(logp, zmin, zmax),\n",
    "        extent=(-1.5, 1.5, -1.5, 1.5),\n",
    "        origin=\"lower\",\n",
    "        cmap=\"viridis\",\n",
    "        norm=matplotlib.colors.Normalize(zmin, zmax),\n",
    "        interpolation='nearest'\n",
    "    )\n",
    "    cb = plt.colorbar(pcm, extend=\"both\")\n",
    "    \n",
    "    # plt.scatter(x[::skip,0], x[::skip,1], s=5., c=\"black\")\n",
    "\n",
    "    plt.xlim(-1.5,1.5)\n",
    "    plt.ylim(-1.5,1.5)\n",
    "    plt.xlabel(\"$x_1$\")\n",
    "    plt.ylabel(\"$x_2$\")\n",
    "    cb.set_label(label)\n",
    "    \n",
    "plt.tight_layout()\n",
    "plt.savefig(\"spherical_gaussian_2d_log_prob.pdf\", dpi=600)\n"
   ]
  },
  {
   "cell_type": "markdown",
   "metadata": {},
   "source": [
    "## More visualizations"
   ]
  },
  {
   "cell_type": "markdown",
   "metadata": {},
   "source": [
    "### Reconstruction"
   ]
  },
  {
   "cell_type": "code",
   "execution_count": 15,
   "metadata": {},
   "outputs": [],
   "source": [
    "x_in = SphericalGaussianSimulator(1,2,epsilon=epsilon).sample(100)\n",
    "x_in = torch.FloatTensor(x_in)\n",
    "x_out = mf(x_in)[0]\n",
    "x_in, x_out = x_in.detach().numpy(), x_out.detach().numpy()\n",
    "dx = x_out - x_in"
   ]
  },
  {
   "cell_type": "code",
   "execution_count": 16,
   "metadata": {},
   "outputs": [
    {
     "data": {
      "image/png": "[encoded data removed]",
      "text/plain": [
       "<Figure size 360x360 with 1 Axes>"
      ]
     },
     "metadata": {
      "needs_background": "light"
     },
     "output_type": "display_data"
    }
   ],
   "source": [
    "fig = plt.figure(figsize=(5,5))\n",
    "ax = plt.gca()\n",
    "plt.scatter(x_in[:,0], x_in[:,1], s=15., c=\"C1\")\n",
    "plt.scatter(x_out[:,0], x_out[:,1], s=15., c=\"C0\")\n",
    "plt.quiver(\n",
    "    x_in[:,0], x_in[:,1], dx[:,0], dx[:,1],\n",
    "    angles='xy', scale_units='xy', scale=1., width=2.e-3, alpha=1.\n",
    ")\n",
    "\n",
    "plt.xlim(-1.5,1.5)\n",
    "plt.ylim(-1.5,1.5)\n",
    "plt.xlabel(\"$x_1$\")\n",
    "plt.ylabel(\"$x_2$\")\n",
    "plt.tight_layout()\n",
    "\n",
    "plt.savefig(\"spherical_gaussian_2d_reconstruction.pdf\")\n"
   ]
  },
  {
   "cell_type": "markdown",
   "metadata": {},
   "source": [
    "### Latent variables"
   ]
  },
  {
   "cell_type": "code",
   "execution_count": 17,
   "metadata": {},
   "outputs": [],
   "source": [
    "res = 51\n",
    "x_range = np.linspace(-1.5,1.5,res)\n",
    "y_range = np.linspace(-1.5,1.5,res)\n",
    "xx, yy = np.meshgrid(x_range, y_range)\n",
    "x_grid = np.concatenate((xx.reshape((-1,1)), yy.reshape((-1,1))), axis=1)\n",
    "x_grid_tensor = torch.FloatTensor(x_grid)\n",
    "\n",
    "_, _, u = mf(x_grid_tensor)\n",
    "u = u.detach().numpy()\n"
   ]
  },
  {
   "cell_type": "code",
   "execution_count": 18,
   "metadata": {},
   "outputs": [
    {
     "data": {
      "image/png": "[encoded data removed]",
      "text/plain": [
       "<Figure size 360x288 with 2 Axes>"
      ]
     },
     "metadata": {
      "needs_background": "light"
     },
     "output_type": "display_data"
    }
   ],
   "source": [
    "zmin, zmax = np.mean(u) - np.std(u), np.mean(u) + np.std(u)\n",
    "fig = plt.figure(figsize=(5,4))\n",
    "ax = plt.gca()\n",
    "\n",
    "pcm = plt.pcolormesh(\n",
    "    x_range, y_range,\n",
    "    np.clip(np.clip(u, zmin, zmax).reshape(res, res), zmin, zmax),\n",
    "    cmap=\"viridis\", norm=matplotlib.colors.Normalize(zmin, zmax)\n",
    ")\n",
    "cb = plt.colorbar(pcm, extend=\"both\")\n",
    "plt.scatter(x_gen_mf[:,0], x_gen_mf[:,1], s=5., c=\"black\")\n",
    "\n",
    "plt.xlim(-1.5,1.5)\n",
    "plt.ylim(-1.5,1.5)\n",
    "plt.xlabel(\"$x_1$\")\n",
    "plt.ylabel(\"$x_2$\")\n",
    "cb.set_label(\"$\\log \\; \\hat{p}(x)$\")\n",
    "plt.tight_layout()\n",
    "\n",
    "plt.savefig(\"spherical_gaussian_2d_latent.pdf\")"
   ]
  },
  {
   "cell_type": "code",
   "execution_count": null,
   "metadata": {},
   "outputs": [],
   "source": []
  }
 ],
 "metadata": {
  "kernelspec": {
   "display_name": "Python (ML)",
   "language": "python",
   "name": "ml"
  },
  "language_info": {
   "codemirror_mode": {
    "name": "ipython",
    "version": 3
   },
   "file_extension": ".py",
   "mimetype": "text/x-python",
   "name": "python",
   "nbconvert_exporter": "python",
   "pygments_lexer": "ipython3",
   "version": "3.6.8"
  }
 },
 "nbformat": 4,
 "nbformat_minor": 2
}
