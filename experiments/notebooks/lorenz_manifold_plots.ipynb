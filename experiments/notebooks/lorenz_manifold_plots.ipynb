{
 "cells": [
  {
   "cell_type": "markdown",
   "metadata": {},
   "source": [
    "# Lorenz system: manifold plots"
   ]
  },
  {
   "cell_type": "code",
   "execution_count": 1,
   "metadata": {},
   "outputs": [],
   "source": [
    "%matplotlib osx\n",
    "\n",
    "import sys\n",
    "import numpy as np\n",
    "import matplotlib\n",
    "import torch\n",
    "import logging\n",
    "import pickle\n",
    "from tqdm import tqdm\n",
    "from scipy.spatial import cKDTree\n",
    "\n",
    "from matplotlib import pyplot as plt, cm\n",
    "from matplotlib.collections import PolyCollection\n",
    "from matplotlib.tri import Triangulation\n",
    "from matplotlib.colors import LightSource\n",
    "from mpl_toolkits.mplot3d import Axes3D\n",
    "from mpl_toolkits.mplot3d.art3d import Poly3DCollection\n",
    "\n",
    "sys.path.append(\"../../\")\n",
    "from experiments.datasets import LorenzSimulator\n",
    "from experiments.architectures.vector_transforms import create_vector_transform\n",
    "from manifold_flow.flows import ManifoldFlow\n",
    "import plot_settings as ps\n",
    "\n",
    "logging.basicConfig(\n",
    "    format=\"%(asctime)-5.5s %(name)-30.30s %(levelname)-7.7s %(message)s\",\n",
    "    datefmt=\"%H:%M\",\n",
    "    level=logging.DEBUG,\n",
    ")\n",
    "for key in logging.Logger.manager.loggerDict:\n",
    "    if \"experiments\" not in key and \"manifold_flow\" not in key:\n",
    "        logging.getLogger(key).setLevel(logging.WARNING)"
   ]
  },
  {
   "cell_type": "code",
   "execution_count": 2,
   "metadata": {},
   "outputs": [],
   "source": [
    "# ps.setup()"
   ]
  },
  {
   "cell_type": "markdown",
   "metadata": {},
   "source": [
    "## Set up simulator"
   ]
  },
  {
   "cell_type": "code",
   "execution_count": 3,
   "metadata": {},
   "outputs": [
    {
     "name": "stderr",
     "output_type": "stream",
     "text": [
      "15:18 experiments.datasets.lorenz    INFO    Solving Lorenz system with parameters sigma = 10.0, beta = 2.6666666666666665, rho = 28.0, initial conditions x0 = [1. 1. 1.], for 10000000 time steps from 0 to 100.0\n",
      "15:18 experiments.datasets.lorenz    DEBUG   Done\n"
     ]
    }
   ],
   "source": [
    "sim = LorenzSimulator()\n"
   ]
  },
  {
   "cell_type": "markdown",
   "metadata": {},
   "source": [
    "## Load flows"
   ]
  },
  {
   "cell_type": "code",
   "execution_count": 4,
   "metadata": {},
   "outputs": [],
   "source": [
    "def load_model(filename):\n",
    "    outer_transform = create_vector_transform(\n",
    "        3,\n",
    "        5,\n",
    "        linear_transform_type=\"permutation\",\n",
    "        base_transform_type=\"rq-coupling\",\n",
    "        context_features=None,\n",
    "        dropout_probability=0.,\n",
    "        tail_bound=3.,\n",
    "        num_bins=5,\n",
    "    )\n",
    "    inner_transform = create_vector_transform(\n",
    "        2,\n",
    "        5,\n",
    "        linear_transform_type=\"permutation\",\n",
    "        base_transform_type=\"rq-coupling\",\n",
    "        context_features=sim.parameter_dim(),\n",
    "        dropout_probability=0.,\n",
    "        tail_bound=3.,\n",
    "        num_bins=5,\n",
    "    )\n",
    "\n",
    "    model = ManifoldFlow(\n",
    "        data_dim=3,\n",
    "        latent_dim=2,\n",
    "        outer_transform=outer_transform,\n",
    "        inner_transform=inner_transform,\n",
    "        apply_context_to_outer=False,\n",
    "    )\n",
    "    \n",
    "    model.load_state_dict(\n",
    "        torch.load(\"../data/models/{}.pt\".format(filename), map_location=torch.device(\"cpu\"))\n",
    "    )\n",
    "    _ = model.eval()\n",
    "    \n",
    "    return model"
   ]
  },
  {
   "cell_type": "code",
   "execution_count": 5,
   "metadata": {},
   "outputs": [
    {
     "name": "stderr",
     "output_type": "stream",
     "text": [
      "15:18 manifold_flow.transforms.proje DEBUG   Set up projection from vector with dimension 3 to vector with dimension 2\n",
      "15:18 manifold_flow.flows.base       DEBUG   Flow has 0.4 M parameters (0.4 M trainable) with an estimated size of 1.7 MB\n",
      "15:18 manifold_flow.flows.manifold_f DEBUG     Outer transform: 0.2 M parameters\n",
      "15:18 manifold_flow.flows.manifold_f DEBUG     Inner transform: 0.2 M parameters\n"
     ]
    }
   ],
   "source": [
    "mf = load_model(\"mf_2_lorenz_april\")\n"
   ]
  },
  {
   "cell_type": "markdown",
   "metadata": {},
   "source": [
    "## Find points for evaluation: start with latent grid, triangulate, add points randomly where necessary, remove duplicates"
   ]
  },
  {
   "cell_type": "code",
   "execution_count": 10,
   "metadata": {},
   "outputs": [],
   "source": [
    "def make_grid(boundary, res):\n",
    "    grid_each = np.linspace(-boundary, boundary, res)\n",
    "    x, y = np.meshgrid(grid_each, grid_each)\n",
    "    xy = np.vstack((x.flatten(), y.flatten())).T\n",
    "    return xy\n",
    "\n",
    "\n",
    "def decode(zs, batchsize = 10000):\n",
    "    xs = []\n",
    "    n_batches = (len(zs) - 1) // batchsize + 1\n",
    "    for i in range(n_batches):\n",
    "        print(\"Batch {} / {}\".format(i + 1, n_batches))\n",
    "        z_batch = zs[i*batchsize:(i+1)*batchsize]\n",
    "        z_ = torch.tensor(z_batch, dtype=torch.float)\n",
    "        x_ = mf.decode(u=z_)\n",
    "        xs += list(x_.detach().numpy().flatten())\n",
    "\n",
    "    xs = np.array(xs).reshape((-1, 3))\n",
    "    return xs\n",
    "\n",
    "\n",
    "def encode(xs, batchsize = 10000):\n",
    "    zs = []\n",
    "    n_batches = (len(xs) - 1) // batchsize + 1\n",
    "    for i in range(n_batches):\n",
    "        print(\"Batch {} / {}\".format(i + 1, n_batches))\n",
    "        x_batch = xs[i*batchsize:(i+1)*batchsize]\n",
    "        x_ = torch.tensor(x_batch, dtype=torch.float)\n",
    "        z_ = mf.encode(x_)\n",
    "        zs += list(z_.detach().numpy().flatten())\n",
    "\n",
    "    zs = np.array(zs).reshape((-1, 2))\n",
    "    return zs\n",
    "\n",
    "\n",
    "def triangle_circumference(a, b, c):\n",
    "    ab = np.linalg.norm(a - b)\n",
    "    bc = np.linalg.norm(b - c)\n",
    "    ca = np.linalg.norm(c - a)\n",
    "    circ = (ab + bc + ca)\n",
    "    return circ\n",
    "\n",
    "\n",
    "def triangle_area(a, b, c):\n",
    "    ab = np.linalg.norm(a - b)\n",
    "    bc = np.linalg.norm(b - c)\n",
    "    ca = np.linalg.norm(c - a)\n",
    "    s = (ab + bc + ca) / 2.\n",
    "    return (s * (s-ab) * (s-bc) * (s-ca))**0.5\n",
    "    \n",
    "    \n",
    "def uniform_points_in_triangle(a, b, c, n=1):\n",
    "    p = np.random.uniform(size=n)[:,np.newaxis]\n",
    "    q = np.random.uniform(size=n)[:,np.newaxis]\n",
    "    p_ = np.where(p + q > 1., 1. - p, p)\n",
    "    q_ = np.where(p + q > 1., 1. - q, q)\n",
    "    points = a[np.newaxis, :] + (b - a)[np.newaxis, :] * p_ + (c - a)[np.newaxis, :] * q_\n",
    "    \n",
    "    return points\n"
   ]
  },
  {
   "cell_type": "code",
   "execution_count": 14,
   "metadata": {},
   "outputs": [
    {
     "name": "stdout",
     "output_type": "stream",
     "text": [
      "Batch 1 / 1\n"
     ]
    },
    {
     "data": {
      "text/plain": [
       "((10000, 2), (10000, 3))"
      ]
     },
     "execution_count": 14,
     "metadata": {},
     "output_type": "execute_result"
    }
   ],
   "source": [
    "z_mf = make_grid(3., 100)\n",
    "x_mf = decode(z_mf)\n",
    "z_seeds.shape, x_seeds.shape\n"
   ]
  },
  {
   "cell_type": "code",
   "execution_count": 20,
   "metadata": {},
   "outputs": [],
   "source": [
    "def iterate(xs, zs, goal_area = 0.01, goal_circ=0.2, n_additional_max=100, max_distance=0.02):\n",
    "    print(\"Beginning iteration\")\n",
    "    n_in = xs.shape[0]\n",
    "    z_outs = np.copy(zs)\n",
    "    \n",
    "    # Step one: inserting more points where distances are large\n",
    "    print(\"Triangulating...\")\n",
    "    triangulation = Triangulation(zs[:,0], zs[:,1])\n",
    "\n",
    "    print(\"Inserting points in latent space...\")\n",
    "    for t in triangulation.triangles:\n",
    "        area = triangle_area(xs[t[0]], xs[t[1]], xs[t[2]])\n",
    "        circ = triangle_circumference(xs[t[0]], xs[t[1]], xs[t[2]])\n",
    "        \n",
    "        n_additional = min(max(int(round(\n",
    "            0.5 * (area / goal_area + circ / goal_circ),\n",
    "            0)), 0), n_additional_max)\n",
    "        n_additional_circ = min(max(int(round(circ / goal_circ, 0)) - 1, 0), n_additional_max)\n",
    "\n",
    "        if n_additional > 0:\n",
    "            z_additional = uniform_points_in_triangle(\n",
    "                zs[t[0]],\n",
    "                zs[t[1]],\n",
    "                zs[t[2]],\n",
    "                n=n_additional\n",
    "            )\n",
    "            z_outs = np.concatenate((z_outs, z_additional), axis=0)\n",
    "            \n",
    "    print(\"Decoding...\")\n",
    "    x_outs = decode(z_outs)\n",
    "    n_mid = len(x_outs)\n",
    "\n",
    "    # Step two: removing close neighbors in x space\n",
    "    print(\"Removing close neighbors in data space...\")\n",
    "    tree = cKDTree(x_mf)\n",
    "    neighbors = tree.query_pairs(r=max_distance)\n",
    "    duplicates = [n[1] for n in neighbors]\n",
    "\n",
    "    x_outs = np.array([x for i, x in enumerate(x_outs) if i not in duplicates])\n",
    "    z_outs = np.array([z for i, z in enumerate(z_outs) if i not in duplicates])\n",
    "    n_out = len(x_outs)\n",
    "    \n",
    "    print(f\"Done! {n_in} -> {n_mid} -> {n_out}\")\n",
    "\n",
    "    return x_outs, z_outs"
   ]
  },
  {
   "cell_type": "code",
   "execution_count": null,
   "metadata": {},
   "outputs": [
    {
     "name": "stdout",
     "output_type": "stream",
     "text": [
      "Beginning iteration\n",
      "Triangulating...\n",
      "Inserting points in latent space...\n",
      "Decoding...\n",
      "Batch 1 / 21\n",
      "Batch 2 / 21\n",
      "Batch 3 / 21\n",
      "Batch 4 / 21\n",
      "Batch 5 / 21\n",
      "Batch 6 / 21\n",
      "Batch 7 / 21\n",
      "Batch 8 / 21\n",
      "Batch 9 / 21\n",
      "Batch 10 / 21\n",
      "Batch 11 / 21\n",
      "Batch 12 / 21\n",
      "Batch 13 / 21\n",
      "Batch 14 / 21\n",
      "Batch 15 / 21\n",
      "Batch 16 / 21\n",
      "Batch 17 / 21\n",
      "Batch 18 / 21\n",
      "Batch 19 / 21\n",
      "Batch 20 / 21\n",
      "Batch 21 / 21\n",
      "Removing close neighbors in data space...\n"
     ]
    }
   ],
   "source": [
    "# Execute this cell a couple of times... last time I did it twice\n",
    "x_mf, z_mf = iterate(x_mf, z_mf)"
   ]
  },
  {
   "cell_type": "markdown",
   "metadata": {},
   "source": [
    "## Evaluate log likelihood"
   ]
  },
  {
   "cell_type": "code",
   "execution_count": null,
   "metadata": {},
   "outputs": [],
   "source": [
    "batchsize = 500\n",
    "\n",
    "logps = []\n",
    "\n",
    "n_batches = (len(z_mf) - 1) // batchsize + 1\n",
    "for i in range(n_batches):\n",
    "    print(\"Batch {} / {}\".format(i + 1, n_batches))\n",
    "    x_batch = x_mf[i*batchsize:(i+1)*batchsize]\n",
    "    x_batch_ = torch.tensor(x_batch, dtype=torch.float)\n",
    "    _, logp_, _ = mf(x_batch_, mode=\"mf\")\n",
    "    logps.append(logp_.detach().numpy().flatten())\n",
    "\n",
    "logp_mf = np.hstack(logps)\n",
    "logp_mf.shape\n"
   ]
  },
  {
   "cell_type": "code",
   "execution_count": null,
   "metadata": {},
   "outputs": [],
   "source": [
    "x_traj = sim.trajectory()\n",
    "z_traj = encode(x_traj, batchsize=10000)\n",
    "x_traj.shape, z_traj.shape\n"
   ]
  },
  {
   "cell_type": "markdown",
   "metadata": {},
   "source": [
    "## Save / load results"
   ]
  },
  {
   "cell_type": "code",
   "execution_count": null,
   "metadata": {},
   "outputs": [],
   "source": [
    "# pickle.dump((x_mf, z_mf, logp_mf, x_traj, z_traj), open( \"../data/results/lorenz.pickle\", \"wb\"))\n"
   ]
  },
  {
   "cell_type": "code",
   "execution_count": 5,
   "metadata": {},
   "outputs": [],
   "source": [
    "x_mf, z_mf, logp_mf, x_traj, z_traj = pickle.load(open( \"../data/results/lorenz.pickle\", \"rb\"))\n"
   ]
  },
  {
   "cell_type": "markdown",
   "metadata": {},
   "source": [
    "## Triangulation"
   ]
  },
  {
   "cell_type": "code",
   "execution_count": 45,
   "metadata": {},
   "outputs": [
    {
     "data": {
      "text/plain": [
       "((133357,), (133357, 3, 3), (133357, 3, 2))"
      ]
     },
     "execution_count": 45,
     "metadata": {},
     "output_type": "execute_result"
    }
   ],
   "source": [
    "circ_max = 0.8\n",
    "triangulation = Triangulation(z_mf[:,0], z_mf[:,1])\n",
    "\n",
    "x_tri = []\n",
    "logp_tri = []\n",
    "z_tri = []\n",
    "minlogp_tri = []\n",
    "\n",
    "for t in triangulation.triangles:\n",
    "    circ = triangle_circumference(x_mf[t[0]], x_mf[t[1]], x_mf[t[2]])\n",
    "    if circ_max is not None and circ > circ_max:\n",
    "        continue\n",
    "        \n",
    "    z_tri.append(\n",
    "        [\n",
    "            [z_mf[t[0], 0], z_mf[t[0], 1]],\n",
    "            [z_mf[t[1], 0], z_mf[t[1], 1]],\n",
    "            [z_mf[t[2], 0], z_mf[t[2], 1]]\n",
    "        ]\n",
    "    )\n",
    "    x_tri.append(\n",
    "        [\n",
    "            [x_mf[t[0], 0], x_mf[t[0], 1], x_mf[t[0], 2]],\n",
    "            [x_mf[t[1], 0], x_mf[t[1], 1], x_mf[t[1], 2]],\n",
    "            [x_mf[t[2], 0], x_mf[t[2], 1], x_mf[t[2], 2]]\n",
    "        ]\n",
    "    )\n",
    "    logp_tri.append(\n",
    "        (logp_mf[t[0]] + logp_mf[t[1]] + logp_mf[t[2]]) / 3.\n",
    "    )\n",
    "    minlogp_tri.append(min(logp_mf[t[0]], logp_mf[t[1]], logp_mf[t[2]]))\n",
    "\n",
    "z_tri = np.array(z_tri)\n",
    "x_tri = np.array(x_tri)\n",
    "logp_tri = np.array(logp_tri)\n",
    "minlogp_tri = np.array(minlogp_tri)\n",
    "\n",
    "logp_tri.shape, x_tri.shape, z_tri.shape\n"
   ]
  },
  {
   "cell_type": "markdown",
   "metadata": {},
   "source": [
    "## Color map"
   ]
  },
  {
   "cell_type": "code",
   "execution_count": 46,
   "metadata": {},
   "outputs": [
    {
     "data": {
      "text/plain": [
       "(-5.260194460550944,\n",
       " -5.85095970363861,\n",
       " 2.9101308758310402,\n",
       " -17.427059173583984,\n",
       " -0.10214622815450032)"
      ]
     },
     "execution_count": 46,
     "metadata": {},
     "output_type": "execute_result"
    }
   ],
   "source": [
    "np.median(logp_tri), np.mean(logp_tri), np.std(logp_tri), np.min(logp_tri), np.max(logp_tri)"
   ]
  },
  {
   "cell_type": "code",
   "execution_count": 47,
   "metadata": {},
   "outputs": [],
   "source": [
    "logp_cutoff = -8.\n",
    "cmin, cmax = -7., -1.\n",
    "x_boundary = 3.\n",
    "\n",
    "def cmap(vals):\n",
    "    return ps.CMAP(np.clip((vals - cmin) / (cmax - cmin), 0., 1.))\n",
    "\n",
    "\n",
    "if logp_cutoff is None:\n",
    "    x_tri_ = x_tri\n",
    "    colors_tri_ = cmap(logp_tri)\n",
    "    z_tri_ = z_tri\n",
    "else:\n",
    "    x_tri_ = x_tri[minlogp_tri > logp_cutoff]\n",
    "    colors_tri_ = cmap(logp_tri[minlogp_tri > logp_cutoff])\n",
    "    z_tri_ = z_tri[minlogp_tri > logp_cutoff]\n"
   ]
  },
  {
   "cell_type": "markdown",
   "metadata": {},
   "source": [
    "## 2D plot"
   ]
  },
  {
   "cell_type": "code",
   "execution_count": 48,
   "metadata": {},
   "outputs": [],
   "source": [
    "fig = plt.figure(figsize=(6,6))\n",
    "ax = plt.gca()\n",
    "\n",
    "coll = PolyCollection(z_tri_, facecolors=colors_tri_, edgecolors=colors_tri_, lw=0.5, rasterized=True)\n",
    "ax.add_collection(coll)\n",
    "\n",
    "# ax.plot(z_traj[:, 0], z_traj[:, 1], c=\"black\", lw=0.5)\n",
    "\n",
    "plt.xlabel(\"$u_1$\")\n",
    "plt.ylabel(\"$u_2$\")\n",
    "\n",
    "plt.xlim(-3.1, 3.1)\n",
    "plt.ylim(-3.1, 3.1)\n",
    "\n",
    "plt.tight_layout()\n",
    "plt.savefig(\"../figures/lorenz_latent_likelihood.pdf\")\n"
   ]
  },
  {
   "cell_type": "markdown",
   "metadata": {},
   "source": [
    "## 3D plot"
   ]
  },
  {
   "cell_type": "code",
   "execution_count": 51,
   "metadata": {},
   "outputs": [],
   "source": [
    "# Strongly based on https://discourse.matplotlib.org/t/trisurf-plots-with-independent-color-data/19033/2\n",
    "\n",
    "fig = plt.figure(figsize=(6,6))\n",
    "ax = fig.gca(projection='3d')\n",
    "    \n",
    "coll = Poly3DCollection(x_tri_, facecolors=colors_tri_, edgecolors=colors_tri_, lw=0.5)\n",
    "ax.add_collection(coll)\n",
    "\n",
    "ax.plot(\n",
    "    x_traj[:, 0],\n",
    "    x_traj[:, 1],\n",
    "    x_traj[:, 2],\n",
    "    c=\"black\",\n",
    "    lw=0.5\n",
    ")\n",
    "\n",
    "ax.set_xlim3d(-x_boundary, x_boundary)\n",
    "ax.set_ylim3d(-x_boundary, x_boundary)\n",
    "ax.set_zlim3d(-x_boundary, x_boundary)\n",
    "\n",
    "ax.set_xlabel(\"x\")\n",
    "ax.set_ylabel(\"y\")\n",
    "ax.set_zlabel(\"z\")\n",
    "\n",
    "ax.set_xticklabels([\"\"]*3)\n",
    "ax.set_yticklabels([\"\"]*3)\n",
    "ax.set_zticklabels([\"\"]*3)\n",
    "\n",
    "# ax.view_init(elev=20, azim=-70)  # Good view\n",
    "ax.view_init(elev=20, azim=-70+180)  # Back view\n",
    "# ax.view_init(elev=20, azim=60)  # Great side view\n",
    "# ax.view_init(elev=90, azim=-70)  # Top-down view of x-y plane\n",
    "\n",
    "plt.tight_layout()\n",
    "# plt.show()\n",
    "plt.savefig(\"../figures/lorenz_likelihood_3d_back.pdf\")\n"
   ]
  },
  {
   "cell_type": "code",
   "execution_count": null,
   "metadata": {},
   "outputs": [],
   "source": []
  }
 ],
 "metadata": {
  "kernelspec": {
   "display_name": "Python (ML)",
   "language": "python",
   "name": "ml"
  },
  "language_info": {
   "codemirror_mode": {
    "name": "ipython",
    "version": 3
   },
   "file_extension": ".py",
   "mimetype": "text/x-python",
   "name": "python",
   "nbconvert_exporter": "python",
   "pygments_lexer": "ipython3",
   "version": "3.6.8"
  }
 },
 "nbformat": 4,
 "nbformat_minor": 4
}
