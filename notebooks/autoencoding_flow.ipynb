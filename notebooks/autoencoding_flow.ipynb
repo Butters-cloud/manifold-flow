{
 "cells": [
  {
   "cell_type": "markdown",
   "metadata": {},
   "source": [
    "# Semi-invertible autoencoder"
   ]
  },
  {
   "cell_type": "code",
   "execution_count": 1,
   "metadata": {},
   "outputs": [],
   "source": [
    "import numpy as np\n",
    "import logging\n",
    "import sys\n",
    "from matplotlib import pyplot as plt\n",
    "\n",
    "%matplotlib inline\n",
    "sys.path.append(\"../\")\n",
    "\n",
    "import torch\n",
    "from torchvision.datasets import MNIST\n",
    "from torchvision import transforms\n",
    "\n",
    "from aef.models.autoencoding_flow import TwoStepAutoencodingFlow\n",
    "from aef.trainer import AutoencodingFlowTrainer\n",
    "from aef.losses import nll, mse\n",
    "\n",
    "logging.basicConfig(\n",
    "    format=\"%(asctime)-5.5s %(name)-20.20s %(levelname)-7.7s %(message)s\",\n",
    "    datefmt=\"%H:%M\",\n",
    "    level=logging.INFO,\n",
    ")\n"
   ]
  },
  {
   "cell_type": "markdown",
   "metadata": {},
   "source": [
    "## Data"
   ]
  },
  {
   "cell_type": "code",
   "execution_count": 2,
   "metadata": {},
   "outputs": [],
   "source": [
    "img_transform = transforms.Compose([\n",
    "    transforms.ToTensor(),\n",
    "    transforms.Normalize((0.5,), (0.5,))\n",
    "])\n",
    "mnist = MNIST('./data', download=True, transform=img_transform)"
   ]
  },
  {
   "cell_type": "markdown",
   "metadata": {},
   "source": [
    "## Train autoencoder"
   ]
  },
  {
   "cell_type": "code",
   "execution_count": 3,
   "metadata": {},
   "outputs": [],
   "source": [
    "ae = TwoStepAutoencodingFlow(data_dim=28*28, latent_dim=16, n_mades_inner=2, n_mades_outer=2)"
   ]
  },
  {
   "cell_type": "code",
   "execution_count": null,
   "metadata": {},
   "outputs": [],
   "source": [
    "trainer = AutoencodingFlowTrainer(ae, output_filename=\"../figures/training/aef/aef_phase1\")\n",
    "trainer.train(\n",
    "    dataset=mnist,\n",
    "    loss_functions=[mse],\n",
    "    loss_labels=[\"MSE\"],\n",
    "    loss_weights=[1.],\n",
    "    batch_size=256,\n",
    "    epochs=5,\n",
    "    verbose=\"all\",\n",
    "    initial_lr=1.e-4,\n",
    "    final_lr=1.e-5,\n",
    ")"
   ]
  },
  {
   "cell_type": "markdown",
   "metadata": {},
   "source": [
    "## Visualize latent space"
   ]
  },
  {
   "cell_type": "code",
   "execution_count": null,
   "metadata": {},
   "outputs": [],
   "source": [
    "n = 1000\n",
    "\n",
    "x = torch.cat([mnist[i][0].unsqueeze(0) for i in range(n)], dim=0)\n",
    "y = np.asarray([mnist[i][1] for i in range(n)])\n",
    "\n",
    "x = x.view(x.size(0), -1)\n",
    "x.to(self.device, self.dtype)\n",
    "x_out, _, u = self.model(x)\n",
    "\n",
    "x = x.detach().numpy().reshape(-1, 28, 28)\n",
    "x_out = x_out.detach().numpy().reshape(-1, 28, 28)\n",
    "u = u.detach().numpy().reshape(x_out.shape[0], -1)\n",
    "tsne = TSNE(n_components=2, verbose=0, perplexity=40, n_iter=300).fit_transform(u)"
   ]
  },
  {
   "cell_type": "code",
   "execution_count": null,
   "metadata": {},
   "outputs": [],
   "source": [
    "fig = plt.figure(figsize=(10,5))\n",
    "\n",
    "ax = plt.subplot(1,2,1)\n",
    "for i in range(10):\n",
    "    plt.scatter(u[y==i][:,0], u[y==i][:,1], c=\"C{}\".format(i), s=20., label=\"{}\".format(i+1))\n",
    "plt.legend()\n",
    "plt.xlabel(r\"$u_0$\")\n",
    "plt.ylabel(r\"$u_1$\")\n",
    "    \n",
    "ax = plt.subplot(1,2,2)\n",
    "for i in range(10):\n",
    "    plt.scatter(tsne[y==i][:,0], tsne[y==i][:,1], c=\"C{}\".format(i), s=20., label=\"{}\".format(i+1))\n",
    "plt.legend()\n",
    "plt.xlabel(r\"$t-SNE component 0$\")\n",
    "plt.ylabel(r\"$t-SNE component 1$\")\n",
    "\n",
    "plt.tight_layout()\n",
    "plt.savefig(\"../figures/mnist_latent.pdf\")\n"
   ]
  },
  {
   "cell_type": "markdown",
   "metadata": {
    "collapsed": true
   },
   "source": [
    "## Visualize reconstruction"
   ]
  },
  {
   "cell_type": "code",
   "execution_count": null,
   "metadata": {},
   "outputs": [],
   "source": [
    "x = torch.cat([mnist[i][0].unsqueeze(0) for i in range(1000)], dim=0)\n",
    "y = np.asarray([mnist[i][1] for i in range(1000)])"
   ]
  },
  {
   "cell_type": "code",
   "execution_count": null,
   "metadata": {},
   "outputs": [],
   "source": [
    "h = ae.encoder(x)\n",
    "x_out = ae.decoder(h)\n",
    "h = h.detach().numpy()\n",
    "x_out = x_out.detach().numpy()"
   ]
  },
  {
   "cell_type": "code",
   "execution_count": null,
   "metadata": {},
   "outputs": [],
   "source": [
    "fig = plt.figure(figsize=(12,12))\n",
    "\n",
    "for i in range(18):\n",
    "    ax = plt.subplot(6, 6, 2*i + 1)\n",
    "    plt.imshow(x[i].reshape((28,28)))\n",
    "    ax.get_xaxis().set_visible(False)\n",
    "    ax.get_yaxis().set_visible(False)\n",
    "    ax = plt.subplot(6, 6, 2*i + 2)\n",
    "    plt.imshow(x_out[i].reshape((28,28)))\n",
    "    ax.get_xaxis().set_visible(False)\n",
    "    ax.get_yaxis().set_visible(False)\n",
    "        \n",
    "plt.tight_layout()\n",
    "plt.savefig(\"../figures/reconstruction.pdf\")\n"
   ]
  },
  {
   "cell_type": "code",
   "execution_count": null,
   "metadata": {
    "collapsed": true
   },
   "outputs": [],
   "source": []
  }
 ],
 "metadata": {
  "kernelspec": {
   "display_name": "Python (ML)",
   "language": "python",
   "name": "ml"
  },
  "language_info": {
   "codemirror_mode": {
    "name": "ipython",
    "version": 3
   },
   "file_extension": ".py",
   "mimetype": "text/x-python",
   "name": "python",
   "nbconvert_exporter": "python",
   "pygments_lexer": "ipython3",
   "version": "3.6.8"
  }
 },
 "nbformat": 4,
 "nbformat_minor": 2
}
