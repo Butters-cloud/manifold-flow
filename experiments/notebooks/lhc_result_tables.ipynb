{
 "cells": [
  {
   "cell_type": "markdown",
   "metadata": {},
   "source": [
    "# Particle physics results"
   ]
  },
  {
   "cell_type": "markdown",
   "metadata": {},
   "source": [
    "## Setup"
   ]
  },
  {
   "cell_type": "code",
   "execution_count": 34,
   "metadata": {},
   "outputs": [],
   "source": [
    "import sys\n",
    "import numpy as np\n",
    "from sklearn.metrics import roc_auc_score\n",
    "from sklearn.neighbors import KernelDensity\n",
    "from itertools import product\n"
   ]
  },
  {
   "cell_type": "markdown",
   "metadata": {},
   "source": [
    "## Load results"
   ]
  },
  {
   "cell_type": "code",
   "execution_count": 35,
   "metadata": {},
   "outputs": [],
   "source": [
    "n_runs = 5\n",
    "n_chains = 4\n",
    "n_trueparams = 3\n",
    "remove_all_results_with_nans = False"
   ]
  },
  {
   "cell_type": "code",
   "execution_count": 36,
   "metadata": {},
   "outputs": [],
   "source": [
    "algo_filenames = []\n",
    "algo_additionals = []\n",
    "algo_labels = []\n",
    "algo_dividers = []\n",
    "algo_2ds = []\n",
    "\n",
    "def add_algo(filename, add, label, lhc2d=False):\n",
    "    algo_filenames.append(filename)\n",
    "    algo_additionals.append(add)\n",
    "    algo_labels.append(label)\n",
    "    algo_2ds.append(lhc2d)\n",
    "    \n",
    "    \n",
    "def add_divider():\n",
    "    algo_dividers.append(len(algo_filenames))\n",
    "    \n",
    "\n",
    "add_algo(\"flow\", \"_april\", \"2D summaries\", True)\n",
    "add_algo(\"alices\", \"_april\", \"MadMiner\")\n",
    "add_algo(\"flow\", \"_april\", \"AF\")\n",
    "add_algo(\"pie\", \"_april\", \"PIE\")\n",
    "add_algo(\"mf\", \"_alternate_april\", \"MFMF--A\")\n",
    "add_algo(\"gamf\", \"_april\", \"MFMF--OT\")\n",
    "add_algo(\"gamf\", \"_alternate_april\", \"MFMF--OTA\")\n",
    "add_algo(\"emf\", \"_alternate_april\", \"MFMF--A\")\n",
    "\n",
    "n_algos = len(algo_filenames)\n"
   ]
  },
  {
   "cell_type": "code",
   "execution_count": 37,
   "metadata": {},
   "outputs": [],
   "source": [
    "def load(name, shape, numpyfy=True, chains=1, result_dir=\"../data/results\"):\n",
    "    all_results = []\n",
    "    \n",
    "    for algo_filename, algo_add, algo_2d in zip(algo_filenames, algo_additionals, algo_2ds):\n",
    "        algo_results = []\n",
    "            \n",
    "        for run in range(n_runs):\n",
    "            run_str = \"\" if run == 0 else \"_run{}\".format(run)\n",
    "\n",
    "            try:\n",
    "                this_result = np.load(\n",
    "                    \"{}/{}_{}_lhc{}{}{}_{}.npy\".format(\n",
    "                        result_dir, algo_filename, \"2\" if algo_2d else \"14\",\n",
    "                        \"2d\" if algo_2d else \"\", algo_add, run_str, name\n",
    "                    )\n",
    "                )\n",
    "                if (not numpyfy) or (shape is None) or np.product(this_result.shape) == np.product(shape):\n",
    "                    algo_results.append(this_result.reshape(shape))\n",
    "                else:\n",
    "                    algo_results.append(np.nan*np.ones(shape))\n",
    "\n",
    "            except FileNotFoundError as e:\n",
    "                # print(e)\n",
    "                if shape is None:\n",
    "                    algo_results.append(None)\n",
    "                else:\n",
    "                    algo_results.append(np.nan*np.ones(shape))\n",
    "            \n",
    "        all_results.append(algo_results)\n",
    "    \n",
    "    if numpyfy:\n",
    "        all_results = np.array(all_results, dtype=np.float)\n",
    "        \n",
    "    return all_results\n",
    "\n",
    "\n",
    "model_gen_x = load(\"samples\", None, numpyfy=False)\n",
    "model_gen_closure = load(\"samples_manifold_distance\", (10000,))\n"
   ]
  },
  {
   "cell_type": "code",
   "execution_count": 38,
   "metadata": {},
   "outputs": [
    {
     "data": {
      "text/plain": [
       "(8, 5, 3, 4, 500, 2)"
      ]
     },
     "execution_count": 38,
     "metadata": {},
     "output_type": "execute_result"
    }
   ],
   "source": [
    "def load_mcmc(name, shape, numpyfy=True, result_dir=\"../data/results\"):\n",
    "    all_results = []\n",
    "    \n",
    "    for algo_filename, algo_add, algo_2d in zip(algo_filenames, algo_additionals, algo_2ds):\n",
    "        algo_results = []\n",
    "            \n",
    "        for run in range(n_runs):\n",
    "            run_str = \"\" if run == 0 else \"_run{}\".format(run)\n",
    "            \n",
    "            for trueparam in range(n_trueparams):\n",
    "                trueparam_str = \"\" if trueparam == 0 else \"_trueparam{}\".format(trueparam)\n",
    "            \n",
    "                for chain in range(n_chains):\n",
    "                    chain_str = \"\" if chain == 0 else \"_chain{}\".format(chain)\n",
    "\n",
    "                    try:\n",
    "                        this_result = np.load(\n",
    "                            \"{}/{}_{}_lhc{}{}{}_{}{}{}.npy\".format(\n",
    "                                result_dir, algo_filename, \"2\" if algo_2d else \"14\",\n",
    "                                \"2d\" if algo_2d else \"\", algo_add, run_str, name, trueparam_str, chain_str\n",
    "                            )\n",
    "                        )\n",
    "                        if (not numpyfy) or (shape is None) or np.product(this_result.shape) == np.product(shape):\n",
    "                            algo_results.append(this_result.reshape(shape))\n",
    "                        else:\n",
    "                            algo_results.append(np.nan*np.ones(shape))\n",
    "\n",
    "                    except FileNotFoundError as e:\n",
    "                        # print(e)\n",
    "                        if shape is None:\n",
    "                            algo_results.append(None)\n",
    "                        else:\n",
    "                            algo_results.append(np.nan*np.ones(shape))\n",
    "            \n",
    "        all_results.append(algo_results)\n",
    "    \n",
    "    all_results = np.array(all_results, dtype=np.float)\n",
    "    all_results = all_results.reshape([all_results.shape[0], n_runs, n_trueparams, n_chains] + list(shape))\n",
    "        \n",
    "    return all_results\n",
    "\n",
    "\n",
    "model_posterior_samples = load_mcmc(\"posterior_samples\", (500, 2,))\n",
    "model_posterior_samples.shape  # (algo, run, true param id, chain, sample, theta component)\n"
   ]
  },
  {
   "cell_type": "code",
   "execution_count": 39,
   "metadata": {},
   "outputs": [],
   "source": [
    "model_posterior_samples[1,0] = np.load(\"../data/results/alices_14_lhc_april_posterior_samples.npy\")"
   ]
  },
  {
   "cell_type": "code",
   "execution_count": 40,
   "metadata": {},
   "outputs": [],
   "source": [
    "def remove_nans(*results):\n",
    "    passes = all([np.all(np.isfinite(result)) for result in results])\n",
    "    \n",
    "    if passes:\n",
    "        return results\n",
    "    else:\n",
    "        return [np.nan * np.ones_like(result) for result in results]\n",
    "\n",
    "\n",
    "def remove_nans_from_lists(*raws):\n",
    "    # raws[quantity][algo]\n",
    "    n_quantities = len(raws)\n",
    "    n_algos = len(raws[0])\n",
    "    \n",
    "    for raw in raws:\n",
    "        assert len(raw) == n_algos\n",
    "    \n",
    "    cleans = [[[] for _ in range(n_algos)] for _ in range(n_quantities)]\n",
    "    \n",
    "    for i in range(n_algos):\n",
    "        for k in range(n_runs):\n",
    "            clean = remove_nans(*[raw[i][k] for raw in raws])\n",
    "            for j in range(n_quantities):\n",
    "                cleans[j][i].append(clean[j])\n",
    "            \n",
    "    cleans = [np.array(clean) for clean in cleans]\n",
    "    \n",
    "    # cleans[quantity][algo]\n",
    "    return cleans\n",
    "     \n",
    "    \n",
    "if remove_all_results_with_nans:\n",
    "    model_gen_closure, model_posterior_samples = remove_nans_from_lists(model_gen_closure, model_posterior_samples)\n"
   ]
  },
  {
   "cell_type": "markdown",
   "metadata": {},
   "source": [
    "## Calculate metrics"
   ]
  },
  {
   "cell_type": "code",
   "execution_count": 41,
   "metadata": {},
   "outputs": [],
   "source": [
    "min_logp = -100.\n",
    "model_gen_mean_closure = np.mean(model_gen_closure, axis=2)\n"
   ]
  },
  {
   "cell_type": "code",
   "execution_count": 42,
   "metadata": {},
   "outputs": [
    {
     "name": "stdout",
     "output_type": "stream",
     "text": [
      "0 0 0\n",
      "0 0 1\n",
      "0 0 2\n",
      "0 1 0\n",
      "0 1 1\n",
      "0 1 2\n",
      "0 2 0\n",
      "0 2 1\n",
      "0 2 2\n",
      "0 3 0\n",
      "0 3 1\n",
      "0 3 2\n",
      "0 4 0\n",
      "0 4 1\n",
      "0 4 2\n",
      "1 0 0\n",
      "1 0 1\n",
      "1 0 2\n",
      "2 0 0\n",
      "2 0 1\n",
      "2 0 2\n",
      "2 1 0\n",
      "2 1 1\n",
      "2 1 2\n",
      "2 2 0\n",
      "2 2 1\n",
      "2 2 2\n",
      "2 3 0\n",
      "2 3 1\n",
      "2 3 2\n",
      "2 4 0\n",
      "2 4 1\n",
      "2 4 2\n",
      "3 0 0\n",
      "3 0 1\n",
      "3 0 2\n",
      "3 1 0\n",
      "3 1 1\n",
      "3 1 2\n",
      "3 2 0\n",
      "3 2 1\n",
      "3 2 2\n",
      "4 0 0\n",
      "4 0 1\n",
      "4 0 2\n",
      "4 1 0\n",
      "4 1 1\n",
      "4 1 2\n",
      "4 2 0\n",
      "4 2 1\n",
      "4 2 2\n",
      "7 0 0\n",
      "7 0 1\n",
      "7 0 2\n",
      "7 2 0\n",
      "7 2 1\n",
      "7 2 2\n"
     ]
    }
   ],
   "source": [
    "bandwidth = 0.25\n",
    "true_param_points = np.array([[0.,0.], [0.5, 0.], [-1., -1.]])\n",
    "\n",
    "model_true_log_posteriors = []\n",
    "\n",
    "for algo, run, trueparam in product(range(n_algos), range(n_runs), range(n_trueparams)):\n",
    "    mcmcs = model_posterior_samples[algo, run, trueparam].reshape((-1, 2))\n",
    "    mcmcs = mcmcs[np.all(np.isfinite(mcmcs), axis=-1)]\n",
    "    \n",
    "    if len(mcmcs) == 0:\n",
    "        model_true_log_posteriors.append(np.nan)\n",
    "        continue\n",
    "        \n",
    "    print(algo, run, trueparam)\n",
    "    kde = KernelDensity(kernel=\"gaussian\", bandwidth=bandwidth)\n",
    "    kde.fit(mcmcs)\n",
    "    model_true_log_posteriors.append(kde.score(true_param_points[trueparam].reshape((1, 2))))\n",
    "\n",
    "model_true_log_posteriors = np.array(model_true_log_posteriors).reshape((n_algos, n_runs, n_trueparams)) \n"
   ]
  },
  {
   "cell_type": "markdown",
   "metadata": {},
   "source": [
    "## Best metrics"
   ]
  },
  {
   "cell_type": "code",
   "execution_count": 43,
   "metadata": {},
   "outputs": [
    {
     "data": {
      "text/plain": [
       "array([[ 0.90962074,  0.44834521, -1.53297605],\n",
       "       [ 0.908861  ,  0.72490689, -0.12438006],\n",
       "       [-2.06671826, -2.10419179, -6.03832848],\n",
       "       [ 0.84044445, -1.92213525, -1.7525699 ],\n",
       "       [-1.55394298, -2.09669399, -1.59071453],\n",
       "       [        nan,         nan,         nan],\n",
       "       [        nan,         nan,         nan],\n",
       "       [-1.73578427, -1.3277774 , -2.69542223]])"
      ]
     },
     "execution_count": 43,
     "metadata": {},
     "output_type": "execute_result"
    }
   ],
   "source": [
    "model_true_log_posteriors[:,0,:]"
   ]
  },
  {
   "cell_type": "code",
   "execution_count": 44,
   "metadata": {},
   "outputs": [
    {
     "name": "stdout",
     "output_type": "stream",
     "text": [
      "AF\n",
      "MadMiner\n"
     ]
    },
    {
     "name": "stderr",
     "output_type": "stream",
     "text": [
      "/Users/johannbrehmer/anaconda3/envs/ml/lib/python3.6/site-packages/ipykernel_launcher.py:3: RuntimeWarning: Mean of empty slice\n",
      "  This is separate from the ipykernel package so we can avoid doing imports until\n",
      "/Users/johannbrehmer/anaconda3/envs/ml/lib/python3.6/site-packages/ipykernel_launcher.py:6: RuntimeWarning: Mean of empty slice\n",
      "  \n"
     ]
    }
   ],
   "source": [
    "best_closure, best_posterior = -1, -1\n",
    "\n",
    "best_closure = np.nanargmin(np.nanmean(model_gen_mean_closure, axis=1))\n",
    "print(algo_labels[best_closure])\n",
    "\n",
    "best_posterior = np.nanargmax(np.nanmean(model_true_log_posteriors.reshape((n_algos, -1)), axis=-1))\n",
    "print(algo_labels[best_posterior])\n"
   ]
  },
  {
   "cell_type": "markdown",
   "metadata": {},
   "source": [
    "## Print metrics"
   ]
  },
  {
   "cell_type": "code",
   "execution_count": 45,
   "metadata": {},
   "outputs": [],
   "source": [
    "def print_results(\n",
    "    include_err=False, include_n_runs=False, include_runs=False,\n",
    "    l_label=max([len(l) for l in algo_labels]), l_mean=5, l_err=2,\n",
    "    median=False, latex=False, after_decs=(3,2)\n",
    "):\n",
    "    # How to format the numbers\n",
    "    l_result = (\n",
    "        l_mean + int(include_err) * (2 + l_err)\n",
    "        + int(include_n_runs) * 4\n",
    "        + int(include_runs) * (3 + n_runs*l_mean + (n_runs - 1)*2)\n",
    "    )\n",
    "    l_total = l_label + 1 + 2 * (3 + l_result)\n",
    "        \n",
    "    # Divider\n",
    "    empty_result = \"\" if latex else \" \"*(l_result + 1)\n",
    "    col_divider = \"&\" if latex else \"|\"\n",
    "    line_end = r\"\\\\\" if latex else \"\"\n",
    "    block_divider = r\"\\midrule\" if latex else \"-\"*l_total\n",
    "    \n",
    "    def _f(val, after_dec, best=False):\n",
    "        if not np.any(np.isfinite(val)):\n",
    "            return empty_result\n",
    "        \n",
    "        if median:\n",
    "            result = \"{:>{}.{}f}\".format(np.nanmedian(val), l_mean, after_dec)\n",
    "        else:\n",
    "            result = \"{:>{}.{}f}\".format(np.nanmean(val), l_mean, after_dec)\n",
    "            \n",
    "        if latex and best:\n",
    "            result = r\"\\textbf{\" + result + \"}\"\n",
    "            \n",
    "        if include_err:\n",
    "            err_str = \"({:0>{}d})\".format(int(10**after_dec * np.nanstd(val) / np.sum(np.isfinite(val))**0.5), l_err)\n",
    "            if latex:\n",
    "                result += r\"\\,\\textcolor{dark-gray}{\" + err_str + \"}\"\n",
    "            else:\n",
    "                result += err_str\n",
    "            \n",
    "        if include_n_runs:\n",
    "            result += \" [{:1n}]\".format(np.sum(np.isfinite(val)))\n",
    "        if include_runs:\n",
    "            result += \" [{:>{}.{}f}, \".format(np.nanmean(val[0]), l_mean, after_dec)\n",
    "            result += \"{:>{}.{}f}, \".format(np.nanmean(val[1]), l_mean, after_dec)\n",
    "            result += \"{:>{}.{}f}, \".format(np.nanmean(val[2]), l_mean, after_dec)\n",
    "            result += \"{:>{}.{}f}, \".format(np.nanmean(val[3]), l_mean, after_dec)\n",
    "            result += \"{:>{}.{}f}]\".format(np.nanmean(val[4]), l_mean, after_dec)\n",
    "            \n",
    "        if (not latex) and best:\n",
    "            result += \"*\"\n",
    "        elif (not latex) and (not best):\n",
    "            result += \" \"\n",
    "            \n",
    "        return result\n",
    "    \n",
    "    # Header\n",
    "    print(\n",
    "        \"{2:<{0}.{0}s} {5} {3:>{1}.{1}s} {5} {4:>{1}.{1}s} {6}\".format(\n",
    "            l_label, l_result, \"\", \"Closure\", \"Posterior mean error\", col_divider, line_end\n",
    "        )\n",
    "    )\n",
    "    print(block_divider)\n",
    "\n",
    "    # Iterate over methods\n",
    "    for i, (label, closure, posterior) in enumerate(zip(\n",
    "        algo_labels, model_gen_mean_closure, model_true_log_posteriors\n",
    "    )):\n",
    "        # Divider\n",
    "        if i in algo_dividers and show_all:\n",
    "            print(block_divider)\n",
    "            \n",
    "        # Print results\n",
    "        print(\"{1:<{0}.{0}s} {4} {2}{4} {3} {5}\".format(\n",
    "            l_label, label,\n",
    "            _f(closure, after_decs[0], i==best_closure), _f(posterior, after_decs[1], i==best_posterior),\n",
    "            col_divider, line_end\n",
    "        ))\n"
   ]
  },
  {
   "cell_type": "code",
   "execution_count": 46,
   "metadata": {},
   "outputs": [
    {
     "name": "stdout",
     "output_type": "stream",
     "text": [
      "             |                                   Closure |                      Posterior mean error \n",
      "-----------------------------------------------------------------------------------------------------\n",
      "2D summaries |                                           | -0.15 [-0.06, -0.09, -0.26, -0.39,  0.07]  \n",
      "MadMiner     |                                           |  0.50 [ 0.50,   nan,   nan,   nan,   nan]* \n",
      "AF           | 0.018 [0.016, 0.017, 0.017, 0.017, 0.022]*| -2.45 [-3.40, -2.67, -1.79, -2.26, -2.12]  \n",
      "PIE          | 0.030 [0.050, 0.025, 0.015,   nan,   nan] | -1.71 [-0.94, -2.41, -1.77,   nan,   nan]  \n",
      "MFMF--A      | 0.315 [0.264, 0.319, 0.363,   nan,   nan] | -2.14 [-1.75, -2.12, -2.55,   nan,   nan]  \n",
      "MFMF--OT     |                                           |                                            \n",
      "MFMF--OTA    |                                           |                                            \n",
      "MFMF--A      | 0.423 [0.472, 0.362, 0.436,   nan,   nan] | -1.89 [-1.92,   nan, -1.86,   nan,   nan]  \n"
     ]
    },
    {
     "name": "stderr",
     "output_type": "stream",
     "text": [
      "/Users/johannbrehmer/anaconda3/envs/ml/lib/python3.6/site-packages/ipykernel_launcher.py:43: RuntimeWarning: Mean of empty slice\n",
      "/Users/johannbrehmer/anaconda3/envs/ml/lib/python3.6/site-packages/ipykernel_launcher.py:44: RuntimeWarning: Mean of empty slice\n",
      "/Users/johannbrehmer/anaconda3/envs/ml/lib/python3.6/site-packages/ipykernel_launcher.py:45: RuntimeWarning: Mean of empty slice\n",
      "/Users/johannbrehmer/anaconda3/envs/ml/lib/python3.6/site-packages/ipykernel_launcher.py:46: RuntimeWarning: Mean of empty slice\n"
     ]
    }
   ],
   "source": [
    "print_results(include_runs=True)"
   ]
  },
  {
   "cell_type": "code",
   "execution_count": 47,
   "metadata": {},
   "outputs": [
    {
     "name": "stdout",
     "output_type": "stream",
     "text": [
      "             |   Closure | Posterior \n",
      "-------------------------------------\n",
      "2D summaries |           | -0.15(33)  \n",
      "MadMiner     |           |  0.50(25)* \n",
      "AF           | 0.018(01)*| -2.45(38)  \n",
      "PIE          | 0.030(08) | -1.71(94)  \n",
      "MFMF--A      | 0.315(23) | -2.14(17)  \n",
      "MFMF--OT     |           |            \n",
      "MFMF--OTA    |           |            \n",
      "MFMF--A      | 0.423(26) | -1.89(22)  \n"
     ]
    }
   ],
   "source": [
    "print_results(include_err=True)"
   ]
  },
  {
   "cell_type": "code",
   "execution_count": 48,
   "metadata": {},
   "outputs": [
    {
     "name": "stdout",
     "output_type": "stream",
     "text": [
      "             &   Closure & Posterior \\\\\n",
      "\\midrule\n",
      "2D summaries & & -0.15\\,\\textcolor{dark-gray}{(33)} \\\\\n",
      "MadMiner     & & \\textbf{ 0.50}\\,\\textcolor{dark-gray}{(25)} \\\\\n",
      "AF           & \\textbf{0.018}\\,\\textcolor{dark-gray}{(01)}& -2.45\\,\\textcolor{dark-gray}{(38)} \\\\\n",
      "PIE          & 0.030\\,\\textcolor{dark-gray}{(08)}& -1.71\\,\\textcolor{dark-gray}{(94)} \\\\\n",
      "MFMF--A      & 0.315\\,\\textcolor{dark-gray}{(23)}& -2.14\\,\\textcolor{dark-gray}{(17)} \\\\\n",
      "MFMF--OT     & &  \\\\\n",
      "MFMF--OTA    & &  \\\\\n",
      "MFMF--A      & 0.423\\,\\textcolor{dark-gray}{(26)}& -1.89\\,\\textcolor{dark-gray}{(22)} \\\\\n"
     ]
    }
   ],
   "source": [
    "print_results(include_err=True, latex=True)"
   ]
  },
  {
   "cell_type": "code",
   "execution_count": null,
   "metadata": {},
   "outputs": [],
   "source": []
  }
 ],
 "metadata": {
  "kernelspec": {
   "display_name": "Python (ML)",
   "language": "python",
   "name": "ml"
  },
  "language_info": {
   "codemirror_mode": {
    "name": "ipython",
    "version": 3
   },
   "file_extension": ".py",
   "mimetype": "text/x-python",
   "name": "python",
   "nbconvert_exporter": "python",
   "pygments_lexer": "ipython3",
   "version": "3.6.8"
  }
 },
 "nbformat": 4,
 "nbformat_minor": 2
}
