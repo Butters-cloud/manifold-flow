{
 "cells": [
  {
   "cell_type": "markdown",
   "metadata": {},
   "source": [
    "# Explore LHC dataset"
   ]
  },
  {
   "cell_type": "code",
   "execution_count": 1,
   "metadata": {},
   "outputs": [],
   "source": [
    "%matplotlib inline\n",
    "\n",
    "import sys\n",
    "import numpy as np\n",
    "import matplotlib\n",
    "from matplotlib import pyplot as plt\n",
    "import corner\n",
    "\n",
    "sys.path.append(\"../../\")\n",
    "from experiments.simulators.collider import WBFLoader\n"
   ]
  },
  {
   "cell_type": "markdown",
   "metadata": {},
   "source": [
    "## Analyze data"
   ]
  },
  {
   "cell_type": "code",
   "execution_count": 2,
   "metadata": {},
   "outputs": [],
   "source": [
    "n = 1000\n",
    "x = np.load(\"../data/samples/lhc/x_train.npy\")[:n]\n",
    "params = np.load(\"../data/samples/lhc/theta_train.npy\")[:n]"
   ]
  },
  {
   "cell_type": "markdown",
   "metadata": {},
   "source": [
    "## Closure tests"
   ]
  },
  {
   "cell_type": "code",
   "execution_count": 3,
   "metadata": {},
   "outputs": [
    {
     "data": {
      "text/plain": [
       "14"
      ]
     },
     "execution_count": 3,
     "metadata": {},
     "output_type": "execute_result"
    }
   ],
   "source": [
    "sim = WBFLoader()\n",
    "sim.latent_dim()"
   ]
  },
  {
   "cell_type": "code",
   "execution_count": 4,
   "metadata": {},
   "outputs": [
    {
     "name": "stdout",
     "output_type": "stream",
     "text": [
      "pT\n",
      "2.307892e-06\n",
      "7.6961516e-07\n",
      "2.4547576e-06\n",
      "1.1520385e-06\n",
      "6.514549e-06\n",
      "5.8612823e-06\n",
      "phi\n",
      "1.2704404e-09\n",
      "2.1616289e-09\n",
      "2.107583e-09\n",
      "2.0591542e-09\n",
      "9.27737e-09\n",
      "9.657931e-09\n",
      "eta\n",
      "1.1177943e-07\n",
      "1.1315744e-07\n",
      "9.65687e-07\n",
      "3.6396802e-06\n",
      "1.3460097e-07\n",
      "1.5726944e-06\n",
      "E\n",
      "1.4602661e-05\n",
      "4.966736e-06\n",
      "5.4244997e-06\n",
      "3.0799867e-05\n",
      "particle sum\n",
      "1.0270119e-05\n",
      "3.071785e-05\n",
      "4.518007e-06\n",
      "4.7872586e-06\n",
      "4.521422e-06\n",
      "4.6472064e-06\n",
      "8.681636e-06\n",
      "2.2415661e-05\n",
      "particle delta\n",
      "3.5762786e-09\n",
      "1.4901161e-10\n",
      "3.1679868e-08\n",
      "2.9802324e-11\n"
     ]
    }
   ],
   "source": [
    "# pT vs px, py\n",
    "print(\"pT\")\n",
    "print(sim._pt_discrepancy(x, 4, 1, 2))\n",
    "print(sim._pt_discrepancy(x, 11, 8, 9))\n",
    "print(sim._pt_discrepancy(x, 18, 15, 16))\n",
    "print(sim._pt_discrepancy(x, 25, 22, 23))\n",
    "print(sim._pt_discrepancy(x, 32, 29, 30))\n",
    "print(sim._pt_discrepancy(x, 42, 39, 40))\n",
    "\n",
    "# phi vs px, py\n",
    "print(\"phi\")\n",
    "print(sim._phi_discrepancy(x, 6, 1, 2))\n",
    "print(sim._phi_discrepancy(x, 13, 8, 9))\n",
    "print(sim._phi_discrepancy(x, 20, 15, 16))\n",
    "print(sim._phi_discrepancy(x, 27, 22, 23))\n",
    "print(sim._phi_discrepancy(x, 35, 29, 30))\n",
    "print(sim._phi_discrepancy(x, 45, 39, 40))\n",
    "\n",
    "# eta vs E, px, py, pz\n",
    "print(\"eta\")\n",
    "print(sim._eta_discrepancy(x, 5, 0, 1, 2, 3))\n",
    "print(sim._eta_discrepancy(x, 12, 7, 8, 9, 10))\n",
    "print(sim._eta_discrepancy(x, 19, 14, 15, 16, 17))\n",
    "print(sim._eta_discrepancy(x, 26, 21, 22, 23, 24))\n",
    "print(sim._eta_discrepancy(x, 34, 28, 29, 30, 31))\n",
    "print(sim._eta_discrepancy(x, 44, 38, 39, 40, 41))\n",
    "\n",
    "# E vs on-shell and m vs on-shell\n",
    "print(\"E\")\n",
    "print(sim._on_shell_discrepancy(x, 0, 1, 2, 3))\n",
    "print(sim._on_shell_discrepancy(x, 7, 8, 9, 10))\n",
    "print(sim._on_shell_discrepancy(x, 28, 29, 30, 31, m=x[:, 33]))\n",
    "print(sim._on_shell_discrepancy(x, 38, 39, 40, 41, m=x[:, 43]))\n",
    "\n",
    "# reconstructed particles vs daughters\n",
    "print(\"particle sum\")\n",
    "for add in [0, 1, 2, 3]:\n",
    "    print(sim._daughter_discrepancy(x, 28 + add, 0 + add, 7 + add))\n",
    "    print(sim._daughter_discrepancy(x, 38 + add, 14 + add, 21 + add))\n",
    "\n",
    "# delta something discrepancies\n",
    "print(\"particle delta\")\n",
    "print(sim._delta_discrepancy(x, 36, 5, 12))\n",
    "print(sim._delta_discrepancy(x, 37, 6, 13))\n",
    "print(sim._delta_discrepancy(x, 46, 19, 26))\n",
    "print(sim._delta_discrepancy(x, 47, 20, 27))"
   ]
  },
  {
   "cell_type": "code",
   "execution_count": null,
   "metadata": {},
   "outputs": [],
   "source": []
  }
 ],
 "metadata": {
  "kernelspec": {
   "display_name": "Python (ML)",
   "language": "python",
   "name": "ml"
  },
  "language_info": {
   "codemirror_mode": {
    "name": "ipython",
    "version": 3
   },
   "file_extension": ".py",
   "mimetype": "text/x-python",
   "name": "python",
   "nbconvert_exporter": "python",
   "pygments_lexer": "ipython3",
   "version": "3.6.8"
  }
 },
 "nbformat": 4,
 "nbformat_minor": 2
}
