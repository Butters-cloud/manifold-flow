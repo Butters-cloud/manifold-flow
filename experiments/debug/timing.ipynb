{
 "cells": [
  {
   "cell_type": "code",
   "execution_count": 1,
   "metadata": {},
   "outputs": [],
   "source": [
    "import sys\n",
    "import time\n",
    "import torch\n",
    "from torch.utils.data import TensorDataset\n",
    "import numpy as np\n",
    "from matplotlib import pyplot as plt\n",
    "import logging\n",
    "\n",
    "sys.path.append(\"../../\")\n",
    "import manifold_flow as mf\n",
    "from manifold_flow import transforms, utils, flows, distributions, training\n",
    "from manifold_flow import nn as nn_\n",
    "\n",
    "%matplotlib inline\n",
    "\n",
    "logging.basicConfig(\n",
    "    format=\"%(asctime)-5.5s %(name)-30.30s %(levelname)-7.7s %(message)s\",\n",
    "    datefmt=\"%H:%M\",\n",
    "    level=logging.DEBUG,\n",
    ")\n",
    "logger = logging.getLogger(__name__)\n",
    "# Output of all other modules (e.g. matplotlib)\n",
    "for key in logging.Logger.manager.loggerDict:\n",
    "    if \"manifold_flow\" not in key:\n",
    "        logging.getLogger(key).setLevel(logging.WARNING)\n"
   ]
  },
  {
   "cell_type": "markdown",
   "metadata": {},
   "source": [
    "## Timing function"
   ]
  },
  {
   "cell_type": "code",
   "execution_count": 2,
   "metadata": {},
   "outputs": [],
   "source": [
    "def make_data(dim, n=100):\n",
    "    return torch.randn(dim*n).view(n, dim)"
   ]
  },
  {
   "cell_type": "code",
   "execution_count": 3,
   "metadata": {},
   "outputs": [],
   "source": [
    "def make_model(xdim, ldim=1):\n",
    "    trf = flows.vector_transforms.create_transform(\n",
    "        dim=xdim,\n",
    "        flow_steps=5,\n",
    "        linear_transform_type=\"permutation\",\n",
    "        base_transform_type=\"affine-coupling\",\n",
    "        hidden_features=20,\n",
    "        num_transform_blocks=5,\n",
    "        dropout_probability=0.,\n",
    "        use_batch_norm=False\n",
    "    )\n",
    "    return trf"
   ]
  },
  {
   "cell_type": "code",
   "execution_count": 4,
   "metadata": {},
   "outputs": [],
   "source": [
    "def time_logdet(model, data, repeats=3):\n",
    "    times = []\n",
    "    for _ in range(repeats):\n",
    "        time_before = time.time()\n",
    "        _ = model(data, full_jacobian=False)\n",
    "        time_after = time.time()\n",
    "        \n",
    "        print(time_after-time_before, \"s\")\n",
    "        times.append(time_after-time_before)\n",
    "    return np.mean(times), np.std(times)"
   ]
  },
  {
   "cell_type": "code",
   "execution_count": 5,
   "metadata": {},
   "outputs": [],
   "source": [
    "def time_jacobian(model, data, repeats=3):\n",
    "    times = []\n",
    "    for _ in range(repeats):\n",
    "        time_before = time.time()\n",
    "        _ = model(data, full_jacobian=True)\n",
    "        time_after = time.time()\n",
    "        \n",
    "        print(time_after-time_before, \"s\")\n",
    "        times.append(time_after-time_before)\n",
    "    return np.mean(times), np.std(times)"
   ]
  },
  {
   "cell_type": "code",
   "execution_count": 6,
   "metadata": {},
   "outputs": [],
   "source": [
    "def run(xdim, jacobian=True):\n",
    "    data = make_data(xdim)\n",
    "    data.requires_grad = True\n",
    "    model = make_model(xdim)\n",
    "    if jacobian:\n",
    "        return time_jacobian(model, data)\n",
    "    else:\n",
    "        return time_logdet(model, data)"
   ]
  },
  {
   "cell_type": "markdown",
   "metadata": {},
   "source": [
    "## Go!"
   ]
  },
  {
   "cell_type": "code",
   "execution_count": 7,
   "metadata": {},
   "outputs": [
    {
     "name": "stdout",
     "output_type": "stream",
     "text": [
      "xdim = 2\n",
      "0.5196871757507324 s\n",
      "0.4990427494049072 s\n",
      "0.4882469177246094 s\n",
      "0.003172159194946289 s\n",
      "0.003637075424194336 s\n",
      "0.003532886505126953 s\n",
      "xdim = 5\n",
      "1.3391668796539307 s\n",
      "1.3072457313537598 s\n",
      "1.2999401092529297 s\n",
      "0.0035507678985595703 s\n",
      "0.003915071487426758 s\n",
      "0.0036897659301757812 s\n",
      "xdim = 10\n",
      "2.5690510272979736 s\n",
      "2.504009962081909 s\n",
      "2.5117383003234863 s\n",
      "0.003518819808959961 s\n",
      "0.0036818981170654297 s\n",
      "0.003635883331298828 s\n",
      "xdim = 20\n",
      "5.125554800033569 s\n",
      "5.12296986579895 s\n",
      "5.120353937149048 s\n",
      "0.0035958290100097656 s\n",
      "0.004023075103759766 s\n",
      "0.007264137268066406 s\n",
      "xdim = 50\n",
      "14.707911014556885 s\n",
      "14.607937097549438 s\n",
      "14.61239504814148 s\n",
      "0.004684925079345703 s\n",
      "0.00485682487487793 s\n",
      "0.004957914352416992 s\n",
      "xdim = 100\n",
      "32.67186117172241 s\n",
      "32.51254892349243 s\n",
      "32.65154480934143 s\n",
      "0.006091117858886719 s\n",
      "0.006250143051147461 s\n",
      "0.008327007293701172 s\n"
     ]
    }
   ],
   "source": [
    "xdims = [2,5,10,20,50,100]\n",
    "\n",
    "jacobian_means = []\n",
    "jacobian_stds = []\n",
    "det_means = []\n",
    "det_stds = []\n",
    "\n",
    "for xdim in xdims:\n",
    "    print(\"xdim =\", xdim)\n",
    "    mean_jac, std_jac = run(xdim, True)\n",
    "    mean_det, std_det = run(xdim, False)\n",
    "    jacobian_means.append(mean_jac)\n",
    "    jacobian_stds.append(std_jac)\n",
    "    det_means.append(mean_det)\n",
    "    det_stds.append(std_det)\n",
    "\n",
    "xdims = np.asarray(xdims)\n",
    "jacobian_means = np.asarray(jacobian_means)\n",
    "jacobian_stds = np.asarray(jacobian_stds)\n",
    "det_means = np.asarray(det_means)\n",
    "det_stds = np.asarray(det_stds)\n"
   ]
  },
  {
   "cell_type": "markdown",
   "metadata": {},
   "source": [
    "## Plot"
   ]
  },
  {
   "cell_type": "code",
   "execution_count": 16,
   "metadata": {},
   "outputs": [
    {
     "data": {
      "image/png": "[encoded data removed]",
      "text/plain": [
       "<Figure size 360x360 with 1 Axes>"
      ]
     },
     "metadata": {
      "needs_background": "light"
     },
     "output_type": "display_data"
    }
   ],
   "source": [
    "fig = plt.figure(figsize=(5,5))\n",
    "\n",
    "plt.fill_between(\n",
    "    xdims, jacobian_means-jacobian_stds, jacobian_means+jacobian_stds,\n",
    "    color=\"C0\", alpha=0.2\n",
    ")\n",
    "plt.plot(\n",
    "    xdims, jacobian_means,\n",
    "    c=\"C0\", ls=\"-\",\n",
    "    label=\"Full Jacobian calculation\"\n",
    ")\n",
    "\n",
    "plt.fill_between(\n",
    "    xdims, det_means-det_stds, det_means+det_stds,\n",
    "    color=\"C1\", alpha=0.2\n",
    ")\n",
    "plt.plot(\n",
    "    xdims, det_means,\n",
    "    c=\"C1\", ls=\"-\",\n",
    "    label=\"log det calculation\"\n",
    ")\n",
    "\n",
    "plt.legend()\n",
    "\n",
    "plt.xlabel(\"Data dimension\")\n",
    "plt.ylabel(\"Time for forward pass [s]\")\n",
    "plt.ylim(1.e-3,1.e2)\n",
    "plt.yscale(\"log\")\n",
    "\n",
    "plt.tight_layout()\n",
    "plt.savefig(\"manifold_flow_timing.pdf\")\n"
   ]
  },
  {
   "cell_type": "code",
   "execution_count": null,
   "metadata": {},
   "outputs": [],
   "source": []
  }
 ],
 "metadata": {
  "kernelspec": {
   "display_name": "Python (ML)",
   "language": "python",
   "name": "ml"
  },
  "language_info": {
   "codemirror_mode": {
    "name": "ipython",
    "version": 3
   },
   "file_extension": ".py",
   "mimetype": "text/x-python",
   "name": "python",
   "nbconvert_exporter": "python",
   "pygments_lexer": "ipython3",
   "version": "3.6.8"
  }
 },
 "nbformat": 4,
 "nbformat_minor": 2
}
