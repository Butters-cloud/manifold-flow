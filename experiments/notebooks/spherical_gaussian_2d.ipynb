{
 "cells": [
  {
   "cell_type": "code",
   "execution_count": 1,
   "metadata": {
    "collapsed": true
   },
   "outputs": [],
   "source": [
    "import sys\n",
    "import numpy as np\n",
    "import matplotlib\n",
    "from matplotlib import pyplot as plt\n",
    "import torch\n",
    "from torch.utils.data import TensorDataset\n",
    "import logging\n",
    "\n",
    "sys.path.append(\"../../\")\n",
    "import manifold_flow as mf\n",
    "from manifold_flow import transforms, utils, flows, distributions, training\n",
    "from manifold_flow import nn as nn_\n",
    "from experiments.data_generation.spherical_simulator import simulator, true_logp, _transform_x_to_z, _transform_z_to_x\n",
    "\n",
    "%matplotlib inline\n",
    "\n",
    "logging.basicConfig(\n",
    "    format=\"%(asctime)-5.5s %(name)-30.30s %(levelname)-7.7s %(message)s\",\n",
    "    datefmt=\"%H:%M\",\n",
    "    level=logging.DEBUG,\n",
    ")\n",
    "logger = logging.getLogger(__name__)\n",
    "# Output of all other modules (e.g. matplotlib)\n",
    "for key in logging.Logger.manager.loggerDict:\n",
    "    if \"manifold_flow\" not in key:\n",
    "        logging.getLogger(key).setLevel(logging.WARNING)\n"
   ]
  },
  {
   "cell_type": "markdown",
   "metadata": {},
   "source": [
    "## Data"
   ]
  },
  {
   "cell_type": "code",
   "execution_count": 2,
   "metadata": {},
   "outputs": [],
   "source": [
    "latent_dim = 1\n",
    "data_dim = 2\n",
    "n = 10000\n",
    "epsilon = 0.01\n",
    "\n",
    "phases = np.pi/2*np.ones(latent_dim)\n",
    "widths = 0.5*np.ones(latent_dim)\n",
    "\n",
    "x = simulator(epsilon, latent_dim, data_dim, n, phases, widths)"
   ]
  },
  {
   "cell_type": "code",
   "execution_count": 4,
   "metadata": {},
   "outputs": [
    {
     "name": "stderr",
     "output_type": "stream",
     "text": [
      "../../experiments/data_generation/spherical_simulator.py:59: RuntimeWarning: invalid value encountered in true_divide\n",
      "  x[:, i] / np.sum(x[:, i : latent_dim + 1] ** 2, axis=1) ** 0.5\n",
      "../../experiments/data_generation/spherical_simulator.py:59: RuntimeWarning: invalid value encountered in arccos\n",
      "  x[:, i] / np.sum(x[:, i : latent_dim + 1] ** 2, axis=1) ** 0.5\n",
      "/Users/johannbrehmer/anaconda3/envs/ml/lib/python3.6/site-packages/scipy/stats/_distn_infrastructure.py:874: RuntimeWarning: invalid value encountered in greater_equal\n",
      "  return (self.a <= x) & (x <= self.b)\n",
      "/Users/johannbrehmer/anaconda3/envs/ml/lib/python3.6/site-packages/scipy/stats/_distn_infrastructure.py:874: RuntimeWarning: invalid value encountered in less_equal\n",
      "  return (self.a <= x) & (x <= self.b)\n",
      "../../experiments/data_generation/spherical_simulator.py:83: RuntimeWarning: divide by zero encountered in log\n",
      "  logp_eps = np.log(norm(loc=0.0, scale=epsilon).pdf(z_eps))\n",
      "../../experiments/data_generation/spherical_simulator.py:87: RuntimeWarning: invalid value encountered in multiply\n",
      "  np.arange(latent_dim - 1, -1, -1)[np.newaxis, :] * np.log(np.abs(np.sin(z_phi))),\n"
     ]
    },
    {
     "name": "stdout",
     "output_type": "stream",
     "text": [
      "[[-14.9225651 ]\n",
      " [-14.91854906]\n",
      " [-14.91450076]\n",
      " ...\n",
      " [-18.05609342]\n",
      " [-18.06014172]\n",
      " [-18.06415776]]\n",
      "[[ -8.6393798 ]\n",
      " [ -8.63536375]\n",
      " [ -8.63131546]\n",
      " ...\n",
      " [-11.77290811]\n",
      " [-11.77695641]\n",
      " [-11.78097245]]\n",
      "[[-2.35619449]\n",
      " [-2.35217845]\n",
      " [-2.34813015]\n",
      " ...\n",
      " [-5.4897228 ]\n",
      " [-5.4937711 ]\n",
      " [-5.49778714]]\n",
      "[[3.92699082]\n",
      " [3.93100686]\n",
      " [3.93505516]\n",
      " ...\n",
      " [0.7934625 ]\n",
      " [0.78941421]\n",
      " [0.78539816]]\n",
      "[[10.21017612]\n",
      " [10.21419217]\n",
      " [10.21824047]\n",
      " ...\n",
      " [ 7.07664781]\n",
      " [ 7.07259951]\n",
      " [ 7.06858347]]\n",
      "[[16.49336143]\n",
      " [16.49737747]\n",
      " [16.50142577]\n",
      " ...\n",
      " [13.35983312]\n",
      " [13.35578482]\n",
      " [13.35176878]]\n",
      "[[22.77654674]\n",
      " [22.78056278]\n",
      " [22.78461108]\n",
      " ...\n",
      " [19.64301843]\n",
      " [19.63897013]\n",
      " [19.63495408]]\n"
     ]
    },
    {
     "data": {
      "image/png": "[encoded data removed]",
      "text/plain": [
       "<Figure size 360x288 with 2 Axes>"
      ]
     },
     "metadata": {
      "needs_background": "light"
     },
     "output_type": "display_data"
    }
   ],
   "source": [
    "res = 251\n",
    "x_range = np.linspace(-1.2,1.2,res)\n",
    "y_range = np.linspace(-1.2,1.2,res)\n",
    "xx, yy = np.meshgrid(x_range, y_range)\n",
    "x_grid = np.concatenate((xx.reshape((-1,1)), yy.reshape((-1,1))), axis=1)\n",
    "logp_grid = true_logp(x_grid, epsilon, latent_dim, phases, widths).reshape((res, res))\n",
    "logp_grid[~np.isfinite(logp_grid)] = -1000000.\n",
    "\n",
    "zmin, zmax = np.max(logp_grid) - 10, np.max(logp_grid)\n",
    "fig = plt.figure(figsize=(5,4))\n",
    "ax = plt.gca()\n",
    "\n",
    "pcm = plt.imshow(\n",
    "    np.clip(logp_grid, zmin, zmax),\n",
    "    extent=(-1.2,1.2,-1.2,1.2),\n",
    "    origin=\"lower\",\n",
    "    cmap=\"viridis\", norm=matplotlib.colors.Normalize(zmin, zmax)\n",
    ")\n",
    "cb = plt.colorbar(pcm, extend=\"both\")\n",
    "plt.scatter(x[::50,0], x[::50,1], s=2., c=\"black\", alpha=1.)\n",
    "\n",
    "plt.xlabel(\"$x_1$\")\n",
    "plt.ylabel(\"$x_2$\")\n",
    "cb.set_label(\"$\\log \\; p(x)$\")\n",
    "plt.tight_layout()\n",
    "\n",
    "plt.savefig(\"spherical_gaussian_2d_data.pdf\")"
   ]
  },
  {
   "cell_type": "code",
   "execution_count": 4,
   "metadata": {},
   "outputs": [
    {
     "data": {
      "text/plain": [
       "(array([[6.28317531]]), array([[5.00000041e-11]]))"
      ]
     },
     "execution_count": 4,
     "metadata": {},
     "output_type": "execute_result"
    }
   ],
   "source": [
    "_transform_x_to_z(np.array([[1.0,-0.00001]]), latent_dim)"
   ]
  },
  {
   "cell_type": "markdown",
   "metadata": {},
   "source": [
    "## Train manifold flow"
   ]
  },
  {
   "cell_type": "code",
   "execution_count": 8,
   "metadata": {},
   "outputs": [
    {
     "name": "stderr",
     "output_type": "stream",
     "text": [
      "11:32 manifold_flow.flows.autoencodi DEBUG   Set up projection from vector with dimension 2 to vector with dimension 1\n",
      "11:32 manifold_flow.flows.autoencodi DEBUG   Created autoencoding flow with 0.0 M parameters (0.0 M trainable) with an estimated size of 0.0 GB\n"
     ]
    }
   ],
   "source": [
    "trf = flows.vector_transforms.create_transform(\n",
    "    dim=2,\n",
    "    flow_steps=5,\n",
    "    linear_transform_type=\"permutation\",\n",
    "    base_transform_type=\"affine-coupling\",\n",
    "    hidden_features=20,\n",
    "    num_transform_blocks=3,\n",
    "    dropout_probability=0.,\n",
    "    use_batch_norm=False\n",
    ")\n",
    "\n",
    "flow = flows.autoencoding_flow.TwoStepAutoencodingFlow(\n",
    "    data_dim=2,\n",
    "    latent_dim=1,\n",
    "    inner_transform=None,\n",
    "    outer_transform=trf,\n",
    ")"
   ]
  },
  {
   "cell_type": "code",
   "execution_count": 10,
   "metadata": {},
   "outputs": [
    {
     "name": "stderr",
     "output_type": "stream",
     "text": [
      "11:33 manifold_flow.training.trainer INFO    Training on CPU with single precision\n",
      "11:33 manifold_flow.training.trainer DEBUG   Initialising training data\n",
      "11:33 manifold_flow.training.trainer DEBUG   Setting up optimizer\n",
      "11:33 manifold_flow.training.trainer DEBUG   Setting up LR scheduler\n",
      "11:33 manifold_flow.training.trainer DEBUG   Using early stopping with infinite patience\n",
      "11:33 manifold_flow.training.trainer DEBUG   Will print training progress every 1 epochs\n",
      "11:33 manifold_flow.training.trainer DEBUG   Beginning main training loop\n",
      "11:33 manifold_flow.training.trainer DEBUG   Training epoch 1 / 10\n",
      "11:33 manifold_flow.training.trainer DEBUG     Learning rate: [0.001]\n",
      "11:34 manifold_flow.training.trainer INFO    Epoch   1: train loss  0.23731 (mse:  0.237, nll: -4.664)\n",
      "11:34 manifold_flow.training.trainer INFO               val. loss   0.19982 (mse:  0.200, nll: -3.258)\n",
      "11:34 manifold_flow.training.trainer DEBUG   Training epoch 2 / 10\n",
      "11:34 manifold_flow.training.trainer DEBUG     Learning rate: [0.001]\n",
      "11:34 manifold_flow.training.trainer INFO    Epoch   2: train loss  0.14499 (mse:  0.145, nll: -2.825)\n",
      "11:34 manifold_flow.training.trainer INFO               val. loss   0.10728 (mse:  0.107, nll: -3.181)\n",
      "11:34 manifold_flow.training.trainer DEBUG   Training epoch 3 / 10\n",
      "11:34 manifold_flow.training.trainer DEBUG     Learning rate: [0.0009755282581475768]\n",
      "11:35 manifold_flow.training.trainer INFO    Epoch   3: train loss  0.07044 (mse:  0.070, nll: -3.380)\n",
      "11:35 manifold_flow.training.trainer INFO               val. loss   0.05027 (mse:  0.050, nll: -2.631)\n",
      "11:35 manifold_flow.training.trainer DEBUG   Training epoch 4 / 10\n",
      "11:35 manifold_flow.training.trainer DEBUG     Learning rate: [0.0009045084971874737]\n",
      "11:36 manifold_flow.training.trainer INFO    Epoch   4: train loss  0.02043 (mse:  0.020, nll: -2.884)\n",
      "11:36 manifold_flow.training.trainer INFO               val. loss   0.01352 (mse:  0.014, nll: -3.118)\n",
      "11:36 manifold_flow.training.trainer DEBUG   Training epoch 5 / 10\n",
      "11:36 manifold_flow.training.trainer DEBUG     Learning rate: [0.0007938926261462367]\n",
      "11:37 manifold_flow.training.trainer INFO    Epoch   5: train loss  0.01209 (mse:  0.012, nll: -3.162)\n",
      "11:37 manifold_flow.training.trainer INFO               val. loss   0.01045 (mse:  0.010, nll: -3.926)\n",
      "11:37 manifold_flow.training.trainer DEBUG   Training epoch 6 / 10\n",
      "11:37 manifold_flow.training.trainer DEBUG     Learning rate: [0.0006545084971874737]\n",
      "11:38 manifold_flow.training.trainer INFO    Epoch   6: train loss  0.01193 (mse:  0.012, nll: -3.047)\n",
      "11:38 manifold_flow.training.trainer INFO               val. loss   0.01330 (mse:  0.013, nll: -3.268)\n",
      "11:38 manifold_flow.training.trainer DEBUG   Training epoch 7 / 10\n",
      "11:38 manifold_flow.training.trainer DEBUG     Learning rate: [0.0005]\n",
      "11:39 manifold_flow.training.trainer INFO    Epoch   7: train loss  0.01081 (mse:  0.011, nll: -3.111)\n",
      "11:39 manifold_flow.training.trainer INFO               val. loss   0.01181 (mse:  0.012, nll: -2.821)\n",
      "11:39 manifold_flow.training.trainer DEBUG   Training epoch 8 / 10\n",
      "11:39 manifold_flow.training.trainer DEBUG     Learning rate: [0.00034549150281252633]\n",
      "11:40 manifold_flow.training.trainer INFO    Epoch   8: train loss  0.01040 (mse:  0.010, nll: -2.796)\n",
      "11:40 manifold_flow.training.trainer INFO               val. loss   0.00854 (mse:  0.009, nll: -2.731)\n",
      "11:40 manifold_flow.training.trainer DEBUG   Training epoch 9 / 10\n",
      "11:40 manifold_flow.training.trainer DEBUG     Learning rate: [0.00020610737385376348]\n",
      "11:41 manifold_flow.training.trainer INFO    Epoch   9: train loss  0.00913 (mse:  0.009, nll: -2.961)\n",
      "11:41 manifold_flow.training.trainer INFO               val. loss   0.00888 (mse:  0.009, nll: -2.485)\n",
      "11:41 manifold_flow.training.trainer DEBUG   Training epoch 10 / 10\n",
      "11:41 manifold_flow.training.trainer DEBUG     Learning rate: [9.549150281252633e-05]\n",
      "11:42 manifold_flow.training.trainer INFO    Epoch  10: train loss  0.00771 (mse:  0.008, nll: -2.993)\n",
      "11:42 manifold_flow.training.trainer INFO               val. loss   0.01059 (mse:  0.011, nll: -3.032)\n",
      "11:42 manifold_flow.training.trainer INFO    Early stopping after epoch 8, with loss  0.00854 compared to final loss  0.01059\n",
      "11:42 manifold_flow.training.trainer DEBUG   Training finished\n"
     ]
    },
    {
     "data": {
      "text/plain": [
       "(array([0.23731122, 0.14499042, 0.07043879, 0.02043192, 0.01209228,\n",
       "        0.01193438, 0.01080526, 0.01040174, 0.00913186, 0.00770904]),\n",
       " array([0.19981875, 0.10727807, 0.05026665, 0.01351961, 0.01044803,\n",
       "        0.01330385, 0.0118127 , 0.00854293, 0.00888041, 0.01058546]))"
      ]
     },
     "execution_count": 10,
     "metadata": {},
     "output_type": "execute_result"
    }
   ],
   "source": [
    "x_tensor = torch.from_numpy(x)\n",
    "dataset = TensorDataset(x_tensor, x_tensor)\n",
    "\n",
    "trainer = training.trainer.AutoencodingFlowTrainer(flow)\n",
    "trainer.train(\n",
    "    dataset,\n",
    "    [training.losses.mse, training.losses.nll],\n",
    "    loss_weights=[1., 0.],\n",
    "    epochs=10,\n",
    ")"
   ]
  },
  {
   "cell_type": "code",
   "execution_count": 45,
   "metadata": {},
   "outputs": [
    {
     "name": "stderr",
     "output_type": "stream",
     "text": [
      "11:59 manifold_flow.training.trainer DEBUG   Initialising training data\n",
      "11:59 manifold_flow.training.trainer DEBUG   Setting up optimizer\n",
      "11:59 manifold_flow.training.trainer DEBUG   Setting up LR scheduler\n",
      "11:59 manifold_flow.training.trainer DEBUG   Using early stopping with infinite patience\n",
      "11:59 manifold_flow.training.trainer DEBUG   Will print training progress every 1 epochs\n",
      "11:59 manifold_flow.training.trainer DEBUG   Beginning main training loop\n",
      "11:59 manifold_flow.training.trainer DEBUG   Training epoch 1 / 10\n",
      "11:59 manifold_flow.training.trainer DEBUG     Learning rate: [0.001]\n",
      "12:00 manifold_flow.training.trainer INFO    Epoch   1: train loss -0.00443 (mse:  0.026, nll: -3.054)\n",
      "12:00 manifold_flow.training.trainer INFO               val. loss  -0.01205 (mse:  0.017, nll: -2.928)\n",
      "12:00 manifold_flow.training.trainer DEBUG   Training epoch 2 / 10\n",
      "12:00 manifold_flow.training.trainer DEBUG     Learning rate: [0.001]\n",
      "12:01 manifold_flow.training.trainer INFO    Epoch   2: train loss  0.00021 (mse:  0.034, nll: -3.392)\n",
      "12:01 manifold_flow.training.trainer INFO               val. loss  -0.01027 (mse:  0.018, nll: -2.800)\n",
      "12:01 manifold_flow.training.trainer DEBUG   Training epoch 3 / 10\n",
      "12:01 manifold_flow.training.trainer DEBUG     Learning rate: [0.0009755282581475768]\n",
      "12:02 manifold_flow.training.trainer INFO    Epoch   3: train loss -0.01400 (mse:  0.013, nll: -2.712)\n",
      "12:02 manifold_flow.training.trainer INFO               val. loss  -0.02035 (mse:  0.005, nll: -2.531)\n",
      "12:02 manifold_flow.training.trainer DEBUG   Training epoch 4 / 10\n",
      "12:02 manifold_flow.training.trainer DEBUG     Learning rate: [0.0009045084971874737]\n",
      "12:03 manifold_flow.training.trainer INFO    Epoch   4: train loss -0.00058 (mse:  0.027, nll: -2.715)\n",
      "12:03 manifold_flow.training.trainer INFO               val. loss  -0.01300 (mse:  0.022, nll: -3.498)\n",
      "12:03 manifold_flow.training.trainer DEBUG   Training epoch 5 / 10\n",
      "12:03 manifold_flow.training.trainer DEBUG     Learning rate: [0.0007938926261462367]\n",
      "12:04 manifold_flow.training.trainer INFO    Epoch   5: train loss  0.03246 (mse:  0.066, nll: -3.380)\n",
      "12:04 manifold_flow.training.trainer INFO               val. loss  -0.01389 (mse:  0.010, nll: -2.405)\n",
      "12:04 manifold_flow.training.trainer DEBUG   Training epoch 6 / 10\n",
      "12:04 manifold_flow.training.trainer DEBUG     Learning rate: [0.0006545084971874737]\n",
      "12:05 manifold_flow.training.trainer INFO    Epoch   6: train loss -0.01575 (mse:  0.011, nll: -2.654)\n",
      "12:05 manifold_flow.training.trainer INFO               val. loss  -0.01930 (mse:  0.010, nll: -2.943)\n",
      "12:05 manifold_flow.training.trainer DEBUG   Training epoch 7 / 10\n",
      "12:05 manifold_flow.training.trainer DEBUG     Learning rate: [0.0005]\n",
      "12:06 manifold_flow.training.trainer INFO    Epoch   7: train loss -0.00866 (mse:  0.017, nll: -2.569)\n",
      "12:06 manifold_flow.training.trainer INFO               val. loss  -0.01830 (mse:  0.007, nll: -2.525)\n",
      "12:06 manifold_flow.training.trainer DEBUG   Training epoch 8 / 10\n",
      "12:06 manifold_flow.training.trainer DEBUG     Learning rate: [0.00034549150281252633]\n",
      "12:07 manifold_flow.training.trainer INFO    Epoch   8: train loss -0.00961 (mse:  0.013, nll: -2.294)\n",
      "12:07 manifold_flow.training.trainer INFO               val. loss  -0.01400 (mse:  0.008, nll: -2.191)\n",
      "12:07 manifold_flow.training.trainer DEBUG   Training epoch 9 / 10\n",
      "12:07 manifold_flow.training.trainer DEBUG     Learning rate: [0.00020610737385376348]\n",
      "12:08 manifold_flow.training.trainer INFO    Epoch   9: train loss -0.01506 (mse:  0.008, nll: -2.321)\n",
      "12:08 manifold_flow.training.trainer INFO               val. loss  -0.01894 (mse:  0.006, nll: -2.450)\n",
      "12:08 manifold_flow.training.trainer DEBUG   Training epoch 10 / 10\n",
      "12:08 manifold_flow.training.trainer DEBUG     Learning rate: [9.549150281252633e-05]\n",
      "12:09 manifold_flow.training.trainer INFO    Epoch  10: train loss -0.01810 (mse:  0.007, nll: -2.537)\n",
      "12:09 manifold_flow.training.trainer INFO               val. loss  -0.02130 (mse:  0.005, nll: -2.585)\n",
      "12:09 manifold_flow.training.trainer INFO    Early stopping did not improve performance\n",
      "12:09 manifold_flow.training.trainer DEBUG   Training finished\n"
     ]
    },
    {
     "data": {
      "text/plain": [
       "(array([-0.00442594,  0.00021242, -0.0139992 , -0.00057945,  0.03246357,\n",
       "        -0.0157541 , -0.00865989, -0.00961033, -0.01505697, -0.01809554]),\n",
       " array([-0.01204924, -0.01027252, -0.02034538, -0.01300434, -0.013886  ,\n",
       "        -0.01930475, -0.01830375, -0.01400179, -0.0189436 , -0.02129557]))"
      ]
     },
     "execution_count": 45,
     "metadata": {},
     "output_type": "execute_result"
    }
   ],
   "source": [
    "trainer.train(\n",
    "    dataset,\n",
    "    [training.losses.mse, training.losses.nll],\n",
    "    loss_weights=[1., 0.01],\n",
    "    epochs=10,\n",
    ")"
   ]
  },
  {
   "cell_type": "markdown",
   "metadata": {},
   "source": [
    "## Manifold flow performance"
   ]
  },
  {
   "cell_type": "markdown",
   "metadata": {},
   "source": [
    "### Generation"
   ]
  },
  {
   "cell_type": "code",
   "execution_count": 46,
   "metadata": {},
   "outputs": [
    {
     "data": {
      "image/png": "[encoded data removed]",
      "text/plain": [
       "<Figure size 360x360 with 1 Axes>"
      ]
     },
     "metadata": {
      "needs_background": "light"
     },
     "output_type": "display_data"
    }
   ],
   "source": [
    "x_gen = flow.sample(n=1000)\n",
    "\n",
    "# res = 101\n",
    "# x_range = np.linspace(-1.2,1.2,res)\n",
    "# y_range = np.linspace(-1.2,1.2,res)\n",
    "# xx, yy = np.meshgrid(x_range, y_range)\n",
    "# x_grid = np.concatenate((xx.reshape((-1,1)), yy.reshape((-1,1))), axis=1)\n",
    "# logp_grid = true_logp(x_grid, epsilon, latent_dim, phases, widths).reshape((res, res))\n",
    "# logp_grid[~np.isfinite(logp_grid)] = -1000000.\n",
    "\n",
    "# zmin, zmax = -100., 10.\n",
    "fig = plt.figure(figsize=(5,5))\n",
    "ax = plt.gca()\n",
    "\n",
    "# pcm = plt.pcolormesh(\n",
    "#     x_range, y_range,\n",
    "#     np.clip(logp_grid, zmin, zmax),\n",
    "#     cmap=\"viridis\", norm=matplotlib.colors.Normalize(zmin, zmax)\n",
    "# )\n",
    "# cb = plt.colorbar(pcm, extend=\"both\")\n",
    "plt.scatter(x_gen.detach().numpy()[:,0], x_gen.detach().numpy()[:,1], s=15., c=\"black\")\n",
    "\n",
    "plt.xlim(-2.0,2.0)\n",
    "plt.ylim(-2.0,2.0)\n",
    "plt.xlabel(\"$x_1$\")\n",
    "plt.ylabel(\"$x_2$\")\n",
    "# cb.set_label(\"$\\log \\; p(x)$\")\n",
    "plt.tight_layout()\n",
    "\n",
    "plt.savefig(\"spherical_gaussian_2d_generation.pdf\")"
   ]
  },
  {
   "cell_type": "markdown",
   "metadata": {},
   "source": [
    "### Reconstruction"
   ]
  },
  {
   "cell_type": "code",
   "execution_count": 47,
   "metadata": {},
   "outputs": [
    {
     "data": {
      "image/png": "[encoded data removed]",
      "text/plain": [
       "<Figure size 360x360 with 1 Axes>"
      ]
     },
     "metadata": {
      "needs_background": "light"
     },
     "output_type": "display_data"
    }
   ],
   "source": [
    "x_in = simulator(5*epsilon, latent_dim, data_dim, 100, phases, widths)\n",
    "x_in = torch.FloatTensor(x_in)\n",
    "x_out = flow(x_in)[0]\n",
    "x_in, x_out = x_in.detach().numpy(), x_out.detach().numpy()\n",
    "dx = x_out - x_in\n",
    "\n",
    "fig = plt.figure(figsize=(5,5))\n",
    "ax = plt.gca()\n",
    "plt.scatter(x_in[:,0], x_in[:,1], s=15., c=\"C1\")\n",
    "plt.scatter(x_out[:,0], x_out[:,1], s=15., c=\"C0\")\n",
    "plt.quiver(\n",
    "    x_in[:,0], x_in[:,1], dx[:,0], dx[:,1],\n",
    "    angles='xy', scale_units='xy', scale=1., width=2.e-3, alpha=0.25\n",
    ")\n",
    "\n",
    "# plt.xlim(-1.2,1.2)\n",
    "# plt.ylim(-1.2,1.2)\n",
    "plt.xlabel(\"$x_1$\")\n",
    "plt.ylabel(\"$x_2$\")\n",
    "# cb.set_label(\"$\\log \\; p(x)$\")\n",
    "plt.tight_layout()\n",
    "\n",
    "plt.savefig(\"spherical_gaussian_2d_reconstruction.pdf\")\n"
   ]
  },
  {
   "cell_type": "markdown",
   "metadata": {},
   "source": [
    "### Log likelihood"
   ]
  },
  {
   "cell_type": "code",
   "execution_count": 51,
   "metadata": {
    "collapsed": true
   },
   "outputs": [],
   "source": [
    "res = 51\n",
    "x_range = np.linspace(-1.5,1.5,res)\n",
    "y_range = np.linspace(-1.5,1.5,res)\n",
    "xx, yy = np.meshgrid(x_range, y_range)\n",
    "x_grid = np.concatenate((xx.reshape((-1,1)), yy.reshape((-1,1))), axis=1)\n",
    "x_grid_tensor = torch.FloatTensor(x_grid)\n",
    "logp_grid = flow.log_prob(x_grid_tensor)\n"
   ]
  },
  {
   "cell_type": "code",
   "execution_count": 52,
   "metadata": {},
   "outputs": [
    {
     "data": {
      "image/png": "[encoded data removed]",
      "text/plain": [
       "<Figure size 360x288 with 2 Axes>"
      ]
     },
     "metadata": {
      "needs_background": "light"
     },
     "output_type": "display_data"
    }
   ],
   "source": [
    "zmin, zmax = -2., 12.\n",
    "fig = plt.figure(figsize=(5,4))\n",
    "ax = plt.gca()\n",
    "\n",
    "pcm = plt.pcolormesh(\n",
    "    x_range, y_range,\n",
    "    np.clip(logp_grid.detach().numpy().reshape(res, res), zmin, zmax),\n",
    "    cmap=\"viridis\", norm=matplotlib.colors.Normalize(zmin, zmax)\n",
    ")\n",
    "cb = plt.colorbar(pcm, extend=\"both\")\n",
    "#plt.scatter(x[::100,0], x[::100,1], s=15., c=\"black\")\n",
    "plt.scatter(x_gen.detach().numpy()[:,0], x_gen.detach().numpy()[:,1], s=15., c=\"black\")\n",
    "\n",
    "plt.xlim(-1.5,1.5)\n",
    "plt.ylim(-1.5,1.5)\n",
    "plt.xlabel(\"$x_1$\")\n",
    "plt.ylabel(\"$x_2$\")\n",
    "cb.set_label(\"$\\log \\; \\hat{p}(x)$\")\n",
    "plt.tight_layout()\n",
    "\n",
    "plt.savefig(\"spherical_gaussian_2d_log_prob.pdf\")"
   ]
  },
  {
   "cell_type": "markdown",
   "metadata": {},
   "source": [
    "## Latent variables"
   ]
  },
  {
   "cell_type": "code",
   "execution_count": 61,
   "metadata": {
    "collapsed": true
   },
   "outputs": [],
   "source": [
    "res = 51\n",
    "x_range = np.linspace(-100.,100.,res)\n",
    "y_range = np.linspace(-100.,100.,res)\n",
    "xx, yy = np.meshgrid(x_range, y_range)\n",
    "x_grid = np.concatenate((xx.reshape((-1,1)), yy.reshape((-1,1))), axis=1)\n",
    "x_grid_tensor = torch.FloatTensor(x_grid)\n",
    "\n",
    "_, _, u = flow(x_grid_tensor)\n"
   ]
  },
  {
   "cell_type": "code",
   "execution_count": 64,
   "metadata": {},
   "outputs": [
    {
     "data": {
      "image/png": "[encoded data removed]",
      "text/plain": [
       "<Figure size 360x288 with 2 Axes>"
      ]
     },
     "metadata": {
      "needs_background": "light"
     },
     "output_type": "display_data"
    }
   ],
   "source": [
    "zmin, zmax = -20., 20.\n",
    "fig = plt.figure(figsize=(5,4))\n",
    "ax = plt.gca()\n",
    "\n",
    "pcm = plt.pcolormesh(\n",
    "    x_range, y_range,\n",
    "    np.clip(u.detach().numpy().reshape(res, res), zmin, zmax),\n",
    "    cmap=\"viridis\", norm=matplotlib.colors.Normalize(zmin, zmax)\n",
    ")\n",
    "cb = plt.colorbar(pcm, extend=\"both\")\n",
    "#plt.scatter(x[::100,0], x[::100,1], s=15., c=\"black\")\n",
    "plt.scatter(x_gen.detach().numpy()[:,0], x_gen.detach().numpy()[:,1], s=5., c=\"black\")\n",
    "\n",
    "plt.xlim(-100.,100.)\n",
    "plt.ylim(-100.,100.)\n",
    "plt.xlabel(\"$x_1$\")\n",
    "plt.ylabel(\"$x_2$\")\n",
    "cb.set_label(\"$\\log \\; \\hat{p}(x)$\")\n",
    "plt.tight_layout()\n",
    "\n",
    "plt.savefig(\"spherical_gaussian_2d_latent.pdf\")"
   ]
  },
  {
   "cell_type": "code",
   "execution_count": null,
   "metadata": {
    "collapsed": true
   },
   "outputs": [],
   "source": []
  }
 ],
 "metadata": {
  "kernelspec": {
   "display_name": "Python (ML)",
   "language": "python",
   "name": "ml"
  },
  "language_info": {
   "codemirror_mode": {
    "name": "ipython",
    "version": 3
   },
   "file_extension": ".py",
   "mimetype": "text/x-python",
   "name": "python",
   "nbconvert_exporter": "python",
   "pygments_lexer": "ipython3",
   "version": "3.6.8"
  }
 },
 "nbformat": 4,
 "nbformat_minor": 2
}
