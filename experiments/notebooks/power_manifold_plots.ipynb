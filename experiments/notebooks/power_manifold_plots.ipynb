{
 "cells": [
  {
   "cell_type": "markdown",
   "metadata": {},
   "source": [
    "# Power manifold"
   ]
  },
  {
   "cell_type": "code",
   "execution_count": 1,
   "metadata": {},
   "outputs": [],
   "source": [
    "%matplotlib inline\n",
    "\n",
    "import sys\n",
    "import numpy as np\n",
    "import matplotlib\n",
    "import torch\n",
    "import logging\n",
    "from matplotlib import pyplot as plt, cm\n",
    "from matplotlib.colors import LightSource\n",
    "from mpl_toolkits.mplot3d import Axes3D\n",
    "\n",
    "sys.path.append(\"../../\")\n",
    "from experiments.simulators import PowerManifoldSimulator\n",
    "from experiments.utils.models import create_vector_transform\n",
    "from manifold_flow.flows import ManifoldFlow\n",
    "import plot_settings as ps\n",
    "\n",
    "logging.basicConfig(\n",
    "    format=\"%(asctime)-5.5s %(name)-30.30s %(levelname)-7.7s %(message)s\",\n",
    "    datefmt=\"%H:%M\",\n",
    "    level=logging.DEBUG,\n",
    ")\n",
    "for key in logging.Logger.manager.loggerDict:\n",
    "    if \"experiments\" not in key and \"manifold_flow\" not in key:\n",
    "        logging.getLogger(key).setLevel(logging.WARNING)"
   ]
  },
  {
   "cell_type": "code",
   "execution_count": 2,
   "metadata": {},
   "outputs": [],
   "source": [
    "ps.setup()"
   ]
  },
  {
   "cell_type": "markdown",
   "metadata": {},
   "source": [
    "## Set up simulator"
   ]
  },
  {
   "cell_type": "code",
   "execution_count": 3,
   "metadata": {},
   "outputs": [],
   "source": [
    "sim = PowerManifoldSimulator(\n",
    "    draw_constants=False,\n",
    "    filename=\"../data/samples/power/manifold.npz\"\n",
    ")\n"
   ]
  },
  {
   "cell_type": "markdown",
   "metadata": {},
   "source": [
    "## Load flows"
   ]
  },
  {
   "cell_type": "code",
   "execution_count": 4,
   "metadata": {},
   "outputs": [],
   "source": [
    "def load_model(filename):\n",
    "    outer_transform = create_vector_transform(\n",
    "        3,\n",
    "        5,\n",
    "        linear_transform_type=\"permutation\",\n",
    "        base_transform_type=\"rq-coupling\",\n",
    "        context_features=None,\n",
    "        dropout_probability=0.,\n",
    "        tail_bound=6.,\n",
    "        num_bins=10,\n",
    "    )\n",
    "    inner_transform = create_vector_transform(\n",
    "        2,\n",
    "        5,\n",
    "        linear_transform_type=\"permutation\",\n",
    "        base_transform_type=\"rq-coupling\",\n",
    "        context_features=sim.parameter_dim(),\n",
    "        dropout_probability=0.,\n",
    "        tail_bound=6.,\n",
    "        num_bins=10,\n",
    "    )\n",
    "\n",
    "    model = ManifoldFlow(\n",
    "        data_dim=3,\n",
    "        latent_dim=2,\n",
    "        outer_transform=outer_transform,\n",
    "        inner_transform=inner_transform,\n",
    "        apply_context_to_outer=False,\n",
    "    )\n",
    "    \n",
    "    model.load_state_dict(\n",
    "        torch.load(\"../data/models/{}.pt\".format(filename), map_location=torch.device(\"cpu\"))\n",
    "    )\n",
    "    _ = model.eval()\n",
    "    \n",
    "    return model"
   ]
  },
  {
   "cell_type": "code",
   "execution_count": 5,
   "metadata": {},
   "outputs": [
    {
     "name": "stderr",
     "output_type": "stream",
     "text": [
      "18:07 manifold_flow.transforms.proje DEBUG   Set up projection from vector with dimension 3 to vector with dimension 2\n",
      "18:07 manifold_flow.flows.base       DEBUG   Flow has 0.4 M parameters (0.4 M trainable) with an estimated size of 1.8 MB\n",
      "18:07 manifold_flow.transforms.proje DEBUG   Set up projection from vector with dimension 3 to vector with dimension 2\n",
      "18:07 manifold_flow.flows.base       DEBUG   Flow has 0.4 M parameters (0.4 M trainable) with an estimated size of 1.8 MB\n",
      "18:07 manifold_flow.transforms.proje DEBUG   Set up projection from vector with dimension 3 to vector with dimension 2\n",
      "18:07 manifold_flow.flows.base       DEBUG   Flow has 0.4 M parameters (0.4 M trainable) with an estimated size of 1.8 MB\n"
     ]
    }
   ],
   "source": [
    "mlfa = load_model(\"mf_2_power_alternate_march_run2\")\n",
    "pie = load_model(\"pie_2_power_march_run1\")\n",
    "mlfot = load_model(\"gamf_2_power_march_run2\")\n"
   ]
  },
  {
   "cell_type": "markdown",
   "metadata": {},
   "source": [
    "## Get data"
   ]
  },
  {
   "cell_type": "code",
   "execution_count": 6,
   "metadata": {},
   "outputs": [],
   "source": [
    "def make_grid(boundary, res):\n",
    "    grid_each = np.linspace(-boundary, boundary, res)\n",
    "    x, y = np.meshgrid(grid_each, grid_each)\n",
    "    xy = np.vstack((x.flatten(), y.flatten())).T\n",
    "    return xy"
   ]
  },
  {
   "cell_type": "code",
   "execution_count": 7,
   "metadata": {},
   "outputs": [],
   "source": [
    "thetas = [-1., 0., 1.]\n",
    "boundary = 5.\n",
    "res = 80\n",
    "\n",
    "z_grid = make_grid(boundary, res)\n",
    "f_grid = sim._fz(z_grid).flatten()\n",
    "x_grid = sim._transform_z_to_x(z_grid)"
   ]
  },
  {
   "cell_type": "code",
   "execution_count": 8,
   "metadata": {},
   "outputs": [],
   "source": [
    "true_logp_grid = np.array(\n",
    "    [sim._log_density_z(z_grid, parameters=theta*np.ones((res**2,1))).flatten() for theta in thetas]\n",
    ")\n"
   ]
  },
  {
   "cell_type": "code",
   "execution_count": 9,
   "metadata": {},
   "outputs": [],
   "source": [
    "def eval_model(model, batchsize=400, thetas=thetas):\n",
    "    print(\"Let's go!\")\n",
    "    n_batches = (res**2 - 1) // batchsize + 1\n",
    "\n",
    "    model_x_grid = []\n",
    "    model_logp_grid = []\n",
    "\n",
    "    for i_theta, theta in enumerate(thetas):\n",
    "        print(\"Theta {} / {}\".format(i_theta + 1, len(thetas)))\n",
    "        for i in range(n_batches):\n",
    "            print(\"Batch {} / {}\".format(i + 1, n_batches))\n",
    "            x_batch = x_grid[i*batchsize:(i+1)*batchsize]\n",
    "            n_batch = len(x_batch)\n",
    "\n",
    "            theta_ = torch.tensor(theta*np.ones((n_batch,1)), dtype=torch.float)\n",
    "            x_ = torch.tensor(x_batch, dtype=torch.float)\n",
    "\n",
    "            x_reco_, logp_, u_ = model(x_, context=theta_)\n",
    "\n",
    "            model_x_grid.append(x_reco_.detach().numpy().flatten())\n",
    "            model_logp_grid.append(logp_.detach().numpy().flatten())\n",
    "\n",
    "    model_logp_grid = np.hstack(model_logp_grid).reshape((len(thetas), -1))\n",
    "    model_x_grid = np.hstack(model_x_grid).reshape((len(thetas), -1, 3))\n",
    "\n",
    "    return model_x_grid, model_logp_grid\n"
   ]
  },
  {
   "cell_type": "code",
   "execution_count": null,
   "metadata": {},
   "outputs": [
    {
     "name": "stdout",
     "output_type": "stream",
     "text": [
      "Let's go!\n",
      "Theta 1 / 3\n",
      "Batch 1 / 16\n",
      "Batch 2 / 16\n",
      "Batch 3 / 16\n",
      "Batch 4 / 16\n",
      "Batch 5 / 16\n",
      "Batch 6 / 16\n"
     ]
    }
   ],
   "source": [
    "mlfa_x_grid, mlfa_logp_grid = eval_model(mlfa)\n",
    "mlfot_x_grid, mlfot_logp_grid = eval_model(mlfot, thetas=[0.])\n",
    "pie_x_grid, pie_logp_grid = eval_model(pie, thetas=[0.])"
   ]
  },
  {
   "cell_type": "markdown",
   "metadata": {},
   "source": [
    "## Plot"
   ]
  },
  {
   "cell_type": "code",
   "execution_count": null,
   "metadata": {},
   "outputs": [],
   "source": [
    "xs = [\n",
    "    x_grid, pie_x_grid[0], mlfa_x_grid[1], mlfot_x_grid[0],\n",
    "    x_grid, mlfa_x_grid[0], x_grid, mlfa_x_grid[2]\n",
    "]\n",
    "logps = [\n",
    "    true_logp_grid[1], pie_logp_grid[0], mlfa_logp_grid[1], mlfot_logp_grid[0],\n",
    "    true_logp_grid[0], mlfa_logp_grid[0], true_logp_grid[2], mlfa_logp_grid[2]\n",
    "]\n",
    "labels = [\n",
    "    r\"Ground truth, $\\theta = 0$\",\n",
    "    r\"PIE, $\\theta = 0$\",\n",
    "    r\"MLF-A, $\\theta = 0$\",\n",
    "    r\"MLF-OT, $\\theta = 0$\",\n",
    "    #\n",
    "    r\"Ground truth, $\\theta = -1$\",\n",
    "    r\"MLF-A, $\\theta = -1$\",\n",
    "    r\"Ground truth, $\\theta = 1$\",\n",
    "    r\"MLF-A, $\\theta = 1$\"\n",
    "]\n"
   ]
  },
  {
   "cell_type": "code",
   "execution_count": null,
   "metadata": {},
   "outputs": [],
   "source": [
    "import matplotlib\n",
    "from matplotlib import pyplot as plt\n",
    "from matplotlib import gridspec, cm\n",
    "\n",
    "\n",
    "def grid(nx=4, ny=2, height=0.5*ps.TEXTWIDTH, large_margin=0.14, small_margin=0.03, sep=0.02, lb_space=True):\n",
    "    \"\"\" Simple grid, no colorbars, size specified by height \"\"\"\n",
    "\n",
    "    # Geometry\n",
    "    left = large_margin if lb_space else small_margin\n",
    "    right = small_margin\n",
    "    top = small_margin\n",
    "    bottom = large_margin if lb_space else small_margin\n",
    "\n",
    "    panel_size = (1. - top - bottom - (ny - 1)*sep)/ny\n",
    "    width = height*(left + nx*panel_size + (nx-1)*sep + right)\n",
    "\n",
    "    # wspace and hspace are complicated beasts\n",
    "    avg_width_abs = (height*panel_size * nx * ny) / (nx * ny + ny)\n",
    "    avg_height_abs = height*panel_size\n",
    "    wspace = sep * height / avg_width_abs\n",
    "    hspace = sep * height / avg_height_abs\n",
    "\n",
    "    # Set up figure\n",
    "    fig = plt.figure(figsize=(width, height))\n",
    "    gs = gridspec.GridSpec(ny, nx, width_ratios=[1.]*nx, height_ratios=[1.] * ny)\n",
    "    plt.subplots_adjust(\n",
    "        left=left * height / width,\n",
    "        right=1. - right * height / width,\n",
    "        bottom=bottom,\n",
    "        top=1. - top,\n",
    "        wspace=wspace,\n",
    "        hspace=hspace,\n",
    "    )\n",
    "    return fig, gs\n",
    "\n",
    "\n",
    "def grid_width(nx=4, ny=2, width=ps.TEXTWIDTH, large_margin=0.14, small_margin=0.03, sep=0.02, lb_space=True):\n",
    "    \"\"\" Simple grid, no colorbars, size specified by width \"\"\"\n",
    "\n",
    "    left = large_margin if lb_space else small_margin\n",
    "    right = small_margin\n",
    "    top = small_margin\n",
    "    bottom = large_margin if lb_space else small_margin\n",
    "    panel_size = (1. - top - bottom - (ny - 1)*sep)/ny\n",
    "    height = width / (left + nx*panel_size + (nx - 1)*sep + right)\n",
    "    return grid(nx, ny, height, large_margin, small_margin, sep, lb_space=lb_space)\n"
   ]
  },
  {
   "cell_type": "code",
   "execution_count": null,
   "metadata": {},
   "outputs": [],
   "source": [
    "cmin, cmax = -10., -2.\n",
    "\n",
    "def cmap(vals):\n",
    "    return ps.CMAP(np.clip((vals - cmin) / (cmax - cmin), 0., 1.))\n",
    "\n",
    "\n",
    "fig, gs = grid_width(4, 2, sep=0.03, lb_space=False)\n",
    "\n",
    "for i, (x, logp, label) in enumerate(zip(xs, logps, labels)):\n",
    "    ax = plt.subplot(gs[i], projection=\"3d\")\n",
    "    \n",
    "    rgb = cmap(logp).reshape((res, res, 4))\n",
    "    ls = LightSource(azdeg=90, altdeg=75)\n",
    "    rgb_shaded = ls.shade_rgb(\n",
    "        rgb[:,:,:3], elevation=x[:,2].reshape((res, res)), fraction=1.0, vert_exag=0.5, blend_mode=\"soft\"\n",
    "    )\n",
    "    \n",
    "    ax.plot_surface(\n",
    "        x[:,0].reshape((res, res)),\n",
    "        x[:,1].reshape((res, res)),\n",
    "        x[:,2].reshape((res, res)),\n",
    "        facecolors=rgb_shaded,\n",
    "        rstride=1, cstride = 1,\n",
    "        linewidth=1.,\n",
    "        shade=False\n",
    "    )\n",
    "\n",
    "    ax.set_xlim3d(-boundary, boundary)\n",
    "    ax.set_ylim3d(-boundary, boundary)\n",
    "    ax.set_zlim3d(-boundary, boundary)\n",
    "\n",
    "    ax.set_title(label, fontsize=9)\n",
    "#     ax.set_xlabel(\"x\")\n",
    "#     ax.set_ylabel(\"y\")\n",
    "#     ax.set_zlabel(\"z\")\n",
    "    # ax._axis3don = False\n",
    "    ax.set_xticklabels([\"\"]*3)\n",
    "    ax.set_yticklabels([\"\"]*3)\n",
    "    ax.set_zticklabels([\"\"]*3)\n",
    "    \n",
    "    ax.view_init(50, 60)\n",
    "\n",
    "plt.savefig(\"../figures/power_manifold.pdf\")\n"
   ]
  },
  {
   "cell_type": "markdown",
   "metadata": {},
   "source": [
    "## Other plots"
   ]
  },
  {
   "cell_type": "code",
   "execution_count": null,
   "metadata": {},
   "outputs": [],
   "source": [
    "# cmin, cmax = -6., 6.\n",
    "\n",
    "# fig = plt.figure(figsize=(10,4))\n",
    "\n",
    "# ax = fig.add_subplot(1,2, 1)\n",
    "# sc = ax.imshow(\n",
    "#     f_grid.reshape((res, res)),\n",
    "#     extent=(-boundary, boundary, -boundary, boundary),\n",
    "#     cmap=\"RdYlBu\",\n",
    "#     vmin=cmin,\n",
    "#     vmax=cmax,\n",
    "#     origin=\"lower\"\n",
    "# )\n",
    "# cbar = plt.colorbar(sc)\n",
    "# ax.set_xlim(-boundary, boundary)\n",
    "# ax.set_ylim(-boundary, boundary)\n",
    "\n",
    "# ax = fig.add_subplot(1,2, 2)\n",
    "# sc = ax.imshow(\n",
    "#     logp_grid.reshape((res, res)),\n",
    "#     extent=(-boundary, boundary, -boundary, boundary),\n",
    "#     cmap=\"viridis\",\n",
    "#     vmin=np.max(logp_grid),\n",
    "#     vmax=np.max(logp_grid)-10.,\n",
    "#     origin=\"lower\"\n",
    "# )\n",
    "# cbar = plt.colorbar(sc)\n",
    "# ax.set_xlim(-boundary, boundary)\n",
    "# ax.set_ylim(-boundary, boundary)\n",
    "\n",
    "# plt.tight_layout()\n",
    "# plt.show()\n"
   ]
  },
  {
   "cell_type": "code",
   "execution_count": null,
   "metadata": {},
   "outputs": [],
   "source": [
    "# fig = plt.figure(figsize=(5,5))\n",
    "\n",
    "# ax = fig.add_subplot(1,1,1, projection=\"3d\")\n",
    "# ax.plot_surface(\n",
    "#     x_grid[:,0].reshape((res, res)),\n",
    "#     x_grid[:,1].reshape((res, res)),\n",
    "#     x_grid[:,2].reshape((res, res)),\n",
    "#     color=\"orchid\",\n",
    "#     rstride=1, cstride = 1,\n",
    "#     linewidth=1.\n",
    "# )\n",
    "\n",
    "# ax.set_xlim3d(-boundary, boundary)\n",
    "# ax.set_ylim3d(-boundary, boundary)\n",
    "# ax.set_zlim3d(-boundary, boundary)\n",
    "\n",
    "# ax.set_xlabel(\"x\")\n",
    "# ax.set_ylabel(\"y\")\n",
    "# ax.set_zlabel(\"z\")\n",
    "\n",
    "# plt.tight_layout()\n",
    "# plt.savefig(\"../figures/power_manifold.pdf\")"
   ]
  },
  {
   "cell_type": "code",
   "execution_count": null,
   "metadata": {},
   "outputs": [],
   "source": []
  }
 ],
 "metadata": {
  "kernelspec": {
   "display_name": "Python (ML)",
   "language": "python",
   "name": "ml"
  },
  "language_info": {
   "codemirror_mode": {
    "name": "ipython",
    "version": 3
   },
   "file_extension": ".py",
   "mimetype": "text/x-python",
   "name": "python",
   "nbconvert_exporter": "python",
   "pygments_lexer": "ipython3",
   "version": "3.6.8"
  }
 },
 "nbformat": 4,
 "nbformat_minor": 2
}
