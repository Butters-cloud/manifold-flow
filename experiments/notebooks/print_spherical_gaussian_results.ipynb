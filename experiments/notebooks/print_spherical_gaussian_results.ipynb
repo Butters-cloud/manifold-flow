{
 "cells": [
  {
   "cell_type": "markdown",
   "metadata": {},
   "source": [
    "# Spherical Gaussian experiment: generative results"
   ]
  },
  {
   "cell_type": "markdown",
   "metadata": {},
   "source": [
    "## Setup"
   ]
  },
  {
   "cell_type": "code",
   "execution_count": 1,
   "metadata": {},
   "outputs": [],
   "source": [
    "import sys\n",
    "import numpy as np\n",
    "import torch\n",
    "from torch.utils.data import TensorDataset\n",
    "import logging\n",
    "from sklearn.metrics import roc_auc_score\n",
    "\n",
    "sys.path.append(\"../../\")\n",
    "\n",
    "logging.basicConfig(\n",
    "    format=\"%(asctime)-5.5s %(name)-30.30s %(levelname)-7.7s %(message)s\",\n",
    "    datefmt=\"%H:%M\",\n",
    "    level=logging.DEBUG,\n",
    ")\n",
    "logger = logging.getLogger(__name__)\n",
    "# Output of all other modules (e.g. matplotlib)\n",
    "for key in logging.Logger.manager.loggerDict:\n",
    "    if \"manifold_flow\" not in key:\n",
    "        logging.getLogger(key).setLevel(logging.WARNING)\n"
   ]
  },
  {
   "cell_type": "markdown",
   "metadata": {},
   "source": [
    "## Load results"
   ]
  },
  {
   "cell_type": "code",
   "execution_count": 2,
   "metadata": {},
   "outputs": [],
   "source": [
    "setup_filenames = [\n",
    "    \"2_3_0.010\",\n",
    "    \"2_3_0.001\",\n",
    "    \"2_3_0.100\",\n",
    "]\n",
    "setup_labels = [\n",
    "    \"ε = 0.01\",\n",
    "    \"ε = 0.001\",\n",
    "    \"ε = 0.1\",\n",
    "]"
   ]
  },
  {
   "cell_type": "code",
   "execution_count": 3,
   "metadata": {},
   "outputs": [],
   "source": [
    "algo_filenames = []\n",
    "algo_additionals = []\n",
    "algo_labels = []\n",
    "\n",
    "def add_algo(filename, add, label):\n",
    "    algo_filenames.append(filename)\n",
    "    algo_additionals.append(add)\n",
    "    algo_labels.append(label)\n",
    "    \n",
    "    \n",
    "add_algo(\"flow\", \"_small\", \"Flow\")\n",
    "add_algo(\"flow\", \"_small_long\", \"Flow (long)\")\n",
    "add_algo(\"flow\", \"_small_shallow_long\", \"Flow (shallow, long)\")\n",
    "\n",
    "add_algo(\"pie\", \"_small\", \"PIE\") \n",
    "add_algo(\"pie\", \"_small_long\", \"PIE (long)\") \n",
    "add_algo(\"pie\", \"_small_shallow_long\", \"PIE (shallow, long)\") \n",
    "\n",
    "add_algo(\"mf\", \"_small\", \"MAD AF\")\n",
    "add_algo(\"mf\", \"_small_noprepost\", \"MAD AF (no pre/post)\")\n",
    "add_algo(\"mf\", \"_small_complex\", \"MAD AF (complex)\") \n",
    "add_algo(\"mf\", \"_small_long\", \"MAD AF (long)\")\n",
    "add_algo(\"mf\", \"_small_shallow_long\", \"MAD AF (shallow, long)\")\n",
    "\n",
    "add_algo(\"gamf\", \"_small_largebs\", \"OT MAD AF (Sinkhorn)\")\n",
    "add_algo(\"gamf\", \"_small_ged_largebs\", \"OT MAD AF (GED)\") \n",
    "add_algo(\"gamf\", \"_small_ged_largebs_long\", \"OT MAD AF (GED, long)\") \n",
    "add_algo(\"gamf\", \"_small_ged_largebs_shallow_long\", \"OT MAD AF (GED, shallow, long)\") \n",
    "\n",
    "add_algo(\"pie_specified\", \"_small\", \"Prescr. PIE\") \n",
    "add_algo(\"pie_specified\", \"_small_long\", \"Prescr. PIE (long)\") \n",
    "add_algo(\"pie_specified\", \"_small_shallow_long\", \"Prescr. PIE (shallow, long)\") \n",
    "\n",
    "add_algo(\"mf_specified\", \"_small\", \"Prescr. MAD AF\") \n",
    "add_algo(\"mf_specified\", \"_small_long\", \"Prescr. MAD AF (long)\") \n",
    "add_algo(\"mf_specified\", \"_small_shallow_long\", \"Prescr. MAD AF (shallow, long)\") \n",
    "\n",
    "add_algo(\"gamf_specified\", \"_small_largebs\", \"Prescr. OT MAD AF\")\n",
    "add_algo(\"gamf_specified\", \"_small_long\", \"Prescr. OT MAD AF (long)\") \n",
    "add_algo(\"gamf_specified\", \"_small_shallow_long\", \"Prescr. OT MAD AF (shallow, long)\") \n"
   ]
  },
  {
   "cell_type": "code",
   "execution_count": 4,
   "metadata": {},
   "outputs": [],
   "source": [
    "def load(name, shape, numpyfy=True, result_dir=\"../data/results\"):\n",
    "    all_results = []\n",
    "    \n",
    "    for algo_filename, algo_add in zip(algo_filenames, algo_additionals):\n",
    "        results = []\n",
    "        \n",
    "        for setup_filename in setup_filenames:\n",
    "            try:\n",
    "                results.append(np.load(\n",
    "                    \"{}/{}_2_spherical_gaussian_{}{}_{}.npy\".format(\n",
    "                        result_dir, algo_filename, setup_filename, algo_add, name\n",
    "                    )\n",
    "                ))\n",
    "            except FileNotFoundError as e:\n",
    "                # print(e)\n",
    "                \n",
    "                if shape is None:\n",
    "                    results.append(None)\n",
    "                else:\n",
    "                    results.append(np.nan*np.ones(shape))\n",
    "            \n",
    "        all_results.append(results)\n",
    "    \n",
    "    return np.asarray(all_results) if numpyfy else all_results\n",
    "\n",
    "x_gen = load(\"samples\", None, numpyfy=False)\n",
    "logp_gen = load(\"samples_likelihood\", (10000,))\n",
    "distance_gen = load(\"samples_manifold_distance\", (10000,))\n",
    "\n",
    "true_test_log_likelihood = load(\"true_log_likelihood_test\", (1000,))\n",
    "model_test_log_likelihood = load(\"model_log_likelihood_test\", (1000,))\n",
    "model_test_reco_error = load(\"model_reco_error_test\", (1000,))\n",
    "\n",
    "model_ood_log_likelihood = load(\"model_log_likelihood_ood\", (1000,))\n",
    "model_ood_reco_error = load(\"model_reco_error_ood\", (1000,))\n"
   ]
  },
  {
   "cell_type": "code",
   "execution_count": 5,
   "metadata": {},
   "outputs": [],
   "source": [
    "x_test = np.asarray([\n",
    "    np.load(\"../data/samples/spherical_gaussian/spherical_gaussian_{}_x_test.npy\".format(setup_filename))\n",
    "    for setup_filename in setup_filenames\n",
    "])\n",
    "\n",
    "true_distances = np.abs(np.sum(x_test**2, axis=-1)**0.5 - 1.)"
   ]
  },
  {
   "cell_type": "markdown",
   "metadata": {},
   "source": [
    "## Calculate metrics"
   ]
  },
  {
   "cell_type": "code",
   "execution_count": 6,
   "metadata": {},
   "outputs": [],
   "source": [
    "min_logp = -100.\n",
    "max_distance = 10.\n",
    "\n",
    "mean_logp_gen = np.mean(np.clip(logp_gen, min_logp, None), axis=2)\n",
    "mean_distance_gen = np.mean(np.clip(distance_gen, None, max_distance), axis=2)\n",
    "\n",
    "mean_logp_truth = np.mean(np.clip(true_test_log_likelihood[0], min_logp, None), axis=1)\n",
    "mean_distance_truth = np.mean(np.clip(true_distances, None, max_distance), axis=1)"
   ]
  },
  {
   "cell_type": "code",
   "execution_count": 7,
   "metadata": {},
   "outputs": [
    {
     "name": "stderr",
     "output_type": "stream",
     "text": [
      "/Users/johannbrehmer/anaconda3/envs/ml/lib/python3.6/site-packages/ipykernel_launcher.py:28: RuntimeWarning: invalid value encountered in greater\n"
     ]
    }
   ],
   "source": [
    "def calculate_roc_auc(x0, x1):\n",
    "    return np.asarray(\n",
    "        [\n",
    "            [\n",
    "                np.nan if not np.all(np.isfinite(np.hstack((this_x0, this_x1)))) else (\n",
    "                    np.maximum(\n",
    "                        roc_auc_score(\n",
    "                            np.hstack((np.zeros(this_x0.shape[0], dtype=np.int),\n",
    "                                       np.ones(this_x1.shape[0], dtype=np.int))),\n",
    "                            np.hstack((this_x0, this_x1)),\n",
    "                        ),\n",
    "                        roc_auc_score(\n",
    "                            np.hstack((np.zeros(this_x0.shape[0], dtype=np.int),\n",
    "                                       np.ones(this_x1.shape[0], dtype=np.int))),\n",
    "                            - np.hstack((this_x0, this_x1)),\n",
    "                        )\n",
    "                    )\n",
    "                )\n",
    "                for this_x0, this_x1 in zip(x0_, x1_)\n",
    "            ]\n",
    "            for x0_, x1_ in zip(x0, x1)\n",
    "        ]\n",
    "    )\n",
    "\n",
    "\n",
    "auc_logp = calculate_roc_auc(model_test_log_likelihood, model_ood_log_likelihood)\n",
    "auc_err = calculate_roc_auc(model_test_reco_error, model_ood_reco_error)\n",
    "auc_use_err = (auc_err > auc_logp)\n",
    "auc_best = np.maximum(auc_err, auc_logp)"
   ]
  },
  {
   "cell_type": "markdown",
   "metadata": {},
   "source": [
    "## Print metrics"
   ]
  },
  {
   "cell_type": "code",
   "execution_count": 12,
   "metadata": {},
   "outputs": [
    {
     "data": {
      "text/plain": [
       "array([[0.694833 , 0.707393 , 0.653708 ],\n",
       "       [      nan,       nan,       nan],\n",
       "       [      nan,       nan,       nan],\n",
       "       [0.708953 , 0.672565 , 0.646126 ],\n",
       "       [      nan,       nan,       nan],\n",
       "       [      nan,       nan,       nan],\n",
       "       [0.658694 , 0.519913 , 0.572225 ],\n",
       "       [0.507252 , 0.513103 ,       nan],\n",
       "       [0.506155 , 0.5257865, 0.535804 ],\n",
       "       [      nan,       nan,       nan],\n",
       "       [      nan,       nan,       nan],\n",
       "       [0.510948 , 0.51055  , 0.630187 ],\n",
       "       [      nan,       nan,       nan],\n",
       "       [      nan,       nan,       nan],\n",
       "       [      nan,       nan,       nan],\n",
       "       [0.73033  , 0.727107 , 0.734296 ],\n",
       "       [      nan,       nan,       nan],\n",
       "       [      nan,       nan,       nan],\n",
       "       [0.730332 , 0.727107 , 0.734296 ],\n",
       "       [      nan,       nan,       nan],\n",
       "       [      nan,       nan,       nan],\n",
       "       [0.5101445, 0.507926 , 0.682529 ],\n",
       "       [      nan,       nan,       nan],\n",
       "       [      nan,       nan,       nan]])"
      ]
     },
     "execution_count": 12,
     "metadata": {},
     "output_type": "execute_result"
    }
   ],
   "source": [
    "auc_best"
   ]
  },
  {
   "cell_type": "code",
   "execution_count": 23,
   "metadata": {},
   "outputs": [],
   "source": [
    "def print_results(setup):\n",
    "    print(\"{:<36.36s} | {:>8.8s} {:>8.8s} {:>8.8s}\".format(setup_labels[setup], \"Log p\", \"Dist\", \"AUC\"))\n",
    "    print(\"-\"*65)\n",
    "    for label, logp, dist, auc in zip(\n",
    "        [\"Simulator\"] + algo_labels,\n",
    "        [mean_logp_truth] + list(mean_logp_gen),\n",
    "        [mean_distance_truth] + list(mean_distance_gen),\n",
    "        [[0.0, 0.0, 0.0]] + list(auc_best)\n",
    "    ):\n",
    "        if np.isfinite(logp[setup]) or np.isfinite(dist[setup]):\n",
    "            print(\"{:<36.36s} | {:>8.2f} {:>8.3f} {:>8.3f}\".format(label, logp[setup], dist[setup], auc[setup]))\n",
    "        else:\n",
    "            print(\"{:<36.36s} |                           \".format(label))"
   ]
  },
  {
   "cell_type": "code",
   "execution_count": 24,
   "metadata": {},
   "outputs": [
    {
     "name": "stdout",
     "output_type": "stream",
     "text": [
      "ε = 0.01                             |    Log p     Dist      AUC\n",
      "-----------------------------------------------------------------\n",
      "Simulator                            |     2.32    0.008    0.000\n",
      "Flow                                 |     1.31    0.033    0.695\n",
      "Flow (long)                          |                           \n",
      "Flow (shallow, long)                 |                           \n",
      "PIE                                  |     1.92    0.024    0.709\n",
      "PIE (long)                           |                           \n",
      "PIE (shallow, long)                  |                           \n",
      "MAD AF                               |     1.32    0.032    0.659\n",
      "MAD AF (no pre/post)                 |   -48.34    0.139    0.507\n",
      "MAD AF (complex)                     |   -32.26    0.103    0.506\n",
      "MAD AF (long)                        |                           \n",
      "MAD AF (shallow, long)               |                           \n",
      "OT MAD AF (Sinkhorn)                 |    -2.28    0.037    0.511\n",
      "OT MAD AF (GED)                      |                           \n",
      "OT MAD AF (GED, long)                |                           \n",
      "OT MAD AF (GED, shallow, long)       |                           \n",
      "Prescr. PIE                          |     2.99    0.000    0.730\n",
      "Prescr. PIE (long)                   |                           \n",
      "Prescr. PIE (shallow, long)          |                           \n",
      "Prescr. MAD AF                       |     2.97    0.000    0.730\n",
      "Prescr. MAD AF (long)                |                           \n",
      "Prescr. MAD AF (shallow, long)       |                           \n",
      "Prescr. OT MAD AF                    |     2.95    0.000    0.510\n",
      "Prescr. OT MAD AF (long)             |                           \n",
      "Prescr. OT MAD AF (shallow, long)    |                           \n"
     ]
    }
   ],
   "source": [
    "print_results(0)"
   ]
  },
  {
   "cell_type": "code",
   "execution_count": 25,
   "metadata": {},
   "outputs": [
    {
     "name": "stdout",
     "output_type": "stream",
     "text": [
      "ε = 0.001                            |    Log p     Dist      AUC\n",
      "-----------------------------------------------------------------\n",
      "Simulator                            |     4.68    0.001    0.000\n",
      "Flow                                 |     2.98    0.034    0.707\n",
      "Flow (long)                          |                           \n",
      "Flow (shallow, long)                 |                           \n",
      "PIE                                  |     0.36    0.026    0.673\n",
      "PIE (long)                           |                           \n",
      "PIE (shallow, long)                  |                           \n",
      "MAD AF                               |   -95.85    0.159    0.520\n",
      "MAD AF (no pre/post)                 |   -91.93    0.117    0.513\n",
      "MAD AF (complex)                     |   -91.64    0.177    0.526\n",
      "MAD AF (long)                        |                           \n",
      "MAD AF (shallow, long)               |                           \n",
      "OT MAD AF (Sinkhorn)                 |   -69.70    0.034    0.511\n",
      "OT MAD AF (GED)                      |                           \n",
      "OT MAD AF (GED, long)                |                           \n",
      "OT MAD AF (GED, shallow, long)       |                           \n",
      "Prescr. PIE                          |     5.23    0.000    0.727\n",
      "Prescr. PIE (long)                   |                           \n",
      "Prescr. PIE (shallow, long)          |                           \n",
      "Prescr. MAD AF                       |     5.26    0.000    0.727\n",
      "Prescr. MAD AF (long)                |                           \n",
      "Prescr. MAD AF (shallow, long)       |                           \n",
      "Prescr. OT MAD AF                    |     5.25    0.000    0.508\n",
      "Prescr. OT MAD AF (long)             |                           \n",
      "Prescr. OT MAD AF (shallow, long)    |                           \n"
     ]
    }
   ],
   "source": [
    "print_results(1)"
   ]
  },
  {
   "cell_type": "code",
   "execution_count": 26,
   "metadata": {},
   "outputs": [
    {
     "name": "stdout",
     "output_type": "stream",
     "text": [
      "ε = 0.1                              |    Log p     Dist      AUC\n",
      "-----------------------------------------------------------------\n",
      "Simulator                            |     0.05    0.081    0.000\n",
      "Flow                                 |    -0.82    0.103    0.654\n",
      "Flow (long)                          |                           \n",
      "Flow (shallow, long)                 |                           \n",
      "PIE                                  |    -0.28    0.096    0.646\n",
      "PIE (long)                           |                           \n",
      "PIE (shallow, long)                  |                           \n",
      "MAD AF                               |    -1.54    0.179    0.572\n",
      "MAD AF (no pre/post)                 |                           \n",
      "MAD AF (complex)                     |    -3.26    0.145    0.536\n",
      "MAD AF (long)                        |                           \n",
      "MAD AF (shallow, long)               |                           \n",
      "OT MAD AF (Sinkhorn)                 |     0.05    0.087    0.630\n",
      "OT MAD AF (GED)                      |                           \n",
      "OT MAD AF (GED, long)                |                           \n",
      "OT MAD AF (GED, shallow, long)       |                           \n",
      "Prescr. PIE                          |     0.67    0.000    0.734\n",
      "Prescr. PIE (long)                   |                           \n",
      "Prescr. PIE (shallow, long)          |                           \n",
      "Prescr. MAD AF                       |     0.63    0.000    0.734\n",
      "Prescr. MAD AF (long)                |                           \n",
      "Prescr. MAD AF (shallow, long)       |                           \n",
      "Prescr. OT MAD AF                    |     0.56    0.000    0.683\n",
      "Prescr. OT MAD AF (long)             |                           \n",
      "Prescr. OT MAD AF (shallow, long)    |                           \n"
     ]
    }
   ],
   "source": [
    "print_results(2)"
   ]
  },
  {
   "cell_type": "code",
   "execution_count": null,
   "metadata": {},
   "outputs": [],
   "source": []
  },
  {
   "cell_type": "code",
   "execution_count": null,
   "metadata": {},
   "outputs": [],
   "source": []
  }
 ],
 "metadata": {
  "kernelspec": {
   "display_name": "Python (ML)",
   "language": "python",
   "name": "ml"
  },
  "language_info": {
   "codemirror_mode": {
    "name": "ipython",
    "version": 3
   },
   "file_extension": ".py",
   "mimetype": "text/x-python",
   "name": "python",
   "nbconvert_exporter": "python",
   "pygments_lexer": "ipython3",
   "version": "3.6.8"
  }
 },
 "nbformat": 4,
 "nbformat_minor": 2
}
