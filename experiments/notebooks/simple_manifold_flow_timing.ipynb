{
 "cells": [
  {
   "cell_type": "code",
   "execution_count": 1,
   "metadata": {
    "collapsed": true
   },
   "outputs": [],
   "source": [
    "import sys\n",
    "import time\n",
    "import numpy as np\n",
    "from matplotlib import pyplot as plt\n",
    "import logging\n",
    "\n",
    "sys.path.append(\"../../\")\n",
    "from experiments.mwe.mwe_pytorch import time_transform\n",
    "\n",
    "%matplotlib inline\n",
    "\n",
    "logging.basicConfig(\n",
    "    format=\"%(asctime)-5.5s %(name)-30.30s %(levelname)-7.7s %(message)s\",\n",
    "    datefmt=\"%H:%M\",\n",
    "    level=logging.DEBUG,\n",
    ")\n",
    "logger = logging.getLogger(__name__)\n",
    "# Output of all other modules (e.g. matplotlib)\n",
    "for key in logging.Logger.manager.loggerDict:\n",
    "    if \"manifold_flow\" not in key:\n",
    "        logging.getLogger(key).setLevel(logging.WARNING)\n"
   ]
  },
  {
   "cell_type": "markdown",
   "metadata": {},
   "source": [
    "## Timing function"
   ]
  },
  {
   "cell_type": "code",
   "execution_count": 2,
   "metadata": {
    "collapsed": true
   },
   "outputs": [],
   "source": [
    "def take_time(*args, **kwargs):\n",
    "    results = [time_transform(*args, **kwargs) for _ in range(3)]\n",
    "    return np.mean(results), np.std(results)"
   ]
  },
  {
   "cell_type": "markdown",
   "metadata": {},
   "source": [
    "## x dimension"
   ]
  },
  {
   "cell_type": "code",
   "execution_count": 3,
   "metadata": {
    "scrolled": false
   },
   "outputs": [
    {
     "name": "stdout",
     "output_type": "stream",
     "text": [
      "xdim = 2\n",
      "xdim = 5\n",
      "xdim = 10\n",
      "xdim = 20\n",
      "xdim = 50\n",
      "xdim = 100\n",
      "xdim = 200\n",
      "xdim = 500\n",
      "xdim = 1000\n"
     ]
    }
   ],
   "source": [
    "xdims = [2,5,10,20,50,100,200,500,1000]\n",
    "\n",
    "xdim_jacobian_means = []\n",
    "xdim_jacobian_stds = []\n",
    "xdim_det_means = []\n",
    "xdim_det_stds = []\n",
    "\n",
    "for xdim in xdims:\n",
    "    print(\"xdim = {}\".format(xdim))\n",
    "    mean_jac, std_jac = take_time(features=xdim, batchsize=100, hidden_features=100, hidden_layers=5, calculate_full_jacobian=True)\n",
    "    mean_det, std_det = take_time(features=xdim, batchsize=100, hidden_features=100, hidden_layers=5, calculate_full_jacobian=False)\n",
    "    xdim_jacobian_means.append(mean_jac)\n",
    "    xdim_jacobian_stds.append(std_jac)\n",
    "    xdim_det_means.append(mean_det)\n",
    "    xdim_det_stds.append(std_det)\n"
   ]
  },
  {
   "cell_type": "markdown",
   "metadata": {},
   "source": [
    "## Hidden layers"
   ]
  },
  {
   "cell_type": "code",
   "execution_count": null,
   "metadata": {
    "collapsed": true
   },
   "outputs": [],
   "source": [
    "hiddens = [1,2,4,7,10,14,20,30,50]\n",
    "\n",
    "hidden_jacobian_means = []\n",
    "hidden_jacobian_stds = []\n",
    "hidden_det_means = []\n",
    "hidden_det_stds = []\n",
    "\n",
    "for hidden in hiddens:\n",
    "    print(\"hidden_layers = {}\".format(hidden))\n",
    "    mean_jac, std_jac = take_time(features=100, batchsize=100, hidden_features=100, hidden_layers=hidden, calculate_full_jacobian=True)\n",
    "    mean_det, std_det = take_time(features=100, batchsize=100, hidden_features=100, hidden_layers=hidden, calculate_full_jacobian=False)\n",
    "    hidden_jacobian_means.append(mean_jac)\n",
    "    hidden_jacobian_stds.append(std_jac)\n",
    "    hidden_det_means.append(mean_det)\n",
    "    hidden_det_stds.append(std_det)\n",
    "\n"
   ]
  },
  {
   "cell_type": "markdown",
   "metadata": {},
   "source": [
    "## Batch size"
   ]
  },
  {
   "cell_type": "code",
   "execution_count": null,
   "metadata": {},
   "outputs": [
    {
     "name": "stdout",
     "output_type": "stream",
     "text": [
      "xdim = 1000\n",
      "xdim = 1000\n",
      "xdim = 1000\n",
      "xdim = 1000\n",
      "xdim = 1000\n",
      "xdim = 1000\n",
      "xdim = 1000\n",
      "xdim = 1000\n",
      "xdim = 1000\n",
      "xdim = 1000\n"
     ]
    }
   ],
   "source": [
    "batchsizes = [1,2,5,10,20,50,100,200,500]\n",
    "\n",
    "batchsize_jacobian_means = []\n",
    "batchsize_jacobian_stds = []\n",
    "batchsize_det_means = []\n",
    "batchsize_det_stds = []\n",
    "\n",
    "for batchsize in batchsizes:\n",
    "    print(\"batchsize = {}\".format(batchsize))\n",
    "    mean_jac, std_jac = take_time(features=100, batchsize=batchsize, hidden_features=100, hidden_layers=5, calculate_full_jacobian=True)\n",
    "    mean_det, std_det = take_time(features=100, batchsize=batchsize, hidden_features=100, hidden_layers=5, calculate_full_jacobian=False)\n",
    "    batchsize_jacobian_means.append(mean_jac)\n",
    "    batchsize_jacobian_stds.append(std_jac)\n",
    "    batchsize_det_means.append(mean_det)\n",
    "    batchsize_det_stds.append(std_det)\n"
   ]
  },
  {
   "cell_type": "markdown",
   "metadata": {},
   "source": [
    "## Plot"
   ]
  },
  {
   "cell_type": "code",
   "execution_count": null,
   "metadata": {},
   "outputs": [],
   "source": [
    "factor = 10\n",
    "ymax = 10.\n",
    "\n",
    "fig = plt.figure(figsize=(12,4))\n",
    "\n",
    "ax = plt.subplot(1,3,1)\n",
    "plt.fill_between(xdims, xdim_jacobian_means - xdim_jacobian_stds, xdim_jacobian_means + xdim_jacobian_stds, color=\"C0\", alpha=0.2)\n",
    "plt.plot(xdims, xdim_jacobian_means, c=\"C0\", ls=\"-\", label=\"Full Jacobian calculation\")\n",
    "plt.fill_between(xdims, factor*(xdim_det_means-xdim_det_stds), factor*(xdim_det_means+xdim_det_stds), color=\"C1\", alpha=0.2)\n",
    "plt.plot(xdims, factor*xdim_det_means[i], c=\"C1\", ls=\"--\", label=r\"Determinant calculation ($\\times {}$)\".format(factor))\n",
    "plt.legend()\n",
    "plt.xlabel(\"Data dimension\")\n",
    "plt.ylabel(\"Time for forward pass [s]\")\n",
    "plt.ylim(0.,ymax)\n",
    "\n",
    "ax = plt.subplot(1,3,2)\n",
    "plt.fill_between(batchsizes, batchsize_jacobian_means-batchsize_jacobian_stds, batchsize_jacobian_means+batchsize_jacobian_stds, color=\"C0\", alpha=0.2)\n",
    "plt.plot(batchsizes, batchsize_jacobian_means, c=\"C0\", ls=\"-\", label=\"Full Jacobian calculation\")\n",
    "plt.fill_between(batchsizes, factor*(batchsize_det_means-batchsize_det_stds), factor*(batchsize_det_means+batchsize_det_stds), color=\"C1\", alpha=0.2)\n",
    "plt.plot(batchsizes, factor*batchsize_det_means[i], c=\"C1\", ls=\"--\", label=r\"Determinant calculation ($\\times {}$)\".format(factor))\n",
    "plt.legend()\n",
    "plt.xlabel(\"Batch size\")\n",
    "plt.ylabel(\"Time for forward pass [s]\")\n",
    "plt.ylim(0.,ymax)\n",
    "\n",
    "ax = plt.subplot(1,3,3)\n",
    "plt.fill_between(hiddens, hidden_jacobian_means-hidden_jacobian_stds, hidden_jacobian_means+hidden_jacobian_stds, color=\"C0\", alpha=0.2)\n",
    "plt.plot(hiddens, hidden_jacobian_means, c=\"C0\", ls=\"-\", label=\"Full Jacobian calculation\")\n",
    "plt.fill_between(hiddens, factor*(hidden_det_means-hidden_det_stds), factor*(hidden_det_means+hidden_det_stds), color=\"C1\", alpha=0.2)\n",
    "plt.plot(hiddens, factor*hidden_det_means[i], c=\"C1\", ls=\"--\", label=r\"Determinant calculation ($\\times {}$)\".format(factor))\n",
    "plt.legend()\n",
    "plt.xlabel(\"Hidden layers\")\n",
    "plt.ylabel(\"Time for forward pass [s]\")\n",
    "plt.ylim(0.,ymax)\n",
    "\n",
    "plt.tight_layout()\n",
    "plt.savefig(\"simple_manifold_flow_timing.pdf\")\n"
   ]
  },
  {
   "cell_type": "code",
   "execution_count": null,
   "metadata": {
    "collapsed": true
   },
   "outputs": [],
   "source": []
  }
 ],
 "metadata": {
  "kernelspec": {
   "display_name": "Python (ML)",
   "language": "python",
   "name": "ml"
  },
  "language_info": {
   "codemirror_mode": {
    "name": "ipython",
    "version": 3
   },
   "file_extension": ".py",
   "mimetype": "text/x-python",
   "name": "python",
   "nbconvert_exporter": "python",
   "pygments_lexer": "ipython3",
   "version": "3.6.8"
  }
 },
 "nbformat": 4,
 "nbformat_minor": 2
}
