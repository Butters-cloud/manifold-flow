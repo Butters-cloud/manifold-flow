{
 "cells": [
  {
   "cell_type": "markdown",
   "metadata": {},
   "source": [
    "# Image data sets"
   ]
  },
  {
   "cell_type": "code",
   "execution_count": 10,
   "metadata": {},
   "outputs": [],
   "source": [
    "%matplotlib inline\n",
    "\n",
    "import sys\n",
    "import numpy as np\n",
    "import matplotlib\n",
    "from matplotlib import pyplot as plt\n",
    "from matplotlib.offsetbox import TextArea, DrawingArea, OffsetImage, AnnotationBbox\n",
    "import corner\n",
    "import logging\n",
    "\n",
    "logging.basicConfig(\n",
    "    format=\"%(asctime)-5.5s %(name)-30.30s %(levelname)-7.7s %(message)s\",\n",
    "    datefmt=\"%H:%M\",\n",
    "    level=logging.INFO,\n",
    ")\n",
    "\n",
    "sys.path.append(\"../../\")\n",
    "from experiments.datasets import FFHQStyleGAN2DLoader\n"
   ]
  },
  {
   "cell_type": "markdown",
   "metadata": {},
   "source": [
    "## Options"
   ]
  },
  {
   "cell_type": "code",
   "execution_count": 2,
   "metadata": {},
   "outputs": [],
   "source": [
    "highres = False\n",
    "transform = True\n"
   ]
  },
  {
   "cell_type": "markdown",
   "metadata": {},
   "source": [
    "## Transform images to numpy arrays (only need to do this once)"
   ]
  },
  {
   "cell_type": "code",
   "execution_count": 33,
   "metadata": {},
   "outputs": [],
   "source": [
    "def load_pngs(filename, range_):\n",
    "    imgs = np.array([plt.imread(f\"../data/samples/gan2d/{filename}.png\".format(i)).astype(np.float) for i in range_])\n",
    "    imgs = np.transpose(imgs, [0,3,1,2])  # Want (batch, c, h, w)\n",
    "    return imgs\n",
    "\n",
    "if transform:\n",
    "    np.save(\"../data/samples/gan2d/grid.npy\", load_pngs(\"grid/grid_64_{:04}\", range(81)))\n",
    "    np.save(\"../data/samples/gan2d/grid_highres.npy\", load_pngs(\"grid/grid_1024_{:04}\", range(81)))\n",
    "    np.save(\"../data/samples/gan2d/train.npy\", load_pngs(\"train_test/subspace_64_{:05}\", range(1, 10001)))\n",
    "    np.save(\"../data/samples/gan2d/train_highres.npy\", load_pngs(\"train_test/subspace_1024_{:05}\", range(1, 101)))\n",
    "    np.save(\"../data/samples/gan2d/test.npy\", load_pngs(\"train_test/subspace_64_{:05}\", range(10001, 11001)))\n"
   ]
  },
  {
   "cell_type": "markdown",
   "metadata": {},
   "source": [
    "## Plot images corresponding to 2D grid in latent space"
   ]
  },
  {
   "cell_type": "code",
   "execution_count": 34,
   "metadata": {},
   "outputs": [],
   "source": [
    "boundary = 2.0\n",
    "resolution = 9\n",
    "each = np.linspace(-boundary, boundary, resolution)\n",
    "each_grid = np.meshgrid(*[each for _ in range(2)], indexing=\"ij\")\n",
    "each_grid = [x.flatten() for x in each_grid]\n",
    "gan_zs = np.vstack(each_grid).T"
   ]
  },
  {
   "cell_type": "code",
   "execution_count": 35,
   "metadata": {},
   "outputs": [
    {
     "data": {
      "text/plain": [
       "(81, 3, 64, 64)"
      ]
     },
     "execution_count": 35,
     "metadata": {},
     "output_type": "execute_result"
    }
   ],
   "source": [
    "gan_images = np.load(\"../data/samples/gan2d/grid{}.npy\".format(\"_highres\" if highres else \"\"))\n",
    "gan_images.shape"
   ]
  },
  {
   "cell_type": "code",
   "execution_count": 36,
   "metadata": {},
   "outputs": [
    {
     "data": {
      "image/png": "[encoded data removed]",
      "text/plain": [
       "<Figure size 360x360 with 1 Axes>"
      ]
     },
     "metadata": {
      "needs_background": "light"
     },
     "output_type": "display_data"
    }
   ],
   "source": [
    "size = 0.42\n",
    "fig = plt.figure(figsize=(5,5))\n",
    "\n",
    "for z, image in zip(gan_zs, gan_images):\n",
    "    image_ = np.transpose(image, [1,2,0]) / 256.\n",
    "    plt.imshow(image_, extent=(z[0]-size/2, z[0]+size/2, z[1]-size/2, z[1]+size/2))\n",
    "\n",
    "plt.ylabel(\"$z_1$\")\n",
    "plt.xlabel(\"$z_0$\")\n",
    "plt.xlim(-2 - 1.3*size/2, 2 + 1.3*size/2)\n",
    "plt.ylim(-2 - 1.3*size/2, 2 + 1.3*size/2)\n",
    "\n",
    "plt.tight_layout()\n",
    "plt.savefig(\"../figures/gan2d_grid.pdf\", dpi=600)\n",
    "    "
   ]
  },
  {
   "cell_type": "markdown",
   "metadata": {},
   "source": [
    "## Training samples"
   ]
  },
  {
   "cell_type": "code",
   "execution_count": 38,
   "metadata": {},
   "outputs": [
    {
     "name": "stderr",
     "output_type": "stream",
     "text": [
      "13:55 matplotlib.image               WARNING Clipping input data to the valid range for imshow with RGB data ([0..1] for floats or [0..255] for integers).\n",
      "13:55 matplotlib.image               WARNING Clipping input data to the valid range for imshow with RGB data ([0..1] for floats or [0..255] for integers).\n",
      "13:55 matplotlib.image               WARNING Clipping input data to the valid range for imshow with RGB data ([0..1] for floats or [0..255] for integers).\n",
      "13:55 matplotlib.image               WARNING Clipping input data to the valid range for imshow with RGB data ([0..1] for floats or [0..255] for integers).\n",
      "13:55 matplotlib.image               WARNING Clipping input data to the valid range for imshow with RGB data ([0..1] for floats or [0..255] for integers).\n",
      "13:55 matplotlib.image               WARNING Clipping input data to the valid range for imshow with RGB data ([0..1] for floats or [0..255] for integers).\n",
      "13:55 matplotlib.image               WARNING Clipping input data to the valid range for imshow with RGB data ([0..1] for floats or [0..255] for integers).\n",
      "13:55 matplotlib.image               WARNING Clipping input data to the valid range for imshow with RGB data ([0..1] for floats or [0..255] for integers).\n",
      "13:55 matplotlib.image               WARNING Clipping input data to the valid range for imshow with RGB data ([0..1] for floats or [0..255] for integers).\n",
      "13:55 matplotlib.image               WARNING Clipping input data to the valid range for imshow with RGB data ([0..1] for floats or [0..255] for integers).\n",
      "13:55 matplotlib.image               WARNING Clipping input data to the valid range for imshow with RGB data ([0..1] for floats or [0..255] for integers).\n",
      "13:55 matplotlib.image               WARNING Clipping input data to the valid range for imshow with RGB data ([0..1] for floats or [0..255] for integers).\n",
      "13:55 matplotlib.image               WARNING Clipping input data to the valid range for imshow with RGB data ([0..1] for floats or [0..255] for integers).\n",
      "13:55 matplotlib.image               WARNING Clipping input data to the valid range for imshow with RGB data ([0..1] for floats or [0..255] for integers).\n",
      "13:55 matplotlib.image               WARNING Clipping input data to the valid range for imshow with RGB data ([0..1] for floats or [0..255] for integers).\n",
      "13:55 matplotlib.image               WARNING Clipping input data to the valid range for imshow with RGB data ([0..1] for floats or [0..255] for integers).\n",
      "13:55 matplotlib.image               WARNING Clipping input data to the valid range for imshow with RGB data ([0..1] for floats or [0..255] for integers).\n",
      "13:55 matplotlib.image               WARNING Clipping input data to the valid range for imshow with RGB data ([0..1] for floats or [0..255] for integers).\n",
      "13:55 matplotlib.image               WARNING Clipping input data to the valid range for imshow with RGB data ([0..1] for floats or [0..255] for integers).\n",
      "13:55 matplotlib.image               WARNING Clipping input data to the valid range for imshow with RGB data ([0..1] for floats or [0..255] for integers).\n"
     ]
    },
    {
     "data": {
      "image/png": "[encoded data removed]",
      "text/plain": [
       "<Figure size 1080x864 with 20 Axes>"
      ]
     },
     "metadata": {
      "needs_background": "light"
     },
     "output_type": "display_data"
    }
   ],
   "source": [
    "loader = FFHQStyleGAN2DLoader()\n",
    "data = loader.load_dataset(train=True, dataset_dir=\"../data/samples/gan2d\")\n",
    "    \n",
    "fig = plt.figure(figsize=(5*3., 4*3.))\n",
    "\n",
    "for i in range(20):\n",
    "    x, _ = data[np.random.randint(len(data) - 1)]\n",
    "    x_ = np.transpose(np.array(x), [1,2,0])\n",
    "    ax = plt.subplot(4, 5, i+1)\n",
    "    plt.imshow(x_)\n",
    "    ax.get_xaxis().set_visible(False)\n",
    "    ax.get_yaxis().set_visible(False)\n",
    "\n",
    "plt.tight_layout()\n",
    "plt.show()\n"
   ]
  },
  {
   "cell_type": "code",
   "execution_count": null,
   "metadata": {},
   "outputs": [],
   "source": []
  }
 ],
 "metadata": {
  "kernelspec": {
   "display_name": "Python (ML)",
   "language": "python",
   "name": "ml"
  },
  "language_info": {
   "codemirror_mode": {
    "name": "ipython",
    "version": 3
   },
   "file_extension": ".py",
   "mimetype": "text/x-python",
   "name": "python",
   "nbconvert_exporter": "python",
   "pygments_lexer": "ipython3",
   "version": "3.6.8"
  }
 },
 "nbformat": 4,
 "nbformat_minor": 4
}
