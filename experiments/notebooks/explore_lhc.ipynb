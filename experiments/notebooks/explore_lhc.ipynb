{
 "cells": [
  {
   "cell_type": "markdown",
   "metadata": {},
   "source": [
    "# Explore LHC dataset"
   ]
  },
  {
   "cell_type": "code",
   "execution_count": 25,
   "metadata": {},
   "outputs": [],
   "source": [
    "%matplotlib inline\n",
    "\n",
    "import sys\n",
    "import numpy as np\n",
    "import matplotlib\n",
    "from matplotlib import pyplot as plt\n",
    "import corner\n",
    "import logging\n",
    "from sklearn.manifold import TSNE\n",
    "\n",
    "logging.basicConfig(\n",
    "    format=\"%(asctime)-5.5s %(name)-30.30s %(levelname)-7.7s %(message)s\",\n",
    "    datefmt=\"%H:%M\",\n",
    "    level=logging.INFO,\n",
    ")\n",
    "\n",
    "sys.path.append(\"../../\")\n",
    "from experiments.simulators.collider import WBFLoader\n"
   ]
  },
  {
   "cell_type": "markdown",
   "metadata": {},
   "source": [
    "## Analyze data"
   ]
  },
  {
   "cell_type": "code",
   "execution_count": 31,
   "metadata": {},
   "outputs": [],
   "source": [
    "n = 10000"
   ]
  },
  {
   "cell_type": "code",
   "execution_count": 32,
   "metadata": {},
   "outputs": [
    {
     "data": {
      "text/plain": [
       "14"
      ]
     },
     "execution_count": 32,
     "metadata": {},
     "output_type": "execute_result"
    }
   ],
   "source": [
    "sim = WBFLoader()\n",
    "sim.latent_dim()"
   ]
  },
  {
   "cell_type": "code",
   "execution_count": 33,
   "metadata": {},
   "outputs": [
    {
     "name": "stderr",
     "output_type": "stream",
     "text": [
      "12:25 experiments.simulators.collide INFO    Only using 10000 of 1000000 available samples\n",
      "12:25 experiments.simulators.collide INFO    Scaling LHC data to zero mean and unit variance\n"
     ]
    }
   ],
   "source": [
    "x, params = sim.load_dataset(train=True, dataset_dir=\"../data/samples/lhc\", numpy=True, limit_samplesize=n)"
   ]
  },
  {
   "cell_type": "code",
   "execution_count": 35,
   "metadata": {},
   "outputs": [
    {
     "name": "stderr",
     "output_type": "stream",
     "text": [
      "12:26 experiments.simulators.collide INFO    Scaling LHC data back to conventional normalization\n"
     ]
    }
   ],
   "source": [
    "x_ = sim._preprocess(x, inverse=True)"
   ]
  },
  {
   "cell_type": "markdown",
   "metadata": {},
   "source": [
    "## Viz"
   ]
  },
  {
   "cell_type": "code",
   "execution_count": null,
   "metadata": {},
   "outputs": [
    {
     "name": "stdout",
     "output_type": "stream",
     "text": [
      "[t-SNE] Computing 121 nearest neighbors...\n",
      "[t-SNE] Indexed 10000 samples in 0.039s...\n",
      "[t-SNE] Computed neighbors for 10000 samples in 14.291s...\n",
      "[t-SNE] Computed conditional probabilities for sample 1000 / 10000\n",
      "[t-SNE] Computed conditional probabilities for sample 2000 / 10000\n",
      "[t-SNE] Computed conditional probabilities for sample 3000 / 10000\n",
      "[t-SNE] Computed conditional probabilities for sample 4000 / 10000\n",
      "[t-SNE] Computed conditional probabilities for sample 5000 / 10000\n",
      "[t-SNE] Computed conditional probabilities for sample 6000 / 10000\n",
      "[t-SNE] Computed conditional probabilities for sample 7000 / 10000\n",
      "[t-SNE] Computed conditional probabilities for sample 8000 / 10000\n",
      "[t-SNE] Computed conditional probabilities for sample 9000 / 10000\n",
      "[t-SNE] Computed conditional probabilities for sample 10000 / 10000\n",
      "[t-SNE] Mean sigma: 1.856963\n",
      "[t-SNE] KL divergence after 250 iterations with early exaggeration: 87.986702\n"
     ]
    }
   ],
   "source": [
    "tsne = TSNE(n_components=2, verbose=1, perplexity=40, n_iter=1000).fit_transform(x)\n"
   ]
  },
  {
   "cell_type": "code",
   "execution_count": null,
   "metadata": {},
   "outputs": [],
   "source": [
    "plt.figure(figsize=(5, 5))\n",
    "\n",
    "plt.scatter(\n",
    "    tsne[:, 0],\n",
    "    tsne[:, 1],\n",
    "    s=12.0,\n",
    "    alpha=0.15,\n",
    "    c=\"C3\"\n",
    ")\n",
    "\n",
    "plt.xlabel(\"t-SNE component 0\")\n",
    "plt.ylabel(\"t-SNE component 1\")\n",
    "\n",
    "plt.tight_layout()\n",
    "plt.savefig(\"../figures/lhc_tsne.pdf\")"
   ]
  },
  {
   "cell_type": "markdown",
   "metadata": {},
   "source": [
    "## Closure test vs noise"
   ]
  },
  {
   "cell_type": "code",
   "execution_count": 18,
   "metadata": {},
   "outputs": [
    {
     "name": "stderr",
     "output_type": "stream",
     "text": [
      "12:20 experiments.simulators.collide INFO    Scaling LHC data back to conventional normalization\n"
     ]
    },
    {
     "data": {
      "text/plain": [
       "0.00018370548612127137"
      ]
     },
     "execution_count": 18,
     "metadata": {},
     "output_type": "execute_result"
    }
   ],
   "source": [
    "sim.distance_from_manifold(x)"
   ]
  },
  {
   "cell_type": "code",
   "execution_count": 19,
   "metadata": {},
   "outputs": [
    {
     "name": "stderr",
     "output_type": "stream",
     "text": [
      "12:20 experiments.simulators.collide INFO    Scaling LHC data back to conventional normalization\n",
      "12:20 experiments.simulators.collide INFO    Scaling LHC data back to conventional normalization\n",
      "12:20 experiments.simulators.collide INFO    Scaling LHC data back to conventional normalization\n",
      "12:20 experiments.simulators.collide INFO    Scaling LHC data back to conventional normalization\n",
      "12:20 experiments.simulators.collide INFO    Scaling LHC data back to conventional normalization\n",
      "12:20 experiments.simulators.collide INFO    Scaling LHC data back to conventional normalization\n",
      "12:20 experiments.simulators.collide INFO    Scaling LHC data back to conventional normalization\n",
      "12:20 experiments.simulators.collide INFO    Scaling LHC data back to conventional normalization\n",
      "12:20 experiments.simulators.collide INFO    Scaling LHC data back to conventional normalization\n",
      "12:20 experiments.simulators.collide INFO    Scaling LHC data back to conventional normalization\n",
      "12:20 experiments.simulators.collide INFO    Scaling LHC data back to conventional normalization\n",
      "12:20 experiments.simulators.collide INFO    Scaling LHC data back to conventional normalization\n",
      "12:20 experiments.simulators.collide INFO    Scaling LHC data back to conventional normalization\n",
      "12:20 experiments.simulators.collide INFO    Scaling LHC data back to conventional normalization\n",
      "12:20 experiments.simulators.collide INFO    Scaling LHC data back to conventional normalization\n",
      "12:20 experiments.simulators.collide INFO    Scaling LHC data back to conventional normalization\n",
      "12:20 experiments.simulators.collide INFO    Scaling LHC data back to conventional normalization\n",
      "12:20 experiments.simulators.collide INFO    Scaling LHC data back to conventional normalization\n",
      "12:20 experiments.simulators.collide INFO    Scaling LHC data back to conventional normalization\n",
      "12:20 experiments.simulators.collide INFO    Scaling LHC data back to conventional normalization\n",
      "12:20 experiments.simulators.collide INFO    Scaling LHC data back to conventional normalization\n",
      "12:20 experiments.simulators.collide INFO    Scaling LHC data back to conventional normalization\n",
      "12:20 experiments.simulators.collide INFO    Scaling LHC data back to conventional normalization\n",
      "12:20 experiments.simulators.collide INFO    Scaling LHC data back to conventional normalization\n",
      "12:20 experiments.simulators.collide INFO    Scaling LHC data back to conventional normalization\n",
      "12:20 experiments.simulators.collide INFO    Scaling LHC data back to conventional normalization\n",
      "12:20 experiments.simulators.collide INFO    Scaling LHC data back to conventional normalization\n",
      "12:20 experiments.simulators.collide INFO    Scaling LHC data back to conventional normalization\n",
      "12:20 experiments.simulators.collide INFO    Scaling LHC data back to conventional normalization\n",
      "12:20 experiments.simulators.collide INFO    Scaling LHC data back to conventional normalization\n",
      "12:20 experiments.simulators.collide INFO    Scaling LHC data back to conventional normalization\n",
      "12:20 experiments.simulators.collide INFO    Scaling LHC data back to conventional normalization\n",
      "12:20 experiments.simulators.collide INFO    Scaling LHC data back to conventional normalization\n",
      "12:20 experiments.simulators.collide INFO    Scaling LHC data back to conventional normalization\n",
      "12:20 experiments.simulators.collide INFO    Scaling LHC data back to conventional normalization\n",
      "12:20 experiments.simulators.collide INFO    Scaling LHC data back to conventional normalization\n",
      "12:20 experiments.simulators.collide INFO    Scaling LHC data back to conventional normalization\n",
      "12:20 experiments.simulators.collide INFO    Scaling LHC data back to conventional normalization\n",
      "12:20 experiments.simulators.collide INFO    Scaling LHC data back to conventional normalization\n",
      "12:20 experiments.simulators.collide INFO    Scaling LHC data back to conventional normalization\n",
      "12:20 experiments.simulators.collide INFO    Scaling LHC data back to conventional normalization\n",
      "12:20 experiments.simulators.collide INFO    Scaling LHC data back to conventional normalization\n",
      "12:20 experiments.simulators.collide INFO    Scaling LHC data back to conventional normalization\n",
      "12:20 experiments.simulators.collide INFO    Scaling LHC data back to conventional normalization\n",
      "12:20 experiments.simulators.collide INFO    Scaling LHC data back to conventional normalization\n",
      "12:20 experiments.simulators.collide INFO    Scaling LHC data back to conventional normalization\n",
      "12:20 experiments.simulators.collide INFO    Scaling LHC data back to conventional normalization\n",
      "12:20 experiments.simulators.collide INFO    Scaling LHC data back to conventional normalization\n",
      "12:20 experiments.simulators.collide INFO    Scaling LHC data back to conventional normalization\n",
      "12:20 experiments.simulators.collide INFO    Scaling LHC data back to conventional normalization\n",
      "12:20 experiments.simulators.collide INFO    Scaling LHC data back to conventional normalization\n",
      "12:20 experiments.simulators.collide INFO    Scaling LHC data back to conventional normalization\n",
      "12:20 experiments.simulators.collide INFO    Scaling LHC data back to conventional normalization\n",
      "12:20 experiments.simulators.collide INFO    Scaling LHC data back to conventional normalization\n",
      "12:20 experiments.simulators.collide INFO    Scaling LHC data back to conventional normalization\n",
      "12:20 experiments.simulators.collide INFO    Scaling LHC data back to conventional normalization\n",
      "12:20 experiments.simulators.collide INFO    Scaling LHC data back to conventional normalization\n",
      "12:20 experiments.simulators.collide INFO    Scaling LHC data back to conventional normalization\n",
      "12:20 experiments.simulators.collide INFO    Scaling LHC data back to conventional normalization\n",
      "12:20 experiments.simulators.collide INFO    Scaling LHC data back to conventional normalization\n",
      "12:20 experiments.simulators.collide INFO    Scaling LHC data back to conventional normalization\n",
      "12:20 experiments.simulators.collide INFO    Scaling LHC data back to conventional normalization\n",
      "12:20 experiments.simulators.collide INFO    Scaling LHC data back to conventional normalization\n",
      "12:20 experiments.simulators.collide INFO    Scaling LHC data back to conventional normalization\n",
      "12:20 experiments.simulators.collide INFO    Scaling LHC data back to conventional normalization\n",
      "12:20 experiments.simulators.collide INFO    Scaling LHC data back to conventional normalization\n",
      "12:20 experiments.simulators.collide INFO    Scaling LHC data back to conventional normalization\n",
      "12:20 experiments.simulators.collide INFO    Scaling LHC data back to conventional normalization\n",
      "12:20 experiments.simulators.collide INFO    Scaling LHC data back to conventional normalization\n",
      "12:20 experiments.simulators.collide INFO    Scaling LHC data back to conventional normalization\n",
      "12:20 experiments.simulators.collide INFO    Scaling LHC data back to conventional normalization\n",
      "12:20 experiments.simulators.collide INFO    Scaling LHC data back to conventional normalization\n",
      "12:20 experiments.simulators.collide INFO    Scaling LHC data back to conventional normalization\n",
      "12:20 experiments.simulators.collide INFO    Scaling LHC data back to conventional normalization\n",
      "12:20 experiments.simulators.collide INFO    Scaling LHC data back to conventional normalization\n",
      "12:20 experiments.simulators.collide INFO    Scaling LHC data back to conventional normalization\n",
      "12:20 experiments.simulators.collide INFO    Scaling LHC data back to conventional normalization\n",
      "12:20 experiments.simulators.collide INFO    Scaling LHC data back to conventional normalization\n",
      "12:20 experiments.simulators.collide INFO    Scaling LHC data back to conventional normalization\n",
      "12:20 experiments.simulators.collide INFO    Scaling LHC data back to conventional normalization\n",
      "12:20 experiments.simulators.collide INFO    Scaling LHC data back to conventional normalization\n",
      "12:20 experiments.simulators.collide INFO    Scaling LHC data back to conventional normalization\n",
      "12:20 experiments.simulators.collide INFO    Scaling LHC data back to conventional normalization\n",
      "12:20 experiments.simulators.collide INFO    Scaling LHC data back to conventional normalization\n",
      "12:20 experiments.simulators.collide INFO    Scaling LHC data back to conventional normalization\n"
     ]
    },
    {
     "name": "stderr",
     "output_type": "stream",
     "text": [
      "12:20 experiments.simulators.collide INFO    Scaling LHC data back to conventional normalization\n",
      "12:20 experiments.simulators.collide INFO    Scaling LHC data back to conventional normalization\n",
      "12:20 experiments.simulators.collide INFO    Scaling LHC data back to conventional normalization\n",
      "12:20 experiments.simulators.collide INFO    Scaling LHC data back to conventional normalization\n",
      "12:20 experiments.simulators.collide INFO    Scaling LHC data back to conventional normalization\n",
      "12:20 experiments.simulators.collide INFO    Scaling LHC data back to conventional normalization\n",
      "12:20 experiments.simulators.collide INFO    Scaling LHC data back to conventional normalization\n",
      "12:20 experiments.simulators.collide INFO    Scaling LHC data back to conventional normalization\n",
      "12:20 experiments.simulators.collide INFO    Scaling LHC data back to conventional normalization\n",
      "12:20 experiments.simulators.collide INFO    Scaling LHC data back to conventional normalization\n",
      "12:20 experiments.simulators.collide INFO    Scaling LHC data back to conventional normalization\n",
      "12:20 experiments.simulators.collide INFO    Scaling LHC data back to conventional normalization\n",
      "12:20 experiments.simulators.collide INFO    Scaling LHC data back to conventional normalization\n",
      "12:20 experiments.simulators.collide INFO    Scaling LHC data back to conventional normalization\n",
      "12:20 experiments.simulators.collide INFO    Scaling LHC data back to conventional normalization\n"
     ]
    }
   ],
   "source": [
    "noises = np.geomspace(1.e-9, 1., 100)\n",
    "\n",
    "closure = []\n",
    "\n",
    "for noise in noises:\n",
    "    closure.append(sim.distance_from_manifold(x + noise * np.random.normal(size=x.shape)))"
   ]
  },
  {
   "cell_type": "code",
   "execution_count": 23,
   "metadata": {},
   "outputs": [
    {
     "data": {
      "image/png": "[encoded data removed]",
      "text/plain": [
       "<Figure size 360x360 with 1 Axes>"
      ]
     },
     "metadata": {
      "needs_background": "light"
     },
     "output_type": "display_data"
    }
   ],
   "source": [
    "plt.figure(figsize=(5,5))\n",
    "\n",
    "plt.plot(noises, closure)\n",
    "\n",
    "plt.xscale(\"log\")\n",
    "plt.yscale(\"log\")\n",
    "\n",
    "plt.xlabel(\"Noise\")\n",
    "plt.ylabel(\"Closure metric\")\n",
    "\n",
    "plt.tight_layout()\n",
    "plt.savefig(\"../figures/lhc_closure_vs_noise.pdf\")\n"
   ]
  },
  {
   "cell_type": "code",
   "execution_count": 21,
   "metadata": {},
   "outputs": [
    {
     "name": "stdout",
     "output_type": "stream",
     "text": [
      "pT\n",
      "4.031331438270058e-06\n",
      "1.2720772707606186e-06\n",
      "4.0648736094226475e-06\n",
      "1.9068806075956956e-06\n",
      "7.601364374858477e-06\n",
      "7.011951904935643e-06\n",
      "phi\n",
      "9.165175303866473e-09\n",
      "8.996366318955306e-09\n",
      "9.92857474564797e-09\n",
      "8.796107831039388e-09\n",
      "3.745610018733407e-08\n",
      "3.5137610659333836e-08\n",
      "eta\n",
      "1.648474136379998e-08\n",
      "1.667615080864815e-08\n",
      "1.9918569693517466e-08\n",
      "2.179120023045153e-08\n",
      "2.6933632313810126e-08\n",
      "4.151394197173669e-08\n",
      "E\n",
      "1.5572530641506433e-05\n",
      "5.22851286031667e-06\n",
      "27.874336357951986\n",
      "416.7354069014843\n",
      "particle sum\n",
      "1.0342597962051058e-05\n",
      "3.204536438249761e-05\n",
      "4.559149034671029e-06\n",
      "4.929363728371217e-06\n",
      "4.547283053397633e-06\n",
      "4.794757814041928e-06\n",
      "8.75759869914039e-06\n",
      "2.3999743164205832e-05\n",
      "particle delta\n",
      "1.1228548846821569e-08\n",
      "2.7185247763548276e-08\n",
      "6.14870805498019e-08\n",
      "4.080426880768333e-08\n"
     ]
    }
   ],
   "source": [
    "# pT vs px, py\n",
    "print(\"pT\")\n",
    "print(sim._pt_discrepancy(x_, 4, 1, 2))\n",
    "print(sim._pt_discrepancy(x_, 11, 8, 9))\n",
    "print(sim._pt_discrepancy(x_, 18, 15, 16))\n",
    "print(sim._pt_discrepancy(x_, 25, 22, 23))\n",
    "print(sim._pt_discrepancy(x_, 32, 29, 30))\n",
    "print(sim._pt_discrepancy(x_, 42, 39, 40))\n",
    "\n",
    "# phi vs px, py\n",
    "print(\"phi\")\n",
    "print(sim._phi_discrepancy(x_, 6, 1, 2))\n",
    "print(sim._phi_discrepancy(x_, 13, 8, 9))\n",
    "print(sim._phi_discrepancy(x_, 20, 15, 16))\n",
    "print(sim._phi_discrepancy(x_, 27, 22, 23))\n",
    "print(sim._phi_discrepancy(x_, 35, 29, 30))\n",
    "print(sim._phi_discrepancy(x_, 45, 39, 40))\n",
    "\n",
    "# eta vs E, px, py, pz\n",
    "print(\"eta\")\n",
    "print(sim._eta_discrepancy(x_, 5, 0, 1, 2, 3))\n",
    "print(sim._eta_discrepancy(x_, 12, 7, 8, 9, 10))\n",
    "print(sim._eta_discrepancy(x_, 19, 14, 15, 16, 17))\n",
    "print(sim._eta_discrepancy(x_, 26, 21, 22, 23, 24))\n",
    "print(sim._eta_discrepancy(x_, 34, 28, 29, 30, 31))\n",
    "print(sim._eta_discrepancy(x_, 44, 38, 39, 40, 41))\n",
    "\n",
    "# E vs on-shell and m vs on-shell\n",
    "print(\"E\")\n",
    "print(sim._on_shell_discrepancy(x_, 0, 1, 2, 3))\n",
    "print(sim._on_shell_discrepancy(x_, 7, 8, 9, 10))\n",
    "print(sim._on_shell_discrepancy(x_, 28, 29, 30, 31, m=x[:, 33]))\n",
    "print(sim._on_shell_discrepancy(x_, 38, 39, 40, 41, m=x[:, 43]))\n",
    "\n",
    "# reconstructed particles vs daughters\n",
    "print(\"particle sum\")\n",
    "for add in [0, 1, 2, 3]:\n",
    "    print(sim._daughter_discrepancy(x_, 28 + add, 0 + add, 7 + add))\n",
    "    print(sim._daughter_discrepancy(x_, 38 + add, 14 + add, 21 + add))\n",
    "\n",
    "# delta something discrepancies\n",
    "print(\"particle delta\")\n",
    "print(sim._delta_discrepancy(x_, 36, 5, 12))\n",
    "print(sim._delta_discrepancy(x_, 37, 6, 13))\n",
    "print(sim._delta_discrepancy(x_, 46, 19, 26))\n",
    "print(sim._delta_discrepancy(x_, 47, 20, 27))"
   ]
  },
  {
   "cell_type": "code",
   "execution_count": null,
   "metadata": {},
   "outputs": [],
   "source": []
  }
 ],
 "metadata": {
  "kernelspec": {
   "display_name": "Python (ML)",
   "language": "python",
   "name": "ml"
  },
  "language_info": {
   "codemirror_mode": {
    "name": "ipython",
    "version": 3
   },
   "file_extension": ".py",
   "mimetype": "text/x-python",
   "name": "python",
   "nbconvert_exporter": "python",
   "pygments_lexer": "ipython3",
   "version": "3.6.8"
  }
 },
 "nbformat": 4,
 "nbformat_minor": 2
}
