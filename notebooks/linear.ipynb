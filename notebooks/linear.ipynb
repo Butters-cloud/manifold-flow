{
 "cells": [
  {
   "cell_type": "code",
   "execution_count": 6,
   "metadata": {
    "collapsed": true
   },
   "outputs": [],
   "source": [
    "import numpy as np\n",
    "import logging\n",
    "import sys\n",
    "from matplotlib import pyplot as plt\n",
    "\n",
    "%matplotlib inline\n",
    "sys.path.append(\"../\")\n",
    "\n",
    "import torch\n",
    "from torchvision.datasets import MNIST\n",
    "from torchvision import transforms\n",
    "\n",
    "from aef.models.aef import LinearAutoencoder, ConvolutionalAutoencoder, DenseAutoencoder\n",
    "from aef.trainer import AutoencoderTrainer, AutoencoderFlowTrainer\n",
    "from aef.losses import nll, mse\n",
    "\n",
    "logging.basicConfig(\n",
    "    format=\"%(asctime)-5.5s %(name)-20.20s %(levelname)-7.7s %(message)s\",\n",
    "    datefmt=\"%H:%M\",\n",
    "    level=logging.INFO,\n",
    ")\n"
   ]
  },
  {
   "cell_type": "markdown",
   "metadata": {},
   "source": [
    "## Data"
   ]
  },
  {
   "cell_type": "code",
   "execution_count": 2,
   "metadata": {
    "collapsed": true
   },
   "outputs": [],
   "source": [
    "img_transform = transforms.Compose([\n",
    "    transforms.ToTensor(),\n",
    "    transforms.Normalize((0.5,), (0.5,))\n",
    "])\n",
    "mnist = MNIST('./data', download=True, transform=img_transform)"
   ]
  },
  {
   "cell_type": "markdown",
   "metadata": {},
   "source": [
    "## Train autoencoder"
   ]
  },
  {
   "cell_type": "code",
   "execution_count": 3,
   "metadata": {
    "collapsed": true
   },
   "outputs": [],
   "source": [
    "ae = LinearAutoencoder(latent_dim=20)"
   ]
  },
  {
   "cell_type": "code",
   "execution_count": 4,
   "metadata": {},
   "outputs": [
    {
     "name": "stderr",
     "output_type": "stream",
     "text": [
      "12:44 aef.trainer          INFO    Epoch   1: train loss  0.38373 (MSE:  0.384)\n",
      "12:44 aef.trainer          INFO               val. loss   0.23628 (MSE:  0.236)\n",
      "12:44 aef.trainer          INFO    Epoch   2: train loss  0.21599 (MSE:  0.216)\n",
      "12:44 aef.trainer          INFO               val. loss   0.19546 (MSE:  0.195)\n",
      "12:44 aef.trainer          INFO    Epoch   3: train loss  0.18591 (MSE:  0.186)\n",
      "12:44 aef.trainer          INFO               val. loss   0.17671 (MSE:  0.177)\n",
      "12:45 aef.trainer          INFO    Epoch   4: train loss  0.17264 (MSE:  0.173)\n",
      "12:45 aef.trainer          INFO               val. loss   0.16812 (MSE:  0.168)\n",
      "12:45 aef.trainer          INFO    Epoch   5: train loss  0.16611 (MSE:  0.166)\n",
      "12:45 aef.trainer          INFO               val. loss   0.16357 (MSE:  0.164)\n",
      "12:46 aef.trainer          INFO    Epoch   6: train loss  0.16253 (MSE:  0.163)\n",
      "12:46 aef.trainer          INFO               val. loss   0.16095 (MSE:  0.161)\n",
      "12:46 aef.trainer          INFO    Epoch   7: train loss  0.16046 (MSE:  0.160)\n",
      "12:46 aef.trainer          INFO               val. loss   0.15944 (MSE:  0.159)\n",
      "12:47 aef.trainer          INFO    Epoch   8: train loss  0.15920 (MSE:  0.159)\n",
      "12:47 aef.trainer          INFO               val. loss   0.15852 (MSE:  0.159)\n",
      "12:47 aef.trainer          INFO    Epoch   9: train loss  0.15843 (MSE:  0.158)\n",
      "12:47 aef.trainer          INFO               val. loss   0.15791 (MSE:  0.158)\n",
      "12:48 aef.trainer          INFO    Epoch  10: train loss  0.15796 (MSE:  0.158)\n",
      "12:48 aef.trainer          INFO               val. loss   0.15757 (MSE:  0.158)\n",
      "12:48 aef.trainer          INFO    Early stopping did not improve performance\n"
     ]
    },
    {
     "data": {
      "text/plain": [
       "(array([0.38373476, 0.2159896 , 0.18590829, 0.17263613, 0.16611483,\n",
       "        0.16253368, 0.16045673, 0.15920294, 0.15843015, 0.15796479]),\n",
       " array([0.23627509, 0.19546227, 0.17670867, 0.16811791, 0.16356901,\n",
       "        0.16094959, 0.15944439, 0.15852198, 0.15791299, 0.15756598]))"
      ]
     },
     "execution_count": 4,
     "metadata": {},
     "output_type": "execute_result"
    }
   ],
   "source": [
    "trainer = AutoencoderTrainer(ae, output_filename=\"output/linear_phase1\")\n",
    "trainer.train(\n",
    "    dataset=mnist,\n",
    "    loss_functions=[mse],\n",
    "    loss_labels=[\"MSE\"],\n",
    "    batch_size=256,\n",
    "    epochs=10,\n",
    "    verbose=\"all\",\n",
    "    initial_lr=1.e-3,\n",
    "    final_lr=1.e-5\n",
    ")"
   ]
  },
  {
   "cell_type": "code",
   "execution_count": 7,
   "metadata": {},
   "outputs": [
    {
     "name": "stderr",
     "output_type": "stream",
     "text": [
      "12:50 aef.trainer          INFO    Epoch   1: train loss  6.70760 (NLL:  6.708)\n",
      "12:50 aef.trainer          INFO               val. loss   2.94287 (NLL:  2.943)\n",
      "12:51 aef.trainer          INFO    Epoch   2: train loss  2.21820 (NLL:  2.218)\n",
      "12:51 aef.trainer          INFO               val. loss   1.87041 (NLL:  1.870)\n",
      "12:51 aef.trainer          INFO    Epoch   3: train loss  1.52925 (NLL:  1.529)\n",
      "12:51 aef.trainer          INFO               val. loss   1.51029 (NLL:  1.510)\n",
      "12:51 aef.trainer          INFO    Epoch   4: train loss  1.21785 (NLL:  1.218)\n",
      "12:51 aef.trainer          INFO               val. loss   1.25081 (NLL:  1.251)\n",
      "12:52 aef.trainer          INFO    Epoch   5: train loss  1.05185 (NLL:  1.052)\n",
      "12:52 aef.trainer          INFO               val. loss   1.24243 (NLL:  1.242)\n",
      "12:52 aef.trainer          INFO    Epoch   6: train loss  0.96892 (NLL:  0.969)\n",
      "12:52 aef.trainer          INFO               val. loss   1.12239 (NLL:  1.122)\n",
      "12:53 aef.trainer          INFO    Epoch   7: train loss  0.90665 (NLL:  0.907)\n",
      "12:53 aef.trainer          INFO               val. loss   1.01576 (NLL:  1.016)\n",
      "12:53 aef.trainer          INFO    Epoch   8: train loss  0.87590 (NLL:  0.876)\n",
      "12:53 aef.trainer          INFO               val. loss   1.04434 (NLL:  1.044)\n",
      "12:53 aef.trainer          INFO    Epoch   9: train loss  0.85562 (NLL:  0.856)\n",
      "12:53 aef.trainer          INFO               val. loss   1.07195 (NLL:  1.072)\n",
      "12:54 aef.trainer          INFO    Epoch  10: train loss  0.84587 (NLL:  0.846)\n",
      "12:54 aef.trainer          INFO               val. loss   1.10259 (NLL:  1.103)\n",
      "12:54 aef.trainer          INFO    Early stopping after epoch 7, with loss  1.01576 compared to final loss  1.10259\n"
     ]
    },
    {
     "data": {
      "text/plain": [
       "(array([6.70759836, 2.21820221, 1.5292514 , 1.21785227, 1.05184544,\n",
       "        0.96891843, 0.90665354, 0.87589779, 0.85561718, 0.84586942]),\n",
       " array([2.94286701, 1.87040907, 1.51028906, 1.25081363, 1.24242838,\n",
       "        1.12238981, 1.01575777, 1.04433545, 1.07195497, 1.10258527]))"
      ]
     },
     "execution_count": 7,
     "metadata": {},
     "output_type": "execute_result"
    }
   ],
   "source": [
    "trainer = AutoencoderFlowTrainer(ae, output_filename=\"output/linear_phase2\")\n",
    "trainer.train(\n",
    "    dataset=mnist,\n",
    "    loss_functions=[nll],\n",
    "    loss_labels=[\"NLL\"],\n",
    "    batch_size=256,\n",
    "    epochs=10,\n",
    "    verbose=\"all\",\n",
    "    initial_lr=1.e-3,\n",
    "    final_lr=1.e-5,\n",
    "    parameters=ae.flow.parameters()\n",
    ")"
   ]
  },
  {
   "cell_type": "markdown",
   "metadata": {},
   "source": [
    "## Visualize latent space"
   ]
  },
  {
   "cell_type": "code",
   "execution_count": null,
   "metadata": {
    "collapsed": true
   },
   "outputs": [],
   "source": [
    "x = torch.cat([mnist[i][0].unsqueeze(0) for i in range(1000)], dim=0)\n",
    "y = np.asarray([mnist[i][1] for i in range(1000)])"
   ]
  },
  {
   "cell_type": "code",
   "execution_count": null,
   "metadata": {
    "collapsed": true
   },
   "outputs": [],
   "source": [
    "h, u = ae.latent(x)\n",
    "x_out = ae.decoder(h)\n",
    "h = h.detach().numpy().reshape((-1,2))\n",
    "u = u.detach().numpy().reshape((-1,2))"
   ]
  },
  {
   "cell_type": "code",
   "execution_count": null,
   "metadata": {
    "collapsed": true
   },
   "outputs": [],
   "source": [
    "fig = plt.figure(figsize=(10,5))\n",
    "\n",
    "ax = plt.subplot(1,2,1)\n",
    "for i in range(10):\n",
    "    plt.scatter(h[y==i][:,0], h[y==i][:,1], c=\"C{}\".format(i), s=20., label=\"{}\".format(i+1))\n",
    "plt.legend()\n",
    "    \n",
    "ax = plt.subplot(1,2,2)\n",
    "for i in range(10):\n",
    "    plt.scatter(u[y==i][:,0], u[y==i][:,1], c=\"C{}\".format(i), s=20., label=\"{}\".format(i+1))\n",
    "plt.legend()\n",
    "\n",
    "plt.tight_layout()\n",
    "plt.show()\n"
   ]
  },
  {
   "cell_type": "markdown",
   "metadata": {
    "collapsed": true
   },
   "source": [
    "## Visualize reconstruction"
   ]
  },
  {
   "cell_type": "code",
   "execution_count": null,
   "metadata": {
    "collapsed": true
   },
   "outputs": [],
   "source": [
    "x = torch.cat([mnist[i][0].unsqueeze(0) for i in range(1000)], dim=0)\n",
    "y = np.asarray([mnist[i][1] for i in range(1000)])"
   ]
  },
  {
   "cell_type": "code",
   "execution_count": null,
   "metadata": {
    "collapsed": true
   },
   "outputs": [],
   "source": [
    "h = ae.encoder(x)\n",
    "x_out = ae.decoder(h)\n",
    "h = h.detach().numpy()\n",
    "x_out = x_out.detach().numpy()"
   ]
  },
  {
   "cell_type": "code",
   "execution_count": null,
   "metadata": {
    "collapsed": true
   },
   "outputs": [],
   "source": [
    "fig = plt.figure(figsize=(12,12))\n",
    "\n",
    "for i in range(18):\n",
    "    ax = plt.subplot(6, 6, 2*i + 1)\n",
    "    plt.imshow(x[i].reshape((28,28)))\n",
    "    ax = plt.subplot(6, 6, 2*i + 2)\n",
    "    plt.imshow(x_out[i].reshape((28,28)))\n",
    "        \n",
    "plt.tight_layout()\n",
    "plt.show()"
   ]
  },
  {
   "cell_type": "code",
   "execution_count": null,
   "metadata": {
    "collapsed": true
   },
   "outputs": [],
   "source": []
  }
 ],
 "metadata": {
  "kernelspec": {
   "display_name": "Python (ML)",
   "language": "python",
   "name": "ml"
  },
  "language_info": {
   "codemirror_mode": {
    "name": "ipython",
    "version": 3
   },
   "file_extension": ".py",
   "mimetype": "text/x-python",
   "name": "python",
   "nbconvert_exporter": "python",
   "pygments_lexer": "ipython3",
   "version": "3.6.8"
  }
 },
 "nbformat": 4,
 "nbformat_minor": 2
}
