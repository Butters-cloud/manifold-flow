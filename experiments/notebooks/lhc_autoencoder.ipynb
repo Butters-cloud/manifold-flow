{
 "cells": [
  {
   "cell_type": "markdown",
   "metadata": {},
   "source": [
    "# Test dim of LHC dataset"
   ]
  },
  {
   "cell_type": "code",
   "execution_count": 1,
   "metadata": {},
   "outputs": [],
   "source": [
    "%matplotlib inline\n",
    "\n",
    "import sys\n",
    "import numpy as np\n",
    "import matplotlib\n",
    "from matplotlib import pyplot as plt\n",
    "import corner\n",
    "import logging\n",
    "import torch\n",
    "from torch import nn\n",
    "\n",
    "logging.basicConfig(\n",
    "    format=\"%(asctime)-5.5s %(name)-30.30s %(levelname)-7.7s %(message)s\",\n",
    "    datefmt=\"%H:%M\",\n",
    "    level=logging.INFO,\n",
    ")\n",
    "\n",
    "sys.path.append(\"../../\")\n",
    "from experiments.datasets import WBFLoader, WBF40DLoader\n",
    "from experiments.training import Nu\n",
    "import plot_settings as ps\n"
   ]
  },
  {
   "cell_type": "code",
   "execution_count": 2,
   "metadata": {},
   "outputs": [],
   "source": [
    "ps.setup()"
   ]
  },
  {
   "cell_type": "markdown",
   "metadata": {},
   "source": [
    "## Autoencoder"
   ]
  },
  {
   "cell_type": "code",
   "execution_count": 45,
   "metadata": {},
   "outputs": [],
   "source": [
    "def test_latent_dim(dim, epochs=50, lr=1.e-2, batchsize=200):\n",
    "    print(f\"Starting AE training with latent dim {dim}\")\n",
    "    \n",
    "    autoencoder = nn.Sequential(\n",
    "        nn.Linear(40, 25),\n",
    "        nn.ReLU(),\n",
    "        nn.Linear(25, dim),\n",
    "        nn.ReLU(),\n",
    "        nn.Linear(dim, 25),\n",
    "        nn.ReLU(),\n",
    "        nn.Linear(25, 40)\n",
    "    )\n",
    "    \n",
    "    dataset = WBF40DLoader().load_dataset(train=True, dataset_dir=\"../data/samples/lhc40d\")\n",
    "    dataloader = torch.utils.data.DataLoader(dataset, batch_size=batchsize, shuffle=True, num_workers=4)\n",
    "    optimizer = torch.optim.AdamW(autoencoder.parameters(), lr=lr)\n",
    "    scheduler = torch.optim.lr_scheduler.CosineAnnealingLR(optimizer, T_max=epochs)\n",
    "    criterion = nn.MSELoss()\n",
    "\n",
    "    for epoch in range(epochs):\n",
    "        total_loss = 0.\n",
    "        for data in dataloader:\n",
    "            x, _ = data\n",
    "            x_reco = autoencoder(x)\n",
    "            loss = criterion(x_reco, x)\n",
    "\n",
    "            optimizer.zero_grad()\n",
    "            loss.backward()\n",
    "            optimizer.step()\n",
    "            scheduler.step(epoch)\n",
    "            total_loss += loss.item()\n",
    "\n",
    "        print('Epoch {}: reco error = {:.4f}'.format(epoch+1, total_loss / len(dataloader)))\n",
    "        \n",
    "    autoencoder.eval()\n",
    "    dataset = WBF40DLoader().load_dataset(train=True, dataset_dir=\"../data/samples/lhc40d\")\n",
    "    dataloader = torch.utils.data.DataLoader(dataset, batch_size=1000)\n",
    "    test_loss = 0.\n",
    "    for data in dataloader:\n",
    "        x, _ = data\n",
    "        x_reco = autoencoder(x)\n",
    "        loss = criterion(x_reco, x)\n",
    "        test_loss += loss.item()\n",
    "        \n",
    "    print('Test reco error = {:.4f}'.format(test_loss / len(dataloader)))\n",
    "    print('')\n",
    "    \n",
    "    return test_loss / len(dataloader)\n",
    "    "
   ]
  },
  {
   "cell_type": "code",
   "execution_count": null,
   "metadata": {},
   "outputs": [
    {
     "name": "stdout",
     "output_type": "stream",
     "text": [
      "Starting AE training with latent dim 20\n",
      "Epoch 1: reco error = 0.0405\n",
      "Epoch 2: reco error = 0.0229\n",
      "Epoch 3: reco error = 0.0197\n",
      "Epoch 4: reco error = 0.0194\n",
      "Epoch 5: reco error = 0.0192\n",
      "Epoch 6: reco error = 0.0190\n"
     ]
    }
   ],
   "source": [
    "dims = [20, 18, 16, 14, 12, 10, 8, 6, 4, 2]\n",
    "\n",
    "mses = [test_latent_dim(dim) for dim in dims]"
   ]
  },
  {
   "cell_type": "code",
   "execution_count": null,
   "metadata": {},
   "outputs": [],
   "source": []
  }
 ],
 "metadata": {
  "kernelspec": {
   "display_name": "Python (ML)",
   "language": "python",
   "name": "ml"
  },
  "language_info": {
   "codemirror_mode": {
    "name": "ipython",
    "version": 3
   },
   "file_extension": ".py",
   "mimetype": "text/x-python",
   "name": "python",
   "nbconvert_exporter": "python",
   "pygments_lexer": "ipython3",
   "version": "3.6.8"
  }
 },
 "nbformat": 4,
 "nbformat_minor": 4
}
