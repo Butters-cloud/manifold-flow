{
 "cells": [
  {
   "cell_type": "markdown",
   "metadata": {},
   "source": [
    "# Conditional Gaussian on a sphere"
   ]
  },
  {
   "cell_type": "markdown",
   "metadata": {},
   "source": [
    "## Setup"
   ]
  },
  {
   "cell_type": "code",
   "execution_count": 1,
   "metadata": {},
   "outputs": [],
   "source": [
    "%matplotlib inline\n",
    "\n",
    "import sys\n",
    "import numpy as np\n",
    "import matplotlib\n",
    "from matplotlib import pyplot as plt\n",
    "import torch\n",
    "from torch.utils.data import TensorDataset\n",
    "import logging\n",
    "from mpl_toolkits.mplot3d import Axes3D\n",
    "\n",
    "sys.path.append(\"../../\")\n",
    "\n",
    "logging.basicConfig(\n",
    "    format=\"%(asctime)-5.5s %(name)-30.30s %(levelname)-7.7s %(message)s\",\n",
    "    datefmt=\"%H:%M\",\n",
    "    level=logging.DEBUG,\n",
    ")\n",
    "logger = logging.getLogger(__name__)\n",
    "# Output of all other modules (e.g. matplotlib)\n",
    "for key in logging.Logger.manager.loggerDict:\n",
    "    if \"manifold_flow\" not in key:\n",
    "        logging.getLogger(key).setLevel(logging.WARNING)\n"
   ]
  },
  {
   "cell_type": "markdown",
   "metadata": {},
   "source": [
    "## Load results"
   ]
  },
  {
   "cell_type": "code",
   "execution_count": 2,
   "metadata": {},
   "outputs": [],
   "source": [
    "setup_filenames = [\n",
    "    \"2_3_0.010\",\n",
    "    \"2_3_0.001\",\n",
    "    \"2_3_0.100\",\n",
    "]\n",
    "setup_labels = [\n",
    "    \"ε = 0.01\",\n",
    "    \"ε = 0.001\",\n",
    "    \"ε = 0.1\",\n",
    "]"
   ]
  },
  {
   "cell_type": "code",
   "execution_count": 3,
   "metadata": {},
   "outputs": [],
   "source": [
    "algo_filenames = []\n",
    "algo_additionals = []\n",
    "algo_labels = []\n",
    "\n",
    "def add_algo(filename, add, label):\n",
    "    algo_filenames.append(filename)\n",
    "    algo_additionals.append(add)\n",
    "    algo_labels.append(label)\n",
    "    \n",
    "    \n",
    "add_algo(\"flow\", \"_small\", \"Flow\")\n",
    "add_algo(\"flow\", \"_small_long\", \"Flow (long)\")\n",
    "add_algo(\"flow\", \"_small_shallow_long\", \"Flow (shallow, long)\")\n",
    "\n",
    "add_algo(\"pie\", \"_small\", \"PIE\") \n",
    "add_algo(\"pie\", \"_small_long\", \"PIE (long)\") \n",
    "add_algo(\"pie\", \"_small_shallow_long\", \"PIE (shallow, long)\") \n",
    "\n",
    "add_algo(\"mf\", \"_small\", \"MAD AF\")\n",
    "add_algo(\"mf\", \"_small_noprepost\", \"MAD AF (no pre/post)\")\n",
    "add_algo(\"mf\", \"_small_complex\", \"MAD AF (complex)\") \n",
    "add_algo(\"mf\", \"_small_long\", \"MAD AF (long)\")\n",
    "add_algo(\"mf\", \"_small_shallow_long\", \"MAD AF (shallow, long)\")\n",
    "\n",
    "add_algo(\"emf\", \"_small\", \"MAD AF + Enc.\")\n",
    "\n",
    "add_algo(\"gamf\", \"_small_largebs\", \"OT MAD AF (Sinkhorn)\")\n",
    "add_algo(\"gamf\", \"_small_ged_largebs\", \"OT MAD AF (GED)\") \n",
    "add_algo(\"gamf\", \"_small_ged_largebs_long\", \"OT MAD AF (GED, long)\") \n",
    "add_algo(\"gamf\", \"_small_ged_largebs_shallow_long\", \"OT MAD AF (GED, shallow, long)\") \n",
    "\n",
    "add_algo(\"pie_specified\", \"_small\", \"Prescr. PIE\") \n",
    "add_algo(\"pie_specified\", \"_small_long\", \"Prescr. PIE (long)\") \n",
    "add_algo(\"pie_specified\", \"_small_shallow_long\", \"Prescr. PIE (shallow, long)\") \n",
    "\n",
    "add_algo(\"mf_specified\", \"_small\", \"Prescr. MAD AF\") \n",
    "add_algo(\"mf_specified\", \"_small_long\", \"Prescr. MAD AF (long)\") \n",
    "add_algo(\"mf_specified\", \"_small_shallow_long\", \"Prescr. MAD AF (shallow, long)\")\n",
    "\n",
    "add_algo(\"gamf_specified\", \"_small_largebs\", \"Prescr. OT MAD AF (Sinkhorn)\")\n",
    "add_algo(\"gamf_specified\", \"_small_ged_largebs\", \"Prescr. OT MAD AF (GED)\") \n",
    "add_algo(\"gamf_specified\", \"_small_ged_largebs_long\", \"Prescr. OT MAD AF (GED, long)\") \n",
    "add_algo(\"gamf_specified\", \"_small_ged_largebs_shallow_long\", \"Prescr. OT MAD AF (GED, shallow, long)\") \n"
   ]
  },
  {
   "cell_type": "code",
   "execution_count": null,
   "metadata": {},
   "outputs": [],
   "source": [
    "def load(quantity, shape, numpyfy=True, result_dir=\"../data/results\"):\n",
    "    all_results = []\n",
    "    \n",
    "    for algo_filename, algo_add in zip(algo_filenames, algo_additionals):\n",
    "        results = []\n",
    "        \n",
    "        for setup_filename in setup_filenames:\n",
    "            try:\n",
    "                results.append(np.load(\n",
    "                    \"{}/{}_2_conditional_spherical_gaussian_{}{}_{}.npy\".format(\n",
    "                        result_dir, algo_filename, setup_filename, algo_add, quantity\n",
    "                    )\n",
    "                ))\n",
    "            except FileNotFoundError as e:\n",
    "                print(e)\n",
    "                results.append(np.nan*np.ones(shape))\n",
    "            \n",
    "        all_results.append(results)\n",
    "    \n",
    "    return np.asarray(all_results) if numpyfy else all_results\n",
    "\n",
    "true_posterior_samples = load(\"true_posterior_samples\", (1000,2))\n",
    "model_posterior_samples = load(\"model_posterior_samples\", (1000, 2))\n",
    "mmds = load(\"mmd\", (1,))\n",
    "\n",
    "true_test_log_likelihood = load(\"true_log_likelihood_test\", (11*11, 1000,))\n",
    "model_test_log_likelihood = load(\"model_log_likelihood_test\", (11*11, 1000,))\n",
    "model_test_reco_error = load(\"model_reco_error_test\", (1000,))\n",
    "parameter_grid = load(\"parameter_grid_test\", (11*11,2))\n",
    "\n",
    "model_test_log_likelihood.shape"
   ]
  },
  {
   "cell_type": "code",
   "execution_count": 7,
   "metadata": {},
   "outputs": [],
   "source": [
    "x_test = np.asarray([\n",
    "    np.load(\"../data/samples/conditional_spherical_gaussian/conditional_spherical_gaussian_{}_x_test.npy\".format(setup_filename))\n",
    "    for setup_filename in setup_filenames\n",
    "])\n",
    "\n",
    "true_distances = np.abs(np.sum(x_test**2, axis=-1)**0.5 - 1.)"
   ]
  },
  {
   "cell_type": "code",
   "execution_count": 8,
   "metadata": {},
   "outputs": [],
   "source": [
    "true_expected_nll = -2. * np.mean(true_test_log_likelihood, axis=-1)\n",
    "model_expected_nll = -2. * np.mean(model_test_log_likelihood, axis=-1)\n",
    "\n",
    "n_observed = 20\n",
    "true_observed_nll = -2. * np.sum(true_test_log_likelihood[:,:,:,:n_observed], axis=-1)\n",
    "model_observed_nll = -2. * np.sum(model_test_log_likelihood[:,:,:,:n_observed], axis=-1)"
   ]
  },
  {
   "cell_type": "markdown",
   "metadata": {},
   "source": [
    "## Print metrics"
   ]
  },
  {
   "cell_type": "code",
   "execution_count": null,
   "metadata": {},
   "outputs": [],
   "source": [
    "def print_results(setup):\n",
    "    print(\"{:<36.36s} | {:>8.8s}\".format(setup_labels[setup], \"MMD\"))\n",
    "    print(\"-\"*47)\n",
    "    for label, mmd in zip(algo_labels, mmds):\n",
    "        if np.isfinite(logp[setup]) or np.isfinite(dist[setup]):\n",
    "            print(\"{:<36.36s} | {:>8.2f}\".format(label, mmd[setup]))\n",
    "        else:\n",
    "            print(\"{:<36.36s} |         \".format(label))"
   ]
  },
  {
   "cell_type": "code",
   "execution_count": null,
   "metadata": {},
   "outputs": [],
   "source": [
    "print_results(0)"
   ]
  },
  {
   "cell_type": "code",
   "execution_count": null,
   "metadata": {},
   "outputs": [],
   "source": [
    "print_results(1)"
   ]
  },
  {
   "cell_type": "code",
   "execution_count": null,
   "metadata": {},
   "outputs": [],
   "source": [
    "print_results(2)"
   ]
  }
 ],
 "metadata": {
  "kernelspec": {
   "display_name": "Python (ML)",
   "language": "python",
   "name": "ml"
  },
  "language_info": {
   "codemirror_mode": {
    "name": "ipython",
    "version": 3
   },
   "file_extension": ".py",
   "mimetype": "text/x-python",
   "name": "python",
   "nbconvert_exporter": "python",
   "pygments_lexer": "ipython3",
   "version": "3.6.8"
  }
 },
 "nbformat": 4,
 "nbformat_minor": 2
}
