{
 "cells": [
  {
   "cell_type": "markdown",
   "metadata": {},
   "source": [
    "# Latent tour"
   ]
  },
  {
   "cell_type": "code",
   "execution_count": null,
   "metadata": {},
   "outputs": [],
   "source": [
    "%matplotlib inline\n",
    "\n",
    "import sys\n",
    "import numpy as np\n",
    "import matplotlib\n",
    "from matplotlib import pyplot as plt\n",
    "import torch\n",
    "import imageio\n",
    "from scipy import interpolate\n",
    "\n",
    "sys.path.append(\"../../\")\n",
    "from experiments.datasets import FFHQStyleGAN2DLoader\n",
    "from experiments.architectures.image_transforms import create_image_transform, create_image_encoder\n",
    "from experiments.architectures.vector_transforms import create_vector_transform\n",
    "from manifold_flow.flows import ManifoldFlow, EncoderManifoldFlow\n"
   ]
  },
  {
   "cell_type": "markdown",
   "metadata": {},
   "source": [
    "## Load models"
   ]
  },
  {
   "cell_type": "code",
   "execution_count": null,
   "metadata": {},
   "outputs": [],
   "source": [
    "def load_model(\n",
    "    filename,\n",
    "    outerlayers=20,\n",
    "    innerlayers=6,\n",
    "    levels=4,\n",
    "    splinebins=11,\n",
    "    splinerange=10.0,\n",
    "    dropout=0.0,\n",
    "    actnorm=True,\n",
    "    batchnorm=False,\n",
    "    linlayers=2,\n",
    "    linchannelfactor=1,\n",
    "    lineartransform=\"lu\"\n",
    "):\n",
    "    steps_per_level = outerlayers // levels\n",
    "    spline_params = {\n",
    "        \"apply_unconditional_transform\": False,\n",
    "        \"min_bin_height\": 0.001,\n",
    "        \"min_bin_width\": 0.001,\n",
    "        \"min_derivative\": 0.001,\n",
    "        \"num_bins\": splinebins,\n",
    "        \"tail_bound\": splinerange,\n",
    "    }\n",
    "    outer_transform = create_image_transform(\n",
    "        3,\n",
    "        64,\n",
    "        64,\n",
    "        levels=levels,\n",
    "        hidden_channels=100,\n",
    "        steps_per_level=steps_per_level,\n",
    "        num_res_blocks=2,\n",
    "        alpha=0.05,\n",
    "        num_bits=8,\n",
    "        preprocessing=\"glow\",\n",
    "        dropout_prob=dropout,\n",
    "        multi_scale=True,\n",
    "        spline_params=spline_params,\n",
    "        postprocessing=\"partial_mlp\",\n",
    "        postprocessing_layers=linlayers,\n",
    "        postprocessing_channel_factor=linchannelfactor,\n",
    "        use_actnorm=actnorm,\n",
    "        use_batchnorm=batchnorm,\n",
    "    )\n",
    "    inner_transform = create_vector_transform(\n",
    "        2,\n",
    "        innerlayers,\n",
    "        linear_transform_type=lineartransform,\n",
    "        base_transform_type=\"rq-coupling\",\n",
    "        context_features=None,\n",
    "        dropout_probability=dropout,\n",
    "        tail_bound=splinerange,\n",
    "        num_bins=splinebins,\n",
    "        use_batch_norm=batchnorm,\n",
    "    )\n",
    "    model = ManifoldFlow(\n",
    "        data_dim=(3, 64, 64),\n",
    "        latent_dim=2,\n",
    "        outer_transform=outer_transform,\n",
    "        inner_transform=inner_transform,\n",
    "        apply_context_to_outer=False,\n",
    "        pie_epsilon=0.1,\n",
    "        clip_pie=None\n",
    "    )\n",
    "        \n",
    "    model.load_state_dict(\n",
    "        torch.load(\"../data/models/{}.pt\".format(filename), map_location=torch.device(\"cpu\"))\n",
    "    )\n",
    "    _ = model.eval()\n",
    "    \n",
    "    return model"
   ]
  },
  {
   "cell_type": "code",
   "execution_count": null,
   "metadata": {},
   "outputs": [],
   "source": [
    "def load_emf_model(\n",
    "    filename,\n",
    "    outerlayers=20,\n",
    "    innerlayers=6,\n",
    "    levels=4,\n",
    "    splinebins=11,\n",
    "    splinerange=10.0,\n",
    "    dropout=0.0,\n",
    "    actnorm=True,\n",
    "    batchnorm=False,\n",
    "    linlayers=2,\n",
    "    linchannelfactor=1,\n",
    "    lineartransform=\"lu\"\n",
    "):\n",
    "    steps_per_level = outerlayers // levels\n",
    "    spline_params = {\n",
    "        \"apply_unconditional_transform\": False,\n",
    "        \"min_bin_height\": 0.001,\n",
    "        \"min_bin_width\": 0.001,\n",
    "        \"min_derivative\": 0.001,\n",
    "        \"num_bins\": splinebins,\n",
    "        \"tail_bound\": splinerange,\n",
    "    }\n",
    "    encoder = create_image_encoder(\n",
    "        3,\n",
    "        64,\n",
    "        64,\n",
    "        latent_dim=2,\n",
    "        context_features=None,\n",
    "    )\n",
    "    outer_transform = create_image_transform(\n",
    "        3,\n",
    "        64,\n",
    "        64,\n",
    "        levels=levels,\n",
    "        hidden_channels=100,\n",
    "        steps_per_level=steps_per_level,\n",
    "        num_res_blocks=2,\n",
    "        alpha=0.05,\n",
    "        num_bits=8,\n",
    "        preprocessing=\"glow\",\n",
    "        dropout_prob=dropout,\n",
    "        multi_scale=True,\n",
    "        spline_params=spline_params,\n",
    "        postprocessing=\"partial_mlp\",\n",
    "        postprocessing_layers=linlayers,\n",
    "        postprocessing_channel_factor=linchannelfactor,\n",
    "        use_actnorm=actnorm,\n",
    "        use_batchnorm=batchnorm,\n",
    "    )\n",
    "    inner_transform = create_vector_transform(\n",
    "        2,\n",
    "        innerlayers,\n",
    "        linear_transform_type=lineartransform,\n",
    "        base_transform_type=\"rq-coupling\",\n",
    "        context_features=None,\n",
    "        dropout_probability=dropout,\n",
    "        tail_bound=splinerange,\n",
    "        num_bins=splinebins,\n",
    "        use_batch_norm=batchnorm,\n",
    "    )\n",
    "    model = EncoderManifoldFlow(\n",
    "        data_dim=(3, 64, 64),\n",
    "        latent_dim=2,\n",
    "        encoder=encoder,\n",
    "        outer_transform=outer_transform,\n",
    "        inner_transform=inner_transform,\n",
    "        apply_context_to_outer=False,\n",
    "        pie_epsilon=0.1,\n",
    "        clip_pie=None\n",
    "    )\n",
    "        \n",
    "    model.load_state_dict(\n",
    "        torch.load(\"../data/models/{}.pt\".format(filename), map_location=torch.device(\"cpu\"))\n",
    "    )\n",
    "    _ = model.eval()\n",
    "    \n",
    "    return model"
   ]
  },
  {
   "cell_type": "code",
   "execution_count": null,
   "metadata": {},
   "outputs": [],
   "source": [
    "mf = load_model(\"mf_2_gan2d_april\")\n",
    "emf = load_emf_model(\"emf_2_gan2d_april\")\n",
    "pie = load_model(\"pie_2_gan2d_april\")"
   ]
  },
  {
   "cell_type": "markdown",
   "metadata": {},
   "source": [
    "## Master function"
   ]
  },
  {
   "cell_type": "code",
   "execution_count": null,
   "metadata": {},
   "outputs": [],
   "source": [
    "def make_tour(model, z_checkpoints, filename, n_frames=200, fps=25):\n",
    "    n_checkpoints = len(z_checkpoints)\n",
    "    checkpoint_frames = [int(round(i * n_frames / n_checkpoints, 0)) for i in range(n_checkpoints)]\n",
    "    \n",
    "    z_checkpoints = np.concatenate((z_checkpoints, z_checkpoints[0:1]), axis=0)\n",
    "    tck, u = interpolate.splprep(z_checkpoints.T, s=0, per=True)\n",
    "    z_frames = np.array(interpolate.splev(np.linspace(0, 1, n_frames), tck)).T\n",
    "    \n",
    "    ims = []\n",
    "    for z in z_frames:\n",
    "        x = model.decode(torch.tensor(z).to(torch.float).unsqueeze(0)).squeeze().detach().numpy()\n",
    "        x = np.transpose(x, [1,2,0])\n",
    "        ims.append(x)\n",
    "    \n",
    "    imageio.mimsave(filename, ims, 'GIF-FI', duration=1.0/fps)\n",
    "    "
   ]
  },
  {
   "cell_type": "markdown",
   "metadata": {},
   "source": [
    "## Circle tour"
   ]
  },
  {
   "cell_type": "code",
   "execution_count": null,
   "metadata": {},
   "outputs": [],
   "source": [
    "n_frames = 200\n",
    "\n",
    "ts = np.linspace(0., 2. * np.pi, n_frames + 1)[:-1]\n",
    "zs = np.vstack((np.cos(ts), np.sin(ts))).T\n",
    "\n",
    "make_tour(mf, zs, n_frames=n_frames, filename=\"../figures/gan2d_tour_circle.gif\")\n"
   ]
  },
  {
   "cell_type": "markdown",
   "metadata": {},
   "source": [
    "## Tour from a real image"
   ]
  },
  {
   "cell_type": "code",
   "execution_count": null,
   "metadata": {},
   "outputs": [],
   "source": [
    "x_reals = np.array([plt.imread(\"../data/merle.jpg\")])\n",
    "x_reals_ = torch.tensor(x_reals.transpose(0,3,1,2)).to(torch.float)\n",
    "z_reals = mf.encode(x_reals_).detach().numpy()\n",
    "z_reals"
   ]
  },
  {
   "cell_type": "code",
   "execution_count": null,
   "metadata": {},
   "outputs": [],
   "source": [
    "z_tour = np.array([\n",
    "    z_reals[0],\n",
    "    [1.0, 0.],\n",
    "    [1., 1.],\n",
    "    [0., 0.9],\n",
    "    [-0.7,-0.7],\n",
    "    [-1.0,0.0],\n",
    "    [-0.5, -1.5],\n",
    "    [0.0, -1.2],\n",
    "])"
   ]
  },
  {
   "cell_type": "code",
   "execution_count": null,
   "metadata": {},
   "outputs": [],
   "source": [
    "make_tour(mf, z_tour, n_frames=200, filename=\"../figures/merle.gif\")"
   ]
  },
  {
   "cell_type": "code",
   "execution_count": null,
   "metadata": {},
   "outputs": [],
   "source": []
  }
 ],
 "metadata": {
  "kernelspec": {
   "display_name": "Python (ML)",
   "language": "python",
   "name": "ml"
  },
  "language_info": {
   "codemirror_mode": {
    "name": "ipython",
    "version": 3
   },
   "file_extension": ".py",
   "mimetype": "text/x-python",
   "name": "python",
   "nbconvert_exporter": "python",
   "pygments_lexer": "ipython3",
   "version": "3.7.3"
  }
 },
 "nbformat": 4,
 "nbformat_minor": 4
}
