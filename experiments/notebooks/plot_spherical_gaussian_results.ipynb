{
 "cells": [
  {
   "cell_type": "markdown",
   "metadata": {},
   "source": [
    "# Spherical Gaussian experiment (2D)"
   ]
  },
  {
   "cell_type": "markdown",
   "metadata": {},
   "source": [
    "## Setup"
   ]
  },
  {
   "cell_type": "code",
   "execution_count": 1,
   "metadata": {},
   "outputs": [],
   "source": [
    "import sys\n",
    "import numpy as np\n",
    "import matplotlib\n",
    "from matplotlib import pyplot as plt\n",
    "import torch\n",
    "from torch.utils.data import TensorDataset\n",
    "import logging\n",
    "\n",
    "sys.path.append(\"../../\")\n",
    "\n",
    "%matplotlib inline\n",
    "\n",
    "logging.basicConfig(\n",
    "    format=\"%(asctime)-5.5s %(name)-30.30s %(levelname)-7.7s %(message)s\",\n",
    "    datefmt=\"%H:%M\",\n",
    "    level=logging.DEBUG,\n",
    ")\n",
    "logger = logging.getLogger(__name__)\n",
    "# Output of all other modules (e.g. matplotlib)\n",
    "for key in logging.Logger.manager.loggerDict:\n",
    "    if \"manifold_flow\" not in key:\n",
    "        logging.getLogger(key).setLevel(logging.WARNING)\n"
   ]
  },
  {
   "cell_type": "markdown",
   "metadata": {},
   "source": [
    "## Load results"
   ]
  },
  {
   "cell_type": "code",
   "execution_count": 2,
   "metadata": {},
   "outputs": [],
   "source": [
    "algo_filenames = [\"flow\", \"pie\", \"mf\"]\n",
    "algo_labels = [\"Standard flow\", \"PIE\", \"Manifold flow\"]\n",
    "\n",
    "setup_filenames = [\n",
    "    \"10_15_0.010\",\n",
    "    \"10_15_0.001\",\n",
    "    \"10_15_0.003\",\n",
    "    \"10_15_0.030\",\n",
    "    \"10_15_0.100\",\n",
    "    \"10_11_0.010\",\n",
    "    \"10_13_0.010\",\n",
    "    \"10_20_0.010\",\n",
    "    \"10_30_0.010\",\n",
    "]\n"
   ]
  },
  {
   "cell_type": "code",
   "execution_count": 11,
   "metadata": {},
   "outputs": [
    {
     "name": "stdout",
     "output_type": "stream",
     "text": [
      "(1000,)\n",
      "(1000,)\n",
      "(1000,)\n",
      "(1000,)\n",
      "(1000,)\n",
      "(1000,)\n",
      "(1000,)\n",
      "(1000,)\n",
      "(1000,)\n",
      "(1000,)\n",
      "[Errno 2] No such file or directory: '../data/results/pie_10_spherical_gaussian_10_15_0.001_samples.npy'\n",
      "[Errno 2] No such file or directory: '../data/results/pie_10_spherical_gaussian_10_15_0.003_samples.npy'\n",
      "[Errno 2] No such file or directory: '../data/results/pie_10_spherical_gaussian_10_15_0.030_samples.npy'\n",
      "[Errno 2] No such file or directory: '../data/results/pie_10_spherical_gaussian_10_15_0.100_samples.npy'\n",
      "[Errno 2] No such file or directory: '../data/results/pie_10_spherical_gaussian_10_11_0.010_samples.npy'\n",
      "[Errno 2] No such file or directory: '../data/results/pie_10_spherical_gaussian_10_13_0.010_samples.npy'\n",
      "[Errno 2] No such file or directory: '../data/results/pie_10_spherical_gaussian_10_20_0.010_samples.npy'\n",
      "[Errno 2] No such file or directory: '../data/results/pie_10_spherical_gaussian_10_30_0.010_samples.npy'\n",
      "[Errno 2] No such file or directory: '../data/results/mf_10_spherical_gaussian_10_15_0.010_samples.npy'\n",
      "[Errno 2] No such file or directory: '../data/results/mf_10_spherical_gaussian_10_15_0.001_samples.npy'\n",
      "[Errno 2] No such file or directory: '../data/results/mf_10_spherical_gaussian_10_15_0.003_samples.npy'\n",
      "[Errno 2] No such file or directory: '../data/results/mf_10_spherical_gaussian_10_15_0.030_samples.npy'\n",
      "[Errno 2] No such file or directory: '../data/results/mf_10_spherical_gaussian_10_15_0.100_samples.npy'\n",
      "[Errno 2] No such file or directory: '../data/results/mf_10_spherical_gaussian_10_11_0.010_samples.npy'\n",
      "[Errno 2] No such file or directory: '../data/results/mf_10_spherical_gaussian_10_13_0.010_samples.npy'\n",
      "[Errno 2] No such file or directory: '../data/results/mf_10_spherical_gaussian_10_20_0.010_samples.npy'\n",
      "[Errno 2] No such file or directory: '../data/results/mf_10_spherical_gaussian_10_30_0.010_samples.npy'\n"
     ]
    }
   ],
   "source": [
    "result_dir = \"../data/results\"\n",
    "\n",
    "x_gen = []\n",
    "logp_gen = []\n",
    "distance_gen = []\n",
    "\n",
    "for algo_filename in algo_filenames:\n",
    "    x_gen_ = []\n",
    "    logp_gen_ = []\n",
    "    distance_gen_ = []\n",
    "    for setup_filename in setup_filenames:\n",
    "        try:\n",
    "            x_gen_.append(np.load(\n",
    "                \"{}/{}_10_spherical_gaussian_{}_samples.npy\".format(result_dir, algo_filename, setup_filename)\n",
    "            ))\n",
    "        except FileNotFoundError as e:\n",
    "            print(e)\n",
    "            x_gen_.append(None)\n",
    "            \n",
    "        try:\n",
    "            logp_gen_.append(np.load(\n",
    "                \"{}/{}_10_spherical_gaussian_{}_samples_likelihood.npy\".format(result_dir, algo_filename, setup_filename)\n",
    "            ))\n",
    "        except:\n",
    "            logp_gen_.append(np.nan*np.ones(1000))\n",
    "            \n",
    "        try:\n",
    "            distance_gen_.append(np.load(\n",
    "                \"{}/{}_10_spherical_gaussian_{}_samples_manifold_distance.npy\".format(result_dir, algo_filename, setup_filename)\n",
    "            ))\n",
    "        except:\n",
    "            distance_gen_.append(np.nan*np.ones(1000))\n",
    "            \n",
    "    x_gen.append(x_gen_)\n",
    "    logp_gen.append(logp_gen_)\n",
    "    distance_gen.append(distance_gen_)\n",
    "    \n",
    "logp_gen = np.asarray(logp_gen)\n",
    "distance_gen = np.asarray(distance_gen)\n"
   ]
  },
  {
   "cell_type": "code",
   "execution_count": 15,
   "metadata": {},
   "outputs": [
    {
     "ename": "TypeError",
     "evalue": "nan_to_num() got an unexpected keyword argument 'nan'",
     "output_type": "error",
     "traceback": [
      "\u001b[0;31m---------------------------------------------------------------------------\u001b[0m",
      "\u001b[0;31mTypeError\u001b[0m                                 Traceback (most recent call last)",
      "\u001b[0;32m<ipython-input-15-3d7ab71c3995>\u001b[0m in \u001b[0;36m<module>\u001b[0;34m\u001b[0m\n\u001b[1;32m      1\u001b[0m \u001b[0mmin_logp\u001b[0m \u001b[0;34m=\u001b[0m \u001b[0;34m-\u001b[0m\u001b[0;36m1000.\u001b[0m\u001b[0;34m\u001b[0m\u001b[0;34m\u001b[0m\u001b[0m\n\u001b[1;32m      2\u001b[0m \u001b[0;34m\u001b[0m\u001b[0m\n\u001b[0;32m----> 3\u001b[0;31m \u001b[0mmean_logp_gen\u001b[0m \u001b[0;34m=\u001b[0m \u001b[0mnp\u001b[0m\u001b[0;34m.\u001b[0m\u001b[0mmean\u001b[0m\u001b[0;34m(\u001b[0m\u001b[0mnp\u001b[0m\u001b[0;34m.\u001b[0m\u001b[0mclip\u001b[0m\u001b[0;34m(\u001b[0m\u001b[0mnp\u001b[0m\u001b[0;34m.\u001b[0m\u001b[0mnan_to_num\u001b[0m\u001b[0;34m(\u001b[0m\u001b[0mlogp_gen\u001b[0m\u001b[0;34m,\u001b[0m \u001b[0mnan\u001b[0m\u001b[0;34m=\u001b[0m\u001b[0mnp\u001b[0m\u001b[0;34m.\u001b[0m\u001b[0mnan\u001b[0m\u001b[0;34m,\u001b[0m \u001b[0mposinf\u001b[0m\u001b[0;34m=\u001b[0m\u001b[0mnp\u001b[0m\u001b[0;34m.\u001b[0m\u001b[0minf\u001b[0m\u001b[0;34m,\u001b[0m \u001b[0mneginf\u001b[0m\u001b[0;34m=\u001b[0m\u001b[0mmin_logp\u001b[0m\u001b[0;34m)\u001b[0m\u001b[0;34m,\u001b[0m \u001b[0mmin_logp\u001b[0m\u001b[0;34m,\u001b[0m \u001b[0;32mNone\u001b[0m\u001b[0;34m)\u001b[0m\u001b[0;34m,\u001b[0m \u001b[0maxis\u001b[0m\u001b[0;34m=\u001b[0m\u001b[0;36m2\u001b[0m\u001b[0;34m)\u001b[0m\u001b[0;34m\u001b[0m\u001b[0;34m\u001b[0m\u001b[0m\n\u001b[0m\u001b[1;32m      4\u001b[0m \u001b[0mmean_distance_gen\u001b[0m \u001b[0;34m=\u001b[0m \u001b[0mnp\u001b[0m\u001b[0;34m.\u001b[0m\u001b[0mmean\u001b[0m\u001b[0;34m(\u001b[0m\u001b[0mdistance_gen\u001b[0m\u001b[0;34m,\u001b[0m \u001b[0maxis\u001b[0m\u001b[0;34m=\u001b[0m\u001b[0;36m2\u001b[0m\u001b[0;34m)\u001b[0m\u001b[0;34m\u001b[0m\u001b[0;34m\u001b[0m\u001b[0m\n",
      "\u001b[0;31mTypeError\u001b[0m: nan_to_num() got an unexpected keyword argument 'nan'"
     ]
    }
   ],
   "source": [
    "min_logp = -1000.\n",
    "\n",
    "mean_logp_gen = np.mean(np.clip(logp_gen), min_logp, None), axis=2)\n",
    "mean_distance_gen = np.mean(distance_gen, axis=2)\n"
   ]
  },
  {
   "cell_type": "markdown",
   "metadata": {},
   "source": [
    "## Plot results"
   ]
  },
  {
   "cell_type": "code",
   "execution_count": 13,
   "metadata": {},
   "outputs": [
    {
     "data": {
      "image/png": "[encoded data removed]",
      "text/plain": [
       "<Figure size 720x360 with 2 Axes>"
      ]
     },
     "metadata": {
      "needs_background": "light"
     },
     "output_type": "display_data"
    }
   ],
   "source": [
    "show = [5, 6, 0, 7, 8]\n",
    "xs = [11, 13, 15, 20, 30]\n",
    "\n",
    "fig = plt.figure(figsize=(10,5))\n",
    "\n",
    "ax = plt.subplot(1,2,1)\n",
    "for mean_logp_gen_, algo_label in zip(mean_logp_gen, algo_labels):\n",
    "    plt.plot(xs, mean_logp_gen_[show], label=algo_label)\n",
    "plt.legend()\n",
    "plt.xscale(\"log\")\n",
    "plt.xlabel(\"Data dimension\")\n",
    "plt.ylabel(\"Mean true log likelihood of samples generated from flow\")\n",
    "\n",
    "ax = plt.subplot(1,2,2)\n",
    "for mean_distance_gen_, algo_label in zip(mean_distance_gen, algo_labels):\n",
    "    plt.plot(xs, mean_distance_gen_[show], label=algo_label)\n",
    "plt.legend()\n",
    "plt.xscale(\"log\")\n",
    "plt.xlabel(\"Data dimension\")\n",
    "plt.ylabel(\"Mean distance to manifold of samples generated from flow\")\n",
    "\n",
    "plt.tight_layout()\n",
    "plt.show()\n"
   ]
  },
  {
   "cell_type": "code",
   "execution_count": null,
   "metadata": {},
   "outputs": [],
   "source": []
  }
 ],
 "metadata": {
  "kernelspec": {
   "display_name": "Python (ML)",
   "language": "python",
   "name": "ml"
  },
  "language_info": {
   "codemirror_mode": {
    "name": "ipython",
    "version": 3
   },
   "file_extension": ".py",
   "mimetype": "text/x-python",
   "name": "python",
   "nbconvert_exporter": "python",
   "pygments_lexer": "ipython3",
   "version": "3.6.8"
  }
 },
 "nbformat": 4,
 "nbformat_minor": 2
}
