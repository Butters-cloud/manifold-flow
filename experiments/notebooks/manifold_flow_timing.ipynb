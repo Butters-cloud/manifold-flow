{
 "cells": [
  {
   "cell_type": "code",
   "execution_count": 1,
   "metadata": {},
   "outputs": [],
   "source": [
    "import sys\n",
    "import time\n",
    "import torch\n",
    "from torch.utils.data import TensorDataset\n",
    "import numpy as np\n",
    "from matplotlib import pyplot as plt\n",
    "import logging\n",
    "\n",
    "sys.path.append(\"../../\")\n",
    "import manifold_flow as mf\n",
    "from manifold_flow import transforms, utils, flows, distributions, training, timer\n",
    "from manifold_flow import nn as nn_\n",
    "\n",
    "%matplotlib inline\n",
    "\n",
    "logging.basicConfig(\n",
    "    format=\"%(asctime)-5.5s %(name)-30.30s %(levelname)-7.7s %(message)s\",\n",
    "    datefmt=\"%H:%M\",\n",
    "    level=logging.DEBUG,\n",
    ")\n",
    "logger = logging.getLogger(__name__)\n",
    "# Output of all other modules (e.g. matplotlib)\n",
    "for key in logging.Logger.manager.loggerDict:\n",
    "    if \"manifold_flow\" not in key:\n",
    "        logging.getLogger(key).setLevel(logging.WARNING)\n"
   ]
  },
  {
   "cell_type": "markdown",
   "metadata": {},
   "source": [
    "## Timing function"
   ]
  },
  {
   "cell_type": "code",
   "execution_count": 2,
   "metadata": {},
   "outputs": [],
   "source": [
    "def make_data(dim, n=100):\n",
    "    return torch.randn(dim*n).view(n, dim)"
   ]
  },
  {
   "cell_type": "code",
   "execution_count": 3,
   "metadata": {},
   "outputs": [],
   "source": [
    "def make_model(xdim, blocks=5, ldim=1):\n",
    "    trf = flows.vector_transforms.create_transform(\n",
    "        dim=xdim,\n",
    "        flow_steps=5,\n",
    "        linear_transform_type=\"permutation\",\n",
    "        base_transform_type=\"affine-coupling\",\n",
    "        hidden_features=20,\n",
    "        num_transform_blocks=blocks,\n",
    "        dropout_probability=0.,\n",
    "        use_batch_norm=False\n",
    "    )\n",
    "    return trf"
   ]
  },
  {
   "cell_type": "code",
   "execution_count": 4,
   "metadata": {},
   "outputs": [],
   "source": [
    "def time_logdet(model, data, repeats=3):\n",
    "    times = []\n",
    "    for _ in range(repeats):\n",
    "        time_before = time.time()\n",
    "        \n",
    "        _ = model(data, full_jacobian=False)\n",
    "        \n",
    "        time_after = time.time()\n",
    "        \n",
    "        print(time_after-time_before, \"s\")\n",
    "        times.append(time_after-time_before)\n",
    "    return np.mean(times), np.std(times)"
   ]
  },
  {
   "cell_type": "code",
   "execution_count": 5,
   "metadata": {},
   "outputs": [],
   "source": [
    "def time_jacobian(model, data, repeats=3):\n",
    "    times = []\n",
    "    for _ in range(repeats):\n",
    "        timer.reset()\n",
    "        time_before = time.time()\n",
    "        \n",
    "        _ = model(data, full_jacobian=True)\n",
    "        \n",
    "        time_after = time.time()\n",
    "        timer.report()\n",
    "        \n",
    "        print(time_after-time_before, \"s\")\n",
    "        times.append(time_after-time_before)\n",
    "    return np.mean(times), np.std(times)"
   ]
  },
  {
   "cell_type": "code",
   "execution_count": 6,
   "metadata": {},
   "outputs": [],
   "source": [
    "def run(xdim, blocks=5, jacobian=True):\n",
    "    data = make_data(xdim)\n",
    "    data.requires_grad = True\n",
    "    model = make_model(xdim, blocks)\n",
    "    if jacobian:\n",
    "        return time_jacobian(model, data)\n",
    "    else:\n",
    "        return time_logdet(model, data)"
   ]
  },
  {
   "cell_type": "markdown",
   "metadata": {},
   "source": [
    "## Go!"
   ]
  },
  {
   "cell_type": "code",
   "execution_count": 7,
   "metadata": {
    "scrolled": false
   },
   "outputs": [
    {
     "name": "stderr",
     "output_type": "stream",
     "text": [
      "16:18 manifold_flow.timer            INFO    Timer:\n",
      "16:18 manifold_flow.timer            INFO                  Jacobian permutation:   0:00:00.00\n",
      "16:18 manifold_flow.timer            INFO               Jacobian multiplication:   0:00:00.00\n",
      "16:18 manifold_flow.timer            INFO           Jacobian coupling transform:   0:00:00.08\n",
      "16:18 manifold_flow.timer            INFO    Timer:\n",
      "16:18 manifold_flow.timer            INFO                  Jacobian permutation:   0:00:00.00\n",
      "16:18 manifold_flow.timer            INFO               Jacobian multiplication:   0:00:00.00\n",
      "16:18 manifold_flow.timer            INFO           Jacobian coupling transform:   0:00:00.09\n"
     ]
    },
    {
     "name": "stdout",
     "output_type": "stream",
     "text": [
      "blocks = 1, xdim = 2\n",
      "0.08352422714233398 s\n",
      "0.09737682342529297 s\n"
     ]
    },
    {
     "name": "stderr",
     "output_type": "stream",
     "text": [
      "16:18 manifold_flow.timer            INFO    Timer:\n",
      "16:18 manifold_flow.timer            INFO                  Jacobian permutation:   0:00:00.00\n",
      "16:18 manifold_flow.timer            INFO               Jacobian multiplication:   0:00:00.00\n",
      "16:18 manifold_flow.timer            INFO           Jacobian coupling transform:   0:00:00.11\n"
     ]
    },
    {
     "name": "stdout",
     "output_type": "stream",
     "text": [
      "0.11916899681091309 s\n",
      "0.005820035934448242 s\n",
      "0.0026819705963134766 s\n",
      "0.003522157669067383 s\n",
      "blocks = 1, xdim = 5\n"
     ]
    },
    {
     "name": "stderr",
     "output_type": "stream",
     "text": [
      "16:18 manifold_flow.timer            INFO    Timer:\n",
      "16:18 manifold_flow.timer            INFO                  Jacobian permutation:   0:00:00.00\n",
      "16:18 manifold_flow.timer            INFO               Jacobian multiplication:   0:00:00.00\n",
      "16:18 manifold_flow.timer            INFO           Jacobian coupling transform:   0:00:00.18\n",
      "16:18 manifold_flow.timer            INFO    Timer:\n",
      "16:18 manifold_flow.timer            INFO                  Jacobian permutation:   0:00:00.00\n",
      "16:18 manifold_flow.timer            INFO               Jacobian multiplication:   0:00:00.00\n",
      "16:18 manifold_flow.timer            INFO           Jacobian coupling transform:   0:00:00.18\n"
     ]
    },
    {
     "name": "stdout",
     "output_type": "stream",
     "text": [
      "0.18360304832458496 s\n",
      "0.1814100742340088 s\n"
     ]
    },
    {
     "name": "stderr",
     "output_type": "stream",
     "text": [
      "16:18 manifold_flow.timer            INFO    Timer:\n",
      "16:18 manifold_flow.timer            INFO                  Jacobian permutation:   0:00:00.00\n",
      "16:18 manifold_flow.timer            INFO               Jacobian multiplication:   0:00:00.00\n",
      "16:18 manifold_flow.timer            INFO           Jacobian coupling transform:   0:00:00.18\n"
     ]
    },
    {
     "name": "stdout",
     "output_type": "stream",
     "text": [
      "0.18370366096496582 s\n",
      "0.0022878646850585938 s\n",
      "0.004210948944091797 s\n",
      "0.002357006072998047 s\n",
      "blocks = 1, xdim = 10\n"
     ]
    },
    {
     "name": "stderr",
     "output_type": "stream",
     "text": [
      "16:18 manifold_flow.timer            INFO    Timer:\n",
      "16:18 manifold_flow.timer            INFO                  Jacobian permutation:   0:00:00.00\n",
      "16:18 manifold_flow.timer            INFO               Jacobian multiplication:   0:00:00.00\n",
      "16:18 manifold_flow.timer            INFO           Jacobian coupling transform:   0:00:00.33\n"
     ]
    },
    {
     "name": "stdout",
     "output_type": "stream",
     "text": [
      "0.33379697799682617 s\n"
     ]
    },
    {
     "name": "stderr",
     "output_type": "stream",
     "text": [
      "16:18 manifold_flow.timer            INFO    Timer:\n",
      "16:18 manifold_flow.timer            INFO                  Jacobian permutation:   0:00:00.00\n",
      "16:18 manifold_flow.timer            INFO               Jacobian multiplication:   0:00:00.00\n",
      "16:18 manifold_flow.timer            INFO           Jacobian coupling transform:   0:00:00.33\n"
     ]
    },
    {
     "name": "stdout",
     "output_type": "stream",
     "text": [
      "0.3332860469818115 s\n"
     ]
    },
    {
     "name": "stderr",
     "output_type": "stream",
     "text": [
      "16:18 manifold_flow.timer            INFO    Timer:\n",
      "16:18 manifold_flow.timer            INFO                  Jacobian permutation:   0:00:00.00\n",
      "16:18 manifold_flow.timer            INFO               Jacobian multiplication:   0:00:00.00\n",
      "16:18 manifold_flow.timer            INFO           Jacobian coupling transform:   0:00:00.34\n"
     ]
    },
    {
     "name": "stdout",
     "output_type": "stream",
     "text": [
      "0.34180474281311035 s\n",
      "0.003753185272216797 s\n",
      "0.002196073532104492 s\n",
      "0.0020558834075927734 s\n",
      "blocks = 1, xdim = 20\n"
     ]
    },
    {
     "name": "stderr",
     "output_type": "stream",
     "text": [
      "16:18 manifold_flow.timer            INFO    Timer:\n",
      "16:18 manifold_flow.timer            INFO                  Jacobian permutation:   0:00:00.00\n",
      "16:18 manifold_flow.timer            INFO               Jacobian multiplication:   0:00:00.00\n",
      "16:18 manifold_flow.timer            INFO           Jacobian coupling transform:   0:00:00.62\n"
     ]
    },
    {
     "name": "stdout",
     "output_type": "stream",
     "text": [
      "0.6246089935302734 s\n"
     ]
    },
    {
     "name": "stderr",
     "output_type": "stream",
     "text": [
      "16:18 manifold_flow.timer            INFO    Timer:\n",
      "16:18 manifold_flow.timer            INFO                  Jacobian permutation:   0:00:00.00\n",
      "16:18 manifold_flow.timer            INFO               Jacobian multiplication:   0:00:00.00\n",
      "16:18 manifold_flow.timer            INFO           Jacobian coupling transform:   0:00:00.72\n"
     ]
    },
    {
     "name": "stdout",
     "output_type": "stream",
     "text": [
      "0.7267129421234131 s\n"
     ]
    },
    {
     "name": "stderr",
     "output_type": "stream",
     "text": [
      "16:18 manifold_flow.timer            INFO    Timer:\n",
      "16:18 manifold_flow.timer            INFO                  Jacobian permutation:   0:00:00.00\n",
      "16:18 manifold_flow.timer            INFO               Jacobian multiplication:   0:00:00.00\n",
      "16:18 manifold_flow.timer            INFO           Jacobian coupling transform:   0:00:00.66\n"
     ]
    },
    {
     "name": "stdout",
     "output_type": "stream",
     "text": [
      "0.6657531261444092 s\n",
      "0.003556966781616211 s\n",
      "0.004156827926635742 s\n",
      "0.004164218902587891 s\n",
      "blocks = 1, xdim = 50\n"
     ]
    },
    {
     "name": "stderr",
     "output_type": "stream",
     "text": [
      "16:18 manifold_flow.timer            INFO    Timer:\n",
      "16:18 manifold_flow.timer            INFO                  Jacobian permutation:   0:00:00.01\n",
      "16:18 manifold_flow.timer            INFO               Jacobian multiplication:   0:00:00.00\n",
      "16:18 manifold_flow.timer            INFO           Jacobian coupling transform:   0:00:01.58\n"
     ]
    },
    {
     "name": "stdout",
     "output_type": "stream",
     "text": [
      "1.5925118923187256 s\n"
     ]
    },
    {
     "name": "stderr",
     "output_type": "stream",
     "text": [
      "16:18 manifold_flow.timer            INFO    Timer:\n",
      "16:18 manifold_flow.timer            INFO                  Jacobian permutation:   0:00:00.00\n",
      "16:18 manifold_flow.timer            INFO               Jacobian multiplication:   0:00:00.00\n",
      "16:18 manifold_flow.timer            INFO           Jacobian coupling transform:   0:00:01.65\n"
     ]
    },
    {
     "name": "stdout",
     "output_type": "stream",
     "text": [
      "1.665160894393921 s\n"
     ]
    },
    {
     "name": "stderr",
     "output_type": "stream",
     "text": [
      "16:18 manifold_flow.timer            INFO    Timer:\n",
      "16:18 manifold_flow.timer            INFO                  Jacobian permutation:   0:00:00.00\n",
      "16:18 manifold_flow.timer            INFO               Jacobian multiplication:   0:00:00.00\n",
      "16:18 manifold_flow.timer            INFO           Jacobian coupling transform:   0:00:01.70\n"
     ]
    },
    {
     "name": "stdout",
     "output_type": "stream",
     "text": [
      "1.709374189376831 s\n",
      "0.003690004348754883 s\n",
      "0.003271818161010742 s\n",
      "0.004325151443481445 s\n",
      "blocks = 1, xdim = 100\n"
     ]
    },
    {
     "name": "stderr",
     "output_type": "stream",
     "text": [
      "16:18 manifold_flow.timer            INFO    Timer:\n",
      "16:18 manifold_flow.timer            INFO                  Jacobian permutation:   0:00:00.02\n",
      "16:18 manifold_flow.timer            INFO               Jacobian multiplication:   0:00:00.02\n",
      "16:18 manifold_flow.timer            INFO           Jacobian coupling transform:   0:00:03.24\n"
     ]
    },
    {
     "name": "stdout",
     "output_type": "stream",
     "text": [
      "3.295037031173706 s\n"
     ]
    },
    {
     "name": "stderr",
     "output_type": "stream",
     "text": [
      "16:18 manifold_flow.timer            INFO    Timer:\n",
      "16:18 manifold_flow.timer            INFO                  Jacobian permutation:   0:00:00.01\n",
      "16:18 manifold_flow.timer            INFO               Jacobian multiplication:   0:00:00.02\n",
      "16:18 manifold_flow.timer            INFO           Jacobian coupling transform:   0:00:03.83\n"
     ]
    },
    {
     "name": "stdout",
     "output_type": "stream",
     "text": [
      "3.8704590797424316 s\n"
     ]
    },
    {
     "name": "stderr",
     "output_type": "stream",
     "text": [
      "16:18 manifold_flow.timer            INFO    Timer:\n",
      "16:18 manifold_flow.timer            INFO                  Jacobian permutation:   0:00:00.01\n",
      "16:18 manifold_flow.timer            INFO               Jacobian multiplication:   0:00:00.02\n",
      "16:18 manifold_flow.timer            INFO           Jacobian coupling transform:   0:00:02.90\n",
      "16:18 manifold_flow.timer            INFO    Timer:\n",
      "16:18 manifold_flow.timer            INFO                  Jacobian permutation:   0:00:00.00\n",
      "16:18 manifold_flow.timer            INFO               Jacobian multiplication:   0:00:00.00\n",
      "16:18 manifold_flow.timer            INFO           Jacobian coupling transform:   0:00:00.09\n"
     ]
    },
    {
     "name": "stdout",
     "output_type": "stream",
     "text": [
      "2.9337828159332275 s\n",
      "0.004545688629150391 s\n",
      "0.011760950088500977 s\n",
      "0.005335092544555664 s\n",
      "blocks = 2, xdim = 2\n",
      "0.0953831672668457 s\n"
     ]
    },
    {
     "name": "stderr",
     "output_type": "stream",
     "text": [
      "16:18 manifold_flow.timer            INFO    Timer:\n",
      "16:18 manifold_flow.timer            INFO                  Jacobian permutation:   0:00:00.00\n",
      "16:18 manifold_flow.timer            INFO               Jacobian multiplication:   0:00:00.00\n",
      "16:18 manifold_flow.timer            INFO           Jacobian coupling transform:   0:00:00.11\n",
      "16:18 manifold_flow.timer            INFO    Timer:\n",
      "16:18 manifold_flow.timer            INFO                  Jacobian permutation:   0:00:00.00\n",
      "16:18 manifold_flow.timer            INFO               Jacobian multiplication:   0:00:00.00\n",
      "16:18 manifold_flow.timer            INFO           Jacobian coupling transform:   0:00:00.10\n"
     ]
    },
    {
     "name": "stdout",
     "output_type": "stream",
     "text": [
      "0.11385989189147949 s\n",
      "0.10783267021179199 s\n",
      "0.002073049545288086 s\n",
      "0.0037698745727539062 s\n",
      "0.00452423095703125 s\n",
      "blocks = 2, xdim = 5\n"
     ]
    },
    {
     "name": "stderr",
     "output_type": "stream",
     "text": [
      "16:18 manifold_flow.timer            INFO    Timer:\n",
      "16:18 manifold_flow.timer            INFO                  Jacobian permutation:   0:00:00.00\n",
      "16:18 manifold_flow.timer            INFO               Jacobian multiplication:   0:00:00.00\n",
      "16:18 manifold_flow.timer            INFO           Jacobian coupling transform:   0:00:00.24\n"
     ]
    },
    {
     "name": "stdout",
     "output_type": "stream",
     "text": [
      "0.24727201461791992 s\n"
     ]
    },
    {
     "name": "stderr",
     "output_type": "stream",
     "text": [
      "16:18 manifold_flow.timer            INFO    Timer:\n",
      "16:18 manifold_flow.timer            INFO                  Jacobian permutation:   0:00:00.00\n",
      "16:18 manifold_flow.timer            INFO               Jacobian multiplication:   0:00:00.00\n",
      "16:18 manifold_flow.timer            INFO           Jacobian coupling transform:   0:00:00.22\n"
     ]
    },
    {
     "name": "stdout",
     "output_type": "stream",
     "text": [
      "0.22780275344848633 s\n"
     ]
    },
    {
     "name": "stderr",
     "output_type": "stream",
     "text": [
      "16:18 manifold_flow.timer            INFO    Timer:\n",
      "16:18 manifold_flow.timer            INFO                  Jacobian permutation:   0:00:00.00\n",
      "16:18 manifold_flow.timer            INFO               Jacobian multiplication:   0:00:00.00\n",
      "16:18 manifold_flow.timer            INFO           Jacobian coupling transform:   0:00:00.21\n"
     ]
    },
    {
     "name": "stdout",
     "output_type": "stream",
     "text": [
      "0.21849489212036133 s\n",
      "0.0021979808807373047 s\n",
      "0.003932952880859375 s\n",
      "0.0024347305297851562 s\n",
      "blocks = 2, xdim = 10\n"
     ]
    },
    {
     "name": "stderr",
     "output_type": "stream",
     "text": [
      "16:18 manifold_flow.timer            INFO    Timer:\n",
      "16:18 manifold_flow.timer            INFO                  Jacobian permutation:   0:00:00.00\n",
      "16:18 manifold_flow.timer            INFO               Jacobian multiplication:   0:00:00.00\n",
      "16:18 manifold_flow.timer            INFO           Jacobian coupling transform:   0:00:00.38\n"
     ]
    },
    {
     "name": "stdout",
     "output_type": "stream",
     "text": [
      "0.38439512252807617 s\n"
     ]
    },
    {
     "name": "stderr",
     "output_type": "stream",
     "text": [
      "16:18 manifold_flow.timer            INFO    Timer:\n",
      "16:18 manifold_flow.timer            INFO                  Jacobian permutation:   0:00:00.00\n",
      "16:18 manifold_flow.timer            INFO               Jacobian multiplication:   0:00:00.00\n",
      "16:18 manifold_flow.timer            INFO           Jacobian coupling transform:   0:00:00.40\n"
     ]
    },
    {
     "name": "stdout",
     "output_type": "stream",
     "text": [
      "0.40688490867614746 s\n"
     ]
    },
    {
     "name": "stderr",
     "output_type": "stream",
     "text": [
      "16:18 manifold_flow.timer            INFO    Timer:\n",
      "16:18 manifold_flow.timer            INFO                  Jacobian permutation:   0:00:00.00\n",
      "16:18 manifold_flow.timer            INFO               Jacobian multiplication:   0:00:00.00\n",
      "16:18 manifold_flow.timer            INFO           Jacobian coupling transform:   0:00:00.42\n"
     ]
    },
    {
     "name": "stdout",
     "output_type": "stream",
     "text": [
      "0.4224121570587158 s\n",
      "0.002405881881713867 s\n",
      "0.003061056137084961 s\n",
      "0.002574920654296875 s\n",
      "blocks = 2, xdim = 20\n"
     ]
    },
    {
     "name": "stderr",
     "output_type": "stream",
     "text": [
      "16:18 manifold_flow.timer            INFO    Timer:\n",
      "16:18 manifold_flow.timer            INFO                  Jacobian permutation:   0:00:00.00\n",
      "16:18 manifold_flow.timer            INFO               Jacobian multiplication:   0:00:00.00\n",
      "16:18 manifold_flow.timer            INFO           Jacobian coupling transform:   0:00:00.77\n"
     ]
    },
    {
     "name": "stdout",
     "output_type": "stream",
     "text": [
      "0.7776477336883545 s\n"
     ]
    },
    {
     "name": "stderr",
     "output_type": "stream",
     "text": [
      "16:18 manifold_flow.timer            INFO    Timer:\n",
      "16:18 manifold_flow.timer            INFO                  Jacobian permutation:   0:00:00.00\n",
      "16:18 manifold_flow.timer            INFO               Jacobian multiplication:   0:00:00.00\n",
      "16:18 manifold_flow.timer            INFO           Jacobian coupling transform:   0:00:00.76\n"
     ]
    },
    {
     "name": "stdout",
     "output_type": "stream",
     "text": [
      "0.7658109664916992 s\n"
     ]
    },
    {
     "name": "stderr",
     "output_type": "stream",
     "text": [
      "16:18 manifold_flow.timer            INFO    Timer:\n",
      "16:18 manifold_flow.timer            INFO                  Jacobian permutation:   0:00:00.00\n",
      "16:18 manifold_flow.timer            INFO               Jacobian multiplication:   0:00:00.00\n",
      "16:18 manifold_flow.timer            INFO           Jacobian coupling transform:   0:00:00.84\n"
     ]
    },
    {
     "name": "stdout",
     "output_type": "stream",
     "text": [
      "0.8438889980316162 s\n",
      "0.0036017894744873047 s\n",
      "0.003888845443725586 s\n",
      "0.0031130313873291016 s\n",
      "blocks = 2, xdim = 50\n"
     ]
    },
    {
     "name": "stderr",
     "output_type": "stream",
     "text": [
      "16:18 manifold_flow.timer            INFO    Timer:\n",
      "16:18 manifold_flow.timer            INFO                  Jacobian permutation:   0:00:00.01\n",
      "16:18 manifold_flow.timer            INFO               Jacobian multiplication:   0:00:00.01\n",
      "16:18 manifold_flow.timer            INFO           Jacobian coupling transform:   0:00:02.03\n"
     ]
    },
    {
     "name": "stdout",
     "output_type": "stream",
     "text": [
      "2.051514148712158 s\n"
     ]
    },
    {
     "name": "stderr",
     "output_type": "stream",
     "text": [
      "16:18 manifold_flow.timer            INFO    Timer:\n",
      "16:18 manifold_flow.timer            INFO                  Jacobian permutation:   0:00:00.00\n",
      "16:18 manifold_flow.timer            INFO               Jacobian multiplication:   0:00:00.00\n",
      "16:18 manifold_flow.timer            INFO           Jacobian coupling transform:   0:00:02.10\n"
     ]
    },
    {
     "name": "stdout",
     "output_type": "stream",
     "text": [
      "2.1101109981536865 s\n"
     ]
    },
    {
     "name": "stderr",
     "output_type": "stream",
     "text": [
      "16:18 manifold_flow.timer            INFO    Timer:\n",
      "16:18 manifold_flow.timer            INFO                  Jacobian permutation:   0:00:00.00\n",
      "16:18 manifold_flow.timer            INFO               Jacobian multiplication:   0:00:00.00\n",
      "16:18 manifold_flow.timer            INFO           Jacobian coupling transform:   0:00:02.13\n"
     ]
    },
    {
     "name": "stdout",
     "output_type": "stream",
     "text": [
      "2.1403839588165283 s\n",
      "0.011216163635253906 s\n",
      "0.005563259124755859 s\n",
      "0.009386062622070312 s\n",
      "blocks = 2, xdim = 100\n"
     ]
    },
    {
     "name": "stderr",
     "output_type": "stream",
     "text": [
      "16:18 manifold_flow.timer            INFO    Timer:\n",
      "16:18 manifold_flow.timer            INFO                  Jacobian permutation:   0:00:00.02\n",
      "16:18 manifold_flow.timer            INFO               Jacobian multiplication:   0:00:00.02\n",
      "16:18 manifold_flow.timer            INFO           Jacobian coupling transform:   0:00:03.65\n"
     ]
    },
    {
     "name": "stdout",
     "output_type": "stream",
     "text": [
      "3.706711769104004 s\n"
     ]
    },
    {
     "name": "stderr",
     "output_type": "stream",
     "text": [
      "16:18 manifold_flow.timer            INFO    Timer:\n",
      "16:18 manifold_flow.timer            INFO                  Jacobian permutation:   0:00:00.01\n",
      "16:18 manifold_flow.timer            INFO               Jacobian multiplication:   0:00:00.02\n",
      "16:18 manifold_flow.timer            INFO           Jacobian coupling transform:   0:00:03.61\n"
     ]
    },
    {
     "name": "stdout",
     "output_type": "stream",
     "text": [
      "3.6450891494750977 s\n"
     ]
    },
    {
     "name": "stderr",
     "output_type": "stream",
     "text": [
      "16:19 manifold_flow.timer            INFO    Timer:\n",
      "16:19 manifold_flow.timer            INFO                  Jacobian permutation:   0:00:00.01\n",
      "16:19 manifold_flow.timer            INFO               Jacobian multiplication:   0:00:00.02\n",
      "16:19 manifold_flow.timer            INFO           Jacobian coupling transform:   0:00:03.76\n",
      "16:19 manifold_flow.timer            INFO    Timer:\n",
      "16:19 manifold_flow.timer            INFO                  Jacobian permutation:   0:00:00.00\n",
      "16:19 manifold_flow.timer            INFO               Jacobian multiplication:   0:00:00.00\n",
      "16:19 manifold_flow.timer            INFO           Jacobian coupling transform:   0:00:00.13\n"
     ]
    },
    {
     "name": "stdout",
     "output_type": "stream",
     "text": [
      "3.8012211322784424 s\n",
      "0.009644031524658203 s\n",
      "0.004812002182006836 s\n",
      "0.00540614128112793 s\n",
      "blocks = 5, xdim = 2\n",
      "0.13636183738708496 s\n"
     ]
    },
    {
     "name": "stderr",
     "output_type": "stream",
     "text": [
      "16:19 manifold_flow.timer            INFO    Timer:\n",
      "16:19 manifold_flow.timer            INFO                  Jacobian permutation:   0:00:00.00\n",
      "16:19 manifold_flow.timer            INFO               Jacobian multiplication:   0:00:00.00\n",
      "16:19 manifold_flow.timer            INFO           Jacobian coupling transform:   0:00:00.14\n",
      "16:19 manifold_flow.timer            INFO    Timer:\n",
      "16:19 manifold_flow.timer            INFO                  Jacobian permutation:   0:00:00.00\n",
      "16:19 manifold_flow.timer            INFO               Jacobian multiplication:   0:00:00.00\n",
      "16:19 manifold_flow.timer            INFO           Jacobian coupling transform:   0:00:00.13\n"
     ]
    },
    {
     "name": "stdout",
     "output_type": "stream",
     "text": [
      "0.14475393295288086 s\n",
      "0.13889098167419434 s\n",
      "0.005072116851806641 s\n",
      "0.00385284423828125 s\n",
      "0.0056438446044921875 s\n",
      "blocks = 5, xdim = 5\n"
     ]
    },
    {
     "name": "stderr",
     "output_type": "stream",
     "text": [
      "16:19 manifold_flow.timer            INFO    Timer:\n",
      "16:19 manifold_flow.timer            INFO                  Jacobian permutation:   0:00:00.00\n",
      "16:19 manifold_flow.timer            INFO               Jacobian multiplication:   0:00:00.00\n",
      "16:19 manifold_flow.timer            INFO           Jacobian coupling transform:   0:00:00.30\n"
     ]
    },
    {
     "name": "stdout",
     "output_type": "stream",
     "text": [
      "0.3011460304260254 s\n"
     ]
    },
    {
     "name": "stderr",
     "output_type": "stream",
     "text": [
      "16:19 manifold_flow.timer            INFO    Timer:\n",
      "16:19 manifold_flow.timer            INFO                  Jacobian permutation:   0:00:00.00\n",
      "16:19 manifold_flow.timer            INFO               Jacobian multiplication:   0:00:00.00\n",
      "16:19 manifold_flow.timer            INFO           Jacobian coupling transform:   0:00:00.30\n"
     ]
    },
    {
     "name": "stdout",
     "output_type": "stream",
     "text": [
      "0.3088979721069336 s\n"
     ]
    },
    {
     "name": "stderr",
     "output_type": "stream",
     "text": [
      "16:19 manifold_flow.timer            INFO    Timer:\n",
      "16:19 manifold_flow.timer            INFO                  Jacobian permutation:   0:00:00.00\n",
      "16:19 manifold_flow.timer            INFO               Jacobian multiplication:   0:00:00.00\n",
      "16:19 manifold_flow.timer            INFO           Jacobian coupling transform:   0:00:00.30\n"
     ]
    },
    {
     "name": "stdout",
     "output_type": "stream",
     "text": [
      "0.3085019588470459 s\n",
      "0.0032219886779785156 s\n",
      "0.004952669143676758 s\n",
      "0.0038628578186035156 s\n",
      "blocks = 5, xdim = 10\n"
     ]
    },
    {
     "name": "stderr",
     "output_type": "stream",
     "text": [
      "16:19 manifold_flow.timer            INFO    Timer:\n",
      "16:19 manifold_flow.timer            INFO                  Jacobian permutation:   0:00:00.00\n",
      "16:19 manifold_flow.timer            INFO               Jacobian multiplication:   0:00:00.00\n",
      "16:19 manifold_flow.timer            INFO           Jacobian coupling transform:   0:00:00.56\n"
     ]
    },
    {
     "name": "stdout",
     "output_type": "stream",
     "text": [
      "0.5659351348876953 s\n"
     ]
    },
    {
     "name": "stderr",
     "output_type": "stream",
     "text": [
      "16:19 manifold_flow.timer            INFO    Timer:\n",
      "16:19 manifold_flow.timer            INFO                  Jacobian permutation:   0:00:00.00\n",
      "16:19 manifold_flow.timer            INFO               Jacobian multiplication:   0:00:00.00\n",
      "16:19 manifold_flow.timer            INFO           Jacobian coupling transform:   0:00:00.57\n"
     ]
    },
    {
     "name": "stdout",
     "output_type": "stream",
     "text": [
      "0.5751268863677979 s\n"
     ]
    },
    {
     "name": "stderr",
     "output_type": "stream",
     "text": [
      "16:19 manifold_flow.timer            INFO    Timer:\n",
      "16:19 manifold_flow.timer            INFO                  Jacobian permutation:   0:00:00.00\n",
      "16:19 manifold_flow.timer            INFO               Jacobian multiplication:   0:00:00.00\n",
      "16:19 manifold_flow.timer            INFO           Jacobian coupling transform:   0:00:00.58\n"
     ]
    },
    {
     "name": "stdout",
     "output_type": "stream",
     "text": [
      "0.5832278728485107 s\n",
      "0.005513906478881836 s\n",
      "0.003813028335571289 s\n",
      "0.0036420822143554688 s\n",
      "blocks = 5, xdim = 20\n"
     ]
    },
    {
     "name": "stderr",
     "output_type": "stream",
     "text": [
      "16:19 manifold_flow.timer            INFO    Timer:\n",
      "16:19 manifold_flow.timer            INFO                  Jacobian permutation:   0:00:00.00\n",
      "16:19 manifold_flow.timer            INFO               Jacobian multiplication:   0:00:00.00\n",
      "16:19 manifold_flow.timer            INFO           Jacobian coupling transform:   0:00:01.09\n"
     ]
    },
    {
     "name": "stdout",
     "output_type": "stream",
     "text": [
      "1.098478078842163 s\n"
     ]
    },
    {
     "name": "stderr",
     "output_type": "stream",
     "text": [
      "16:19 manifold_flow.timer            INFO    Timer:\n",
      "16:19 manifold_flow.timer            INFO                  Jacobian permutation:   0:00:00.00\n",
      "16:19 manifold_flow.timer            INFO               Jacobian multiplication:   0:00:00.00\n",
      "16:19 manifold_flow.timer            INFO           Jacobian coupling transform:   0:00:01.08\n"
     ]
    },
    {
     "name": "stdout",
     "output_type": "stream",
     "text": [
      "1.0915980339050293 s\n"
     ]
    },
    {
     "name": "stderr",
     "output_type": "stream",
     "text": [
      "16:19 manifold_flow.timer            INFO    Timer:\n",
      "16:19 manifold_flow.timer            INFO                  Jacobian permutation:   0:00:00.00\n",
      "16:19 manifold_flow.timer            INFO               Jacobian multiplication:   0:00:00.00\n",
      "16:19 manifold_flow.timer            INFO           Jacobian coupling transform:   0:00:01.09\n"
     ]
    },
    {
     "name": "stdout",
     "output_type": "stream",
     "text": [
      "1.094709873199463 s\n",
      "0.00569915771484375 s\n",
      "0.004243135452270508 s\n",
      "0.004157304763793945 s\n",
      "blocks = 5, xdim = 50\n"
     ]
    },
    {
     "name": "stderr",
     "output_type": "stream",
     "text": [
      "16:19 manifold_flow.timer            INFO    Timer:\n",
      "16:19 manifold_flow.timer            INFO                  Jacobian permutation:   0:00:00.01\n",
      "16:19 manifold_flow.timer            INFO               Jacobian multiplication:   0:00:00.00\n",
      "16:19 manifold_flow.timer            INFO           Jacobian coupling transform:   0:00:02.80\n"
     ]
    },
    {
     "name": "stdout",
     "output_type": "stream",
     "text": [
      "2.816087245941162 s\n"
     ]
    },
    {
     "name": "stderr",
     "output_type": "stream",
     "text": [
      "16:19 manifold_flow.timer            INFO    Timer:\n",
      "16:19 manifold_flow.timer            INFO                  Jacobian permutation:   0:00:00.00\n",
      "16:19 manifold_flow.timer            INFO               Jacobian multiplication:   0:00:00.00\n",
      "16:19 manifold_flow.timer            INFO           Jacobian coupling transform:   0:00:02.78\n"
     ]
    },
    {
     "name": "stdout",
     "output_type": "stream",
     "text": [
      "2.799069881439209 s\n"
     ]
    },
    {
     "name": "stderr",
     "output_type": "stream",
     "text": [
      "16:19 manifold_flow.timer            INFO    Timer:\n",
      "16:19 manifold_flow.timer            INFO                  Jacobian permutation:   0:00:00.00\n",
      "16:19 manifold_flow.timer            INFO               Jacobian multiplication:   0:00:00.00\n",
      "16:19 manifold_flow.timer            INFO           Jacobian coupling transform:   0:00:02.75\n"
     ]
    },
    {
     "name": "stdout",
     "output_type": "stream",
     "text": [
      "2.760125160217285 s\n",
      "0.007408857345581055 s\n",
      "0.006548881530761719 s\n",
      "0.004986286163330078 s\n",
      "blocks = 5, xdim = 100\n"
     ]
    },
    {
     "name": "stderr",
     "output_type": "stream",
     "text": [
      "16:19 manifold_flow.timer            INFO    Timer:\n",
      "16:19 manifold_flow.timer            INFO                  Jacobian permutation:   0:00:00.02\n",
      "16:19 manifold_flow.timer            INFO               Jacobian multiplication:   0:00:00.04\n",
      "16:19 manifold_flow.timer            INFO           Jacobian coupling transform:   0:00:06.33\n"
     ]
    },
    {
     "name": "stdout",
     "output_type": "stream",
     "text": [
      "6.405316114425659 s\n"
     ]
    },
    {
     "name": "stderr",
     "output_type": "stream",
     "text": [
      "16:19 manifold_flow.timer            INFO    Timer:\n",
      "16:19 manifold_flow.timer            INFO                  Jacobian permutation:   0:00:00.01\n",
      "16:19 manifold_flow.timer            INFO               Jacobian multiplication:   0:00:00.02\n",
      "16:19 manifold_flow.timer            INFO           Jacobian coupling transform:   0:00:05.42\n"
     ]
    },
    {
     "name": "stdout",
     "output_type": "stream",
     "text": [
      "5.4495930671691895 s\n"
     ]
    },
    {
     "name": "stderr",
     "output_type": "stream",
     "text": [
      "16:19 manifold_flow.timer            INFO    Timer:\n",
      "16:19 manifold_flow.timer            INFO                  Jacobian permutation:   0:00:00.01\n",
      "16:19 manifold_flow.timer            INFO               Jacobian multiplication:   0:00:00.03\n",
      "16:19 manifold_flow.timer            INFO           Jacobian coupling transform:   0:00:06.56\n"
     ]
    },
    {
     "name": "stdout",
     "output_type": "stream",
     "text": [
      "6.612019062042236 s\n",
      "0.006992816925048828 s\n",
      "0.007803916931152344 s\n",
      "0.010083913803100586 s\n",
      "blocks = 10, xdim = 2\n"
     ]
    },
    {
     "name": "stderr",
     "output_type": "stream",
     "text": [
      "16:19 manifold_flow.timer            INFO    Timer:\n",
      "16:19 manifold_flow.timer            INFO                  Jacobian permutation:   0:00:00.00\n",
      "16:19 manifold_flow.timer            INFO               Jacobian multiplication:   0:00:00.00\n",
      "16:19 manifold_flow.timer            INFO           Jacobian coupling transform:   0:00:00.21\n"
     ]
    },
    {
     "name": "stdout",
     "output_type": "stream",
     "text": [
      "0.2168121337890625 s\n"
     ]
    },
    {
     "name": "stderr",
     "output_type": "stream",
     "text": [
      "16:19 manifold_flow.timer            INFO    Timer:\n",
      "16:19 manifold_flow.timer            INFO                  Jacobian permutation:   0:00:00.00\n",
      "16:19 manifold_flow.timer            INFO               Jacobian multiplication:   0:00:00.00\n",
      "16:19 manifold_flow.timer            INFO           Jacobian coupling transform:   0:00:00.20\n"
     ]
    },
    {
     "name": "stdout",
     "output_type": "stream",
     "text": [
      "0.20879292488098145 s\n"
     ]
    },
    {
     "name": "stderr",
     "output_type": "stream",
     "text": [
      "16:19 manifold_flow.timer            INFO    Timer:\n",
      "16:19 manifold_flow.timer            INFO                  Jacobian permutation:   0:00:00.00\n",
      "16:19 manifold_flow.timer            INFO               Jacobian multiplication:   0:00:00.00\n",
      "16:19 manifold_flow.timer            INFO           Jacobian coupling transform:   0:00:00.30\n"
     ]
    },
    {
     "name": "stdout",
     "output_type": "stream",
     "text": [
      "0.30802106857299805 s\n",
      "0.005605220794677734 s\n",
      "0.005433082580566406 s\n",
      "0.005471944808959961 s\n",
      "blocks = 10, xdim = 5\n"
     ]
    },
    {
     "name": "stderr",
     "output_type": "stream",
     "text": [
      "16:19 manifold_flow.timer            INFO    Timer:\n",
      "16:19 manifold_flow.timer            INFO                  Jacobian permutation:   0:00:00.00\n",
      "16:19 manifold_flow.timer            INFO               Jacobian multiplication:   0:00:00.00\n",
      "16:19 manifold_flow.timer            INFO           Jacobian coupling transform:   0:00:00.46\n"
     ]
    },
    {
     "name": "stdout",
     "output_type": "stream",
     "text": [
      "0.4662330150604248 s\n"
     ]
    },
    {
     "name": "stderr",
     "output_type": "stream",
     "text": [
      "16:19 manifold_flow.timer            INFO    Timer:\n",
      "16:19 manifold_flow.timer            INFO                  Jacobian permutation:   0:00:00.00\n",
      "16:19 manifold_flow.timer            INFO               Jacobian multiplication:   0:00:00.00\n",
      "16:19 manifold_flow.timer            INFO           Jacobian coupling transform:   0:00:00.59\n"
     ]
    },
    {
     "name": "stdout",
     "output_type": "stream",
     "text": [
      "0.5971980094909668 s\n"
     ]
    },
    {
     "name": "stderr",
     "output_type": "stream",
     "text": [
      "16:19 manifold_flow.timer            INFO    Timer:\n",
      "16:19 manifold_flow.timer            INFO                  Jacobian permutation:   0:00:00.00\n",
      "16:19 manifold_flow.timer            INFO               Jacobian multiplication:   0:00:00.00\n",
      "16:19 manifold_flow.timer            INFO           Jacobian coupling transform:   0:00:00.48\n"
     ]
    },
    {
     "name": "stdout",
     "output_type": "stream",
     "text": [
      "0.4837651252746582 s\n",
      "0.007214069366455078 s\n",
      "0.0066661834716796875 s\n",
      "0.005874156951904297 s\n",
      "blocks = 10, xdim = 10\n"
     ]
    },
    {
     "name": "stderr",
     "output_type": "stream",
     "text": [
      "16:19 manifold_flow.timer            INFO    Timer:\n",
      "16:19 manifold_flow.timer            INFO                  Jacobian permutation:   0:00:00.00\n",
      "16:19 manifold_flow.timer            INFO               Jacobian multiplication:   0:00:00.00\n",
      "16:19 manifold_flow.timer            INFO           Jacobian coupling transform:   0:00:00.87\n"
     ]
    },
    {
     "name": "stdout",
     "output_type": "stream",
     "text": [
      "0.8805670738220215 s\n"
     ]
    },
    {
     "name": "stderr",
     "output_type": "stream",
     "text": [
      "16:19 manifold_flow.timer            INFO    Timer:\n",
      "16:19 manifold_flow.timer            INFO                  Jacobian permutation:   0:00:00.00\n",
      "16:19 manifold_flow.timer            INFO               Jacobian multiplication:   0:00:00.00\n",
      "16:19 manifold_flow.timer            INFO           Jacobian coupling transform:   0:00:00.89\n"
     ]
    },
    {
     "name": "stdout",
     "output_type": "stream",
     "text": [
      "0.9023680686950684 s\n"
     ]
    },
    {
     "name": "stderr",
     "output_type": "stream",
     "text": [
      "16:19 manifold_flow.timer            INFO    Timer:\n",
      "16:19 manifold_flow.timer            INFO                  Jacobian permutation:   0:00:00.00\n",
      "16:19 manifold_flow.timer            INFO               Jacobian multiplication:   0:00:00.00\n",
      "16:19 manifold_flow.timer            INFO           Jacobian coupling transform:   0:00:01.19\n"
     ]
    },
    {
     "name": "stdout",
     "output_type": "stream",
     "text": [
      "1.2053940296173096 s\n",
      "0.012698888778686523 s\n",
      "0.010982990264892578 s\n",
      "0.01105809211730957 s\n",
      "blocks = 10, xdim = 20\n"
     ]
    },
    {
     "name": "stderr",
     "output_type": "stream",
     "text": [
      "16:19 manifold_flow.timer            INFO    Timer:\n",
      "16:19 manifold_flow.timer            INFO                  Jacobian permutation:   0:00:00.00\n",
      "16:19 manifold_flow.timer            INFO               Jacobian multiplication:   0:00:00.00\n",
      "16:19 manifold_flow.timer            INFO           Jacobian coupling transform:   0:00:02.07\n"
     ]
    },
    {
     "name": "stdout",
     "output_type": "stream",
     "text": [
      "2.0841190814971924 s\n"
     ]
    },
    {
     "name": "stderr",
     "output_type": "stream",
     "text": [
      "16:19 manifold_flow.timer            INFO    Timer:\n",
      "16:19 manifold_flow.timer            INFO                  Jacobian permutation:   0:00:00.00\n",
      "16:19 manifold_flow.timer            INFO               Jacobian multiplication:   0:00:00.00\n",
      "16:19 manifold_flow.timer            INFO           Jacobian coupling transform:   0:00:02.15\n"
     ]
    },
    {
     "name": "stdout",
     "output_type": "stream",
     "text": [
      "2.1671080589294434 s\n"
     ]
    },
    {
     "name": "stderr",
     "output_type": "stream",
     "text": [
      "16:19 manifold_flow.timer            INFO    Timer:\n",
      "16:19 manifold_flow.timer            INFO                  Jacobian permutation:   0:00:00.00\n",
      "16:19 manifold_flow.timer            INFO               Jacobian multiplication:   0:00:00.00\n",
      "16:19 manifold_flow.timer            INFO           Jacobian coupling transform:   0:00:01.94\n"
     ]
    },
    {
     "name": "stdout",
     "output_type": "stream",
     "text": [
      "1.947511911392212 s\n",
      "0.00857400894165039 s\n",
      "0.007154226303100586 s\n",
      "0.00612187385559082 s\n",
      "blocks = 10, xdim = 50\n"
     ]
    },
    {
     "name": "stderr",
     "output_type": "stream",
     "text": [
      "16:19 manifold_flow.timer            INFO    Timer:\n",
      "16:19 manifold_flow.timer            INFO                  Jacobian permutation:   0:00:00.01\n",
      "16:19 manifold_flow.timer            INFO               Jacobian multiplication:   0:00:00.00\n",
      "16:19 manifold_flow.timer            INFO           Jacobian coupling transform:   0:00:05.13\n"
     ]
    },
    {
     "name": "stdout",
     "output_type": "stream",
     "text": [
      "5.151397228240967 s\n"
     ]
    },
    {
     "name": "stderr",
     "output_type": "stream",
     "text": [
      "16:19 manifold_flow.timer            INFO    Timer:\n",
      "16:19 manifold_flow.timer            INFO                  Jacobian permutation:   0:00:00.00\n",
      "16:19 manifold_flow.timer            INFO               Jacobian multiplication:   0:00:00.00\n",
      "16:19 manifold_flow.timer            INFO           Jacobian coupling transform:   0:00:05.12\n"
     ]
    },
    {
     "name": "stdout",
     "output_type": "stream",
     "text": [
      "5.135387897491455 s\n"
     ]
    },
    {
     "name": "stderr",
     "output_type": "stream",
     "text": [
      "16:20 manifold_flow.timer            INFO    Timer:\n",
      "16:20 manifold_flow.timer            INFO                  Jacobian permutation:   0:00:00.00\n",
      "16:20 manifold_flow.timer            INFO               Jacobian multiplication:   0:00:00.00\n",
      "16:20 manifold_flow.timer            INFO           Jacobian coupling transform:   0:00:05.87\n"
     ]
    },
    {
     "name": "stdout",
     "output_type": "stream",
     "text": [
      "5.885128021240234 s\n",
      "0.009337902069091797 s\n",
      "0.01015925407409668 s\n",
      "0.006940126419067383 s\n",
      "blocks = 10, xdim = 100\n"
     ]
    },
    {
     "name": "stderr",
     "output_type": "stream",
     "text": [
      "16:20 manifold_flow.timer            INFO    Timer:\n",
      "16:20 manifold_flow.timer            INFO                  Jacobian permutation:   0:00:00.02\n",
      "16:20 manifold_flow.timer            INFO               Jacobian multiplication:   0:00:00.03\n",
      "16:20 manifold_flow.timer            INFO           Jacobian coupling transform:   0:00:09.87\n"
     ]
    },
    {
     "name": "stdout",
     "output_type": "stream",
     "text": [
      "9.931564092636108 s\n"
     ]
    },
    {
     "name": "stderr",
     "output_type": "stream",
     "text": [
      "16:20 manifold_flow.timer            INFO    Timer:\n",
      "16:20 manifold_flow.timer            INFO                  Jacobian permutation:   0:00:00.01\n",
      "16:20 manifold_flow.timer            INFO               Jacobian multiplication:   0:00:00.02\n",
      "16:20 manifold_flow.timer            INFO           Jacobian coupling transform:   0:00:10.03\n"
     ]
    },
    {
     "name": "stdout",
     "output_type": "stream",
     "text": [
      "10.06733512878418 s\n"
     ]
    },
    {
     "name": "stderr",
     "output_type": "stream",
     "text": [
      "16:20 manifold_flow.timer            INFO    Timer:\n",
      "16:20 manifold_flow.timer            INFO                  Jacobian permutation:   0:00:00.01\n",
      "16:20 manifold_flow.timer            INFO               Jacobian multiplication:   0:00:00.02\n",
      "16:20 manifold_flow.timer            INFO           Jacobian coupling transform:   0:00:09.77\n"
     ]
    },
    {
     "name": "stdout",
     "output_type": "stream",
     "text": [
      "9.807062864303589 s\n",
      "0.018412113189697266 s\n",
      "0.01349782943725586 s\n",
      "0.011008977890014648 s\n"
     ]
    }
   ],
   "source": [
    "blocks = [1,2,5,10]\n",
    "xdims = [2,5,10,20,50,100]\n",
    "\n",
    "jacobian_means = []\n",
    "jacobian_stds = []\n",
    "det_means = []\n",
    "det_stds = []\n",
    "\n",
    "for block in blocks:\n",
    "    for xdim in xdims:\n",
    "        print(\"blocks = {}, xdim = {}\".format(block, xdim))\n",
    "        mean_jac, std_jac = run(xdim, block, True)\n",
    "        mean_det, std_det = run(xdim, block, False)\n",
    "        jacobian_means.append(mean_jac)\n",
    "        jacobian_stds.append(std_jac)\n",
    "        det_means.append(mean_det)\n",
    "        det_stds.append(std_det)\n",
    "\n",
    "blocks = np.asarray(blocks)\n",
    "xdims = np.asarray(xdims)\n",
    "jacobian_means = np.asarray(jacobian_means).reshape(len(blocks), -1)\n",
    "jacobian_stds = np.asarray(jacobian_stds).reshape(len(blocks), -1)\n",
    "det_means = np.asarray(det_means).reshape(len(blocks), -1)\n",
    "det_stds = np.asarray(det_stds).reshape(len(blocks), -1)\n"
   ]
  },
  {
   "cell_type": "markdown",
   "metadata": {},
   "source": [
    "## Plot"
   ]
  },
  {
   "cell_type": "code",
   "execution_count": 12,
   "metadata": {},
   "outputs": [
    {
     "data": {
      "image/png": "[encoded data removed]",
      "text/plain": [
       "<Figure size 360x360 with 1 Axes>"
      ]
     },
     "metadata": {
      "needs_background": "light"
     },
     "output_type": "display_data"
    }
   ],
   "source": [
    "linestyles = [\":\", \"-.\", \"--\", \"-\"]\n",
    "fig = plt.figure(figsize=(5,5))\n",
    "\n",
    "for i, (block, ls) in enumerate(zip(blocks, linestyles)):\n",
    "    plt.fill_between(xdims, jacobian_means[i] - jacobian_stds[i], jacobian_means[i]+jacobian_stds[i], color=\"C0\", alpha=0.2)\n",
    "    plt.plot(xdims, jacobian_means[i], c=\"C0\", ls=ls)\n",
    "    \n",
    "    plt.fill_between(xdims, det_means[i] - det_stds[i], det_means[i]+det_stds[i], color=\"C1\", alpha=0.2)\n",
    "    plt.plot(xdims, det_means[i], c=\"C1\", ls=ls)\n",
    "    \n",
    "plt.plot([], [], c=\"C0\", ls=\"-\", label=\"Full Jacobian calculation\")\n",
    "plt.plot([], [], c=\"C1\", ls=\"-\", label=\"Determinant calculation\")\n",
    "plt.plot([], [], c=\"black\", ls=\":\", label=\"1 residual blocks\")\n",
    "plt.plot([], [], c=\"black\", ls=\"-.\", label=\"2 residual blocks\")\n",
    "plt.plot([], [], c=\"black\", ls=\"--\", label=\"5 residual blocks\")\n",
    "plt.plot([], [], c=\"black\", ls=\"-\", label=\"10 residual blocks\")\n",
    "plt.legend()\n",
    "\n",
    "plt.xlabel(\"Data dimension\")\n",
    "plt.ylabel(\"Time for forward pass [s]\")\n",
    "plt.ylim(1.e-3,1.5e1)\n",
    "plt.yscale(\"log\")\n",
    "# plt.ylim(0.,None)\n",
    "\n",
    "plt.tight_layout()\n",
    "plt.savefig(\"manifold_flow_timing_log.pdf\")\n"
   ]
  },
  {
   "cell_type": "code",
   "execution_count": null,
   "metadata": {},
   "outputs": [],
   "source": []
  }
 ],
 "metadata": {
  "kernelspec": {
   "display_name": "Python (ML)",
   "language": "python",
   "name": "ml"
  },
  "language_info": {
   "codemirror_mode": {
    "name": "ipython",
    "version": 3
   },
   "file_extension": ".py",
   "mimetype": "text/x-python",
   "name": "python",
   "nbconvert_exporter": "python",
   "pygments_lexer": "ipython3",
   "version": "3.6.8"
  }
 },
 "nbformat": 4,
 "nbformat_minor": 2
}
