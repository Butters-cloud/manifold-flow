{
 "cells": [
  {
   "cell_type": "markdown",
   "metadata": {},
   "source": [
    "# Particle physics results"
   ]
  },
  {
   "cell_type": "markdown",
   "metadata": {},
   "source": [
    "## Setup"
   ]
  },
  {
   "cell_type": "code",
   "execution_count": null,
   "metadata": {
    "collapsed": true
   },
   "outputs": [],
   "source": [
    "%matplotlib inline\n",
    "\n",
    "import sys\n",
    "import numpy as np\n",
    "import matplotlib\n",
    "from matplotlib import pyplot as plt\n",
    "import corner\n",
    "from mpl_toolkits.mplot3d import Axes3D\n",
    "from sklearn.metrics import roc_auc_score\n",
    "\n",
    "sys.path.append(\"../../\")\n",
    "from experiments.datasets import WBFLoader\n",
    "import plot_settings as ps\n"
   ]
  },
  {
   "cell_type": "code",
   "execution_count": null,
   "metadata": {
    "collapsed": true
   },
   "outputs": [],
   "source": [
    "ps.setup()"
   ]
  },
  {
   "cell_type": "markdown",
   "metadata": {},
   "source": [
    "## Helper functions"
   ]
  },
  {
   "cell_type": "code",
   "execution_count": null,
   "metadata": {
    "collapsed": true
   },
   "outputs": [],
   "source": [
    "def histo_w_err(\n",
    "    xvals, xmin, xmax, nbins,\n",
    "    ls=\"-\", m=\" \", ms=6., c=\"black\",\n",
    "    label=None, alpha=0.1,\n",
    "    subtract_min=False, plot_individual=False,\n",
    "    **kwargs\n",
    "):\n",
    "    # Calculate histograms\n",
    "    histos = []\n",
    "    for x in xvals:\n",
    "        histo, bin_edges = np.histogram(x, bins=nbins, range=(xmin, xmax), density=True)\n",
    "        histos.append(histo)\n",
    "    histos = np.array(histos)\n",
    "\n",
    "    # Mean and error band\n",
    "    y_mean, y_err = np.nanmean(histos, axis=0), np.nanstd(histos, axis=0)\n",
    "    \n",
    "    x_ = np.repeat(bin_edges, 2)[1:-1]\n",
    "    y_ = np.repeat(y_mean, 2)\n",
    "    y_err_ = np.repeat(y_err, 2)\n",
    "    yis_ = [np.repeat(y, 2) for y in histos]\n",
    "    \n",
    "    # Plot\n",
    "    plt.fill_between(x_, y_ - y_err_, y_ + y_err_, color=c, alpha=alpha)\n",
    "    plt.plot(x_, y_, label=label, ls=ls, marker=m, ms=ms, c=c, lw=1.5, **kwargs)\n",
    "    \n",
    "    if plot_individual:\n",
    "        for yi_ in yis_:\n",
    "            plt.plot(x_, yi_, ls=ls, lw=0.5, c=c)\n",
    "    "
   ]
  },
  {
   "cell_type": "markdown",
   "metadata": {},
   "source": [
    "## Load results"
   ]
  },
  {
   "cell_type": "code",
   "execution_count": null,
   "metadata": {
    "collapsed": true
   },
   "outputs": [],
   "source": [
    "n_runs = 6\n",
    "n_chains = 4\n",
    "n_trueparams = 3\n",
    "n_panels = 5\n",
    "\n",
    "remove_all_results_with_nans = False"
   ]
  },
  {
   "cell_type": "code",
   "execution_count": null,
   "metadata": {},
   "outputs": [],
   "source": [
    "algo_filenames = []\n",
    "algo_additionals = []\n",
    "algo_labels = []\n",
    "algo_colors = []\n",
    "algo_markers = []\n",
    "algo_linestyles = []\n",
    "algo_dims = []\n",
    "algo_panels = []\n",
    "algo_best_runs = []\n",
    "\n",
    "def add_algo(filename, add, label, c, m, ls, panel, best_run, dim=\"\"):\n",
    "    algo_filenames.append(filename)\n",
    "    algo_additionals.append(add)\n",
    "    algo_labels.append(label)\n",
    "    algo_colors.append(c)\n",
    "    algo_markers.append(m)\n",
    "    algo_linestyles.append(ls)\n",
    "    algo_dims.append(dim)\n",
    "    algo_panels.append(panel)\n",
    "    algo_best_runs.append(best_run)\n",
    "    \n",
    "    \n",
    "add_algo(\"flow\", \"_may\", \"2D summaries\", ps.COLOR_AF2D, \"o\", \"-\", 0, 1, \"2d\")\n",
    "add_algo(\"alices\", \"_may\", \"ALICES\", ps.COLOR_MADMINER, \"o\", \"-\", 1, 4)\n",
    "\n",
    "add_algo(\"flow\", \"_may\", \"AF\", ps.COLOR_AF, \"o\", \"-\", 2, 3, \"40d\")\n",
    "add_algo(\"pie\", \"_may\", \"PIE\", ps.COLOR_PIE, \"o\", \"-\", 3, 1, \"40d\") \n",
    "add_algo(\"mf\", \"_sequential_may\", \"MFMF-A\", ps.COLOR_FLMA, \"o\", \"-\", 4, 0, \"40d\")\n",
    "# add_algo(\"emf\", \"_alternate_may\", \"MFMFE-A\", ps.COLOR_FLMEA, \"o\", \"-\", 5, 0, \"40d\")\n",
    "\n",
    "n_algos = len(algo_filenames)"
   ]
  },
  {
   "cell_type": "code",
   "execution_count": null,
   "metadata": {
    "collapsed": true
   },
   "outputs": [],
   "source": [
    "def load(name, shape, numpyfy=True, chains=1, result_dir=\"../data/results\"):\n",
    "    all_results = []\n",
    "    \n",
    "    for algo_filename, algo_add, algo_dim in zip(algo_filenames, algo_additionals, algo_dims):\n",
    "        algo_results = []\n",
    "            \n",
    "        for run in range(n_runs):\n",
    "            run_str = \"\" if run == 0 else \"_run{}\".format(run)\n",
    "\n",
    "            try:\n",
    "                this_result = np.load(\n",
    "                    \"{}/{}_{}_lhc{}{}{}_{}.npy\".format(\n",
    "                        result_dir, algo_filename, \"2\" if algo_dim == \"2d\" else \"14\",\n",
    "                        algo_dim, algo_add, run_str, name\n",
    "                    )\n",
    "                )\n",
    "                if (not numpyfy) or (shape is None) or np.product(this_result.shape) == np.product(shape):\n",
    "                    algo_results.append(this_result.reshape(shape))\n",
    "                else:\n",
    "                    algo_results.append(np.nan*np.ones(shape))\n",
    "\n",
    "            except FileNotFoundError as e:\n",
    "                # print(e)\n",
    "                if shape is None:\n",
    "                    algo_results.append(None)\n",
    "                else:\n",
    "                    algo_results.append(np.nan*np.ones(shape))\n",
    "            \n",
    "        all_results.append(algo_results)\n",
    "    \n",
    "    if numpyfy:\n",
    "        all_results = np.array(all_results, dtype=np.float)\n",
    "        \n",
    "    return all_results\n",
    "\n",
    "\n",
    "model_gen_x = load(\"samples\", None, numpyfy=False)\n",
    "model_gen_closure = load(\"samples_manifold_distance\", (10000,))\n"
   ]
  },
  {
   "cell_type": "code",
   "execution_count": null,
   "metadata": {},
   "outputs": [],
   "source": [
    "def load_mcmc(name, shape, numpyfy=True, result_dir=\"../data/results\"):\n",
    "    all_results = []\n",
    "    \n",
    "    for algo_filename, algo_add, algo_dim in zip(algo_filenames, algo_additionals, algo_dims):\n",
    "        algo_results = []\n",
    "            \n",
    "        for run in range(n_runs):\n",
    "            run_str = \"\" if run == 0 else \"_run{}\".format(run)\n",
    "            \n",
    "            for trueparam in range(n_trueparams):\n",
    "                trueparam_str = \"\" if trueparam == 0 else \"_trueparam{}\".format(trueparam)\n",
    "            \n",
    "                for chain in range(n_chains):\n",
    "                    chain_str = \"\" if chain == 0 else \"_chain{}\".format(chain)\n",
    "\n",
    "                    try:\n",
    "                        this_result = np.load(\n",
    "                            \"{}/{}_{}_lhc{}{}{}_{}{}{}.npy\".format(\n",
    "                                result_dir, algo_filename, \"2\" if algo_dim == \"2d\" else \"14\",\n",
    "                                algo_dim, algo_add, run_str, name, trueparam_str, chain_str\n",
    "                            )\n",
    "                        )\n",
    "                        if (not numpyfy) or (shape is None) or np.product(this_result.shape) == np.product(shape):\n",
    "                            algo_results.append(this_result.reshape(shape))\n",
    "                        else:\n",
    "                            algo_results.append(np.nan*np.ones(shape))\n",
    "\n",
    "                    except FileNotFoundError as e:\n",
    "                        # print(e)\n",
    "                        if shape is None:\n",
    "                            algo_results.append(None)\n",
    "                        else:\n",
    "                            algo_results.append(np.nan*np.ones(shape))\n",
    "            \n",
    "        all_results.append(algo_results)\n",
    "    \n",
    "    all_results = np.array(all_results, dtype=np.float)\n",
    "    all_results = all_results.reshape([all_results.shape[0], n_runs, n_trueparams, n_chains] + list(shape))\n",
    "        \n",
    "    return all_results\n",
    "\n",
    "\n",
    "model_posterior_samples = load_mcmc(\"posterior_samples\", (750, 2,))\n",
    "model_posterior_samples.shape  # (algo, run, true param id, chain, sample, theta component)\n"
   ]
  },
  {
   "cell_type": "code",
   "execution_count": null,
   "metadata": {
    "collapsed": true
   },
   "outputs": [],
   "source": [
    "sim = WBFLoader()\n",
    "\n",
    "test_x, _ = sim.load_dataset(train=False, dataset_dir=\"../data/samples/lhc\", numpy=True)\n",
    "\n",
    "test_closure = sim.distance_from_manifold(test_x)"
   ]
  },
  {
   "cell_type": "code",
   "execution_count": null,
   "metadata": {
    "collapsed": true
   },
   "outputs": [],
   "source": [
    "def remove_nans(*results):\n",
    "    passes = all([np.all(np.isfinite(result)) for result in results])\n",
    "    \n",
    "    if passes:\n",
    "        return results\n",
    "    else:\n",
    "        return [np.nan * np.ones_like(result) for result in results]\n",
    "\n",
    "\n",
    "def remove_nans_from_lists(*raws):\n",
    "    # raws[quantity][algo]\n",
    "    n_quantities = len(raws)\n",
    "    n_algos = len(raws[0])\n",
    "    \n",
    "    for raw in raws:\n",
    "        assert len(raw) == n_algos\n",
    "    \n",
    "    cleans = [[[] for _ in range(n_algos)] for _ in range(n_quantities)]\n",
    "    \n",
    "    for i in range(n_algos):\n",
    "        for k in range(n_runs):\n",
    "            clean = remove_nans(*[raw[i][k] for raw in raws])\n",
    "            for j in range(n_quantities):\n",
    "                cleans[j][i].append(clean[j])\n",
    "            \n",
    "    cleans = [np.array(clean) for clean in cleans]\n",
    "    \n",
    "    # cleans[quantity][algo]\n",
    "    return cleans\n",
    "   \n",
    "if remove_all_results_with_nans:\n",
    "    raw = [model_gen_closure, model_posterior_samples]\n",
    "    clean = remove_nans_from_lists(*raw)\n",
    "    model_gen_closure, model_posterior_samples = clean\n"
   ]
  },
  {
   "cell_type": "markdown",
   "metadata": {},
   "source": [
    "## Calculate metrics"
   ]
  },
  {
   "cell_type": "code",
   "execution_count": null,
   "metadata": {
    "collapsed": true
   },
   "outputs": [],
   "source": [
    "n_observed = 100\n",
    "min_logp = -100.\n",
    "max_closure = 1.e9\n",
    "\n",
    "test_mean_closure = np.mean(np.clip(test_closure, None, max_closure), axis=-1)\n",
    "model_gen_mean_closure = np.mean(np.clip(model_gen_closure, None, max_closure), axis=2)\n"
   ]
  },
  {
   "cell_type": "markdown",
   "metadata": {},
   "source": [
    "## Generative mode: closure test"
   ]
  },
  {
   "cell_type": "code",
   "execution_count": null,
   "metadata": {
    "scrolled": false
   },
   "outputs": [],
   "source": [
    "xmin, xmax = 0.,0.5\n",
    "bins = 50\n",
    "\n",
    "fig, ax = ps.figure()\n",
    "    \n",
    "histo_w_err(\n",
    "    test_closure,\n",
    "    xmin, xmax, bins,\n",
    "    label=\"Simulator\",\n",
    "    c=\"black\",\n",
    ")\n",
    "\n",
    "for closure, algo_label, c, m, ls in zip(model_gen_closure, algo_labels, algo_colors, algo_markers, algo_linestyles):\n",
    "    histo_w_err(\n",
    "        closure,\n",
    "        xmin, xmax, bins,\n",
    "        label=algo_label,\n",
    "        c=c,\n",
    "        ls=ls,\n",
    "    )\n",
    "\n",
    "plt.legend()\n",
    "\n",
    "plt.xlabel(r\"Sample closure\")\n",
    "plt.ylabel(r\"Histogram\")\n",
    "plt.xlim(xmin, xmax)\n",
    "plt.ylim(0., 40.)\n",
    "#plt.yscale(\"log\")\n",
    "#plt.ylim(1.e-2, 2.e2)\n",
    "\n",
    "plt.savefig(\"../figures/lhc_generated_samples_closure.pdf\")\n"
   ]
  },
  {
   "cell_type": "markdown",
   "metadata": {},
   "source": [
    "## Posterior plots"
   ]
  },
  {
   "cell_type": "code",
   "execution_count": null,
   "metadata": {
    "scrolled": false
   },
   "outputs": [],
   "source": [
    "skip = 10  # 2\n",
    "true_params = [[0.,0.], [0.5, 0.], [-1., -1.]]\n",
    "\n",
    "fig, gs = ps.grid_width(n_panels, n_trueparams, width=ps.TEXTWIDTH, large_margin=0.08, small_margin=0.04)\n",
    "\n",
    "for i in range(n_panels):\n",
    "    for j in range(n_trueparams):\n",
    "        ax = plt.subplot(gs[j*n_panels + i])\n",
    "    \n",
    "        # True point\n",
    "        plt.plot(\n",
    "            [true_params[j][0]], [true_params[j][1]], ls = \" \",\n",
    "            marker=\"*\", markersize=7.5, markerfacecolor=ps.COLOR_NEUTRAL4, zorder=5.,\n",
    "            markeredgewidth=1., markeredgecolor=ps.COLOR_NEUTRAL1\n",
    "        )\n",
    "        \n",
    "        # Results\n",
    "        for label, posteriors, c, m, panel, run  in zip(\n",
    "            algo_labels, model_posterior_samples, algo_colors, algo_markers, algo_panels, algo_best_runs\n",
    "        ):\n",
    "            if panel < 0 or panel == i:\n",
    "                plt.scatter(\n",
    "                    posteriors[:,j,:,::skip, 0], posteriors[:,j,:,::skip, 1],\n",
    "                    c=[c], marker=\"o\", s=4., alpha=0.25\n",
    "                )\n",
    "                if j == 0:\n",
    "                    plt.title(label, fontsize=ps.FONTSIZE)\n",
    "\n",
    "        plt.xlim(-2.1,2.1)\n",
    "        plt.ylim(-2.1,2.1)\n",
    "        plt.xticks([-2., -1., 0., 1., 2.], None if j == n_trueparams - 1 else [\"\", \"\", \"\"])\n",
    "        plt.yticks([-2., -1., 0., 1., 2.], None if i == 0 else [\"\", \"\", \"\"])\n",
    "        plt.xlabel(r\"$\\theta_0$\" if j == n_trueparams - 1 else \"\", labelpad=1)\n",
    "        plt.ylabel(r\"$\\theta_1$\" if i == 0 else \"\", labelpad=-3)\n",
    "\n",
    "plt.savefig(\"../figures/lhc_posterior_scatter.pdf\")\n"
   ]
  },
  {
   "cell_type": "code",
   "execution_count": null,
   "metadata": {
    "collapsed": true
   },
   "outputs": [],
   "source": []
  }
 ],
 "metadata": {
  "kernelspec": {
   "display_name": "Python (ML)",
   "language": "python",
   "name": "ml"
  },
  "language_info": {
   "codemirror_mode": {
    "name": "ipython",
    "version": 3
   },
   "file_extension": ".py",
   "mimetype": "text/x-python",
   "name": "python",
   "nbconvert_exporter": "python",
   "pygments_lexer": "ipython3",
   "version": "3.6.8"
  }
 },
 "nbformat": 4,
 "nbformat_minor": 2
}
