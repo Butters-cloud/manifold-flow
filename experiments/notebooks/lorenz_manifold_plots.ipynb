{
 "cells": [
  {
   "cell_type": "markdown",
   "metadata": {},
   "source": [
    "# Lorenz system: manifold plots"
   ]
  },
  {
   "cell_type": "code",
   "execution_count": null,
   "metadata": {},
   "outputs": [],
   "source": [
    "%matplotlib osx\n",
    "\n",
    "import sys\n",
    "import numpy as np\n",
    "import matplotlib\n",
    "import torch\n",
    "import logging\n",
    "import pickle\n",
    "from tqdm import tqdm\n",
    "from scipy.spatial import cKDTree\n",
    "\n",
    "from matplotlib import pyplot as plt, cm\n",
    "from matplotlib.collections import PolyCollection\n",
    "from matplotlib.tri import Triangulation\n",
    "from matplotlib.colors import LightSource\n",
    "from mpl_toolkits.mplot3d import Axes3D\n",
    "from mpl_toolkits.mplot3d.art3d import Poly3DCollection\n",
    "\n",
    "sys.path.append(\"../../\")\n",
    "from experiments.datasets import LorenzSimulator\n",
    "from experiments.architectures.vector_transforms import create_vector_transform\n",
    "from manifold_flow.flows import ManifoldFlow\n",
    "import plot_settings as ps\n",
    "\n",
    "logging.basicConfig(\n",
    "    format=\"%(asctime)-5.5s %(name)-30.30s %(levelname)-7.7s %(message)s\",\n",
    "    datefmt=\"%H:%M\",\n",
    "    level=logging.DEBUG,\n",
    ")\n",
    "for key in logging.Logger.manager.loggerDict:\n",
    "    if \"experiments\" not in key and \"manifold_flow\" not in key:\n",
    "        logging.getLogger(key).setLevel(logging.WARNING)"
   ]
  },
  {
   "cell_type": "code",
   "execution_count": null,
   "metadata": {},
   "outputs": [],
   "source": [
    "# ps.setup()"
   ]
  },
  {
   "cell_type": "markdown",
   "metadata": {},
   "source": [
    "## Set up simulator"
   ]
  },
  {
   "cell_type": "code",
   "execution_count": null,
   "metadata": {},
   "outputs": [],
   "source": [
    "sim = LorenzSimulator()\n"
   ]
  },
  {
   "cell_type": "markdown",
   "metadata": {},
   "source": [
    "## Load flows"
   ]
  },
  {
   "cell_type": "code",
   "execution_count": null,
   "metadata": {},
   "outputs": [],
   "source": [
    "def load_model(filename):\n",
    "    outer_transform = create_vector_transform(\n",
    "        3,\n",
    "        5,\n",
    "        linear_transform_type=\"permutation\",\n",
    "        base_transform_type=\"rq-coupling\",\n",
    "        context_features=None,\n",
    "        dropout_probability=0.,\n",
    "        tail_bound=3.,\n",
    "        num_bins=5,\n",
    "    )\n",
    "    inner_transform = create_vector_transform(\n",
    "        2,\n",
    "        5,\n",
    "        linear_transform_type=\"permutation\",\n",
    "        base_transform_type=\"rq-coupling\",\n",
    "        context_features=sim.parameter_dim(),\n",
    "        dropout_probability=0.,\n",
    "        tail_bound=3.,\n",
    "        num_bins=5,\n",
    "    )\n",
    "\n",
    "    model = ManifoldFlow(\n",
    "        data_dim=3,\n",
    "        latent_dim=2,\n",
    "        outer_transform=outer_transform,\n",
    "        inner_transform=inner_transform,\n",
    "        apply_context_to_outer=False,\n",
    "    )\n",
    "    \n",
    "    model.load_state_dict(\n",
    "        torch.load(\"../data/models/{}.pt\".format(filename), map_location=torch.device(\"cpu\"))\n",
    "    )\n",
    "    _ = model.eval()\n",
    "    \n",
    "    return model"
   ]
  },
  {
   "cell_type": "code",
   "execution_count": null,
   "metadata": {},
   "outputs": [],
   "source": [
    "mf = load_model(\"mf_2_lorenz_april\")\n"
   ]
  },
  {
   "cell_type": "markdown",
   "metadata": {},
   "source": [
    "## Find points for evaluation: start with latent grid, triangulate, add points randomly where necessary, remove duplicates"
   ]
  },
  {
   "cell_type": "code",
   "execution_count": null,
   "metadata": {},
   "outputs": [],
   "source": [
    "def make_grid(boundary, res):\n",
    "    grid_each = np.linspace(-boundary, boundary, res)\n",
    "    x, y = np.meshgrid(grid_each, grid_each)\n",
    "    xy = np.vstack((x.flatten(), y.flatten())).T\n",
    "    return xy\n",
    "\n",
    "\n",
    "def decode(zs, batchsize = 10000):\n",
    "    xs = []\n",
    "    n_batches = (len(zs) - 1) // batchsize + 1\n",
    "    for i in range(n_batches):\n",
    "        print(\"Batch {} / {}\".format(i + 1, n_batches))\n",
    "        z_batch = zs[i*batchsize:(i+1)*batchsize]\n",
    "        z_ = torch.tensor(z_batch, dtype=torch.float)\n",
    "        x_ = mf.decode(u=z_)\n",
    "        xs += list(x_.detach().numpy().flatten())\n",
    "\n",
    "    xs = np.array(xs).reshape((-1, 3))\n",
    "    return xs\n",
    "\n",
    "\n",
    "def encode(xs, batchsize = 10000):\n",
    "    zs = []\n",
    "    n_batches = (len(xs) - 1) // batchsize + 1\n",
    "    for i in range(n_batches):\n",
    "        print(\"Batch {} / {}\".format(i + 1, n_batches))\n",
    "        x_batch = xs[i*batchsize:(i+1)*batchsize]\n",
    "        x_ = torch.tensor(x_batch, dtype=torch.float)\n",
    "        z_ = mf.encode(x_)\n",
    "        zs += list(z_.detach().numpy().flatten())\n",
    "\n",
    "    zs = np.array(zs).reshape((-1, 2))\n",
    "    return zs\n",
    "\n",
    "\n",
    "def triangle_circumference(a, b, c):\n",
    "    ab = np.linalg.norm(a - b)\n",
    "    bc = np.linalg.norm(b - c)\n",
    "    ca = np.linalg.norm(c - a)\n",
    "    circ = (ab + bc + ca)\n",
    "    return circ\n",
    "\n",
    "\n",
    "def triangle_area(a, b, c):\n",
    "    ab = np.linalg.norm(a - b)\n",
    "    bc = np.linalg.norm(b - c)\n",
    "    ca = np.linalg.norm(c - a)\n",
    "    s = (ab + bc + ca) / 2.\n",
    "    return (s * (s-ab) * (s-bc) * (s-ca))**0.5\n",
    "    \n",
    "    \n",
    "def uniform_points_in_triangle(a, b, c, n=1):\n",
    "    p = np.random.uniform(size=n)[:,np.newaxis]\n",
    "    q = np.random.uniform(size=n)[:,np.newaxis]\n",
    "    p_ = np.where(p + q > 1., 1. - p, p)\n",
    "    q_ = np.where(p + q > 1., 1. - q, q)\n",
    "    points = a[np.newaxis, :] + (b - a)[np.newaxis, :] * p_ + (c - a)[np.newaxis, :] * q_\n",
    "    \n",
    "    return points\n"
   ]
  },
  {
   "cell_type": "code",
   "execution_count": 17,
   "metadata": {},
   "outputs": [],
   "source": [
    "def iterate(xs, zs, goal_area = 0.01, goal_circ=0.2, insert_max=10, max_distance=0.05):\n",
    "    print(\"Beginning iteration\")\n",
    "    n_in = xs.shape[0]\n",
    "    z_outs = np.copy(zs)\n",
    "    \n",
    "    # Step one: inserting more points where distances are large\n",
    "    print(\"Triangulating...\")\n",
    "    triangulation = Triangulation(zs[:,0], zs[:,1])\n",
    "\n",
    "    print(\"Inserting points in latent space...\")\n",
    "    for t in triangulation.triangles:\n",
    "        area = triangle_area(xs[t[0]], xs[t[1]], xs[t[2]])\n",
    "        circ = triangle_circumference(xs[t[0]], xs[t[1]], xs[t[2]])\n",
    "        try:\n",
    "            n_additional = int(round(np.clip(\n",
    "                0.5 * (area / goal_area + circ / goal_circ),\n",
    "                0., insert_max\n",
    "            ), 0))\n",
    "        except:\n",
    "            n_additional = insert_max // 2  # Seems like a safe choice\n",
    "\n",
    "        if n_additional > 0:\n",
    "            z_additional = uniform_points_in_triangle(\n",
    "                zs[t[0]],\n",
    "                zs[t[1]],\n",
    "                zs[t[2]],\n",
    "                n=n_additional\n",
    "            )\n",
    "            z_outs = np.concatenate((z_outs, z_additional), axis=0)\n",
    "            \n",
    "    print(\"Decoding...\")\n",
    "    x_outs = decode(z_outs)\n",
    "    n_mid = len(x_outs)\n",
    "\n",
    "    # Step two: removing close neighbors in x space\n",
    "    print(\"Removing close neighbors in data space...\")\n",
    "    tree = cKDTree(x_mf)\n",
    "    neighbors = tree.query_pairs(r=max_distance)\n",
    "    duplicates = [n[1] for n in neighbors]\n",
    "\n",
    "    x_outs = np.array([x for i, x in enumerate(x_outs) if i not in duplicates])\n",
    "    z_outs = np.array([z for i, z in enumerate(z_outs) if i not in duplicates])\n",
    "    n_out = len(x_outs)\n",
    "    \n",
    "    print(f\"Done! {n_in} -> {n_mid} -> {n_out}\")\n",
    "\n",
    "    return x_outs, z_outs"
   ]
  },
  {
   "cell_type": "code",
   "execution_count": 18,
   "metadata": {},
   "outputs": [
    {
     "name": "stdout",
     "output_type": "stream",
     "text": [
      "Batch 1 / 1\n"
     ]
    }
   ],
   "source": [
    "z_mf = make_grid(2.9, 100)\n",
    "x_mf = decode(z_mf)\n"
   ]
  },
  {
   "cell_type": "code",
   "execution_count": 19,
   "metadata": {},
   "outputs": [
    {
     "name": "stdout",
     "output_type": "stream",
     "text": [
      "Beginning iteration\n",
      "Triangulating...\n",
      "Inserting points in latent space...\n",
      "Decoding...\n",
      "Batch 1 / 5\n",
      "Batch 2 / 5\n",
      "Batch 3 / 5\n",
      "Batch 4 / 5\n",
      "Batch 5 / 5\n",
      "Removing close neighbors in data space...\n",
      "Done! 10000 -> 41631 -> 35244\n",
      "Beginning iteration\n",
      "Triangulating...\n",
      "Inserting points in latent space...\n",
      "Decoding...\n",
      "Batch 1 / 14\n",
      "Batch 2 / 14\n",
      "Batch 3 / 14\n",
      "Batch 4 / 14\n",
      "Batch 5 / 14\n",
      "Batch 6 / 14\n",
      "Batch 7 / 14\n",
      "Batch 8 / 14\n",
      "Batch 9 / 14\n",
      "Batch 10 / 14\n",
      "Batch 11 / 14\n",
      "Batch 12 / 14\n",
      "Batch 13 / 14\n",
      "Batch 14 / 14\n",
      "Removing close neighbors in data space...\n",
      "Done! 35244 -> 132713 -> 103626\n",
      "Beginning iteration\n",
      "Triangulating...\n"
     ]
    },
    {
     "name": "stderr",
     "output_type": "stream",
     "text": [
      "/Users/johannbrehmer/anaconda3/envs/ml/lib/python3.6/site-packages/ipykernel_launcher.py:49: RuntimeWarning: invalid value encountered in double_scalars\n"
     ]
    },
    {
     "name": "stdout",
     "output_type": "stream",
     "text": [
      "Inserting points in latent space...\n",
      "Decoding...\n",
      "Batch 1 / 38\n",
      "Batch 2 / 38\n",
      "Batch 3 / 38\n",
      "Batch 4 / 38\n",
      "Batch 5 / 38\n",
      "Batch 6 / 38\n",
      "Batch 7 / 38\n",
      "Batch 8 / 38\n",
      "Batch 9 / 38\n",
      "Batch 10 / 38\n",
      "Batch 11 / 38\n",
      "Batch 12 / 38\n",
      "Batch 13 / 38\n",
      "Batch 14 / 38\n",
      "Batch 15 / 38\n",
      "Batch 16 / 38\n",
      "Batch 17 / 38\n",
      "Batch 18 / 38\n",
      "Batch 19 / 38\n",
      "Batch 20 / 38\n",
      "Batch 21 / 38\n",
      "Batch 22 / 38\n",
      "Batch 23 / 38\n",
      "Batch 24 / 38\n",
      "Batch 25 / 38\n",
      "Batch 26 / 38\n",
      "Batch 27 / 38\n",
      "Batch 28 / 38\n",
      "Batch 29 / 38\n",
      "Batch 30 / 38\n",
      "Batch 31 / 38\n",
      "Batch 32 / 38\n",
      "Batch 33 / 38\n",
      "Batch 34 / 38\n",
      "Batch 35 / 38\n",
      "Batch 36 / 38\n",
      "Batch 37 / 38\n",
      "Batch 38 / 38\n",
      "Removing close neighbors in data space...\n"
     ]
    },
    {
     "ename": "KeyboardInterrupt",
     "evalue": "",
     "output_type": "error",
     "traceback": [
      "\u001b[0;31m---------------------------------------------------------------------------\u001b[0m",
      "\u001b[0;31mKeyboardInterrupt\u001b[0m                         Traceback (most recent call last)",
      "\u001b[0;32m<ipython-input-19-27782b1f0e2d>\u001b[0m in \u001b[0;36m<module>\u001b[0;34m\u001b[0m\n\u001b[1;32m      1\u001b[0m \u001b[0;32mfor\u001b[0m \u001b[0m_\u001b[0m \u001b[0;32min\u001b[0m \u001b[0mrange\u001b[0m\u001b[0;34m(\u001b[0m\u001b[0;36m3\u001b[0m\u001b[0;34m)\u001b[0m\u001b[0;34m:\u001b[0m\u001b[0;34m\u001b[0m\u001b[0;34m\u001b[0m\u001b[0m\n\u001b[0;32m----> 2\u001b[0;31m     \u001b[0mx_mf\u001b[0m\u001b[0;34m,\u001b[0m \u001b[0mz_mf\u001b[0m \u001b[0;34m=\u001b[0m \u001b[0miterate\u001b[0m\u001b[0;34m(\u001b[0m\u001b[0mx_mf\u001b[0m\u001b[0;34m,\u001b[0m \u001b[0mz_mf\u001b[0m\u001b[0;34m)\u001b[0m\u001b[0;34m\u001b[0m\u001b[0;34m\u001b[0m\u001b[0m\n\u001b[0m",
      "\u001b[0;32m<ipython-input-17-3c4644ab959d>\u001b[0m in \u001b[0;36miterate\u001b[0;34m(xs, zs, goal_area, goal_circ, insert_max, max_distance)\u001b[0m\n\u001b[1;32m     39\u001b[0m     \u001b[0mduplicates\u001b[0m \u001b[0;34m=\u001b[0m \u001b[0;34m[\u001b[0m\u001b[0mn\u001b[0m\u001b[0;34m[\u001b[0m\u001b[0;36m1\u001b[0m\u001b[0;34m]\u001b[0m \u001b[0;32mfor\u001b[0m \u001b[0mn\u001b[0m \u001b[0;32min\u001b[0m \u001b[0mneighbors\u001b[0m\u001b[0;34m]\u001b[0m\u001b[0;34m\u001b[0m\u001b[0;34m\u001b[0m\u001b[0m\n\u001b[1;32m     40\u001b[0m \u001b[0;34m\u001b[0m\u001b[0m\n\u001b[0;32m---> 41\u001b[0;31m     \u001b[0mx_outs\u001b[0m \u001b[0;34m=\u001b[0m \u001b[0mnp\u001b[0m\u001b[0;34m.\u001b[0m\u001b[0marray\u001b[0m\u001b[0;34m(\u001b[0m\u001b[0;34m[\u001b[0m\u001b[0mx\u001b[0m \u001b[0;32mfor\u001b[0m \u001b[0mi\u001b[0m\u001b[0;34m,\u001b[0m \u001b[0mx\u001b[0m \u001b[0;32min\u001b[0m \u001b[0menumerate\u001b[0m\u001b[0;34m(\u001b[0m\u001b[0mx_outs\u001b[0m\u001b[0;34m)\u001b[0m \u001b[0;32mif\u001b[0m \u001b[0mi\u001b[0m \u001b[0;32mnot\u001b[0m \u001b[0;32min\u001b[0m \u001b[0mduplicates\u001b[0m\u001b[0;34m]\u001b[0m\u001b[0;34m)\u001b[0m\u001b[0;34m\u001b[0m\u001b[0;34m\u001b[0m\u001b[0m\n\u001b[0m\u001b[1;32m     42\u001b[0m     \u001b[0mz_outs\u001b[0m \u001b[0;34m=\u001b[0m \u001b[0mnp\u001b[0m\u001b[0;34m.\u001b[0m\u001b[0marray\u001b[0m\u001b[0;34m(\u001b[0m\u001b[0;34m[\u001b[0m\u001b[0mz\u001b[0m \u001b[0;32mfor\u001b[0m \u001b[0mi\u001b[0m\u001b[0;34m,\u001b[0m \u001b[0mz\u001b[0m \u001b[0;32min\u001b[0m \u001b[0menumerate\u001b[0m\u001b[0;34m(\u001b[0m\u001b[0mz_outs\u001b[0m\u001b[0;34m)\u001b[0m \u001b[0;32mif\u001b[0m \u001b[0mi\u001b[0m \u001b[0;32mnot\u001b[0m \u001b[0;32min\u001b[0m \u001b[0mduplicates\u001b[0m\u001b[0;34m]\u001b[0m\u001b[0;34m)\u001b[0m\u001b[0;34m\u001b[0m\u001b[0;34m\u001b[0m\u001b[0m\n\u001b[1;32m     43\u001b[0m     \u001b[0mn_out\u001b[0m \u001b[0;34m=\u001b[0m \u001b[0mlen\u001b[0m\u001b[0;34m(\u001b[0m\u001b[0mx_outs\u001b[0m\u001b[0;34m)\u001b[0m\u001b[0;34m\u001b[0m\u001b[0;34m\u001b[0m\u001b[0m\n",
      "\u001b[0;32m<ipython-input-17-3c4644ab959d>\u001b[0m in \u001b[0;36m<listcomp>\u001b[0;34m(.0)\u001b[0m\n\u001b[1;32m     39\u001b[0m     \u001b[0mduplicates\u001b[0m \u001b[0;34m=\u001b[0m \u001b[0;34m[\u001b[0m\u001b[0mn\u001b[0m\u001b[0;34m[\u001b[0m\u001b[0;36m1\u001b[0m\u001b[0;34m]\u001b[0m \u001b[0;32mfor\u001b[0m \u001b[0mn\u001b[0m \u001b[0;32min\u001b[0m \u001b[0mneighbors\u001b[0m\u001b[0;34m]\u001b[0m\u001b[0;34m\u001b[0m\u001b[0;34m\u001b[0m\u001b[0m\n\u001b[1;32m     40\u001b[0m \u001b[0;34m\u001b[0m\u001b[0m\n\u001b[0;32m---> 41\u001b[0;31m     \u001b[0mx_outs\u001b[0m \u001b[0;34m=\u001b[0m \u001b[0mnp\u001b[0m\u001b[0;34m.\u001b[0m\u001b[0marray\u001b[0m\u001b[0;34m(\u001b[0m\u001b[0;34m[\u001b[0m\u001b[0mx\u001b[0m \u001b[0;32mfor\u001b[0m \u001b[0mi\u001b[0m\u001b[0;34m,\u001b[0m \u001b[0mx\u001b[0m \u001b[0;32min\u001b[0m \u001b[0menumerate\u001b[0m\u001b[0;34m(\u001b[0m\u001b[0mx_outs\u001b[0m\u001b[0;34m)\u001b[0m \u001b[0;32mif\u001b[0m \u001b[0mi\u001b[0m \u001b[0;32mnot\u001b[0m \u001b[0;32min\u001b[0m \u001b[0mduplicates\u001b[0m\u001b[0;34m]\u001b[0m\u001b[0;34m)\u001b[0m\u001b[0;34m\u001b[0m\u001b[0;34m\u001b[0m\u001b[0m\n\u001b[0m\u001b[1;32m     42\u001b[0m     \u001b[0mz_outs\u001b[0m \u001b[0;34m=\u001b[0m \u001b[0mnp\u001b[0m\u001b[0;34m.\u001b[0m\u001b[0marray\u001b[0m\u001b[0;34m(\u001b[0m\u001b[0;34m[\u001b[0m\u001b[0mz\u001b[0m \u001b[0;32mfor\u001b[0m \u001b[0mi\u001b[0m\u001b[0;34m,\u001b[0m \u001b[0mz\u001b[0m \u001b[0;32min\u001b[0m \u001b[0menumerate\u001b[0m\u001b[0;34m(\u001b[0m\u001b[0mz_outs\u001b[0m\u001b[0;34m)\u001b[0m \u001b[0;32mif\u001b[0m \u001b[0mi\u001b[0m \u001b[0;32mnot\u001b[0m \u001b[0;32min\u001b[0m \u001b[0mduplicates\u001b[0m\u001b[0;34m]\u001b[0m\u001b[0;34m)\u001b[0m\u001b[0;34m\u001b[0m\u001b[0;34m\u001b[0m\u001b[0m\n\u001b[1;32m     43\u001b[0m     \u001b[0mn_out\u001b[0m \u001b[0;34m=\u001b[0m \u001b[0mlen\u001b[0m\u001b[0;34m(\u001b[0m\u001b[0mx_outs\u001b[0m\u001b[0;34m)\u001b[0m\u001b[0;34m\u001b[0m\u001b[0;34m\u001b[0m\u001b[0m\n",
      "\u001b[0;31mKeyboardInterrupt\u001b[0m: "
     ]
    }
   ],
   "source": [
    "for _ in range(2):\n",
    "    x_mf, z_mf = iterate(x_mf, z_mf)\n"
   ]
  },
  {
   "cell_type": "markdown",
   "metadata": {},
   "source": [
    "## Evaluate log likelihood"
   ]
  },
  {
   "cell_type": "code",
   "execution_count": null,
   "metadata": {},
   "outputs": [
    {
     "name": "stdout",
     "output_type": "stream",
     "text": [
      "Batch 1 / 173\n",
      "Batch 2 / 173\n",
      "Batch 3 / 173\n",
      "Batch 4 / 173\n",
      "Batch 5 / 173\n",
      "Batch 6 / 173\n",
      "Batch 7 / 173\n",
      "Batch 8 / 173\n",
      "Batch 9 / 173\n",
      "Batch 10 / 173\n",
      "Batch 11 / 173\n",
      "Batch 12 / 173\n",
      "Batch 13 / 173\n",
      "Batch 14 / 173\n",
      "Batch 15 / 173\n",
      "Batch 16 / 173\n",
      "Batch 17 / 173\n",
      "Batch 18 / 173\n"
     ]
    }
   ],
   "source": [
    "batchsize = 600\n",
    "n_batches = (len(z_mf) - 1) // batchsize + 1\n",
    "\n",
    "logps = []\n",
    "\n",
    "for i in range(n_batches):\n",
    "    print(\"Batch {} / {}\".format(i + 1, n_batches))\n",
    "    x_batch = x_mf[i*batchsize:(i+1)*batchsize]\n",
    "    x_batch_ = torch.tensor(x_batch, dtype=torch.float)\n",
    "    _, logp_, _ = mf(x_batch_, mode=\"mf\")\n",
    "    logps.append(logp_.detach().numpy().flatten())\n",
    "\n",
    "logp_mf = np.hstack(logps)\n",
    "logp_mf.shape\n"
   ]
  },
  {
   "cell_type": "code",
   "execution_count": null,
   "metadata": {},
   "outputs": [],
   "source": [
    "x_traj = sim.trajectory()\n",
    "z_traj = encode(x_traj, batchsize=10000)\n",
    "x_traj.shape, z_traj.shape\n"
   ]
  },
  {
   "cell_type": "markdown",
   "metadata": {},
   "source": [
    "## Save / load results"
   ]
  },
  {
   "cell_type": "code",
   "execution_count": null,
   "metadata": {},
   "outputs": [],
   "source": [
    "pickle.dump((x_mf, z_mf, logp_mf, x_traj, z_traj), open( \"../data/results/lorenz2.pickle\", \"wb\"))\n"
   ]
  },
  {
   "cell_type": "code",
   "execution_count": null,
   "metadata": {},
   "outputs": [],
   "source": [
    "# x_mf, z_mf, logp_mf, x_traj, z_traj = pickle.load(open( \"../data/results/lorenz.pickle\", \"rb\"))\n"
   ]
  },
  {
   "cell_type": "markdown",
   "metadata": {},
   "source": [
    "## Triangulation"
   ]
  },
  {
   "cell_type": "code",
   "execution_count": null,
   "metadata": {},
   "outputs": [],
   "source": [
    "circ_max = 0.8\n",
    "triangulation = Triangulation(z_mf[:,0], z_mf[:,1])\n",
    "\n",
    "x_tri = []\n",
    "logp_tri = []\n",
    "z_tri = []\n",
    "minlogp_tri = []\n",
    "\n",
    "for t in triangulation.triangles:\n",
    "    circ = triangle_circumference(x_mf[t[0]], x_mf[t[1]], x_mf[t[2]])\n",
    "    if circ_max is not None and circ > circ_max:\n",
    "        continue\n",
    "        \n",
    "    z_tri.append(\n",
    "        [\n",
    "            [z_mf[t[0], 0], z_mf[t[0], 1]],\n",
    "            [z_mf[t[1], 0], z_mf[t[1], 1]],\n",
    "            [z_mf[t[2], 0], z_mf[t[2], 1]]\n",
    "        ]\n",
    "    )\n",
    "    x_tri.append(\n",
    "        [\n",
    "            [x_mf[t[0], 0], x_mf[t[0], 1], x_mf[t[0], 2]],\n",
    "            [x_mf[t[1], 0], x_mf[t[1], 1], x_mf[t[1], 2]],\n",
    "            [x_mf[t[2], 0], x_mf[t[2], 1], x_mf[t[2], 2]]\n",
    "        ]\n",
    "    )\n",
    "    logp_tri.append(\n",
    "        (logp_mf[t[0]] + logp_mf[t[1]] + logp_mf[t[2]]) / 3.\n",
    "    )\n",
    "    minlogp_tri.append(min(logp_mf[t[0]], logp_mf[t[1]], logp_mf[t[2]]))\n",
    "\n",
    "z_tri = np.array(z_tri)\n",
    "x_tri = np.array(x_tri)\n",
    "logp_tri = np.array(logp_tri)\n",
    "minlogp_tri = np.array(minlogp_tri)\n",
    "\n",
    "logp_tri.shape, x_tri.shape, z_tri.shape\n"
   ]
  },
  {
   "cell_type": "markdown",
   "metadata": {},
   "source": [
    "## Color map"
   ]
  },
  {
   "cell_type": "code",
   "execution_count": null,
   "metadata": {},
   "outputs": [],
   "source": [
    "np.median(logp_tri), np.mean(logp_tri), np.std(logp_tri), np.min(logp_tri), np.max(logp_tri)"
   ]
  },
  {
   "cell_type": "code",
   "execution_count": null,
   "metadata": {},
   "outputs": [],
   "source": [
    "logp_cutoff = -8.\n",
    "cmin, cmax = -7., -1.\n",
    "x_boundary = 3.\n",
    "\n",
    "def cmap(vals):\n",
    "    return ps.CMAP(np.clip((vals - cmin) / (cmax - cmin), 0., 1.))\n",
    "\n",
    "\n",
    "if logp_cutoff is None:\n",
    "    x_tri_ = x_tri\n",
    "    colors_tri_ = cmap(logp_tri)\n",
    "    z_tri_ = z_tri\n",
    "else:\n",
    "    x_tri_ = x_tri[minlogp_tri > logp_cutoff]\n",
    "    colors_tri_ = cmap(logp_tri[minlogp_tri > logp_cutoff])\n",
    "    z_tri_ = z_tri[minlogp_tri > logp_cutoff]\n"
   ]
  },
  {
   "cell_type": "markdown",
   "metadata": {},
   "source": [
    "## 2D plot"
   ]
  },
  {
   "cell_type": "code",
   "execution_count": null,
   "metadata": {},
   "outputs": [],
   "source": [
    "fig = plt.figure(figsize=(6,6))\n",
    "ax = plt.gca()\n",
    "\n",
    "coll = PolyCollection(z_tri_, facecolors=colors_tri_, edgecolors=colors_tri_, lw=0.5, rasterized=True)\n",
    "ax.add_collection(coll)\n",
    "\n",
    "# ax.plot(z_traj[:, 0], z_traj[:, 1], c=\"black\", lw=0.5)\n",
    "\n",
    "plt.xlabel(\"$u_1$\")\n",
    "plt.ylabel(\"$u_2$\")\n",
    "\n",
    "plt.xlim(-3.1, 3.1)\n",
    "plt.ylim(-3.1, 3.1)\n",
    "\n",
    "plt.tight_layout()\n",
    "plt.savefig(\"../figures/lorenz_latent_likelihood.pdf\")\n"
   ]
  },
  {
   "cell_type": "markdown",
   "metadata": {},
   "source": [
    "## 3D plot"
   ]
  },
  {
   "cell_type": "code",
   "execution_count": null,
   "metadata": {},
   "outputs": [],
   "source": [
    "# Strongly based on https://discourse.matplotlib.org/t/trisurf-plots-with-independent-color-data/19033/2\n",
    "\n",
    "fig = plt.figure(figsize=(6,6))\n",
    "ax = fig.gca(projection='3d')\n",
    "    \n",
    "coll = Poly3DCollection(x_tri_, facecolors=colors_tri_, edgecolors=colors_tri_, lw=0.5)\n",
    "ax.add_collection(coll)\n",
    "\n",
    "ax.plot(\n",
    "    x_traj[:, 0],\n",
    "    x_traj[:, 1],\n",
    "    x_traj[:, 2],\n",
    "    c=\"black\",\n",
    "    lw=0.5\n",
    ")\n",
    "\n",
    "ax.set_xlim3d(-x_boundary, x_boundary)\n",
    "ax.set_ylim3d(-x_boundary, x_boundary)\n",
    "ax.set_zlim3d(-x_boundary, x_boundary)\n",
    "\n",
    "ax.set_xlabel(\"x\")\n",
    "ax.set_ylabel(\"y\")\n",
    "ax.set_zlabel(\"z\")\n",
    "\n",
    "ax.set_xticklabels([\"\"]*3)\n",
    "ax.set_yticklabels([\"\"]*3)\n",
    "ax.set_zticklabels([\"\"]*3)\n",
    "\n",
    "# ax.view_init(elev=20, azim=-70)  # Good view\n",
    "ax.view_init(elev=20, azim=-70+180)  # Back view\n",
    "# ax.view_init(elev=20, azim=60)  # Great side view\n",
    "# ax.view_init(elev=90, azim=-70)  # Top-down view of x-y plane\n",
    "\n",
    "plt.tight_layout()\n",
    "# plt.show()\n",
    "plt.savefig(\"../figures/lorenz_likelihood_3d_back.pdf\")\n"
   ]
  },
  {
   "cell_type": "code",
   "execution_count": null,
   "metadata": {},
   "outputs": [],
   "source": []
  }
 ],
 "metadata": {
  "kernelspec": {
   "display_name": "Python (ML)",
   "language": "python",
   "name": "ml"
  },
  "language_info": {
   "codemirror_mode": {
    "name": "ipython",
    "version": 3
   },
   "file_extension": ".py",
   "mimetype": "text/x-python",
   "name": "python",
   "nbconvert_exporter": "python",
   "pygments_lexer": "ipython3",
   "version": "3.6.8"
  }
 },
 "nbformat": 4,
 "nbformat_minor": 4
}
