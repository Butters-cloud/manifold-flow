{
 "cells": [
  {
   "cell_type": "markdown",
   "metadata": {},
   "source": [
    "# CelebA images"
   ]
  },
  {
   "cell_type": "code",
   "execution_count": null,
   "metadata": {},
   "outputs": [],
   "source": [
    "%matplotlib inline\n",
    "\n",
    "import sys\n",
    "import numpy as np\n",
    "import matplotlib\n",
    "from matplotlib import pyplot as plt\n",
    "from matplotlib.offsetbox import TextArea, DrawingArea, OffsetImage, AnnotationBbox\n",
    "import torch\n",
    "\n",
    "sys.path.append(\"../../\")\n",
    "from experiments.datasets import FFHQStyleGAN2DLoader\n",
    "from experiments.architectures.image_transforms import create_image_transform, create_image_encoder\n",
    "from experiments.architectures.vector_transforms import create_vector_transform\n",
    "from manifold_flow.flows import ManifoldFlow, EncoderManifoldFlow\n",
    "import plot_settings as ps\n"
   ]
  },
  {
   "cell_type": "code",
   "execution_count": null,
   "metadata": {},
   "outputs": [],
   "source": [
    "ps.setup()"
   ]
  },
  {
   "cell_type": "markdown",
   "metadata": {},
   "source": [
    "## Helper function to go from torch to numpy conventions"
   ]
  },
  {
   "cell_type": "code",
   "execution_count": null,
   "metadata": {},
   "outputs": [],
   "source": [
    "def trf(x):\n",
    "    return np.clip(np.transpose(x, [1,2,0]) / 256., 0., 1.)"
   ]
  },
  {
   "cell_type": "markdown",
   "metadata": {},
   "source": [
    "## Sample comparison"
   ]
  },
  {
   "cell_type": "code",
   "execution_count": null,
   "metadata": {},
   "outputs": [],
   "source": [
    "x_ = np.load(\"../data/results/emf_512_celeba_april_samples.npy\")\n",
    "\n",
    "plt.figure(figsize=(8*2.,5*2.))\n",
    "for i in range(40):\n",
    "    ax = plt.subplot(5,8, i+1)\n",
    "    plt.imshow(trf(x_[i]))\n",
    "    plt.tick_params(axis='both', which='both', bottom=False, top=False, labelbottom=False, right=False, left=False, labelleft=False)\n",
    "    plt.title(str(i))\n",
    "plt.show()\n"
   ]
  },
  {
   "cell_type": "code",
   "execution_count": null,
   "metadata": {},
   "outputs": [],
   "source": [
    "x_test = np.load(\"../data/samples/celeba/test.npy\")[:8]\n",
    "x_gen_af = np.load(\"../data/results/flow_512_celeba_april_samples.npy\")[[3,7,13,17,21,25,36,38]]\n",
    "x_gen_mf = np.load(\"../data/results/mf_512_celeba_april_samples.npy\")[[37,25,32,33,19,8,34,13]]\n",
    "x_gen_emf = np.load(\"../data/results/emf_512_celeba_april_samples.npy\")[[6,32,19,34,1,28,31,16]]\n"
   ]
  },
  {
   "cell_type": "code",
   "execution_count": null,
   "metadata": {},
   "outputs": [],
   "source": [
    "ncols = 8\n",
    "nrows = 4\n",
    "\n",
    "xs = [x_test, x_gen_af, x_gen_mf, x_gen_emf]\n",
    "labels = [\"Original\", \"AF\", r\"$\\mathcal{M}$-flow\", r\"$\\mathcal{M}_e$-flow\"]\n",
    "\n",
    "fig, gs = ps.grid_width(ncols, nrows, width=ps.TEXTWIDTH, large_margin=0.04, small_margin=0.01, sep=0.007, t_space=False, b_space=False, r_space=False, l_space=True)\n",
    "\n",
    "for i in range(ncols):\n",
    "    for j, (x, label) in enumerate(zip(xs, labels)):\n",
    "        ax = plt.subplot(gs[j*ncols + i])\n",
    "        plt.imshow(trf(x[i]))\n",
    "        plt.tick_params(axis='both', which='both', bottom=False, top=False, labelbottom=False, right=False, left=False, labelleft=False)\n",
    "        if i == 0:\n",
    "            plt.ylabel(label, labelpad=3)\n",
    "    \n",
    "plt.savefig(\"../figures/celeba_samples.pdf\")\n"
   ]
  },
  {
   "cell_type": "code",
   "execution_count": null,
   "metadata": {},
   "outputs": [],
   "source": [
    "ncols = 4\n",
    "\n",
    "fig, gs = ps.grid_width(ncols, nrows, width=0.35*ps.TEXTWIDTH, large_margin=0.06, small_margin=0.01, sep=0.007, t_space=False, b_space=False, r_space=False)\n",
    "\n",
    "for i in range(ncols):\n",
    "    for j, (x, label) in enumerate(zip(xs, labels)):\n",
    "        ax = plt.subplot(gs[j*ncols + i])\n",
    "        plt.imshow(trf(x[i]))\n",
    "        plt.tick_params(axis='both', which='both', bottom=False, top=False, labelbottom=False, right=False, left=False, labelleft=False)\n",
    "        if i == 0:\n",
    "            plt.ylabel(label)\n",
    "    \n",
    "plt.savefig(\"../figures/celeba_samples_small.pdf\")\n"
   ]
  },
  {
   "cell_type": "markdown",
   "metadata": {},
   "source": [
    "## Test samples and projections to learned manifolds"
   ]
  },
  {
   "cell_type": "code",
   "execution_count": null,
   "metadata": {},
   "outputs": [],
   "source": [
    "test_idx = list(range(8, 16))\n",
    "n_test = len(test_idx)\n",
    "\n",
    "x_test = np.load(\"../data/samples/celeba/test.npy\")[test_idx]\n",
    "x_reco_mf = np.load(\"../data/results/emf_512_celeba_april_model_x_reco_test.npy\")[test_idx]  # TODO: placeholder\n",
    "x_reco_emf = np.load(\"../data/results/emf_512_celeba_april_model_x_reco_test.npy\")[test_idx]\n"
   ]
  },
  {
   "cell_type": "code",
   "execution_count": null,
   "metadata": {},
   "outputs": [],
   "source": [
    "nrows = 5\n",
    "enhance = 1\n",
    "labels = [\"Original\", \"$\\mathcal{M}$-flow proj.\", r\"$\\mathcal{M}$-flow res.\", \"$\\mathcal{M}_e$-flow proj.\", \"$\\mathcal{M}_e$-flow res.\"]\n",
    "\n",
    "fig, gs = ps.grid_width(n_test, nrows, width=ps.TEXTWIDTH, large_margin=0.04, small_margin=0.01, sep=0.005, t_space=False, b_space=False, r_space=False, l_space=True)\n",
    "\n",
    "for i in range(n_test):\n",
    "    xs = [\n",
    "        trf(x_test[i]),\n",
    "        trf(x_reco_mf[i]),\n",
    "        1. - enhance*np.abs(trf(x_reco_mf[i]) - trf(x_test[i])),\n",
    "        trf(x_reco_emf[i]),\n",
    "        1. - enhance*np.abs(trf(x_reco_emf[i]) - trf(x_test[i]))\n",
    "    ]\n",
    "    \n",
    "    for j, (x, label) in enumerate(zip(xs, labels)):\n",
    "        ax = plt.subplot(gs[j * n_test + i])\n",
    "        plt.imshow(x)\n",
    "        plt.tick_params(axis='both', which='both', bottom=False, top=False, labelbottom=False, right=False, left=False, labelleft=False)\n",
    "        if i == 0:\n",
    "            plt.ylabel(label)\n",
    "    \n",
    "plt.savefig(\"../figures/celeba_projections.pdf\")\n"
   ]
  },
  {
   "cell_type": "code",
   "execution_count": null,
   "metadata": {},
   "outputs": [],
   "source": [
    "nrows = 5\n",
    "ncols = 4\n",
    "enhance = 1\n",
    "labels = [\"Original\", \"$\\mathcal{M}$-flow\", r\"Residual\", \"$\\mathcal{M}_e$-flow\", \"Residual\"]\n",
    "\n",
    "fig, gs = ps.grid_width(ncols, nrows, width=0.33 * ps.TEXTWIDTH, large_margin=0.06, small_margin=0.01, sep=0.005, t_space=False, b_space=False, r_space=False, l_space=True)\n",
    "\n",
    "for i in range(ncols):\n",
    "    xs = [\n",
    "        trf(x_test[i]),\n",
    "        trf(x_reco_mf[i]),\n",
    "        1. - enhance*np.abs(trf(x_reco_mf[i]) - trf(x_test[i])),\n",
    "        trf(x_reco_emf[i]),\n",
    "        1. - enhance*np.abs(trf(x_reco_emf[i]) - trf(x_test[i]))\n",
    "    ]\n",
    "    \n",
    "    for j, (x, label) in enumerate(zip(xs, labels)):\n",
    "        ax = plt.subplot(gs[j * ncols + i])\n",
    "        plt.imshow(x)\n",
    "        plt.tick_params(axis='both', which='both', bottom=False, top=False, labelbottom=False, right=False, left=False, labelleft=False)\n",
    "        if i == 0:\n",
    "            plt.ylabel(label)\n",
    "    \n",
    "plt.savefig(\"../figures/celeba_projections_small.pdf\")\n"
   ]
  },
  {
   "cell_type": "code",
   "execution_count": null,
   "metadata": {},
   "outputs": [],
   "source": []
  }
 ],
 "metadata": {
  "kernelspec": {
   "display_name": "Python (ML)",
   "language": "python",
   "name": "ml"
  },
  "language_info": {
   "codemirror_mode": {
    "name": "ipython",
    "version": 3
   },
   "file_extension": ".py",
   "mimetype": "text/x-python",
   "name": "python",
   "nbconvert_exporter": "python",
   "pygments_lexer": "ipython3",
   "version": "3.7.3"
  }
 },
 "nbformat": 4,
 "nbformat_minor": 4
}
