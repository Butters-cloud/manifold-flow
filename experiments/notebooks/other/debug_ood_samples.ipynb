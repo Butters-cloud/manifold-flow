{
 "cells": [
  {
   "cell_type": "code",
   "execution_count": 10,
   "metadata": {},
   "outputs": [],
   "source": [
    "%matplotlib inline\n",
    "\n",
    "import numpy as np\n",
    "from matplotlib import pyplot as plt\n",
    "import torch\n",
    "import sys\n",
    "\n",
    "sys.path.append(\"../..\")\n",
    "from experiments.utils.models import create_vector_transform\n",
    "from manifold_flow.flows import ManifoldFlow\n",
    "from manifold_flow.transforms import SphericalCoordinates"
   ]
  },
  {
   "cell_type": "markdown",
   "metadata": {},
   "source": [
    "## Look at OOD samples"
   ]
  },
  {
   "cell_type": "code",
   "execution_count": 2,
   "metadata": {},
   "outputs": [],
   "source": [
    "x_ood = np.array(\n",
    "    [np.load(\"../data/samples/spherical_gaussian/spherical_gaussian_2_3_0.001_x_ood.npy\"),\n",
    "    np.load(\"../data/samples/spherical_gaussian/spherical_gaussian_2_3_0.010_x_ood.npy\"),\n",
    "    np.load(\"../data/samples/spherical_gaussian/spherical_gaussian_2_3_0.100_x_ood.npy\")]\n",
    ")"
   ]
  },
  {
   "cell_type": "code",
   "execution_count": 24,
   "metadata": {},
   "outputs": [],
   "source": [
    "def r(x):\n",
    "    return np.sum(x**2, axis=-1)**0.5"
   ]
  },
  {
   "cell_type": "code",
   "execution_count": 25,
   "metadata": {},
   "outputs": [],
   "source": [
    "r_ood = r(x_ood)"
   ]
  },
  {
   "cell_type": "code",
   "execution_count": 26,
   "metadata": {},
   "outputs": [
    {
     "data": {
      "image/png": "[encoded data removed]",
      "text/plain": [
       "<Figure size 360x360 with 1 Axes>"
      ]
     },
     "metadata": {
      "needs_background": "light"
     },
     "output_type": "display_data"
    }
   ],
   "source": [
    "fig = plt.figure(figsize=(5,5))\n",
    "\n",
    "for r_ in r_ood:\n",
    "    plt.hist(r_, range=(0.65,1.05), bins=200, histtype=\"step\", lw=1.5)\n",
    "    \n",
    "plt.yscale(\"log\")\n",
    "    \n",
    "plt.tight_layout()\n",
    "plt.show()"
   ]
  },
  {
   "cell_type": "markdown",
   "metadata": {},
   "source": [
    "## Load a model"
   ]
  },
  {
   "cell_type": "code",
   "execution_count": 11,
   "metadata": {},
   "outputs": [],
   "source": [
    "def make_model(filename):\n",
    "    outer_transform = SphericalCoordinates(n=2, r0=1.0)\n",
    "    inner_transform = create_vector_transform(\n",
    "        2,\n",
    "        5,\n",
    "        linear_transform_type=\"permutation\",\n",
    "        base_transform_type=\"rq-coupling\",\n",
    "        context_features=None,\n",
    "        dropout_probability=0.,\n",
    "    )\n",
    "    model = ManifoldFlow(\n",
    "        data_dim=3,\n",
    "        latent_dim=2,\n",
    "        outer_transform=outer_transform,\n",
    "        inner_transform=inner_transform,\n",
    "        apply_context_to_outer=False,\n",
    "        pie_epsilon=0.01,\n",
    "    )\n",
    "    model.load_state_dict(torch.load(filename, map_location=torch.device(\"cpu\")))\n",
    "    \n",
    "    return model"
   ]
  },
  {
   "cell_type": "code",
   "execution_count": 12,
   "metadata": {},
   "outputs": [],
   "source": [
    "model = make_model(\"../data/models/mf_specified_2_spherical_gaussian_2_3_0.010.pt\")"
   ]
  },
  {
   "cell_type": "code",
   "execution_count": 21,
   "metadata": {},
   "outputs": [],
   "source": [
    "x_reco, log_prob, _ = model(torch.from_numpy(x_ood[1]).to(torch.float))\n",
    "x_reco = x_reco.detach().numpy()"
   ]
  },
  {
   "cell_type": "code",
   "execution_count": 29,
   "metadata": {},
   "outputs": [],
   "source": [
    "delta_r = r(x_reco) - r(x_ood[1])\n",
    "r_delta = r(x_reco - x_ood[1])"
   ]
  },
  {
   "cell_type": "code",
   "execution_count": 34,
   "metadata": {},
   "outputs": [
    {
     "data": {
      "image/png": "[encoded data removed]",
      "text/plain": [
       "<Figure size 360x360 with 1 Axes>"
      ]
     },
     "metadata": {
      "needs_background": "light"
     },
     "output_type": "display_data"
    }
   ],
   "source": [
    "fig = plt.figure(figsize=(5,5))\n",
    "\n",
    "plt.hist(delta_r, range=(0.0,0.04), bins=100, histtype=\"step\", lw=1.5)\n",
    "plt.hist(r_delta, range=(0.0,0.04), bins=100, histtype=\"step\", lw=1.5)\n",
    "    \n",
    "#plt.yscale(\"log\")\n",
    "    \n",
    "plt.tight_layout()\n",
    "plt.show()"
   ]
  },
  {
   "cell_type": "code",
   "execution_count": null,
   "metadata": {},
   "outputs": [],
   "source": []
  }
 ],
 "metadata": {
  "kernelspec": {
   "display_name": "Python (ML)",
   "language": "python",
   "name": "ml"
  },
  "language_info": {
   "codemirror_mode": {
    "name": "ipython",
    "version": 3
   },
   "file_extension": ".py",
   "mimetype": "text/x-python",
   "name": "python",
   "nbconvert_exporter": "python",
   "pygments_lexer": "ipython3",
   "version": "3.6.8"
  }
 },
 "nbformat": 4,
 "nbformat_minor": 2
}
