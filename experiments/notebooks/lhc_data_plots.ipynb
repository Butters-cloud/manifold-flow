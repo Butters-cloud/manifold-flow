{
 "cells": [
  {
   "cell_type": "markdown",
   "metadata": {},
   "source": [
    "# Explore LHC dataset"
   ]
  },
  {
   "cell_type": "code",
   "execution_count": 1,
   "metadata": {
    "collapsed": true
   },
   "outputs": [],
   "source": [
    "%matplotlib inline\n",
    "\n",
    "import sys\n",
    "import numpy as np\n",
    "import matplotlib\n",
    "from matplotlib import pyplot as plt\n",
    "import corner\n",
    "import logging\n",
    "from sklearn.manifold import TSNE\n",
    "from sklearn.decomposition import PCA\n",
    "\n",
    "logging.basicConfig(\n",
    "    format=\"%(asctime)-5.5s %(name)-30.30s %(levelname)-7.7s %(message)s\",\n",
    "    datefmt=\"%H:%M\",\n",
    "    level=logging.INFO,\n",
    ")\n",
    "\n",
    "sys.path.append(\"../../\")\n",
    "from experiments.datasets import WBFLoader, WBF40DLoader\n"
   ]
  },
  {
   "cell_type": "markdown",
   "metadata": {},
   "source": [
    "## Get data"
   ]
  },
  {
   "cell_type": "code",
   "execution_count": 2,
   "metadata": {
    "collapsed": true
   },
   "outputs": [],
   "source": [
    "n = 100000"
   ]
  },
  {
   "cell_type": "code",
   "execution_count": 3,
   "metadata": {},
   "outputs": [
    {
     "data": {
      "text/plain": [
       "(14, 14)"
      ]
     },
     "execution_count": 3,
     "metadata": {},
     "output_type": "execute_result"
    }
   ],
   "source": [
    "sim = WBFLoader()\n",
    "sim40d = WBF40DLoader()\n",
    "\n",
    "sim.latent_dim(), sim40d.latent_dim()"
   ]
  },
  {
   "cell_type": "code",
   "execution_count": 4,
   "metadata": {},
   "outputs": [
    {
     "name": "stderr",
     "output_type": "stream",
     "text": [
      "10:03 experiments.datasets.collider  INFO    Only using 100000 of 1000000 available samples\n"
     ]
    }
   ],
   "source": [
    "x, params = sim.load_dataset(train=True, dataset_dir=\"../data/samples/lhc\", numpy=True, limit_samplesize=n)\n",
    "x_ = sim._preprocess(x, inverse=True)\n",
    "x_noise = np.random.normal(size=x.shape)\n"
   ]
  },
  {
   "cell_type": "code",
   "execution_count": 5,
   "metadata": {},
   "outputs": [
    {
     "name": "stderr",
     "output_type": "stream",
     "text": [
      "10:03 experiments.datasets.collider  INFO    Only using 100000 of 1000000 available samples\n"
     ]
    }
   ],
   "source": [
    "x40d, _ = sim40d.load_dataset(train=True, dataset_dir=\"../data/samples/lhc40d\", numpy=True, limit_samplesize=n)\n",
    "x40d_noise = np.random.normal(size=x40d.shape)\n"
   ]
  },
  {
   "cell_type": "code",
   "execution_count": 6,
   "metadata": {},
   "outputs": [
    {
     "name": "stderr",
     "output_type": "stream",
     "text": [
      "10:03 experiments.datasets.collider  INFO    Only using 100000 of 10000 available samples\n"
     ]
    }
   ],
   "source": [
    "x40d_test, _ = sim40d.load_dataset(train=False, dataset_dir=\"../data/samples/lhc40d\", numpy=True, limit_samplesize=n)\n",
    "x40d_model = np.load(\"../data/results/mf_14_lhc40d_sequential_may_samples.npy\")"
   ]
  },
  {
   "cell_type": "markdown",
   "metadata": {},
   "source": [
    "## PCA"
   ]
  },
  {
   "cell_type": "code",
   "execution_count": null,
   "metadata": {
    "collapsed": true
   },
   "outputs": [],
   "source": [
    "pca = PCA(n_components=48)\n",
    "pca.fit(x)\n",
    "\n",
    "explained_var = pca.explained_variance_ratio_\n"
   ]
  },
  {
   "cell_type": "code",
   "execution_count": null,
   "metadata": {
    "collapsed": true
   },
   "outputs": [],
   "source": [
    "plt.figure(figsize=(5,5))\n",
    "\n",
    "plt.plot(np.arange(1, 48.5), explained_var, ls=\" \", marker=\"o\", ms=5.)\n",
    "\n",
    "plt.ylim(0.,None)\n",
    "plt.xlabel(\"PCA component\")\n",
    "plt.ylabel(\"Explained variance ratio\")\n",
    "\n",
    "plt.tight_layout()\n",
    "plt.show()\n"
   ]
  },
  {
   "cell_type": "code",
   "execution_count": null,
   "metadata": {
    "collapsed": true
   },
   "outputs": [],
   "source": [
    "np.sum(explained_var[:14])"
   ]
  },
  {
   "cell_type": "markdown",
   "metadata": {},
   "source": [
    "## t-SNE"
   ]
  },
  {
   "cell_type": "code",
   "execution_count": null,
   "metadata": {
    "collapsed": true
   },
   "outputs": [],
   "source": [
    "x_tsne = TSNE(n_components=2, verbose=1, perplexity=40, n_iter=1000).fit_transform(x)\n",
    "noise_tsne = TSNE(n_components=2, verbose=1, perplexity=40, n_iter=1000).fit_transform(x_noise)\n"
   ]
  },
  {
   "cell_type": "code",
   "execution_count": null,
   "metadata": {
    "collapsed": true
   },
   "outputs": [],
   "source": [
    "x_reshuffled = np.copy(x)\n",
    "idx = np.random.rand(*x_reshuffled.shape).argsort(0)\n",
    "x_reshuffled = x_reshuffled[idx, np.arange(x_reshuffled.shape[1])]\n",
    "\n",
    "x_reshuffled_tsne = TSNE(n_components=2, verbose=1, perplexity=40, n_iter=1000).fit_transform(x_reshuffled)\n"
   ]
  },
  {
   "cell_type": "code",
   "execution_count": null,
   "metadata": {
    "collapsed": true
   },
   "outputs": [],
   "source": [
    "plt.figure(figsize=(12, 4))\n",
    "\n",
    "ax = plt.subplot(1,3,1)\n",
    "plt.scatter(\n",
    "    x_tsne[x[:,16]>0.][:, 0],\n",
    "    x_tsne[x[:,16]>0.][:, 1],\n",
    "    s=12.0,\n",
    "    alpha=0.15,\n",
    "    c=\"C0\"\n",
    ")\n",
    "plt.scatter(\n",
    "    x_tsne[x[:,16]<0.][:, 0],\n",
    "    x_tsne[x[:,16]<0.][:, 1],\n",
    "    s=12.0,\n",
    "    alpha=0.15,\n",
    "    c=\"C1\"\n",
    ")\n",
    "plt.xlabel(\"t-SNE component 0\")\n",
    "plt.ylabel(\"t-SNE component 1\")\n",
    "\n",
    "ax = plt.subplot(1,3,2)\n",
    "plt.scatter(\n",
    "    x_reshuffled_tsne[:, 0],\n",
    "    x_reshuffled_tsne[:, 1],\n",
    "    s=12.0,\n",
    "    alpha=0.15,\n",
    "    c=\"C2\"\n",
    ")\n",
    "plt.xlabel(\"t-SNE component 0\")\n",
    "plt.ylabel(\"t-SNE component 1\")\n",
    "\n",
    "ax = plt.subplot(1,3,3)\n",
    "plt.scatter(\n",
    "    noise_tsne[:, 0],\n",
    "    noise_tsne[:, 1],\n",
    "    s=12.0,\n",
    "    alpha=0.15,\n",
    "    c=\"C4\"\n",
    ")\n",
    "plt.xlabel(\"t-SNE component 0\")\n",
    "plt.ylabel(\"t-SNE component 1\")\n",
    "\n",
    "plt.tight_layout()\n",
    "plt.savefig(\"../figures/lhc_tsne.pdf\")"
   ]
  },
  {
   "cell_type": "code",
   "execution_count": null,
   "metadata": {
    "collapsed": true
   },
   "outputs": [],
   "source": [
    "npanels = 48\n",
    "ncols = 6\n",
    "nrows = (npanels - 1) // ncols + 1\n",
    "\n",
    "plt.figure(figsize=(ncols * 3, nrows * 3))\n",
    "\n",
    "for i in range(npanels):\n",
    "    ax = plt.subplot(nrows,ncols,i+1)\n",
    "    plt.scatter(\n",
    "        x_tsne[x[:,i]>0.][:250, 0],\n",
    "        x_tsne[x[:,i]>0.][:250, 1],\n",
    "        s=12.0,\n",
    "        c=\"C0\"\n",
    "    )\n",
    "    plt.scatter(\n",
    "        x_tsne[x[:,i]<0.][:250, 0],\n",
    "        x_tsne[x[:,i]<0.][:250, 1],\n",
    "        s=12.0,\n",
    "        c=\"C1\"\n",
    "    )\n",
    "    plt.title(\"Feature {}\".format(i))\n",
    "    plt.xlabel(\"t-SNE 0\")\n",
    "    plt.ylabel(\"t-SNE 1\")\n",
    "\n",
    "plt.tight_layout()\n",
    "plt.savefig(\"../figures/lhc_tsne_features.pdf\")"
   ]
  },
  {
   "cell_type": "markdown",
   "metadata": {},
   "source": [
    "## Determine weights for individual closure tests"
   ]
  },
  {
   "cell_type": "code",
   "execution_count": null,
   "metadata": {
    "collapsed": true
   },
   "outputs": [],
   "source": [
    "random_closure_tests = np.mean(sim._closure_tests(x_noise), axis=1)\n",
    "CLOSURE_TEST_WEIGHTS = 1. / random_closure_tests\n",
    "print(\", \".join([str(w) for w in CLOSURE_TEST_WEIGHTS]))"
   ]
  },
  {
   "cell_type": "markdown",
   "metadata": {},
   "source": [
    "## Closure test vs noise"
   ]
  },
  {
   "cell_type": "code",
   "execution_count": null,
   "metadata": {
    "collapsed": true
   },
   "outputs": [],
   "source": [
    "np.mean(sim.distance_from_manifold(x)), np.mean(sim.distance_from_manifold(x_noise))"
   ]
  },
  {
   "cell_type": "code",
   "execution_count": null,
   "metadata": {
    "collapsed": true
   },
   "outputs": [],
   "source": [
    "np.mean(sim40d.distance_from_manifold(x40d)), np.mean(sim40d.distance_from_manifold(x40d_noise))"
   ]
  },
  {
   "cell_type": "code",
   "execution_count": null,
   "metadata": {
    "collapsed": true
   },
   "outputs": [],
   "source": [
    "noises = np.geomspace(1.e-9, 1., 100)\n",
    "\n",
    "closure = []\n",
    "\n",
    "for noise in noises:\n",
    "    closure.append(np.mean(sim.distance_from_manifold(x + noise * np.random.normal(size=x.shape))))"
   ]
  },
  {
   "cell_type": "code",
   "execution_count": null,
   "metadata": {
    "collapsed": true
   },
   "outputs": [],
   "source": [
    "plt.figure(figsize=(5,5))\n",
    "\n",
    "plt.plot(noises, closure)\n",
    "\n",
    "plt.xscale(\"log\")\n",
    "plt.yscale(\"log\")\n",
    "\n",
    "plt.xlabel(\"Noise\")\n",
    "plt.ylabel(\"Mean closure\")\n",
    "\n",
    "plt.tight_layout()\n",
    "plt.savefig(\"../figures/lhc_closure_vs_noise.pdf\")\n"
   ]
  },
  {
   "cell_type": "markdown",
   "metadata": {},
   "source": [
    "## Histograms of 40D data"
   ]
  },
  {
   "cell_type": "code",
   "execution_count": 11,
   "metadata": {},
   "outputs": [
    {
     "data": {
      "image/png": "[encoded data removed]",
      "text/plain": [
       "<Figure size 1152x720 with 40 Axes>"
      ]
     },
     "metadata": {},
     "output_type": "display_data"
    }
   ],
   "source": [
    "ncols = 8\n",
    "nrows = 5\n",
    "\n",
    "fig = plt.figure(figsize=(2*ncols, 2*nrows))\n",
    "\n",
    "for i in range(40):\n",
    "    ax = plt.subplot(nrows, ncols, i+1)\n",
    "    plt.hist(\n",
    "        x40d[:,i], range=(-5,5), bins=50, density=True,\n",
    "        histtype=\"step\", color=\"C0\", ls=\"-\", lw=1.5, label=\"Train\"\n",
    "    )\n",
    "    plt.hist(\n",
    "        x40d_test[:,i], range=(-5,5), bins=50, density=True,\n",
    "        histtype=\"step\", color=\"C1\", ls=\"-\", lw=1.5, label=\"Test\"\n",
    "    )\n",
    "    plt.hist(\n",
    "        x40d_model[:,i], range=(-5,5), bins=50, density=True,\n",
    "        histtype=\"step\", color=\"C3\", ls=\"-\", lw=1.5, label=\"MFMF\"\n",
    "    )\n",
    "    \n",
    "    if i == 0:\n",
    "        plt.legend()\n",
    "    \n",
    "    ax.get_xaxis().set_ticks([])\n",
    "    ax.get_yaxis().set_ticks([])\n",
    "    \n",
    "plt.tight_layout()\n",
    "plt.savefig(\"../figures/lhc_features_histos.pdf\")\n"
   ]
  },
  {
   "cell_type": "markdown",
   "metadata": {},
   "source": [
    "## Scatter plots of 40D data"
   ]
  },
  {
   "cell_type": "code",
   "execution_count": 10,
   "metadata": {},
   "outputs": [
    {
     "name": "stderr",
     "output_type": "stream",
     "text": [
      "IOPub data rate exceeded.\n",
      "The notebook server will temporarily stop sending output\n",
      "to the client in order to avoid crashing it.\n",
      "To change this limit, set the config variable\n",
      "`--NotebookApp.iopub_data_rate_limit`.\n"
     ]
    }
   ],
   "source": [
    "features = list(range(40))\n",
    "n = len(features)\n",
    "m = 200\n",
    "\n",
    "fig = plt.figure(figsize=(2*(n-1), 2*(n-1)))\n",
    "for ip, i in enumerate(features[1:]):\n",
    "    for jp in range(ip):\n",
    "        j = features[jp]\n",
    "        ax = plt.subplot(n-1, n-1, ip*(n-1) + jp + 1)\n",
    "        plt.scatter(x40d[:m,j], x40d[:m,i], s=4., c=\"C0\", rasterized=True)\n",
    "        plt.scatter(x40d_test[:m,j], x40d_test[:m,i], s=4., c=\"C1\", rasterized=True)\n",
    "        plt.scatter(x40d_model[:m,j], x40d_model[:m,i], s=4., c=\"C3\", rasterized=True)\n",
    "        ax.get_xaxis().set_ticks([])\n",
    "        ax.get_yaxis().set_ticks([])\n",
    "        plt.xlim(-2.5,2.5)\n",
    "        plt.ylim(-2.5,2.5)\n",
    "        \n",
    "        if ip == n - 2:\n",
    "            plt.xlabel(str(j))\n",
    "        if jp == 0:\n",
    "            plt.ylabel(str(i))\n",
    "        \n",
    "plt.tight_layout()\n",
    "plt.savefig(\"../figures/lhc_features_40d.pdf\")\n"
   ]
  },
  {
   "cell_type": "markdown",
   "metadata": {},
   "source": [
    "## Scatter plots of 48D data"
   ]
  },
  {
   "cell_type": "code",
   "execution_count": null,
   "metadata": {
    "collapsed": true
   },
   "outputs": [],
   "source": [
    "features = [0,1,2,3,7,8,9,10, 14,15,16,17, 21,22,23,24]\n",
    "n = len(features)\n",
    "\n",
    "fig = plt.figure(figsize=(2*(n-1), 2*(n-1)))\n",
    "for ip, i in enumerate(features[1:]):\n",
    "    print(ip, i)\n",
    "    for jp in range(ip):\n",
    "        j = features[jp]\n",
    "        ax = plt.subplot(n-1, n-1, ip*(n-1) + jp + 1)\n",
    "        plt.scatter(x[:500,j], x[:500,i], s=4., rasterized=True)\n",
    "        ax.get_xaxis().set_ticks([])\n",
    "        ax.get_yaxis().set_ticks([])\n",
    "        plt.xlim(-2.5,2.5)\n",
    "        plt.ylim(-2.5,2.5)\n",
    "        \n",
    "        if ip == n - 2:\n",
    "            plt.xlabel(str(j))\n",
    "        if jp == 0:\n",
    "            plt.ylabel(str(i))\n",
    "        \n",
    "plt.tight_layout()\n",
    "plt.savefig(\"../figures/lhc_features_independent.pdf\")\n"
   ]
  },
  {
   "cell_type": "code",
   "execution_count": null,
   "metadata": {
    "collapsed": true
   },
   "outputs": [],
   "source": [
    "features = [0,1,2,3,7,8,9,10, 14,15,16,17, 21,22,23,24]\n",
    "nx = len(features)\n",
    "ny = 48 - nx\n",
    "\n",
    "fig = plt.figure(figsize=(2*nx, 2*ny))\n",
    "for ip, i in enumerate(features):\n",
    "    jp = 0\n",
    "    for j in range(48):\n",
    "        if j in features:\n",
    "            continue\n",
    "        \n",
    "        ax = plt.subplot(ny, nx, jp*n + ip + 1)\n",
    "        plt.scatter(x[:500,i], x[:500,j], s=4., rasterized=True)\n",
    "        ax.get_xaxis().set_ticks([])\n",
    "        ax.get_yaxis().set_ticks([])\n",
    "        plt.xlim(-2.5,2.5)\n",
    "        plt.ylim(-2.5,2.5)\n",
    "        \n",
    "        if jp == ny - 1:\n",
    "            plt.xlabel(str(i))\n",
    "        if ip == 0:\n",
    "            plt.ylabel(str(j))\n",
    "        \n",
    "        jp += 1\n",
    "        \n",
    "plt.tight_layout()\n",
    "plt.savefig(\"../figures/lhc_features_derived_vs_independent.pdf\")\n"
   ]
  },
  {
   "cell_type": "code",
   "execution_count": null,
   "metadata": {
    "collapsed": true
   },
   "outputs": [],
   "source": [
    "features = [0,1,2,3,7,8,9,10, 14,15,16,17, 21,22,23,24]\n",
    "n = 48 - len(features)\n",
    "\n",
    "fig = plt.figure(figsize=(2*(n-1), 2*(n-1)))\n",
    "ip = 0\n",
    "for i in range(48):\n",
    "    if i in features:\n",
    "        continue\n",
    "        \n",
    "    jp = 0\n",
    "    for j in range(i):\n",
    "        if j in features:\n",
    "            continue\n",
    "        \n",
    "        ax = plt.subplot(n-1, n-1, ip*(n-1) + jp + 1)\n",
    "        plt.scatter(x[:500,j], x[:500,i], s=4., rasterized=True)\n",
    "        ax.get_xaxis().set_ticks([])\n",
    "        ax.get_yaxis().set_ticks([])\n",
    "        plt.xlim(-2.5,2.5)\n",
    "        plt.ylim(-2.5,2.5)\n",
    "        \n",
    "        if ip == n - 2:\n",
    "            plt.xlabel(str(j))\n",
    "        if jp == 0:\n",
    "            plt.ylabel(str(i))\n",
    "            \n",
    "        jp += 1\n",
    "    \n",
    "    if jp > 0:\n",
    "        ip += 1\n",
    "        \n",
    "plt.tight_layout()\n",
    "plt.savefig(\"../figures/lhc_features_derived.pdf\")\n"
   ]
  },
  {
   "cell_type": "code",
   "execution_count": null,
   "metadata": {
    "collapsed": true
   },
   "outputs": [],
   "source": [
    "'''\n",
    "0 e_a1\n",
    "1 px_a1\n",
    "2 py_a1\n",
    "3 pz_a1\n",
    "4 pt_a1\n",
    "5 eta_a1\n",
    "6 phi_a1\n",
    "7 e_a2\n",
    "8 px_a2\n",
    "9 py_a2\n",
    "10 pz_a2\n",
    "11 pt_a2\n",
    "12 eta_a2\n",
    "13 phi_a2\n",
    "14 e_j1\n",
    "15 px_j1\n",
    "16 py_j1\n",
    "17 pz_j1\n",
    "18 pt_j1\n",
    "19 eta_j1\n",
    "20 phi_j1\n",
    "21 e_j2\n",
    "22 px_j2\n",
    "23 py_j2\n",
    "24 pz_j2\n",
    "25 pt_j2\n",
    "26 eta_j2\n",
    "27 phi_j2\n",
    "28 e_aa\n",
    "29 px_aa\n",
    "30 py_aa\n",
    "31 pz_aa\n",
    "32 pt_aa\n",
    "33 m_aa\n",
    "34 eta_aa\n",
    "35 phi_aa\n",
    "36 deltaeta_aa\n",
    "37 deltaphi_aa\n",
    "38 e_jj\n",
    "39 px_jj\n",
    "40 py_jj\n",
    "41 pz_jj\n",
    "42 pt_jj\n",
    "43 m_jj\n",
    "44 eta_jj\n",
    "45 phi_jj\n",
    "46 deltaeta_jj\n",
    "47 deltaphi_jj\n",
    "'''"
   ]
  },
  {
   "cell_type": "code",
   "execution_count": null,
   "metadata": {
    "collapsed": true
   },
   "outputs": [],
   "source": []
  }
 ],
 "metadata": {
  "kernelspec": {
   "display_name": "Python (ML)",
   "language": "python",
   "name": "ml"
  },
  "language_info": {
   "codemirror_mode": {
    "name": "ipython",
    "version": 3
   },
   "file_extension": ".py",
   "mimetype": "text/x-python",
   "name": "python",
   "nbconvert_exporter": "python",
   "pygments_lexer": "ipython3",
   "version": "3.6.8"
  }
 },
 "nbformat": 4,
 "nbformat_minor": 2
}
