{
 "cells": [
  {
   "cell_type": "code",
   "execution_count": 1,
   "metadata": {
    "collapsed": true
   },
   "outputs": [],
   "source": [
    "import numpy as np\n",
    "import logging\n",
    "import sys\n",
    "from matplotlib import pyplot as plt\n",
    "\n",
    "%matplotlib inline\n",
    "sys.path.append(\"../\")\n",
    "\n",
    "import torch\n",
    "from torchvision.datasets import MNIST\n",
    "from torchvision import transforms\n",
    "\n",
    "from aef.models.aef import LinearAutoencoder, ConvolutionalAutoencoder, DenseAutoencoder\n",
    "from aef.trainer import AutoencoderTrainer, AutoencoderFlowTrainer\n",
    "from aef.losses import nll, mse\n",
    "\n",
    "logging.basicConfig(\n",
    "    format=\"%(asctime)-5.5s %(name)-20.20s %(levelname)-7.7s %(message)s\",\n",
    "    datefmt=\"%H:%M\",\n",
    "    level=logging.INFO,\n",
    ")\n"
   ]
  },
  {
   "cell_type": "markdown",
   "metadata": {},
   "source": [
    "## Data"
   ]
  },
  {
   "cell_type": "code",
   "execution_count": 2,
   "metadata": {
    "collapsed": true
   },
   "outputs": [],
   "source": [
    "img_transform = transforms.Compose([\n",
    "    transforms.ToTensor(),\n",
    "    transforms.Normalize((0.5,), (0.5,))\n",
    "])\n",
    "mnist = MNIST('./data', download=True, transform=img_transform)"
   ]
  },
  {
   "cell_type": "markdown",
   "metadata": {},
   "source": [
    "## Train autoencoder"
   ]
  },
  {
   "cell_type": "code",
   "execution_count": 3,
   "metadata": {
    "collapsed": true
   },
   "outputs": [],
   "source": [
    "ae = ConvolutionalAutoencoder()"
   ]
  },
  {
   "cell_type": "code",
   "execution_count": 4,
   "metadata": {},
   "outputs": [
    {
     "name": "stderr",
     "output_type": "stream",
     "text": [
      "12:50 aef.trainer          INFO    Epoch   1: train loss  0.36704 (MSE:  0.367)\n",
      "12:50 aef.trainer          INFO               val. loss   0.21302 (MSE:  0.213)\n",
      "12:53 aef.trainer          INFO    Epoch   2: train loss  0.19476 (MSE:  0.195)\n",
      "12:53 aef.trainer          INFO               val. loss   0.18284 (MSE:  0.183)\n",
      "12:55 aef.trainer          INFO    Epoch   3: train loss  0.17712 (MSE:  0.177)\n",
      "12:55 aef.trainer          INFO               val. loss   0.17298 (MSE:  0.173)\n",
      "12:56 aef.trainer          INFO    Epoch   4: train loss  0.17013 (MSE:  0.170)\n",
      "12:56 aef.trainer          INFO               val. loss   0.16768 (MSE:  0.168)\n",
      "12:57 aef.trainer          INFO    Epoch   5: train loss  0.16665 (MSE:  0.167)\n",
      "12:57 aef.trainer          INFO               val. loss   0.16520 (MSE:  0.165)\n",
      "12:58 aef.trainer          INFO    Epoch   6: train loss  0.16459 (MSE:  0.165)\n",
      "12:58 aef.trainer          INFO               val. loss   0.16414 (MSE:  0.164)\n",
      "12:59 aef.trainer          INFO    Epoch   7: train loss  0.16345 (MSE:  0.163)\n",
      "12:59 aef.trainer          INFO               val. loss   0.16281 (MSE:  0.163)\n",
      "13:00 aef.trainer          INFO    Epoch   8: train loss  0.16274 (MSE:  0.163)\n",
      "13:00 aef.trainer          INFO               val. loss   0.16223 (MSE:  0.162)\n",
      "13:01 aef.trainer          INFO    Epoch   9: train loss  0.16228 (MSE:  0.162)\n",
      "13:01 aef.trainer          INFO               val. loss   0.16187 (MSE:  0.162)\n",
      "13:02 aef.trainer          INFO    Epoch  10: train loss  0.16202 (MSE:  0.162)\n",
      "13:02 aef.trainer          INFO               val. loss   0.16167 (MSE:  0.162)\n",
      "13:02 aef.trainer          INFO    Early stopping did not improve performance\n"
     ]
    },
    {
     "data": {
      "text/plain": [
       "(array([0.36704266, 0.19476125, 0.1771214 , 0.17013408, 0.16664528,\n",
       "        0.16459072, 0.16344604, 0.16273875, 0.1622842 , 0.16201567]),\n",
       " array([0.21302194, 0.18284147, 0.17298171, 0.16768125, 0.16519777,\n",
       "        0.16414152, 0.16281395, 0.16222596, 0.16186571, 0.16167386]))"
      ]
     },
     "execution_count": 4,
     "metadata": {},
     "output_type": "execute_result"
    }
   ],
   "source": [
    "trainer = AutoencoderTrainer(ae, output_filename=\"output/conv_phase1\")\n",
    "trainer.train(\n",
    "    dataset=mnist,\n",
    "    loss_functions=[mse],\n",
    "    loss_labels=[\"MSE\"],\n",
    "    batch_size=256,\n",
    "    epochs=10,\n",
    "    verbose=\"all\",\n",
    "    initial_lr=1.e-3,\n",
    "    final_lr=1.e-5\n",
    ")"
   ]
  },
  {
   "cell_type": "code",
   "execution_count": 5,
   "metadata": {},
   "outputs": [
    {
     "name": "stderr",
     "output_type": "stream",
     "text": [
      "13:04 aef.trainer          INFO    Epoch   1: train loss -579.98395 (NLL: -579.984)\n",
      "13:04 aef.trainer          INFO               val. loss  -908.13443 (NLL: -908.134)\n",
      "13:05 aef.trainer          INFO    Epoch   2: train loss -986.57163 (NLL: -986.572)\n",
      "13:05 aef.trainer          INFO               val. loss  -1018.04145 (NLL: -1018.041)\n",
      "13:06 aef.trainer          INFO    Epoch   3: train loss -1060.13679 (NLL: -1060.137)\n",
      "13:06 aef.trainer          INFO               val. loss  -1060.43996 (NLL: -1060.440)\n",
      "13:08 aef.trainer          INFO    Epoch   4: train loss -1092.51311 (NLL: -1092.513)\n",
      "13:08 aef.trainer          INFO               val. loss  -1076.83530 (NLL: -1076.835)\n",
      "13:09 aef.trainer          INFO    Epoch   5: train loss -1109.53771 (NLL: -1109.538)\n",
      "13:09 aef.trainer          INFO               val. loss  -1104.93970 (NLL: -1104.940)\n",
      "13:10 aef.trainer          INFO    Epoch   6: train loss -1119.15163 (NLL: -1119.152)\n",
      "13:10 aef.trainer          INFO               val. loss  -1100.79012 (NLL: -1100.790)\n",
      "13:12 aef.trainer          INFO    Epoch   7: train loss -1124.89984 (NLL: -1124.900)\n",
      "13:12 aef.trainer          INFO               val. loss  -1112.96236 (NLL: -1112.962)\n",
      "13:13 aef.trainer          INFO    Epoch   8: train loss -1128.28425 (NLL: -1128.284)\n",
      "13:13 aef.trainer          INFO               val. loss  -1115.77121 (NLL: -1115.771)\n",
      "13:14 aef.trainer          INFO    Epoch   9: train loss -1130.11095 (NLL: -1130.111)\n",
      "13:14 aef.trainer          INFO               val. loss  -1111.95490 (NLL: -1111.955)\n",
      "13:16 aef.trainer          INFO    Epoch  10: train loss -1131.47389 (NLL: -1131.474)\n",
      "13:16 aef.trainer          INFO               val. loss  -1116.14019 (NLL: -1116.140)\n",
      "13:16 aef.trainer          INFO    Early stopping did not improve performance\n"
     ]
    },
    {
     "data": {
      "text/plain": [
       "(array([ -579.98395277,  -986.57163273, -1060.13678845, -1092.51311007,\n",
       "        -1109.5377114 , -1119.15162936, -1124.8998427 , -1128.28424974,\n",
       "        -1130.11095428, -1131.47389291]),\n",
       " array([ -908.13442631, -1018.04145218, -1060.43995589, -1076.83530439,\n",
       "        -1104.9396952 , -1100.79012182, -1112.96235683, -1115.77121334,\n",
       "        -1111.95489812, -1116.14018844]))"
      ]
     },
     "execution_count": 5,
     "metadata": {},
     "output_type": "execute_result"
    }
   ],
   "source": [
    "trainer = AutoencoderFlowTrainer(ae, output_filename=\"output/conv_phase2\")\n",
    "trainer.train(\n",
    "    dataset=mnist,\n",
    "    loss_functions=[nll],\n",
    "    loss_labels=[\"NLL\"],\n",
    "    batch_size=256,\n",
    "    epochs=10,\n",
    "    verbose=\"all\",\n",
    "    initial_lr=1.e-3,\n",
    "    final_lr=1.e-5,\n",
    "    parameters=ae.flow.parameters()\n",
    ")"
   ]
  },
  {
   "cell_type": "markdown",
   "metadata": {},
   "source": [
    "## Visualize latent space"
   ]
  },
  {
   "cell_type": "code",
   "execution_count": 6,
   "metadata": {
    "collapsed": true
   },
   "outputs": [],
   "source": [
    "x = torch.cat([mnist[i][0].unsqueeze(0) for i in range(1000)], dim=0)\n",
    "y = np.asarray([mnist[i][1] for i in range(1000)])"
   ]
  },
  {
   "cell_type": "code",
   "execution_count": 7,
   "metadata": {},
   "outputs": [
    {
     "ename": "RuntimeError",
     "evalue": "Expected 4-dimensional input for 4-dimensional weight [16, 16, 3, 3], but got 2-dimensional input of size [1000, 784] instead",
     "output_type": "error",
     "traceback": [
      "\u001b[0;31m---------------------------------------------------------------------------\u001b[0m",
      "\u001b[0;31mRuntimeError\u001b[0m                              Traceback (most recent call last)",
      "\u001b[0;32m<ipython-input-7-0a55a956f557>\u001b[0m in \u001b[0;36m<module>\u001b[0;34m\u001b[0m\n\u001b[1;32m      1\u001b[0m \u001b[0mh\u001b[0m\u001b[0;34m,\u001b[0m \u001b[0mu\u001b[0m \u001b[0;34m=\u001b[0m \u001b[0mae\u001b[0m\u001b[0;34m.\u001b[0m\u001b[0mlatent\u001b[0m\u001b[0;34m(\u001b[0m\u001b[0mx\u001b[0m\u001b[0;34m)\u001b[0m\u001b[0;34m\u001b[0m\u001b[0;34m\u001b[0m\u001b[0m\n\u001b[0;32m----> 2\u001b[0;31m \u001b[0mx_out\u001b[0m \u001b[0;34m=\u001b[0m \u001b[0mae\u001b[0m\u001b[0;34m.\u001b[0m\u001b[0mdecoder\u001b[0m\u001b[0;34m(\u001b[0m\u001b[0mh\u001b[0m\u001b[0;34m)\u001b[0m\u001b[0;34m\u001b[0m\u001b[0;34m\u001b[0m\u001b[0m\n\u001b[0m\u001b[1;32m      3\u001b[0m \u001b[0mh\u001b[0m \u001b[0;34m=\u001b[0m \u001b[0mh\u001b[0m\u001b[0;34m.\u001b[0m\u001b[0mdetach\u001b[0m\u001b[0;34m(\u001b[0m\u001b[0;34m)\u001b[0m\u001b[0;34m.\u001b[0m\u001b[0mnumpy\u001b[0m\u001b[0;34m(\u001b[0m\u001b[0;34m)\u001b[0m\u001b[0;34m.\u001b[0m\u001b[0mreshape\u001b[0m\u001b[0;34m(\u001b[0m\u001b[0;34m(\u001b[0m\u001b[0;34m-\u001b[0m\u001b[0;36m1\u001b[0m\u001b[0;34m,\u001b[0m\u001b[0;36m2\u001b[0m\u001b[0;34m)\u001b[0m\u001b[0;34m)\u001b[0m\u001b[0;34m\u001b[0m\u001b[0;34m\u001b[0m\u001b[0m\n\u001b[1;32m      4\u001b[0m \u001b[0mu\u001b[0m \u001b[0;34m=\u001b[0m \u001b[0mu\u001b[0m\u001b[0;34m.\u001b[0m\u001b[0mdetach\u001b[0m\u001b[0;34m(\u001b[0m\u001b[0;34m)\u001b[0m\u001b[0;34m.\u001b[0m\u001b[0mnumpy\u001b[0m\u001b[0;34m(\u001b[0m\u001b[0;34m)\u001b[0m\u001b[0;34m.\u001b[0m\u001b[0mreshape\u001b[0m\u001b[0;34m(\u001b[0m\u001b[0;34m(\u001b[0m\u001b[0;34m-\u001b[0m\u001b[0;36m1\u001b[0m\u001b[0;34m,\u001b[0m\u001b[0;36m2\u001b[0m\u001b[0;34m)\u001b[0m\u001b[0;34m)\u001b[0m\u001b[0;34m\u001b[0m\u001b[0;34m\u001b[0m\u001b[0m\n",
      "\u001b[0;32m~/anaconda3/envs/ml/lib/python3.6/site-packages/torch/nn/modules/module.py\u001b[0m in \u001b[0;36m__call__\u001b[0;34m(self, *input, **kwargs)\u001b[0m\n\u001b[1;32m    487\u001b[0m             \u001b[0mresult\u001b[0m \u001b[0;34m=\u001b[0m \u001b[0mself\u001b[0m\u001b[0;34m.\u001b[0m\u001b[0m_slow_forward\u001b[0m\u001b[0;34m(\u001b[0m\u001b[0;34m*\u001b[0m\u001b[0minput\u001b[0m\u001b[0;34m,\u001b[0m \u001b[0;34m**\u001b[0m\u001b[0mkwargs\u001b[0m\u001b[0;34m)\u001b[0m\u001b[0;34m\u001b[0m\u001b[0;34m\u001b[0m\u001b[0m\n\u001b[1;32m    488\u001b[0m         \u001b[0;32melse\u001b[0m\u001b[0;34m:\u001b[0m\u001b[0;34m\u001b[0m\u001b[0;34m\u001b[0m\u001b[0m\n\u001b[0;32m--> 489\u001b[0;31m             \u001b[0mresult\u001b[0m \u001b[0;34m=\u001b[0m \u001b[0mself\u001b[0m\u001b[0;34m.\u001b[0m\u001b[0mforward\u001b[0m\u001b[0;34m(\u001b[0m\u001b[0;34m*\u001b[0m\u001b[0minput\u001b[0m\u001b[0;34m,\u001b[0m \u001b[0;34m**\u001b[0m\u001b[0mkwargs\u001b[0m\u001b[0;34m)\u001b[0m\u001b[0;34m\u001b[0m\u001b[0;34m\u001b[0m\u001b[0m\n\u001b[0m\u001b[1;32m    490\u001b[0m         \u001b[0;32mfor\u001b[0m \u001b[0mhook\u001b[0m \u001b[0;32min\u001b[0m \u001b[0mself\u001b[0m\u001b[0;34m.\u001b[0m\u001b[0m_forward_hooks\u001b[0m\u001b[0;34m.\u001b[0m\u001b[0mvalues\u001b[0m\u001b[0;34m(\u001b[0m\u001b[0;34m)\u001b[0m\u001b[0;34m:\u001b[0m\u001b[0;34m\u001b[0m\u001b[0;34m\u001b[0m\u001b[0m\n\u001b[1;32m    491\u001b[0m             \u001b[0mhook_result\u001b[0m \u001b[0;34m=\u001b[0m \u001b[0mhook\u001b[0m\u001b[0;34m(\u001b[0m\u001b[0mself\u001b[0m\u001b[0;34m,\u001b[0m \u001b[0minput\u001b[0m\u001b[0;34m,\u001b[0m \u001b[0mresult\u001b[0m\u001b[0;34m)\u001b[0m\u001b[0;34m\u001b[0m\u001b[0;34m\u001b[0m\u001b[0m\n",
      "\u001b[0;32m~/anaconda3/envs/ml/lib/python3.6/site-packages/torch/nn/modules/container.py\u001b[0m in \u001b[0;36mforward\u001b[0;34m(self, input)\u001b[0m\n\u001b[1;32m     90\u001b[0m     \u001b[0;32mdef\u001b[0m \u001b[0mforward\u001b[0m\u001b[0;34m(\u001b[0m\u001b[0mself\u001b[0m\u001b[0;34m,\u001b[0m \u001b[0minput\u001b[0m\u001b[0;34m)\u001b[0m\u001b[0;34m:\u001b[0m\u001b[0;34m\u001b[0m\u001b[0;34m\u001b[0m\u001b[0m\n\u001b[1;32m     91\u001b[0m         \u001b[0;32mfor\u001b[0m \u001b[0mmodule\u001b[0m \u001b[0;32min\u001b[0m \u001b[0mself\u001b[0m\u001b[0;34m.\u001b[0m\u001b[0m_modules\u001b[0m\u001b[0;34m.\u001b[0m\u001b[0mvalues\u001b[0m\u001b[0;34m(\u001b[0m\u001b[0;34m)\u001b[0m\u001b[0;34m:\u001b[0m\u001b[0;34m\u001b[0m\u001b[0;34m\u001b[0m\u001b[0m\n\u001b[0;32m---> 92\u001b[0;31m             \u001b[0minput\u001b[0m \u001b[0;34m=\u001b[0m \u001b[0mmodule\u001b[0m\u001b[0;34m(\u001b[0m\u001b[0minput\u001b[0m\u001b[0;34m)\u001b[0m\u001b[0;34m\u001b[0m\u001b[0;34m\u001b[0m\u001b[0m\n\u001b[0m\u001b[1;32m     93\u001b[0m         \u001b[0;32mreturn\u001b[0m \u001b[0minput\u001b[0m\u001b[0;34m\u001b[0m\u001b[0;34m\u001b[0m\u001b[0m\n\u001b[1;32m     94\u001b[0m \u001b[0;34m\u001b[0m\u001b[0m\n",
      "\u001b[0;32m~/anaconda3/envs/ml/lib/python3.6/site-packages/torch/nn/modules/module.py\u001b[0m in \u001b[0;36m__call__\u001b[0;34m(self, *input, **kwargs)\u001b[0m\n\u001b[1;32m    487\u001b[0m             \u001b[0mresult\u001b[0m \u001b[0;34m=\u001b[0m \u001b[0mself\u001b[0m\u001b[0;34m.\u001b[0m\u001b[0m_slow_forward\u001b[0m\u001b[0;34m(\u001b[0m\u001b[0;34m*\u001b[0m\u001b[0minput\u001b[0m\u001b[0;34m,\u001b[0m \u001b[0;34m**\u001b[0m\u001b[0mkwargs\u001b[0m\u001b[0;34m)\u001b[0m\u001b[0;34m\u001b[0m\u001b[0;34m\u001b[0m\u001b[0m\n\u001b[1;32m    488\u001b[0m         \u001b[0;32melse\u001b[0m\u001b[0;34m:\u001b[0m\u001b[0;34m\u001b[0m\u001b[0;34m\u001b[0m\u001b[0m\n\u001b[0;32m--> 489\u001b[0;31m             \u001b[0mresult\u001b[0m \u001b[0;34m=\u001b[0m \u001b[0mself\u001b[0m\u001b[0;34m.\u001b[0m\u001b[0mforward\u001b[0m\u001b[0;34m(\u001b[0m\u001b[0;34m*\u001b[0m\u001b[0minput\u001b[0m\u001b[0;34m,\u001b[0m \u001b[0;34m**\u001b[0m\u001b[0mkwargs\u001b[0m\u001b[0;34m)\u001b[0m\u001b[0;34m\u001b[0m\u001b[0;34m\u001b[0m\u001b[0m\n\u001b[0m\u001b[1;32m    490\u001b[0m         \u001b[0;32mfor\u001b[0m \u001b[0mhook\u001b[0m \u001b[0;32min\u001b[0m \u001b[0mself\u001b[0m\u001b[0;34m.\u001b[0m\u001b[0m_forward_hooks\u001b[0m\u001b[0;34m.\u001b[0m\u001b[0mvalues\u001b[0m\u001b[0;34m(\u001b[0m\u001b[0;34m)\u001b[0m\u001b[0;34m:\u001b[0m\u001b[0;34m\u001b[0m\u001b[0;34m\u001b[0m\u001b[0m\n\u001b[1;32m    491\u001b[0m             \u001b[0mhook_result\u001b[0m \u001b[0;34m=\u001b[0m \u001b[0mhook\u001b[0m\u001b[0;34m(\u001b[0m\u001b[0mself\u001b[0m\u001b[0;34m,\u001b[0m \u001b[0minput\u001b[0m\u001b[0;34m,\u001b[0m \u001b[0mresult\u001b[0m\u001b[0;34m)\u001b[0m\u001b[0;34m\u001b[0m\u001b[0;34m\u001b[0m\u001b[0m\n",
      "\u001b[0;32m~/anaconda3/envs/ml/lib/python3.6/site-packages/torch/nn/modules/conv.py\u001b[0m in \u001b[0;36mforward\u001b[0;34m(self, input, output_size)\u001b[0m\n\u001b[1;32m    755\u001b[0m         return F.conv_transpose2d(\n\u001b[1;32m    756\u001b[0m             \u001b[0minput\u001b[0m\u001b[0;34m,\u001b[0m \u001b[0mself\u001b[0m\u001b[0;34m.\u001b[0m\u001b[0mweight\u001b[0m\u001b[0;34m,\u001b[0m \u001b[0mself\u001b[0m\u001b[0;34m.\u001b[0m\u001b[0mbias\u001b[0m\u001b[0;34m,\u001b[0m \u001b[0mself\u001b[0m\u001b[0;34m.\u001b[0m\u001b[0mstride\u001b[0m\u001b[0;34m,\u001b[0m \u001b[0mself\u001b[0m\u001b[0;34m.\u001b[0m\u001b[0mpadding\u001b[0m\u001b[0;34m,\u001b[0m\u001b[0;34m\u001b[0m\u001b[0;34m\u001b[0m\u001b[0m\n\u001b[0;32m--> 757\u001b[0;31m             output_padding, self.groups, self.dilation)\n\u001b[0m\u001b[1;32m    758\u001b[0m \u001b[0;34m\u001b[0m\u001b[0m\n\u001b[1;32m    759\u001b[0m \u001b[0;34m\u001b[0m\u001b[0m\n",
      "\u001b[0;31mRuntimeError\u001b[0m: Expected 4-dimensional input for 4-dimensional weight [16, 16, 3, 3], but got 2-dimensional input of size [1000, 784] instead"
     ]
    }
   ],
   "source": [
    "h, u = ae.latent(x)\n",
    "x_out = ae.decoder(h)\n",
    "h = h.detach().numpy().reshape((-1,2))\n",
    "u = u.detach().numpy().reshape((-1,2))"
   ]
  },
  {
   "cell_type": "code",
   "execution_count": null,
   "metadata": {
    "collapsed": true
   },
   "outputs": [],
   "source": [
    "fig = plt.figure(figsize=(10,5))\n",
    "\n",
    "ax = plt.subplot(1,2,1)\n",
    "for i in range(10):\n",
    "    plt.scatter(h[y==i][:,0], h[y==i][:,1], c=\"C{}\".format(i), s=20., label=\"{}\".format(i+1))\n",
    "plt.legend()\n",
    "    \n",
    "ax = plt.subplot(1,2,2)\n",
    "for i in range(10):\n",
    "    plt.scatter(u[y==i][:,0], u[y==i][:,1], c=\"C{}\".format(i), s=20., label=\"{}\".format(i+1))\n",
    "plt.legend()\n",
    "\n",
    "plt.tight_layout()\n",
    "plt.show()\n"
   ]
  },
  {
   "cell_type": "markdown",
   "metadata": {
    "collapsed": true
   },
   "source": [
    "## Visualize reconstruction"
   ]
  },
  {
   "cell_type": "code",
   "execution_count": null,
   "metadata": {
    "collapsed": true
   },
   "outputs": [],
   "source": [
    "x = torch.cat([mnist[i][0].unsqueeze(0) for i in range(1000)], dim=0)\n",
    "y = np.asarray([mnist[i][1] for i in range(1000)])"
   ]
  },
  {
   "cell_type": "code",
   "execution_count": null,
   "metadata": {
    "collapsed": true
   },
   "outputs": [],
   "source": [
    "h = ae.encoder(x)\n",
    "x_out = ae.decoder(h)\n",
    "h = h.detach().numpy()\n",
    "x_out = x_out.detach().numpy()"
   ]
  },
  {
   "cell_type": "code",
   "execution_count": null,
   "metadata": {
    "collapsed": true
   },
   "outputs": [],
   "source": [
    "fig = plt.figure(figsize=(12,12))\n",
    "\n",
    "for i in range(18):\n",
    "    ax = plt.subplot(6, 6, 2*i + 1)\n",
    "    plt.imshow(x[i].reshape((28,28)))\n",
    "    ax = plt.subplot(6, 6, 2*i + 2)\n",
    "    plt.imshow(x_out[i].reshape((28,28)))\n",
    "        \n",
    "plt.tight_layout()\n",
    "plt.show()"
   ]
  },
  {
   "cell_type": "code",
   "execution_count": null,
   "metadata": {
    "collapsed": true
   },
   "outputs": [],
   "source": []
  }
 ],
 "metadata": {
  "kernelspec": {
   "display_name": "Python (ML)",
   "language": "python",
   "name": "ml"
  },
  "language_info": {
   "codemirror_mode": {
    "name": "ipython",
    "version": 3
   },
   "file_extension": ".py",
   "mimetype": "text/x-python",
   "name": "python",
   "nbconvert_exporter": "python",
   "pygments_lexer": "ipython3",
   "version": "3.6.8"
  }
 },
 "nbformat": 4,
 "nbformat_minor": 2
}
