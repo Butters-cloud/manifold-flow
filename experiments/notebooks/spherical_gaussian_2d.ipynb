{
 "cells": [
  {
   "cell_type": "markdown",
   "metadata": {},
   "source": [
    "# Spherical Gaussian experiment (2D)"
   ]
  },
  {
   "cell_type": "markdown",
   "metadata": {},
   "source": [
    "## Setup"
   ]
  },
  {
   "cell_type": "code",
   "execution_count": 1,
   "metadata": {},
   "outputs": [],
   "source": [
    "import sys\n",
    "import numpy as np\n",
    "import matplotlib\n",
    "from matplotlib import pyplot as plt\n",
    "import torch\n",
    "from torch.utils.data import TensorDataset\n",
    "import logging\n",
    "\n",
    "\n",
    "sys.path.append(\"../../\")\n",
    "import manifold_flow as mf\n",
    "from manifold_flow import transforms, utils, distributions, training\n",
    "from manifold_flow.flows import Flow, ManifoldFlow\n",
    "from manifold_flow import nn as nn_\n",
    "from experiments.simulators.spherical_simulator import SphericalGaussianSimulator\n",
    "from experiments.utils import vector_transforms\n",
    "\n",
    "%matplotlib inline\n",
    "\n",
    "logging.basicConfig(\n",
    "    format=\"%(asctime)-5.5s %(name)-30.30s %(levelname)-7.7s %(message)s\",\n",
    "    datefmt=\"%H:%M\",\n",
    "    level=logging.DEBUG,\n",
    ")\n",
    "logger = logging.getLogger(__name__)\n",
    "# Output of all other modules (e.g. matplotlib)\n",
    "for key in logging.Logger.manager.loggerDict:\n",
    "    if \"experiments\" not in key and \"manifold_flow\" not in key:\n",
    "        logging.getLogger(key).setLevel(logging.WARNING)\n"
   ]
  },
  {
   "cell_type": "markdown",
   "metadata": {},
   "source": [
    "### Settings"
   ]
  },
  {
   "cell_type": "code",
   "execution_count": 2,
   "metadata": {},
   "outputs": [],
   "source": [
    "epochs = 20\n",
    "n_train = 100000\n",
    "epsilon = 0.01"
   ]
  },
  {
   "cell_type": "markdown",
   "metadata": {},
   "source": [
    "### Data"
   ]
  },
  {
   "cell_type": "code",
   "execution_count": 3,
   "metadata": {},
   "outputs": [],
   "source": [
    "simulator = SphericalGaussianSimulator(latent_dim=1, data_dim=2, epsilon=epsilon)\n",
    "x = simulator.sample(n_train)\n",
    "x_tensor = torch.from_numpy(x)\n",
    "train_dataset = TensorDataset(x_tensor, x_tensor)"
   ]
  },
  {
   "cell_type": "code",
   "execution_count": 4,
   "metadata": {},
   "outputs": [
    {
     "name": "stderr",
     "output_type": "stream",
     "text": [
      "17:38 experiments.simulators.spheric DEBUG   Evaluating true log density for x = [-1.4 -1.4]\n",
      "17:38 experiments.simulators.spheric DEBUG   Latent variables: z_phi = [3.92699082], z_eps = [0.97989899]\n",
      "../../experiments/simulators/spherical_simulator.py:108: RuntimeWarning: divide by zero encountered in log\n",
      "  logp_eps = np.log(norm(loc=0.0, scale=self._epsilon).pdf(z_eps))\n"
     ]
    },
    {
     "data": {
      "image/png": "[encoded data removed]",
      "text/plain": [
       "<Figure size 360x288 with 2 Axes>"
      ]
     },
     "metadata": {
      "needs_background": "light"
     },
     "output_type": "display_data"
    }
   ],
   "source": [
    "res = 200\n",
    "x_range = np.linspace(-1.4,1.4,res)\n",
    "y_range = np.linspace(-1.4,1.4,res)\n",
    "xx, yy = np.meshgrid(x_range, y_range)\n",
    "x_grid = np.concatenate((xx.reshape((-1,1)), yy.reshape((-1,1))), axis=1)\n",
    "logp_grid = simulator.log_density(x_grid, precise=True).reshape((res, res))\n",
    "logp_grid[~np.isfinite(logp_grid)] = -1000000.\n",
    "\n",
    "zmin, zmax = np.max(logp_grid) - 10, np.max(logp_grid)\n",
    "fig = plt.figure(figsize=(5,4))\n",
    "ax = plt.gca()\n",
    "\n",
    "pcm = plt.imshow(\n",
    "    np.clip(logp_grid, zmin, zmax),\n",
    "    extent=(-1.4,1.4,-1.4,1.4),\n",
    "    origin=\"lower\",\n",
    "    cmap=\"viridis\", norm=matplotlib.colors.Normalize(zmin, zmax),\n",
    "    interpolation='nearest'\n",
    ")\n",
    "cb = plt.colorbar(pcm, extend=\"both\")\n",
    "plt.scatter(x[::50,0], x[::50,1], s=2., c=\"black\", alpha=1.)\n",
    "\n",
    "plt.xlabel(\"$x_1$\")\n",
    "plt.ylabel(\"$x_2$\")\n",
    "cb.set_label(\"$\\log \\; p(x)$\")\n",
    "plt.tight_layout()\n",
    "\n",
    "plt.savefig(\"spherical_gaussian_2d_data.pdf\", dpi=500)"
   ]
  },
  {
   "cell_type": "code",
   "execution_count": 5,
   "metadata": {},
   "outputs": [
    {
     "data": {
      "text/plain": [
       "1.0000930850098504"
      ]
     },
     "execution_count": 5,
     "metadata": {},
     "output_type": "execute_result"
    }
   ],
   "source": [
    "pixel_size = (x_range[1] - x_range[0]) * (y_range[1] - y_range[0])\n",
    "\n",
    "np.sum(np.exp(logp_grid) * pixel_size)"
   ]
  },
  {
   "cell_type": "markdown",
   "metadata": {},
   "source": [
    "## Set up models"
   ]
  },
  {
   "cell_type": "markdown",
   "metadata": {},
   "source": [
    "### Manifold flow"
   ]
  },
  {
   "cell_type": "code",
   "execution_count": 6,
   "metadata": {},
   "outputs": [
    {
     "name": "stderr",
     "output_type": "stream",
     "text": [
      "17:38 manifold_flow.transforms.proje DEBUG   Set up projection from vector with dimension 2 to vector with dimension 1\n",
      "17:38 manifold_flow.flows.base       DEBUG   Created standard flow with 0.0 M parameters (0.0 M trainable) with an estimated size of 0.0 <B\n",
      "17:38 manifold_flow.training.trainer INFO    Training on CPU with single precision\n",
      "17:38 manifold_flow.training.trainer DEBUG   Initialising training data\n",
      "17:38 manifold_flow.training.trainer DEBUG   Setting up optimizer\n",
      "17:38 manifold_flow.training.trainer DEBUG   Setting up LR scheduler\n",
      "17:38 manifold_flow.training.trainer DEBUG   Using early stopping with infinite patience\n",
      "17:38 manifold_flow.training.trainer DEBUG   Will print training progress every 1 epochs\n",
      "17:38 manifold_flow.training.trainer DEBUG   Beginning main training loop\n",
      "17:38 manifold_flow.training.trainer DEBUG   Training epoch 1 / 6\n",
      "17:38 manifold_flow.training.trainer DEBUG     Learning rate: [0.001]\n",
      "17:38 manifold_flow.training.trainer INFO    Epoch   1: train loss  3.71672 (mse:  0.037)\n",
      "17:38 manifold_flow.training.trainer INFO               val. loss   2.07024 (mse:  0.021)\n",
      "17:38 manifold_flow.training.trainer DEBUG   Training epoch 2 / 6\n",
      "17:38 manifold_flow.training.trainer DEBUG     Learning rate: [0.001]\n",
      "17:38 manifold_flow.training.trainer INFO    Epoch   2: train loss  1.56245 (mse:  0.016)\n",
      "17:38 manifold_flow.training.trainer INFO               val. loss   1.11143 (mse:  0.011)\n",
      "17:38 manifold_flow.training.trainer DEBUG   Training epoch 3 / 6\n",
      "17:38 manifold_flow.training.trainer DEBUG     Learning rate: [0.0009330127018922195]\n",
      "17:38 manifold_flow.training.trainer INFO    Epoch   3: train loss  0.94593 (mse:  0.009)\n",
      "17:38 manifold_flow.training.trainer INFO               val. loss   0.72524 (mse:  0.007)\n",
      "17:38 manifold_flow.training.trainer DEBUG   Training epoch 4 / 6\n",
      "17:38 manifold_flow.training.trainer DEBUG     Learning rate: [0.00075]\n",
      "17:38 manifold_flow.training.trainer INFO    Epoch   4: train loss  0.58747 (mse:  0.006)\n",
      "17:38 manifold_flow.training.trainer INFO               val. loss   0.47880 (mse:  0.005)\n",
      "17:38 manifold_flow.training.trainer DEBUG   Training epoch 5 / 6\n",
      "17:38 manifold_flow.training.trainer DEBUG     Learning rate: [0.0005]\n",
      "17:38 manifold_flow.training.trainer INFO    Epoch   5: train loss  0.41553 (mse:  0.004)\n",
      "17:38 manifold_flow.training.trainer INFO               val. loss   0.40210 (mse:  0.004)\n",
      "17:38 manifold_flow.training.trainer DEBUG   Training epoch 6 / 6\n",
      "17:38 manifold_flow.training.trainer DEBUG     Learning rate: [0.0002500000000000001]\n",
      "17:38 manifold_flow.training.trainer INFO    Epoch   6: train loss  0.35857 (mse:  0.004)\n",
      "17:38 manifold_flow.training.trainer INFO               val. loss   0.37783 (mse:  0.004)\n",
      "17:38 manifold_flow.training.trainer INFO    Early stopping did not improve performance\n",
      "17:38 manifold_flow.training.trainer DEBUG   Training finished\n",
      "17:38 manifold_flow.training.trainer DEBUG   Initialising training data\n",
      "17:38 manifold_flow.training.trainer DEBUG   Setting up optimizer\n",
      "17:39 manifold_flow.training.trainer DEBUG   Setting up LR scheduler\n",
      "17:39 manifold_flow.training.trainer DEBUG   Using early stopping with infinite patience\n",
      "17:39 manifold_flow.training.trainer DEBUG   Will print training progress every 1 epochs\n",
      "17:39 manifold_flow.training.trainer DEBUG   Beginning main training loop\n",
      "17:39 manifold_flow.training.trainer DEBUG   Training epoch 1 / 6\n",
      "17:39 manifold_flow.training.trainer DEBUG     Learning rate: [0.001]\n",
      "17:39 manifold_flow.training.trainer INFO    Epoch   1: train loss -1.44181 (mse:  0.003, nll: -1.442)\n",
      "17:39 manifold_flow.training.trainer INFO               val. loss  -1.49033 (mse:  0.004, nll: -1.490)\n",
      "17:39 manifold_flow.training.trainer DEBUG   Training epoch 2 / 6\n",
      "17:39 manifold_flow.training.trainer DEBUG     Learning rate: [0.001]\n",
      "17:39 manifold_flow.training.trainer INFO    Epoch   2: train loss -1.52510 (mse:  0.003, nll: -1.525)\n",
      "17:39 manifold_flow.training.trainer INFO               val. loss  -1.56890 (mse:  0.004, nll: -1.569)\n",
      "17:39 manifold_flow.training.trainer DEBUG   Training epoch 3 / 6\n",
      "17:39 manifold_flow.training.trainer DEBUG     Learning rate: [0.0009330127018922195]\n",
      "17:39 manifold_flow.training.trainer INFO    Epoch   3: train loss -1.59662 (mse:  0.003, nll: -1.597)\n",
      "17:39 manifold_flow.training.trainer INFO               val. loss  -1.63395 (mse:  0.004, nll: -1.634)\n",
      "17:39 manifold_flow.training.trainer DEBUG   Training epoch 4 / 6\n",
      "17:39 manifold_flow.training.trainer DEBUG     Learning rate: [0.00075]\n",
      "17:40 manifold_flow.training.trainer INFO    Epoch   4: train loss -1.65242 (mse:  0.003, nll: -1.652)\n",
      "17:40 manifold_flow.training.trainer INFO               val. loss  -1.68117 (mse:  0.004, nll: -1.681)\n",
      "17:40 manifold_flow.training.trainer DEBUG   Training epoch 5 / 6\n",
      "17:40 manifold_flow.training.trainer DEBUG     Learning rate: [0.0005]\n",
      "17:40 manifold_flow.training.trainer INFO    Epoch   5: train loss -1.69044 (mse:  0.003, nll: -1.690)\n",
      "17:40 manifold_flow.training.trainer INFO               val. loss  -1.71048 (mse:  0.004, nll: -1.710)\n",
      "17:40 manifold_flow.training.trainer DEBUG   Training epoch 6 / 6\n",
      "17:40 manifold_flow.training.trainer DEBUG     Learning rate: [0.0002500000000000001]\n",
      "17:40 manifold_flow.training.trainer INFO    Epoch   6: train loss -1.71206 (mse:  0.003, nll: -1.712)\n",
      "17:40 manifold_flow.training.trainer INFO               val. loss  -1.72463 (mse:  0.004, nll: -1.725)\n",
      "17:40 manifold_flow.training.trainer INFO    Early stopping did not improve performance\n",
      "17:40 manifold_flow.training.trainer DEBUG   Training finished\n"
     ]
    },
    {
     "data": {
      "text/plain": [
       "(array([-1.44180781, -1.52510449, -1.59662079, -1.65241614, -1.69043615,\n",
       "        -1.71206327]),\n",
       " array([-1.49033256, -1.56889741, -1.63394726, -1.68116716, -1.710477  ,\n",
       "        -1.72463489]))"
      ]
     },
     "execution_count": 6,
     "metadata": {},
     "output_type": "execute_result"
    }
   ],
   "source": [
    "outer_transform = vector_transforms.create_transform(\n",
    "    2, 3,\n",
    "    linear_transform_type=\"permutation\",\n",
    "    base_transform_type=\"affine-coupling\",\n",
    "    context_features=None,\n",
    "    hidden_features=20,\n",
    "    num_transform_blocks=1,\n",
    "    resnet_transform=False,\n",
    ")\n",
    "inner_transform=transforms.ConditionalAffineScalarTransform(features=1)\n",
    "\n",
    "mf = ManifoldFlow(\n",
    "    data_dim=2,\n",
    "    latent_dim=1,\n",
    "    inner_transform=inner_transform,\n",
    "    outer_transform=outer_transform\n",
    ")\n",
    "\n",
    "trainer = training.trainer.ManifoldFlowTrainer(mf)\n",
    "trainer.train(\n",
    "    train_dataset,\n",
    "    [training.losses.mse],\n",
    "    loss_weights=[100.],\n",
    "    epochs=epochs // 2,\n",
    "    forward_kwargs={\"mode\":\"projection\"}\n",
    ")\n",
    "trainer.train(\n",
    "    train_dataset,\n",
    "    [training.losses.mse, training.losses.nll],\n",
    "    loss_weights=[0., 1.],\n",
    "    epochs=epochs // 2,\n",
    "    parameters=mf.inner_transform.parameters(),\n",
    "    forward_kwargs={\"mode\":\"mf\"}\n",
    ")"
   ]
  },
  {
   "cell_type": "markdown",
   "metadata": {},
   "source": [
    "### PIE"
   ]
  },
  {
   "cell_type": "code",
   "execution_count": 8,
   "metadata": {},
   "outputs": [
    {
     "name": "stderr",
     "output_type": "stream",
     "text": [
      "17:41 manifold_flow.transforms.proje DEBUG   Set up projection from vector with dimension 2 to vector with dimension 1\n",
      "17:41 manifold_flow.flows.base       DEBUG   Created standard flow with 2.0 M parameters (2.0 M trainable) with an estimated size of 7.9 <B\n",
      "17:41 manifold_flow.training.trainer INFO    Training on CPU with single precision\n",
      "17:41 manifold_flow.training.trainer DEBUG   Initialising training data\n",
      "17:41 manifold_flow.training.trainer DEBUG   Setting up optimizer\n",
      "17:41 manifold_flow.training.trainer DEBUG   Setting up LR scheduler\n",
      "17:41 manifold_flow.training.trainer DEBUG   Using early stopping with infinite patience\n",
      "17:41 manifold_flow.training.trainer DEBUG   Will print training progress every 1 epochs\n",
      "17:41 manifold_flow.training.trainer DEBUG   Beginning main training loop\n",
      "17:41 manifold_flow.training.trainer DEBUG   Training epoch 1 / 12\n",
      "17:41 manifold_flow.training.trainer DEBUG     Learning rate: [0.001]\n",
      "17:41 manifold_flow.training.trainer INFO    Epoch   1: train loss 28793.49594 (nll: 28793.496)\n",
      "17:41 manifold_flow.training.trainer INFO               val. loss  479.07442 (nll: 479.074)\n",
      "17:41 manifold_flow.training.trainer DEBUG   Training epoch 2 / 12\n",
      "17:41 manifold_flow.training.trainer DEBUG     Learning rate: [0.001]\n",
      "17:41 manifold_flow.training.trainer INFO    Epoch   2: train loss 855.35114 (nll: 855.351)\n",
      "17:41 manifold_flow.training.trainer INFO               val. loss  110.06082 (nll: 110.061)\n",
      "17:41 manifold_flow.training.trainer DEBUG   Training epoch 3 / 12\n",
      "17:41 manifold_flow.training.trainer DEBUG     Learning rate: [0.0009829629131445341]\n",
      "17:41 manifold_flow.training.trainer INFO    Epoch   3: train loss 83.71544 (nll: 83.715)\n",
      "17:41 manifold_flow.training.trainer INFO               val. loss  101.77430 (nll: 101.774)\n",
      "17:41 manifold_flow.training.trainer DEBUG   Training epoch 4 / 12\n",
      "17:41 manifold_flow.training.trainer DEBUG     Learning rate: [0.0009330127018922195]\n",
      "17:41 manifold_flow.training.trainer INFO    Epoch   4: train loss 65.62253 (nll: 65.623)\n",
      "17:41 manifold_flow.training.trainer INFO               val. loss  81.38832 (nll: 81.388)\n",
      "17:41 manifold_flow.training.trainer DEBUG   Training epoch 5 / 12\n",
      "17:41 manifold_flow.training.trainer DEBUG     Learning rate: [0.0008535533905932737]\n",
      "17:41 manifold_flow.training.trainer INFO    Epoch   5: train loss 48.28260 (nll: 48.283)\n",
      "17:41 manifold_flow.training.trainer INFO               val. loss  29.42901 (nll: 29.429)\n",
      "17:41 manifold_flow.training.trainer DEBUG   Training epoch 6 / 12\n",
      "17:41 manifold_flow.training.trainer DEBUG     Learning rate: [0.00075]\n",
      "17:41 manifold_flow.training.trainer INFO    Epoch   6: train loss 35.53471 (nll: 35.535)\n",
      "17:41 manifold_flow.training.trainer INFO               val. loss  45.03190 (nll: 45.032)\n",
      "17:41 manifold_flow.training.trainer DEBUG   Training epoch 7 / 12\n",
      "17:41 manifold_flow.training.trainer DEBUG     Learning rate: [0.0006294095225512603]\n",
      "17:42 manifold_flow.training.trainer INFO    Epoch   7: train loss 24.87426 (nll: 24.874)\n",
      "17:42 manifold_flow.training.trainer INFO               val. loss  20.89153 (nll: 20.892)\n",
      "17:42 manifold_flow.training.trainer DEBUG   Training epoch 8 / 12\n",
      "17:42 manifold_flow.training.trainer DEBUG     Learning rate: [0.0005]\n",
      "17:42 manifold_flow.training.trainer INFO    Epoch   8: train loss 16.12710 (nll: 16.127)\n",
      "17:42 manifold_flow.training.trainer INFO               val. loss  18.29424 (nll: 18.294)\n",
      "17:42 manifold_flow.training.trainer DEBUG   Training epoch 9 / 12\n",
      "17:42 manifold_flow.training.trainer DEBUG     Learning rate: [0.0003705904774487397]\n",
      "17:42 manifold_flow.training.trainer INFO    Epoch   9: train loss 18.36514 (nll: 18.365)\n",
      "17:42 manifold_flow.training.trainer INFO               val. loss  12.47962 (nll: 12.480)\n",
      "17:42 manifold_flow.training.trainer DEBUG   Training epoch 10 / 12\n",
      "17:42 manifold_flow.training.trainer DEBUG     Learning rate: [0.0002500000000000001]\n",
      "17:42 manifold_flow.training.trainer INFO    Epoch  10: train loss 13.07473 (nll: 13.075)\n",
      "17:42 manifold_flow.training.trainer INFO               val. loss   3.56829 (nll:  3.568)\n",
      "17:42 manifold_flow.training.trainer DEBUG   Training epoch 11 / 12\n",
      "17:42 manifold_flow.training.trainer DEBUG     Learning rate: [0.00014644660940672628]\n",
      "17:42 manifold_flow.training.trainer INFO    Epoch  11: train loss  3.99374 (nll:  3.994)\n",
      "17:42 manifold_flow.training.trainer INFO               val. loss   4.00395 (nll:  4.004)\n",
      "17:42 manifold_flow.training.trainer DEBUG   Training epoch 12 / 12\n",
      "17:42 manifold_flow.training.trainer DEBUG     Learning rate: [6.698729810778065e-05]\n",
      "17:42 manifold_flow.training.trainer INFO    Epoch  12: train loss  4.05261 (nll:  4.053)\n",
      "17:42 manifold_flow.training.trainer INFO               val. loss   2.77245 (nll:  2.772)\n",
      "17:42 manifold_flow.training.trainer INFO    Early stopping did not improve performance\n",
      "17:42 manifold_flow.training.trainer DEBUG   Training finished\n"
     ]
    },
    {
     "data": {
      "text/plain": [
       "(array([2.87934959e+04, 8.55351144e+02, 8.37154369e+01, 6.56225349e+01,\n",
       "        4.82826009e+01, 3.55347075e+01, 2.48742608e+01, 1.61270982e+01,\n",
       "        1.83651357e+01, 1.30747308e+01, 3.99373855e+00, 4.05260818e+00]),\n",
       " array([479.07442139, 110.06082245, 101.77429535,  81.38831512,\n",
       "         29.42900978,  45.03190094,  20.89153229,  18.29424446,\n",
       "         12.47961891,   3.5682859 ,   4.00394566,   2.77245293]))"
      ]
     },
     "execution_count": 8,
     "metadata": {},
     "output_type": "execute_result"
    }
   ],
   "source": [
    "outer_transform = vector_transforms.create_transform(\n",
    "    2, 5,\n",
    "    linear_transform_type=\"permutation\",\n",
    "    base_transform_type=\"affine-coupling\",\n",
    "    context_features=None\n",
    ")\n",
    "inner_transform=transforms.ConditionalAffineScalarTransform(features=1)\n",
    "\n",
    "pie = ManifoldFlow(\n",
    "    data_dim=2,\n",
    "    latent_dim=1,\n",
    "    outer_transform=outer_transform,\n",
    "    inner_transform=inner_transform,\n",
    ")\n",
    "\n",
    "trainer = training.trainer.ManifoldFlowTrainer(pie)\n",
    "trainer.train(\n",
    "    train_dataset,\n",
    "    [training.losses.nll],\n",
    "    loss_weights=[1.],\n",
    "    epochs=epochs,\n",
    "    forward_kwargs={\"mode\":\"pie\"}\n",
    ")"
   ]
  },
  {
   "cell_type": "markdown",
   "metadata": {},
   "source": [
    "## Slice of PIE"
   ]
  },
  {
   "cell_type": "code",
   "execution_count": 9,
   "metadata": {},
   "outputs": [
    {
     "name": "stderr",
     "output_type": "stream",
     "text": [
      "17:42 manifold_flow.transforms.proje DEBUG   Set up projection from vector with dimension 2 to vector with dimension 1\n",
      "17:42 manifold_flow.flows.base       DEBUG   Created standard flow with 2.0 M parameters (2.0 M trainable) with an estimated size of 7.9 <B\n",
      "17:42 manifold_flow.training.trainer INFO    Training on CPU with single precision\n",
      "17:42 manifold_flow.training.trainer DEBUG   Initialising training data\n",
      "17:42 manifold_flow.training.trainer DEBUG   Setting up optimizer\n",
      "17:42 manifold_flow.training.trainer DEBUG   Setting up LR scheduler\n",
      "17:42 manifold_flow.training.trainer DEBUG   Using early stopping with infinite patience\n",
      "17:42 manifold_flow.training.trainer DEBUG   Will print training progress every 1 epochs\n",
      "17:42 manifold_flow.training.trainer DEBUG   Beginning main training loop\n",
      "17:42 manifold_flow.training.trainer DEBUG   Training epoch 1 / 6\n",
      "17:42 manifold_flow.training.trainer DEBUG     Learning rate: [0.001]\n",
      "17:42 manifold_flow.training.trainer INFO    Epoch   1: train loss 67.44067 (mse:  0.674)\n",
      "17:42 manifold_flow.training.trainer INFO               val. loss   0.64606 (mse:  0.006)\n",
      "17:42 manifold_flow.training.trainer DEBUG   Training epoch 2 / 6\n",
      "17:42 manifold_flow.training.trainer DEBUG     Learning rate: [0.001]\n",
      "17:42 manifold_flow.training.trainer INFO    Epoch   2: train loss  0.82379 (mse:  0.008)\n",
      "17:42 manifold_flow.training.trainer INFO               val. loss   0.45057 (mse:  0.005)\n",
      "17:42 manifold_flow.training.trainer DEBUG   Training epoch 3 / 6\n",
      "17:42 manifold_flow.training.trainer DEBUG     Learning rate: [0.0009330127018922195]\n",
      "17:43 manifold_flow.training.trainer INFO    Epoch   3: train loss  0.89645 (mse:  0.009)\n",
      "17:43 manifold_flow.training.trainer INFO               val. loss   0.55187 (mse:  0.006)\n",
      "17:43 manifold_flow.training.trainer DEBUG   Training epoch 4 / 6\n",
      "17:43 manifold_flow.training.trainer DEBUG     Learning rate: [0.00075]\n",
      "17:43 manifold_flow.training.trainer INFO    Epoch   4: train loss  0.61234 (mse:  0.006)\n",
      "17:43 manifold_flow.training.trainer INFO               val. loss   0.32690 (mse:  0.003)\n",
      "17:43 manifold_flow.training.trainer DEBUG   Training epoch 5 / 6\n",
      "17:43 manifold_flow.training.trainer DEBUG     Learning rate: [0.0005]\n",
      "17:43 manifold_flow.training.trainer INFO    Epoch   5: train loss  0.32711 (mse:  0.003)\n",
      "17:43 manifold_flow.training.trainer INFO               val. loss   0.12282 (mse:  0.001)\n",
      "17:43 manifold_flow.training.trainer DEBUG   Training epoch 6 / 6\n",
      "17:43 manifold_flow.training.trainer DEBUG     Learning rate: [0.0002500000000000001]\n",
      "17:43 manifold_flow.training.trainer INFO    Epoch   6: train loss  0.18940 (mse:  0.002)\n",
      "17:43 manifold_flow.training.trainer INFO               val. loss   0.11867 (mse:  0.001)\n",
      "17:43 manifold_flow.training.trainer INFO    Early stopping did not improve performance\n",
      "17:43 manifold_flow.training.trainer DEBUG   Training finished\n",
      "17:43 manifold_flow.training.trainer DEBUG   Initialising training data\n",
      "17:43 manifold_flow.training.trainer DEBUG   Setting up optimizer\n",
      "17:43 manifold_flow.training.trainer DEBUG   Setting up LR scheduler\n",
      "17:43 manifold_flow.training.trainer DEBUG   Using early stopping with infinite patience\n",
      "17:43 manifold_flow.training.trainer DEBUG   Will print training progress every 1 epochs\n",
      "17:43 manifold_flow.training.trainer DEBUG   Beginning main training loop\n",
      "17:43 manifold_flow.training.trainer DEBUG   Training epoch 1 / 6\n",
      "17:43 manifold_flow.training.trainer DEBUG     Learning rate: [0.001]\n",
      "17:43 manifold_flow.training.trainer INFO    Epoch   1: train loss 546.59075 (mse:  0.001, nll: 546.591)\n",
      "17:43 manifold_flow.training.trainer INFO               val. loss   1.95434 (mse:  0.001, nll:  1.954)\n",
      "17:43 manifold_flow.training.trainer DEBUG   Training epoch 2 / 6\n",
      "17:43 manifold_flow.training.trainer DEBUG     Learning rate: [0.001]\n",
      "17:43 manifold_flow.training.trainer INFO    Epoch   2: train loss 536.08294 (mse:  0.001, nll: 536.083)\n",
      "17:43 manifold_flow.training.trainer INFO               val. loss   1.95434 (mse:  0.001, nll:  1.954)\n",
      "17:43 manifold_flow.training.trainer DEBUG   Training epoch 3 / 6\n",
      "17:43 manifold_flow.training.trainer DEBUG     Learning rate: [0.0009330127018922195]\n",
      "17:43 manifold_flow.training.trainer INFO    Epoch   3: train loss 527.87672 (mse:  0.001, nll: 527.877)\n",
      "17:43 manifold_flow.training.trainer INFO               val. loss   1.95434 (mse:  0.001, nll:  1.954)\n",
      "17:43 manifold_flow.training.trainer DEBUG   Training epoch 4 / 6\n",
      "17:43 manifold_flow.training.trainer DEBUG     Learning rate: [0.00075]\n",
      "17:44 manifold_flow.training.trainer INFO    Epoch   4: train loss 542.04981 (mse:  0.001, nll: 542.050)\n",
      "17:44 manifold_flow.training.trainer INFO               val. loss   1.95434 (mse:  0.001, nll:  1.954)\n",
      "17:44 manifold_flow.training.trainer DEBUG   Training epoch 5 / 6\n",
      "17:44 manifold_flow.training.trainer DEBUG     Learning rate: [0.0005]\n",
      "17:44 manifold_flow.training.trainer INFO    Epoch   5: train loss 572.40007 (mse:  0.001, nll: 572.400)\n",
      "17:44 manifold_flow.training.trainer INFO               val. loss   1.95434 (mse:  0.001, nll:  1.954)\n",
      "17:44 manifold_flow.training.trainer DEBUG   Training epoch 6 / 6\n",
      "17:44 manifold_flow.training.trainer DEBUG     Learning rate: [0.0002500000000000001]\n",
      "17:44 manifold_flow.training.trainer INFO    Epoch   6: train loss 533.87982 (mse:  0.001, nll: 533.880)\n",
      "17:44 manifold_flow.training.trainer INFO               val. loss   1.95434 (mse:  0.001, nll:  1.954)\n",
      "17:44 manifold_flow.training.trainer INFO    Early stopping did not improve performance\n",
      "17:44 manifold_flow.training.trainer DEBUG   Training finished\n"
     ]
    },
    {
     "data": {
      "text/plain": [
       "(array([546.59074992, 536.08294271, 527.87672078, 542.04981384,\n",
       "        572.40007121, 533.87982463]),\n",
       " array([1.95433797, 1.95433801, 1.95433798, 1.95433797, 1.95433796,\n",
       "        1.95433795]))"
      ]
     },
     "execution_count": 9,
     "metadata": {},
     "output_type": "execute_result"
    }
   ],
   "source": [
    "outer_transform = vector_transforms.create_transform(\n",
    "    2, 5,\n",
    "    linear_transform_type=\"permutation\",\n",
    "    base_transform_type=\"affine-coupling\",\n",
    "    context_features=None\n",
    ")\n",
    "inner_transform=transforms.ConditionalAffineScalarTransform(features=1)\n",
    "\n",
    "slice_of_pie = ManifoldFlow(\n",
    "    data_dim=2,\n",
    "    latent_dim=1,\n",
    "    outer_transform=outer_transform,\n",
    "    inner_transform=inner_transform,\n",
    ")\n",
    "\n",
    "trainer = training.trainer.ManifoldFlowTrainer(slice_of_pie)\n",
    "trainer.train(\n",
    "    train_dataset,\n",
    "    [training.losses.mse],\n",
    "    loss_weights=[100.],\n",
    "    epochs=epochs // 2,\n",
    "    forward_kwargs={\"mode\": \"projection\"}\n",
    ")\n",
    "trainer.train(\n",
    "    train_dataset,\n",
    "    [training.losses.mse, training.losses.nll],\n",
    "    loss_weights=[0., 1.],\n",
    "    epochs=epochs // 2,\n",
    "    parameters=mf.inner_transform.parameters(),\n",
    "    forward_kwargs={\"mode\": \"slice\"}\n",
    ")"
   ]
  },
  {
   "cell_type": "markdown",
   "metadata": {},
   "source": [
    "### Standard flow"
   ]
  },
  {
   "cell_type": "code",
   "execution_count": 10,
   "metadata": {
    "scrolled": true
   },
   "outputs": [
    {
     "ename": "NameError",
     "evalue": "name 'flows' is not defined",
     "output_type": "error",
     "traceback": [
      "\u001b[0;31m---------------------------------------------------------------------------\u001b[0m",
      "\u001b[0;31mNameError\u001b[0m                                 Traceback (most recent call last)",
      "\u001b[0;32m<ipython-input-10-c6bb26999065>\u001b[0m in \u001b[0;36m<module>\u001b[0;34m\u001b[0m\n\u001b[1;32m      5\u001b[0m     \u001b[0mcontext_features\u001b[0m\u001b[0;34m=\u001b[0m\u001b[0;32mNone\u001b[0m\u001b[0;34m\u001b[0m\u001b[0;34m\u001b[0m\u001b[0m\n\u001b[1;32m      6\u001b[0m )\n\u001b[0;32m----> 7\u001b[0;31m sf = flows.flow.Flow(\n\u001b[0m\u001b[1;32m      8\u001b[0m     \u001b[0mdata_dim\u001b[0m\u001b[0;34m=\u001b[0m\u001b[0;36m2\u001b[0m\u001b[0;34m,\u001b[0m\u001b[0;34m\u001b[0m\u001b[0;34m\u001b[0m\u001b[0m\n\u001b[1;32m      9\u001b[0m     \u001b[0mtransform\u001b[0m\u001b[0;34m=\u001b[0m\u001b[0mtransform\u001b[0m\u001b[0;34m\u001b[0m\u001b[0;34m\u001b[0m\u001b[0m\n",
      "\u001b[0;31mNameError\u001b[0m: name 'flows' is not defined"
     ]
    }
   ],
   "source": [
    "transform = vector_transforms.create_transform(\n",
    "    2, 5,\n",
    "    linear_transform_type=\"permutation\",\n",
    "    base_transform_type=\"affine-coupling\",\n",
    "    context_features=None\n",
    ")\n",
    "sf = flows.flow.Flow(\n",
    "    data_dim=2,\n",
    "    transform=transform\n",
    ")\n",
    "\n",
    "trainer = training.trainer.ManifoldFlowTrainer(sf)\n",
    "trainer.train(\n",
    "    train_dataset,\n",
    "    [training.losses.nll],\n",
    "    loss_weights=[1.],\n",
    "    epochs=epochs,\n",
    ")"
   ]
  },
  {
   "cell_type": "markdown",
   "metadata": {},
   "source": [
    "## Evaluate the generative performance"
   ]
  },
  {
   "cell_type": "markdown",
   "metadata": {},
   "source": [
    "### Sample"
   ]
  },
  {
   "cell_type": "code",
   "execution_count": null,
   "metadata": {},
   "outputs": [],
   "source": [
    "x_gen_sf = sf.sample(n=1000).detach().numpy()\n",
    "x_gen_mf = mf.sample(n=1000).detach().numpy()\n",
    "x_gen_pie = pie.sample(n=1000).detach().numpy()\n",
    "x_gen_pie_full = pie.sample(n=1000, sample_orthogonal=True).detach().numpy()"
   ]
  },
  {
   "cell_type": "markdown",
   "metadata": {},
   "source": [
    "### Distance from manifold, true likelihood of generated samples"
   ]
  },
  {
   "cell_type": "code",
   "execution_count": null,
   "metadata": {},
   "outputs": [],
   "source": [
    "logp_min = -1000\n",
    "\n",
    "logp_gen_sf = simulator.log_density(x_gen_sf)\n",
    "logp_gen_mf = simulator.log_density(x_gen_mf)\n",
    "logp_gen_pie = simulator.log_density(x_gen_pie)\n",
    "logp_gen_pie_full = simulator.log_density(x_gen_pie_full)\n",
    "\n",
    "logp_gen_sf[(~np.isfinite(logp_gen_sf)) + (logp_gen_sf<logp_min)] = logp_min\n",
    "logp_gen_mf[(~np.isfinite(logp_gen_mf)) + (logp_gen_mf<logp_min)] = logp_min\n",
    "logp_gen_pie[(~np.isfinite(logp_gen_pie)) + (logp_gen_pie<logp_min)] = logp_min\n",
    "logp_gen_pie_full[(~np.isfinite(logp_gen_pie_full)) + (logp_gen_pie_full<logp_min)] = logp_min\n",
    "\n",
    "mean_logp_gen_sf = np.mean(logp_gen_sf)\n",
    "mean_logp_gen_mf = np.mean(logp_gen_mf)\n",
    "mean_logp_gen_pie = np.mean(logp_gen_pie)\n",
    "mean_logp_gen_pie_full = np.mean(logp_gen_pie_full)\n",
    "\n",
    "distance_from_manifold_gen_sf = np.mean(np.abs(np.sum(x_gen_sf**2, axis=1)**0.5 - 1))\n",
    "distance_from_manifold_gen_mf = np.mean(np.abs(np.sum(x_gen_mf**2, axis=1)**0.5 - 1))\n",
    "distance_from_manifold_gen_pie = np.mean(np.abs(np.sum(x_gen_pie**2, axis=1)**0.5 - 1))\n",
    "distance_from_manifold_gen_pie_full = np.mean(np.abs(np.sum(x_gen_pie_full**2, axis=1)**0.5 - 1))\n",
    "\n",
    "print(\"Mean true log likelihood of samples generated from flows (higher is better):\")\n",
    "print(\"  Standard flow:      {:>6.1f}\".format(mean_logp_gen_sf))\n",
    "print(\"  PIE:                {:>6.1f}\".format(mean_logp_gen_pie))\n",
    "print(\"  PIE (sampling all): {:>6.1f}\".format(mean_logp_gen_pie_full))\n",
    "print(\"  Manifold flow:      {:>6.1f}\".format(mean_logp_gen_mf))\n",
    "\n",
    "print(\"Mean Euclidean distance between samples generated from flows and true manifold (lower is better):\")\n",
    "print(\"  Standard flow:      {:>6.2f}\".format(distance_from_manifold_gen_sf))\n",
    "print(\"  PIE:                {:>6.2f}\".format(distance_from_manifold_gen_pie))\n",
    "print(\"  PIE (sampling all): {:>6.2f}\".format(distance_from_manifold_gen_pie_full))\n",
    "print(\"  Manifold flow:      {:>6.2f}\".format(distance_from_manifold_gen_mf))\n"
   ]
  },
  {
   "cell_type": "markdown",
   "metadata": {},
   "source": [
    "### Visualize generated samples"
   ]
  },
  {
   "cell_type": "code",
   "execution_count": null,
   "metadata": {},
   "outputs": [],
   "source": [
    "skip = 10\n",
    "res = 250\n",
    "x_range = np.linspace(-1.5,1.5,res)\n",
    "y_range = np.linspace(-1.5,1.5,res)\n",
    "xx, yy = np.meshgrid(x_range, y_range)\n",
    "x_grid = np.concatenate((xx.reshape((-1,1)), yy.reshape((-1,1))), axis=1)\n",
    "logp_grid = simulator.log_density(x_grid).reshape((res, res))\n",
    "logp_grid[~np.isfinite(logp_grid)] = -1000000.\n",
    "zmin, zmax = np.max(logp_grid) - 10., np.max(logp_grid)\n",
    "\n",
    "fig = plt.figure(figsize=(6,5))\n",
    "ax = plt.gca()\n",
    "\n",
    "pcm = plt.imshow(\n",
    "    np.clip(logp_grid, zmin, zmax),\n",
    "    extent=(-1.5,1.5,-1.5,1.5),\n",
    "    origin=\"lower\",\n",
    "    cmap=\"Greys\",\n",
    "    norm=matplotlib.colors.Normalize(zmin, zmax),\n",
    "    interpolation='nearest'\n",
    ")\n",
    "cb = plt.colorbar(pcm, extend=\"both\")\n",
    "\n",
    "plt.scatter(x_gen_sf[::skip,0], x_gen_sf[::skip,1], s=10., c=\"C0\", label=\"Standard flow\")\n",
    "plt.scatter(x_gen_pie[::skip,0], x_gen_pie[::skip,1], s=10., c=\"C1\", label=\"PIE\")\n",
    "plt.scatter(x_gen_pie_full[::skip,0], x_gen_pie_full[::skip,1], s=10., c=\"C2\", label=\"PIE (sampling all)\")\n",
    "plt.scatter(x_gen_mf[::skip,0], x_gen_mf[::skip,1], s=10., c=\"C3\", label=\"Manifold flow\")\n",
    "\n",
    "plt.legend()\n",
    "\n",
    "plt.xlim(-1.5, 1.5)\n",
    "plt.ylim(-1.5, 1.5)\n",
    "plt.xlabel(\"$x_1$\")\n",
    "plt.ylabel(\"$x_2$\")\n",
    "cb.set_label(\"True log density\")\n",
    "\n",
    "plt.tight_layout()\n",
    "plt.savefig(\"spherical_gaussian_2d_generation.pdf\")\n"
   ]
  },
  {
   "cell_type": "markdown",
   "metadata": {},
   "source": [
    "## Visualize learned likelihoods"
   ]
  },
  {
   "cell_type": "markdown",
   "metadata": {},
   "source": [
    "### Log likelihood"
   ]
  },
  {
   "cell_type": "code",
   "execution_count": null,
   "metadata": {},
   "outputs": [],
   "source": [
    "res = 100\n",
    "x_range = np.linspace(-1.5,1.5,res)\n",
    "y_range = np.linspace(-1.5,1.5,res)\n",
    "xx, yy = np.meshgrid(x_range, y_range)\n",
    "x_grid = np.concatenate((xx.reshape((-1,1)), yy.reshape((-1,1))), axis=1)\n",
    "x_grid_tensor = torch.FloatTensor(x_grid)\n",
    "\n",
    "learned_logp_grid_mf = mf.log_prob(x_grid_tensor, mode=\"mf\").detach().numpy().reshape((res, res))\n",
    "learned_logp_grid_sf = sf.log_prob(x_grid_tensor).detach().numpy().reshape((res, res))\n",
    "learned_logp_grid_pie = pie.log_prob(x_grid_tensor, mode=\"pie\").detach().numpy().reshape((res, res))\n",
    "learned_logp_grid_slice_of_pie = slice_of_pie.log_prob(x_grid_tensor, mode=\"slice\").detach().numpy().reshape((res, res))\n",
    "\n",
    "logp_grid_truth = simulator.log_density(x_grid).reshape((res, res))\n",
    "logp_grid_truth[~np.isfinite(logp_grid_truth)] = -1000000.\n"
   ]
  },
  {
   "cell_type": "code",
   "execution_count": null,
   "metadata": {},
   "outputs": [],
   "source": [
    "skip = 500\n",
    "\n",
    "fig = plt.figure(figsize=(12,10))\n",
    "\n",
    "for i, (label, logp) in enumerate(zip(\n",
    "    [\"True log density\", \"Standard flow log density\", \"PIE log density\", \"Manifold flow log density\"],\n",
    "    [logp_grid_truth, learned_logp_grid_sf, learned_logp_grid_pie, learned_logp_grid_mf]\n",
    "     )):\n",
    "    ax = plt.subplot(2,2,i+1)\n",
    "\n",
    "    zmin, zmax = np.max(logp_grid_truth) - 7., np.max(logp_grid_truth) + 3.\n",
    "\n",
    "    pcm = plt.imshow(\n",
    "        np.clip(logp, zmin, zmax),\n",
    "        extent=(-1.5, 1.5, -1.5, 1.5),\n",
    "        origin=\"lower\",\n",
    "        cmap=\"viridis\",\n",
    "        norm=matplotlib.colors.Normalize(zmin, zmax),\n",
    "        interpolation='nearest'\n",
    "    )\n",
    "    cb = plt.colorbar(pcm, extend=\"both\")\n",
    "    plt.scatter(x[::skip,0], x[::skip,1], s=5., c=\"black\")\n",
    "\n",
    "    plt.xlim(-1.5,1.5)\n",
    "    plt.ylim(-1.5,1.5)\n",
    "    plt.xlabel(\"$x_1$\")\n",
    "    plt.ylabel(\"$x_2$\")\n",
    "    cb.set_label(label)\n",
    "    \n",
    "plt.tight_layout()\n",
    "plt.savefig(\"spherical_gaussian_2d_log_prob.pdf\", dpi=600)\n"
   ]
  },
  {
   "cell_type": "markdown",
   "metadata": {},
   "source": [
    "## More visualizations"
   ]
  },
  {
   "cell_type": "markdown",
   "metadata": {},
   "source": [
    "### Reconstruction"
   ]
  },
  {
   "cell_type": "code",
   "execution_count": null,
   "metadata": {},
   "outputs": [],
   "source": [
    "x_in = SphericalGaussianSimulator(1,2,epsilon=epsilon).sample(100)\n",
    "x_in = torch.FloatTensor(x_in)\n",
    "x_out = mf(x_in)[0]\n",
    "x_in, x_out = x_in.detach().numpy(), x_out.detach().numpy()\n",
    "dx = x_out - x_in"
   ]
  },
  {
   "cell_type": "code",
   "execution_count": null,
   "metadata": {},
   "outputs": [],
   "source": [
    "fig = plt.figure(figsize=(5,5))\n",
    "ax = plt.gca()\n",
    "plt.scatter(x_in[:,0], x_in[:,1], s=15., c=\"C1\")\n",
    "plt.scatter(x_out[:,0], x_out[:,1], s=15., c=\"C0\")\n",
    "plt.quiver(\n",
    "    x_in[:,0], x_in[:,1], dx[:,0], dx[:,1],\n",
    "    angles='xy', scale_units='xy', scale=1., width=2.e-3, alpha=1.\n",
    ")\n",
    "\n",
    "plt.xlim(-1.5,1.5)\n",
    "plt.ylim(-1.5,1.5)\n",
    "plt.xlabel(\"$x_1$\")\n",
    "plt.ylabel(\"$x_2$\")\n",
    "plt.tight_layout()\n",
    "\n",
    "plt.savefig(\"spherical_gaussian_2d_reconstruction.pdf\")\n"
   ]
  },
  {
   "cell_type": "markdown",
   "metadata": {},
   "source": [
    "### Latent variables"
   ]
  },
  {
   "cell_type": "code",
   "execution_count": null,
   "metadata": {},
   "outputs": [],
   "source": [
    "res = 51\n",
    "x_range = np.linspace(-1.5,1.5,res)\n",
    "y_range = np.linspace(-1.5,1.5,res)\n",
    "xx, yy = np.meshgrid(x_range, y_range)\n",
    "x_grid = np.concatenate((xx.reshape((-1,1)), yy.reshape((-1,1))), axis=1)\n",
    "x_grid_tensor = torch.FloatTensor(x_grid)\n",
    "\n",
    "_, _, u = mf(x_grid_tensor)\n",
    "u = u.detach().numpy()\n"
   ]
  },
  {
   "cell_type": "code",
   "execution_count": null,
   "metadata": {},
   "outputs": [],
   "source": [
    "zmin, zmax = np.mean(u) - np.std(u), np.mean(u) + np.std(u)\n",
    "fig = plt.figure(figsize=(5,4))\n",
    "ax = plt.gca()\n",
    "\n",
    "pcm = plt.pcolormesh(\n",
    "    x_range, y_range,\n",
    "    np.clip(np.clip(u, zmin, zmax).reshape(res, res), zmin, zmax),\n",
    "    cmap=\"viridis\", norm=matplotlib.colors.Normalize(zmin, zmax)\n",
    ")\n",
    "cb = plt.colorbar(pcm, extend=\"both\")\n",
    "plt.scatter(x_gen_mf[:,0], x_gen_mf[:,1], s=5., c=\"black\")\n",
    "\n",
    "plt.xlim(-1.5,1.5)\n",
    "plt.ylim(-1.5,1.5)\n",
    "plt.xlabel(\"$x_1$\")\n",
    "plt.ylabel(\"$x_2$\")\n",
    "cb.set_label(\"$\\log \\; \\hat{p}(x)$\")\n",
    "plt.tight_layout()\n",
    "\n",
    "plt.savefig(\"spherical_gaussian_2d_latent.pdf\")"
   ]
  },
  {
   "cell_type": "code",
   "execution_count": null,
   "metadata": {},
   "outputs": [],
   "source": []
  }
 ],
 "metadata": {
  "kernelspec": {
   "display_name": "Python (ML)",
   "language": "python",
   "name": "ml"
  },
  "language_info": {
   "codemirror_mode": {
    "name": "ipython",
    "version": 3
   },
   "file_extension": ".py",
   "mimetype": "text/x-python",
   "name": "python",
   "nbconvert_exporter": "python",
   "pygments_lexer": "ipython3",
   "version": "3.6.8"
  }
 },
 "nbformat": 4,
 "nbformat_minor": 2
}
