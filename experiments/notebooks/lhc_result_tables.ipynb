{
 "cells": [
  {
   "cell_type": "markdown",
   "metadata": {},
   "source": [
    "# Particle physics results"
   ]
  },
  {
   "cell_type": "markdown",
   "metadata": {},
   "source": [
    "## Setup"
   ]
  },
  {
   "cell_type": "code",
   "execution_count": 1,
   "metadata": {},
   "outputs": [],
   "source": [
    "import sys\n",
    "import numpy as np\n",
    "from sklearn.metrics import roc_auc_score\n",
    "from sklearn.neighbors import KernelDensity\n",
    "from itertools import product\n"
   ]
  },
  {
   "cell_type": "markdown",
   "metadata": {},
   "source": [
    "## Load results"
   ]
  },
  {
   "cell_type": "code",
   "execution_count": 2,
   "metadata": {},
   "outputs": [],
   "source": [
    "n_runs = 5\n",
    "n_chains = 4\n",
    "n_trueparams = 3\n",
    "remove_all_results_with_nans = False"
   ]
  },
  {
   "cell_type": "code",
   "execution_count": 3,
   "metadata": {},
   "outputs": [],
   "source": [
    "algo_filenames = []\n",
    "algo_additionals = []\n",
    "algo_labels = []\n",
    "algo_dividers = []\n",
    "algo_2ds = []\n",
    "\n",
    "def add_algo(filename, add, label, lhc2d=False):\n",
    "    algo_filenames.append(filename)\n",
    "    algo_additionals.append(add)\n",
    "    algo_labels.append(label)\n",
    "    algo_2ds.append(lhc2d)\n",
    "    \n",
    "    \n",
    "def add_divider():\n",
    "    algo_dividers.append(len(algo_filenames))\n",
    "    \n",
    "\n",
    "add_algo(\"flow\", \"_april\", \"2D summaries\", True)\n",
    "add_algo(\"alices\", \"_april\", \"ALICES\")\n",
    "add_algo(\"flow\", \"_april\", \"AF\")\n",
    "add_algo(\"pie\", \"_april\", \"PIE\")\n",
    "add_algo(\"mf\", \"_alternate_april\", \"MFMF--A\")\n",
    "#add_algo(\"gamf\", \"_april\", \"MFMF--OT\")\n",
    "#add_algo(\"gamf\", \"_alternate_april\", \"MFMF--OTA\")\n",
    "add_algo(\"emf\", \"_alternate_april\", \"MFMFE--A\")\n",
    "\n",
    "n_algos = len(algo_filenames)\n"
   ]
  },
  {
   "cell_type": "code",
   "execution_count": 4,
   "metadata": {},
   "outputs": [],
   "source": [
    "def load(name, shape, numpyfy=True, chains=1, result_dir=\"../data/results\"):\n",
    "    all_results = []\n",
    "    \n",
    "    for algo_filename, algo_add, algo_2d in zip(algo_filenames, algo_additionals, algo_2ds):\n",
    "        algo_results = []\n",
    "            \n",
    "        for run in range(n_runs):\n",
    "            run_str = \"\" if run == 0 else \"_run{}\".format(run)\n",
    "\n",
    "            try:\n",
    "                this_result = np.load(\n",
    "                    \"{}/{}_{}_lhc{}{}{}_{}.npy\".format(\n",
    "                        result_dir, algo_filename, \"2\" if algo_2d else \"14\",\n",
    "                        \"2d\" if algo_2d else \"\", algo_add, run_str, name\n",
    "                    )\n",
    "                )\n",
    "                if (not numpyfy) or (shape is None) or np.product(this_result.shape) == np.product(shape):\n",
    "                    algo_results.append(this_result.reshape(shape))\n",
    "                else:\n",
    "                    algo_results.append(np.nan*np.ones(shape))\n",
    "\n",
    "            except FileNotFoundError as e:\n",
    "                # print(e)\n",
    "                if shape is None:\n",
    "                    algo_results.append(None)\n",
    "                else:\n",
    "                    algo_results.append(np.nan*np.ones(shape))\n",
    "            \n",
    "        all_results.append(algo_results)\n",
    "    \n",
    "    if numpyfy:\n",
    "        all_results = np.array(all_results, dtype=np.float)\n",
    "        \n",
    "    return all_results\n",
    "\n",
    "\n",
    "model_gen_x = load(\"samples\", None, numpyfy=False)\n",
    "model_gen_closure = load(\"samples_manifold_distance\", (10000,))\n"
   ]
  },
  {
   "cell_type": "code",
   "execution_count": 5,
   "metadata": {},
   "outputs": [
    {
     "data": {
      "text/plain": [
       "(6, 5, 3, 4, 500, 2)"
      ]
     },
     "execution_count": 5,
     "metadata": {},
     "output_type": "execute_result"
    }
   ],
   "source": [
    "def load_mcmc(name, shape, numpyfy=True, result_dir=\"../data/results\"):\n",
    "    all_results = []\n",
    "    \n",
    "    for algo_filename, algo_add, algo_2d in zip(algo_filenames, algo_additionals, algo_2ds):\n",
    "        algo_results = []\n",
    "            \n",
    "        for run in range(n_runs):\n",
    "            run_str = \"\" if run == 0 else \"_run{}\".format(run)\n",
    "            \n",
    "            for trueparam in range(n_trueparams):\n",
    "                trueparam_str = \"\" if trueparam == 0 else \"_trueparam{}\".format(trueparam)\n",
    "            \n",
    "                for chain in range(n_chains):\n",
    "                    chain_str = \"\" if chain == 0 else \"_chain{}\".format(chain)\n",
    "\n",
    "                    try:\n",
    "                        this_result = np.load(\n",
    "                            \"{}/{}_{}_lhc{}{}{}_{}{}{}.npy\".format(\n",
    "                                result_dir, algo_filename, \"2\" if algo_2d else \"14\",\n",
    "                                \"2d\" if algo_2d else \"\", algo_add, run_str, name, trueparam_str, chain_str\n",
    "                            )\n",
    "                        )\n",
    "                        if (not numpyfy) or (shape is None) or np.product(this_result.shape) == np.product(shape):\n",
    "                            algo_results.append(this_result.reshape(shape))\n",
    "                        else:\n",
    "                            algo_results.append(np.nan*np.ones(shape))\n",
    "\n",
    "                    except FileNotFoundError as e:\n",
    "                        # print(e)\n",
    "                        if shape is None:\n",
    "                            algo_results.append(None)\n",
    "                        else:\n",
    "                            algo_results.append(np.nan*np.ones(shape))\n",
    "            \n",
    "        all_results.append(algo_results)\n",
    "    \n",
    "    all_results = np.array(all_results, dtype=np.float)\n",
    "    all_results = all_results.reshape([all_results.shape[0], n_runs, n_trueparams, n_chains] + list(shape))\n",
    "        \n",
    "    return all_results\n",
    "\n",
    "\n",
    "model_posterior_samples = load_mcmc(\"posterior_samples\", (500, 2,))\n",
    "model_posterior_samples.shape  # (algo, run, true param id, chain, sample, theta component)\n"
   ]
  },
  {
   "cell_type": "code",
   "execution_count": 6,
   "metadata": {},
   "outputs": [],
   "source": [
    "def remove_nans(*results):\n",
    "    passes = all([np.all(np.isfinite(result)) for result in results])\n",
    "    \n",
    "    if passes:\n",
    "        return results\n",
    "    else:\n",
    "        return [np.nan * np.ones_like(result) for result in results]\n",
    "\n",
    "\n",
    "def remove_nans_from_lists(*raws):\n",
    "    # raws[quantity][algo]\n",
    "    n_quantities = len(raws)\n",
    "    n_algos = len(raws[0])\n",
    "    \n",
    "    for raw in raws:\n",
    "        assert len(raw) == n_algos\n",
    "    \n",
    "    cleans = [[[] for _ in range(n_algos)] for _ in range(n_quantities)]\n",
    "    \n",
    "    for i in range(n_algos):\n",
    "        for k in range(n_runs):\n",
    "            clean = remove_nans(*[raw[i][k] for raw in raws])\n",
    "            for j in range(n_quantities):\n",
    "                cleans[j][i].append(clean[j])\n",
    "            \n",
    "    cleans = [np.array(clean) for clean in cleans]\n",
    "    \n",
    "    # cleans[quantity][algo]\n",
    "    return cleans\n",
    "     \n",
    "    \n",
    "if remove_all_results_with_nans:\n",
    "    model_gen_closure, model_posterior_samples = remove_nans_from_lists(model_gen_closure, model_posterior_samples)\n"
   ]
  },
  {
   "cell_type": "markdown",
   "metadata": {},
   "source": [
    "## Calculate metrics"
   ]
  },
  {
   "cell_type": "code",
   "execution_count": 7,
   "metadata": {},
   "outputs": [],
   "source": [
    "min_logp = -100.\n",
    "model_gen_mean_closure = np.mean(model_gen_closure, axis=2)\n"
   ]
  },
  {
   "cell_type": "code",
   "execution_count": 8,
   "metadata": {},
   "outputs": [],
   "source": [
    "bandwidth = 0.1\n",
    "true_param_points = np.array([[0.,0.], [0.5, 0.], [-1., -1.]])\n",
    "\n",
    "model_true_log_posteriors = []\n",
    "\n",
    "for algo, run, trueparam in product(range(n_algos), range(n_runs), range(n_trueparams)):\n",
    "    mcmcs = model_posterior_samples[algo, run, trueparam].reshape((-1, 2))\n",
    "    mcmcs = mcmcs[np.all(np.isfinite(mcmcs), axis=-1)]\n",
    "    \n",
    "    if len(mcmcs) == 0:\n",
    "        model_true_log_posteriors.append(np.nan)\n",
    "        continue\n",
    "        \n",
    "    kde = KernelDensity(kernel=\"gaussian\", bandwidth=bandwidth)\n",
    "    kde.fit(mcmcs)\n",
    "    model_true_log_posteriors.append(kde.score(true_param_points[trueparam].reshape((1, 2))))\n",
    "\n",
    "model_true_log_posteriors = np.array(model_true_log_posteriors).reshape((n_algos, n_runs, n_trueparams)) \n"
   ]
  },
  {
   "cell_type": "markdown",
   "metadata": {},
   "source": [
    "## Best metrics"
   ]
  },
  {
   "cell_type": "code",
   "execution_count": 9,
   "metadata": {},
   "outputs": [
    {
     "name": "stdout",
     "output_type": "stream",
     "text": [
      "AF\n",
      "ALICES\n"
     ]
    },
    {
     "name": "stderr",
     "output_type": "stream",
     "text": [
      "/Users/johannbrehmer/anaconda3/envs/ml/lib/python3.6/site-packages/ipykernel_launcher.py:3: RuntimeWarning: Mean of empty slice\n",
      "  This is separate from the ipykernel package so we can avoid doing imports until\n"
     ]
    }
   ],
   "source": [
    "best_closure, best_posterior = -1, -1\n",
    "\n",
    "best_closure = np.nanargmin(np.nanmean(model_gen_mean_closure, axis=1))\n",
    "print(algo_labels[best_closure])\n",
    "    \n",
    "best_posterior = np.nanargmax(np.nanmean(model_true_log_posteriors.reshape((n_algos, -1)), axis=-1))\n",
    "print(algo_labels[best_posterior])\n"
   ]
  },
  {
   "cell_type": "markdown",
   "metadata": {},
   "source": [
    "## Print metrics"
   ]
  },
  {
   "cell_type": "code",
   "execution_count": 10,
   "metadata": {},
   "outputs": [],
   "source": [
    "def print_results(\n",
    "    include_err=False, include_n_runs=False, include_runs=False,\n",
    "    l_label=max([len(l) for l in algo_labels]), l_mean=5, l_err=2,\n",
    "    median=False, latex=False, after_decs=(3,2)\n",
    "):\n",
    "    # How to format the numbers\n",
    "    l_result = (\n",
    "        l_mean + int(include_err) * (2 + l_err)\n",
    "        + int(include_n_runs) * 4\n",
    "        + int(include_runs) * (3 + n_runs*l_mean + (n_runs - 1)*2)\n",
    "    )\n",
    "    l_total = l_label + 1 + 2 * (3 + l_result)\n",
    "        \n",
    "    # Divider\n",
    "    empty_result = \"\" if latex else \" \"*(l_result + 1)\n",
    "    col_divider = \"&\" if latex else \"|\"\n",
    "    line_end = r\"\\\\\" if latex else \"\"\n",
    "    block_divider = r\"\\midrule\" if latex else \"-\"*l_total\n",
    "    \n",
    "    def _f(val, after_dec, best=False):\n",
    "        if not np.any(np.isfinite(val)):\n",
    "            return empty_result\n",
    "        \n",
    "        if median:\n",
    "            result = \"{:>{}.{}f}\".format(np.nanmedian(val), l_mean, after_dec)\n",
    "        else:\n",
    "            result = \"{:>{}.{}f}\".format(np.nanmean(val), l_mean, after_dec)\n",
    "            \n",
    "        if latex and best:\n",
    "            result = r\"\\textbf{\" + result + \"}\"\n",
    "            \n",
    "        if include_err:\n",
    "            err_str = \"({:0>{}d})\".format(int(10**after_dec * np.nanstd(val) / np.sum(np.isfinite(val))**0.5), l_err)\n",
    "            if latex:\n",
    "                result += r\"\\,\\textcolor{dark-gray}{\" + err_str + \"}\"\n",
    "            else:\n",
    "                result += err_str\n",
    "            \n",
    "        if include_n_runs:\n",
    "            result += \" [{:1n}]\".format(np.sum(np.isfinite(val)))\n",
    "        if include_runs:\n",
    "            result += \" [{:>{}.{}f}, \".format(np.nanmean(val[0]), l_mean, after_dec)\n",
    "            result += \"{:>{}.{}f}, \".format(np.nanmean(val[1]), l_mean, after_dec)\n",
    "            result += \"{:>{}.{}f}, \".format(np.nanmean(val[2]), l_mean, after_dec)\n",
    "            result += \"{:>{}.{}f}, \".format(np.nanmean(val[3]), l_mean, after_dec)\n",
    "            result += \"{:>{}.{}f}]\".format(np.nanmean(val[4]), l_mean, after_dec)\n",
    "            \n",
    "        if (not latex) and best:\n",
    "            result += \"*\"\n",
    "        elif (not latex) and (not best):\n",
    "            result += \" \"\n",
    "            \n",
    "        return result\n",
    "    \n",
    "    # Header\n",
    "    print(\n",
    "        \"{2:<{0}.{0}s} {5} {3:>{1}.{1}s} {5} {4:>{1}.{1}s} {6}\".format(\n",
    "            l_label, l_result, \"\", \"Closure\", \"log p\", col_divider, line_end\n",
    "        )\n",
    "    )\n",
    "    print(block_divider)\n",
    "\n",
    "    # Iterate over methods\n",
    "    for i, (label, closure, posterior) in enumerate(zip(\n",
    "        algo_labels, model_gen_mean_closure, model_true_log_posteriors\n",
    "    )):\n",
    "        # Divider\n",
    "        if i in algo_dividers and show_all:\n",
    "            print(block_divider)\n",
    "            \n",
    "        # Print results\n",
    "        print(\"{1:<{0}.{0}s} {4} {2}{4} {3} {5}\".format(\n",
    "            l_label, label,\n",
    "            _f(closure, after_decs[0], i==best_closure), _f(posterior, after_decs[1], i==best_posterior),\n",
    "            col_divider, line_end\n",
    "        ))\n"
   ]
  },
  {
   "cell_type": "code",
   "execution_count": 11,
   "metadata": {},
   "outputs": [
    {
     "name": "stdout",
     "output_type": "stream",
     "text": [
      "             |                                   Closure |                                     log p \n",
      "-----------------------------------------------------------------------------------------------------\n",
      "2D summaries |                                           |  0.57 [ 0.53,  0.57,  0.44,  0.37,  0.95]  \n",
      "ALICES       |                                           |  1.64 [ 1.67,  1.46,  1.62,  1.63,  1.83]* \n",
      "AF           | 0.027 [0.024, 0.026, 0.026, 0.025, 0.033]*| -3.80 [-6.90, -4.61, -2.74, -2.49, -2.27]  \n",
      "PIE          | 0.032 [0.063, 0.035, 0.017, 0.025, 0.021] | -4.92 [-0.71, -7.04, -4.84, -0.73, -11.29]  \n",
      "MFMF--A      | 0.409 [0.352, 0.394, 0.458, 0.399, 0.440] | -2.07 [-1.69, -1.98, -2.53,   nan,   nan]  \n",
      "MFMFE--A     | 0.488 [0.549, 0.401, 0.513,   nan,   nan] | -1.46 [-1.75, -1.08, -1.55,   nan,   nan]  \n"
     ]
    },
    {
     "name": "stderr",
     "output_type": "stream",
     "text": [
      "/Users/johannbrehmer/anaconda3/envs/ml/lib/python3.6/site-packages/ipykernel_launcher.py:45: RuntimeWarning: Mean of empty slice\n",
      "/Users/johannbrehmer/anaconda3/envs/ml/lib/python3.6/site-packages/ipykernel_launcher.py:46: RuntimeWarning: Mean of empty slice\n"
     ]
    }
   ],
   "source": [
    "print_results(include_runs=True)"
   ]
  },
  {
   "cell_type": "code",
   "execution_count": 12,
   "metadata": {},
   "outputs": [
    {
     "name": "stdout",
     "output_type": "stream",
     "text": [
      "             |   Closure |     log p \n",
      "-------------------------------------\n",
      "2D summaries |           |  0.57(48)  \n",
      "ALICES       |           |  1.64(23)* \n",
      "AF           | 0.027(01)*| -3.80(107)  \n",
      "PIE          | 0.032(07) | -4.92(282)  \n",
      "MFMF--A      | 0.409(16) | -2.07(21)  \n",
      "MFMFE--A     | 0.488(36) | -1.46(27)  \n"
     ]
    }
   ],
   "source": [
    "print_results(include_err=True)"
   ]
  },
  {
   "cell_type": "code",
   "execution_count": 13,
   "metadata": {},
   "outputs": [
    {
     "name": "stdout",
     "output_type": "stream",
     "text": [
      "             &   Closure &     log p \\\\\n",
      "\\midrule\n",
      "2D summaries & &  0.57\\,\\textcolor{dark-gray}{(48)} \\\\\n",
      "ALICES       & & \\textbf{ 1.64}\\,\\textcolor{dark-gray}{(23)} \\\\\n",
      "AF           & \\textbf{0.027}\\,\\textcolor{dark-gray}{(01)}& -3.80\\,\\textcolor{dark-gray}{(107)} \\\\\n",
      "PIE          & 0.032\\,\\textcolor{dark-gray}{(07)}& -4.92\\,\\textcolor{dark-gray}{(282)} \\\\\n",
      "MFMF--A      & 0.409\\,\\textcolor{dark-gray}{(16)}& -2.07\\,\\textcolor{dark-gray}{(21)} \\\\\n",
      "MFMFE--A     & 0.488\\,\\textcolor{dark-gray}{(36)}& -1.46\\,\\textcolor{dark-gray}{(27)} \\\\\n"
     ]
    }
   ],
   "source": [
    "print_results(include_err=True, latex=True)"
   ]
  },
  {
   "cell_type": "code",
   "execution_count": null,
   "metadata": {},
   "outputs": [],
   "source": []
  }
 ],
 "metadata": {
  "kernelspec": {
   "display_name": "Python (ML)",
   "language": "python",
   "name": "ml"
  },
  "language_info": {
   "codemirror_mode": {
    "name": "ipython",
    "version": 3
   },
   "file_extension": ".py",
   "mimetype": "text/x-python",
   "name": "python",
   "nbconvert_exporter": "python",
   "pygments_lexer": "ipython3",
   "version": "3.6.8"
  }
 },
 "nbformat": 4,
 "nbformat_minor": 2
}
