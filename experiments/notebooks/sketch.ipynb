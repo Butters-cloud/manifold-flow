{
 "cells": [
  {
   "cell_type": "markdown",
   "metadata": {},
   "source": [
    "# Demonstration of the instability of likelihood-based training"
   ]
  },
  {
   "cell_type": "code",
   "execution_count": null,
   "metadata": {},
   "outputs": [],
   "source": [
    "%matplotlib inline\n",
    "\n",
    "import numpy as np\n",
    "from scipy.stats import norm\n",
    "import matplotlib\n",
    "from matplotlib import pyplot as plt\n",
    "from mpl_toolkits.mplot3d import Axes3D\n",
    "from mpl_toolkits.mplot3d.art3d import Poly3DCollection\n",
    "import plot_settings as ps\n"
   ]
  },
  {
   "cell_type": "code",
   "execution_count": null,
   "metadata": {},
   "outputs": [],
   "source": [
    "ps.setup()"
   ]
  },
  {
   "cell_type": "markdown",
   "metadata": {},
   "source": [
    "## Models"
   ]
  },
  {
   "cell_type": "code",
   "execution_count": null,
   "metadata": {},
   "outputs": [],
   "source": [
    "def f(x):\n",
    "    return 0.8* np.exp(- 3 * x**2) * (np.sin((x-0.5) * 0.5 * np.pi)) + 0.2 + 0.4*x\n",
    "\n",
    "\n",
    "def af_std(x, y):\n",
    "    return 0.08 + 0.42 * x**2\n",
    "\n",
    "\n",
    "def logp_flm(x, y):\n",
    "    return norm(loc=0., scale=0.4).logpdf(x)\n",
    "    \n",
    "    \n",
    "def logp_perp(x, y):\n",
    "    return norm(loc=f(x), scale=af_std(x, y)).logpdf(y)\n",
    "\n",
    "\n",
    "def logp_af(x, y):\n",
    "    return logp_flm(x, y) + logp_perp(x, y)\n",
    "\n",
    "\n",
    "def sample(n, noise=0, cutoff=1.):\n",
    "    x = np.random.normal(loc=0., scale=0.4, size=n)\n",
    "    x = x[x**2 < cutoff**2]\n",
    "    y = f(x) + np.random.normal(loc=0., scale=noise, size=len(x))\n",
    "    return x, y\n"
   ]
  },
  {
   "cell_type": "markdown",
   "metadata": {},
   "source": [
    "## Generate data"
   ]
  },
  {
   "cell_type": "code",
   "execution_count": null,
   "metadata": {},
   "outputs": [],
   "source": [
    "n_data = 500\n",
    "noise_data = 0\n",
    "x_data, y_data = sample(n_data, noise_data)\n",
    "z_data = np.zeros_like(x_data)\n"
   ]
  },
  {
   "cell_type": "code",
   "execution_count": null,
   "metadata": {},
   "outputs": [],
   "source": [
    "res_af = 90\n",
    "\n",
    "x_af_grid, y_af_grid = np.meshgrid(np.linspace(-1., 1., res_af), np.linspace(-1., 1., res_af))\n",
    "x_af_grid, y_af_grid = x_af_grid.flatten(), y_af_grid.flatten()\n",
    "\n",
    "z_af_grid = np.exp(logp_af(x_af_grid, y_af_grid))\n",
    "    "
   ]
  },
  {
   "cell_type": "code",
   "execution_count": null,
   "metadata": {},
   "outputs": [],
   "source": [
    "res_flm = 80\n",
    "\n",
    "x_flm_curve = np.linspace(-1., 1., res_flm)\n",
    "y_flm_curve = f(x_flm_curve)\n",
    "z_flm_curve = np.exp(logp_flm(x_flm_curve, y_flm_curve))\n",
    "\n",
    "# Construct polygons for plotting\n",
    "flm_vertices = []\n",
    "for x0, y0, z0, x1, y1, z1 in zip(\n",
    "    x_flm_curve[:-1], y_flm_curve[:-1], z_flm_curve[:-1], \n",
    "    x_flm_curve[1:], y_flm_curve[1:], z_flm_curve[1:]\n",
    "):\n",
    "    flm_vertices.append([(x0, y0, 0.), (x0, y0, z0), (x1, y1, z1), (x1, y1, 0.)])\n"
   ]
  },
  {
   "cell_type": "markdown",
   "metadata": {},
   "source": [
    "## Plot"
   ]
  },
  {
   "cell_type": "code",
   "execution_count": null,
   "metadata": {},
   "outputs": [],
   "source": [
    "n_show = 40\n",
    "xrange = (-1., 1.)\n",
    "yrange = (-1., 1.)\n",
    "zrange = (0., 5.)\n",
    "\n",
    "fig, ax = ps.figure(height=0.25*ps.TEXTWIDTH, cbar=False, make3d=True, large_margin=0.01, small_margin=0.01)\n",
    "\n",
    "# Data points\n",
    "ax.scatter(x_data[:n_show], y_data[:n_show], np.zeros(n_show), alpha=1., s=6., c=[ps.COLOR_NEUTRAL1])\n",
    "\n",
    "# MFMF density\n",
    "ax.plot_surface(\n",
    "    x_af_grid.reshape(res_af, res_af),\n",
    "    y_af_grid.reshape(res_af, res_af),\n",
    "    z_af_grid.reshape(res_af, res_af),\n",
    "    color=ps.add_transparency(ps.COLOR_AF, 0.25),\n",
    ")\n",
    "ax.plot_wireframe(\n",
    "    x_af_grid.reshape(res_af, res_af),\n",
    "    y_af_grid.reshape(res_af, res_af),\n",
    "    z_af_grid.reshape(res_af, res_af),\n",
    "    color=ps.add_transparency(ps.COLOR_AF, 0.5),\n",
    "    lw=1.,\n",
    "    rstride=3,\n",
    "    cstride=3\n",
    ")\n",
    "\n",
    "# Axis ranges and view\n",
    "ax.set_xlim3d(*xrange)\n",
    "ax.set_ylim3d(*yrange)\n",
    "ax.set_zlim3d(*zrange)\n",
    "ax.view_init(20, 70)\n",
    "ax.dist=9.\n",
    "\n",
    "# Labels\n",
    "ax.set_xlabel(\"$x_0$\", labelpad=-15.)\n",
    "ax.set_ylabel(\"$x_1$\", labelpad=-15.)\n",
    "ax.set_zlabel(r\"$p(x)$\", labelpad=-15.)\n",
    "ax.set_xticklabels([\"\"]*5)\n",
    "ax.set_yticklabels([\"\"]*5)\n",
    "ax.set_zticklabels([\"\"]*5)\n",
    "\n",
    "plt.savefig(\"../figures/manifold_density_illustration_af.pdf\")\n"
   ]
  },
  {
   "cell_type": "code",
   "execution_count": null,
   "metadata": {},
   "outputs": [],
   "source": [
    "n_show = 40\n",
    "xrange = (-1., 1.)\n",
    "yrange = (-1., 1.)\n",
    "zrange = (0., 1.1)\n",
    "\n",
    "fig, ax = ps.figure(height=0.25*ps.TEXTWIDTH, cbar=False, make3d=True, large_margin=0.01, small_margin=0.01)\n",
    "\n",
    "# Data points\n",
    "ax.scatter(x_data[:n_show], y_data[:n_show], np.zeros(n_show), alpha=1., s=6., c=[ps.COLOR_NEUTRAL1])\n",
    "\n",
    "# FLM density\n",
    "poly = Poly3DCollection(\n",
    "    flm_vertices,\n",
    "    facecolors=[ps.add_transparency(ps.COLOR_FLMA, alpha=0.25) for _ in flm_vertices],\n",
    "    edgecolors=[ps.add_transparency(ps.COLOR_FLMA, alpha=0.5) for _ in flm_vertices],\n",
    "    lw=0.5\n",
    ")\n",
    "ax.add_collection3d(poly, zdir='z')\n",
    "ax.plot(x_flm_curve, y_flm_curve, z_flm_curve, c=ps.COLOR_FLMA, lw=1.5)\n",
    "\n",
    "# Axis ranges and view\n",
    "ax.set_xlim3d(*xrange)\n",
    "ax.set_ylim3d(*yrange)\n",
    "ax.set_zlim3d(*zrange)\n",
    "ax.view_init(20, 64)\n",
    "ax.dist=9.\n",
    "\n",
    "# Labels\n",
    "ax.set_xlabel(\"$x_0$\", labelpad=-15.)\n",
    "ax.set_ylabel(\"$x_1$\", labelpad=-15.)\n",
    "ax.set_zlabel(r\"$p(x)$\", labelpad=-15.)\n",
    "ax.set_xticklabels([\"\"]*5)\n",
    "ax.set_yticklabels([\"\"]*5)\n",
    "ax.set_zticklabels([\"\"]*5)\n",
    "\n",
    "plt.savefig(\"../figures/manifold_density_illustration_flm.pdf\")\n"
   ]
  },
  {
   "cell_type": "code",
   "execution_count": null,
   "metadata": {},
   "outputs": [],
   "source": []
  }
 ],
 "metadata": {
  "kernelspec": {
   "display_name": "Python (ML)",
   "language": "python",
   "name": "ml"
  },
  "language_info": {
   "codemirror_mode": {
    "name": "ipython",
    "version": 3
   },
   "file_extension": ".py",
   "mimetype": "text/x-python",
   "name": "python",
   "nbconvert_exporter": "python",
   "pygments_lexer": "ipython3",
   "version": "3.7.3"
  }
 },
 "nbformat": 4,
 "nbformat_minor": 4
}
