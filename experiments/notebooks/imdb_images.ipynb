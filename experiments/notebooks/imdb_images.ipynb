{
 "cells": [
  {
   "cell_type": "markdown",
   "metadata": {},
   "source": [
    "# IMDb dataset"
   ]
  },
  {
   "cell_type": "code",
   "execution_count": 1,
   "metadata": {},
   "outputs": [],
   "source": [
    "%matplotlib inline\n",
    "\n",
    "import sys\n",
    "import os\n",
    "import numpy as np\n",
    "import matplotlib\n",
    "from matplotlib import pyplot as plt\n",
    "from matplotlib.offsetbox import TextArea, DrawingArea, OffsetImage, AnnotationBbox\n",
    "import logging\n",
    "import torch\n",
    "import pandas\n",
    "import PIL.Image\n",
    "\n",
    "logging.basicConfig(\n",
    "    format=\"%(asctime)-5.5s %(name)-30.30s %(levelname)-7.7s %(message)s\",\n",
    "    datefmt=\"%H:%M\",\n",
    "    level=logging.INFO,\n",
    ")\n",
    "\n",
    "sys.path.append(\"../../\")\n",
    "logging.basicConfig(\n",
    "    format=\"%(asctime)-5.5s %(name)-30.30s %(levelname)-7.7s %(message)s\",\n",
    "    datefmt=\"%H:%M\",\n",
    "    level=logging.DEBUG,\n",
    ")\n",
    "# from experiments.datasets import FFHQStyleGAN2DLoader\n",
    "from experiments.architectures.image_transforms import create_image_transform\n",
    "from experiments.architectures.vector_transforms import create_vector_transform\n",
    "from manifold_flow.flows import ManifoldFlow"
   ]
  },
  {
   "cell_type": "markdown",
   "metadata": {},
   "source": [
    "## Options"
   ]
  },
  {
   "cell_type": "code",
   "execution_count": 2,
   "metadata": {},
   "outputs": [],
   "source": [
    "transform = True\n"
   ]
  },
  {
   "cell_type": "markdown",
   "metadata": {},
   "source": [
    "## Preprocessing: Transform images and age info to numpy arrays (only need to do this once)"
   ]
  },
  {
   "cell_type": "code",
   "execution_count": null,
   "metadata": {},
   "outputs": [],
   "source": [
    "test_fraction = 0.1\n",
    "\n",
    "\n",
    "def process_images(filenames, ages, category=\"train\", subfolders=True, basedir=f\"../data/samples/imdb\"):\n",
    "    filenames_out = []\n",
    "    ages_out = []\n",
    "    \n",
    "    for i, (filename, age) in enumerate(zip(filenames, ages)):\n",
    "        img = PIL.Image.open(f\"{basedir}/raw/{filename}\")\n",
    "        \n",
    "        dims = np.array(img).shape\n",
    "        \n",
    "        if len(dims) != 3 or dims[2] != 3 or dims[0] != dims[1] or dims[0] < 64:  # Let's skip b/w and non-square images (the latter are often corrupted)\n",
    "            continue\n",
    "            \n",
    "        if age < 20 or age > 80:  # Let's limit it to this range\n",
    "            continue\n",
    "            \n",
    "        img = img.resize((64, 64), PIL.Image.ANTIALIAS)\n",
    "            \n",
    "        folder = f\"{category}/{(i // 1000):03d}\" if subfolders else category\n",
    "        img_filename_out = f\"{folder}/{category}_{i:05d}.png\"\n",
    "        \n",
    "        os.makedirs(f\"{basedir}/{folder}\", exist_ok=True)\n",
    "        img.save(f\"{basedir}/{img_filename_out}\")\n",
    "        filenames_out.append(img_filename_out)\n",
    "        ages_out.append(age)\n",
    "    \n",
    "    df_out = pandas.DataFrame({'age':ages_out, 'filename':filenames_out})\n",
    "    df_out.to_csv(f\"{category}.csv\")\n",
    "    \n",
    "    return df_out\n",
    "\n",
    "\n",
    "if transform:\n",
    "    df = pandas.read_csv(\"../data/samples/imdb/raw.csv\")\n",
    "    n = len(df)\n",
    "    n_test = int(round(n * test_fraction))\n",
    "    \n",
    "    np.random.seed(81357)\n",
    "    idx = list(range(n))\n",
    "    np.random.shuffle(idx)\n",
    "    idx_train, idx_test = idx[n_test:], idx[:n_test]\n",
    "    \n",
    "    age_train = np.array(df[\"age\"])[idx_train]\n",
    "    age_test = np.array(df[\"age\"])[idx_test]\n",
    "    paths_train = np.array(df[\"path\"])[idx_train]\n",
    "    paths_test = np.array(df[\"path\"])[idx_test]\n",
    "    \n",
    "    df_train = process_images(paths_train, age_train, \"train\")\n",
    "    df_test = process_images(paths_test, age_test, \"test\", subfolders=False)\n"
   ]
  },
  {
   "cell_type": "code",
   "execution_count": null,
   "metadata": {},
   "outputs": [],
   "source": [
    "fig = plt.figure(figsize=(5,5))\n",
    "\n",
    "plt.hist(df_train[\"age\"], range=(19.5, 80.5), bins=61, histtype=\"step\", color=\"C0\", label=\"Train\", density=True)\n",
    "plt.hist(df_test[\"age\"], range=(19.5, 80.5), bins=61, histtype=\"step\", color=\"C1\", label=\"Test\", density=True)\n",
    "\n",
    "plt.xlim(0., 100.)\n",
    "plt.ylim(0., None)\n",
    "\n",
    "plt.tight_layout()\n",
    "plt.show()\n"
   ]
  },
  {
   "cell_type": "code",
   "execution_count": null,
   "metadata": {},
   "outputs": [],
   "source": []
  }
 ],
 "metadata": {
  "kernelspec": {
   "display_name": "Python (ML)",
   "language": "python",
   "name": "ml"
  },
  "language_info": {
   "codemirror_mode": {
    "name": "ipython",
    "version": 3
   },
   "file_extension": ".py",
   "mimetype": "text/x-python",
   "name": "python",
   "nbconvert_exporter": "python",
   "pygments_lexer": "ipython3",
   "version": "3.7.3"
  }
 },
 "nbformat": 4,
 "nbformat_minor": 4
}
